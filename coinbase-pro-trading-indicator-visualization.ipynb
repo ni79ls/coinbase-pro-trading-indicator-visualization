{
 "cells": [
  {
   "cell_type": "markdown",
   "metadata": {},
   "source": [
    "# How to Connect to Coinbase Pro and Display Advanced Crypto Currency Trading Indicators?\n",
    "\n",
    "by Nils Ackermann\n",
    "\n",
    "## Introduction\n",
    "\n",
    "In case you want to get started as a crypto investor and you want to take matters into your own hands, it is important that you are able to connect to a currency exchange such as [pro.coinbase.com](https://pro.coinbase.com) to pull market data. In this notebook you will learn the following:\n",
    "\n",
    "- How to conveniently connect to coinbase pro via the cbpro Python library\n",
    "- How to load data from coinbase pro into a pandas dataframe\n",
    "- How to transform crypto currency data and add additional trading indicators (Simple Moving Average, Exponential Moving Average, MACD, MACD Signal, MACD Histogram) with the help of pandas\n",
    "- How to visualize crypto currency market data via interactive charts using plotly"
   ]
  },
  {
   "cell_type": "markdown",
   "metadata": {},
   "source": [
    "## Step 0 - Import Libraries and Set Constants\n",
    "\n",
    "We will use very basic python libraries. The only \"special\" one that you might not be aware of is [cbpro](https://github.com/danpaquin/coinbasepro-python). This is a library which allows you to conveniently connect to the Coinbase Pro API. Before we connect, we will set a few parameters like the base currency (e.g. USD or EUR) that we want to use as well as a list of cryptos that we want to invest in. Feel free to modify the list with your cryptos. "
   ]
  },
  {
   "cell_type": "code",
   "execution_count": 126,
   "metadata": {},
   "outputs": [],
   "source": [
    "import cbpro\n",
    "from datetime import datetime, timedelta\n",
    "import pandas as pd\n",
    "import numpy as np\n",
    "from math import trunc\n",
    "import plotly.graph_objects as go\n",
    "from plotly.subplots import make_subplots"
   ]
  },
  {
   "cell_type": "code",
   "execution_count": 127,
   "metadata": {},
   "outputs": [],
   "source": [
    "# Choose currency that should be used to display data\n",
    "FIAT_CURRENCIES = ['EUR','USD']\n",
    "MY_BASE_CURRENCY = FIAT_CURRENCIES[0]\n",
    "# I am only interested in a few currencies that I want to trade, so let's add them here:\n",
    "MY_CRYPTO_CURRENCIES = [\"BTC\",\"ETH\",\"LTC\",\"ALGO\",\"SHIB\",\"MANA\"] \n",
    "\n",
    "RED_COLOR = '#D61170'\n",
    "GREEN_COLOR = '#3FFA68'\n",
    "MACD_COLOR = '#A9B1F5'\n",
    "MACD_SIGNAL_COLOR = '#FFD1A3'\n",
    "CANDLE_INCREASE_COLOR = 'cyan'\n",
    "CANDLE_DECREASE_COLOR = 'gray'\n",
    "#PLOTLY_TEMPLATE = 'plotly_dark'\n",
    "PLOTLY_TEMPLATE = 'plotly'\n",
    "GRANULARITIES = ['daily','60min','15min','1min']"
   ]
  },
  {
   "cell_type": "markdown",
   "metadata": {},
   "source": [
    "## Step 1 - Establish Connection to Coinbase Pro\n",
    "\n",
    "Connecting to the Coinbase API is super simple with the help of the cbpro library. For this notebook, we only need to connect to the public Coinbase Pro API, therefore no authentication is needed."
   ]
  },
  {
   "cell_type": "code",
   "execution_count": 128,
   "metadata": {},
   "outputs": [
    {
     "name": "stdout",
     "output_type": "stream",
     "text": [
      "2021-12-17 12:43:27\n",
      "2021-12-17 13:43:27.103302\n"
     ]
    }
   ],
   "source": [
    "# Initiate public Coinbase Pro client\n",
    "public_client = cbpro.PublicClient()\n",
    "server_time = public_client.get_time()\n",
    "# Server time does not comply to iso format, therefore slight modification of string needed\n",
    "server_time_now = datetime.fromisoformat(server_time['iso'].replace('T', ' ', 1)[0:19])\n",
    "print(server_time_now)\n",
    "print(datetime.now())"
   ]
  },
  {
   "cell_type": "markdown",
   "metadata": {},
   "source": [
    "## Step 2 - Show Available Products (Crypto Currencies)\n",
    "\n",
    "First, we will review some basic information about the crypto currencies that we chose to trade on Coinbase Pro."
   ]
  },
  {
   "cell_type": "code",
   "execution_count": 129,
   "metadata": {},
   "outputs": [
    {
     "name": "stdout",
     "output_type": "stream",
     "text": [
      "\n",
      "Number of columns in the dataframe: 20\n",
      "Number of rows in the dataframe: 404\n",
      "\n"
     ]
    },
    {
     "data": {
      "text/html": [
       "<div>\n",
       "<style scoped>\n",
       "    .dataframe tbody tr th:only-of-type {\n",
       "        vertical-align: middle;\n",
       "    }\n",
       "\n",
       "    .dataframe tbody tr th {\n",
       "        vertical-align: top;\n",
       "    }\n",
       "\n",
       "    .dataframe thead th {\n",
       "        text-align: right;\n",
       "    }\n",
       "</style>\n",
       "<table border=\"1\" class=\"dataframe\">\n",
       "  <thead>\n",
       "    <tr style=\"text-align: right;\">\n",
       "      <th></th>\n",
       "      <th>id</th>\n",
       "      <th>quote_currency</th>\n",
       "      <th>base_min_size</th>\n",
       "      <th>base_max_size</th>\n",
       "    </tr>\n",
       "  </thead>\n",
       "  <tbody>\n",
       "    <tr>\n",
       "      <th>23</th>\n",
       "      <td>LTC-EUR</td>\n",
       "      <td>EUR</td>\n",
       "      <td>0.0042</td>\n",
       "      <td>2900</td>\n",
       "    </tr>\n",
       "    <tr>\n",
       "      <th>89</th>\n",
       "      <td>SHIB-EUR</td>\n",
       "      <td>EUR</td>\n",
       "      <td>18000</td>\n",
       "      <td>3900000000</td>\n",
       "    </tr>\n",
       "    <tr>\n",
       "      <th>230</th>\n",
       "      <td>ALGO-EUR</td>\n",
       "      <td>EUR</td>\n",
       "      <td>1</td>\n",
       "      <td>190000</td>\n",
       "    </tr>\n",
       "    <tr>\n",
       "      <th>312</th>\n",
       "      <td>ETH-EUR</td>\n",
       "      <td>EUR</td>\n",
       "      <td>0.00021</td>\n",
       "      <td>610</td>\n",
       "    </tr>\n",
       "    <tr>\n",
       "      <th>354</th>\n",
       "      <td>BTC-EUR</td>\n",
       "      <td>EUR</td>\n",
       "      <td>0.000015</td>\n",
       "      <td>57</td>\n",
       "    </tr>\n",
       "    <tr>\n",
       "      <th>370</th>\n",
       "      <td>MANA-EUR</td>\n",
       "      <td>EUR</td>\n",
       "      <td>0.31</td>\n",
       "      <td>68000</td>\n",
       "    </tr>\n",
       "  </tbody>\n",
       "</table>\n",
       "</div>"
      ],
      "text/plain": [
       "           id quote_currency base_min_size base_max_size\n",
       "23    LTC-EUR            EUR        0.0042          2900\n",
       "89   SHIB-EUR            EUR         18000    3900000000\n",
       "230  ALGO-EUR            EUR             1        190000\n",
       "312   ETH-EUR            EUR       0.00021           610\n",
       "354   BTC-EUR            EUR      0.000015            57\n",
       "370  MANA-EUR            EUR          0.31         68000"
      ]
     },
     "execution_count": 129,
     "metadata": {},
     "output_type": "execute_result"
    }
   ],
   "source": [
    "df_currencies = pd.DataFrame(public_client.get_products())\n",
    "print(\"\\nNumber of columns in the dataframe: %i\" % (df_currencies.shape[1]))\n",
    "print(\"Number of rows in the dataframe: %i\\n\" % (df_currencies.shape[0]))\n",
    "columns = list(df_currencies.columns)\n",
    "df_currencies[df_currencies.id.isin(list(map(lambda orig_string: orig_string+'-'+MY_BASE_CURRENCY, MY_CRYPTO_CURRENCIES)))][['id', 'quote_currency', 'base_min_size', 'base_max_size']]"
   ]
  },
  {
   "cell_type": "markdown",
   "metadata": {},
   "source": [
    "In case you later want to place orders via the Coinbase Pro API (not covered in this notebook), it is important to provide the right level of precision for the order volume. So let's calculate the allowed digits after the decimal point for each of our currencies:"
   ]
  },
  {
   "cell_type": "code",
   "execution_count": 130,
   "metadata": {},
   "outputs": [
    {
     "data": {
      "text/html": [
       "<div>\n",
       "<style scoped>\n",
       "    .dataframe tbody tr th:only-of-type {\n",
       "        vertical-align: middle;\n",
       "    }\n",
       "\n",
       "    .dataframe tbody tr th {\n",
       "        vertical-align: top;\n",
       "    }\n",
       "\n",
       "    .dataframe thead th {\n",
       "        text-align: right;\n",
       "    }\n",
       "</style>\n",
       "<table border=\"1\" class=\"dataframe\">\n",
       "  <thead>\n",
       "    <tr style=\"text-align: right;\">\n",
       "      <th></th>\n",
       "      <th>id</th>\n",
       "      <th>base_min_size</th>\n",
       "      <th>precision</th>\n",
       "      <th>allowed_decimals</th>\n",
       "    </tr>\n",
       "  </thead>\n",
       "  <tbody>\n",
       "    <tr>\n",
       "      <th>0</th>\n",
       "      <td>BTC-EUR</td>\n",
       "      <td>0.000015</td>\n",
       "      <td>0.000015</td>\n",
       "      <td>5</td>\n",
       "    </tr>\n",
       "    <tr>\n",
       "      <th>1</th>\n",
       "      <td>ETH-EUR</td>\n",
       "      <td>0.000210</td>\n",
       "      <td>0.000210</td>\n",
       "      <td>4</td>\n",
       "    </tr>\n",
       "    <tr>\n",
       "      <th>2</th>\n",
       "      <td>LTC-EUR</td>\n",
       "      <td>0.004200</td>\n",
       "      <td>0.004200</td>\n",
       "      <td>3</td>\n",
       "    </tr>\n",
       "    <tr>\n",
       "      <th>3</th>\n",
       "      <td>ALGO-EUR</td>\n",
       "      <td>1.000000</td>\n",
       "      <td>0.000000</td>\n",
       "      <td>0</td>\n",
       "    </tr>\n",
       "    <tr>\n",
       "      <th>4</th>\n",
       "      <td>SHIB-EUR</td>\n",
       "      <td>18000.000000</td>\n",
       "      <td>0.000000</td>\n",
       "      <td>0</td>\n",
       "    </tr>\n",
       "    <tr>\n",
       "      <th>5</th>\n",
       "      <td>MANA-EUR</td>\n",
       "      <td>0.310000</td>\n",
       "      <td>0.310000</td>\n",
       "      <td>1</td>\n",
       "    </tr>\n",
       "  </tbody>\n",
       "</table>\n",
       "</div>"
      ],
      "text/plain": [
       "         id  base_min_size  precision  allowed_decimals\n",
       "0   BTC-EUR       0.000015   0.000015                 5\n",
       "1   ETH-EUR       0.000210   0.000210                 4\n",
       "2   LTC-EUR       0.004200   0.004200                 3\n",
       "3  ALGO-EUR       1.000000   0.000000                 0\n",
       "4  SHIB-EUR   18000.000000   0.000000                 0\n",
       "5  MANA-EUR       0.310000   0.310000                 1"
      ]
     },
     "execution_count": 130,
     "metadata": {},
     "output_type": "execute_result"
    }
   ],
   "source": [
    "decimal_info_rows = []\n",
    "for currency in MY_CRYPTO_CURRENCIES:\n",
    "    product_id = currency+'-'+MY_BASE_CURRENCY\n",
    "    min_size = float(df_currencies.query('id == @product_id')['base_min_size'])\n",
    "    precision = min_size-trunc(min_size)\n",
    "    if precision == 0:\n",
    "        decimals = 0\n",
    "    elif 1 > precision > 0.1:\n",
    "        decimals = 1\n",
    "    elif 0.1 > precision > 0.01:\n",
    "        decimals = 2\n",
    "    elif 0.01 > precision > 0.001:\n",
    "        decimals = 3\n",
    "    elif 0.001 > precision > 0.0001:\n",
    "        decimals = 4\n",
    "    else:\n",
    "        decimals = 5\n",
    "    row_data = [product_id,min_size,precision,decimals]\n",
    "    decimal_info_rows.append(row_data)\n",
    "df_decimal_info = pd.DataFrame(decimal_info_rows, columns = ['id','base_min_size','precision','allowed_decimals'])\n",
    "df_decimal_info"
   ]
  },
  {
   "cell_type": "markdown",
   "metadata": {},
   "source": [
    "## Step 3 - Load 24h Stats\n",
    "\n",
    "Next, we will review the basic stats from the last 24 hours for each of the crypto currencies that we have defined in our list above. We will also add a custom column \"performance\" which will show us the performance from the beginning to the end of the reporting period. We will also do some nice formatting of the numbers for printing purposes."
   ]
  },
  {
   "cell_type": "code",
   "execution_count": 131,
   "metadata": {},
   "outputs": [
    {
     "name": "stdout",
     "output_type": "stream",
     "text": [
      "Performance within last 24 hours in EUR:\n"
     ]
    },
    {
     "data": {
      "text/html": [
       "<style  type=\"text/css\" >\n",
       "</style><table id=\"T_eee25064_5f36_11ec_81d0_784f43507d43\" ><thead>    <tr>        <th class=\"blank level0\" ></th>        <th class=\"col_heading level0 col0\" >open</th>        <th class=\"col_heading level0 col1\" >high</th>        <th class=\"col_heading level0 col2\" >low</th>        <th class=\"col_heading level0 col4\" >last</th>        <th class=\"col_heading level0 col6\" >currency</th>        <th class=\"col_heading level0 col7\" >performance</th>    </tr></thead><tbody>\n",
       "                <tr>\n",
       "                        <th id=\"T_eee25064_5f36_11ec_81d0_784f43507d43level0_row0\" class=\"row_heading level0 row0\" >BTC</th>\n",
       "                        <td id=\"T_eee25064_5f36_11ec_81d0_784f43507d43row0_col0\" class=\"data row0 col0\" >43,022.78€</td>\n",
       "                        <td id=\"T_eee25064_5f36_11ec_81d0_784f43507d43row0_col1\" class=\"data row0 col1\" >43,453.28€</td>\n",
       "                        <td id=\"T_eee25064_5f36_11ec_81d0_784f43507d43row0_col2\" class=\"data row0 col2\" >41,300.00€</td>\n",
       "                                <td id=\"T_eee25064_5f36_11ec_81d0_784f43507d43row0_col4\" class=\"data row0 col4\" >41,673.61€</td>\n",
       "                                <td id=\"T_eee25064_5f36_11ec_81d0_784f43507d43row0_col6\" class=\"data row0 col6\" >BTC</td>\n",
       "                        <td id=\"T_eee25064_5f36_11ec_81d0_784f43507d43row0_col7\" class=\"data row0 col7\" >-3.14%</td>\n",
       "            </tr>\n",
       "            <tr>\n",
       "                        <th id=\"T_eee25064_5f36_11ec_81d0_784f43507d43level0_row1\" class=\"row_heading level0 row1\" >ETH</th>\n",
       "                        <td id=\"T_eee25064_5f36_11ec_81d0_784f43507d43row1_col0\" class=\"data row1 col0\" >3,561.79€</td>\n",
       "                        <td id=\"T_eee25064_5f36_11ec_81d0_784f43507d43row1_col1\" class=\"data row1 col1\" >3,642.97€</td>\n",
       "                        <td id=\"T_eee25064_5f36_11ec_81d0_784f43507d43row1_col2\" class=\"data row1 col2\" >3,356.00€</td>\n",
       "                                <td id=\"T_eee25064_5f36_11ec_81d0_784f43507d43row1_col4\" class=\"data row1 col4\" >3,384.20€</td>\n",
       "                                <td id=\"T_eee25064_5f36_11ec_81d0_784f43507d43row1_col6\" class=\"data row1 col6\" >ETH</td>\n",
       "                        <td id=\"T_eee25064_5f36_11ec_81d0_784f43507d43row1_col7\" class=\"data row1 col7\" >-4.99%</td>\n",
       "            </tr>\n",
       "            <tr>\n",
       "                        <th id=\"T_eee25064_5f36_11ec_81d0_784f43507d43level0_row2\" class=\"row_heading level0 row2\" >LTC</th>\n",
       "                        <td id=\"T_eee25064_5f36_11ec_81d0_784f43507d43row2_col0\" class=\"data row2 col0\" >136.00€</td>\n",
       "                        <td id=\"T_eee25064_5f36_11ec_81d0_784f43507d43row2_col1\" class=\"data row2 col1\" >137.63€</td>\n",
       "                        <td id=\"T_eee25064_5f36_11ec_81d0_784f43507d43row2_col2\" class=\"data row2 col2\" >128.72€</td>\n",
       "                                <td id=\"T_eee25064_5f36_11ec_81d0_784f43507d43row2_col4\" class=\"data row2 col4\" >130.10€</td>\n",
       "                                <td id=\"T_eee25064_5f36_11ec_81d0_784f43507d43row2_col6\" class=\"data row2 col6\" >LTC</td>\n",
       "                        <td id=\"T_eee25064_5f36_11ec_81d0_784f43507d43row2_col7\" class=\"data row2 col7\" >-4.34%</td>\n",
       "            </tr>\n",
       "            <tr>\n",
       "                        <th id=\"T_eee25064_5f36_11ec_81d0_784f43507d43level0_row3\" class=\"row_heading level0 row3\" >ALGO</th>\n",
       "                        <td id=\"T_eee25064_5f36_11ec_81d0_784f43507d43row3_col0\" class=\"data row3 col0\" >1.27€</td>\n",
       "                        <td id=\"T_eee25064_5f36_11ec_81d0_784f43507d43row3_col1\" class=\"data row3 col1\" >1.29€</td>\n",
       "                        <td id=\"T_eee25064_5f36_11ec_81d0_784f43507d43row3_col2\" class=\"data row3 col2\" >1.20€</td>\n",
       "                                <td id=\"T_eee25064_5f36_11ec_81d0_784f43507d43row3_col4\" class=\"data row3 col4\" >1.20€</td>\n",
       "                                <td id=\"T_eee25064_5f36_11ec_81d0_784f43507d43row3_col6\" class=\"data row3 col6\" >ALGO</td>\n",
       "                        <td id=\"T_eee25064_5f36_11ec_81d0_784f43507d43row3_col7\" class=\"data row3 col7\" >-5.22%</td>\n",
       "            </tr>\n",
       "            <tr>\n",
       "                        <th id=\"T_eee25064_5f36_11ec_81d0_784f43507d43level0_row4\" class=\"row_heading level0 row4\" >SHIB</th>\n",
       "                        <td id=\"T_eee25064_5f36_11ec_81d0_784f43507d43row4_col0\" class=\"data row4 col0\" >0.00€</td>\n",
       "                        <td id=\"T_eee25064_5f36_11ec_81d0_784f43507d43row4_col1\" class=\"data row4 col1\" >0.00€</td>\n",
       "                        <td id=\"T_eee25064_5f36_11ec_81d0_784f43507d43row4_col2\" class=\"data row4 col2\" >0.00€</td>\n",
       "                                <td id=\"T_eee25064_5f36_11ec_81d0_784f43507d43row4_col4\" class=\"data row4 col4\" >0.00€</td>\n",
       "                                <td id=\"T_eee25064_5f36_11ec_81d0_784f43507d43row4_col6\" class=\"data row4 col6\" >SHIB</td>\n",
       "                        <td id=\"T_eee25064_5f36_11ec_81d0_784f43507d43row4_col7\" class=\"data row4 col7\" >-5.37%</td>\n",
       "            </tr>\n",
       "            <tr>\n",
       "                        <th id=\"T_eee25064_5f36_11ec_81d0_784f43507d43level0_row5\" class=\"row_heading level0 row5\" >MANA</th>\n",
       "                        <td id=\"T_eee25064_5f36_11ec_81d0_784f43507d43row5_col0\" class=\"data row5 col0\" >2.93€</td>\n",
       "                        <td id=\"T_eee25064_5f36_11ec_81d0_784f43507d43row5_col1\" class=\"data row5 col1\" >2.95€</td>\n",
       "                        <td id=\"T_eee25064_5f36_11ec_81d0_784f43507d43row5_col2\" class=\"data row5 col2\" >2.70€</td>\n",
       "                                <td id=\"T_eee25064_5f36_11ec_81d0_784f43507d43row5_col4\" class=\"data row5 col4\" >2.72€</td>\n",
       "                                <td id=\"T_eee25064_5f36_11ec_81d0_784f43507d43row5_col6\" class=\"data row5 col6\" >MANA</td>\n",
       "                        <td id=\"T_eee25064_5f36_11ec_81d0_784f43507d43row5_col7\" class=\"data row5 col7\" >-6.97%</td>\n",
       "            </tr>\n",
       "    </tbody></table>"
      ],
      "text/plain": [
       "<pandas.io.formats.style.Styler at 0x7fbcb5de1c70>"
      ]
     },
     "execution_count": 131,
     "metadata": {},
     "output_type": "execute_result"
    }
   ],
   "source": [
    "currency_rows = []\n",
    "for currency in MY_CRYPTO_CURRENCIES:\n",
    "    data = public_client.get_product_24hr_stats(currency+'-'+MY_BASE_CURRENCY)\n",
    "    currency_rows.append(data)\n",
    "df_24hstats = pd.DataFrame(currency_rows, index = MY_CRYPTO_CURRENCIES)\n",
    "df_24hstats['currency'] = df_24hstats.index\n",
    "df_24hstats['open'] = df_24hstats['open'].astype(float)\n",
    "df_24hstats['high'] = df_24hstats['high'].astype(float)\n",
    "df_24hstats['low'] = df_24hstats['low'].astype(float)\n",
    "df_24hstats['volume'] = df_24hstats['volume'].astype(float)\n",
    "df_24hstats['last'] = df_24hstats['last'].astype(float)\n",
    "df_24hstats['volume_30day'] = df_24hstats['volume_30day'].astype(float)\n",
    "df_24hstats['performance'] = ((df_24hstats['last']-df_24hstats['open']) / df_24hstats['open']) * 100\n",
    "df_24hstats_formatted = df_24hstats.copy()\n",
    "df_24hstats_formatted['performance'] = df_24hstats_formatted['performance'].apply(lambda x: \"{:.2f}%\".format((x)))\n",
    "df_24hstats_formatted['open'] = df_24hstats_formatted['open'].apply(lambda x: \"{:,.2f}€\".format((x)))\n",
    "df_24hstats_formatted['high'] = df_24hstats_formatted['high'].apply(lambda x: \"{:,.2f}€\".format((x)))\n",
    "df_24hstats_formatted['low'] = df_24hstats_formatted['low'].apply(lambda x: \"{:,.2f}€\".format((x)))\n",
    "df_24hstats_formatted['last'] = df_24hstats_formatted['last'].apply(lambda x: \"{:,.2f}€\".format((x)))\n",
    "print('Performance within last 24 hours in ' + MY_BASE_CURRENCY + ':')\n",
    "df_24hstats_formatted.style.hide_columns(['volume','volume_30day'])"
   ]
  },
  {
   "cell_type": "markdown",
   "metadata": {},
   "source": [
    "## Step 4 - Load Historic Data\n",
    "\n",
    "Above, we have only looked at the last 24 hours. Now we will download data using four different time slices and periods:\n",
    "- Daily data of the last 90 days\n",
    "- Hourly data of the last 300 hours\n",
    "- 15-minute data of the last 75 hours\n",
    "- 1-minute data of the last 2 hours\n",
    "\n",
    "All this data is stored in a pandas dataframe called df_history."
   ]
  },
  {
   "cell_type": "code",
   "execution_count": 132,
   "metadata": {},
   "outputs": [],
   "source": [
    "currency_history_rows = []\n",
    "for currency in MY_CRYPTO_CURRENCIES:\n",
    "    # Daily data:\n",
    "    start_date = (server_time_now - timedelta(days=90)).isoformat()\n",
    "    end_date = server_time_now.isoformat()\n",
    "    data = public_client.get_product_historic_rates(currency+'-'+MY_BASE_CURRENCY, start=start_date, end=end_date, granularity=86400)\n",
    "    [x.append(currency) for x in data]\n",
    "    [x.append('daily') for x in data]\n",
    "    currency_history_rows.extend(data)\n",
    "    # 60 minutes data:\n",
    "    start_date = (server_time_now - timedelta(hours=300)).isoformat()\n",
    "    end_date = server_time_now.isoformat()\n",
    "    data = public_client.get_product_historic_rates(currency+'-'+MY_BASE_CURRENCY, start=start_date, end=end_date, granularity=3600)\n",
    "    [x.append(currency) for x in data]\n",
    "    [x.append('60min') for x in data]\n",
    "    currency_history_rows.extend(data)\n",
    "    # 15 minutes data:\n",
    "    start_date = (server_time_now - timedelta(hours=75)).isoformat()\n",
    "    end_date = server_time_now.isoformat()\n",
    "    data = public_client.get_product_historic_rates(currency+'-'+MY_BASE_CURRENCY, start=start_date, end=end_date, granularity=900)\n",
    "    [x.append(currency) for x in data]\n",
    "    [x.append('15min') for x in data]\n",
    "    currency_history_rows.extend(data)\n",
    "    # 1 minutes data:\n",
    "    start_date = (server_time_now - timedelta(hours=2)).isoformat()\n",
    "    end_date = server_time_now.isoformat()\n",
    "    data = public_client.get_product_historic_rates(currency+'-'+MY_BASE_CURRENCY, start=start_date, end=end_date, granularity=60)\n",
    "    [x.append(currency) for x in data]\n",
    "    [x.append('1min') for x in data]\n",
    "    currency_history_rows.extend(data)\n",
    "df_history = pd.DataFrame(currency_history_rows)\n",
    "# Add column names in line with the Coinbase Pro documentation\n",
    "df_history.columns = ['time','low','high','open','close','volume','currency','granularity']\n",
    "# We will add a few more columns just for better readability\n",
    "df_history['date'] = pd.to_datetime(df_history['time'], unit='s')\n",
    "df_history['year'] = pd.DatetimeIndex(df_history['date']).year\n",
    "df_history['month'] = pd.DatetimeIndex(df_history['date']).month\n",
    "df_history['day'] = pd.DatetimeIndex(df_history['date']).day\n",
    "df_history['hour'] = pd.DatetimeIndex(df_history['date']).hour\n",
    "df_history['minute'] = pd.DatetimeIndex(df_history['date']).minute"
   ]
  },
  {
   "cell_type": "code",
   "execution_count": 133,
   "metadata": {},
   "outputs": [
    {
     "name": "stdout",
     "output_type": "stream",
     "text": [
      "Daily data included in df_history (in EUR):\n"
     ]
    },
    {
     "data": {
      "text/html": [
       "<style  type=\"text/css\" >\n",
       "</style><table id=\"T_f2f58856_5f36_11ec_81d0_784f43507d43\" ><thead>    <tr>        <th class=\"col_heading level0 col1\" >low</th>        <th class=\"col_heading level0 col2\" >high</th>        <th class=\"col_heading level0 col3\" >open</th>        <th class=\"col_heading level0 col4\" >close</th>        <th class=\"col_heading level0 col5\" >volume</th>        <th class=\"col_heading level0 col6\" >currency</th>        <th class=\"col_heading level0 col7\" >granularity</th>        <th class=\"col_heading level0 col9\" >year</th>        <th class=\"col_heading level0 col10\" >month</th>        <th class=\"col_heading level0 col11\" >day</th>    </tr></thead><tbody>\n",
       "                <tr>\n",
       "                                        <td id=\"T_f2f58856_5f36_11ec_81d0_784f43507d43row0_col1\" class=\"data row0 col1\" >41300.000000</td>\n",
       "                        <td id=\"T_f2f58856_5f36_11ec_81d0_784f43507d43row0_col2\" class=\"data row0 col2\" >42399.770000</td>\n",
       "                        <td id=\"T_f2f58856_5f36_11ec_81d0_784f43507d43row0_col3\" class=\"data row0 col3\" >42033.840000</td>\n",
       "                        <td id=\"T_f2f58856_5f36_11ec_81d0_784f43507d43row0_col4\" class=\"data row0 col4\" >41656.810000</td>\n",
       "                        <td id=\"T_f2f58856_5f36_11ec_81d0_784f43507d43row0_col5\" class=\"data row0 col5\" >356.816466</td>\n",
       "                        <td id=\"T_f2f58856_5f36_11ec_81d0_784f43507d43row0_col6\" class=\"data row0 col6\" >BTC</td>\n",
       "                        <td id=\"T_f2f58856_5f36_11ec_81d0_784f43507d43row0_col7\" class=\"data row0 col7\" >daily</td>\n",
       "                                <td id=\"T_f2f58856_5f36_11ec_81d0_784f43507d43row0_col9\" class=\"data row0 col9\" >2021</td>\n",
       "                        <td id=\"T_f2f58856_5f36_11ec_81d0_784f43507d43row0_col10\" class=\"data row0 col10\" >12</td>\n",
       "                        <td id=\"T_f2f58856_5f36_11ec_81d0_784f43507d43row0_col11\" class=\"data row0 col11\" >17</td>\n",
       "                            </tr>\n",
       "            <tr>\n",
       "                                        <td id=\"T_f2f58856_5f36_11ec_81d0_784f43507d43row1_col1\" class=\"data row1 col1\" >41957.660000</td>\n",
       "                        <td id=\"T_f2f58856_5f36_11ec_81d0_784f43507d43row1_col2\" class=\"data row1 col2\" >43800.000000</td>\n",
       "                        <td id=\"T_f2f58856_5f36_11ec_81d0_784f43507d43row1_col3\" class=\"data row1 col3\" >43291.000000</td>\n",
       "                        <td id=\"T_f2f58856_5f36_11ec_81d0_784f43507d43row1_col4\" class=\"data row1 col4\" >42034.100000</td>\n",
       "                        <td id=\"T_f2f58856_5f36_11ec_81d0_784f43507d43row1_col5\" class=\"data row1 col5\" >781.309516</td>\n",
       "                        <td id=\"T_f2f58856_5f36_11ec_81d0_784f43507d43row1_col6\" class=\"data row1 col6\" >BTC</td>\n",
       "                        <td id=\"T_f2f58856_5f36_11ec_81d0_784f43507d43row1_col7\" class=\"data row1 col7\" >daily</td>\n",
       "                                <td id=\"T_f2f58856_5f36_11ec_81d0_784f43507d43row1_col9\" class=\"data row1 col9\" >2021</td>\n",
       "                        <td id=\"T_f2f58856_5f36_11ec_81d0_784f43507d43row1_col10\" class=\"data row1 col10\" >12</td>\n",
       "                        <td id=\"T_f2f58856_5f36_11ec_81d0_784f43507d43row1_col11\" class=\"data row1 col11\" >16</td>\n",
       "                            </tr>\n",
       "            <tr>\n",
       "                                        <td id=\"T_f2f58856_5f36_11ec_81d0_784f43507d43row2_col1\" class=\"data row2 col1\" >41372.120000</td>\n",
       "                        <td id=\"T_f2f58856_5f36_11ec_81d0_784f43507d43row2_col2\" class=\"data row2 col2\" >43866.610000</td>\n",
       "                        <td id=\"T_f2f58856_5f36_11ec_81d0_784f43507d43row2_col3\" class=\"data row2 col3\" >42950.000000</td>\n",
       "                        <td id=\"T_f2f58856_5f36_11ec_81d0_784f43507d43row2_col4\" class=\"data row2 col4\" >43288.220000</td>\n",
       "                        <td id=\"T_f2f58856_5f36_11ec_81d0_784f43507d43row2_col5\" class=\"data row2 col5\" >1312.536409</td>\n",
       "                        <td id=\"T_f2f58856_5f36_11ec_81d0_784f43507d43row2_col6\" class=\"data row2 col6\" >BTC</td>\n",
       "                        <td id=\"T_f2f58856_5f36_11ec_81d0_784f43507d43row2_col7\" class=\"data row2 col7\" >daily</td>\n",
       "                                <td id=\"T_f2f58856_5f36_11ec_81d0_784f43507d43row2_col9\" class=\"data row2 col9\" >2021</td>\n",
       "                        <td id=\"T_f2f58856_5f36_11ec_81d0_784f43507d43row2_col10\" class=\"data row2 col10\" >12</td>\n",
       "                        <td id=\"T_f2f58856_5f36_11ec_81d0_784f43507d43row2_col11\" class=\"data row2 col11\" >15</td>\n",
       "                            </tr>\n",
       "            <tr>\n",
       "                                        <td id=\"T_f2f58856_5f36_11ec_81d0_784f43507d43row3_col1\" class=\"data row3 col1\" >41020.000000</td>\n",
       "                        <td id=\"T_f2f58856_5f36_11ec_81d0_784f43507d43row3_col2\" class=\"data row3 col2\" >43250.000000</td>\n",
       "                        <td id=\"T_f2f58856_5f36_11ec_81d0_784f43507d43row3_col3\" class=\"data row3 col3\" >41408.060000</td>\n",
       "                        <td id=\"T_f2f58856_5f36_11ec_81d0_784f43507d43row3_col4\" class=\"data row3 col4\" >42955.020000</td>\n",
       "                        <td id=\"T_f2f58856_5f36_11ec_81d0_784f43507d43row3_col5\" class=\"data row3 col5\" >1215.250863</td>\n",
       "                        <td id=\"T_f2f58856_5f36_11ec_81d0_784f43507d43row3_col6\" class=\"data row3 col6\" >BTC</td>\n",
       "                        <td id=\"T_f2f58856_5f36_11ec_81d0_784f43507d43row3_col7\" class=\"data row3 col7\" >daily</td>\n",
       "                                <td id=\"T_f2f58856_5f36_11ec_81d0_784f43507d43row3_col9\" class=\"data row3 col9\" >2021</td>\n",
       "                        <td id=\"T_f2f58856_5f36_11ec_81d0_784f43507d43row3_col10\" class=\"data row3 col10\" >12</td>\n",
       "                        <td id=\"T_f2f58856_5f36_11ec_81d0_784f43507d43row3_col11\" class=\"data row3 col11\" >14</td>\n",
       "                            </tr>\n",
       "            <tr>\n",
       "                                        <td id=\"T_f2f58856_5f36_11ec_81d0_784f43507d43row4_col1\" class=\"data row4 col1\" >40515.700000</td>\n",
       "                        <td id=\"T_f2f58856_5f36_11ec_81d0_784f43507d43row4_col2\" class=\"data row4 col2\" >44403.760000</td>\n",
       "                        <td id=\"T_f2f58856_5f36_11ec_81d0_784f43507d43row4_col3\" class=\"data row4 col3\" >44302.590000</td>\n",
       "                        <td id=\"T_f2f58856_5f36_11ec_81d0_784f43507d43row4_col4\" class=\"data row4 col4\" >41389.360000</td>\n",
       "                        <td id=\"T_f2f58856_5f36_11ec_81d0_784f43507d43row4_col5\" class=\"data row4 col5\" >1594.526252</td>\n",
       "                        <td id=\"T_f2f58856_5f36_11ec_81d0_784f43507d43row4_col6\" class=\"data row4 col6\" >BTC</td>\n",
       "                        <td id=\"T_f2f58856_5f36_11ec_81d0_784f43507d43row4_col7\" class=\"data row4 col7\" >daily</td>\n",
       "                                <td id=\"T_f2f58856_5f36_11ec_81d0_784f43507d43row4_col9\" class=\"data row4 col9\" >2021</td>\n",
       "                        <td id=\"T_f2f58856_5f36_11ec_81d0_784f43507d43row4_col10\" class=\"data row4 col10\" >12</td>\n",
       "                        <td id=\"T_f2f58856_5f36_11ec_81d0_784f43507d43row4_col11\" class=\"data row4 col11\" >13</td>\n",
       "                            </tr>\n",
       "    </tbody></table>"
      ],
      "text/plain": [
       "<pandas.io.formats.style.Styler at 0x7fbcb5ddd7c0>"
      ]
     },
     "execution_count": 133,
     "metadata": {},
     "output_type": "execute_result"
    }
   ],
   "source": [
    "print(f'Daily data included in df_history (in {MY_BASE_CURRENCY}):')\n",
    "df_history.query('granularity == \\'daily\\'').head(5).style.hide_index().hide_columns(['time','date','hour','minute'])"
   ]
  },
  {
   "cell_type": "code",
   "execution_count": 134,
   "metadata": {},
   "outputs": [
    {
     "name": "stdout",
     "output_type": "stream",
     "text": [
      "60 minute data included in df_history (in EUR):\n"
     ]
    },
    {
     "data": {
      "text/html": [
       "<style  type=\"text/css\" >\n",
       "</style><table id=\"T_f31112ec_5f36_11ec_81d0_784f43507d43\" ><thead>    <tr>        <th class=\"col_heading level0 col1\" >low</th>        <th class=\"col_heading level0 col2\" >high</th>        <th class=\"col_heading level0 col3\" >open</th>        <th class=\"col_heading level0 col4\" >close</th>        <th class=\"col_heading level0 col5\" >volume</th>        <th class=\"col_heading level0 col6\" >currency</th>        <th class=\"col_heading level0 col7\" >granularity</th>        <th class=\"col_heading level0 col8\" >date</th>        <th class=\"col_heading level0 col9\" >year</th>        <th class=\"col_heading level0 col10\" >month</th>        <th class=\"col_heading level0 col11\" >day</th>        <th class=\"col_heading level0 col12\" >hour</th>    </tr></thead><tbody>\n",
       "                <tr>\n",
       "                                        <td id=\"T_f31112ec_5f36_11ec_81d0_784f43507d43row0_col1\" class=\"data row0 col1\" >3.481000</td>\n",
       "                        <td id=\"T_f31112ec_5f36_11ec_81d0_784f43507d43row0_col2\" class=\"data row0 col2\" >3.559000</td>\n",
       "                        <td id=\"T_f31112ec_5f36_11ec_81d0_784f43507d43row0_col3\" class=\"data row0 col3\" >3.494000</td>\n",
       "                        <td id=\"T_f31112ec_5f36_11ec_81d0_784f43507d43row0_col4\" class=\"data row0 col4\" >3.539000</td>\n",
       "                        <td id=\"T_f31112ec_5f36_11ec_81d0_784f43507d43row0_col5\" class=\"data row0 col5\" >123182.730000</td>\n",
       "                        <td id=\"T_f31112ec_5f36_11ec_81d0_784f43507d43row0_col6\" class=\"data row0 col6\" >MANA</td>\n",
       "                        <td id=\"T_f31112ec_5f36_11ec_81d0_784f43507d43row0_col7\" class=\"data row0 col7\" >60min</td>\n",
       "                        <td id=\"T_f31112ec_5f36_11ec_81d0_784f43507d43row0_col8\" class=\"data row0 col8\" >2021-12-05 05:00:00</td>\n",
       "                        <td id=\"T_f31112ec_5f36_11ec_81d0_784f43507d43row0_col9\" class=\"data row0 col9\" >2021</td>\n",
       "                        <td id=\"T_f31112ec_5f36_11ec_81d0_784f43507d43row0_col10\" class=\"data row0 col10\" >12</td>\n",
       "                        <td id=\"T_f31112ec_5f36_11ec_81d0_784f43507d43row0_col11\" class=\"data row0 col11\" >5</td>\n",
       "                        <td id=\"T_f31112ec_5f36_11ec_81d0_784f43507d43row0_col12\" class=\"data row0 col12\" >5</td>\n",
       "                    </tr>\n",
       "            <tr>\n",
       "                                        <td id=\"T_f31112ec_5f36_11ec_81d0_784f43507d43row1_col1\" class=\"data row1 col1\" >3.430000</td>\n",
       "                        <td id=\"T_f31112ec_5f36_11ec_81d0_784f43507d43row1_col2\" class=\"data row1 col2\" >3.514000</td>\n",
       "                        <td id=\"T_f31112ec_5f36_11ec_81d0_784f43507d43row1_col3\" class=\"data row1 col3\" >3.484000</td>\n",
       "                        <td id=\"T_f31112ec_5f36_11ec_81d0_784f43507d43row1_col4\" class=\"data row1 col4\" >3.493000</td>\n",
       "                        <td id=\"T_f31112ec_5f36_11ec_81d0_784f43507d43row1_col5\" class=\"data row1 col5\" >139552.320000</td>\n",
       "                        <td id=\"T_f31112ec_5f36_11ec_81d0_784f43507d43row1_col6\" class=\"data row1 col6\" >MANA</td>\n",
       "                        <td id=\"T_f31112ec_5f36_11ec_81d0_784f43507d43row1_col7\" class=\"data row1 col7\" >60min</td>\n",
       "                        <td id=\"T_f31112ec_5f36_11ec_81d0_784f43507d43row1_col8\" class=\"data row1 col8\" >2021-12-05 04:00:00</td>\n",
       "                        <td id=\"T_f31112ec_5f36_11ec_81d0_784f43507d43row1_col9\" class=\"data row1 col9\" >2021</td>\n",
       "                        <td id=\"T_f31112ec_5f36_11ec_81d0_784f43507d43row1_col10\" class=\"data row1 col10\" >12</td>\n",
       "                        <td id=\"T_f31112ec_5f36_11ec_81d0_784f43507d43row1_col11\" class=\"data row1 col11\" >5</td>\n",
       "                        <td id=\"T_f31112ec_5f36_11ec_81d0_784f43507d43row1_col12\" class=\"data row1 col12\" >4</td>\n",
       "                    </tr>\n",
       "            <tr>\n",
       "                                        <td id=\"T_f31112ec_5f36_11ec_81d0_784f43507d43row2_col1\" class=\"data row2 col1\" >3.409000</td>\n",
       "                        <td id=\"T_f31112ec_5f36_11ec_81d0_784f43507d43row2_col2\" class=\"data row2 col2\" >3.509000</td>\n",
       "                        <td id=\"T_f31112ec_5f36_11ec_81d0_784f43507d43row2_col3\" class=\"data row2 col3\" >3.430000</td>\n",
       "                        <td id=\"T_f31112ec_5f36_11ec_81d0_784f43507d43row2_col4\" class=\"data row2 col4\" >3.481000</td>\n",
       "                        <td id=\"T_f31112ec_5f36_11ec_81d0_784f43507d43row2_col5\" class=\"data row2 col5\" >111933.340000</td>\n",
       "                        <td id=\"T_f31112ec_5f36_11ec_81d0_784f43507d43row2_col6\" class=\"data row2 col6\" >MANA</td>\n",
       "                        <td id=\"T_f31112ec_5f36_11ec_81d0_784f43507d43row2_col7\" class=\"data row2 col7\" >60min</td>\n",
       "                        <td id=\"T_f31112ec_5f36_11ec_81d0_784f43507d43row2_col8\" class=\"data row2 col8\" >2021-12-05 03:00:00</td>\n",
       "                        <td id=\"T_f31112ec_5f36_11ec_81d0_784f43507d43row2_col9\" class=\"data row2 col9\" >2021</td>\n",
       "                        <td id=\"T_f31112ec_5f36_11ec_81d0_784f43507d43row2_col10\" class=\"data row2 col10\" >12</td>\n",
       "                        <td id=\"T_f31112ec_5f36_11ec_81d0_784f43507d43row2_col11\" class=\"data row2 col11\" >5</td>\n",
       "                        <td id=\"T_f31112ec_5f36_11ec_81d0_784f43507d43row2_col12\" class=\"data row2 col12\" >3</td>\n",
       "                    </tr>\n",
       "            <tr>\n",
       "                                        <td id=\"T_f31112ec_5f36_11ec_81d0_784f43507d43row3_col1\" class=\"data row3 col1\" >3.408000</td>\n",
       "                        <td id=\"T_f31112ec_5f36_11ec_81d0_784f43507d43row3_col2\" class=\"data row3 col2\" >3.503000</td>\n",
       "                        <td id=\"T_f31112ec_5f36_11ec_81d0_784f43507d43row3_col3\" class=\"data row3 col3\" >3.484000</td>\n",
       "                        <td id=\"T_f31112ec_5f36_11ec_81d0_784f43507d43row3_col4\" class=\"data row3 col4\" >3.424000</td>\n",
       "                        <td id=\"T_f31112ec_5f36_11ec_81d0_784f43507d43row3_col5\" class=\"data row3 col5\" >136390.280000</td>\n",
       "                        <td id=\"T_f31112ec_5f36_11ec_81d0_784f43507d43row3_col6\" class=\"data row3 col6\" >MANA</td>\n",
       "                        <td id=\"T_f31112ec_5f36_11ec_81d0_784f43507d43row3_col7\" class=\"data row3 col7\" >60min</td>\n",
       "                        <td id=\"T_f31112ec_5f36_11ec_81d0_784f43507d43row3_col8\" class=\"data row3 col8\" >2021-12-05 02:00:00</td>\n",
       "                        <td id=\"T_f31112ec_5f36_11ec_81d0_784f43507d43row3_col9\" class=\"data row3 col9\" >2021</td>\n",
       "                        <td id=\"T_f31112ec_5f36_11ec_81d0_784f43507d43row3_col10\" class=\"data row3 col10\" >12</td>\n",
       "                        <td id=\"T_f31112ec_5f36_11ec_81d0_784f43507d43row3_col11\" class=\"data row3 col11\" >5</td>\n",
       "                        <td id=\"T_f31112ec_5f36_11ec_81d0_784f43507d43row3_col12\" class=\"data row3 col12\" >2</td>\n",
       "                    </tr>\n",
       "            <tr>\n",
       "                                        <td id=\"T_f31112ec_5f36_11ec_81d0_784f43507d43row4_col1\" class=\"data row4 col1\" >3.429000</td>\n",
       "                        <td id=\"T_f31112ec_5f36_11ec_81d0_784f43507d43row4_col2\" class=\"data row4 col2\" >3.516000</td>\n",
       "                        <td id=\"T_f31112ec_5f36_11ec_81d0_784f43507d43row4_col3\" class=\"data row4 col3\" >3.483000</td>\n",
       "                        <td id=\"T_f31112ec_5f36_11ec_81d0_784f43507d43row4_col4\" class=\"data row4 col4\" >3.485000</td>\n",
       "                        <td id=\"T_f31112ec_5f36_11ec_81d0_784f43507d43row4_col5\" class=\"data row4 col5\" >217089.600000</td>\n",
       "                        <td id=\"T_f31112ec_5f36_11ec_81d0_784f43507d43row4_col6\" class=\"data row4 col6\" >MANA</td>\n",
       "                        <td id=\"T_f31112ec_5f36_11ec_81d0_784f43507d43row4_col7\" class=\"data row4 col7\" >60min</td>\n",
       "                        <td id=\"T_f31112ec_5f36_11ec_81d0_784f43507d43row4_col8\" class=\"data row4 col8\" >2021-12-05 01:00:00</td>\n",
       "                        <td id=\"T_f31112ec_5f36_11ec_81d0_784f43507d43row4_col9\" class=\"data row4 col9\" >2021</td>\n",
       "                        <td id=\"T_f31112ec_5f36_11ec_81d0_784f43507d43row4_col10\" class=\"data row4 col10\" >12</td>\n",
       "                        <td id=\"T_f31112ec_5f36_11ec_81d0_784f43507d43row4_col11\" class=\"data row4 col11\" >5</td>\n",
       "                        <td id=\"T_f31112ec_5f36_11ec_81d0_784f43507d43row4_col12\" class=\"data row4 col12\" >1</td>\n",
       "                    </tr>\n",
       "    </tbody></table>"
      ],
      "text/plain": [
       "<pandas.io.formats.style.Styler at 0x7fbcb141f2b0>"
      ]
     },
     "execution_count": 134,
     "metadata": {},
     "output_type": "execute_result"
    }
   ],
   "source": [
    "print(f'60 minute data included in df_history (in {MY_BASE_CURRENCY}):')\n",
    "df_history.query('granularity == \\'60min\\'').tail(5).style.hide_index().hide_columns(['time','minute'])"
   ]
  },
  {
   "cell_type": "code",
   "execution_count": 135,
   "metadata": {},
   "outputs": [
    {
     "name": "stdout",
     "output_type": "stream",
     "text": [
      "15 minute data included in df_history (in EUR):\n"
     ]
    },
    {
     "data": {
      "text/html": [
       "<style  type=\"text/css\" >\n",
       "</style><table id=\"T_f323810c_5f36_11ec_81d0_784f43507d43\" ><thead>    <tr>        <th class=\"col_heading level0 col1\" >low</th>        <th class=\"col_heading level0 col2\" >high</th>        <th class=\"col_heading level0 col3\" >open</th>        <th class=\"col_heading level0 col4\" >close</th>        <th class=\"col_heading level0 col5\" >volume</th>        <th class=\"col_heading level0 col6\" >currency</th>        <th class=\"col_heading level0 col7\" >granularity</th>        <th class=\"col_heading level0 col8\" >date</th>        <th class=\"col_heading level0 col9\" >year</th>        <th class=\"col_heading level0 col10\" >month</th>        <th class=\"col_heading level0 col11\" >day</th>        <th class=\"col_heading level0 col12\" >hour</th>        <th class=\"col_heading level0 col13\" >minute</th>    </tr></thead><tbody>\n",
       "                <tr>\n",
       "                                        <td id=\"T_f323810c_5f36_11ec_81d0_784f43507d43row0_col1\" class=\"data row0 col1\" >2.802000</td>\n",
       "                        <td id=\"T_f323810c_5f36_11ec_81d0_784f43507d43row0_col2\" class=\"data row0 col2\" >2.824000</td>\n",
       "                        <td id=\"T_f323810c_5f36_11ec_81d0_784f43507d43row0_col3\" class=\"data row0 col3\" >2.808000</td>\n",
       "                        <td id=\"T_f323810c_5f36_11ec_81d0_784f43507d43row0_col4\" class=\"data row0 col4\" >2.824000</td>\n",
       "                        <td id=\"T_f323810c_5f36_11ec_81d0_784f43507d43row0_col5\" class=\"data row0 col5\" >6402.260000</td>\n",
       "                        <td id=\"T_f323810c_5f36_11ec_81d0_784f43507d43row0_col6\" class=\"data row0 col6\" >MANA</td>\n",
       "                        <td id=\"T_f323810c_5f36_11ec_81d0_784f43507d43row0_col7\" class=\"data row0 col7\" >15min</td>\n",
       "                        <td id=\"T_f323810c_5f36_11ec_81d0_784f43507d43row0_col8\" class=\"data row0 col8\" >2021-12-14 10:45:00</td>\n",
       "                        <td id=\"T_f323810c_5f36_11ec_81d0_784f43507d43row0_col9\" class=\"data row0 col9\" >2021</td>\n",
       "                        <td id=\"T_f323810c_5f36_11ec_81d0_784f43507d43row0_col10\" class=\"data row0 col10\" >12</td>\n",
       "                        <td id=\"T_f323810c_5f36_11ec_81d0_784f43507d43row0_col11\" class=\"data row0 col11\" >14</td>\n",
       "                        <td id=\"T_f323810c_5f36_11ec_81d0_784f43507d43row0_col12\" class=\"data row0 col12\" >10</td>\n",
       "                        <td id=\"T_f323810c_5f36_11ec_81d0_784f43507d43row0_col13\" class=\"data row0 col13\" >45</td>\n",
       "            </tr>\n",
       "            <tr>\n",
       "                                        <td id=\"T_f323810c_5f36_11ec_81d0_784f43507d43row1_col1\" class=\"data row1 col1\" >2.802000</td>\n",
       "                        <td id=\"T_f323810c_5f36_11ec_81d0_784f43507d43row1_col2\" class=\"data row1 col2\" >2.840000</td>\n",
       "                        <td id=\"T_f323810c_5f36_11ec_81d0_784f43507d43row1_col3\" class=\"data row1 col3\" >2.818000</td>\n",
       "                        <td id=\"T_f323810c_5f36_11ec_81d0_784f43507d43row1_col4\" class=\"data row1 col4\" >2.806000</td>\n",
       "                        <td id=\"T_f323810c_5f36_11ec_81d0_784f43507d43row1_col5\" class=\"data row1 col5\" >12441.810000</td>\n",
       "                        <td id=\"T_f323810c_5f36_11ec_81d0_784f43507d43row1_col6\" class=\"data row1 col6\" >MANA</td>\n",
       "                        <td id=\"T_f323810c_5f36_11ec_81d0_784f43507d43row1_col7\" class=\"data row1 col7\" >15min</td>\n",
       "                        <td id=\"T_f323810c_5f36_11ec_81d0_784f43507d43row1_col8\" class=\"data row1 col8\" >2021-12-14 10:30:00</td>\n",
       "                        <td id=\"T_f323810c_5f36_11ec_81d0_784f43507d43row1_col9\" class=\"data row1 col9\" >2021</td>\n",
       "                        <td id=\"T_f323810c_5f36_11ec_81d0_784f43507d43row1_col10\" class=\"data row1 col10\" >12</td>\n",
       "                        <td id=\"T_f323810c_5f36_11ec_81d0_784f43507d43row1_col11\" class=\"data row1 col11\" >14</td>\n",
       "                        <td id=\"T_f323810c_5f36_11ec_81d0_784f43507d43row1_col12\" class=\"data row1 col12\" >10</td>\n",
       "                        <td id=\"T_f323810c_5f36_11ec_81d0_784f43507d43row1_col13\" class=\"data row1 col13\" >30</td>\n",
       "            </tr>\n",
       "            <tr>\n",
       "                                        <td id=\"T_f323810c_5f36_11ec_81d0_784f43507d43row2_col1\" class=\"data row2 col1\" >2.810000</td>\n",
       "                        <td id=\"T_f323810c_5f36_11ec_81d0_784f43507d43row2_col2\" class=\"data row2 col2\" >2.827000</td>\n",
       "                        <td id=\"T_f323810c_5f36_11ec_81d0_784f43507d43row2_col3\" class=\"data row2 col3\" >2.813000</td>\n",
       "                        <td id=\"T_f323810c_5f36_11ec_81d0_784f43507d43row2_col4\" class=\"data row2 col4\" >2.816000</td>\n",
       "                        <td id=\"T_f323810c_5f36_11ec_81d0_784f43507d43row2_col5\" class=\"data row2 col5\" >8125.710000</td>\n",
       "                        <td id=\"T_f323810c_5f36_11ec_81d0_784f43507d43row2_col6\" class=\"data row2 col6\" >MANA</td>\n",
       "                        <td id=\"T_f323810c_5f36_11ec_81d0_784f43507d43row2_col7\" class=\"data row2 col7\" >15min</td>\n",
       "                        <td id=\"T_f323810c_5f36_11ec_81d0_784f43507d43row2_col8\" class=\"data row2 col8\" >2021-12-14 10:15:00</td>\n",
       "                        <td id=\"T_f323810c_5f36_11ec_81d0_784f43507d43row2_col9\" class=\"data row2 col9\" >2021</td>\n",
       "                        <td id=\"T_f323810c_5f36_11ec_81d0_784f43507d43row2_col10\" class=\"data row2 col10\" >12</td>\n",
       "                        <td id=\"T_f323810c_5f36_11ec_81d0_784f43507d43row2_col11\" class=\"data row2 col11\" >14</td>\n",
       "                        <td id=\"T_f323810c_5f36_11ec_81d0_784f43507d43row2_col12\" class=\"data row2 col12\" >10</td>\n",
       "                        <td id=\"T_f323810c_5f36_11ec_81d0_784f43507d43row2_col13\" class=\"data row2 col13\" >15</td>\n",
       "            </tr>\n",
       "            <tr>\n",
       "                                        <td id=\"T_f323810c_5f36_11ec_81d0_784f43507d43row3_col1\" class=\"data row3 col1\" >2.803000</td>\n",
       "                        <td id=\"T_f323810c_5f36_11ec_81d0_784f43507d43row3_col2\" class=\"data row3 col2\" >2.817000</td>\n",
       "                        <td id=\"T_f323810c_5f36_11ec_81d0_784f43507d43row3_col3\" class=\"data row3 col3\" >2.806000</td>\n",
       "                        <td id=\"T_f323810c_5f36_11ec_81d0_784f43507d43row3_col4\" class=\"data row3 col4\" >2.816000</td>\n",
       "                        <td id=\"T_f323810c_5f36_11ec_81d0_784f43507d43row3_col5\" class=\"data row3 col5\" >1758.620000</td>\n",
       "                        <td id=\"T_f323810c_5f36_11ec_81d0_784f43507d43row3_col6\" class=\"data row3 col6\" >MANA</td>\n",
       "                        <td id=\"T_f323810c_5f36_11ec_81d0_784f43507d43row3_col7\" class=\"data row3 col7\" >15min</td>\n",
       "                        <td id=\"T_f323810c_5f36_11ec_81d0_784f43507d43row3_col8\" class=\"data row3 col8\" >2021-12-14 10:00:00</td>\n",
       "                        <td id=\"T_f323810c_5f36_11ec_81d0_784f43507d43row3_col9\" class=\"data row3 col9\" >2021</td>\n",
       "                        <td id=\"T_f323810c_5f36_11ec_81d0_784f43507d43row3_col10\" class=\"data row3 col10\" >12</td>\n",
       "                        <td id=\"T_f323810c_5f36_11ec_81d0_784f43507d43row3_col11\" class=\"data row3 col11\" >14</td>\n",
       "                        <td id=\"T_f323810c_5f36_11ec_81d0_784f43507d43row3_col12\" class=\"data row3 col12\" >10</td>\n",
       "                        <td id=\"T_f323810c_5f36_11ec_81d0_784f43507d43row3_col13\" class=\"data row3 col13\" >0</td>\n",
       "            </tr>\n",
       "            <tr>\n",
       "                                        <td id=\"T_f323810c_5f36_11ec_81d0_784f43507d43row4_col1\" class=\"data row4 col1\" >2.799000</td>\n",
       "                        <td id=\"T_f323810c_5f36_11ec_81d0_784f43507d43row4_col2\" class=\"data row4 col2\" >2.821000</td>\n",
       "                        <td id=\"T_f323810c_5f36_11ec_81d0_784f43507d43row4_col3\" class=\"data row4 col3\" >2.809000</td>\n",
       "                        <td id=\"T_f323810c_5f36_11ec_81d0_784f43507d43row4_col4\" class=\"data row4 col4\" >2.801000</td>\n",
       "                        <td id=\"T_f323810c_5f36_11ec_81d0_784f43507d43row4_col5\" class=\"data row4 col5\" >2267.900000</td>\n",
       "                        <td id=\"T_f323810c_5f36_11ec_81d0_784f43507d43row4_col6\" class=\"data row4 col6\" >MANA</td>\n",
       "                        <td id=\"T_f323810c_5f36_11ec_81d0_784f43507d43row4_col7\" class=\"data row4 col7\" >15min</td>\n",
       "                        <td id=\"T_f323810c_5f36_11ec_81d0_784f43507d43row4_col8\" class=\"data row4 col8\" >2021-12-14 09:45:00</td>\n",
       "                        <td id=\"T_f323810c_5f36_11ec_81d0_784f43507d43row4_col9\" class=\"data row4 col9\" >2021</td>\n",
       "                        <td id=\"T_f323810c_5f36_11ec_81d0_784f43507d43row4_col10\" class=\"data row4 col10\" >12</td>\n",
       "                        <td id=\"T_f323810c_5f36_11ec_81d0_784f43507d43row4_col11\" class=\"data row4 col11\" >14</td>\n",
       "                        <td id=\"T_f323810c_5f36_11ec_81d0_784f43507d43row4_col12\" class=\"data row4 col12\" >9</td>\n",
       "                        <td id=\"T_f323810c_5f36_11ec_81d0_784f43507d43row4_col13\" class=\"data row4 col13\" >45</td>\n",
       "            </tr>\n",
       "    </tbody></table>"
      ],
      "text/plain": [
       "<pandas.io.formats.style.Styler at 0x7fbcb2ca4340>"
      ]
     },
     "execution_count": 135,
     "metadata": {},
     "output_type": "execute_result"
    }
   ],
   "source": [
    "print(f'15 minute data included in df_history (in {MY_BASE_CURRENCY}):')\n",
    "df_history.query('granularity == \\'15min\\'').tail(5).style.hide_index().hide_columns(['time'])"
   ]
  },
  {
   "cell_type": "code",
   "execution_count": 136,
   "metadata": {},
   "outputs": [
    {
     "name": "stdout",
     "output_type": "stream",
     "text": [
      "1 minute data included in df_history (in EUR):\n"
     ]
    },
    {
     "data": {
      "text/html": [
       "<style  type=\"text/css\" >\n",
       "</style><table id=\"T_f34aefc6_5f36_11ec_81d0_784f43507d43\" ><thead>    <tr>        <th class=\"col_heading level0 col1\" >low</th>        <th class=\"col_heading level0 col2\" >high</th>        <th class=\"col_heading level0 col3\" >open</th>        <th class=\"col_heading level0 col4\" >close</th>        <th class=\"col_heading level0 col5\" >volume</th>        <th class=\"col_heading level0 col6\" >currency</th>        <th class=\"col_heading level0 col7\" >granularity</th>        <th class=\"col_heading level0 col8\" >date</th>        <th class=\"col_heading level0 col9\" >year</th>        <th class=\"col_heading level0 col10\" >month</th>        <th class=\"col_heading level0 col11\" >day</th>        <th class=\"col_heading level0 col12\" >hour</th>        <th class=\"col_heading level0 col13\" >minute</th>    </tr></thead><tbody>\n",
       "                <tr>\n",
       "                                        <td id=\"T_f34aefc6_5f36_11ec_81d0_784f43507d43row0_col1\" class=\"data row0 col1\" >2.728000</td>\n",
       "                        <td id=\"T_f34aefc6_5f36_11ec_81d0_784f43507d43row0_col2\" class=\"data row0 col2\" >2.735000</td>\n",
       "                        <td id=\"T_f34aefc6_5f36_11ec_81d0_784f43507d43row0_col3\" class=\"data row0 col3\" >2.735000</td>\n",
       "                        <td id=\"T_f34aefc6_5f36_11ec_81d0_784f43507d43row0_col4\" class=\"data row0 col4\" >2.729000</td>\n",
       "                        <td id=\"T_f34aefc6_5f36_11ec_81d0_784f43507d43row0_col5\" class=\"data row0 col5\" >2519.380000</td>\n",
       "                        <td id=\"T_f34aefc6_5f36_11ec_81d0_784f43507d43row0_col6\" class=\"data row0 col6\" >MANA</td>\n",
       "                        <td id=\"T_f34aefc6_5f36_11ec_81d0_784f43507d43row0_col7\" class=\"data row0 col7\" >1min</td>\n",
       "                        <td id=\"T_f34aefc6_5f36_11ec_81d0_784f43507d43row0_col8\" class=\"data row0 col8\" >2021-12-17 10:49:00</td>\n",
       "                        <td id=\"T_f34aefc6_5f36_11ec_81d0_784f43507d43row0_col9\" class=\"data row0 col9\" >2021</td>\n",
       "                        <td id=\"T_f34aefc6_5f36_11ec_81d0_784f43507d43row0_col10\" class=\"data row0 col10\" >12</td>\n",
       "                        <td id=\"T_f34aefc6_5f36_11ec_81d0_784f43507d43row0_col11\" class=\"data row0 col11\" >17</td>\n",
       "                        <td id=\"T_f34aefc6_5f36_11ec_81d0_784f43507d43row0_col12\" class=\"data row0 col12\" >10</td>\n",
       "                        <td id=\"T_f34aefc6_5f36_11ec_81d0_784f43507d43row0_col13\" class=\"data row0 col13\" >49</td>\n",
       "            </tr>\n",
       "            <tr>\n",
       "                                        <td id=\"T_f34aefc6_5f36_11ec_81d0_784f43507d43row1_col1\" class=\"data row1 col1\" >2.735000</td>\n",
       "                        <td id=\"T_f34aefc6_5f36_11ec_81d0_784f43507d43row1_col2\" class=\"data row1 col2\" >2.737000</td>\n",
       "                        <td id=\"T_f34aefc6_5f36_11ec_81d0_784f43507d43row1_col3\" class=\"data row1 col3\" >2.736000</td>\n",
       "                        <td id=\"T_f34aefc6_5f36_11ec_81d0_784f43507d43row1_col4\" class=\"data row1 col4\" >2.735000</td>\n",
       "                        <td id=\"T_f34aefc6_5f36_11ec_81d0_784f43507d43row1_col5\" class=\"data row1 col5\" >629.650000</td>\n",
       "                        <td id=\"T_f34aefc6_5f36_11ec_81d0_784f43507d43row1_col6\" class=\"data row1 col6\" >MANA</td>\n",
       "                        <td id=\"T_f34aefc6_5f36_11ec_81d0_784f43507d43row1_col7\" class=\"data row1 col7\" >1min</td>\n",
       "                        <td id=\"T_f34aefc6_5f36_11ec_81d0_784f43507d43row1_col8\" class=\"data row1 col8\" >2021-12-17 10:48:00</td>\n",
       "                        <td id=\"T_f34aefc6_5f36_11ec_81d0_784f43507d43row1_col9\" class=\"data row1 col9\" >2021</td>\n",
       "                        <td id=\"T_f34aefc6_5f36_11ec_81d0_784f43507d43row1_col10\" class=\"data row1 col10\" >12</td>\n",
       "                        <td id=\"T_f34aefc6_5f36_11ec_81d0_784f43507d43row1_col11\" class=\"data row1 col11\" >17</td>\n",
       "                        <td id=\"T_f34aefc6_5f36_11ec_81d0_784f43507d43row1_col12\" class=\"data row1 col12\" >10</td>\n",
       "                        <td id=\"T_f34aefc6_5f36_11ec_81d0_784f43507d43row1_col13\" class=\"data row1 col13\" >48</td>\n",
       "            </tr>\n",
       "            <tr>\n",
       "                                        <td id=\"T_f34aefc6_5f36_11ec_81d0_784f43507d43row2_col1\" class=\"data row2 col1\" >2.728000</td>\n",
       "                        <td id=\"T_f34aefc6_5f36_11ec_81d0_784f43507d43row2_col2\" class=\"data row2 col2\" >2.735000</td>\n",
       "                        <td id=\"T_f34aefc6_5f36_11ec_81d0_784f43507d43row2_col3\" class=\"data row2 col3\" >2.728000</td>\n",
       "                        <td id=\"T_f34aefc6_5f36_11ec_81d0_784f43507d43row2_col4\" class=\"data row2 col4\" >2.735000</td>\n",
       "                        <td id=\"T_f34aefc6_5f36_11ec_81d0_784f43507d43row2_col5\" class=\"data row2 col5\" >1289.030000</td>\n",
       "                        <td id=\"T_f34aefc6_5f36_11ec_81d0_784f43507d43row2_col6\" class=\"data row2 col6\" >MANA</td>\n",
       "                        <td id=\"T_f34aefc6_5f36_11ec_81d0_784f43507d43row2_col7\" class=\"data row2 col7\" >1min</td>\n",
       "                        <td id=\"T_f34aefc6_5f36_11ec_81d0_784f43507d43row2_col8\" class=\"data row2 col8\" >2021-12-17 10:47:00</td>\n",
       "                        <td id=\"T_f34aefc6_5f36_11ec_81d0_784f43507d43row2_col9\" class=\"data row2 col9\" >2021</td>\n",
       "                        <td id=\"T_f34aefc6_5f36_11ec_81d0_784f43507d43row2_col10\" class=\"data row2 col10\" >12</td>\n",
       "                        <td id=\"T_f34aefc6_5f36_11ec_81d0_784f43507d43row2_col11\" class=\"data row2 col11\" >17</td>\n",
       "                        <td id=\"T_f34aefc6_5f36_11ec_81d0_784f43507d43row2_col12\" class=\"data row2 col12\" >10</td>\n",
       "                        <td id=\"T_f34aefc6_5f36_11ec_81d0_784f43507d43row2_col13\" class=\"data row2 col13\" >47</td>\n",
       "            </tr>\n",
       "            <tr>\n",
       "                                        <td id=\"T_f34aefc6_5f36_11ec_81d0_784f43507d43row3_col1\" class=\"data row3 col1\" >2.723000</td>\n",
       "                        <td id=\"T_f34aefc6_5f36_11ec_81d0_784f43507d43row3_col2\" class=\"data row3 col2\" >2.726000</td>\n",
       "                        <td id=\"T_f34aefc6_5f36_11ec_81d0_784f43507d43row3_col3\" class=\"data row3 col3\" >2.726000</td>\n",
       "                        <td id=\"T_f34aefc6_5f36_11ec_81d0_784f43507d43row3_col4\" class=\"data row3 col4\" >2.724000</td>\n",
       "                        <td id=\"T_f34aefc6_5f36_11ec_81d0_784f43507d43row3_col5\" class=\"data row3 col5\" >324.840000</td>\n",
       "                        <td id=\"T_f34aefc6_5f36_11ec_81d0_784f43507d43row3_col6\" class=\"data row3 col6\" >MANA</td>\n",
       "                        <td id=\"T_f34aefc6_5f36_11ec_81d0_784f43507d43row3_col7\" class=\"data row3 col7\" >1min</td>\n",
       "                        <td id=\"T_f34aefc6_5f36_11ec_81d0_784f43507d43row3_col8\" class=\"data row3 col8\" >2021-12-17 10:45:00</td>\n",
       "                        <td id=\"T_f34aefc6_5f36_11ec_81d0_784f43507d43row3_col9\" class=\"data row3 col9\" >2021</td>\n",
       "                        <td id=\"T_f34aefc6_5f36_11ec_81d0_784f43507d43row3_col10\" class=\"data row3 col10\" >12</td>\n",
       "                        <td id=\"T_f34aefc6_5f36_11ec_81d0_784f43507d43row3_col11\" class=\"data row3 col11\" >17</td>\n",
       "                        <td id=\"T_f34aefc6_5f36_11ec_81d0_784f43507d43row3_col12\" class=\"data row3 col12\" >10</td>\n",
       "                        <td id=\"T_f34aefc6_5f36_11ec_81d0_784f43507d43row3_col13\" class=\"data row3 col13\" >45</td>\n",
       "            </tr>\n",
       "            <tr>\n",
       "                                        <td id=\"T_f34aefc6_5f36_11ec_81d0_784f43507d43row4_col1\" class=\"data row4 col1\" >2.720000</td>\n",
       "                        <td id=\"T_f34aefc6_5f36_11ec_81d0_784f43507d43row4_col2\" class=\"data row4 col2\" >2.726000</td>\n",
       "                        <td id=\"T_f34aefc6_5f36_11ec_81d0_784f43507d43row4_col3\" class=\"data row4 col3\" >2.720000</td>\n",
       "                        <td id=\"T_f34aefc6_5f36_11ec_81d0_784f43507d43row4_col4\" class=\"data row4 col4\" >2.725000</td>\n",
       "                        <td id=\"T_f34aefc6_5f36_11ec_81d0_784f43507d43row4_col5\" class=\"data row4 col5\" >864.690000</td>\n",
       "                        <td id=\"T_f34aefc6_5f36_11ec_81d0_784f43507d43row4_col6\" class=\"data row4 col6\" >MANA</td>\n",
       "                        <td id=\"T_f34aefc6_5f36_11ec_81d0_784f43507d43row4_col7\" class=\"data row4 col7\" >1min</td>\n",
       "                        <td id=\"T_f34aefc6_5f36_11ec_81d0_784f43507d43row4_col8\" class=\"data row4 col8\" >2021-12-17 10:44:00</td>\n",
       "                        <td id=\"T_f34aefc6_5f36_11ec_81d0_784f43507d43row4_col9\" class=\"data row4 col9\" >2021</td>\n",
       "                        <td id=\"T_f34aefc6_5f36_11ec_81d0_784f43507d43row4_col10\" class=\"data row4 col10\" >12</td>\n",
       "                        <td id=\"T_f34aefc6_5f36_11ec_81d0_784f43507d43row4_col11\" class=\"data row4 col11\" >17</td>\n",
       "                        <td id=\"T_f34aefc6_5f36_11ec_81d0_784f43507d43row4_col12\" class=\"data row4 col12\" >10</td>\n",
       "                        <td id=\"T_f34aefc6_5f36_11ec_81d0_784f43507d43row4_col13\" class=\"data row4 col13\" >44</td>\n",
       "            </tr>\n",
       "    </tbody></table>"
      ],
      "text/plain": [
       "<pandas.io.formats.style.Styler at 0x7fbcb4b12d30>"
      ]
     },
     "execution_count": 136,
     "metadata": {},
     "output_type": "execute_result"
    }
   ],
   "source": [
    "print(f'1 minute data included in df_history (in {MY_BASE_CURRENCY}):')\n",
    "df_history.query('granularity == \\'1min\\'').tail(5).style.hide_index().hide_columns(['time'])"
   ]
  },
  {
   "cell_type": "markdown",
   "metadata": {},
   "source": [
    "## Step 5 - Get More Insights\n",
    "\n",
    "Let's add a few more parameters to the basic data (residing in df_history):\n",
    "\n",
    "- **SMA3 and SMA7 and SMA12** (Simple Moving Average over last 3 and 7 time slices): This is a price based, lagging (or reactive) indicator that displays the average price of a security over a certain period of time. Moving Averages smooth out the “noise” when interpreting charts. Noise is made up of fluctuations of both price and volume. Because a Moving Average is a lagging indicator and reacts to events that have already happened, it is not used as a predictive indicator but rather an interpretive one. Simple Moving Average is an unweighted Moving Average. This means that each period in the data set has equal importance and is weighted equally. \n",
    "- **EMA12 and EMA26** (Exponential Moving Average over last 12 and 26 time slices): The EMA has much less lag than the SMA because it puts a greater importance on more recent prices. It therefore turns quicker than the SMA. You can choose different time slices, but 12 and 26 are commonly used durations.\n",
    "- **MACD** (Moving Average Convergence/Divergence): A great indicator to identify the overall trend of any security (e.g. crypto currencies). It takes the difference between the short term EMA and the long term EMA. A positive MACD value is an indicator for a positive market trend. A negative MACD value is an indicator for a negative market trend. \n",
    "- **MACD Signal**: The MACD Signal line is the EMA over a certain set of time slices of the MACD line. Typically, the value is set to 9 time slices. \n",
    "- **MACD Histogram**: It is the difference between the MACD line and the MACD Signal line. A bullish crossover occurs when the MACD line crosses above the MACD Signal line. A bearish crossover occurs if the MACD line crosses below the MACD Signal line. \n",
    "- **Open to close performance**: For each time slice, the difference between the closing price and the opening price of that particular period is given as a percentage.\n",
    "- **High low span**: The deviation within one period between the highest and lowest price as a percentage. This shows the volatility within one time slice.\n",
    "- **Absolute performance of last 3 periods**: This indicator provides the performance over the last three time slices as an absolute value.\n",
    "- **Performance of last 3 periods in percentage**: This indicator provides the performance over the last three time slices as a relative value.\n",
    "- **Bull or Bear market**: It simply writes \"Bull\" in case the MACD Histogram is positive and it writes \"Bear\" in case the MACD Histogram value is negative. \n",
    "- **Market trend continued**: To identify a shift from Bull to Bear market and vice versa, this column holds \"True\" in case the trend from the previous time slice continues and \"False\" in case a trend change has occurred. \n",
    "\n",
    "The enhanced data is stored in a pandas dataframe called df_history_enhanced. We will again use the four different granularities defined above.\n",
    "\n",
    "In case you want to learn more about the different trading indicators, take a look [here](https://www.tradingview.com)."
   ]
  },
  {
   "cell_type": "code",
   "execution_count": 137,
   "metadata": {},
   "outputs": [
    {
     "data": {
      "text/html": [
       "<div>\n",
       "<style scoped>\n",
       "    .dataframe tbody tr th:only-of-type {\n",
       "        vertical-align: middle;\n",
       "    }\n",
       "\n",
       "    .dataframe tbody tr th {\n",
       "        vertical-align: top;\n",
       "    }\n",
       "\n",
       "    .dataframe thead th {\n",
       "        text-align: right;\n",
       "    }\n",
       "</style>\n",
       "<table border=\"1\" class=\"dataframe\">\n",
       "  <thead>\n",
       "    <tr style=\"text-align: right;\">\n",
       "      <th></th>\n",
       "      <th>time</th>\n",
       "      <th>low</th>\n",
       "      <th>high</th>\n",
       "      <th>open</th>\n",
       "      <th>close</th>\n",
       "      <th>volume</th>\n",
       "      <th>currency</th>\n",
       "      <th>granularity</th>\n",
       "      <th>date</th>\n",
       "      <th>year</th>\n",
       "      <th>...</th>\n",
       "      <th>EMA26</th>\n",
       "      <th>MACD</th>\n",
       "      <th>MACD_signal</th>\n",
       "      <th>macd_histogram</th>\n",
       "      <th>open_to_close_perf</th>\n",
       "      <th>high_low_span</th>\n",
       "      <th>open_perf_last_3_period_abs</th>\n",
       "      <th>open_perf_last_3_period_per</th>\n",
       "      <th>bull_bear</th>\n",
       "      <th>market_trend_continued</th>\n",
       "    </tr>\n",
       "  </thead>\n",
       "  <tbody>\n",
       "    <tr>\n",
       "      <th>2813</th>\n",
       "      <td>1639475100</td>\n",
       "      <td>1.1798</td>\n",
       "      <td>1.1877</td>\n",
       "      <td>1.1841</td>\n",
       "      <td>1.1824</td>\n",
       "      <td>18930.0</td>\n",
       "      <td>ALGO</td>\n",
       "      <td>15min</td>\n",
       "      <td>2021-12-14 09:45:00</td>\n",
       "      <td>2021</td>\n",
       "      <td>...</td>\n",
       "      <td>1.182400</td>\n",
       "      <td>0.000000</td>\n",
       "      <td>0.000000</td>\n",
       "      <td>0.000000</td>\n",
       "      <td>-0.001436</td>\n",
       "      <td>0.006652</td>\n",
       "      <td>NaN</td>\n",
       "      <td>NaN</td>\n",
       "      <td>Bull</td>\n",
       "      <td>False</td>\n",
       "    </tr>\n",
       "    <tr>\n",
       "      <th>2814</th>\n",
       "      <td>1639476000</td>\n",
       "      <td>1.1822</td>\n",
       "      <td>1.1961</td>\n",
       "      <td>1.1822</td>\n",
       "      <td>1.1920</td>\n",
       "      <td>13028.0</td>\n",
       "      <td>ALGO</td>\n",
       "      <td>15min</td>\n",
       "      <td>2021-12-14 10:00:00</td>\n",
       "      <td>2021</td>\n",
       "      <td>...</td>\n",
       "      <td>1.183111</td>\n",
       "      <td>0.000766</td>\n",
       "      <td>0.000153</td>\n",
       "      <td>0.000613</td>\n",
       "      <td>0.008290</td>\n",
       "      <td>0.011621</td>\n",
       "      <td>NaN</td>\n",
       "      <td>NaN</td>\n",
       "      <td>Bull</td>\n",
       "      <td>True</td>\n",
       "    </tr>\n",
       "    <tr>\n",
       "      <th>2815</th>\n",
       "      <td>1639476900</td>\n",
       "      <td>1.1882</td>\n",
       "      <td>1.1953</td>\n",
       "      <td>1.1928</td>\n",
       "      <td>1.1950</td>\n",
       "      <td>19494.0</td>\n",
       "      <td>ALGO</td>\n",
       "      <td>15min</td>\n",
       "      <td>2021-12-14 10:15:00</td>\n",
       "      <td>2021</td>\n",
       "      <td>...</td>\n",
       "      <td>1.183992</td>\n",
       "      <td>0.001596</td>\n",
       "      <td>0.000442</td>\n",
       "      <td>0.001155</td>\n",
       "      <td>0.001844</td>\n",
       "      <td>0.005940</td>\n",
       "      <td>NaN</td>\n",
       "      <td>NaN</td>\n",
       "      <td>Bull</td>\n",
       "      <td>True</td>\n",
       "    </tr>\n",
       "    <tr>\n",
       "      <th>2816</th>\n",
       "      <td>1639477800</td>\n",
       "      <td>1.1923</td>\n",
       "      <td>1.2015</td>\n",
       "      <td>1.1944</td>\n",
       "      <td>1.1937</td>\n",
       "      <td>30084.0</td>\n",
       "      <td>ALGO</td>\n",
       "      <td>15min</td>\n",
       "      <td>2021-12-14 10:30:00</td>\n",
       "      <td>2021</td>\n",
       "      <td>...</td>\n",
       "      <td>1.184711</td>\n",
       "      <td>0.002125</td>\n",
       "      <td>0.000778</td>\n",
       "      <td>0.001347</td>\n",
       "      <td>-0.000586</td>\n",
       "      <td>0.007657</td>\n",
       "      <td>-0.0019</td>\n",
       "      <td>-0.001605</td>\n",
       "      <td>Bull</td>\n",
       "      <td>True</td>\n",
       "    </tr>\n",
       "    <tr>\n",
       "      <th>2817</th>\n",
       "      <td>1639478700</td>\n",
       "      <td>1.1946</td>\n",
       "      <td>1.2032</td>\n",
       "      <td>1.1946</td>\n",
       "      <td>1.1985</td>\n",
       "      <td>18349.0</td>\n",
       "      <td>ALGO</td>\n",
       "      <td>15min</td>\n",
       "      <td>2021-12-14 10:45:00</td>\n",
       "      <td>2021</td>\n",
       "      <td>...</td>\n",
       "      <td>1.185732</td>\n",
       "      <td>0.002898</td>\n",
       "      <td>0.001202</td>\n",
       "      <td>0.001696</td>\n",
       "      <td>0.003265</td>\n",
       "      <td>0.007148</td>\n",
       "      <td>0.0106</td>\n",
       "      <td>0.008966</td>\n",
       "      <td>Bull</td>\n",
       "      <td>True</td>\n",
       "    </tr>\n",
       "    <tr>\n",
       "      <th>2818</th>\n",
       "      <td>1639479600</td>\n",
       "      <td>1.1950</td>\n",
       "      <td>1.2007</td>\n",
       "      <td>1.1995</td>\n",
       "      <td>1.1972</td>\n",
       "      <td>20842.0</td>\n",
       "      <td>ALGO</td>\n",
       "      <td>15min</td>\n",
       "      <td>2021-12-14 11:00:00</td>\n",
       "      <td>2021</td>\n",
       "      <td>...</td>\n",
       "      <td>1.186582</td>\n",
       "      <td>0.003367</td>\n",
       "      <td>0.001635</td>\n",
       "      <td>0.001732</td>\n",
       "      <td>-0.001917</td>\n",
       "      <td>0.004747</td>\n",
       "      <td>0.0016</td>\n",
       "      <td>0.001341</td>\n",
       "      <td>Bull</td>\n",
       "      <td>True</td>\n",
       "    </tr>\n",
       "    <tr>\n",
       "      <th>2819</th>\n",
       "      <td>1639480500</td>\n",
       "      <td>1.1936</td>\n",
       "      <td>1.2020</td>\n",
       "      <td>1.1967</td>\n",
       "      <td>1.1936</td>\n",
       "      <td>14931.0</td>\n",
       "      <td>ALGO</td>\n",
       "      <td>15min</td>\n",
       "      <td>2021-12-14 11:15:00</td>\n",
       "      <td>2021</td>\n",
       "      <td>...</td>\n",
       "      <td>1.187102</td>\n",
       "      <td>0.003409</td>\n",
       "      <td>0.001990</td>\n",
       "      <td>0.001419</td>\n",
       "      <td>-0.002590</td>\n",
       "      <td>0.006988</td>\n",
       "      <td>0.0002</td>\n",
       "      <td>0.000167</td>\n",
       "      <td>Bull</td>\n",
       "      <td>True</td>\n",
       "    </tr>\n",
       "    <tr>\n",
       "      <th>2820</th>\n",
       "      <td>1639481400</td>\n",
       "      <td>1.1923</td>\n",
       "      <td>1.1998</td>\n",
       "      <td>1.1937</td>\n",
       "      <td>1.1977</td>\n",
       "      <td>21500.0</td>\n",
       "      <td>ALGO</td>\n",
       "      <td>15min</td>\n",
       "      <td>2021-12-14 11:30:00</td>\n",
       "      <td>2021</td>\n",
       "      <td>...</td>\n",
       "      <td>1.187887</td>\n",
       "      <td>0.003730</td>\n",
       "      <td>0.002338</td>\n",
       "      <td>0.001392</td>\n",
       "      <td>0.003351</td>\n",
       "      <td>0.006251</td>\n",
       "      <td>0.0049</td>\n",
       "      <td>0.004102</td>\n",
       "      <td>Bull</td>\n",
       "      <td>True</td>\n",
       "    </tr>\n",
       "    <tr>\n",
       "      <th>2821</th>\n",
       "      <td>1639482300</td>\n",
       "      <td>1.1937</td>\n",
       "      <td>1.2110</td>\n",
       "      <td>1.1985</td>\n",
       "      <td>1.2110</td>\n",
       "      <td>39397.0</td>\n",
       "      <td>ALGO</td>\n",
       "      <td>15min</td>\n",
       "      <td>2021-12-14 11:45:00</td>\n",
       "      <td>2021</td>\n",
       "      <td>...</td>\n",
       "      <td>1.189599</td>\n",
       "      <td>0.005000</td>\n",
       "      <td>0.002870</td>\n",
       "      <td>0.002129</td>\n",
       "      <td>0.010430</td>\n",
       "      <td>0.014286</td>\n",
       "      <td>-0.0028</td>\n",
       "      <td>-0.002334</td>\n",
       "      <td>Bull</td>\n",
       "      <td>True</td>\n",
       "    </tr>\n",
       "    <tr>\n",
       "      <th>2822</th>\n",
       "      <td>1639483200</td>\n",
       "      <td>1.2104</td>\n",
       "      <td>1.2217</td>\n",
       "      <td>1.2109</td>\n",
       "      <td>1.2165</td>\n",
       "      <td>17962.0</td>\n",
       "      <td>ALGO</td>\n",
       "      <td>15min</td>\n",
       "      <td>2021-12-14 12:00:00</td>\n",
       "      <td>2021</td>\n",
       "      <td>...</td>\n",
       "      <td>1.191591</td>\n",
       "      <td>0.006377</td>\n",
       "      <td>0.003572</td>\n",
       "      <td>0.002805</td>\n",
       "      <td>0.004625</td>\n",
       "      <td>0.009249</td>\n",
       "      <td>-0.0030</td>\n",
       "      <td>-0.002507</td>\n",
       "      <td>Bull</td>\n",
       "      <td>True</td>\n",
       "    </tr>\n",
       "  </tbody>\n",
       "</table>\n",
       "<p>10 rows × 27 columns</p>\n",
       "</div>"
      ],
      "text/plain": [
       "            time     low    high    open   close   volume currency  \\\n",
       "2813  1639475100  1.1798  1.1877  1.1841  1.1824  18930.0     ALGO   \n",
       "2814  1639476000  1.1822  1.1961  1.1822  1.1920  13028.0     ALGO   \n",
       "2815  1639476900  1.1882  1.1953  1.1928  1.1950  19494.0     ALGO   \n",
       "2816  1639477800  1.1923  1.2015  1.1944  1.1937  30084.0     ALGO   \n",
       "2817  1639478700  1.1946  1.2032  1.1946  1.1985  18349.0     ALGO   \n",
       "2818  1639479600  1.1950  1.2007  1.1995  1.1972  20842.0     ALGO   \n",
       "2819  1639480500  1.1936  1.2020  1.1967  1.1936  14931.0     ALGO   \n",
       "2820  1639481400  1.1923  1.1998  1.1937  1.1977  21500.0     ALGO   \n",
       "2821  1639482300  1.1937  1.2110  1.1985  1.2110  39397.0     ALGO   \n",
       "2822  1639483200  1.2104  1.2217  1.2109  1.2165  17962.0     ALGO   \n",
       "\n",
       "     granularity                date  year  ...     EMA26      MACD  \\\n",
       "2813       15min 2021-12-14 09:45:00  2021  ...  1.182400  0.000000   \n",
       "2814       15min 2021-12-14 10:00:00  2021  ...  1.183111  0.000766   \n",
       "2815       15min 2021-12-14 10:15:00  2021  ...  1.183992  0.001596   \n",
       "2816       15min 2021-12-14 10:30:00  2021  ...  1.184711  0.002125   \n",
       "2817       15min 2021-12-14 10:45:00  2021  ...  1.185732  0.002898   \n",
       "2818       15min 2021-12-14 11:00:00  2021  ...  1.186582  0.003367   \n",
       "2819       15min 2021-12-14 11:15:00  2021  ...  1.187102  0.003409   \n",
       "2820       15min 2021-12-14 11:30:00  2021  ...  1.187887  0.003730   \n",
       "2821       15min 2021-12-14 11:45:00  2021  ...  1.189599  0.005000   \n",
       "2822       15min 2021-12-14 12:00:00  2021  ...  1.191591  0.006377   \n",
       "\n",
       "      MACD_signal  macd_histogram  open_to_close_perf  high_low_span  \\\n",
       "2813     0.000000        0.000000           -0.001436       0.006652   \n",
       "2814     0.000153        0.000613            0.008290       0.011621   \n",
       "2815     0.000442        0.001155            0.001844       0.005940   \n",
       "2816     0.000778        0.001347           -0.000586       0.007657   \n",
       "2817     0.001202        0.001696            0.003265       0.007148   \n",
       "2818     0.001635        0.001732           -0.001917       0.004747   \n",
       "2819     0.001990        0.001419           -0.002590       0.006988   \n",
       "2820     0.002338        0.001392            0.003351       0.006251   \n",
       "2821     0.002870        0.002129            0.010430       0.014286   \n",
       "2822     0.003572        0.002805            0.004625       0.009249   \n",
       "\n",
       "      open_perf_last_3_period_abs  open_perf_last_3_period_per  bull_bear  \\\n",
       "2813                          NaN                          NaN       Bull   \n",
       "2814                          NaN                          NaN       Bull   \n",
       "2815                          NaN                          NaN       Bull   \n",
       "2816                      -0.0019                    -0.001605       Bull   \n",
       "2817                       0.0106                     0.008966       Bull   \n",
       "2818                       0.0016                     0.001341       Bull   \n",
       "2819                       0.0002                     0.000167       Bull   \n",
       "2820                       0.0049                     0.004102       Bull   \n",
       "2821                      -0.0028                    -0.002334       Bull   \n",
       "2822                      -0.0030                    -0.002507       Bull   \n",
       "\n",
       "      market_trend_continued  \n",
       "2813                   False  \n",
       "2814                    True  \n",
       "2815                    True  \n",
       "2816                    True  \n",
       "2817                    True  \n",
       "2818                    True  \n",
       "2819                    True  \n",
       "2820                    True  \n",
       "2821                    True  \n",
       "2822                    True  \n",
       "\n",
       "[10 rows x 27 columns]"
      ]
     },
     "execution_count": 137,
     "metadata": {},
     "output_type": "execute_result"
    }
   ],
   "source": [
    "currency_history_rows_enhanced = []\n",
    "for currency in MY_CRYPTO_CURRENCIES:\n",
    "    for granularity in GRANULARITIES:\n",
    "        df_history_currency = df_history.query('granularity == @granularity & currency == @currency').copy()\n",
    "        # Oldest to newest date sorting needed for SMA calculation\n",
    "        df_history_currency = df_history_currency.sort_values(['date'], ascending=True)\n",
    "        df_history_currency['SMA3'] = df_history_currency['close'].rolling(window=3).mean()\n",
    "        df_history_currency['SMA7'] = df_history_currency['close'].rolling(window=7).mean()\n",
    "        df_history_currency['EMA12'] = df_history_currency['close'].ewm(span=12, adjust=False).mean()\n",
    "        df_history_currency['EMA26'] = df_history_currency['close'].ewm(span=26, adjust=False).mean()\n",
    "        df_history_currency['MACD'] = df_history_currency['EMA12'] - df_history_currency['EMA26']\n",
    "        df_history_currency['MACD_signal'] = df_history_currency['MACD'].ewm(span=9, adjust=False).mean()\n",
    "        df_history_currency['macd_histogram'] = ((df_history_currency['MACD']-df_history_currency['MACD_signal']))\n",
    "        df_history_currency['open_to_close_perf'] = ((df_history_currency['close']-df_history_currency['open']) / df_history_currency['open'])\n",
    "        df_history_currency['high_low_span'] = ((df_history_currency['high']-df_history_currency['low']) / df_history_currency['high'])\n",
    "        df_history_currency['open_perf_last_3_period_abs'] = df_history_currency['open'].rolling(window=4).apply(lambda x: x.iloc[1] - x.iloc[0])\n",
    "        df_history_currency['open_perf_last_3_period_per'] = df_history_currency['open'].rolling(window=4).apply(lambda x: (x.iloc[1] - x.iloc[0])/x.iloc[0])\n",
    "        df_history_currency['bull_bear'] = np.where(df_history_currency['macd_histogram']< 0, 'Bear', 'Bull')\n",
    "        currency_history_rows_enhanced.append(df_history_currency)\n",
    "df_history_enhanced = pd.concat(currency_history_rows_enhanced, ignore_index=True)\n",
    "# Last step to tag changes in market trends from one period to the other (sorting important)\n",
    "df_history_enhanced = df_history_enhanced.sort_values(['currency','granularity','date'], ascending=True)\n",
    "df_history_enhanced['market_trend_continued'] = df_history_enhanced.bull_bear.eq(df_history_enhanced.bull_bear.shift()) & df_history_enhanced.currency.eq(df_history_enhanced.currency.shift()) & df_history_enhanced.granularity.eq(df_history_enhanced.granularity.shift())\n",
    "df_history_enhanced.head(10)"
   ]
  },
  {
   "cell_type": "markdown",
   "metadata": {},
   "source": [
    "## Step 6 - Print Out Selected Information\n",
    "\n",
    "Now, we can leverage the data which is available in df_history_enhanced to compile some basic parameters that we might want to use in a personal dashboard down the line."
   ]
  },
  {
   "cell_type": "code",
   "execution_count": 138,
   "metadata": {},
   "outputs": [
    {
     "data": {
      "text/html": [
       "<div>\n",
       "<style scoped>\n",
       "    .dataframe tbody tr th:only-of-type {\n",
       "        vertical-align: middle;\n",
       "    }\n",
       "\n",
       "    .dataframe tbody tr th {\n",
       "        vertical-align: top;\n",
       "    }\n",
       "\n",
       "    .dataframe thead th {\n",
       "        text-align: right;\n",
       "    }\n",
       "</style>\n",
       "<table border=\"1\" class=\"dataframe\">\n",
       "  <thead>\n",
       "    <tr style=\"text-align: right;\">\n",
       "      <th>currency</th>\n",
       "      <th>BTC</th>\n",
       "      <th>ETH</th>\n",
       "      <th>LTC</th>\n",
       "      <th>ALGO</th>\n",
       "      <th>SHIB</th>\n",
       "      <th>MANA</th>\n",
       "    </tr>\n",
       "  </thead>\n",
       "  <tbody>\n",
       "    <tr>\n",
       "      <th>current_val</th>\n",
       "      <td>41,673.61€</td>\n",
       "      <td>3,384.20€</td>\n",
       "      <td>130.10€</td>\n",
       "      <td>1.20€</td>\n",
       "      <td>0.00€</td>\n",
       "      <td>2.72€</td>\n",
       "    </tr>\n",
       "    <tr>\n",
       "      <th>1min_trend</th>\n",
       "      <td>Bear</td>\n",
       "      <td>Bear</td>\n",
       "      <td>Bear</td>\n",
       "      <td>Bear</td>\n",
       "      <td>Bull</td>\n",
       "      <td>Bear</td>\n",
       "    </tr>\n",
       "    <tr>\n",
       "      <th>1min_prev_trend</th>\n",
       "      <td>Bear</td>\n",
       "      <td>Bear</td>\n",
       "      <td>Bear</td>\n",
       "      <td>Bull</td>\n",
       "      <td>Bull</td>\n",
       "      <td>Bear</td>\n",
       "    </tr>\n",
       "    <tr>\n",
       "      <th>15min_trend</th>\n",
       "      <td>Bull</td>\n",
       "      <td>Bull</td>\n",
       "      <td>Bull</td>\n",
       "      <td>Bull</td>\n",
       "      <td>Bear</td>\n",
       "      <td>Bear</td>\n",
       "    </tr>\n",
       "    <tr>\n",
       "      <th>15min_prev_trend</th>\n",
       "      <td>Bull</td>\n",
       "      <td>Bull</td>\n",
       "      <td>Bull</td>\n",
       "      <td>Bull</td>\n",
       "      <td>Bear</td>\n",
       "      <td>Bear</td>\n",
       "    </tr>\n",
       "    <tr>\n",
       "      <th>60min_trend</th>\n",
       "      <td>Bear</td>\n",
       "      <td>Bear</td>\n",
       "      <td>Bear</td>\n",
       "      <td>Bear</td>\n",
       "      <td>Bear</td>\n",
       "      <td>Bear</td>\n",
       "    </tr>\n",
       "    <tr>\n",
       "      <th>60min_prev_trend</th>\n",
       "      <td>Bear</td>\n",
       "      <td>Bear</td>\n",
       "      <td>Bear</td>\n",
       "      <td>Bear</td>\n",
       "      <td>Bear</td>\n",
       "      <td>Bear</td>\n",
       "    </tr>\n",
       "    <tr>\n",
       "      <th>24h_low</th>\n",
       "      <td>41,300.00€</td>\n",
       "      <td>3,356.00€</td>\n",
       "      <td>128.72€</td>\n",
       "      <td>1.20€</td>\n",
       "      <td>0.00€</td>\n",
       "      <td>2.70€</td>\n",
       "    </tr>\n",
       "    <tr>\n",
       "      <th>30day_low</th>\n",
       "      <td>39,505.01€</td>\n",
       "      <td>3,203.90€</td>\n",
       "      <td>120.00€</td>\n",
       "      <td>1.16€</td>\n",
       "      <td>0.00€</td>\n",
       "      <td>2.50€</td>\n",
       "    </tr>\n",
       "    <tr>\n",
       "      <th>90day_low</th>\n",
       "      <td>33,768.45€</td>\n",
       "      <td>2,260.06€</td>\n",
       "      <td>119.71€</td>\n",
       "      <td>1.16€</td>\n",
       "      <td>0.00€</td>\n",
       "      <td>0.51€</td>\n",
       "    </tr>\n",
       "    <tr>\n",
       "      <th>24h_high</th>\n",
       "      <td>43,453.28€</td>\n",
       "      <td>3,642.97€</td>\n",
       "      <td>137.63€</td>\n",
       "      <td>1.29€</td>\n",
       "      <td>0.00€</td>\n",
       "      <td>2.95€</td>\n",
       "    </tr>\n",
       "    <tr>\n",
       "      <th>30day_high</th>\n",
       "      <td>53,869.48€</td>\n",
       "      <td>4,224.19€</td>\n",
       "      <td>205.31€</td>\n",
       "      <td>2.49€</td>\n",
       "      <td>0.00€</td>\n",
       "      <td>5.27€</td>\n",
       "    </tr>\n",
       "    <tr>\n",
       "      <th>90day_high</th>\n",
       "      <td>59,704.84€</td>\n",
       "      <td>4,224.19€</td>\n",
       "      <td>260.20€</td>\n",
       "      <td>2.49€</td>\n",
       "      <td>0.00€</td>\n",
       "      <td>5.27€</td>\n",
       "    </tr>\n",
       "    <tr>\n",
       "      <th>90day_max_high_low_span</th>\n",
       "      <td>17.20%</td>\n",
       "      <td>14.70%</td>\n",
       "      <td>28.40%</td>\n",
       "      <td>41.40%</td>\n",
       "      <td>31.30%</td>\n",
       "      <td>74.80%</td>\n",
       "    </tr>\n",
       "    <tr>\n",
       "      <th>12day_max_high_low_span</th>\n",
       "      <td>4.30%</td>\n",
       "      <td>5.50%</td>\n",
       "      <td>5.20%</td>\n",
       "      <td>8.40%</td>\n",
       "      <td>8.10%</td>\n",
       "      <td>8.50%</td>\n",
       "    </tr>\n",
       "  </tbody>\n",
       "</table>\n",
       "</div>"
      ],
      "text/plain": [
       "currency                        BTC        ETH      LTC    ALGO    SHIB  \\\n",
       "current_val              41,673.61€  3,384.20€  130.10€   1.20€   0.00€   \n",
       "1min_trend                     Bear       Bear     Bear    Bear    Bull   \n",
       "1min_prev_trend                Bear       Bear     Bear    Bull    Bull   \n",
       "15min_trend                    Bull       Bull     Bull    Bull    Bear   \n",
       "15min_prev_trend               Bull       Bull     Bull    Bull    Bear   \n",
       "60min_trend                    Bear       Bear     Bear    Bear    Bear   \n",
       "60min_prev_trend               Bear       Bear     Bear    Bear    Bear   \n",
       "24h_low                  41,300.00€  3,356.00€  128.72€   1.20€   0.00€   \n",
       "30day_low                39,505.01€  3,203.90€  120.00€   1.16€   0.00€   \n",
       "90day_low                33,768.45€  2,260.06€  119.71€   1.16€   0.00€   \n",
       "24h_high                 43,453.28€  3,642.97€  137.63€   1.29€   0.00€   \n",
       "30day_high               53,869.48€  4,224.19€  205.31€   2.49€   0.00€   \n",
       "90day_high               59,704.84€  4,224.19€  260.20€   2.49€   0.00€   \n",
       "90day_max_high_low_span      17.20%     14.70%   28.40%  41.40%  31.30%   \n",
       "12day_max_high_low_span       4.30%      5.50%    5.20%   8.40%   8.10%   \n",
       "\n",
       "currency                   MANA  \n",
       "current_val               2.72€  \n",
       "1min_trend                 Bear  \n",
       "1min_prev_trend            Bear  \n",
       "15min_trend                Bear  \n",
       "15min_prev_trend           Bear  \n",
       "60min_trend                Bear  \n",
       "60min_prev_trend           Bear  \n",
       "24h_low                   2.70€  \n",
       "30day_low                 2.50€  \n",
       "90day_low                 0.51€  \n",
       "24h_high                  2.95€  \n",
       "30day_high                5.27€  \n",
       "90day_high                5.27€  \n",
       "90day_max_high_low_span  74.80%  \n",
       "12day_max_high_low_span   8.50%  "
      ]
     },
     "execution_count": 138,
     "metadata": {},
     "output_type": "execute_result"
    }
   ],
   "source": [
    "additional_info_rows = []\n",
    "for currency in MY_CRYPTO_CURRENCIES:\n",
    "    df_history_enhanced = df_history_enhanced.sort_values(['date'], ascending=True) #oldest to newest\n",
    "    row_data = [currency,\n",
    "        float(df_24hstats.query('currency == @currency')['last'].to_string(index=False)), # current value\n",
    "        df_history_enhanced.query('granularity == \\'1min\\' and currency == @currency').tail(1)['bull_bear'].to_string(index=False), # 1min market trend\n",
    "        df_history_enhanced.query('granularity == \\'1min\\' and currency == @currency').iloc[-2]['bull_bear'], # prev 1min market trend\n",
    "        df_history_enhanced.query('granularity == \\'15min\\' and currency == @currency').tail(1)['bull_bear'].to_string(index=False), #15min market trend\n",
    "        df_history_enhanced.query('granularity == \\'15min\\' and currency == @currency').iloc[-2]['bull_bear'], # prev 15min market trend\n",
    "        df_history_enhanced.query('granularity == \\'60min\\' and currency == @currency').tail(1)['bull_bear'].to_string(index=False), # 60min market trend\n",
    "        df_history_enhanced.query('granularity == \\'60min\\' and currency == @currency').iloc[-2]['bull_bear'], # prev 60min market trend\n",
    "        df_history_enhanced.query('granularity == \\'60min\\' and currency == @currency').tail(24)['low'].min(), # lowest last 24h\n",
    "        df_history_enhanced.query('granularity == \\'daily\\' and currency == @currency').tail(30)['low'].min(), # lowest last 30d\n",
    "        df_history_enhanced.query('granularity == \\'daily\\' and currency == @currency').tail(90)['low'].min(), # lowest last 90d\n",
    "        df_history_enhanced.query('granularity == \\'60min\\' and currency == @currency').tail(24)['high'].max(), # highest last 24h\n",
    "        df_history_enhanced.query('granularity == \\'daily\\' and currency == @currency').tail(30)['high'].max(), # highest last 30d\n",
    "        df_history_enhanced.query('granularity == \\'daily\\' and currency == @currency').tail(90)['high'].max(), # highest last 90d\n",
    "        round(df_history_enhanced.query('granularity == \\'daily\\' and currency == @currency').tail(90)['high_low_span'].max(),3), # max daily high/low difference last 90d\n",
    "        round(df_history_enhanced.query('granularity == \\'60min\\' and currency == @currency')['high_low_span'].max(),3) # max daily high/low difference last 12.5d\n",
    "        ]\n",
    "    additional_info_rows.append(row_data)\n",
    "df_additional_info = pd.DataFrame(additional_info_rows, columns = ['currency',\n",
    "                                                                    'current_val',\n",
    "                                                                    '1min_trend',\n",
    "                                                                    '1min_prev_trend',\n",
    "                                                                    '15min_trend',\n",
    "                                                                    '15min_prev_trend',\n",
    "                                                                    '60min_trend',\n",
    "                                                                    '60min_prev_trend',\n",
    "                                                                    '24h_low',\n",
    "                                                                    '30day_low',\n",
    "                                                                    '90day_low',\n",
    "                                                                    '24h_high',\n",
    "                                                                    '30day_high',\n",
    "                                                                    '90day_high',\n",
    "                                                                    '90day_max_high_low_span',\n",
    "                                                                    '12day_max_high_low_span'])\n",
    "df_additional_info['current_val'] = df_additional_info['current_val'].apply(lambda x: \"{:,.2f}€\".format((x)))\n",
    "df_additional_info['24h_low'] = df_additional_info['24h_low'].apply(lambda x: \"{:,.2f}€\".format((x)))\n",
    "df_additional_info['30day_low'] = df_additional_info['30day_low'].apply(lambda x: \"{:,.2f}€\".format((x)))\n",
    "df_additional_info['90day_low'] = df_additional_info['90day_low'].apply(lambda x: \"{:,.2f}€\".format((x)))\n",
    "df_additional_info['24h_high'] = df_additional_info['24h_high'].apply(lambda x: \"{:,.2f}€\".format((x)))\n",
    "df_additional_info['30day_high'] = df_additional_info['30day_high'].apply(lambda x: \"{:,.2f}€\".format((x)))\n",
    "df_additional_info['90day_high'] = df_additional_info['90day_high'].apply(lambda x: \"{:,.2f}€\".format((x)))\n",
    "df_additional_info['90day_max_high_low_span'] = (df_additional_info['90day_max_high_low_span']*100).apply(lambda x: \"{:.2f}%\".format((x)))\n",
    "df_additional_info['12day_max_high_low_span'] = (df_additional_info['12day_max_high_low_span']*100).apply(lambda x: \"{:.2f}%\".format((x)))\n",
    "df_additional_info.set_index('currency').transpose()"
   ]
  },
  {
   "cell_type": "markdown",
   "metadata": {},
   "source": [
    "## Step 7 - Visualize Data\n",
    "\n",
    "For visualization, we will use the powerful [plotly](https://plotly.com) library. It will give us the possibility to slice and dice data in an interactive way. Exactly what we need for an in-depth analysis of our daily market data.\n",
    "\n",
    "### Simple Visualization\n",
    "\n",
    "First, let's create a simple OHLC (Open, High, Low, Close) candle stick chart for each of our currencies."
   ]
  },
  {
   "cell_type": "code",
   "execution_count": 139,
   "metadata": {},
   "outputs": [
    {
     "data": {
      "application/vnd.plotly.v1+json": {
       "config": {
        "plotlyServerURL": "https://plot.ly"
       },
       "data": [
        {
         "close": [
          41508.36,
          41471.97,
          41498.62,
          41547.75,
          41559.89,
          41530.96,
          41562.57,
          41548.34,
          41500,
          41472.85,
          41459.25,
          41454.48,
          41427.35,
          41464.66,
          41445.33,
          41474.58,
          41466.33,
          41518.1,
          41517.55,
          41521.16,
          41515.25,
          41543.19,
          41585.52,
          41616.84,
          41604.89,
          41687,
          41677.42,
          41682.41,
          41675.56,
          41673.92,
          41676.9,
          41676.31,
          41648.21,
          41645.95,
          41663.8,
          41669.29,
          41649.13,
          41651.94,
          41694.5,
          41690.51,
          41692.62,
          41718.74,
          41729.56,
          41774.35,
          41778.07,
          41765.67,
          41780.63,
          41749.28,
          41727.74,
          41735.83,
          41721.95,
          41704.31,
          41705.55,
          41709.67,
          41694.52,
          41707.88,
          41716.91,
          41707.34,
          41668.51,
          41724.73,
          41740.69,
          41690.6,
          41707.56,
          41678.94,
          41652.56,
          41655.42,
          41621.41,
          41610.22,
          41593.17,
          41590.21,
          41603.67,
          41610.78,
          41619.65,
          41647.93,
          41629.5,
          41653.21,
          41699.38,
          41723.36,
          41728.83,
          41696.31,
          41683.52,
          41652.96,
          41661.64,
          41623.2,
          41596.2,
          41565.83,
          41582.83,
          41545.53,
          41548.47,
          41561.81,
          41640.67,
          41647.94,
          41717.82,
          41737.01,
          41781.44,
          41765.31,
          41731.45,
          41712.75,
          41748.29,
          41844.06,
          41845.92,
          41833.6,
          41794.6,
          41780.93,
          41807.33,
          41773.17,
          41770.64,
          41764.74,
          41730.37,
          41722.11,
          41700.86,
          41719.36,
          41741.6,
          41748.12,
          41772.79,
          41694.06,
          41679.59,
          41655.36,
          41625.68,
          41656.81
         ],
         "decreasing": {
          "fillcolor": "gray",
          "line": {
           "color": "gray"
          }
         },
         "high": [
          41529.34,
          41523.18,
          41505.47,
          41550.68,
          41582.08,
          41565.26,
          41571.26,
          41575.54,
          41554,
          41495.53,
          41475.34,
          41482.87,
          41450.9,
          41464.66,
          41486.44,
          41482.79,
          41475.51,
          41526.1,
          41548.21,
          41545.45,
          41534.19,
          41543.19,
          41586.62,
          41616.84,
          41621.27,
          41687.09,
          41710.86,
          41686.79,
          41734.36,
          41689.09,
          41693.89,
          41696.86,
          41695.92,
          41668.32,
          41663.8,
          41678.45,
          41686.44,
          41664.66,
          41702.66,
          41724.87,
          41718.83,
          41718.74,
          41730.33,
          41824.59,
          41803.55,
          41786.14,
          41802.25,
          41792.53,
          41766.02,
          41737.33,
          41736.7,
          41736.05,
          41708.6,
          41715,
          41730.81,
          41717.92,
          41726.36,
          41728.11,
          41712.74,
          41745.45,
          41742.46,
          41740.07,
          41722.23,
          41708.93,
          41680.88,
          41686.9,
          41643.21,
          41618.72,
          41599.99,
          41610.63,
          41620.72,
          41612.09,
          41631.45,
          41654.3,
          41651.19,
          41654.41,
          41712.75,
          41727.03,
          41741.7,
          41729.39,
          41715.6,
          41677.2,
          41696.46,
          41676.16,
          41638.35,
          41602.86,
          41598.75,
          41588.18,
          41563,
          41587.4,
          41646.95,
          41647.94,
          41739.89,
          41769.86,
          41783.33,
          41793.55,
          41769.53,
          41750.14,
          41748.29,
          41877.94,
          41861.56,
          41859.66,
          41840.89,
          41799.51,
          41826.23,
          41812.73,
          41779.26,
          41779.03,
          41764.74,
          41739.49,
          41730.02,
          41725.39,
          41759.44,
          41757.34,
          41772.79,
          41769.76,
          41695.57,
          41694.55,
          41677.1,
          41660.28
         ],
         "increasing": {
          "fillcolor": "cyan",
          "line": {
           "color": "cyan"
          }
         },
         "low": [
          41498.78,
          41464.32,
          41456.36,
          41495.18,
          41544.91,
          41515.61,
          41515.94,
          41542.01,
          41500,
          41457.38,
          41452.26,
          41448.26,
          41407.45,
          41406.49,
          41427.9,
          41431.09,
          41415.06,
          41479.06,
          41505.91,
          41478.41,
          41515.25,
          41483.52,
          41553.54,
          41551.21,
          41590.14,
          41600.2,
          41662.99,
          41636.64,
          41675.56,
          41643.31,
          41656,
          41668.23,
          41626.7,
          41633.01,
          41637.27,
          41660.99,
          41639.35,
          41646.27,
          41638.63,
          41690.51,
          41678.17,
          41683.89,
          41707.43,
          41723.7,
          41776.86,
          41761.6,
          41743.76,
          41748.43,
          41691.77,
          41725.03,
          41718.01,
          41668.36,
          41696.85,
          41688,
          41694.52,
          41691.02,
          41693.07,
          41706.77,
          41668.51,
          41669,
          41706.55,
          41677.54,
          41684.4,
          41676.08,
          41652.23,
          41634.1,
          41569.46,
          41576.25,
          41565.54,
          41590.2,
          41581.57,
          41596.37,
          41597.29,
          41601.93,
          41629.24,
          41620.65,
          41625.98,
          41690.85,
          41715.86,
          41689.66,
          41674.75,
          41648.3,
          41646.75,
          41608.06,
          41583.91,
          41565.75,
          41569.59,
          41524.61,
          41500,
          41544.58,
          41568.56,
          41610.34,
          41649.79,
          41730.56,
          41746.21,
          41744.8,
          41718.77,
          41700.88,
          41700.64,
          41725.89,
          41824.34,
          41824.79,
          41776.58,
          41780.93,
          41772.41,
          41756.81,
          41753.02,
          41741.64,
          41726.33,
          41720.54,
          41700,
          41696.25,
          41717.76,
          41737.31,
          41748.7,
          41687.45,
          41660.33,
          41647.64,
          41624.42,
          41639.24
         ],
         "name": "OHLC",
         "open": [
          41498.78,
          41511.79,
          41466.92,
          41495.18,
          41548.92,
          41564.64,
          41519.05,
          41558.8,
          41547.4,
          41485.54,
          41470.44,
          41458.43,
          41448.6,
          41427.34,
          41461.32,
          41442.68,
          41464.73,
          41481.57,
          41523.4,
          41527.05,
          41520.6,
          41497.41,
          41553.54,
          41580.01,
          41621.27,
          41602.88,
          41670.07,
          41667.24,
          41689.48,
          41671.66,
          41675.73,
          41685.86,
          41676.82,
          41649.22,
          41647.35,
          41673.14,
          41651.87,
          41649.02,
          41658.78,
          41692.8,
          41704.13,
          41689.55,
          41712.48,
          41731.2,
          41780.62,
          41777.59,
          41759.89,
          41787.25,
          41746.59,
          41728.07,
          41736.42,
          41729.05,
          41702.29,
          41699.79,
          41706.04,
          41691.02,
          41706.62,
          41708.21,
          41712.43,
          41669.53,
          41742.46,
          41738.66,
          41693.62,
          41703.36,
          41671.72,
          41637.84,
          41642.85,
          41618.35,
          41599.99,
          41592.18,
          41581.57,
          41596.7,
          41614.28,
          41607.44,
          41636.76,
          41626.11,
          41637.3,
          41694.76,
          41725.63,
          41728.3,
          41688.85,
          41676.59,
          41650.07,
          41663.37,
          41629.46,
          41592.88,
          41569.6,
          41583.51,
          41543.13,
          41552.2,
          41578.93,
          41628.37,
          41651.69,
          41736.79,
          41746.21,
          41792.13,
          41769.53,
          41733.99,
          41703.07,
          41750.55,
          41860.86,
          41851.98,
          41840.87,
          41798.24,
          41777.41,
          41807.33,
          41768.54,
          41750.9,
          41764.74,
          41733.48,
          41724.53,
          41700.11,
          41720.06,
          41743.8,
          41748.7,
          41769.47,
          41691.72,
          41683.85,
          41658.53,
          41639.24
         ],
         "type": "candlestick",
         "x": [
          "2021-12-17T10:44:00",
          "2021-12-17T10:45:00",
          "2021-12-17T10:46:00",
          "2021-12-17T10:47:00",
          "2021-12-17T10:48:00",
          "2021-12-17T10:49:00",
          "2021-12-17T10:50:00",
          "2021-12-17T10:51:00",
          "2021-12-17T10:52:00",
          "2021-12-17T10:53:00",
          "2021-12-17T10:54:00",
          "2021-12-17T10:55:00",
          "2021-12-17T10:56:00",
          "2021-12-17T10:57:00",
          "2021-12-17T10:58:00",
          "2021-12-17T10:59:00",
          "2021-12-17T11:00:00",
          "2021-12-17T11:01:00",
          "2021-12-17T11:02:00",
          "2021-12-17T11:03:00",
          "2021-12-17T11:04:00",
          "2021-12-17T11:05:00",
          "2021-12-17T11:06:00",
          "2021-12-17T11:07:00",
          "2021-12-17T11:08:00",
          "2021-12-17T11:09:00",
          "2021-12-17T11:10:00",
          "2021-12-17T11:11:00",
          "2021-12-17T11:12:00",
          "2021-12-17T11:13:00",
          "2021-12-17T11:14:00",
          "2021-12-17T11:15:00",
          "2021-12-17T11:16:00",
          "2021-12-17T11:17:00",
          "2021-12-17T11:18:00",
          "2021-12-17T11:19:00",
          "2021-12-17T11:20:00",
          "2021-12-17T11:21:00",
          "2021-12-17T11:22:00",
          "2021-12-17T11:23:00",
          "2021-12-17T11:24:00",
          "2021-12-17T11:25:00",
          "2021-12-17T11:26:00",
          "2021-12-17T11:27:00",
          "2021-12-17T11:28:00",
          "2021-12-17T11:29:00",
          "2021-12-17T11:30:00",
          "2021-12-17T11:31:00",
          "2021-12-17T11:32:00",
          "2021-12-17T11:33:00",
          "2021-12-17T11:34:00",
          "2021-12-17T11:35:00",
          "2021-12-17T11:36:00",
          "2021-12-17T11:37:00",
          "2021-12-17T11:38:00",
          "2021-12-17T11:39:00",
          "2021-12-17T11:40:00",
          "2021-12-17T11:41:00",
          "2021-12-17T11:42:00",
          "2021-12-17T11:43:00",
          "2021-12-17T11:44:00",
          "2021-12-17T11:45:00",
          "2021-12-17T11:46:00",
          "2021-12-17T11:47:00",
          "2021-12-17T11:48:00",
          "2021-12-17T11:49:00",
          "2021-12-17T11:50:00",
          "2021-12-17T11:51:00",
          "2021-12-17T11:52:00",
          "2021-12-17T11:53:00",
          "2021-12-17T11:54:00",
          "2021-12-17T11:55:00",
          "2021-12-17T11:56:00",
          "2021-12-17T11:57:00",
          "2021-12-17T11:58:00",
          "2021-12-17T11:59:00",
          "2021-12-17T12:00:00",
          "2021-12-17T12:01:00",
          "2021-12-17T12:02:00",
          "2021-12-17T12:03:00",
          "2021-12-17T12:04:00",
          "2021-12-17T12:05:00",
          "2021-12-17T12:06:00",
          "2021-12-17T12:07:00",
          "2021-12-17T12:08:00",
          "2021-12-17T12:09:00",
          "2021-12-17T12:10:00",
          "2021-12-17T12:11:00",
          "2021-12-17T12:12:00",
          "2021-12-17T12:13:00",
          "2021-12-17T12:14:00",
          "2021-12-17T12:15:00",
          "2021-12-17T12:16:00",
          "2021-12-17T12:17:00",
          "2021-12-17T12:18:00",
          "2021-12-17T12:19:00",
          "2021-12-17T12:20:00",
          "2021-12-17T12:21:00",
          "2021-12-17T12:22:00",
          "2021-12-17T12:23:00",
          "2021-12-17T12:24:00",
          "2021-12-17T12:25:00",
          "2021-12-17T12:26:00",
          "2021-12-17T12:27:00",
          "2021-12-17T12:28:00",
          "2021-12-17T12:29:00",
          "2021-12-17T12:30:00",
          "2021-12-17T12:31:00",
          "2021-12-17T12:32:00",
          "2021-12-17T12:33:00",
          "2021-12-17T12:34:00",
          "2021-12-17T12:35:00",
          "2021-12-17T12:36:00",
          "2021-12-17T12:37:00",
          "2021-12-17T12:38:00",
          "2021-12-17T12:39:00",
          "2021-12-17T12:40:00",
          "2021-12-17T12:41:00",
          "2021-12-17T12:42:00",
          "2021-12-17T12:43:00"
         ]
        }
       ],
       "layout": {
        "template": {
         "data": {
          "bar": [
           {
            "error_x": {
             "color": "#2a3f5f"
            },
            "error_y": {
             "color": "#2a3f5f"
            },
            "marker": {
             "line": {
              "color": "#E5ECF6",
              "width": 0.5
             }
            },
            "type": "bar"
           }
          ],
          "barpolar": [
           {
            "marker": {
             "line": {
              "color": "#E5ECF6",
              "width": 0.5
             }
            },
            "type": "barpolar"
           }
          ],
          "carpet": [
           {
            "aaxis": {
             "endlinecolor": "#2a3f5f",
             "gridcolor": "white",
             "linecolor": "white",
             "minorgridcolor": "white",
             "startlinecolor": "#2a3f5f"
            },
            "baxis": {
             "endlinecolor": "#2a3f5f",
             "gridcolor": "white",
             "linecolor": "white",
             "minorgridcolor": "white",
             "startlinecolor": "#2a3f5f"
            },
            "type": "carpet"
           }
          ],
          "choropleth": [
           {
            "colorbar": {
             "outlinewidth": 0,
             "ticks": ""
            },
            "type": "choropleth"
           }
          ],
          "contour": [
           {
            "colorbar": {
             "outlinewidth": 0,
             "ticks": ""
            },
            "colorscale": [
             [
              0,
              "#0d0887"
             ],
             [
              0.1111111111111111,
              "#46039f"
             ],
             [
              0.2222222222222222,
              "#7201a8"
             ],
             [
              0.3333333333333333,
              "#9c179e"
             ],
             [
              0.4444444444444444,
              "#bd3786"
             ],
             [
              0.5555555555555556,
              "#d8576b"
             ],
             [
              0.6666666666666666,
              "#ed7953"
             ],
             [
              0.7777777777777778,
              "#fb9f3a"
             ],
             [
              0.8888888888888888,
              "#fdca26"
             ],
             [
              1,
              "#f0f921"
             ]
            ],
            "type": "contour"
           }
          ],
          "contourcarpet": [
           {
            "colorbar": {
             "outlinewidth": 0,
             "ticks": ""
            },
            "type": "contourcarpet"
           }
          ],
          "heatmap": [
           {
            "colorbar": {
             "outlinewidth": 0,
             "ticks": ""
            },
            "colorscale": [
             [
              0,
              "#0d0887"
             ],
             [
              0.1111111111111111,
              "#46039f"
             ],
             [
              0.2222222222222222,
              "#7201a8"
             ],
             [
              0.3333333333333333,
              "#9c179e"
             ],
             [
              0.4444444444444444,
              "#bd3786"
             ],
             [
              0.5555555555555556,
              "#d8576b"
             ],
             [
              0.6666666666666666,
              "#ed7953"
             ],
             [
              0.7777777777777778,
              "#fb9f3a"
             ],
             [
              0.8888888888888888,
              "#fdca26"
             ],
             [
              1,
              "#f0f921"
             ]
            ],
            "type": "heatmap"
           }
          ],
          "heatmapgl": [
           {
            "colorbar": {
             "outlinewidth": 0,
             "ticks": ""
            },
            "colorscale": [
             [
              0,
              "#0d0887"
             ],
             [
              0.1111111111111111,
              "#46039f"
             ],
             [
              0.2222222222222222,
              "#7201a8"
             ],
             [
              0.3333333333333333,
              "#9c179e"
             ],
             [
              0.4444444444444444,
              "#bd3786"
             ],
             [
              0.5555555555555556,
              "#d8576b"
             ],
             [
              0.6666666666666666,
              "#ed7953"
             ],
             [
              0.7777777777777778,
              "#fb9f3a"
             ],
             [
              0.8888888888888888,
              "#fdca26"
             ],
             [
              1,
              "#f0f921"
             ]
            ],
            "type": "heatmapgl"
           }
          ],
          "histogram": [
           {
            "marker": {
             "colorbar": {
              "outlinewidth": 0,
              "ticks": ""
             }
            },
            "type": "histogram"
           }
          ],
          "histogram2d": [
           {
            "colorbar": {
             "outlinewidth": 0,
             "ticks": ""
            },
            "colorscale": [
             [
              0,
              "#0d0887"
             ],
             [
              0.1111111111111111,
              "#46039f"
             ],
             [
              0.2222222222222222,
              "#7201a8"
             ],
             [
              0.3333333333333333,
              "#9c179e"
             ],
             [
              0.4444444444444444,
              "#bd3786"
             ],
             [
              0.5555555555555556,
              "#d8576b"
             ],
             [
              0.6666666666666666,
              "#ed7953"
             ],
             [
              0.7777777777777778,
              "#fb9f3a"
             ],
             [
              0.8888888888888888,
              "#fdca26"
             ],
             [
              1,
              "#f0f921"
             ]
            ],
            "type": "histogram2d"
           }
          ],
          "histogram2dcontour": [
           {
            "colorbar": {
             "outlinewidth": 0,
             "ticks": ""
            },
            "colorscale": [
             [
              0,
              "#0d0887"
             ],
             [
              0.1111111111111111,
              "#46039f"
             ],
             [
              0.2222222222222222,
              "#7201a8"
             ],
             [
              0.3333333333333333,
              "#9c179e"
             ],
             [
              0.4444444444444444,
              "#bd3786"
             ],
             [
              0.5555555555555556,
              "#d8576b"
             ],
             [
              0.6666666666666666,
              "#ed7953"
             ],
             [
              0.7777777777777778,
              "#fb9f3a"
             ],
             [
              0.8888888888888888,
              "#fdca26"
             ],
             [
              1,
              "#f0f921"
             ]
            ],
            "type": "histogram2dcontour"
           }
          ],
          "mesh3d": [
           {
            "colorbar": {
             "outlinewidth": 0,
             "ticks": ""
            },
            "type": "mesh3d"
           }
          ],
          "parcoords": [
           {
            "line": {
             "colorbar": {
              "outlinewidth": 0,
              "ticks": ""
             }
            },
            "type": "parcoords"
           }
          ],
          "pie": [
           {
            "automargin": true,
            "type": "pie"
           }
          ],
          "scatter": [
           {
            "marker": {
             "colorbar": {
              "outlinewidth": 0,
              "ticks": ""
             }
            },
            "type": "scatter"
           }
          ],
          "scatter3d": [
           {
            "line": {
             "colorbar": {
              "outlinewidth": 0,
              "ticks": ""
             }
            },
            "marker": {
             "colorbar": {
              "outlinewidth": 0,
              "ticks": ""
             }
            },
            "type": "scatter3d"
           }
          ],
          "scattercarpet": [
           {
            "marker": {
             "colorbar": {
              "outlinewidth": 0,
              "ticks": ""
             }
            },
            "type": "scattercarpet"
           }
          ],
          "scattergeo": [
           {
            "marker": {
             "colorbar": {
              "outlinewidth": 0,
              "ticks": ""
             }
            },
            "type": "scattergeo"
           }
          ],
          "scattergl": [
           {
            "marker": {
             "colorbar": {
              "outlinewidth": 0,
              "ticks": ""
             }
            },
            "type": "scattergl"
           }
          ],
          "scattermapbox": [
           {
            "marker": {
             "colorbar": {
              "outlinewidth": 0,
              "ticks": ""
             }
            },
            "type": "scattermapbox"
           }
          ],
          "scatterpolar": [
           {
            "marker": {
             "colorbar": {
              "outlinewidth": 0,
              "ticks": ""
             }
            },
            "type": "scatterpolar"
           }
          ],
          "scatterpolargl": [
           {
            "marker": {
             "colorbar": {
              "outlinewidth": 0,
              "ticks": ""
             }
            },
            "type": "scatterpolargl"
           }
          ],
          "scatterternary": [
           {
            "marker": {
             "colorbar": {
              "outlinewidth": 0,
              "ticks": ""
             }
            },
            "type": "scatterternary"
           }
          ],
          "surface": [
           {
            "colorbar": {
             "outlinewidth": 0,
             "ticks": ""
            },
            "colorscale": [
             [
              0,
              "#0d0887"
             ],
             [
              0.1111111111111111,
              "#46039f"
             ],
             [
              0.2222222222222222,
              "#7201a8"
             ],
             [
              0.3333333333333333,
              "#9c179e"
             ],
             [
              0.4444444444444444,
              "#bd3786"
             ],
             [
              0.5555555555555556,
              "#d8576b"
             ],
             [
              0.6666666666666666,
              "#ed7953"
             ],
             [
              0.7777777777777778,
              "#fb9f3a"
             ],
             [
              0.8888888888888888,
              "#fdca26"
             ],
             [
              1,
              "#f0f921"
             ]
            ],
            "type": "surface"
           }
          ],
          "table": [
           {
            "cells": {
             "fill": {
              "color": "#EBF0F8"
             },
             "line": {
              "color": "white"
             }
            },
            "header": {
             "fill": {
              "color": "#C8D4E3"
             },
             "line": {
              "color": "white"
             }
            },
            "type": "table"
           }
          ]
         },
         "layout": {
          "annotationdefaults": {
           "arrowcolor": "#2a3f5f",
           "arrowhead": 0,
           "arrowwidth": 1
          },
          "autotypenumbers": "strict",
          "coloraxis": {
           "colorbar": {
            "outlinewidth": 0,
            "ticks": ""
           }
          },
          "colorscale": {
           "diverging": [
            [
             0,
             "#8e0152"
            ],
            [
             0.1,
             "#c51b7d"
            ],
            [
             0.2,
             "#de77ae"
            ],
            [
             0.3,
             "#f1b6da"
            ],
            [
             0.4,
             "#fde0ef"
            ],
            [
             0.5,
             "#f7f7f7"
            ],
            [
             0.6,
             "#e6f5d0"
            ],
            [
             0.7,
             "#b8e186"
            ],
            [
             0.8,
             "#7fbc41"
            ],
            [
             0.9,
             "#4d9221"
            ],
            [
             1,
             "#276419"
            ]
           ],
           "sequential": [
            [
             0,
             "#0d0887"
            ],
            [
             0.1111111111111111,
             "#46039f"
            ],
            [
             0.2222222222222222,
             "#7201a8"
            ],
            [
             0.3333333333333333,
             "#9c179e"
            ],
            [
             0.4444444444444444,
             "#bd3786"
            ],
            [
             0.5555555555555556,
             "#d8576b"
            ],
            [
             0.6666666666666666,
             "#ed7953"
            ],
            [
             0.7777777777777778,
             "#fb9f3a"
            ],
            [
             0.8888888888888888,
             "#fdca26"
            ],
            [
             1,
             "#f0f921"
            ]
           ],
           "sequentialminus": [
            [
             0,
             "#0d0887"
            ],
            [
             0.1111111111111111,
             "#46039f"
            ],
            [
             0.2222222222222222,
             "#7201a8"
            ],
            [
             0.3333333333333333,
             "#9c179e"
            ],
            [
             0.4444444444444444,
             "#bd3786"
            ],
            [
             0.5555555555555556,
             "#d8576b"
            ],
            [
             0.6666666666666666,
             "#ed7953"
            ],
            [
             0.7777777777777778,
             "#fb9f3a"
            ],
            [
             0.8888888888888888,
             "#fdca26"
            ],
            [
             1,
             "#f0f921"
            ]
           ]
          },
          "colorway": [
           "#636efa",
           "#EF553B",
           "#00cc96",
           "#ab63fa",
           "#FFA15A",
           "#19d3f3",
           "#FF6692",
           "#B6E880",
           "#FF97FF",
           "#FECB52"
          ],
          "font": {
           "color": "#2a3f5f"
          },
          "geo": {
           "bgcolor": "white",
           "lakecolor": "white",
           "landcolor": "#E5ECF6",
           "showlakes": true,
           "showland": true,
           "subunitcolor": "white"
          },
          "hoverlabel": {
           "align": "left"
          },
          "hovermode": "closest",
          "mapbox": {
           "style": "light"
          },
          "paper_bgcolor": "white",
          "plot_bgcolor": "#E5ECF6",
          "polar": {
           "angularaxis": {
            "gridcolor": "white",
            "linecolor": "white",
            "ticks": ""
           },
           "bgcolor": "#E5ECF6",
           "radialaxis": {
            "gridcolor": "white",
            "linecolor": "white",
            "ticks": ""
           }
          },
          "scene": {
           "xaxis": {
            "backgroundcolor": "#E5ECF6",
            "gridcolor": "white",
            "gridwidth": 2,
            "linecolor": "white",
            "showbackground": true,
            "ticks": "",
            "zerolinecolor": "white"
           },
           "yaxis": {
            "backgroundcolor": "#E5ECF6",
            "gridcolor": "white",
            "gridwidth": 2,
            "linecolor": "white",
            "showbackground": true,
            "ticks": "",
            "zerolinecolor": "white"
           },
           "zaxis": {
            "backgroundcolor": "#E5ECF6",
            "gridcolor": "white",
            "gridwidth": 2,
            "linecolor": "white",
            "showbackground": true,
            "ticks": "",
            "zerolinecolor": "white"
           }
          },
          "shapedefaults": {
           "line": {
            "color": "#2a3f5f"
           }
          },
          "ternary": {
           "aaxis": {
            "gridcolor": "white",
            "linecolor": "white",
            "ticks": ""
           },
           "baxis": {
            "gridcolor": "white",
            "linecolor": "white",
            "ticks": ""
           },
           "bgcolor": "#E5ECF6",
           "caxis": {
            "gridcolor": "white",
            "linecolor": "white",
            "ticks": ""
           }
          },
          "title": {
           "x": 0.05
          },
          "xaxis": {
           "automargin": true,
           "gridcolor": "white",
           "linecolor": "white",
           "ticks": "",
           "title": {
            "standoff": 15
           },
           "zerolinecolor": "white",
           "zerolinewidth": 2
          },
          "yaxis": {
           "automargin": true,
           "gridcolor": "white",
           "linecolor": "white",
           "ticks": "",
           "title": {
            "standoff": 15
           },
           "zerolinecolor": "white",
           "zerolinewidth": 2
          }
         }
        },
        "title": {
         "text": "OHLC Chart for BTC with time interval 1min"
        },
        "xaxis": {
         "rangeslider": {
          "visible": false
         }
        }
       }
      }
     },
     "metadata": {},
     "output_type": "display_data"
    },
    {
     "data": {
      "application/vnd.plotly.v1+json": {
       "config": {
        "plotlyServerURL": "https://plot.ly"
       },
       "data": [
        {
         "close": [
          3387.46,
          3382.69,
          3384.75,
          3391.68,
          3393.93,
          3388.56,
          3394.25,
          3390.19,
          3385.62,
          3377.54,
          3375.5,
          3375.18,
          3373.42,
          3374.05,
          3371.85,
          3374.54,
          3372.61,
          3376.94,
          3376.35,
          3374.73,
          3373.64,
          3379.43,
          3382.96,
          3386.44,
          3385.9,
          3391.58,
          3391.02,
          3394.19,
          3391.79,
          3391.9,
          3394.93,
          3392.24,
          3392.35,
          3392.92,
          3393.16,
          3394.47,
          3392.8,
          3395.74,
          3398.95,
          3400.04,
          3398.05,
          3401.21,
          3400.58,
          3404.57,
          3402.34,
          3401.12,
          3402.2,
          3398.81,
          3396.68,
          3398.22,
          3398.07,
          3395.18,
          3394.8,
          3394.68,
          3394.05,
          3397.47,
          3396.38,
          3394.8,
          3391.87,
          3397.28,
          3398.33,
          3394.53,
          3395.92,
          3393.63,
          3388.89,
          3388.25,
          3385.58,
          3385.69,
          3382.94,
          3385.01,
          3385.62,
          3385.88,
          3386.57,
          3388.63,
          3387.79,
          3390.26,
          3396.4,
          3398.18,
          3394.19,
          3387.59,
          3387.23,
          3381.97,
          3381.88,
          3375.8,
          3372.61,
          3370.78,
          3369.67,
          3363.59,
          3365.91,
          3367.61,
          3376.4,
          3374.19,
          3383.37,
          3386.65,
          3393.84,
          3393.47,
          3390.92,
          3387.96,
          3394,
          3401.85,
          3404.26,
          3404.96,
          3398.64,
          3395.81,
          3400.63,
          3395.99,
          3394.16,
          3395.75,
          3390.5,
          3390.06,
          3388.78,
          3390.99,
          3393.36,
          3394.77,
          3395.2,
          3389.74,
          3385.7,
          3383.29,
          3380,
          3380.82
         ],
         "decreasing": {
          "fillcolor": "gray",
          "line": {
           "color": "gray"
          }
         },
         "high": [
          3391.1,
          3388.94,
          3385.83,
          3392.36,
          3394.96,
          3393.7,
          3394.96,
          3395.29,
          3390.17,
          3383.18,
          3377.95,
          3379.1,
          3376.23,
          3374.05,
          3377.59,
          3376.04,
          3374.01,
          3378.09,
          3379.53,
          3379.79,
          3377.78,
          3379.43,
          3382.96,
          3386.44,
          3387.61,
          3392.33,
          3396.88,
          3394.19,
          3395.62,
          3393.13,
          3396.57,
          3397,
          3393.39,
          3395.12,
          3394.58,
          3395.93,
          3395.72,
          3395.74,
          3400.16,
          3403.82,
          3399.88,
          3401.7,
          3400.87,
          3407.56,
          3404.55,
          3403.2,
          3403.77,
          3402,
          3399.41,
          3399.16,
          3398.22,
          3400.03,
          3395.73,
          3396.03,
          3396.14,
          3398.13,
          3398.73,
          3397.33,
          3395.93,
          3397.71,
          3398.33,
          3398.28,
          3396.73,
          3396.28,
          3393.59,
          3393.38,
          3389.15,
          3385.69,
          3385.28,
          3386.27,
          3386.62,
          3385.88,
          3387.88,
          3389.46,
          3389.41,
          3390.44,
          3397.41,
          3398.73,
          3398.11,
          3393,
          3387.92,
          3386.24,
          3386.37,
          3382.77,
          3376.7,
          3376.03,
          3371.6,
          3370.46,
          3367.57,
          3370.72,
          3376.48,
          3376.37,
          3383.89,
          3389.51,
          3394.29,
          3394.49,
          3393.55,
          3391.04,
          3394,
          3403.91,
          3404.26,
          3404.96,
          3402.63,
          3399.77,
          3401.83,
          3400.13,
          3396.79,
          3396.15,
          3395.66,
          3392.93,
          3391.34,
          3391.11,
          3395.07,
          3394.77,
          3395.2,
          3394.77,
          3389.35,
          3387.07,
          3384.61,
          3380.82
         ],
         "increasing": {
          "fillcolor": "cyan",
          "line": {
           "color": "cyan"
          }
         },
         "low": [
          3383.72,
          3382.33,
          3381.67,
          3384.18,
          3392.14,
          3387.57,
          3388.71,
          3389.61,
          3385.61,
          3375.55,
          3374.33,
          3374.52,
          3369.44,
          3367.41,
          3370.43,
          3370.65,
          3366.41,
          3372.89,
          3376.35,
          3371.13,
          3373.64,
          3373.31,
          3381.88,
          3380.39,
          3385.5,
          3385.94,
          3390.4,
          3387.96,
          3391.79,
          3389.56,
          3391.54,
          3391.79,
          3389.74,
          3391.02,
          3392.27,
          3393.23,
          3391.85,
          3391.7,
          3393.41,
          3398.85,
          3397.15,
          3396.77,
          3398.04,
          3400.6,
          3402.06,
          3398.7,
          3398.81,
          3398.45,
          3396.68,
          3397.31,
          3395.85,
          3392.01,
          3393.43,
          3393.1,
          3394.05,
          3395.11,
          3395.15,
          3394.8,
          3391.5,
          3392,
          3394.83,
          3393.31,
          3393.18,
          3393.13,
          3388.89,
          3387.44,
          3380.86,
          3382.99,
          3381.94,
          3383.84,
          3383.21,
          3382.99,
          3385.58,
          3383.92,
          3386.92,
          3387.03,
          3387.11,
          3395.98,
          3393.44,
          3387.59,
          3385.41,
          3381.97,
          3381.88,
          3375,
          3370.67,
          3370.74,
          3369.62,
          3362.42,
          3356,
          3367.25,
          3367.78,
          3373.4,
          3375.8,
          3385.56,
          3385.98,
          3389.85,
          3388.9,
          3385.85,
          3386.94,
          3391.59,
          3398.11,
          3400.49,
          3397.26,
          3395.69,
          3395.22,
          3394.08,
          3394.16,
          3391.4,
          3390.39,
          3390.06,
          3388.77,
          3388.09,
          3390.21,
          3391.02,
          3393.65,
          3388.77,
          3385.7,
          3383.29,
          3380,
          3380.82
         ],
         "name": "OHLC",
         "open": [
          3383.72,
          3387.09,
          3382.33,
          3384.18,
          3392.46,
          3393.62,
          3389.22,
          3395.19,
          3389.75,
          3381.99,
          3377.69,
          3376.01,
          3375.7,
          3372.32,
          3376.9,
          3371.07,
          3373.43,
          3373.67,
          3377.03,
          3376.82,
          3375.79,
          3374.43,
          3382.41,
          3382.24,
          3387,
          3386.84,
          3390.4,
          3390,
          3393.76,
          3392.43,
          3391.54,
          3394.5,
          3393.39,
          3391.72,
          3394,
          3393.82,
          3394,
          3391.71,
          3395.48,
          3399.78,
          3399.88,
          3396.77,
          3400.86,
          3400.6,
          3404.26,
          3401.88,
          3400.06,
          3400.98,
          3398.37,
          3397.41,
          3397.73,
          3397.88,
          3395.19,
          3394.86,
          3394.56,
          3395.11,
          3396.9,
          3397.3,
          3395.56,
          3392.81,
          3397.6,
          3398.28,
          3394.54,
          3396.01,
          3393.42,
          3387.44,
          3388.08,
          3385.07,
          3385.28,
          3384.61,
          3384.37,
          3385.44,
          3386.01,
          3383.92,
          3388.47,
          3387.03,
          3389.62,
          3396.66,
          3397.87,
          3393,
          3387.33,
          3386.24,
          3382.19,
          3382.55,
          3375.52,
          3373.81,
          3370.94,
          3370.46,
          3364.78,
          3367.3,
          3367.78,
          3375.7,
          3375.8,
          3385.56,
          3386.37,
          3394,
          3393,
          3391.04,
          3386.95,
          3395.06,
          3402.09,
          3403.13,
          3402.49,
          3398.09,
          3395.35,
          3400.13,
          3395.85,
          3393,
          3395.66,
          3391.82,
          3391.17,
          3388.8,
          3390.97,
          3394.28,
          3394.42,
          3394.77,
          3388.96,
          3385.88,
          3383.89,
          3380.82
         ],
         "type": "candlestick",
         "x": [
          "2021-12-17T10:44:00",
          "2021-12-17T10:45:00",
          "2021-12-17T10:46:00",
          "2021-12-17T10:47:00",
          "2021-12-17T10:48:00",
          "2021-12-17T10:49:00",
          "2021-12-17T10:50:00",
          "2021-12-17T10:51:00",
          "2021-12-17T10:52:00",
          "2021-12-17T10:53:00",
          "2021-12-17T10:54:00",
          "2021-12-17T10:55:00",
          "2021-12-17T10:56:00",
          "2021-12-17T10:57:00",
          "2021-12-17T10:58:00",
          "2021-12-17T10:59:00",
          "2021-12-17T11:00:00",
          "2021-12-17T11:01:00",
          "2021-12-17T11:02:00",
          "2021-12-17T11:03:00",
          "2021-12-17T11:04:00",
          "2021-12-17T11:05:00",
          "2021-12-17T11:06:00",
          "2021-12-17T11:07:00",
          "2021-12-17T11:08:00",
          "2021-12-17T11:09:00",
          "2021-12-17T11:10:00",
          "2021-12-17T11:11:00",
          "2021-12-17T11:12:00",
          "2021-12-17T11:13:00",
          "2021-12-17T11:14:00",
          "2021-12-17T11:15:00",
          "2021-12-17T11:16:00",
          "2021-12-17T11:17:00",
          "2021-12-17T11:18:00",
          "2021-12-17T11:19:00",
          "2021-12-17T11:20:00",
          "2021-12-17T11:21:00",
          "2021-12-17T11:22:00",
          "2021-12-17T11:23:00",
          "2021-12-17T11:24:00",
          "2021-12-17T11:25:00",
          "2021-12-17T11:26:00",
          "2021-12-17T11:27:00",
          "2021-12-17T11:28:00",
          "2021-12-17T11:29:00",
          "2021-12-17T11:30:00",
          "2021-12-17T11:31:00",
          "2021-12-17T11:32:00",
          "2021-12-17T11:33:00",
          "2021-12-17T11:34:00",
          "2021-12-17T11:35:00",
          "2021-12-17T11:36:00",
          "2021-12-17T11:37:00",
          "2021-12-17T11:38:00",
          "2021-12-17T11:39:00",
          "2021-12-17T11:40:00",
          "2021-12-17T11:41:00",
          "2021-12-17T11:42:00",
          "2021-12-17T11:43:00",
          "2021-12-17T11:44:00",
          "2021-12-17T11:45:00",
          "2021-12-17T11:46:00",
          "2021-12-17T11:47:00",
          "2021-12-17T11:48:00",
          "2021-12-17T11:49:00",
          "2021-12-17T11:50:00",
          "2021-12-17T11:51:00",
          "2021-12-17T11:52:00",
          "2021-12-17T11:53:00",
          "2021-12-17T11:54:00",
          "2021-12-17T11:55:00",
          "2021-12-17T11:56:00",
          "2021-12-17T11:57:00",
          "2021-12-17T11:58:00",
          "2021-12-17T11:59:00",
          "2021-12-17T12:00:00",
          "2021-12-17T12:01:00",
          "2021-12-17T12:02:00",
          "2021-12-17T12:03:00",
          "2021-12-17T12:04:00",
          "2021-12-17T12:05:00",
          "2021-12-17T12:06:00",
          "2021-12-17T12:07:00",
          "2021-12-17T12:08:00",
          "2021-12-17T12:09:00",
          "2021-12-17T12:10:00",
          "2021-12-17T12:11:00",
          "2021-12-17T12:12:00",
          "2021-12-17T12:13:00",
          "2021-12-17T12:14:00",
          "2021-12-17T12:15:00",
          "2021-12-17T12:16:00",
          "2021-12-17T12:17:00",
          "2021-12-17T12:18:00",
          "2021-12-17T12:19:00",
          "2021-12-17T12:20:00",
          "2021-12-17T12:21:00",
          "2021-12-17T12:22:00",
          "2021-12-17T12:23:00",
          "2021-12-17T12:24:00",
          "2021-12-17T12:25:00",
          "2021-12-17T12:26:00",
          "2021-12-17T12:27:00",
          "2021-12-17T12:28:00",
          "2021-12-17T12:29:00",
          "2021-12-17T12:30:00",
          "2021-12-17T12:31:00",
          "2021-12-17T12:32:00",
          "2021-12-17T12:33:00",
          "2021-12-17T12:34:00",
          "2021-12-17T12:35:00",
          "2021-12-17T12:36:00",
          "2021-12-17T12:37:00",
          "2021-12-17T12:38:00",
          "2021-12-17T12:39:00",
          "2021-12-17T12:40:00",
          "2021-12-17T12:41:00",
          "2021-12-17T12:42:00",
          "2021-12-17T12:43:00"
         ]
        }
       ],
       "layout": {
        "template": {
         "data": {
          "bar": [
           {
            "error_x": {
             "color": "#2a3f5f"
            },
            "error_y": {
             "color": "#2a3f5f"
            },
            "marker": {
             "line": {
              "color": "#E5ECF6",
              "width": 0.5
             }
            },
            "type": "bar"
           }
          ],
          "barpolar": [
           {
            "marker": {
             "line": {
              "color": "#E5ECF6",
              "width": 0.5
             }
            },
            "type": "barpolar"
           }
          ],
          "carpet": [
           {
            "aaxis": {
             "endlinecolor": "#2a3f5f",
             "gridcolor": "white",
             "linecolor": "white",
             "minorgridcolor": "white",
             "startlinecolor": "#2a3f5f"
            },
            "baxis": {
             "endlinecolor": "#2a3f5f",
             "gridcolor": "white",
             "linecolor": "white",
             "minorgridcolor": "white",
             "startlinecolor": "#2a3f5f"
            },
            "type": "carpet"
           }
          ],
          "choropleth": [
           {
            "colorbar": {
             "outlinewidth": 0,
             "ticks": ""
            },
            "type": "choropleth"
           }
          ],
          "contour": [
           {
            "colorbar": {
             "outlinewidth": 0,
             "ticks": ""
            },
            "colorscale": [
             [
              0,
              "#0d0887"
             ],
             [
              0.1111111111111111,
              "#46039f"
             ],
             [
              0.2222222222222222,
              "#7201a8"
             ],
             [
              0.3333333333333333,
              "#9c179e"
             ],
             [
              0.4444444444444444,
              "#bd3786"
             ],
             [
              0.5555555555555556,
              "#d8576b"
             ],
             [
              0.6666666666666666,
              "#ed7953"
             ],
             [
              0.7777777777777778,
              "#fb9f3a"
             ],
             [
              0.8888888888888888,
              "#fdca26"
             ],
             [
              1,
              "#f0f921"
             ]
            ],
            "type": "contour"
           }
          ],
          "contourcarpet": [
           {
            "colorbar": {
             "outlinewidth": 0,
             "ticks": ""
            },
            "type": "contourcarpet"
           }
          ],
          "heatmap": [
           {
            "colorbar": {
             "outlinewidth": 0,
             "ticks": ""
            },
            "colorscale": [
             [
              0,
              "#0d0887"
             ],
             [
              0.1111111111111111,
              "#46039f"
             ],
             [
              0.2222222222222222,
              "#7201a8"
             ],
             [
              0.3333333333333333,
              "#9c179e"
             ],
             [
              0.4444444444444444,
              "#bd3786"
             ],
             [
              0.5555555555555556,
              "#d8576b"
             ],
             [
              0.6666666666666666,
              "#ed7953"
             ],
             [
              0.7777777777777778,
              "#fb9f3a"
             ],
             [
              0.8888888888888888,
              "#fdca26"
             ],
             [
              1,
              "#f0f921"
             ]
            ],
            "type": "heatmap"
           }
          ],
          "heatmapgl": [
           {
            "colorbar": {
             "outlinewidth": 0,
             "ticks": ""
            },
            "colorscale": [
             [
              0,
              "#0d0887"
             ],
             [
              0.1111111111111111,
              "#46039f"
             ],
             [
              0.2222222222222222,
              "#7201a8"
             ],
             [
              0.3333333333333333,
              "#9c179e"
             ],
             [
              0.4444444444444444,
              "#bd3786"
             ],
             [
              0.5555555555555556,
              "#d8576b"
             ],
             [
              0.6666666666666666,
              "#ed7953"
             ],
             [
              0.7777777777777778,
              "#fb9f3a"
             ],
             [
              0.8888888888888888,
              "#fdca26"
             ],
             [
              1,
              "#f0f921"
             ]
            ],
            "type": "heatmapgl"
           }
          ],
          "histogram": [
           {
            "marker": {
             "colorbar": {
              "outlinewidth": 0,
              "ticks": ""
             }
            },
            "type": "histogram"
           }
          ],
          "histogram2d": [
           {
            "colorbar": {
             "outlinewidth": 0,
             "ticks": ""
            },
            "colorscale": [
             [
              0,
              "#0d0887"
             ],
             [
              0.1111111111111111,
              "#46039f"
             ],
             [
              0.2222222222222222,
              "#7201a8"
             ],
             [
              0.3333333333333333,
              "#9c179e"
             ],
             [
              0.4444444444444444,
              "#bd3786"
             ],
             [
              0.5555555555555556,
              "#d8576b"
             ],
             [
              0.6666666666666666,
              "#ed7953"
             ],
             [
              0.7777777777777778,
              "#fb9f3a"
             ],
             [
              0.8888888888888888,
              "#fdca26"
             ],
             [
              1,
              "#f0f921"
             ]
            ],
            "type": "histogram2d"
           }
          ],
          "histogram2dcontour": [
           {
            "colorbar": {
             "outlinewidth": 0,
             "ticks": ""
            },
            "colorscale": [
             [
              0,
              "#0d0887"
             ],
             [
              0.1111111111111111,
              "#46039f"
             ],
             [
              0.2222222222222222,
              "#7201a8"
             ],
             [
              0.3333333333333333,
              "#9c179e"
             ],
             [
              0.4444444444444444,
              "#bd3786"
             ],
             [
              0.5555555555555556,
              "#d8576b"
             ],
             [
              0.6666666666666666,
              "#ed7953"
             ],
             [
              0.7777777777777778,
              "#fb9f3a"
             ],
             [
              0.8888888888888888,
              "#fdca26"
             ],
             [
              1,
              "#f0f921"
             ]
            ],
            "type": "histogram2dcontour"
           }
          ],
          "mesh3d": [
           {
            "colorbar": {
             "outlinewidth": 0,
             "ticks": ""
            },
            "type": "mesh3d"
           }
          ],
          "parcoords": [
           {
            "line": {
             "colorbar": {
              "outlinewidth": 0,
              "ticks": ""
             }
            },
            "type": "parcoords"
           }
          ],
          "pie": [
           {
            "automargin": true,
            "type": "pie"
           }
          ],
          "scatter": [
           {
            "marker": {
             "colorbar": {
              "outlinewidth": 0,
              "ticks": ""
             }
            },
            "type": "scatter"
           }
          ],
          "scatter3d": [
           {
            "line": {
             "colorbar": {
              "outlinewidth": 0,
              "ticks": ""
             }
            },
            "marker": {
             "colorbar": {
              "outlinewidth": 0,
              "ticks": ""
             }
            },
            "type": "scatter3d"
           }
          ],
          "scattercarpet": [
           {
            "marker": {
             "colorbar": {
              "outlinewidth": 0,
              "ticks": ""
             }
            },
            "type": "scattercarpet"
           }
          ],
          "scattergeo": [
           {
            "marker": {
             "colorbar": {
              "outlinewidth": 0,
              "ticks": ""
             }
            },
            "type": "scattergeo"
           }
          ],
          "scattergl": [
           {
            "marker": {
             "colorbar": {
              "outlinewidth": 0,
              "ticks": ""
             }
            },
            "type": "scattergl"
           }
          ],
          "scattermapbox": [
           {
            "marker": {
             "colorbar": {
              "outlinewidth": 0,
              "ticks": ""
             }
            },
            "type": "scattermapbox"
           }
          ],
          "scatterpolar": [
           {
            "marker": {
             "colorbar": {
              "outlinewidth": 0,
              "ticks": ""
             }
            },
            "type": "scatterpolar"
           }
          ],
          "scatterpolargl": [
           {
            "marker": {
             "colorbar": {
              "outlinewidth": 0,
              "ticks": ""
             }
            },
            "type": "scatterpolargl"
           }
          ],
          "scatterternary": [
           {
            "marker": {
             "colorbar": {
              "outlinewidth": 0,
              "ticks": ""
             }
            },
            "type": "scatterternary"
           }
          ],
          "surface": [
           {
            "colorbar": {
             "outlinewidth": 0,
             "ticks": ""
            },
            "colorscale": [
             [
              0,
              "#0d0887"
             ],
             [
              0.1111111111111111,
              "#46039f"
             ],
             [
              0.2222222222222222,
              "#7201a8"
             ],
             [
              0.3333333333333333,
              "#9c179e"
             ],
             [
              0.4444444444444444,
              "#bd3786"
             ],
             [
              0.5555555555555556,
              "#d8576b"
             ],
             [
              0.6666666666666666,
              "#ed7953"
             ],
             [
              0.7777777777777778,
              "#fb9f3a"
             ],
             [
              0.8888888888888888,
              "#fdca26"
             ],
             [
              1,
              "#f0f921"
             ]
            ],
            "type": "surface"
           }
          ],
          "table": [
           {
            "cells": {
             "fill": {
              "color": "#EBF0F8"
             },
             "line": {
              "color": "white"
             }
            },
            "header": {
             "fill": {
              "color": "#C8D4E3"
             },
             "line": {
              "color": "white"
             }
            },
            "type": "table"
           }
          ]
         },
         "layout": {
          "annotationdefaults": {
           "arrowcolor": "#2a3f5f",
           "arrowhead": 0,
           "arrowwidth": 1
          },
          "autotypenumbers": "strict",
          "coloraxis": {
           "colorbar": {
            "outlinewidth": 0,
            "ticks": ""
           }
          },
          "colorscale": {
           "diverging": [
            [
             0,
             "#8e0152"
            ],
            [
             0.1,
             "#c51b7d"
            ],
            [
             0.2,
             "#de77ae"
            ],
            [
             0.3,
             "#f1b6da"
            ],
            [
             0.4,
             "#fde0ef"
            ],
            [
             0.5,
             "#f7f7f7"
            ],
            [
             0.6,
             "#e6f5d0"
            ],
            [
             0.7,
             "#b8e186"
            ],
            [
             0.8,
             "#7fbc41"
            ],
            [
             0.9,
             "#4d9221"
            ],
            [
             1,
             "#276419"
            ]
           ],
           "sequential": [
            [
             0,
             "#0d0887"
            ],
            [
             0.1111111111111111,
             "#46039f"
            ],
            [
             0.2222222222222222,
             "#7201a8"
            ],
            [
             0.3333333333333333,
             "#9c179e"
            ],
            [
             0.4444444444444444,
             "#bd3786"
            ],
            [
             0.5555555555555556,
             "#d8576b"
            ],
            [
             0.6666666666666666,
             "#ed7953"
            ],
            [
             0.7777777777777778,
             "#fb9f3a"
            ],
            [
             0.8888888888888888,
             "#fdca26"
            ],
            [
             1,
             "#f0f921"
            ]
           ],
           "sequentialminus": [
            [
             0,
             "#0d0887"
            ],
            [
             0.1111111111111111,
             "#46039f"
            ],
            [
             0.2222222222222222,
             "#7201a8"
            ],
            [
             0.3333333333333333,
             "#9c179e"
            ],
            [
             0.4444444444444444,
             "#bd3786"
            ],
            [
             0.5555555555555556,
             "#d8576b"
            ],
            [
             0.6666666666666666,
             "#ed7953"
            ],
            [
             0.7777777777777778,
             "#fb9f3a"
            ],
            [
             0.8888888888888888,
             "#fdca26"
            ],
            [
             1,
             "#f0f921"
            ]
           ]
          },
          "colorway": [
           "#636efa",
           "#EF553B",
           "#00cc96",
           "#ab63fa",
           "#FFA15A",
           "#19d3f3",
           "#FF6692",
           "#B6E880",
           "#FF97FF",
           "#FECB52"
          ],
          "font": {
           "color": "#2a3f5f"
          },
          "geo": {
           "bgcolor": "white",
           "lakecolor": "white",
           "landcolor": "#E5ECF6",
           "showlakes": true,
           "showland": true,
           "subunitcolor": "white"
          },
          "hoverlabel": {
           "align": "left"
          },
          "hovermode": "closest",
          "mapbox": {
           "style": "light"
          },
          "paper_bgcolor": "white",
          "plot_bgcolor": "#E5ECF6",
          "polar": {
           "angularaxis": {
            "gridcolor": "white",
            "linecolor": "white",
            "ticks": ""
           },
           "bgcolor": "#E5ECF6",
           "radialaxis": {
            "gridcolor": "white",
            "linecolor": "white",
            "ticks": ""
           }
          },
          "scene": {
           "xaxis": {
            "backgroundcolor": "#E5ECF6",
            "gridcolor": "white",
            "gridwidth": 2,
            "linecolor": "white",
            "showbackground": true,
            "ticks": "",
            "zerolinecolor": "white"
           },
           "yaxis": {
            "backgroundcolor": "#E5ECF6",
            "gridcolor": "white",
            "gridwidth": 2,
            "linecolor": "white",
            "showbackground": true,
            "ticks": "",
            "zerolinecolor": "white"
           },
           "zaxis": {
            "backgroundcolor": "#E5ECF6",
            "gridcolor": "white",
            "gridwidth": 2,
            "linecolor": "white",
            "showbackground": true,
            "ticks": "",
            "zerolinecolor": "white"
           }
          },
          "shapedefaults": {
           "line": {
            "color": "#2a3f5f"
           }
          },
          "ternary": {
           "aaxis": {
            "gridcolor": "white",
            "linecolor": "white",
            "ticks": ""
           },
           "baxis": {
            "gridcolor": "white",
            "linecolor": "white",
            "ticks": ""
           },
           "bgcolor": "#E5ECF6",
           "caxis": {
            "gridcolor": "white",
            "linecolor": "white",
            "ticks": ""
           }
          },
          "title": {
           "x": 0.05
          },
          "xaxis": {
           "automargin": true,
           "gridcolor": "white",
           "linecolor": "white",
           "ticks": "",
           "title": {
            "standoff": 15
           },
           "zerolinecolor": "white",
           "zerolinewidth": 2
          },
          "yaxis": {
           "automargin": true,
           "gridcolor": "white",
           "linecolor": "white",
           "ticks": "",
           "title": {
            "standoff": 15
           },
           "zerolinecolor": "white",
           "zerolinewidth": 2
          }
         }
        },
        "title": {
         "text": "OHLC Chart for ETH with time interval 1min"
        },
        "xaxis": {
         "rangeslider": {
          "visible": false
         }
        }
       }
      }
     },
     "metadata": {},
     "output_type": "display_data"
    },
    {
     "data": {
      "application/vnd.plotly.v1+json": {
       "config": {
        "plotlyServerURL": "https://plot.ly"
       },
       "data": [
        {
         "close": [
          129.86,
          129.92,
          130.06,
          129.97,
          129.98,
          129.88,
          129.63,
          129.52,
          129.51,
          129.51,
          129.66,
          129.56,
          129.8,
          129.69,
          129.94,
          129.91,
          129.73,
          129.74,
          129.84,
          129.96,
          130.16,
          130.25,
          130.34,
          130.18,
          130.4,
          130.31,
          130.15,
          130.17,
          130.34,
          130.21,
          130.24,
          130.19,
          130.36,
          130.31,
          130.35,
          130.44,
          130.44,
          130.44,
          130.54,
          130.63,
          130.76,
          130.7,
          130.5,
          130.39,
          130.42,
          130.44,
          130.29,
          130.32,
          130.27,
          130.36,
          130.41,
          130.39,
          130.43,
          130.23,
          130.43,
          130.45,
          130.35,
          130.38,
          130.27,
          130.08,
          130.21,
          129.94,
          129.87,
          129.87,
          129.94,
          130.05,
          130.04,
          130.06,
          129.93,
          130.08,
          130.46,
          130.51,
          130.38,
          130.31,
          130.26,
          130.1,
          130.17,
          130.04,
          129.79,
          129.78,
          129.83,
          129.42,
          129.62,
          129.49,
          129.82,
          129.84,
          130.2,
          130.32,
          130.47,
          130.38,
          130.28,
          130.14,
          130.34,
          130.7,
          130.73,
          130.77,
          130.62,
          130.52,
          130.57,
          130.36,
          130.23,
          130.35,
          130.32,
          130.23,
          130.15,
          130.32,
          130.51,
          130.43,
          130.6,
          130.26,
          130.03,
          129.96,
          129.95
         ],
         "decreasing": {
          "fillcolor": "gray",
          "line": {
           "color": "gray"
          }
         },
         "high": [
          130,
          129.92,
          130.1,
          130.02,
          130.13,
          129.98,
          129.65,
          129.59,
          129.71,
          129.51,
          129.66,
          129.72,
          129.8,
          129.86,
          129.94,
          129.95,
          129.84,
          129.87,
          129.84,
          130.08,
          130.16,
          130.25,
          130.34,
          130.42,
          130.4,
          130.42,
          130.29,
          130.28,
          130.34,
          130.21,
          130.24,
          130.19,
          130.44,
          130.37,
          130.35,
          130.44,
          130.5,
          130.52,
          130.61,
          130.63,
          130.83,
          130.84,
          130.73,
          130.45,
          130.48,
          130.44,
          130.38,
          130.32,
          130.3,
          130.37,
          130.48,
          130.5,
          130.43,
          130.26,
          130.46,
          130.46,
          130.45,
          130.39,
          130.38,
          130.21,
          130.35,
          130.11,
          129.9,
          129.99,
          130.07,
          130.05,
          130.15,
          130.13,
          130.14,
          130.1,
          130.5,
          130.51,
          130.5,
          130.42,
          130.37,
          130.21,
          130.3,
          130.2,
          130.04,
          129.94,
          129.83,
          129.81,
          129.62,
          129.73,
          129.82,
          129.87,
          130.27,
          130.36,
          130.47,
          130.47,
          130.33,
          130.26,
          130.34,
          130.73,
          130.82,
          130.77,
          130.74,
          130.62,
          130.65,
          130.36,
          130.38,
          130.36,
          130.39,
          130.36,
          130.26,
          130.32,
          130.51,
          130.51,
          130.6,
          130.57,
          130.28,
          130.12,
          129.99
         ],
         "increasing": {
          "fillcolor": "cyan",
          "line": {
           "color": "cyan"
          }
         },
         "low": [
          129.86,
          129.8,
          129.97,
          129.97,
          129.97,
          129.88,
          129.58,
          129.52,
          129.5,
          129.33,
          129.66,
          129.5,
          129.56,
          129.51,
          129.71,
          129.85,
          129.57,
          129.74,
          129.68,
          129.96,
          129.91,
          130.08,
          130.2,
          130.18,
          130.4,
          130.31,
          130.14,
          130.15,
          130.12,
          130.13,
          130.13,
          130.14,
          130.28,
          130.27,
          130.16,
          130.25,
          130.44,
          130.42,
          130.41,
          130.56,
          130.74,
          130.69,
          130.5,
          130.39,
          130.39,
          130.34,
          130.27,
          130.22,
          130.27,
          130.32,
          130.41,
          130.3,
          130.37,
          130.18,
          130.19,
          130.33,
          130.35,
          130.34,
          130.27,
          130.08,
          130.21,
          129.89,
          129.74,
          129.85,
          129.92,
          129.94,
          129.98,
          129.96,
          129.93,
          130.06,
          130.17,
          130.42,
          130.38,
          130.31,
          130.25,
          130.1,
          130.13,
          129.98,
          129.79,
          129.78,
          129.74,
          129.42,
          129.33,
          129.49,
          129.59,
          129.72,
          129.91,
          130.19,
          130.29,
          130.38,
          130.26,
          130.12,
          130.19,
          130.28,
          130.59,
          130.73,
          130.51,
          130.52,
          130.53,
          130.19,
          130.23,
          130.18,
          130.24,
          130.21,
          130.05,
          130.14,
          130.28,
          130.43,
          130.45,
          130.25,
          130.03,
          129.96,
          129.95
         ],
         "name": "OHLC",
         "open": [
          129.95,
          129.8,
          129.97,
          130.02,
          129.99,
          129.98,
          129.6,
          129.59,
          129.65,
          129.33,
          129.66,
          129.72,
          129.56,
          129.86,
          129.71,
          129.95,
          129.84,
          129.79,
          129.78,
          130,
          129.91,
          130.08,
          130.2,
          130.42,
          130.4,
          130.35,
          130.29,
          130.15,
          130.2,
          130.16,
          130.18,
          130.14,
          130.28,
          130.34,
          130.28,
          130.25,
          130.46,
          130.49,
          130.46,
          130.56,
          130.74,
          130.73,
          130.7,
          130.45,
          130.41,
          130.34,
          130.38,
          130.28,
          130.3,
          130.37,
          130.41,
          130.48,
          130.37,
          130.21,
          130.26,
          130.33,
          130.39,
          130.35,
          130.38,
          130.21,
          130.24,
          130.11,
          129.9,
          129.99,
          129.99,
          130.04,
          130.15,
          130.08,
          130.14,
          130.07,
          130.17,
          130.42,
          130.44,
          130.39,
          130.29,
          130.15,
          130.13,
          130.2,
          130.04,
          129.94,
          129.76,
          129.81,
          129.33,
          129.63,
          129.59,
          129.73,
          129.91,
          130.19,
          130.29,
          130.41,
          130.33,
          130.26,
          130.19,
          130.28,
          130.59,
          130.73,
          130.74,
          130.62,
          130.53,
          130.33,
          130.38,
          130.23,
          130.39,
          130.24,
          130.22,
          130.14,
          130.28,
          130.43,
          130.5,
          130.57,
          130.2,
          130.12,
          129.99
         ],
         "type": "candlestick",
         "x": [
          "2021-12-17T10:44:00",
          "2021-12-17T10:46:00",
          "2021-12-17T10:47:00",
          "2021-12-17T10:48:00",
          "2021-12-17T10:50:00",
          "2021-12-17T10:52:00",
          "2021-12-17T10:53:00",
          "2021-12-17T10:54:00",
          "2021-12-17T10:55:00",
          "2021-12-17T10:56:00",
          "2021-12-17T10:57:00",
          "2021-12-17T10:58:00",
          "2021-12-17T10:59:00",
          "2021-12-17T11:00:00",
          "2021-12-17T11:01:00",
          "2021-12-17T11:02:00",
          "2021-12-17T11:03:00",
          "2021-12-17T11:04:00",
          "2021-12-17T11:05:00",
          "2021-12-17T11:06:00",
          "2021-12-17T11:07:00",
          "2021-12-17T11:08:00",
          "2021-12-17T11:09:00",
          "2021-12-17T11:10:00",
          "2021-12-17T11:11:00",
          "2021-12-17T11:12:00",
          "2021-12-17T11:13:00",
          "2021-12-17T11:14:00",
          "2021-12-17T11:15:00",
          "2021-12-17T11:16:00",
          "2021-12-17T11:17:00",
          "2021-12-17T11:18:00",
          "2021-12-17T11:19:00",
          "2021-12-17T11:20:00",
          "2021-12-17T11:21:00",
          "2021-12-17T11:22:00",
          "2021-12-17T11:23:00",
          "2021-12-17T11:24:00",
          "2021-12-17T11:25:00",
          "2021-12-17T11:26:00",
          "2021-12-17T11:27:00",
          "2021-12-17T11:28:00",
          "2021-12-17T11:29:00",
          "2021-12-17T11:32:00",
          "2021-12-17T11:33:00",
          "2021-12-17T11:34:00",
          "2021-12-17T11:35:00",
          "2021-12-17T11:36:00",
          "2021-12-17T11:37:00",
          "2021-12-17T11:38:00",
          "2021-12-17T11:39:00",
          "2021-12-17T11:40:00",
          "2021-12-17T11:41:00",
          "2021-12-17T11:42:00",
          "2021-12-17T11:43:00",
          "2021-12-17T11:44:00",
          "2021-12-17T11:45:00",
          "2021-12-17T11:46:00",
          "2021-12-17T11:47:00",
          "2021-12-17T11:48:00",
          "2021-12-17T11:49:00",
          "2021-12-17T11:50:00",
          "2021-12-17T11:51:00",
          "2021-12-17T11:53:00",
          "2021-12-17T11:54:00",
          "2021-12-17T11:55:00",
          "2021-12-17T11:56:00",
          "2021-12-17T11:57:00",
          "2021-12-17T11:58:00",
          "2021-12-17T11:59:00",
          "2021-12-17T12:00:00",
          "2021-12-17T12:01:00",
          "2021-12-17T12:02:00",
          "2021-12-17T12:03:00",
          "2021-12-17T12:04:00",
          "2021-12-17T12:05:00",
          "2021-12-17T12:06:00",
          "2021-12-17T12:07:00",
          "2021-12-17T12:08:00",
          "2021-12-17T12:09:00",
          "2021-12-17T12:10:00",
          "2021-12-17T12:11:00",
          "2021-12-17T12:12:00",
          "2021-12-17T12:13:00",
          "2021-12-17T12:14:00",
          "2021-12-17T12:15:00",
          "2021-12-17T12:16:00",
          "2021-12-17T12:17:00",
          "2021-12-17T12:18:00",
          "2021-12-17T12:19:00",
          "2021-12-17T12:20:00",
          "2021-12-17T12:21:00",
          "2021-12-17T12:22:00",
          "2021-12-17T12:23:00",
          "2021-12-17T12:24:00",
          "2021-12-17T12:25:00",
          "2021-12-17T12:26:00",
          "2021-12-17T12:27:00",
          "2021-12-17T12:28:00",
          "2021-12-17T12:29:00",
          "2021-12-17T12:30:00",
          "2021-12-17T12:31:00",
          "2021-12-17T12:32:00",
          "2021-12-17T12:33:00",
          "2021-12-17T12:34:00",
          "2021-12-17T12:35:00",
          "2021-12-17T12:36:00",
          "2021-12-17T12:37:00",
          "2021-12-17T12:38:00",
          "2021-12-17T12:39:00",
          "2021-12-17T12:40:00",
          "2021-12-17T12:42:00",
          "2021-12-17T12:43:00"
         ]
        }
       ],
       "layout": {
        "template": {
         "data": {
          "bar": [
           {
            "error_x": {
             "color": "#2a3f5f"
            },
            "error_y": {
             "color": "#2a3f5f"
            },
            "marker": {
             "line": {
              "color": "#E5ECF6",
              "width": 0.5
             }
            },
            "type": "bar"
           }
          ],
          "barpolar": [
           {
            "marker": {
             "line": {
              "color": "#E5ECF6",
              "width": 0.5
             }
            },
            "type": "barpolar"
           }
          ],
          "carpet": [
           {
            "aaxis": {
             "endlinecolor": "#2a3f5f",
             "gridcolor": "white",
             "linecolor": "white",
             "minorgridcolor": "white",
             "startlinecolor": "#2a3f5f"
            },
            "baxis": {
             "endlinecolor": "#2a3f5f",
             "gridcolor": "white",
             "linecolor": "white",
             "minorgridcolor": "white",
             "startlinecolor": "#2a3f5f"
            },
            "type": "carpet"
           }
          ],
          "choropleth": [
           {
            "colorbar": {
             "outlinewidth": 0,
             "ticks": ""
            },
            "type": "choropleth"
           }
          ],
          "contour": [
           {
            "colorbar": {
             "outlinewidth": 0,
             "ticks": ""
            },
            "colorscale": [
             [
              0,
              "#0d0887"
             ],
             [
              0.1111111111111111,
              "#46039f"
             ],
             [
              0.2222222222222222,
              "#7201a8"
             ],
             [
              0.3333333333333333,
              "#9c179e"
             ],
             [
              0.4444444444444444,
              "#bd3786"
             ],
             [
              0.5555555555555556,
              "#d8576b"
             ],
             [
              0.6666666666666666,
              "#ed7953"
             ],
             [
              0.7777777777777778,
              "#fb9f3a"
             ],
             [
              0.8888888888888888,
              "#fdca26"
             ],
             [
              1,
              "#f0f921"
             ]
            ],
            "type": "contour"
           }
          ],
          "contourcarpet": [
           {
            "colorbar": {
             "outlinewidth": 0,
             "ticks": ""
            },
            "type": "contourcarpet"
           }
          ],
          "heatmap": [
           {
            "colorbar": {
             "outlinewidth": 0,
             "ticks": ""
            },
            "colorscale": [
             [
              0,
              "#0d0887"
             ],
             [
              0.1111111111111111,
              "#46039f"
             ],
             [
              0.2222222222222222,
              "#7201a8"
             ],
             [
              0.3333333333333333,
              "#9c179e"
             ],
             [
              0.4444444444444444,
              "#bd3786"
             ],
             [
              0.5555555555555556,
              "#d8576b"
             ],
             [
              0.6666666666666666,
              "#ed7953"
             ],
             [
              0.7777777777777778,
              "#fb9f3a"
             ],
             [
              0.8888888888888888,
              "#fdca26"
             ],
             [
              1,
              "#f0f921"
             ]
            ],
            "type": "heatmap"
           }
          ],
          "heatmapgl": [
           {
            "colorbar": {
             "outlinewidth": 0,
             "ticks": ""
            },
            "colorscale": [
             [
              0,
              "#0d0887"
             ],
             [
              0.1111111111111111,
              "#46039f"
             ],
             [
              0.2222222222222222,
              "#7201a8"
             ],
             [
              0.3333333333333333,
              "#9c179e"
             ],
             [
              0.4444444444444444,
              "#bd3786"
             ],
             [
              0.5555555555555556,
              "#d8576b"
             ],
             [
              0.6666666666666666,
              "#ed7953"
             ],
             [
              0.7777777777777778,
              "#fb9f3a"
             ],
             [
              0.8888888888888888,
              "#fdca26"
             ],
             [
              1,
              "#f0f921"
             ]
            ],
            "type": "heatmapgl"
           }
          ],
          "histogram": [
           {
            "marker": {
             "colorbar": {
              "outlinewidth": 0,
              "ticks": ""
             }
            },
            "type": "histogram"
           }
          ],
          "histogram2d": [
           {
            "colorbar": {
             "outlinewidth": 0,
             "ticks": ""
            },
            "colorscale": [
             [
              0,
              "#0d0887"
             ],
             [
              0.1111111111111111,
              "#46039f"
             ],
             [
              0.2222222222222222,
              "#7201a8"
             ],
             [
              0.3333333333333333,
              "#9c179e"
             ],
             [
              0.4444444444444444,
              "#bd3786"
             ],
             [
              0.5555555555555556,
              "#d8576b"
             ],
             [
              0.6666666666666666,
              "#ed7953"
             ],
             [
              0.7777777777777778,
              "#fb9f3a"
             ],
             [
              0.8888888888888888,
              "#fdca26"
             ],
             [
              1,
              "#f0f921"
             ]
            ],
            "type": "histogram2d"
           }
          ],
          "histogram2dcontour": [
           {
            "colorbar": {
             "outlinewidth": 0,
             "ticks": ""
            },
            "colorscale": [
             [
              0,
              "#0d0887"
             ],
             [
              0.1111111111111111,
              "#46039f"
             ],
             [
              0.2222222222222222,
              "#7201a8"
             ],
             [
              0.3333333333333333,
              "#9c179e"
             ],
             [
              0.4444444444444444,
              "#bd3786"
             ],
             [
              0.5555555555555556,
              "#d8576b"
             ],
             [
              0.6666666666666666,
              "#ed7953"
             ],
             [
              0.7777777777777778,
              "#fb9f3a"
             ],
             [
              0.8888888888888888,
              "#fdca26"
             ],
             [
              1,
              "#f0f921"
             ]
            ],
            "type": "histogram2dcontour"
           }
          ],
          "mesh3d": [
           {
            "colorbar": {
             "outlinewidth": 0,
             "ticks": ""
            },
            "type": "mesh3d"
           }
          ],
          "parcoords": [
           {
            "line": {
             "colorbar": {
              "outlinewidth": 0,
              "ticks": ""
             }
            },
            "type": "parcoords"
           }
          ],
          "pie": [
           {
            "automargin": true,
            "type": "pie"
           }
          ],
          "scatter": [
           {
            "marker": {
             "colorbar": {
              "outlinewidth": 0,
              "ticks": ""
             }
            },
            "type": "scatter"
           }
          ],
          "scatter3d": [
           {
            "line": {
             "colorbar": {
              "outlinewidth": 0,
              "ticks": ""
             }
            },
            "marker": {
             "colorbar": {
              "outlinewidth": 0,
              "ticks": ""
             }
            },
            "type": "scatter3d"
           }
          ],
          "scattercarpet": [
           {
            "marker": {
             "colorbar": {
              "outlinewidth": 0,
              "ticks": ""
             }
            },
            "type": "scattercarpet"
           }
          ],
          "scattergeo": [
           {
            "marker": {
             "colorbar": {
              "outlinewidth": 0,
              "ticks": ""
             }
            },
            "type": "scattergeo"
           }
          ],
          "scattergl": [
           {
            "marker": {
             "colorbar": {
              "outlinewidth": 0,
              "ticks": ""
             }
            },
            "type": "scattergl"
           }
          ],
          "scattermapbox": [
           {
            "marker": {
             "colorbar": {
              "outlinewidth": 0,
              "ticks": ""
             }
            },
            "type": "scattermapbox"
           }
          ],
          "scatterpolar": [
           {
            "marker": {
             "colorbar": {
              "outlinewidth": 0,
              "ticks": ""
             }
            },
            "type": "scatterpolar"
           }
          ],
          "scatterpolargl": [
           {
            "marker": {
             "colorbar": {
              "outlinewidth": 0,
              "ticks": ""
             }
            },
            "type": "scatterpolargl"
           }
          ],
          "scatterternary": [
           {
            "marker": {
             "colorbar": {
              "outlinewidth": 0,
              "ticks": ""
             }
            },
            "type": "scatterternary"
           }
          ],
          "surface": [
           {
            "colorbar": {
             "outlinewidth": 0,
             "ticks": ""
            },
            "colorscale": [
             [
              0,
              "#0d0887"
             ],
             [
              0.1111111111111111,
              "#46039f"
             ],
             [
              0.2222222222222222,
              "#7201a8"
             ],
             [
              0.3333333333333333,
              "#9c179e"
             ],
             [
              0.4444444444444444,
              "#bd3786"
             ],
             [
              0.5555555555555556,
              "#d8576b"
             ],
             [
              0.6666666666666666,
              "#ed7953"
             ],
             [
              0.7777777777777778,
              "#fb9f3a"
             ],
             [
              0.8888888888888888,
              "#fdca26"
             ],
             [
              1,
              "#f0f921"
             ]
            ],
            "type": "surface"
           }
          ],
          "table": [
           {
            "cells": {
             "fill": {
              "color": "#EBF0F8"
             },
             "line": {
              "color": "white"
             }
            },
            "header": {
             "fill": {
              "color": "#C8D4E3"
             },
             "line": {
              "color": "white"
             }
            },
            "type": "table"
           }
          ]
         },
         "layout": {
          "annotationdefaults": {
           "arrowcolor": "#2a3f5f",
           "arrowhead": 0,
           "arrowwidth": 1
          },
          "autotypenumbers": "strict",
          "coloraxis": {
           "colorbar": {
            "outlinewidth": 0,
            "ticks": ""
           }
          },
          "colorscale": {
           "diverging": [
            [
             0,
             "#8e0152"
            ],
            [
             0.1,
             "#c51b7d"
            ],
            [
             0.2,
             "#de77ae"
            ],
            [
             0.3,
             "#f1b6da"
            ],
            [
             0.4,
             "#fde0ef"
            ],
            [
             0.5,
             "#f7f7f7"
            ],
            [
             0.6,
             "#e6f5d0"
            ],
            [
             0.7,
             "#b8e186"
            ],
            [
             0.8,
             "#7fbc41"
            ],
            [
             0.9,
             "#4d9221"
            ],
            [
             1,
             "#276419"
            ]
           ],
           "sequential": [
            [
             0,
             "#0d0887"
            ],
            [
             0.1111111111111111,
             "#46039f"
            ],
            [
             0.2222222222222222,
             "#7201a8"
            ],
            [
             0.3333333333333333,
             "#9c179e"
            ],
            [
             0.4444444444444444,
             "#bd3786"
            ],
            [
             0.5555555555555556,
             "#d8576b"
            ],
            [
             0.6666666666666666,
             "#ed7953"
            ],
            [
             0.7777777777777778,
             "#fb9f3a"
            ],
            [
             0.8888888888888888,
             "#fdca26"
            ],
            [
             1,
             "#f0f921"
            ]
           ],
           "sequentialminus": [
            [
             0,
             "#0d0887"
            ],
            [
             0.1111111111111111,
             "#46039f"
            ],
            [
             0.2222222222222222,
             "#7201a8"
            ],
            [
             0.3333333333333333,
             "#9c179e"
            ],
            [
             0.4444444444444444,
             "#bd3786"
            ],
            [
             0.5555555555555556,
             "#d8576b"
            ],
            [
             0.6666666666666666,
             "#ed7953"
            ],
            [
             0.7777777777777778,
             "#fb9f3a"
            ],
            [
             0.8888888888888888,
             "#fdca26"
            ],
            [
             1,
             "#f0f921"
            ]
           ]
          },
          "colorway": [
           "#636efa",
           "#EF553B",
           "#00cc96",
           "#ab63fa",
           "#FFA15A",
           "#19d3f3",
           "#FF6692",
           "#B6E880",
           "#FF97FF",
           "#FECB52"
          ],
          "font": {
           "color": "#2a3f5f"
          },
          "geo": {
           "bgcolor": "white",
           "lakecolor": "white",
           "landcolor": "#E5ECF6",
           "showlakes": true,
           "showland": true,
           "subunitcolor": "white"
          },
          "hoverlabel": {
           "align": "left"
          },
          "hovermode": "closest",
          "mapbox": {
           "style": "light"
          },
          "paper_bgcolor": "white",
          "plot_bgcolor": "#E5ECF6",
          "polar": {
           "angularaxis": {
            "gridcolor": "white",
            "linecolor": "white",
            "ticks": ""
           },
           "bgcolor": "#E5ECF6",
           "radialaxis": {
            "gridcolor": "white",
            "linecolor": "white",
            "ticks": ""
           }
          },
          "scene": {
           "xaxis": {
            "backgroundcolor": "#E5ECF6",
            "gridcolor": "white",
            "gridwidth": 2,
            "linecolor": "white",
            "showbackground": true,
            "ticks": "",
            "zerolinecolor": "white"
           },
           "yaxis": {
            "backgroundcolor": "#E5ECF6",
            "gridcolor": "white",
            "gridwidth": 2,
            "linecolor": "white",
            "showbackground": true,
            "ticks": "",
            "zerolinecolor": "white"
           },
           "zaxis": {
            "backgroundcolor": "#E5ECF6",
            "gridcolor": "white",
            "gridwidth": 2,
            "linecolor": "white",
            "showbackground": true,
            "ticks": "",
            "zerolinecolor": "white"
           }
          },
          "shapedefaults": {
           "line": {
            "color": "#2a3f5f"
           }
          },
          "ternary": {
           "aaxis": {
            "gridcolor": "white",
            "linecolor": "white",
            "ticks": ""
           },
           "baxis": {
            "gridcolor": "white",
            "linecolor": "white",
            "ticks": ""
           },
           "bgcolor": "#E5ECF6",
           "caxis": {
            "gridcolor": "white",
            "linecolor": "white",
            "ticks": ""
           }
          },
          "title": {
           "x": 0.05
          },
          "xaxis": {
           "automargin": true,
           "gridcolor": "white",
           "linecolor": "white",
           "ticks": "",
           "title": {
            "standoff": 15
           },
           "zerolinecolor": "white",
           "zerolinewidth": 2
          },
          "yaxis": {
           "automargin": true,
           "gridcolor": "white",
           "linecolor": "white",
           "ticks": "",
           "title": {
            "standoff": 15
           },
           "zerolinecolor": "white",
           "zerolinewidth": 2
          }
         }
        },
        "title": {
         "text": "OHLC Chart for LTC with time interval 1min"
        },
        "xaxis": {
         "rangeslider": {
          "visible": false
         }
        }
       }
      }
     },
     "metadata": {},
     "output_type": "display_data"
    },
    {
     "data": {
      "application/vnd.plotly.v1+json": {
       "config": {
        "plotlyServerURL": "https://plot.ly"
       },
       "data": [
        {
         "close": [
          1.2033,
          1.2037,
          1.206,
          1.2054,
          1.2051,
          1.2053,
          1.2013,
          1.2006,
          1.2029,
          1.2021,
          1.2034,
          1.2026,
          1.2028,
          1.2025,
          1.2045,
          1.207,
          1.2062,
          1.2059,
          1.2053,
          1.2061,
          1.2055,
          1.207,
          1.2064,
          1.2067,
          1.2097,
          1.2105,
          1.2112,
          1.2109,
          1.2093,
          1.2083,
          1.208,
          1.208,
          1.2072,
          1.2064,
          1.2069,
          1.2071,
          1.2058,
          1.2048,
          1.2042,
          1.2038,
          1.2031,
          1.2005,
          1.2019,
          1.2019,
          1.2015,
          1.2021,
          1.2022,
          1.2053,
          1.2059,
          1.2029,
          1.2019,
          1.2002,
          1.2001,
          1.1962,
          1.1982,
          1.202,
          1.2037,
          1.2021,
          1.2042,
          1.2071,
          1.2066,
          1.2045,
          1.2045,
          1.2053,
          1.206,
          1.208,
          1.206,
          1.2055,
          1.2053,
          1.208,
          1.2053,
          1.2044,
          1.2037
         ],
         "decreasing": {
          "fillcolor": "gray",
          "line": {
           "color": "gray"
          }
         },
         "high": [
          1.2033,
          1.2037,
          1.206,
          1.2054,
          1.2055,
          1.2053,
          1.2019,
          1.2036,
          1.2033,
          1.2036,
          1.2034,
          1.2026,
          1.2038,
          1.2028,
          1.2045,
          1.207,
          1.2062,
          1.2059,
          1.2059,
          1.2063,
          1.2055,
          1.207,
          1.2064,
          1.2067,
          1.2097,
          1.2105,
          1.2115,
          1.2109,
          1.2093,
          1.2083,
          1.2081,
          1.2088,
          1.2089,
          1.2066,
          1.2076,
          1.2071,
          1.2058,
          1.2054,
          1.2054,
          1.2038,
          1.2031,
          1.201,
          1.2019,
          1.2019,
          1.2025,
          1.2031,
          1.2041,
          1.2053,
          1.2059,
          1.2038,
          1.2045,
          1.2027,
          1.2005,
          1.199,
          1.1982,
          1.202,
          1.2037,
          1.2028,
          1.2042,
          1.2071,
          1.2079,
          1.2069,
          1.2057,
          1.2059,
          1.206,
          1.208,
          1.2065,
          1.2055,
          1.2053,
          1.208,
          1.2065,
          1.2056,
          1.2037
         ],
         "increasing": {
          "fillcolor": "cyan",
          "line": {
           "color": "cyan"
          }
         },
         "low": [
          1.202,
          1.2024,
          1.2043,
          1.2051,
          1.2051,
          1.205,
          1.2011,
          1.2006,
          1.2002,
          1.2021,
          1.2025,
          1.2026,
          1.2027,
          1.202,
          1.204,
          1.2046,
          1.2048,
          1.2051,
          1.2053,
          1.2061,
          1.2039,
          1.2054,
          1.2063,
          1.2062,
          1.2071,
          1.2091,
          1.211,
          1.2093,
          1.2088,
          1.2081,
          1.208,
          1.2078,
          1.2072,
          1.2061,
          1.2063,
          1.2063,
          1.2058,
          1.2047,
          1.204,
          1.2038,
          1.2016,
          1.1997,
          1.2012,
          1.2019,
          1.2015,
          1.2021,
          1.2021,
          1.2046,
          1.2053,
          1.2029,
          1.2019,
          1.2002,
          1.2001,
          1.196,
          1.1978,
          1.1984,
          1.203,
          1.2018,
          1.2029,
          1.2046,
          1.2066,
          1.2045,
          1.2045,
          1.2053,
          1.2056,
          1.208,
          1.206,
          1.2046,
          1.2053,
          1.2073,
          1.2053,
          1.2044,
          1.2037
         ],
         "name": "OHLC",
         "open": [
          1.202,
          1.2024,
          1.2043,
          1.2051,
          1.2055,
          1.205,
          1.2017,
          1.2026,
          1.2019,
          1.2023,
          1.2026,
          1.2026,
          1.2033,
          1.2028,
          1.204,
          1.2046,
          1.2061,
          1.2051,
          1.2059,
          1.2063,
          1.2039,
          1.2054,
          1.2063,
          1.2062,
          1.208,
          1.21,
          1.211,
          1.2102,
          1.2088,
          1.2081,
          1.2081,
          1.208,
          1.2081,
          1.2062,
          1.2063,
          1.2063,
          1.2058,
          1.2054,
          1.2054,
          1.2038,
          1.203,
          1.201,
          1.2018,
          1.2019,
          1.2025,
          1.2023,
          1.2025,
          1.2046,
          1.2054,
          1.2038,
          1.2023,
          1.2022,
          1.2005,
          1.199,
          1.1978,
          1.1984,
          1.203,
          1.2028,
          1.2029,
          1.2046,
          1.2079,
          1.2069,
          1.2056,
          1.2059,
          1.2056,
          1.208,
          1.2065,
          1.2053,
          1.2053,
          1.2073,
          1.2065,
          1.2055,
          1.2037
         ],
         "type": "candlestick",
         "x": [
          "2021-12-17T10:44:00",
          "2021-12-17T10:45:00",
          "2021-12-17T10:47:00",
          "2021-12-17T10:48:00",
          "2021-12-17T10:49:00",
          "2021-12-17T10:51:00",
          "2021-12-17T10:53:00",
          "2021-12-17T10:55:00",
          "2021-12-17T10:57:00",
          "2021-12-17T10:59:00",
          "2021-12-17T11:01:00",
          "2021-12-17T11:02:00",
          "2021-12-17T11:03:00",
          "2021-12-17T11:04:00",
          "2021-12-17T11:07:00",
          "2021-12-17T11:09:00",
          "2021-12-17T11:11:00",
          "2021-12-17T11:13:00",
          "2021-12-17T11:14:00",
          "2021-12-17T11:15:00",
          "2021-12-17T11:17:00",
          "2021-12-17T11:18:00",
          "2021-12-17T11:20:00",
          "2021-12-17T11:21:00",
          "2021-12-17T11:23:00",
          "2021-12-17T11:24:00",
          "2021-12-17T11:27:00",
          "2021-12-17T11:32:00",
          "2021-12-17T11:33:00",
          "2021-12-17T11:35:00",
          "2021-12-17T11:36:00",
          "2021-12-17T11:38:00",
          "2021-12-17T11:41:00",
          "2021-12-17T11:42:00",
          "2021-12-17T11:43:00",
          "2021-12-17T11:44:00",
          "2021-12-17T11:45:00",
          "2021-12-17T11:47:00",
          "2021-12-17T11:48:00",
          "2021-12-17T11:49:00",
          "2021-12-17T11:50:00",
          "2021-12-17T11:51:00",
          "2021-12-17T11:53:00",
          "2021-12-17T11:56:00",
          "2021-12-17T11:57:00",
          "2021-12-17T11:58:00",
          "2021-12-17T11:59:00",
          "2021-12-17T12:00:00",
          "2021-12-17T12:02:00",
          "2021-12-17T12:04:00",
          "2021-12-17T12:06:00",
          "2021-12-17T12:08:00",
          "2021-12-17T12:09:00",
          "2021-12-17T12:11:00",
          "2021-12-17T12:12:00",
          "2021-12-17T12:15:00",
          "2021-12-17T12:17:00",
          "2021-12-17T12:20:00",
          "2021-12-17T12:22:00",
          "2021-12-17T12:23:00",
          "2021-12-17T12:24:00",
          "2021-12-17T12:25:00",
          "2021-12-17T12:26:00",
          "2021-12-17T12:28:00",
          "2021-12-17T12:30:00",
          "2021-12-17T12:31:00",
          "2021-12-17T12:32:00",
          "2021-12-17T12:34:00",
          "2021-12-17T12:35:00",
          "2021-12-17T12:37:00",
          "2021-12-17T12:39:00",
          "2021-12-17T12:41:00",
          "2021-12-17T12:42:00"
         ]
        }
       ],
       "layout": {
        "template": {
         "data": {
          "bar": [
           {
            "error_x": {
             "color": "#2a3f5f"
            },
            "error_y": {
             "color": "#2a3f5f"
            },
            "marker": {
             "line": {
              "color": "#E5ECF6",
              "width": 0.5
             }
            },
            "type": "bar"
           }
          ],
          "barpolar": [
           {
            "marker": {
             "line": {
              "color": "#E5ECF6",
              "width": 0.5
             }
            },
            "type": "barpolar"
           }
          ],
          "carpet": [
           {
            "aaxis": {
             "endlinecolor": "#2a3f5f",
             "gridcolor": "white",
             "linecolor": "white",
             "minorgridcolor": "white",
             "startlinecolor": "#2a3f5f"
            },
            "baxis": {
             "endlinecolor": "#2a3f5f",
             "gridcolor": "white",
             "linecolor": "white",
             "minorgridcolor": "white",
             "startlinecolor": "#2a3f5f"
            },
            "type": "carpet"
           }
          ],
          "choropleth": [
           {
            "colorbar": {
             "outlinewidth": 0,
             "ticks": ""
            },
            "type": "choropleth"
           }
          ],
          "contour": [
           {
            "colorbar": {
             "outlinewidth": 0,
             "ticks": ""
            },
            "colorscale": [
             [
              0,
              "#0d0887"
             ],
             [
              0.1111111111111111,
              "#46039f"
             ],
             [
              0.2222222222222222,
              "#7201a8"
             ],
             [
              0.3333333333333333,
              "#9c179e"
             ],
             [
              0.4444444444444444,
              "#bd3786"
             ],
             [
              0.5555555555555556,
              "#d8576b"
             ],
             [
              0.6666666666666666,
              "#ed7953"
             ],
             [
              0.7777777777777778,
              "#fb9f3a"
             ],
             [
              0.8888888888888888,
              "#fdca26"
             ],
             [
              1,
              "#f0f921"
             ]
            ],
            "type": "contour"
           }
          ],
          "contourcarpet": [
           {
            "colorbar": {
             "outlinewidth": 0,
             "ticks": ""
            },
            "type": "contourcarpet"
           }
          ],
          "heatmap": [
           {
            "colorbar": {
             "outlinewidth": 0,
             "ticks": ""
            },
            "colorscale": [
             [
              0,
              "#0d0887"
             ],
             [
              0.1111111111111111,
              "#46039f"
             ],
             [
              0.2222222222222222,
              "#7201a8"
             ],
             [
              0.3333333333333333,
              "#9c179e"
             ],
             [
              0.4444444444444444,
              "#bd3786"
             ],
             [
              0.5555555555555556,
              "#d8576b"
             ],
             [
              0.6666666666666666,
              "#ed7953"
             ],
             [
              0.7777777777777778,
              "#fb9f3a"
             ],
             [
              0.8888888888888888,
              "#fdca26"
             ],
             [
              1,
              "#f0f921"
             ]
            ],
            "type": "heatmap"
           }
          ],
          "heatmapgl": [
           {
            "colorbar": {
             "outlinewidth": 0,
             "ticks": ""
            },
            "colorscale": [
             [
              0,
              "#0d0887"
             ],
             [
              0.1111111111111111,
              "#46039f"
             ],
             [
              0.2222222222222222,
              "#7201a8"
             ],
             [
              0.3333333333333333,
              "#9c179e"
             ],
             [
              0.4444444444444444,
              "#bd3786"
             ],
             [
              0.5555555555555556,
              "#d8576b"
             ],
             [
              0.6666666666666666,
              "#ed7953"
             ],
             [
              0.7777777777777778,
              "#fb9f3a"
             ],
             [
              0.8888888888888888,
              "#fdca26"
             ],
             [
              1,
              "#f0f921"
             ]
            ],
            "type": "heatmapgl"
           }
          ],
          "histogram": [
           {
            "marker": {
             "colorbar": {
              "outlinewidth": 0,
              "ticks": ""
             }
            },
            "type": "histogram"
           }
          ],
          "histogram2d": [
           {
            "colorbar": {
             "outlinewidth": 0,
             "ticks": ""
            },
            "colorscale": [
             [
              0,
              "#0d0887"
             ],
             [
              0.1111111111111111,
              "#46039f"
             ],
             [
              0.2222222222222222,
              "#7201a8"
             ],
             [
              0.3333333333333333,
              "#9c179e"
             ],
             [
              0.4444444444444444,
              "#bd3786"
             ],
             [
              0.5555555555555556,
              "#d8576b"
             ],
             [
              0.6666666666666666,
              "#ed7953"
             ],
             [
              0.7777777777777778,
              "#fb9f3a"
             ],
             [
              0.8888888888888888,
              "#fdca26"
             ],
             [
              1,
              "#f0f921"
             ]
            ],
            "type": "histogram2d"
           }
          ],
          "histogram2dcontour": [
           {
            "colorbar": {
             "outlinewidth": 0,
             "ticks": ""
            },
            "colorscale": [
             [
              0,
              "#0d0887"
             ],
             [
              0.1111111111111111,
              "#46039f"
             ],
             [
              0.2222222222222222,
              "#7201a8"
             ],
             [
              0.3333333333333333,
              "#9c179e"
             ],
             [
              0.4444444444444444,
              "#bd3786"
             ],
             [
              0.5555555555555556,
              "#d8576b"
             ],
             [
              0.6666666666666666,
              "#ed7953"
             ],
             [
              0.7777777777777778,
              "#fb9f3a"
             ],
             [
              0.8888888888888888,
              "#fdca26"
             ],
             [
              1,
              "#f0f921"
             ]
            ],
            "type": "histogram2dcontour"
           }
          ],
          "mesh3d": [
           {
            "colorbar": {
             "outlinewidth": 0,
             "ticks": ""
            },
            "type": "mesh3d"
           }
          ],
          "parcoords": [
           {
            "line": {
             "colorbar": {
              "outlinewidth": 0,
              "ticks": ""
             }
            },
            "type": "parcoords"
           }
          ],
          "pie": [
           {
            "automargin": true,
            "type": "pie"
           }
          ],
          "scatter": [
           {
            "marker": {
             "colorbar": {
              "outlinewidth": 0,
              "ticks": ""
             }
            },
            "type": "scatter"
           }
          ],
          "scatter3d": [
           {
            "line": {
             "colorbar": {
              "outlinewidth": 0,
              "ticks": ""
             }
            },
            "marker": {
             "colorbar": {
              "outlinewidth": 0,
              "ticks": ""
             }
            },
            "type": "scatter3d"
           }
          ],
          "scattercarpet": [
           {
            "marker": {
             "colorbar": {
              "outlinewidth": 0,
              "ticks": ""
             }
            },
            "type": "scattercarpet"
           }
          ],
          "scattergeo": [
           {
            "marker": {
             "colorbar": {
              "outlinewidth": 0,
              "ticks": ""
             }
            },
            "type": "scattergeo"
           }
          ],
          "scattergl": [
           {
            "marker": {
             "colorbar": {
              "outlinewidth": 0,
              "ticks": ""
             }
            },
            "type": "scattergl"
           }
          ],
          "scattermapbox": [
           {
            "marker": {
             "colorbar": {
              "outlinewidth": 0,
              "ticks": ""
             }
            },
            "type": "scattermapbox"
           }
          ],
          "scatterpolar": [
           {
            "marker": {
             "colorbar": {
              "outlinewidth": 0,
              "ticks": ""
             }
            },
            "type": "scatterpolar"
           }
          ],
          "scatterpolargl": [
           {
            "marker": {
             "colorbar": {
              "outlinewidth": 0,
              "ticks": ""
             }
            },
            "type": "scatterpolargl"
           }
          ],
          "scatterternary": [
           {
            "marker": {
             "colorbar": {
              "outlinewidth": 0,
              "ticks": ""
             }
            },
            "type": "scatterternary"
           }
          ],
          "surface": [
           {
            "colorbar": {
             "outlinewidth": 0,
             "ticks": ""
            },
            "colorscale": [
             [
              0,
              "#0d0887"
             ],
             [
              0.1111111111111111,
              "#46039f"
             ],
             [
              0.2222222222222222,
              "#7201a8"
             ],
             [
              0.3333333333333333,
              "#9c179e"
             ],
             [
              0.4444444444444444,
              "#bd3786"
             ],
             [
              0.5555555555555556,
              "#d8576b"
             ],
             [
              0.6666666666666666,
              "#ed7953"
             ],
             [
              0.7777777777777778,
              "#fb9f3a"
             ],
             [
              0.8888888888888888,
              "#fdca26"
             ],
             [
              1,
              "#f0f921"
             ]
            ],
            "type": "surface"
           }
          ],
          "table": [
           {
            "cells": {
             "fill": {
              "color": "#EBF0F8"
             },
             "line": {
              "color": "white"
             }
            },
            "header": {
             "fill": {
              "color": "#C8D4E3"
             },
             "line": {
              "color": "white"
             }
            },
            "type": "table"
           }
          ]
         },
         "layout": {
          "annotationdefaults": {
           "arrowcolor": "#2a3f5f",
           "arrowhead": 0,
           "arrowwidth": 1
          },
          "autotypenumbers": "strict",
          "coloraxis": {
           "colorbar": {
            "outlinewidth": 0,
            "ticks": ""
           }
          },
          "colorscale": {
           "diverging": [
            [
             0,
             "#8e0152"
            ],
            [
             0.1,
             "#c51b7d"
            ],
            [
             0.2,
             "#de77ae"
            ],
            [
             0.3,
             "#f1b6da"
            ],
            [
             0.4,
             "#fde0ef"
            ],
            [
             0.5,
             "#f7f7f7"
            ],
            [
             0.6,
             "#e6f5d0"
            ],
            [
             0.7,
             "#b8e186"
            ],
            [
             0.8,
             "#7fbc41"
            ],
            [
             0.9,
             "#4d9221"
            ],
            [
             1,
             "#276419"
            ]
           ],
           "sequential": [
            [
             0,
             "#0d0887"
            ],
            [
             0.1111111111111111,
             "#46039f"
            ],
            [
             0.2222222222222222,
             "#7201a8"
            ],
            [
             0.3333333333333333,
             "#9c179e"
            ],
            [
             0.4444444444444444,
             "#bd3786"
            ],
            [
             0.5555555555555556,
             "#d8576b"
            ],
            [
             0.6666666666666666,
             "#ed7953"
            ],
            [
             0.7777777777777778,
             "#fb9f3a"
            ],
            [
             0.8888888888888888,
             "#fdca26"
            ],
            [
             1,
             "#f0f921"
            ]
           ],
           "sequentialminus": [
            [
             0,
             "#0d0887"
            ],
            [
             0.1111111111111111,
             "#46039f"
            ],
            [
             0.2222222222222222,
             "#7201a8"
            ],
            [
             0.3333333333333333,
             "#9c179e"
            ],
            [
             0.4444444444444444,
             "#bd3786"
            ],
            [
             0.5555555555555556,
             "#d8576b"
            ],
            [
             0.6666666666666666,
             "#ed7953"
            ],
            [
             0.7777777777777778,
             "#fb9f3a"
            ],
            [
             0.8888888888888888,
             "#fdca26"
            ],
            [
             1,
             "#f0f921"
            ]
           ]
          },
          "colorway": [
           "#636efa",
           "#EF553B",
           "#00cc96",
           "#ab63fa",
           "#FFA15A",
           "#19d3f3",
           "#FF6692",
           "#B6E880",
           "#FF97FF",
           "#FECB52"
          ],
          "font": {
           "color": "#2a3f5f"
          },
          "geo": {
           "bgcolor": "white",
           "lakecolor": "white",
           "landcolor": "#E5ECF6",
           "showlakes": true,
           "showland": true,
           "subunitcolor": "white"
          },
          "hoverlabel": {
           "align": "left"
          },
          "hovermode": "closest",
          "mapbox": {
           "style": "light"
          },
          "paper_bgcolor": "white",
          "plot_bgcolor": "#E5ECF6",
          "polar": {
           "angularaxis": {
            "gridcolor": "white",
            "linecolor": "white",
            "ticks": ""
           },
           "bgcolor": "#E5ECF6",
           "radialaxis": {
            "gridcolor": "white",
            "linecolor": "white",
            "ticks": ""
           }
          },
          "scene": {
           "xaxis": {
            "backgroundcolor": "#E5ECF6",
            "gridcolor": "white",
            "gridwidth": 2,
            "linecolor": "white",
            "showbackground": true,
            "ticks": "",
            "zerolinecolor": "white"
           },
           "yaxis": {
            "backgroundcolor": "#E5ECF6",
            "gridcolor": "white",
            "gridwidth": 2,
            "linecolor": "white",
            "showbackground": true,
            "ticks": "",
            "zerolinecolor": "white"
           },
           "zaxis": {
            "backgroundcolor": "#E5ECF6",
            "gridcolor": "white",
            "gridwidth": 2,
            "linecolor": "white",
            "showbackground": true,
            "ticks": "",
            "zerolinecolor": "white"
           }
          },
          "shapedefaults": {
           "line": {
            "color": "#2a3f5f"
           }
          },
          "ternary": {
           "aaxis": {
            "gridcolor": "white",
            "linecolor": "white",
            "ticks": ""
           },
           "baxis": {
            "gridcolor": "white",
            "linecolor": "white",
            "ticks": ""
           },
           "bgcolor": "#E5ECF6",
           "caxis": {
            "gridcolor": "white",
            "linecolor": "white",
            "ticks": ""
           }
          },
          "title": {
           "x": 0.05
          },
          "xaxis": {
           "automargin": true,
           "gridcolor": "white",
           "linecolor": "white",
           "ticks": "",
           "title": {
            "standoff": 15
           },
           "zerolinecolor": "white",
           "zerolinewidth": 2
          },
          "yaxis": {
           "automargin": true,
           "gridcolor": "white",
           "linecolor": "white",
           "ticks": "",
           "title": {
            "standoff": 15
           },
           "zerolinecolor": "white",
           "zerolinewidth": 2
          }
         }
        },
        "title": {
         "text": "OHLC Chart for ALGO with time interval 1min"
        },
        "xaxis": {
         "rangeslider": {
          "visible": false
         }
        }
       }
      }
     },
     "metadata": {},
     "output_type": "display_data"
    },
    {
     "data": {
      "application/vnd.plotly.v1+json": {
       "config": {
        "plotlyServerURL": "https://plot.ly"
       },
       "data": [
        {
         "close": [
          0.0000283,
          0.0000284,
          0.0000284,
          0.0000283,
          0.0000284,
          0.0000283,
          0.0000283,
          0.0000282,
          0.0000283,
          0.0000283,
          0.0000284,
          0.0000283,
          0.0000284,
          0.0000283,
          0.0000284,
          0.0000284,
          0.0000283,
          0.0000284,
          0.0000284,
          0.0000283,
          0.0000284,
          0.0000284,
          0.0000284,
          0.0000284,
          0.0000284,
          0.0000284,
          0.0000283,
          0.0000284,
          0.0000284,
          0.0000283,
          0.0000283,
          0.0000283,
          0.0000283,
          0.0000283,
          0.0000283,
          0.0000282,
          0.0000282,
          0.0000282,
          0.0000281,
          0.0000282,
          0.0000283,
          0.0000283,
          0.0000283,
          0.0000283,
          0.0000282,
          0.000028,
          0.000028,
          0.0000281,
          0.0000281,
          0.0000281,
          0.0000282,
          0.0000282,
          0.0000283,
          0.0000283,
          0.0000283,
          0.0000283,
          0.0000283,
          0.0000283,
          0.0000282,
          0.0000281
         ],
         "decreasing": {
          "fillcolor": "gray",
          "line": {
           "color": "gray"
          }
         },
         "high": [
          0.0000283,
          0.0000284,
          0.0000284,
          0.0000284,
          0.0000284,
          0.0000284,
          0.0000283,
          0.0000283,
          0.0000283,
          0.0000283,
          0.0000284,
          0.0000283,
          0.0000284,
          0.0000283,
          0.0000284,
          0.0000284,
          0.0000283,
          0.0000284,
          0.0000284,
          0.0000283,
          0.0000284,
          0.0000284,
          0.0000284,
          0.0000284,
          0.0000284,
          0.0000284,
          0.0000284,
          0.0000284,
          0.0000284,
          0.0000283,
          0.0000284,
          0.0000283,
          0.0000283,
          0.0000283,
          0.0000283,
          0.0000282,
          0.0000282,
          0.0000282,
          0.0000281,
          0.0000282,
          0.0000283,
          0.0000283,
          0.0000283,
          0.0000283,
          0.0000282,
          0.0000282,
          0.000028,
          0.0000281,
          0.0000281,
          0.0000282,
          0.0000282,
          0.0000283,
          0.0000283,
          0.0000283,
          0.0000283,
          0.0000283,
          0.0000283,
          0.0000283,
          0.0000283,
          0.0000282
         ],
         "increasing": {
          "fillcolor": "cyan",
          "line": {
           "color": "cyan"
          }
         },
         "low": [
          0.0000283,
          0.0000283,
          0.0000284,
          0.0000282,
          0.0000284,
          0.0000283,
          0.0000282,
          0.0000282,
          0.0000283,
          0.0000282,
          0.0000282,
          0.0000283,
          0.0000283,
          0.0000283,
          0.0000284,
          0.0000283,
          0.0000283,
          0.0000283,
          0.0000284,
          0.0000283,
          0.0000284,
          0.0000284,
          0.0000284,
          0.0000284,
          0.0000284,
          0.0000284,
          0.0000283,
          0.0000284,
          0.0000284,
          0.0000283,
          0.0000283,
          0.0000283,
          0.0000283,
          0.0000283,
          0.0000282,
          0.0000282,
          0.0000282,
          0.0000282,
          0.0000281,
          0.0000281,
          0.0000282,
          0.0000282,
          0.0000283,
          0.0000283,
          0.0000282,
          0.000028,
          0.0000279,
          0.000028,
          0.000028,
          0.0000281,
          0.0000281,
          0.0000282,
          0.0000283,
          0.0000283,
          0.0000283,
          0.0000283,
          0.0000283,
          0.0000283,
          0.0000282,
          0.0000281
         ],
         "name": "OHLC",
         "open": [
          0.0000283,
          0.0000283,
          0.0000284,
          0.0000283,
          0.0000284,
          0.0000284,
          0.0000282,
          0.0000283,
          0.0000283,
          0.0000282,
          0.0000282,
          0.0000283,
          0.0000283,
          0.0000283,
          0.0000284,
          0.0000284,
          0.0000283,
          0.0000283,
          0.0000284,
          0.0000283,
          0.0000284,
          0.0000284,
          0.0000284,
          0.0000284,
          0.0000284,
          0.0000284,
          0.0000284,
          0.0000284,
          0.0000284,
          0.0000283,
          0.0000284,
          0.0000283,
          0.0000283,
          0.0000283,
          0.0000283,
          0.0000282,
          0.0000282,
          0.0000282,
          0.0000281,
          0.0000281,
          0.0000282,
          0.0000283,
          0.0000283,
          0.0000283,
          0.0000282,
          0.0000282,
          0.0000279,
          0.000028,
          0.000028,
          0.0000281,
          0.0000281,
          0.0000282,
          0.0000283,
          0.0000283,
          0.0000283,
          0.0000283,
          0.0000283,
          0.0000283,
          0.0000283,
          0.0000282
         ],
         "type": "candlestick",
         "x": [
          "2021-12-17T10:45:00",
          "2021-12-17T10:47:00",
          "2021-12-17T10:48:00",
          "2021-12-17T10:50:00",
          "2021-12-17T10:51:00",
          "2021-12-17T10:52:00",
          "2021-12-17T10:54:00",
          "2021-12-17T10:55:00",
          "2021-12-17T10:57:00",
          "2021-12-17T10:58:00",
          "2021-12-17T11:01:00",
          "2021-12-17T11:03:00",
          "2021-12-17T11:06:00",
          "2021-12-17T11:07:00",
          "2021-12-17T11:08:00",
          "2021-12-17T11:10:00",
          "2021-12-17T11:13:00",
          "2021-12-17T11:16:00",
          "2021-12-17T11:19:00",
          "2021-12-17T11:20:00",
          "2021-12-17T11:21:00",
          "2021-12-17T11:24:00",
          "2021-12-17T11:27:00",
          "2021-12-17T11:31:00",
          "2021-12-17T11:32:00",
          "2021-12-17T11:33:00",
          "2021-12-17T11:34:00",
          "2021-12-17T11:35:00",
          "2021-12-17T11:36:00",
          "2021-12-17T11:37:00",
          "2021-12-17T11:41:00",
          "2021-12-17T11:42:00",
          "2021-12-17T11:43:00",
          "2021-12-17T11:45:00",
          "2021-12-17T11:48:00",
          "2021-12-17T11:50:00",
          "2021-12-17T11:51:00",
          "2021-12-17T11:52:00",
          "2021-12-17T11:53:00",
          "2021-12-17T11:54:00",
          "2021-12-17T11:56:00",
          "2021-12-17T11:57:00",
          "2021-12-17T11:58:00",
          "2021-12-17T12:02:00",
          "2021-12-17T12:05:00",
          "2021-12-17T12:11:00",
          "2021-12-17T12:12:00",
          "2021-12-17T12:14:00",
          "2021-12-17T12:16:00",
          "2021-12-17T12:17:00",
          "2021-12-17T12:18:00",
          "2021-12-17T12:20:00",
          "2021-12-17T12:25:00",
          "2021-12-17T12:27:00",
          "2021-12-17T12:31:00",
          "2021-12-17T12:34:00",
          "2021-12-17T12:35:00",
          "2021-12-17T12:39:00",
          "2021-12-17T12:40:00",
          "2021-12-17T12:41:00"
         ]
        }
       ],
       "layout": {
        "template": {
         "data": {
          "bar": [
           {
            "error_x": {
             "color": "#2a3f5f"
            },
            "error_y": {
             "color": "#2a3f5f"
            },
            "marker": {
             "line": {
              "color": "#E5ECF6",
              "width": 0.5
             }
            },
            "type": "bar"
           }
          ],
          "barpolar": [
           {
            "marker": {
             "line": {
              "color": "#E5ECF6",
              "width": 0.5
             }
            },
            "type": "barpolar"
           }
          ],
          "carpet": [
           {
            "aaxis": {
             "endlinecolor": "#2a3f5f",
             "gridcolor": "white",
             "linecolor": "white",
             "minorgridcolor": "white",
             "startlinecolor": "#2a3f5f"
            },
            "baxis": {
             "endlinecolor": "#2a3f5f",
             "gridcolor": "white",
             "linecolor": "white",
             "minorgridcolor": "white",
             "startlinecolor": "#2a3f5f"
            },
            "type": "carpet"
           }
          ],
          "choropleth": [
           {
            "colorbar": {
             "outlinewidth": 0,
             "ticks": ""
            },
            "type": "choropleth"
           }
          ],
          "contour": [
           {
            "colorbar": {
             "outlinewidth": 0,
             "ticks": ""
            },
            "colorscale": [
             [
              0,
              "#0d0887"
             ],
             [
              0.1111111111111111,
              "#46039f"
             ],
             [
              0.2222222222222222,
              "#7201a8"
             ],
             [
              0.3333333333333333,
              "#9c179e"
             ],
             [
              0.4444444444444444,
              "#bd3786"
             ],
             [
              0.5555555555555556,
              "#d8576b"
             ],
             [
              0.6666666666666666,
              "#ed7953"
             ],
             [
              0.7777777777777778,
              "#fb9f3a"
             ],
             [
              0.8888888888888888,
              "#fdca26"
             ],
             [
              1,
              "#f0f921"
             ]
            ],
            "type": "contour"
           }
          ],
          "contourcarpet": [
           {
            "colorbar": {
             "outlinewidth": 0,
             "ticks": ""
            },
            "type": "contourcarpet"
           }
          ],
          "heatmap": [
           {
            "colorbar": {
             "outlinewidth": 0,
             "ticks": ""
            },
            "colorscale": [
             [
              0,
              "#0d0887"
             ],
             [
              0.1111111111111111,
              "#46039f"
             ],
             [
              0.2222222222222222,
              "#7201a8"
             ],
             [
              0.3333333333333333,
              "#9c179e"
             ],
             [
              0.4444444444444444,
              "#bd3786"
             ],
             [
              0.5555555555555556,
              "#d8576b"
             ],
             [
              0.6666666666666666,
              "#ed7953"
             ],
             [
              0.7777777777777778,
              "#fb9f3a"
             ],
             [
              0.8888888888888888,
              "#fdca26"
             ],
             [
              1,
              "#f0f921"
             ]
            ],
            "type": "heatmap"
           }
          ],
          "heatmapgl": [
           {
            "colorbar": {
             "outlinewidth": 0,
             "ticks": ""
            },
            "colorscale": [
             [
              0,
              "#0d0887"
             ],
             [
              0.1111111111111111,
              "#46039f"
             ],
             [
              0.2222222222222222,
              "#7201a8"
             ],
             [
              0.3333333333333333,
              "#9c179e"
             ],
             [
              0.4444444444444444,
              "#bd3786"
             ],
             [
              0.5555555555555556,
              "#d8576b"
             ],
             [
              0.6666666666666666,
              "#ed7953"
             ],
             [
              0.7777777777777778,
              "#fb9f3a"
             ],
             [
              0.8888888888888888,
              "#fdca26"
             ],
             [
              1,
              "#f0f921"
             ]
            ],
            "type": "heatmapgl"
           }
          ],
          "histogram": [
           {
            "marker": {
             "colorbar": {
              "outlinewidth": 0,
              "ticks": ""
             }
            },
            "type": "histogram"
           }
          ],
          "histogram2d": [
           {
            "colorbar": {
             "outlinewidth": 0,
             "ticks": ""
            },
            "colorscale": [
             [
              0,
              "#0d0887"
             ],
             [
              0.1111111111111111,
              "#46039f"
             ],
             [
              0.2222222222222222,
              "#7201a8"
             ],
             [
              0.3333333333333333,
              "#9c179e"
             ],
             [
              0.4444444444444444,
              "#bd3786"
             ],
             [
              0.5555555555555556,
              "#d8576b"
             ],
             [
              0.6666666666666666,
              "#ed7953"
             ],
             [
              0.7777777777777778,
              "#fb9f3a"
             ],
             [
              0.8888888888888888,
              "#fdca26"
             ],
             [
              1,
              "#f0f921"
             ]
            ],
            "type": "histogram2d"
           }
          ],
          "histogram2dcontour": [
           {
            "colorbar": {
             "outlinewidth": 0,
             "ticks": ""
            },
            "colorscale": [
             [
              0,
              "#0d0887"
             ],
             [
              0.1111111111111111,
              "#46039f"
             ],
             [
              0.2222222222222222,
              "#7201a8"
             ],
             [
              0.3333333333333333,
              "#9c179e"
             ],
             [
              0.4444444444444444,
              "#bd3786"
             ],
             [
              0.5555555555555556,
              "#d8576b"
             ],
             [
              0.6666666666666666,
              "#ed7953"
             ],
             [
              0.7777777777777778,
              "#fb9f3a"
             ],
             [
              0.8888888888888888,
              "#fdca26"
             ],
             [
              1,
              "#f0f921"
             ]
            ],
            "type": "histogram2dcontour"
           }
          ],
          "mesh3d": [
           {
            "colorbar": {
             "outlinewidth": 0,
             "ticks": ""
            },
            "type": "mesh3d"
           }
          ],
          "parcoords": [
           {
            "line": {
             "colorbar": {
              "outlinewidth": 0,
              "ticks": ""
             }
            },
            "type": "parcoords"
           }
          ],
          "pie": [
           {
            "automargin": true,
            "type": "pie"
           }
          ],
          "scatter": [
           {
            "marker": {
             "colorbar": {
              "outlinewidth": 0,
              "ticks": ""
             }
            },
            "type": "scatter"
           }
          ],
          "scatter3d": [
           {
            "line": {
             "colorbar": {
              "outlinewidth": 0,
              "ticks": ""
             }
            },
            "marker": {
             "colorbar": {
              "outlinewidth": 0,
              "ticks": ""
             }
            },
            "type": "scatter3d"
           }
          ],
          "scattercarpet": [
           {
            "marker": {
             "colorbar": {
              "outlinewidth": 0,
              "ticks": ""
             }
            },
            "type": "scattercarpet"
           }
          ],
          "scattergeo": [
           {
            "marker": {
             "colorbar": {
              "outlinewidth": 0,
              "ticks": ""
             }
            },
            "type": "scattergeo"
           }
          ],
          "scattergl": [
           {
            "marker": {
             "colorbar": {
              "outlinewidth": 0,
              "ticks": ""
             }
            },
            "type": "scattergl"
           }
          ],
          "scattermapbox": [
           {
            "marker": {
             "colorbar": {
              "outlinewidth": 0,
              "ticks": ""
             }
            },
            "type": "scattermapbox"
           }
          ],
          "scatterpolar": [
           {
            "marker": {
             "colorbar": {
              "outlinewidth": 0,
              "ticks": ""
             }
            },
            "type": "scatterpolar"
           }
          ],
          "scatterpolargl": [
           {
            "marker": {
             "colorbar": {
              "outlinewidth": 0,
              "ticks": ""
             }
            },
            "type": "scatterpolargl"
           }
          ],
          "scatterternary": [
           {
            "marker": {
             "colorbar": {
              "outlinewidth": 0,
              "ticks": ""
             }
            },
            "type": "scatterternary"
           }
          ],
          "surface": [
           {
            "colorbar": {
             "outlinewidth": 0,
             "ticks": ""
            },
            "colorscale": [
             [
              0,
              "#0d0887"
             ],
             [
              0.1111111111111111,
              "#46039f"
             ],
             [
              0.2222222222222222,
              "#7201a8"
             ],
             [
              0.3333333333333333,
              "#9c179e"
             ],
             [
              0.4444444444444444,
              "#bd3786"
             ],
             [
              0.5555555555555556,
              "#d8576b"
             ],
             [
              0.6666666666666666,
              "#ed7953"
             ],
             [
              0.7777777777777778,
              "#fb9f3a"
             ],
             [
              0.8888888888888888,
              "#fdca26"
             ],
             [
              1,
              "#f0f921"
             ]
            ],
            "type": "surface"
           }
          ],
          "table": [
           {
            "cells": {
             "fill": {
              "color": "#EBF0F8"
             },
             "line": {
              "color": "white"
             }
            },
            "header": {
             "fill": {
              "color": "#C8D4E3"
             },
             "line": {
              "color": "white"
             }
            },
            "type": "table"
           }
          ]
         },
         "layout": {
          "annotationdefaults": {
           "arrowcolor": "#2a3f5f",
           "arrowhead": 0,
           "arrowwidth": 1
          },
          "autotypenumbers": "strict",
          "coloraxis": {
           "colorbar": {
            "outlinewidth": 0,
            "ticks": ""
           }
          },
          "colorscale": {
           "diverging": [
            [
             0,
             "#8e0152"
            ],
            [
             0.1,
             "#c51b7d"
            ],
            [
             0.2,
             "#de77ae"
            ],
            [
             0.3,
             "#f1b6da"
            ],
            [
             0.4,
             "#fde0ef"
            ],
            [
             0.5,
             "#f7f7f7"
            ],
            [
             0.6,
             "#e6f5d0"
            ],
            [
             0.7,
             "#b8e186"
            ],
            [
             0.8,
             "#7fbc41"
            ],
            [
             0.9,
             "#4d9221"
            ],
            [
             1,
             "#276419"
            ]
           ],
           "sequential": [
            [
             0,
             "#0d0887"
            ],
            [
             0.1111111111111111,
             "#46039f"
            ],
            [
             0.2222222222222222,
             "#7201a8"
            ],
            [
             0.3333333333333333,
             "#9c179e"
            ],
            [
             0.4444444444444444,
             "#bd3786"
            ],
            [
             0.5555555555555556,
             "#d8576b"
            ],
            [
             0.6666666666666666,
             "#ed7953"
            ],
            [
             0.7777777777777778,
             "#fb9f3a"
            ],
            [
             0.8888888888888888,
             "#fdca26"
            ],
            [
             1,
             "#f0f921"
            ]
           ],
           "sequentialminus": [
            [
             0,
             "#0d0887"
            ],
            [
             0.1111111111111111,
             "#46039f"
            ],
            [
             0.2222222222222222,
             "#7201a8"
            ],
            [
             0.3333333333333333,
             "#9c179e"
            ],
            [
             0.4444444444444444,
             "#bd3786"
            ],
            [
             0.5555555555555556,
             "#d8576b"
            ],
            [
             0.6666666666666666,
             "#ed7953"
            ],
            [
             0.7777777777777778,
             "#fb9f3a"
            ],
            [
             0.8888888888888888,
             "#fdca26"
            ],
            [
             1,
             "#f0f921"
            ]
           ]
          },
          "colorway": [
           "#636efa",
           "#EF553B",
           "#00cc96",
           "#ab63fa",
           "#FFA15A",
           "#19d3f3",
           "#FF6692",
           "#B6E880",
           "#FF97FF",
           "#FECB52"
          ],
          "font": {
           "color": "#2a3f5f"
          },
          "geo": {
           "bgcolor": "white",
           "lakecolor": "white",
           "landcolor": "#E5ECF6",
           "showlakes": true,
           "showland": true,
           "subunitcolor": "white"
          },
          "hoverlabel": {
           "align": "left"
          },
          "hovermode": "closest",
          "mapbox": {
           "style": "light"
          },
          "paper_bgcolor": "white",
          "plot_bgcolor": "#E5ECF6",
          "polar": {
           "angularaxis": {
            "gridcolor": "white",
            "linecolor": "white",
            "ticks": ""
           },
           "bgcolor": "#E5ECF6",
           "radialaxis": {
            "gridcolor": "white",
            "linecolor": "white",
            "ticks": ""
           }
          },
          "scene": {
           "xaxis": {
            "backgroundcolor": "#E5ECF6",
            "gridcolor": "white",
            "gridwidth": 2,
            "linecolor": "white",
            "showbackground": true,
            "ticks": "",
            "zerolinecolor": "white"
           },
           "yaxis": {
            "backgroundcolor": "#E5ECF6",
            "gridcolor": "white",
            "gridwidth": 2,
            "linecolor": "white",
            "showbackground": true,
            "ticks": "",
            "zerolinecolor": "white"
           },
           "zaxis": {
            "backgroundcolor": "#E5ECF6",
            "gridcolor": "white",
            "gridwidth": 2,
            "linecolor": "white",
            "showbackground": true,
            "ticks": "",
            "zerolinecolor": "white"
           }
          },
          "shapedefaults": {
           "line": {
            "color": "#2a3f5f"
           }
          },
          "ternary": {
           "aaxis": {
            "gridcolor": "white",
            "linecolor": "white",
            "ticks": ""
           },
           "baxis": {
            "gridcolor": "white",
            "linecolor": "white",
            "ticks": ""
           },
           "bgcolor": "#E5ECF6",
           "caxis": {
            "gridcolor": "white",
            "linecolor": "white",
            "ticks": ""
           }
          },
          "title": {
           "x": 0.05
          },
          "xaxis": {
           "automargin": true,
           "gridcolor": "white",
           "linecolor": "white",
           "ticks": "",
           "title": {
            "standoff": 15
           },
           "zerolinecolor": "white",
           "zerolinewidth": 2
          },
          "yaxis": {
           "automargin": true,
           "gridcolor": "white",
           "linecolor": "white",
           "ticks": "",
           "title": {
            "standoff": 15
           },
           "zerolinecolor": "white",
           "zerolinewidth": 2
          }
         }
        },
        "title": {
         "text": "OHLC Chart for SHIB with time interval 1min"
        },
        "xaxis": {
         "rangeslider": {
          "visible": false
         }
        }
       }
      }
     },
     "metadata": {},
     "output_type": "display_data"
    },
    {
     "data": {
      "application/vnd.plotly.v1+json": {
       "config": {
        "plotlyServerURL": "https://plot.ly"
       },
       "data": [
        {
         "close": [
          2.725,
          2.724,
          2.735,
          2.735,
          2.729,
          2.733,
          2.734,
          2.722,
          2.716,
          2.714,
          2.716,
          2.715,
          2.721,
          2.719,
          2.721,
          2.718,
          2.727,
          2.729,
          2.727,
          2.723,
          2.727,
          2.731,
          2.74,
          2.74,
          2.741,
          2.743,
          2.743,
          2.738,
          2.74,
          2.735,
          2.732,
          2.732,
          2.732,
          2.733,
          2.735,
          2.735,
          2.74,
          2.74,
          2.74,
          2.745,
          2.744,
          2.746,
          2.746,
          2.745,
          2.744,
          2.736,
          2.742,
          2.741,
          2.738,
          2.732,
          2.732,
          2.732,
          2.731,
          2.733,
          2.732,
          2.729,
          2.725,
          2.73,
          2.732,
          2.726,
          2.726,
          2.72,
          2.721,
          2.715,
          2.717,
          2.712,
          2.716,
          2.716,
          2.717,
          2.718,
          2.719,
          2.72,
          2.729,
          2.728,
          2.726,
          2.723,
          2.722,
          2.717,
          2.715,
          2.714,
          2.71,
          2.714,
          2.705,
          2.709,
          2.711,
          2.716,
          2.717,
          2.721,
          2.725,
          2.729,
          2.731,
          2.72,
          2.723,
          2.731,
          2.736,
          2.734,
          2.735,
          2.739,
          2.737,
          2.732,
          2.733,
          2.73,
          2.725,
          2.728,
          2.732,
          2.736,
          2.732,
          2.73,
          2.723,
          2.721
         ],
         "decreasing": {
          "fillcolor": "gray",
          "line": {
           "color": "gray"
          }
         },
         "high": [
          2.726,
          2.726,
          2.735,
          2.737,
          2.735,
          2.734,
          2.735,
          2.733,
          2.717,
          2.717,
          2.72,
          2.716,
          2.721,
          2.721,
          2.725,
          2.723,
          2.727,
          2.73,
          2.728,
          2.729,
          2.727,
          2.732,
          2.74,
          2.743,
          2.747,
          2.743,
          2.743,
          2.739,
          2.74,
          2.74,
          2.734,
          2.732,
          2.733,
          2.733,
          2.736,
          2.735,
          2.74,
          2.741,
          2.743,
          2.745,
          2.744,
          2.749,
          2.747,
          2.745,
          2.744,
          2.744,
          2.742,
          2.751,
          2.742,
          2.737,
          2.732,
          2.732,
          2.732,
          2.733,
          2.732,
          2.731,
          2.726,
          2.733,
          2.732,
          2.732,
          2.728,
          2.724,
          2.724,
          2.72,
          2.717,
          2.712,
          2.716,
          2.718,
          2.718,
          2.718,
          2.719,
          2.721,
          2.73,
          2.728,
          2.728,
          2.727,
          2.722,
          2.723,
          2.716,
          2.716,
          2.712,
          2.715,
          2.712,
          2.709,
          2.713,
          2.716,
          2.717,
          2.723,
          2.726,
          2.731,
          2.731,
          2.726,
          2.724,
          2.736,
          2.737,
          2.736,
          2.735,
          2.739,
          2.738,
          2.732,
          2.733,
          2.731,
          2.726,
          2.728,
          2.732,
          2.736,
          2.737,
          2.73,
          2.725,
          2.725
         ],
         "increasing": {
          "fillcolor": "cyan",
          "line": {
           "color": "cyan"
          }
         },
         "low": [
          2.72,
          2.723,
          2.728,
          2.735,
          2.728,
          2.728,
          2.734,
          2.722,
          2.714,
          2.714,
          2.716,
          2.713,
          2.712,
          2.718,
          2.721,
          2.714,
          2.722,
          2.729,
          2.726,
          2.723,
          2.72,
          2.729,
          2.729,
          2.74,
          2.74,
          2.737,
          2.741,
          2.735,
          2.737,
          2.735,
          2.731,
          2.732,
          2.732,
          2.733,
          2.73,
          2.735,
          2.737,
          2.74,
          2.74,
          2.74,
          2.744,
          2.745,
          2.745,
          2.742,
          2.744,
          2.736,
          2.737,
          2.741,
          2.737,
          2.729,
          2.73,
          2.728,
          2.73,
          2.73,
          2.73,
          2.728,
          2.722,
          2.725,
          2.729,
          2.726,
          2.726,
          2.72,
          2.717,
          2.713,
          2.712,
          2.709,
          2.712,
          2.716,
          2.717,
          2.715,
          2.718,
          2.72,
          2.728,
          2.727,
          2.726,
          2.723,
          2.716,
          2.717,
          2.715,
          2.71,
          2.71,
          2.709,
          2.705,
          2.701,
          2.711,
          2.711,
          2.71,
          2.718,
          2.724,
          2.728,
          2.728,
          2.72,
          2.721,
          2.721,
          2.732,
          2.734,
          2.731,
          2.734,
          2.736,
          2.732,
          2.73,
          2.73,
          2.724,
          2.723,
          2.728,
          2.732,
          2.732,
          2.728,
          2.723,
          2.721
         ],
         "name": "OHLC",
         "open": [
          2.72,
          2.726,
          2.728,
          2.736,
          2.735,
          2.728,
          2.735,
          2.733,
          2.716,
          2.715,
          2.718,
          2.715,
          2.712,
          2.721,
          2.725,
          2.72,
          2.722,
          2.73,
          2.728,
          2.729,
          2.721,
          2.729,
          2.729,
          2.742,
          2.746,
          2.737,
          2.743,
          2.738,
          2.738,
          2.74,
          2.732,
          2.732,
          2.733,
          2.733,
          2.731,
          2.735,
          2.737,
          2.74,
          2.743,
          2.74,
          2.744,
          2.745,
          2.745,
          2.742,
          2.744,
          2.744,
          2.737,
          2.741,
          2.741,
          2.737,
          2.731,
          2.73,
          2.73,
          2.73,
          2.731,
          2.731,
          2.726,
          2.725,
          2.729,
          2.73,
          2.728,
          2.724,
          2.717,
          2.716,
          2.713,
          2.71,
          2.713,
          2.718,
          2.717,
          2.715,
          2.718,
          2.721,
          2.728,
          2.728,
          2.728,
          2.727,
          2.722,
          2.722,
          2.716,
          2.716,
          2.712,
          2.709,
          2.71,
          2.706,
          2.713,
          2.714,
          2.713,
          2.718,
          2.726,
          2.728,
          2.729,
          2.726,
          2.721,
          2.721,
          2.734,
          2.734,
          2.733,
          2.736,
          2.738,
          2.732,
          2.73,
          2.73,
          2.726,
          2.723,
          2.728,
          2.732,
          2.736,
          2.73,
          2.725,
          2.725
         ],
         "type": "candlestick",
         "x": [
          "2021-12-17T10:44:00",
          "2021-12-17T10:45:00",
          "2021-12-17T10:47:00",
          "2021-12-17T10:48:00",
          "2021-12-17T10:49:00",
          "2021-12-17T10:50:00",
          "2021-12-17T10:51:00",
          "2021-12-17T10:52:00",
          "2021-12-17T10:53:00",
          "2021-12-17T10:54:00",
          "2021-12-17T10:55:00",
          "2021-12-17T10:56:00",
          "2021-12-17T10:57:00",
          "2021-12-17T10:58:00",
          "2021-12-17T10:59:00",
          "2021-12-17T11:00:00",
          "2021-12-17T11:01:00",
          "2021-12-17T11:02:00",
          "2021-12-17T11:03:00",
          "2021-12-17T11:04:00",
          "2021-12-17T11:05:00",
          "2021-12-17T11:06:00",
          "2021-12-17T11:07:00",
          "2021-12-17T11:09:00",
          "2021-12-17T11:10:00",
          "2021-12-17T11:11:00",
          "2021-12-17T11:12:00",
          "2021-12-17T11:13:00",
          "2021-12-17T11:14:00",
          "2021-12-17T11:15:00",
          "2021-12-17T11:16:00",
          "2021-12-17T11:17:00",
          "2021-12-17T11:18:00",
          "2021-12-17T11:19:00",
          "2021-12-17T11:20:00",
          "2021-12-17T11:21:00",
          "2021-12-17T11:22:00",
          "2021-12-17T11:23:00",
          "2021-12-17T11:24:00",
          "2021-12-17T11:25:00",
          "2021-12-17T11:26:00",
          "2021-12-17T11:27:00",
          "2021-12-17T11:28:00",
          "2021-12-17T11:29:00",
          "2021-12-17T11:30:00",
          "2021-12-17T11:31:00",
          "2021-12-17T11:32:00",
          "2021-12-17T11:33:00",
          "2021-12-17T11:34:00",
          "2021-12-17T11:35:00",
          "2021-12-17T11:36:00",
          "2021-12-17T11:37:00",
          "2021-12-17T11:38:00",
          "2021-12-17T11:39:00",
          "2021-12-17T11:40:00",
          "2021-12-17T11:41:00",
          "2021-12-17T11:42:00",
          "2021-12-17T11:43:00",
          "2021-12-17T11:44:00",
          "2021-12-17T11:45:00",
          "2021-12-17T11:46:00",
          "2021-12-17T11:48:00",
          "2021-12-17T11:49:00",
          "2021-12-17T11:50:00",
          "2021-12-17T11:51:00",
          "2021-12-17T11:52:00",
          "2021-12-17T11:53:00",
          "2021-12-17T11:54:00",
          "2021-12-17T11:55:00",
          "2021-12-17T11:56:00",
          "2021-12-17T11:58:00",
          "2021-12-17T11:59:00",
          "2021-12-17T12:01:00",
          "2021-12-17T12:02:00",
          "2021-12-17T12:03:00",
          "2021-12-17T12:04:00",
          "2021-12-17T12:05:00",
          "2021-12-17T12:06:00",
          "2021-12-17T12:07:00",
          "2021-12-17T12:08:00",
          "2021-12-17T12:09:00",
          "2021-12-17T12:10:00",
          "2021-12-17T12:11:00",
          "2021-12-17T12:12:00",
          "2021-12-17T12:13:00",
          "2021-12-17T12:14:00",
          "2021-12-17T12:15:00",
          "2021-12-17T12:16:00",
          "2021-12-17T12:17:00",
          "2021-12-17T12:18:00",
          "2021-12-17T12:19:00",
          "2021-12-17T12:20:00",
          "2021-12-17T12:21:00",
          "2021-12-17T12:23:00",
          "2021-12-17T12:24:00",
          "2021-12-17T12:25:00",
          "2021-12-17T12:26:00",
          "2021-12-17T12:27:00",
          "2021-12-17T12:28:00",
          "2021-12-17T12:29:00",
          "2021-12-17T12:31:00",
          "2021-12-17T12:33:00",
          "2021-12-17T12:34:00",
          "2021-12-17T12:35:00",
          "2021-12-17T12:36:00",
          "2021-12-17T12:37:00",
          "2021-12-17T12:39:00",
          "2021-12-17T12:40:00",
          "2021-12-17T12:41:00",
          "2021-12-17T12:42:00"
         ]
        }
       ],
       "layout": {
        "template": {
         "data": {
          "bar": [
           {
            "error_x": {
             "color": "#2a3f5f"
            },
            "error_y": {
             "color": "#2a3f5f"
            },
            "marker": {
             "line": {
              "color": "#E5ECF6",
              "width": 0.5
             }
            },
            "type": "bar"
           }
          ],
          "barpolar": [
           {
            "marker": {
             "line": {
              "color": "#E5ECF6",
              "width": 0.5
             }
            },
            "type": "barpolar"
           }
          ],
          "carpet": [
           {
            "aaxis": {
             "endlinecolor": "#2a3f5f",
             "gridcolor": "white",
             "linecolor": "white",
             "minorgridcolor": "white",
             "startlinecolor": "#2a3f5f"
            },
            "baxis": {
             "endlinecolor": "#2a3f5f",
             "gridcolor": "white",
             "linecolor": "white",
             "minorgridcolor": "white",
             "startlinecolor": "#2a3f5f"
            },
            "type": "carpet"
           }
          ],
          "choropleth": [
           {
            "colorbar": {
             "outlinewidth": 0,
             "ticks": ""
            },
            "type": "choropleth"
           }
          ],
          "contour": [
           {
            "colorbar": {
             "outlinewidth": 0,
             "ticks": ""
            },
            "colorscale": [
             [
              0,
              "#0d0887"
             ],
             [
              0.1111111111111111,
              "#46039f"
             ],
             [
              0.2222222222222222,
              "#7201a8"
             ],
             [
              0.3333333333333333,
              "#9c179e"
             ],
             [
              0.4444444444444444,
              "#bd3786"
             ],
             [
              0.5555555555555556,
              "#d8576b"
             ],
             [
              0.6666666666666666,
              "#ed7953"
             ],
             [
              0.7777777777777778,
              "#fb9f3a"
             ],
             [
              0.8888888888888888,
              "#fdca26"
             ],
             [
              1,
              "#f0f921"
             ]
            ],
            "type": "contour"
           }
          ],
          "contourcarpet": [
           {
            "colorbar": {
             "outlinewidth": 0,
             "ticks": ""
            },
            "type": "contourcarpet"
           }
          ],
          "heatmap": [
           {
            "colorbar": {
             "outlinewidth": 0,
             "ticks": ""
            },
            "colorscale": [
             [
              0,
              "#0d0887"
             ],
             [
              0.1111111111111111,
              "#46039f"
             ],
             [
              0.2222222222222222,
              "#7201a8"
             ],
             [
              0.3333333333333333,
              "#9c179e"
             ],
             [
              0.4444444444444444,
              "#bd3786"
             ],
             [
              0.5555555555555556,
              "#d8576b"
             ],
             [
              0.6666666666666666,
              "#ed7953"
             ],
             [
              0.7777777777777778,
              "#fb9f3a"
             ],
             [
              0.8888888888888888,
              "#fdca26"
             ],
             [
              1,
              "#f0f921"
             ]
            ],
            "type": "heatmap"
           }
          ],
          "heatmapgl": [
           {
            "colorbar": {
             "outlinewidth": 0,
             "ticks": ""
            },
            "colorscale": [
             [
              0,
              "#0d0887"
             ],
             [
              0.1111111111111111,
              "#46039f"
             ],
             [
              0.2222222222222222,
              "#7201a8"
             ],
             [
              0.3333333333333333,
              "#9c179e"
             ],
             [
              0.4444444444444444,
              "#bd3786"
             ],
             [
              0.5555555555555556,
              "#d8576b"
             ],
             [
              0.6666666666666666,
              "#ed7953"
             ],
             [
              0.7777777777777778,
              "#fb9f3a"
             ],
             [
              0.8888888888888888,
              "#fdca26"
             ],
             [
              1,
              "#f0f921"
             ]
            ],
            "type": "heatmapgl"
           }
          ],
          "histogram": [
           {
            "marker": {
             "colorbar": {
              "outlinewidth": 0,
              "ticks": ""
             }
            },
            "type": "histogram"
           }
          ],
          "histogram2d": [
           {
            "colorbar": {
             "outlinewidth": 0,
             "ticks": ""
            },
            "colorscale": [
             [
              0,
              "#0d0887"
             ],
             [
              0.1111111111111111,
              "#46039f"
             ],
             [
              0.2222222222222222,
              "#7201a8"
             ],
             [
              0.3333333333333333,
              "#9c179e"
             ],
             [
              0.4444444444444444,
              "#bd3786"
             ],
             [
              0.5555555555555556,
              "#d8576b"
             ],
             [
              0.6666666666666666,
              "#ed7953"
             ],
             [
              0.7777777777777778,
              "#fb9f3a"
             ],
             [
              0.8888888888888888,
              "#fdca26"
             ],
             [
              1,
              "#f0f921"
             ]
            ],
            "type": "histogram2d"
           }
          ],
          "histogram2dcontour": [
           {
            "colorbar": {
             "outlinewidth": 0,
             "ticks": ""
            },
            "colorscale": [
             [
              0,
              "#0d0887"
             ],
             [
              0.1111111111111111,
              "#46039f"
             ],
             [
              0.2222222222222222,
              "#7201a8"
             ],
             [
              0.3333333333333333,
              "#9c179e"
             ],
             [
              0.4444444444444444,
              "#bd3786"
             ],
             [
              0.5555555555555556,
              "#d8576b"
             ],
             [
              0.6666666666666666,
              "#ed7953"
             ],
             [
              0.7777777777777778,
              "#fb9f3a"
             ],
             [
              0.8888888888888888,
              "#fdca26"
             ],
             [
              1,
              "#f0f921"
             ]
            ],
            "type": "histogram2dcontour"
           }
          ],
          "mesh3d": [
           {
            "colorbar": {
             "outlinewidth": 0,
             "ticks": ""
            },
            "type": "mesh3d"
           }
          ],
          "parcoords": [
           {
            "line": {
             "colorbar": {
              "outlinewidth": 0,
              "ticks": ""
             }
            },
            "type": "parcoords"
           }
          ],
          "pie": [
           {
            "automargin": true,
            "type": "pie"
           }
          ],
          "scatter": [
           {
            "marker": {
             "colorbar": {
              "outlinewidth": 0,
              "ticks": ""
             }
            },
            "type": "scatter"
           }
          ],
          "scatter3d": [
           {
            "line": {
             "colorbar": {
              "outlinewidth": 0,
              "ticks": ""
             }
            },
            "marker": {
             "colorbar": {
              "outlinewidth": 0,
              "ticks": ""
             }
            },
            "type": "scatter3d"
           }
          ],
          "scattercarpet": [
           {
            "marker": {
             "colorbar": {
              "outlinewidth": 0,
              "ticks": ""
             }
            },
            "type": "scattercarpet"
           }
          ],
          "scattergeo": [
           {
            "marker": {
             "colorbar": {
              "outlinewidth": 0,
              "ticks": ""
             }
            },
            "type": "scattergeo"
           }
          ],
          "scattergl": [
           {
            "marker": {
             "colorbar": {
              "outlinewidth": 0,
              "ticks": ""
             }
            },
            "type": "scattergl"
           }
          ],
          "scattermapbox": [
           {
            "marker": {
             "colorbar": {
              "outlinewidth": 0,
              "ticks": ""
             }
            },
            "type": "scattermapbox"
           }
          ],
          "scatterpolar": [
           {
            "marker": {
             "colorbar": {
              "outlinewidth": 0,
              "ticks": ""
             }
            },
            "type": "scatterpolar"
           }
          ],
          "scatterpolargl": [
           {
            "marker": {
             "colorbar": {
              "outlinewidth": 0,
              "ticks": ""
             }
            },
            "type": "scatterpolargl"
           }
          ],
          "scatterternary": [
           {
            "marker": {
             "colorbar": {
              "outlinewidth": 0,
              "ticks": ""
             }
            },
            "type": "scatterternary"
           }
          ],
          "surface": [
           {
            "colorbar": {
             "outlinewidth": 0,
             "ticks": ""
            },
            "colorscale": [
             [
              0,
              "#0d0887"
             ],
             [
              0.1111111111111111,
              "#46039f"
             ],
             [
              0.2222222222222222,
              "#7201a8"
             ],
             [
              0.3333333333333333,
              "#9c179e"
             ],
             [
              0.4444444444444444,
              "#bd3786"
             ],
             [
              0.5555555555555556,
              "#d8576b"
             ],
             [
              0.6666666666666666,
              "#ed7953"
             ],
             [
              0.7777777777777778,
              "#fb9f3a"
             ],
             [
              0.8888888888888888,
              "#fdca26"
             ],
             [
              1,
              "#f0f921"
             ]
            ],
            "type": "surface"
           }
          ],
          "table": [
           {
            "cells": {
             "fill": {
              "color": "#EBF0F8"
             },
             "line": {
              "color": "white"
             }
            },
            "header": {
             "fill": {
              "color": "#C8D4E3"
             },
             "line": {
              "color": "white"
             }
            },
            "type": "table"
           }
          ]
         },
         "layout": {
          "annotationdefaults": {
           "arrowcolor": "#2a3f5f",
           "arrowhead": 0,
           "arrowwidth": 1
          },
          "autotypenumbers": "strict",
          "coloraxis": {
           "colorbar": {
            "outlinewidth": 0,
            "ticks": ""
           }
          },
          "colorscale": {
           "diverging": [
            [
             0,
             "#8e0152"
            ],
            [
             0.1,
             "#c51b7d"
            ],
            [
             0.2,
             "#de77ae"
            ],
            [
             0.3,
             "#f1b6da"
            ],
            [
             0.4,
             "#fde0ef"
            ],
            [
             0.5,
             "#f7f7f7"
            ],
            [
             0.6,
             "#e6f5d0"
            ],
            [
             0.7,
             "#b8e186"
            ],
            [
             0.8,
             "#7fbc41"
            ],
            [
             0.9,
             "#4d9221"
            ],
            [
             1,
             "#276419"
            ]
           ],
           "sequential": [
            [
             0,
             "#0d0887"
            ],
            [
             0.1111111111111111,
             "#46039f"
            ],
            [
             0.2222222222222222,
             "#7201a8"
            ],
            [
             0.3333333333333333,
             "#9c179e"
            ],
            [
             0.4444444444444444,
             "#bd3786"
            ],
            [
             0.5555555555555556,
             "#d8576b"
            ],
            [
             0.6666666666666666,
             "#ed7953"
            ],
            [
             0.7777777777777778,
             "#fb9f3a"
            ],
            [
             0.8888888888888888,
             "#fdca26"
            ],
            [
             1,
             "#f0f921"
            ]
           ],
           "sequentialminus": [
            [
             0,
             "#0d0887"
            ],
            [
             0.1111111111111111,
             "#46039f"
            ],
            [
             0.2222222222222222,
             "#7201a8"
            ],
            [
             0.3333333333333333,
             "#9c179e"
            ],
            [
             0.4444444444444444,
             "#bd3786"
            ],
            [
             0.5555555555555556,
             "#d8576b"
            ],
            [
             0.6666666666666666,
             "#ed7953"
            ],
            [
             0.7777777777777778,
             "#fb9f3a"
            ],
            [
             0.8888888888888888,
             "#fdca26"
            ],
            [
             1,
             "#f0f921"
            ]
           ]
          },
          "colorway": [
           "#636efa",
           "#EF553B",
           "#00cc96",
           "#ab63fa",
           "#FFA15A",
           "#19d3f3",
           "#FF6692",
           "#B6E880",
           "#FF97FF",
           "#FECB52"
          ],
          "font": {
           "color": "#2a3f5f"
          },
          "geo": {
           "bgcolor": "white",
           "lakecolor": "white",
           "landcolor": "#E5ECF6",
           "showlakes": true,
           "showland": true,
           "subunitcolor": "white"
          },
          "hoverlabel": {
           "align": "left"
          },
          "hovermode": "closest",
          "mapbox": {
           "style": "light"
          },
          "paper_bgcolor": "white",
          "plot_bgcolor": "#E5ECF6",
          "polar": {
           "angularaxis": {
            "gridcolor": "white",
            "linecolor": "white",
            "ticks": ""
           },
           "bgcolor": "#E5ECF6",
           "radialaxis": {
            "gridcolor": "white",
            "linecolor": "white",
            "ticks": ""
           }
          },
          "scene": {
           "xaxis": {
            "backgroundcolor": "#E5ECF6",
            "gridcolor": "white",
            "gridwidth": 2,
            "linecolor": "white",
            "showbackground": true,
            "ticks": "",
            "zerolinecolor": "white"
           },
           "yaxis": {
            "backgroundcolor": "#E5ECF6",
            "gridcolor": "white",
            "gridwidth": 2,
            "linecolor": "white",
            "showbackground": true,
            "ticks": "",
            "zerolinecolor": "white"
           },
           "zaxis": {
            "backgroundcolor": "#E5ECF6",
            "gridcolor": "white",
            "gridwidth": 2,
            "linecolor": "white",
            "showbackground": true,
            "ticks": "",
            "zerolinecolor": "white"
           }
          },
          "shapedefaults": {
           "line": {
            "color": "#2a3f5f"
           }
          },
          "ternary": {
           "aaxis": {
            "gridcolor": "white",
            "linecolor": "white",
            "ticks": ""
           },
           "baxis": {
            "gridcolor": "white",
            "linecolor": "white",
            "ticks": ""
           },
           "bgcolor": "#E5ECF6",
           "caxis": {
            "gridcolor": "white",
            "linecolor": "white",
            "ticks": ""
           }
          },
          "title": {
           "x": 0.05
          },
          "xaxis": {
           "automargin": true,
           "gridcolor": "white",
           "linecolor": "white",
           "ticks": "",
           "title": {
            "standoff": 15
           },
           "zerolinecolor": "white",
           "zerolinewidth": 2
          },
          "yaxis": {
           "automargin": true,
           "gridcolor": "white",
           "linecolor": "white",
           "ticks": "",
           "title": {
            "standoff": 15
           },
           "zerolinecolor": "white",
           "zerolinewidth": 2
          }
         }
        },
        "title": {
         "text": "OHLC Chart for MANA with time interval 1min"
        },
        "xaxis": {
         "rangeslider": {
          "visible": false
         }
        }
       }
      }
     },
     "metadata": {},
     "output_type": "display_data"
    }
   ],
   "source": [
    "df_history_enhanced = df_history_enhanced.sort_values(['date'], ascending=True) #oldest to newest for visualization\n",
    "granularity = '1min'\n",
    "for currency in MY_CRYPTO_CURRENCIES:\n",
    "    df_history_for_chart = df_history_enhanced.query(f'granularity == \\'{granularity}\\' and currency == \\'{currency}\\'')\n",
    "    fig = go.Figure()\n",
    "    fig.add_trace(go.Candlestick(\n",
    "        x=df_history_for_chart['date'],\n",
    "        open=df_history_for_chart['open'],\n",
    "        high=df_history_for_chart['high'],\n",
    "        low=df_history_for_chart['low'],\n",
    "        close=df_history_for_chart['close'],\n",
    "        name='OHLC'))\n",
    "    cs = fig.data[0]\n",
    "    cs.increasing.fillcolor = CANDLE_INCREASE_COLOR\n",
    "    cs.increasing.line.color = CANDLE_INCREASE_COLOR\n",
    "    cs.decreasing.fillcolor = CANDLE_DECREASE_COLOR\n",
    "    cs.decreasing.line.color = CANDLE_DECREASE_COLOR\n",
    "    fig.update_layout(\n",
    "        xaxis_rangeslider_visible=False,\n",
    "        title=f'OHLC Chart for {currency} with time interval {granularity}',\n",
    "        template = PLOTLY_TEMPLATE,)\n",
    "    fig.show()"
   ]
  },
  {
   "cell_type": "markdown",
   "metadata": {},
   "source": [
    "### Advanced Visualization\n",
    "\n",
    "Now that we have drawn a basic OHLC chart, let's get a bit more fancy. We will now draw the chart again. But this time we will add the following information:\n",
    "- MACD line\n",
    "- MACD signal line\n",
    "- Colored area to show if we are currently in a bull market (green) or bear market (red) in each given period\n",
    "\n",
    "Before we do that, there is one more important step to take: we must construct the data needed to color different periods for the market trends (bull versus bear). Therefore, let's create another pandas dataframe df_history_market_trend_intervals."
   ]
  },
  {
   "cell_type": "code",
   "execution_count": 140,
   "metadata": {},
   "outputs": [],
   "source": [
    "market_trend_interval_rows = []\n",
    "for currency in MY_CRYPTO_CURRENCIES:\n",
    "    for granularity in GRANULARITIES:\n",
    "        df_history_market_trend_intervals = df_history_enhanced.query('currency == @currency and market_trend_continued == False and granularity == @granularity').copy()\n",
    "        #df_history_market_trend_intervals['previous_period_date'] = df_history_market_trend_intervals.date.shift()\n",
    "        df_history_market_trend_intervals['next_period_date'] = df_history_market_trend_intervals.date.shift(-1)\n",
    "        df_history_market_trend_intervals['next_period_date'] = df_history_market_trend_intervals['next_period_date']\n",
    "        df_history_market_trend_intervals.next_period_date = df_history_market_trend_intervals.next_period_date.fillna(datetime.now())\n",
    "        df_history_market_trend_intervals['color'] = df_history_market_trend_intervals['bull_bear'].apply(lambda x: GREEN_COLOR if x == 'Bull' else RED_COLOR)\n",
    "        df_history_market_trend_intervals = df_history_market_trend_intervals[['currency','granularity','bull_bear','color','date','next_period_date']].rename(columns={\"date\": \"start_date\", \"next_period_date\": \"finish_date\"})\n",
    "        market_trend_interval_rows.append(df_history_market_trend_intervals)\n",
    "df_history_market_trend_intervals = pd.concat(market_trend_interval_rows, ignore_index=True)"
   ]
  },
  {
   "cell_type": "code",
   "execution_count": 141,
   "metadata": {},
   "outputs": [
    {
     "data": {
      "application/vnd.plotly.v1+json": {
       "config": {
        "plotlyServerURL": "https://plot.ly"
       },
       "data": [
        {
         "close": [
          41508.36,
          41471.97,
          41498.62,
          41547.75,
          41559.89,
          41530.96,
          41562.57,
          41548.34,
          41500,
          41472.85,
          41459.25,
          41454.48,
          41427.35,
          41464.66,
          41445.33,
          41474.58,
          41466.33,
          41518.1,
          41517.55,
          41521.16,
          41515.25,
          41543.19,
          41585.52,
          41616.84,
          41604.89,
          41687,
          41677.42,
          41682.41,
          41675.56,
          41673.92,
          41676.9,
          41676.31,
          41648.21,
          41645.95,
          41663.8,
          41669.29,
          41649.13,
          41651.94,
          41694.5,
          41690.51,
          41692.62,
          41718.74,
          41729.56,
          41774.35,
          41778.07,
          41765.67,
          41780.63,
          41749.28,
          41727.74,
          41735.83,
          41721.95,
          41704.31,
          41705.55,
          41709.67,
          41694.52,
          41707.88,
          41716.91,
          41707.34,
          41668.51,
          41724.73,
          41740.69,
          41690.6,
          41707.56,
          41678.94,
          41652.56,
          41655.42,
          41621.41,
          41610.22,
          41593.17,
          41590.21,
          41603.67,
          41610.78,
          41619.65,
          41647.93,
          41629.5,
          41653.21,
          41699.38,
          41723.36,
          41728.83,
          41696.31,
          41683.52,
          41652.96,
          41661.64,
          41623.2,
          41596.2,
          41565.83,
          41582.83,
          41545.53,
          41548.47,
          41561.81,
          41640.67,
          41647.94,
          41717.82,
          41737.01,
          41781.44,
          41765.31,
          41731.45,
          41712.75,
          41748.29,
          41844.06,
          41845.92,
          41833.6,
          41794.6,
          41780.93,
          41807.33,
          41773.17,
          41770.64,
          41764.74,
          41730.37,
          41722.11,
          41700.86,
          41719.36,
          41741.6,
          41748.12,
          41772.79,
          41694.06,
          41679.59,
          41655.36,
          41625.68,
          41656.81
         ],
         "decreasing": {
          "line": {
           "color": "gray"
          }
         },
         "high": [
          41529.34,
          41523.18,
          41505.47,
          41550.68,
          41582.08,
          41565.26,
          41571.26,
          41575.54,
          41554,
          41495.53,
          41475.34,
          41482.87,
          41450.9,
          41464.66,
          41486.44,
          41482.79,
          41475.51,
          41526.1,
          41548.21,
          41545.45,
          41534.19,
          41543.19,
          41586.62,
          41616.84,
          41621.27,
          41687.09,
          41710.86,
          41686.79,
          41734.36,
          41689.09,
          41693.89,
          41696.86,
          41695.92,
          41668.32,
          41663.8,
          41678.45,
          41686.44,
          41664.66,
          41702.66,
          41724.87,
          41718.83,
          41718.74,
          41730.33,
          41824.59,
          41803.55,
          41786.14,
          41802.25,
          41792.53,
          41766.02,
          41737.33,
          41736.7,
          41736.05,
          41708.6,
          41715,
          41730.81,
          41717.92,
          41726.36,
          41728.11,
          41712.74,
          41745.45,
          41742.46,
          41740.07,
          41722.23,
          41708.93,
          41680.88,
          41686.9,
          41643.21,
          41618.72,
          41599.99,
          41610.63,
          41620.72,
          41612.09,
          41631.45,
          41654.3,
          41651.19,
          41654.41,
          41712.75,
          41727.03,
          41741.7,
          41729.39,
          41715.6,
          41677.2,
          41696.46,
          41676.16,
          41638.35,
          41602.86,
          41598.75,
          41588.18,
          41563,
          41587.4,
          41646.95,
          41647.94,
          41739.89,
          41769.86,
          41783.33,
          41793.55,
          41769.53,
          41750.14,
          41748.29,
          41877.94,
          41861.56,
          41859.66,
          41840.89,
          41799.51,
          41826.23,
          41812.73,
          41779.26,
          41779.03,
          41764.74,
          41739.49,
          41730.02,
          41725.39,
          41759.44,
          41757.34,
          41772.79,
          41769.76,
          41695.57,
          41694.55,
          41677.1,
          41660.28
         ],
         "increasing": {
          "line": {
           "color": "cyan"
          }
         },
         "low": [
          41498.78,
          41464.32,
          41456.36,
          41495.18,
          41544.91,
          41515.61,
          41515.94,
          41542.01,
          41500,
          41457.38,
          41452.26,
          41448.26,
          41407.45,
          41406.49,
          41427.9,
          41431.09,
          41415.06,
          41479.06,
          41505.91,
          41478.41,
          41515.25,
          41483.52,
          41553.54,
          41551.21,
          41590.14,
          41600.2,
          41662.99,
          41636.64,
          41675.56,
          41643.31,
          41656,
          41668.23,
          41626.7,
          41633.01,
          41637.27,
          41660.99,
          41639.35,
          41646.27,
          41638.63,
          41690.51,
          41678.17,
          41683.89,
          41707.43,
          41723.7,
          41776.86,
          41761.6,
          41743.76,
          41748.43,
          41691.77,
          41725.03,
          41718.01,
          41668.36,
          41696.85,
          41688,
          41694.52,
          41691.02,
          41693.07,
          41706.77,
          41668.51,
          41669,
          41706.55,
          41677.54,
          41684.4,
          41676.08,
          41652.23,
          41634.1,
          41569.46,
          41576.25,
          41565.54,
          41590.2,
          41581.57,
          41596.37,
          41597.29,
          41601.93,
          41629.24,
          41620.65,
          41625.98,
          41690.85,
          41715.86,
          41689.66,
          41674.75,
          41648.3,
          41646.75,
          41608.06,
          41583.91,
          41565.75,
          41569.59,
          41524.61,
          41500,
          41544.58,
          41568.56,
          41610.34,
          41649.79,
          41730.56,
          41746.21,
          41744.8,
          41718.77,
          41700.88,
          41700.64,
          41725.89,
          41824.34,
          41824.79,
          41776.58,
          41780.93,
          41772.41,
          41756.81,
          41753.02,
          41741.64,
          41726.33,
          41720.54,
          41700,
          41696.25,
          41717.76,
          41737.31,
          41748.7,
          41687.45,
          41660.33,
          41647.64,
          41624.42,
          41639.24
         ],
         "name": "OHLC",
         "open": [
          41498.78,
          41511.79,
          41466.92,
          41495.18,
          41548.92,
          41564.64,
          41519.05,
          41558.8,
          41547.4,
          41485.54,
          41470.44,
          41458.43,
          41448.6,
          41427.34,
          41461.32,
          41442.68,
          41464.73,
          41481.57,
          41523.4,
          41527.05,
          41520.6,
          41497.41,
          41553.54,
          41580.01,
          41621.27,
          41602.88,
          41670.07,
          41667.24,
          41689.48,
          41671.66,
          41675.73,
          41685.86,
          41676.82,
          41649.22,
          41647.35,
          41673.14,
          41651.87,
          41649.02,
          41658.78,
          41692.8,
          41704.13,
          41689.55,
          41712.48,
          41731.2,
          41780.62,
          41777.59,
          41759.89,
          41787.25,
          41746.59,
          41728.07,
          41736.42,
          41729.05,
          41702.29,
          41699.79,
          41706.04,
          41691.02,
          41706.62,
          41708.21,
          41712.43,
          41669.53,
          41742.46,
          41738.66,
          41693.62,
          41703.36,
          41671.72,
          41637.84,
          41642.85,
          41618.35,
          41599.99,
          41592.18,
          41581.57,
          41596.7,
          41614.28,
          41607.44,
          41636.76,
          41626.11,
          41637.3,
          41694.76,
          41725.63,
          41728.3,
          41688.85,
          41676.59,
          41650.07,
          41663.37,
          41629.46,
          41592.88,
          41569.6,
          41583.51,
          41543.13,
          41552.2,
          41578.93,
          41628.37,
          41651.69,
          41736.79,
          41746.21,
          41792.13,
          41769.53,
          41733.99,
          41703.07,
          41750.55,
          41860.86,
          41851.98,
          41840.87,
          41798.24,
          41777.41,
          41807.33,
          41768.54,
          41750.9,
          41764.74,
          41733.48,
          41724.53,
          41700.11,
          41720.06,
          41743.8,
          41748.7,
          41769.47,
          41691.72,
          41683.85,
          41658.53,
          41639.24
         ],
         "type": "ohlc",
         "x": [
          "2021-12-17T10:44:00",
          "2021-12-17T10:45:00",
          "2021-12-17T10:46:00",
          "2021-12-17T10:47:00",
          "2021-12-17T10:48:00",
          "2021-12-17T10:49:00",
          "2021-12-17T10:50:00",
          "2021-12-17T10:51:00",
          "2021-12-17T10:52:00",
          "2021-12-17T10:53:00",
          "2021-12-17T10:54:00",
          "2021-12-17T10:55:00",
          "2021-12-17T10:56:00",
          "2021-12-17T10:57:00",
          "2021-12-17T10:58:00",
          "2021-12-17T10:59:00",
          "2021-12-17T11:00:00",
          "2021-12-17T11:01:00",
          "2021-12-17T11:02:00",
          "2021-12-17T11:03:00",
          "2021-12-17T11:04:00",
          "2021-12-17T11:05:00",
          "2021-12-17T11:06:00",
          "2021-12-17T11:07:00",
          "2021-12-17T11:08:00",
          "2021-12-17T11:09:00",
          "2021-12-17T11:10:00",
          "2021-12-17T11:11:00",
          "2021-12-17T11:12:00",
          "2021-12-17T11:13:00",
          "2021-12-17T11:14:00",
          "2021-12-17T11:15:00",
          "2021-12-17T11:16:00",
          "2021-12-17T11:17:00",
          "2021-12-17T11:18:00",
          "2021-12-17T11:19:00",
          "2021-12-17T11:20:00",
          "2021-12-17T11:21:00",
          "2021-12-17T11:22:00",
          "2021-12-17T11:23:00",
          "2021-12-17T11:24:00",
          "2021-12-17T11:25:00",
          "2021-12-17T11:26:00",
          "2021-12-17T11:27:00",
          "2021-12-17T11:28:00",
          "2021-12-17T11:29:00",
          "2021-12-17T11:30:00",
          "2021-12-17T11:31:00",
          "2021-12-17T11:32:00",
          "2021-12-17T11:33:00",
          "2021-12-17T11:34:00",
          "2021-12-17T11:35:00",
          "2021-12-17T11:36:00",
          "2021-12-17T11:37:00",
          "2021-12-17T11:38:00",
          "2021-12-17T11:39:00",
          "2021-12-17T11:40:00",
          "2021-12-17T11:41:00",
          "2021-12-17T11:42:00",
          "2021-12-17T11:43:00",
          "2021-12-17T11:44:00",
          "2021-12-17T11:45:00",
          "2021-12-17T11:46:00",
          "2021-12-17T11:47:00",
          "2021-12-17T11:48:00",
          "2021-12-17T11:49:00",
          "2021-12-17T11:50:00",
          "2021-12-17T11:51:00",
          "2021-12-17T11:52:00",
          "2021-12-17T11:53:00",
          "2021-12-17T11:54:00",
          "2021-12-17T11:55:00",
          "2021-12-17T11:56:00",
          "2021-12-17T11:57:00",
          "2021-12-17T11:58:00",
          "2021-12-17T11:59:00",
          "2021-12-17T12:00:00",
          "2021-12-17T12:01:00",
          "2021-12-17T12:02:00",
          "2021-12-17T12:03:00",
          "2021-12-17T12:04:00",
          "2021-12-17T12:05:00",
          "2021-12-17T12:06:00",
          "2021-12-17T12:07:00",
          "2021-12-17T12:08:00",
          "2021-12-17T12:09:00",
          "2021-12-17T12:10:00",
          "2021-12-17T12:11:00",
          "2021-12-17T12:12:00",
          "2021-12-17T12:13:00",
          "2021-12-17T12:14:00",
          "2021-12-17T12:15:00",
          "2021-12-17T12:16:00",
          "2021-12-17T12:17:00",
          "2021-12-17T12:18:00",
          "2021-12-17T12:19:00",
          "2021-12-17T12:20:00",
          "2021-12-17T12:21:00",
          "2021-12-17T12:22:00",
          "2021-12-17T12:23:00",
          "2021-12-17T12:24:00",
          "2021-12-17T12:25:00",
          "2021-12-17T12:26:00",
          "2021-12-17T12:27:00",
          "2021-12-17T12:28:00",
          "2021-12-17T12:29:00",
          "2021-12-17T12:30:00",
          "2021-12-17T12:31:00",
          "2021-12-17T12:32:00",
          "2021-12-17T12:33:00",
          "2021-12-17T12:34:00",
          "2021-12-17T12:35:00",
          "2021-12-17T12:36:00",
          "2021-12-17T12:37:00",
          "2021-12-17T12:38:00",
          "2021-12-17T12:39:00",
          "2021-12-17T12:40:00",
          "2021-12-17T12:41:00",
          "2021-12-17T12:42:00",
          "2021-12-17T12:43:00"
         ],
         "xaxis": "x",
         "yaxis": "y2"
        },
        {
         "line": {
          "color": "#A9B1F5"
         },
         "mode": "lines",
         "name": "MACD",
         "type": "scatter",
         "x": [
          "2021-12-17T10:44:00",
          "2021-12-17T10:45:00",
          "2021-12-17T10:46:00",
          "2021-12-17T10:47:00",
          "2021-12-17T10:48:00",
          "2021-12-17T10:49:00",
          "2021-12-17T10:50:00",
          "2021-12-17T10:51:00",
          "2021-12-17T10:52:00",
          "2021-12-17T10:53:00",
          "2021-12-17T10:54:00",
          "2021-12-17T10:55:00",
          "2021-12-17T10:56:00",
          "2021-12-17T10:57:00",
          "2021-12-17T10:58:00",
          "2021-12-17T10:59:00",
          "2021-12-17T11:00:00",
          "2021-12-17T11:01:00",
          "2021-12-17T11:02:00",
          "2021-12-17T11:03:00",
          "2021-12-17T11:04:00",
          "2021-12-17T11:05:00",
          "2021-12-17T11:06:00",
          "2021-12-17T11:07:00",
          "2021-12-17T11:08:00",
          "2021-12-17T11:09:00",
          "2021-12-17T11:10:00",
          "2021-12-17T11:11:00",
          "2021-12-17T11:12:00",
          "2021-12-17T11:13:00",
          "2021-12-17T11:14:00",
          "2021-12-17T11:15:00",
          "2021-12-17T11:16:00",
          "2021-12-17T11:17:00",
          "2021-12-17T11:18:00",
          "2021-12-17T11:19:00",
          "2021-12-17T11:20:00",
          "2021-12-17T11:21:00",
          "2021-12-17T11:22:00",
          "2021-12-17T11:23:00",
          "2021-12-17T11:24:00",
          "2021-12-17T11:25:00",
          "2021-12-17T11:26:00",
          "2021-12-17T11:27:00",
          "2021-12-17T11:28:00",
          "2021-12-17T11:29:00",
          "2021-12-17T11:30:00",
          "2021-12-17T11:31:00",
          "2021-12-17T11:32:00",
          "2021-12-17T11:33:00",
          "2021-12-17T11:34:00",
          "2021-12-17T11:35:00",
          "2021-12-17T11:36:00",
          "2021-12-17T11:37:00",
          "2021-12-17T11:38:00",
          "2021-12-17T11:39:00",
          "2021-12-17T11:40:00",
          "2021-12-17T11:41:00",
          "2021-12-17T11:42:00",
          "2021-12-17T11:43:00",
          "2021-12-17T11:44:00",
          "2021-12-17T11:45:00",
          "2021-12-17T11:46:00",
          "2021-12-17T11:47:00",
          "2021-12-17T11:48:00",
          "2021-12-17T11:49:00",
          "2021-12-17T11:50:00",
          "2021-12-17T11:51:00",
          "2021-12-17T11:52:00",
          "2021-12-17T11:53:00",
          "2021-12-17T11:54:00",
          "2021-12-17T11:55:00",
          "2021-12-17T11:56:00",
          "2021-12-17T11:57:00",
          "2021-12-17T11:58:00",
          "2021-12-17T11:59:00",
          "2021-12-17T12:00:00",
          "2021-12-17T12:01:00",
          "2021-12-17T12:02:00",
          "2021-12-17T12:03:00",
          "2021-12-17T12:04:00",
          "2021-12-17T12:05:00",
          "2021-12-17T12:06:00",
          "2021-12-17T12:07:00",
          "2021-12-17T12:08:00",
          "2021-12-17T12:09:00",
          "2021-12-17T12:10:00",
          "2021-12-17T12:11:00",
          "2021-12-17T12:12:00",
          "2021-12-17T12:13:00",
          "2021-12-17T12:14:00",
          "2021-12-17T12:15:00",
          "2021-12-17T12:16:00",
          "2021-12-17T12:17:00",
          "2021-12-17T12:18:00",
          "2021-12-17T12:19:00",
          "2021-12-17T12:20:00",
          "2021-12-17T12:21:00",
          "2021-12-17T12:22:00",
          "2021-12-17T12:23:00",
          "2021-12-17T12:24:00",
          "2021-12-17T12:25:00",
          "2021-12-17T12:26:00",
          "2021-12-17T12:27:00",
          "2021-12-17T12:28:00",
          "2021-12-17T12:29:00",
          "2021-12-17T12:30:00",
          "2021-12-17T12:31:00",
          "2021-12-17T12:32:00",
          "2021-12-17T12:33:00",
          "2021-12-17T12:34:00",
          "2021-12-17T12:35:00",
          "2021-12-17T12:36:00",
          "2021-12-17T12:37:00",
          "2021-12-17T12:38:00",
          "2021-12-17T12:39:00",
          "2021-12-17T12:40:00",
          "2021-12-17T12:41:00",
          "2021-12-17T12:42:00",
          "2021-12-17T12:43:00"
         ],
         "xaxis": "x",
         "y": [
          0,
          -2.9029059829044854,
          -3.0182550466270186,
          0.8449701034114696,
          4.830517214075371,
          5.590241962163418,
          8.643356884880632,
          9.801742002280662,
          6.74142558996391,
          2.1011044624829083,
          -2.643319263748708,
          -6.7108498838570085,
          -11.985401225720125,
          -13.005002405523555,
          -15.197624385080417,
          -14.40896497436188,
          -14.284984353726031,
          -9.8952561255428,
          -6.387118555023335,
          -3.27781283960212,
          -1.275846107120742,
          2.536017812708451,
          8.870372532655892,
          16.230560731673904,
          20.858849939097126,
          30.797380230498675,
          37.468794216852984,
          42.666753388890356,
          45.706558969388425,
          47.436474350470235,
          48.48895535444899,
          48.71390251876437,
          46.093403544720786,
          43.33474020556605,
          42.10348271529074,
          41.096959237554984,
          38.23182592321973,
          35.775532575258694,
          36.838487558190536,
          36.93318462393654,
          36.75480557716219,
          38.27983845417475,
          39.90156121018663,
          44.29041452375532,
          47.52099288026511,
          48.52134922362893,
          49.945544658192375,
          47.99133259514201,
          44.19505439650675,
          41.362471142347204,
          37.56460709829116,
          32.75380641308584,
          28.710315204865765,
          25.54381565192307,
          21.563295311003458,
          19.264673444908112,
          17.964560319691373,
          15.977810032745765,
          11.141606132354354,
          11.710373946778418,
          13.295700594004302,
          10.390464199743292,
          9.34880646406964,
          6.1430768254213035,
          1.4570712472705054,
          -2.0027572968392633,
          -7.403674164197582,
          -12.443438955837337,
          -17.610281012472115,
          -21.69381503391196,
          -23.57220989362395,
          -24.20807811825216,
          -23.72281159204431,
          -20.816317173033895,
          -19.772125623399916,
          -16.83730745063076,
          -10.662993412690412,
          -3.7911178170033963,
          2.072387197462376,
          4.048496400275326,
          4.530308494780911,
          2.4183343979457277,
          1.4285161238149158,
          -2.4297006564738695,
          -7.578677328703634,
          -13.949087230554142,
          -17.42505980630085,
          -22.92532253878744,
          -26.738858041011554,
          -28.357794881310838,
          -23.012200726203446,
          -17.98186683572567,
          -8.261327555883327,
          0.9794519660063088,
          11.752490600338206,
          18.77225032125716,
          21.357050668739248,
          21.647056061570765,
          24.46267788145633,
          34.0296445166241,
          41.285705048256204,
          45.51736837021599,
          45.202946547018655,
          43.350987038284075,
          43.51197617487924,
          40.417230043436575,
          37.330152817448834,
          34.01543245158973,
          28.28902267832018,
          22.821219890967768,
          16.58210124114703,
          12.980716529847996,
          11.785321482195286,
          11.2345667128684,
          12.643011646156083,
          7.321958398497372,
          1.9152989207141218,
          -4.27539211083058,
          -11.44456152744533,
          -14.447704956110101
         ],
         "yaxis": "y"
        },
        {
         "line": {
          "color": "#FFD1A3"
         },
         "mode": "lines",
         "name": "MACD Signal",
         "type": "scatter",
         "x": [
          "2021-12-17T10:44:00",
          "2021-12-17T10:45:00",
          "2021-12-17T10:46:00",
          "2021-12-17T10:47:00",
          "2021-12-17T10:48:00",
          "2021-12-17T10:49:00",
          "2021-12-17T10:50:00",
          "2021-12-17T10:51:00",
          "2021-12-17T10:52:00",
          "2021-12-17T10:53:00",
          "2021-12-17T10:54:00",
          "2021-12-17T10:55:00",
          "2021-12-17T10:56:00",
          "2021-12-17T10:57:00",
          "2021-12-17T10:58:00",
          "2021-12-17T10:59:00",
          "2021-12-17T11:00:00",
          "2021-12-17T11:01:00",
          "2021-12-17T11:02:00",
          "2021-12-17T11:03:00",
          "2021-12-17T11:04:00",
          "2021-12-17T11:05:00",
          "2021-12-17T11:06:00",
          "2021-12-17T11:07:00",
          "2021-12-17T11:08:00",
          "2021-12-17T11:09:00",
          "2021-12-17T11:10:00",
          "2021-12-17T11:11:00",
          "2021-12-17T11:12:00",
          "2021-12-17T11:13:00",
          "2021-12-17T11:14:00",
          "2021-12-17T11:15:00",
          "2021-12-17T11:16:00",
          "2021-12-17T11:17:00",
          "2021-12-17T11:18:00",
          "2021-12-17T11:19:00",
          "2021-12-17T11:20:00",
          "2021-12-17T11:21:00",
          "2021-12-17T11:22:00",
          "2021-12-17T11:23:00",
          "2021-12-17T11:24:00",
          "2021-12-17T11:25:00",
          "2021-12-17T11:26:00",
          "2021-12-17T11:27:00",
          "2021-12-17T11:28:00",
          "2021-12-17T11:29:00",
          "2021-12-17T11:30:00",
          "2021-12-17T11:31:00",
          "2021-12-17T11:32:00",
          "2021-12-17T11:33:00",
          "2021-12-17T11:34:00",
          "2021-12-17T11:35:00",
          "2021-12-17T11:36:00",
          "2021-12-17T11:37:00",
          "2021-12-17T11:38:00",
          "2021-12-17T11:39:00",
          "2021-12-17T11:40:00",
          "2021-12-17T11:41:00",
          "2021-12-17T11:42:00",
          "2021-12-17T11:43:00",
          "2021-12-17T11:44:00",
          "2021-12-17T11:45:00",
          "2021-12-17T11:46:00",
          "2021-12-17T11:47:00",
          "2021-12-17T11:48:00",
          "2021-12-17T11:49:00",
          "2021-12-17T11:50:00",
          "2021-12-17T11:51:00",
          "2021-12-17T11:52:00",
          "2021-12-17T11:53:00",
          "2021-12-17T11:54:00",
          "2021-12-17T11:55:00",
          "2021-12-17T11:56:00",
          "2021-12-17T11:57:00",
          "2021-12-17T11:58:00",
          "2021-12-17T11:59:00",
          "2021-12-17T12:00:00",
          "2021-12-17T12:01:00",
          "2021-12-17T12:02:00",
          "2021-12-17T12:03:00",
          "2021-12-17T12:04:00",
          "2021-12-17T12:05:00",
          "2021-12-17T12:06:00",
          "2021-12-17T12:07:00",
          "2021-12-17T12:08:00",
          "2021-12-17T12:09:00",
          "2021-12-17T12:10:00",
          "2021-12-17T12:11:00",
          "2021-12-17T12:12:00",
          "2021-12-17T12:13:00",
          "2021-12-17T12:14:00",
          "2021-12-17T12:15:00",
          "2021-12-17T12:16:00",
          "2021-12-17T12:17:00",
          "2021-12-17T12:18:00",
          "2021-12-17T12:19:00",
          "2021-12-17T12:20:00",
          "2021-12-17T12:21:00",
          "2021-12-17T12:22:00",
          "2021-12-17T12:23:00",
          "2021-12-17T12:24:00",
          "2021-12-17T12:25:00",
          "2021-12-17T12:26:00",
          "2021-12-17T12:27:00",
          "2021-12-17T12:28:00",
          "2021-12-17T12:29:00",
          "2021-12-17T12:30:00",
          "2021-12-17T12:31:00",
          "2021-12-17T12:32:00",
          "2021-12-17T12:33:00",
          "2021-12-17T12:34:00",
          "2021-12-17T12:35:00",
          "2021-12-17T12:36:00",
          "2021-12-17T12:37:00",
          "2021-12-17T12:38:00",
          "2021-12-17T12:39:00",
          "2021-12-17T12:40:00",
          "2021-12-17T12:41:00",
          "2021-12-17T12:42:00",
          "2021-12-17T12:43:00"
         ],
         "xaxis": "x",
         "y": [
          0,
          -0.5805811965808971,
          -1.0681159665901214,
          -0.6854987525898032,
          0.41770444074323176,
          1.452211945027269,
          2.890440932997942,
          4.2727011468544855,
          4.7664460354763705,
          4.233377720877678,
          2.858038323952401,
          0.9442606823905191,
          -1.6416716992316096,
          -3.914337840489999,
          -6.170995149408083,
          -7.818589114398842,
          -9.11186816226428,
          -9.268545754919984,
          -8.692260314940654,
          -7.6093708198729475,
          -6.342665877322507,
          -4.566929139316316,
          -1.8794688049218742,
          1.7425371023972813,
          5.565799669737251,
          10.612115781889536,
          15.983451468882226,
          21.320111852883855,
          26.19740127618477,
          30.445215891041865,
          34.05396378372329,
          36.98595153073151,
          38.80744193352937,
          39.712901587936706,
          40.19101781340751,
          40.37220609823701,
          39.94413006323356,
          39.11041056563859,
          38.65602596414898,
          38.311457696106494,
          38.000127272317634,
          38.056069508689056,
          38.42516784898857,
          39.59821718394192,
          41.18277232320656,
          42.650487703291034,
          44.10949909427131,
          44.88586579444545,
          44.74770351485771,
          44.07065704035561,
          42.76944705194273,
          40.76631892417135,
          38.35511818031024,
          35.79285767463281,
          32.94694520190694,
          30.210490850507178,
          27.76130474434402,
          25.40460580202437,
          22.55200586809037,
          20.38367948382798,
          18.966083705863245,
          17.250959804639255,
          15.670529136525333,
          13.76503867430453,
          11.303445188897726,
          8.64220469175033,
          5.433028920560748,
          1.8577353452811312,
          -2.035867926269518,
          -5.967457347798007,
          -9.488407856963196,
          -12.432341909220991,
          -14.690435845785656,
          -15.915612111235305,
          -16.686914813668228,
          -16.716993341060736,
          -15.506193355386673,
          -13.163178247710018,
          -10.11606515867554,
          -7.283152846885367,
          -4.920460578552111,
          -3.452701583252544,
          -2.4764580418390523,
          -2.467106564766016,
          -3.48942071755354,
          -5.581354020153661,
          -7.9500951773830995,
          -10.94514064966397,
          -14.103884127933487,
          -16.954666278608958,
          -18.166173168127855,
          -18.12931190164742,
          -16.1557150324946,
          -12.72868163279442,
          -7.8324471861678955,
          -2.511507684682884,
          2.262203986001542,
          6.139174401115387,
          9.803875097183575,
          14.64902898107168,
          19.976364194508584,
          25.084565029650065,
          29.108241333123786,
          31.956790474155845,
          34.26782761430052,
          35.49770810012774,
          35.86419704359196,
          35.494444125191514,
          34.05335983581725,
          31.806931846847355,
          28.76196572570729,
          25.605715886535435,
          22.841637005667405,
          20.520222947107605,
          18.9447806869173,
          16.620216229233314,
          13.679232767529477,
          10.088307791857467,
          5.781733927996907,
          1.7358461511755054
         ],
         "yaxis": "y"
        }
       ],
       "layout": {
        "hovermode": "x unified",
        "legend": {
         "x": 0.94,
         "xanchor": "right",
         "y": 0.99,
         "yanchor": "top"
        },
        "margin": {
         "b": 100,
         "l": 50,
         "pad": 4,
         "r": 50,
         "t": 100
        },
        "shapes": [
         {
          "line": {
           "color": "#3FFA68",
           "width": 1
          },
          "opacity": 1,
          "type": "rect",
          "x0": "2021-12-17T10:44:00",
          "x1": "2021-12-17T10:45:00",
          "xref": "x",
          "y0": 0,
          "y1": 1,
          "yref": "y domain"
         },
         {
          "line": {
           "color": "#D61170",
           "width": 1
          },
          "opacity": 1,
          "type": "rect",
          "x0": "2021-12-17T10:45:00",
          "x1": "2021-12-17T10:47:00",
          "xref": "x",
          "y0": 0,
          "y1": 1,
          "yref": "y domain"
         },
         {
          "line": {
           "color": "#3FFA68",
           "width": 1
          },
          "opacity": 1,
          "type": "rect",
          "x0": "2021-12-17T10:47:00",
          "x1": "2021-12-17T10:53:00",
          "xref": "x",
          "y0": 0,
          "y1": 1,
          "yref": "y domain"
         },
         {
          "line": {
           "color": "#D61170",
           "width": 1
          },
          "opacity": 1,
          "type": "rect",
          "x0": "2021-12-17T10:53:00",
          "x1": "2021-12-17T11:02:00",
          "xref": "x",
          "y0": 0,
          "y1": 1,
          "yref": "y domain"
         },
         {
          "line": {
           "color": "#3FFA68",
           "width": 1
          },
          "opacity": 1,
          "type": "rect",
          "x0": "2021-12-17T11:02:00",
          "x1": "2021-12-17T11:20:00",
          "xref": "x",
          "y0": 0,
          "y1": 1,
          "yref": "y domain"
         },
         {
          "line": {
           "color": "#D61170",
           "width": 1
          },
          "opacity": 1,
          "type": "rect",
          "x0": "2021-12-17T11:20:00",
          "x1": "2021-12-17T11:25:00",
          "xref": "x",
          "y0": 0,
          "y1": 1,
          "yref": "y domain"
         },
         {
          "line": {
           "color": "#3FFA68",
           "width": 1
          },
          "opacity": 1,
          "type": "rect",
          "x0": "2021-12-17T11:25:00",
          "x1": "2021-12-17T11:32:00",
          "xref": "x",
          "y0": 0,
          "y1": 1,
          "yref": "y domain"
         },
         {
          "line": {
           "color": "#D61170",
           "width": 1
          },
          "opacity": 1,
          "type": "rect",
          "x0": "2021-12-17T11:32:00",
          "x1": "2021-12-17T12:00:00",
          "xref": "x",
          "y0": 0,
          "y1": 1,
          "yref": "y domain"
         },
         {
          "line": {
           "color": "#3FFA68",
           "width": 1
          },
          "opacity": 1,
          "type": "rect",
          "x0": "2021-12-17T12:00:00",
          "x1": "2021-12-17T12:08:00",
          "xref": "x",
          "y0": 0,
          "y1": 1,
          "yref": "y domain"
         },
         {
          "line": {
           "color": "#D61170",
           "width": 1
          },
          "opacity": 1,
          "type": "rect",
          "x0": "2021-12-17T12:08:00",
          "x1": "2021-12-17T12:15:00",
          "xref": "x",
          "y0": 0,
          "y1": 1,
          "yref": "y domain"
         },
         {
          "line": {
           "color": "#3FFA68",
           "width": 1
          },
          "opacity": 1,
          "type": "rect",
          "x0": "2021-12-17T12:15:00",
          "x1": "2021-12-17T12:31:00",
          "xref": "x",
          "y0": 0,
          "y1": 1,
          "yref": "y domain"
         },
         {
          "line": {
           "color": "#D61170",
           "width": 1
          },
          "opacity": 1,
          "type": "rect",
          "x0": "2021-12-17T12:31:00",
          "x1": "2021-12-17T13:43:39.735951",
          "xref": "x",
          "y0": 0,
          "y1": 1,
          "yref": "y domain"
         }
        ],
        "template": {
         "data": {
          "bar": [
           {
            "error_x": {
             "color": "#2a3f5f"
            },
            "error_y": {
             "color": "#2a3f5f"
            },
            "marker": {
             "line": {
              "color": "#E5ECF6",
              "width": 0.5
             }
            },
            "type": "bar"
           }
          ],
          "barpolar": [
           {
            "marker": {
             "line": {
              "color": "#E5ECF6",
              "width": 0.5
             }
            },
            "type": "barpolar"
           }
          ],
          "carpet": [
           {
            "aaxis": {
             "endlinecolor": "#2a3f5f",
             "gridcolor": "white",
             "linecolor": "white",
             "minorgridcolor": "white",
             "startlinecolor": "#2a3f5f"
            },
            "baxis": {
             "endlinecolor": "#2a3f5f",
             "gridcolor": "white",
             "linecolor": "white",
             "minorgridcolor": "white",
             "startlinecolor": "#2a3f5f"
            },
            "type": "carpet"
           }
          ],
          "choropleth": [
           {
            "colorbar": {
             "outlinewidth": 0,
             "ticks": ""
            },
            "type": "choropleth"
           }
          ],
          "contour": [
           {
            "colorbar": {
             "outlinewidth": 0,
             "ticks": ""
            },
            "colorscale": [
             [
              0,
              "#0d0887"
             ],
             [
              0.1111111111111111,
              "#46039f"
             ],
             [
              0.2222222222222222,
              "#7201a8"
             ],
             [
              0.3333333333333333,
              "#9c179e"
             ],
             [
              0.4444444444444444,
              "#bd3786"
             ],
             [
              0.5555555555555556,
              "#d8576b"
             ],
             [
              0.6666666666666666,
              "#ed7953"
             ],
             [
              0.7777777777777778,
              "#fb9f3a"
             ],
             [
              0.8888888888888888,
              "#fdca26"
             ],
             [
              1,
              "#f0f921"
             ]
            ],
            "type": "contour"
           }
          ],
          "contourcarpet": [
           {
            "colorbar": {
             "outlinewidth": 0,
             "ticks": ""
            },
            "type": "contourcarpet"
           }
          ],
          "heatmap": [
           {
            "colorbar": {
             "outlinewidth": 0,
             "ticks": ""
            },
            "colorscale": [
             [
              0,
              "#0d0887"
             ],
             [
              0.1111111111111111,
              "#46039f"
             ],
             [
              0.2222222222222222,
              "#7201a8"
             ],
             [
              0.3333333333333333,
              "#9c179e"
             ],
             [
              0.4444444444444444,
              "#bd3786"
             ],
             [
              0.5555555555555556,
              "#d8576b"
             ],
             [
              0.6666666666666666,
              "#ed7953"
             ],
             [
              0.7777777777777778,
              "#fb9f3a"
             ],
             [
              0.8888888888888888,
              "#fdca26"
             ],
             [
              1,
              "#f0f921"
             ]
            ],
            "type": "heatmap"
           }
          ],
          "heatmapgl": [
           {
            "colorbar": {
             "outlinewidth": 0,
             "ticks": ""
            },
            "colorscale": [
             [
              0,
              "#0d0887"
             ],
             [
              0.1111111111111111,
              "#46039f"
             ],
             [
              0.2222222222222222,
              "#7201a8"
             ],
             [
              0.3333333333333333,
              "#9c179e"
             ],
             [
              0.4444444444444444,
              "#bd3786"
             ],
             [
              0.5555555555555556,
              "#d8576b"
             ],
             [
              0.6666666666666666,
              "#ed7953"
             ],
             [
              0.7777777777777778,
              "#fb9f3a"
             ],
             [
              0.8888888888888888,
              "#fdca26"
             ],
             [
              1,
              "#f0f921"
             ]
            ],
            "type": "heatmapgl"
           }
          ],
          "histogram": [
           {
            "marker": {
             "colorbar": {
              "outlinewidth": 0,
              "ticks": ""
             }
            },
            "type": "histogram"
           }
          ],
          "histogram2d": [
           {
            "colorbar": {
             "outlinewidth": 0,
             "ticks": ""
            },
            "colorscale": [
             [
              0,
              "#0d0887"
             ],
             [
              0.1111111111111111,
              "#46039f"
             ],
             [
              0.2222222222222222,
              "#7201a8"
             ],
             [
              0.3333333333333333,
              "#9c179e"
             ],
             [
              0.4444444444444444,
              "#bd3786"
             ],
             [
              0.5555555555555556,
              "#d8576b"
             ],
             [
              0.6666666666666666,
              "#ed7953"
             ],
             [
              0.7777777777777778,
              "#fb9f3a"
             ],
             [
              0.8888888888888888,
              "#fdca26"
             ],
             [
              1,
              "#f0f921"
             ]
            ],
            "type": "histogram2d"
           }
          ],
          "histogram2dcontour": [
           {
            "colorbar": {
             "outlinewidth": 0,
             "ticks": ""
            },
            "colorscale": [
             [
              0,
              "#0d0887"
             ],
             [
              0.1111111111111111,
              "#46039f"
             ],
             [
              0.2222222222222222,
              "#7201a8"
             ],
             [
              0.3333333333333333,
              "#9c179e"
             ],
             [
              0.4444444444444444,
              "#bd3786"
             ],
             [
              0.5555555555555556,
              "#d8576b"
             ],
             [
              0.6666666666666666,
              "#ed7953"
             ],
             [
              0.7777777777777778,
              "#fb9f3a"
             ],
             [
              0.8888888888888888,
              "#fdca26"
             ],
             [
              1,
              "#f0f921"
             ]
            ],
            "type": "histogram2dcontour"
           }
          ],
          "mesh3d": [
           {
            "colorbar": {
             "outlinewidth": 0,
             "ticks": ""
            },
            "type": "mesh3d"
           }
          ],
          "parcoords": [
           {
            "line": {
             "colorbar": {
              "outlinewidth": 0,
              "ticks": ""
             }
            },
            "type": "parcoords"
           }
          ],
          "pie": [
           {
            "automargin": true,
            "type": "pie"
           }
          ],
          "scatter": [
           {
            "marker": {
             "colorbar": {
              "outlinewidth": 0,
              "ticks": ""
             }
            },
            "type": "scatter"
           }
          ],
          "scatter3d": [
           {
            "line": {
             "colorbar": {
              "outlinewidth": 0,
              "ticks": ""
             }
            },
            "marker": {
             "colorbar": {
              "outlinewidth": 0,
              "ticks": ""
             }
            },
            "type": "scatter3d"
           }
          ],
          "scattercarpet": [
           {
            "marker": {
             "colorbar": {
              "outlinewidth": 0,
              "ticks": ""
             }
            },
            "type": "scattercarpet"
           }
          ],
          "scattergeo": [
           {
            "marker": {
             "colorbar": {
              "outlinewidth": 0,
              "ticks": ""
             }
            },
            "type": "scattergeo"
           }
          ],
          "scattergl": [
           {
            "marker": {
             "colorbar": {
              "outlinewidth": 0,
              "ticks": ""
             }
            },
            "type": "scattergl"
           }
          ],
          "scattermapbox": [
           {
            "marker": {
             "colorbar": {
              "outlinewidth": 0,
              "ticks": ""
             }
            },
            "type": "scattermapbox"
           }
          ],
          "scatterpolar": [
           {
            "marker": {
             "colorbar": {
              "outlinewidth": 0,
              "ticks": ""
             }
            },
            "type": "scatterpolar"
           }
          ],
          "scatterpolargl": [
           {
            "marker": {
             "colorbar": {
              "outlinewidth": 0,
              "ticks": ""
             }
            },
            "type": "scatterpolargl"
           }
          ],
          "scatterternary": [
           {
            "marker": {
             "colorbar": {
              "outlinewidth": 0,
              "ticks": ""
             }
            },
            "type": "scatterternary"
           }
          ],
          "surface": [
           {
            "colorbar": {
             "outlinewidth": 0,
             "ticks": ""
            },
            "colorscale": [
             [
              0,
              "#0d0887"
             ],
             [
              0.1111111111111111,
              "#46039f"
             ],
             [
              0.2222222222222222,
              "#7201a8"
             ],
             [
              0.3333333333333333,
              "#9c179e"
             ],
             [
              0.4444444444444444,
              "#bd3786"
             ],
             [
              0.5555555555555556,
              "#d8576b"
             ],
             [
              0.6666666666666666,
              "#ed7953"
             ],
             [
              0.7777777777777778,
              "#fb9f3a"
             ],
             [
              0.8888888888888888,
              "#fdca26"
             ],
             [
              1,
              "#f0f921"
             ]
            ],
            "type": "surface"
           }
          ],
          "table": [
           {
            "cells": {
             "fill": {
              "color": "#EBF0F8"
             },
             "line": {
              "color": "white"
             }
            },
            "header": {
             "fill": {
              "color": "#C8D4E3"
             },
             "line": {
              "color": "white"
             }
            },
            "type": "table"
           }
          ]
         },
         "layout": {
          "annotationdefaults": {
           "arrowcolor": "#2a3f5f",
           "arrowhead": 0,
           "arrowwidth": 1
          },
          "autotypenumbers": "strict",
          "coloraxis": {
           "colorbar": {
            "outlinewidth": 0,
            "ticks": ""
           }
          },
          "colorscale": {
           "diverging": [
            [
             0,
             "#8e0152"
            ],
            [
             0.1,
             "#c51b7d"
            ],
            [
             0.2,
             "#de77ae"
            ],
            [
             0.3,
             "#f1b6da"
            ],
            [
             0.4,
             "#fde0ef"
            ],
            [
             0.5,
             "#f7f7f7"
            ],
            [
             0.6,
             "#e6f5d0"
            ],
            [
             0.7,
             "#b8e186"
            ],
            [
             0.8,
             "#7fbc41"
            ],
            [
             0.9,
             "#4d9221"
            ],
            [
             1,
             "#276419"
            ]
           ],
           "sequential": [
            [
             0,
             "#0d0887"
            ],
            [
             0.1111111111111111,
             "#46039f"
            ],
            [
             0.2222222222222222,
             "#7201a8"
            ],
            [
             0.3333333333333333,
             "#9c179e"
            ],
            [
             0.4444444444444444,
             "#bd3786"
            ],
            [
             0.5555555555555556,
             "#d8576b"
            ],
            [
             0.6666666666666666,
             "#ed7953"
            ],
            [
             0.7777777777777778,
             "#fb9f3a"
            ],
            [
             0.8888888888888888,
             "#fdca26"
            ],
            [
             1,
             "#f0f921"
            ]
           ],
           "sequentialminus": [
            [
             0,
             "#0d0887"
            ],
            [
             0.1111111111111111,
             "#46039f"
            ],
            [
             0.2222222222222222,
             "#7201a8"
            ],
            [
             0.3333333333333333,
             "#9c179e"
            ],
            [
             0.4444444444444444,
             "#bd3786"
            ],
            [
             0.5555555555555556,
             "#d8576b"
            ],
            [
             0.6666666666666666,
             "#ed7953"
            ],
            [
             0.7777777777777778,
             "#fb9f3a"
            ],
            [
             0.8888888888888888,
             "#fdca26"
            ],
            [
             1,
             "#f0f921"
            ]
           ]
          },
          "colorway": [
           "#636efa",
           "#EF553B",
           "#00cc96",
           "#ab63fa",
           "#FFA15A",
           "#19d3f3",
           "#FF6692",
           "#B6E880",
           "#FF97FF",
           "#FECB52"
          ],
          "font": {
           "color": "#2a3f5f"
          },
          "geo": {
           "bgcolor": "white",
           "lakecolor": "white",
           "landcolor": "#E5ECF6",
           "showlakes": true,
           "showland": true,
           "subunitcolor": "white"
          },
          "hoverlabel": {
           "align": "left"
          },
          "hovermode": "closest",
          "mapbox": {
           "style": "light"
          },
          "paper_bgcolor": "white",
          "plot_bgcolor": "#E5ECF6",
          "polar": {
           "angularaxis": {
            "gridcolor": "white",
            "linecolor": "white",
            "ticks": ""
           },
           "bgcolor": "#E5ECF6",
           "radialaxis": {
            "gridcolor": "white",
            "linecolor": "white",
            "ticks": ""
           }
          },
          "scene": {
           "xaxis": {
            "backgroundcolor": "#E5ECF6",
            "gridcolor": "white",
            "gridwidth": 2,
            "linecolor": "white",
            "showbackground": true,
            "ticks": "",
            "zerolinecolor": "white"
           },
           "yaxis": {
            "backgroundcolor": "#E5ECF6",
            "gridcolor": "white",
            "gridwidth": 2,
            "linecolor": "white",
            "showbackground": true,
            "ticks": "",
            "zerolinecolor": "white"
           },
           "zaxis": {
            "backgroundcolor": "#E5ECF6",
            "gridcolor": "white",
            "gridwidth": 2,
            "linecolor": "white",
            "showbackground": true,
            "ticks": "",
            "zerolinecolor": "white"
           }
          },
          "shapedefaults": {
           "line": {
            "color": "#2a3f5f"
           }
          },
          "ternary": {
           "aaxis": {
            "gridcolor": "white",
            "linecolor": "white",
            "ticks": ""
           },
           "baxis": {
            "gridcolor": "white",
            "linecolor": "white",
            "ticks": ""
           },
           "bgcolor": "#E5ECF6",
           "caxis": {
            "gridcolor": "white",
            "linecolor": "white",
            "ticks": ""
           }
          },
          "title": {
           "x": 0.05
          },
          "xaxis": {
           "automargin": true,
           "gridcolor": "white",
           "linecolor": "white",
           "ticks": "",
           "title": {
            "standoff": 15
           },
           "zerolinecolor": "white",
           "zerolinewidth": 2
          },
          "yaxis": {
           "automargin": true,
           "gridcolor": "white",
           "linecolor": "white",
           "ticks": "",
           "title": {
            "standoff": 15
           },
           "zerolinecolor": "white",
           "zerolinewidth": 2
          }
         }
        },
        "title": {
         "text": "OHLC Chart for BTC with time interval 1min"
        },
        "xaxis": {
         "anchor": "y",
         "domain": [
          0,
          0.94
         ],
         "rangeselector": {
          "buttons": [
           {
            "count": 1,
            "label": "1m",
            "step": "month",
            "stepmode": "backward"
           },
           {
            "count": 6,
            "label": "6m",
            "step": "month",
            "stepmode": "backward"
           },
           {
            "count": 1,
            "label": "YTD",
            "step": "year",
            "stepmode": "todate"
           },
           {
            "count": 1,
            "label": "1y",
            "step": "year",
            "stepmode": "backward"
           },
           {
            "step": "all"
           }
          ]
         },
         "rangeslider": {
          "visible": true
         },
         "tickformat": "%d %b %H:%M",
         "type": "date"
        },
        "yaxis": {
         "anchor": "x",
         "domain": [
          0,
          1
         ],
         "range": [
          -28.357794881310838,
          49.945544658192375
         ],
         "showgrid": false,
         "showticklabels": false,
         "zeroline": false
        },
        "yaxis2": {
         "anchor": "x",
         "overlaying": "y",
         "side": "right"
        }
       }
      }
     },
     "metadata": {},
     "output_type": "display_data"
    },
    {
     "data": {
      "application/vnd.plotly.v1+json": {
       "config": {
        "plotlyServerURL": "https://plot.ly"
       },
       "data": [
        {
         "close": [
          3387.46,
          3382.69,
          3384.75,
          3391.68,
          3393.93,
          3388.56,
          3394.25,
          3390.19,
          3385.62,
          3377.54,
          3375.5,
          3375.18,
          3373.42,
          3374.05,
          3371.85,
          3374.54,
          3372.61,
          3376.94,
          3376.35,
          3374.73,
          3373.64,
          3379.43,
          3382.96,
          3386.44,
          3385.9,
          3391.58,
          3391.02,
          3394.19,
          3391.79,
          3391.9,
          3394.93,
          3392.24,
          3392.35,
          3392.92,
          3393.16,
          3394.47,
          3392.8,
          3395.74,
          3398.95,
          3400.04,
          3398.05,
          3401.21,
          3400.58,
          3404.57,
          3402.34,
          3401.12,
          3402.2,
          3398.81,
          3396.68,
          3398.22,
          3398.07,
          3395.18,
          3394.8,
          3394.68,
          3394.05,
          3397.47,
          3396.38,
          3394.8,
          3391.87,
          3397.28,
          3398.33,
          3394.53,
          3395.92,
          3393.63,
          3388.89,
          3388.25,
          3385.58,
          3385.69,
          3382.94,
          3385.01,
          3385.62,
          3385.88,
          3386.57,
          3388.63,
          3387.79,
          3390.26,
          3396.4,
          3398.18,
          3394.19,
          3387.59,
          3387.23,
          3381.97,
          3381.88,
          3375.8,
          3372.61,
          3370.78,
          3369.67,
          3363.59,
          3365.91,
          3367.61,
          3376.4,
          3374.19,
          3383.37,
          3386.65,
          3393.84,
          3393.47,
          3390.92,
          3387.96,
          3394,
          3401.85,
          3404.26,
          3404.96,
          3398.64,
          3395.81,
          3400.63,
          3395.99,
          3394.16,
          3395.75,
          3390.5,
          3390.06,
          3388.78,
          3390.99,
          3393.36,
          3394.77,
          3395.2,
          3389.74,
          3385.7,
          3383.29,
          3380,
          3380.82
         ],
         "decreasing": {
          "line": {
           "color": "gray"
          }
         },
         "high": [
          3391.1,
          3388.94,
          3385.83,
          3392.36,
          3394.96,
          3393.7,
          3394.96,
          3395.29,
          3390.17,
          3383.18,
          3377.95,
          3379.1,
          3376.23,
          3374.05,
          3377.59,
          3376.04,
          3374.01,
          3378.09,
          3379.53,
          3379.79,
          3377.78,
          3379.43,
          3382.96,
          3386.44,
          3387.61,
          3392.33,
          3396.88,
          3394.19,
          3395.62,
          3393.13,
          3396.57,
          3397,
          3393.39,
          3395.12,
          3394.58,
          3395.93,
          3395.72,
          3395.74,
          3400.16,
          3403.82,
          3399.88,
          3401.7,
          3400.87,
          3407.56,
          3404.55,
          3403.2,
          3403.77,
          3402,
          3399.41,
          3399.16,
          3398.22,
          3400.03,
          3395.73,
          3396.03,
          3396.14,
          3398.13,
          3398.73,
          3397.33,
          3395.93,
          3397.71,
          3398.33,
          3398.28,
          3396.73,
          3396.28,
          3393.59,
          3393.38,
          3389.15,
          3385.69,
          3385.28,
          3386.27,
          3386.62,
          3385.88,
          3387.88,
          3389.46,
          3389.41,
          3390.44,
          3397.41,
          3398.73,
          3398.11,
          3393,
          3387.92,
          3386.24,
          3386.37,
          3382.77,
          3376.7,
          3376.03,
          3371.6,
          3370.46,
          3367.57,
          3370.72,
          3376.48,
          3376.37,
          3383.89,
          3389.51,
          3394.29,
          3394.49,
          3393.55,
          3391.04,
          3394,
          3403.91,
          3404.26,
          3404.96,
          3402.63,
          3399.77,
          3401.83,
          3400.13,
          3396.79,
          3396.15,
          3395.66,
          3392.93,
          3391.34,
          3391.11,
          3395.07,
          3394.77,
          3395.2,
          3394.77,
          3389.35,
          3387.07,
          3384.61,
          3380.82
         ],
         "increasing": {
          "line": {
           "color": "cyan"
          }
         },
         "low": [
          3383.72,
          3382.33,
          3381.67,
          3384.18,
          3392.14,
          3387.57,
          3388.71,
          3389.61,
          3385.61,
          3375.55,
          3374.33,
          3374.52,
          3369.44,
          3367.41,
          3370.43,
          3370.65,
          3366.41,
          3372.89,
          3376.35,
          3371.13,
          3373.64,
          3373.31,
          3381.88,
          3380.39,
          3385.5,
          3385.94,
          3390.4,
          3387.96,
          3391.79,
          3389.56,
          3391.54,
          3391.79,
          3389.74,
          3391.02,
          3392.27,
          3393.23,
          3391.85,
          3391.7,
          3393.41,
          3398.85,
          3397.15,
          3396.77,
          3398.04,
          3400.6,
          3402.06,
          3398.7,
          3398.81,
          3398.45,
          3396.68,
          3397.31,
          3395.85,
          3392.01,
          3393.43,
          3393.1,
          3394.05,
          3395.11,
          3395.15,
          3394.8,
          3391.5,
          3392,
          3394.83,
          3393.31,
          3393.18,
          3393.13,
          3388.89,
          3387.44,
          3380.86,
          3382.99,
          3381.94,
          3383.84,
          3383.21,
          3382.99,
          3385.58,
          3383.92,
          3386.92,
          3387.03,
          3387.11,
          3395.98,
          3393.44,
          3387.59,
          3385.41,
          3381.97,
          3381.88,
          3375,
          3370.67,
          3370.74,
          3369.62,
          3362.42,
          3356,
          3367.25,
          3367.78,
          3373.4,
          3375.8,
          3385.56,
          3385.98,
          3389.85,
          3388.9,
          3385.85,
          3386.94,
          3391.59,
          3398.11,
          3400.49,
          3397.26,
          3395.69,
          3395.22,
          3394.08,
          3394.16,
          3391.4,
          3390.39,
          3390.06,
          3388.77,
          3388.09,
          3390.21,
          3391.02,
          3393.65,
          3388.77,
          3385.7,
          3383.29,
          3380,
          3380.82
         ],
         "name": "OHLC",
         "open": [
          3383.72,
          3387.09,
          3382.33,
          3384.18,
          3392.46,
          3393.62,
          3389.22,
          3395.19,
          3389.75,
          3381.99,
          3377.69,
          3376.01,
          3375.7,
          3372.32,
          3376.9,
          3371.07,
          3373.43,
          3373.67,
          3377.03,
          3376.82,
          3375.79,
          3374.43,
          3382.41,
          3382.24,
          3387,
          3386.84,
          3390.4,
          3390,
          3393.76,
          3392.43,
          3391.54,
          3394.5,
          3393.39,
          3391.72,
          3394,
          3393.82,
          3394,
          3391.71,
          3395.48,
          3399.78,
          3399.88,
          3396.77,
          3400.86,
          3400.6,
          3404.26,
          3401.88,
          3400.06,
          3400.98,
          3398.37,
          3397.41,
          3397.73,
          3397.88,
          3395.19,
          3394.86,
          3394.56,
          3395.11,
          3396.9,
          3397.3,
          3395.56,
          3392.81,
          3397.6,
          3398.28,
          3394.54,
          3396.01,
          3393.42,
          3387.44,
          3388.08,
          3385.07,
          3385.28,
          3384.61,
          3384.37,
          3385.44,
          3386.01,
          3383.92,
          3388.47,
          3387.03,
          3389.62,
          3396.66,
          3397.87,
          3393,
          3387.33,
          3386.24,
          3382.19,
          3382.55,
          3375.52,
          3373.81,
          3370.94,
          3370.46,
          3364.78,
          3367.3,
          3367.78,
          3375.7,
          3375.8,
          3385.56,
          3386.37,
          3394,
          3393,
          3391.04,
          3386.95,
          3395.06,
          3402.09,
          3403.13,
          3402.49,
          3398.09,
          3395.35,
          3400.13,
          3395.85,
          3393,
          3395.66,
          3391.82,
          3391.17,
          3388.8,
          3390.97,
          3394.28,
          3394.42,
          3394.77,
          3388.96,
          3385.88,
          3383.89,
          3380.82
         ],
         "type": "ohlc",
         "x": [
          "2021-12-17T10:44:00",
          "2021-12-17T10:45:00",
          "2021-12-17T10:46:00",
          "2021-12-17T10:47:00",
          "2021-12-17T10:48:00",
          "2021-12-17T10:49:00",
          "2021-12-17T10:50:00",
          "2021-12-17T10:51:00",
          "2021-12-17T10:52:00",
          "2021-12-17T10:53:00",
          "2021-12-17T10:54:00",
          "2021-12-17T10:55:00",
          "2021-12-17T10:56:00",
          "2021-12-17T10:57:00",
          "2021-12-17T10:58:00",
          "2021-12-17T10:59:00",
          "2021-12-17T11:00:00",
          "2021-12-17T11:01:00",
          "2021-12-17T11:02:00",
          "2021-12-17T11:03:00",
          "2021-12-17T11:04:00",
          "2021-12-17T11:05:00",
          "2021-12-17T11:06:00",
          "2021-12-17T11:07:00",
          "2021-12-17T11:08:00",
          "2021-12-17T11:09:00",
          "2021-12-17T11:10:00",
          "2021-12-17T11:11:00",
          "2021-12-17T11:12:00",
          "2021-12-17T11:13:00",
          "2021-12-17T11:14:00",
          "2021-12-17T11:15:00",
          "2021-12-17T11:16:00",
          "2021-12-17T11:17:00",
          "2021-12-17T11:18:00",
          "2021-12-17T11:19:00",
          "2021-12-17T11:20:00",
          "2021-12-17T11:21:00",
          "2021-12-17T11:22:00",
          "2021-12-17T11:23:00",
          "2021-12-17T11:24:00",
          "2021-12-17T11:25:00",
          "2021-12-17T11:26:00",
          "2021-12-17T11:27:00",
          "2021-12-17T11:28:00",
          "2021-12-17T11:29:00",
          "2021-12-17T11:30:00",
          "2021-12-17T11:31:00",
          "2021-12-17T11:32:00",
          "2021-12-17T11:33:00",
          "2021-12-17T11:34:00",
          "2021-12-17T11:35:00",
          "2021-12-17T11:36:00",
          "2021-12-17T11:37:00",
          "2021-12-17T11:38:00",
          "2021-12-17T11:39:00",
          "2021-12-17T11:40:00",
          "2021-12-17T11:41:00",
          "2021-12-17T11:42:00",
          "2021-12-17T11:43:00",
          "2021-12-17T11:44:00",
          "2021-12-17T11:45:00",
          "2021-12-17T11:46:00",
          "2021-12-17T11:47:00",
          "2021-12-17T11:48:00",
          "2021-12-17T11:49:00",
          "2021-12-17T11:50:00",
          "2021-12-17T11:51:00",
          "2021-12-17T11:52:00",
          "2021-12-17T11:53:00",
          "2021-12-17T11:54:00",
          "2021-12-17T11:55:00",
          "2021-12-17T11:56:00",
          "2021-12-17T11:57:00",
          "2021-12-17T11:58:00",
          "2021-12-17T11:59:00",
          "2021-12-17T12:00:00",
          "2021-12-17T12:01:00",
          "2021-12-17T12:02:00",
          "2021-12-17T12:03:00",
          "2021-12-17T12:04:00",
          "2021-12-17T12:05:00",
          "2021-12-17T12:06:00",
          "2021-12-17T12:07:00",
          "2021-12-17T12:08:00",
          "2021-12-17T12:09:00",
          "2021-12-17T12:10:00",
          "2021-12-17T12:11:00",
          "2021-12-17T12:12:00",
          "2021-12-17T12:13:00",
          "2021-12-17T12:14:00",
          "2021-12-17T12:15:00",
          "2021-12-17T12:16:00",
          "2021-12-17T12:17:00",
          "2021-12-17T12:18:00",
          "2021-12-17T12:19:00",
          "2021-12-17T12:20:00",
          "2021-12-17T12:21:00",
          "2021-12-17T12:22:00",
          "2021-12-17T12:23:00",
          "2021-12-17T12:24:00",
          "2021-12-17T12:25:00",
          "2021-12-17T12:26:00",
          "2021-12-17T12:27:00",
          "2021-12-17T12:28:00",
          "2021-12-17T12:29:00",
          "2021-12-17T12:30:00",
          "2021-12-17T12:31:00",
          "2021-12-17T12:32:00",
          "2021-12-17T12:33:00",
          "2021-12-17T12:34:00",
          "2021-12-17T12:35:00",
          "2021-12-17T12:36:00",
          "2021-12-17T12:37:00",
          "2021-12-17T12:38:00",
          "2021-12-17T12:39:00",
          "2021-12-17T12:40:00",
          "2021-12-17T12:41:00",
          "2021-12-17T12:42:00",
          "2021-12-17T12:43:00"
         ],
         "xaxis": "x",
         "yaxis": "y2"
        },
        {
         "line": {
          "color": "#A9B1F5"
         },
         "mode": "lines",
         "name": "MACD",
         "type": "scatter",
         "x": [
          "2021-12-17T10:44:00",
          "2021-12-17T10:45:00",
          "2021-12-17T10:46:00",
          "2021-12-17T10:47:00",
          "2021-12-17T10:48:00",
          "2021-12-17T10:49:00",
          "2021-12-17T10:50:00",
          "2021-12-17T10:51:00",
          "2021-12-17T10:52:00",
          "2021-12-17T10:53:00",
          "2021-12-17T10:54:00",
          "2021-12-17T10:55:00",
          "2021-12-17T10:56:00",
          "2021-12-17T10:57:00",
          "2021-12-17T10:58:00",
          "2021-12-17T10:59:00",
          "2021-12-17T11:00:00",
          "2021-12-17T11:01:00",
          "2021-12-17T11:02:00",
          "2021-12-17T11:03:00",
          "2021-12-17T11:04:00",
          "2021-12-17T11:05:00",
          "2021-12-17T11:06:00",
          "2021-12-17T11:07:00",
          "2021-12-17T11:08:00",
          "2021-12-17T11:09:00",
          "2021-12-17T11:10:00",
          "2021-12-17T11:11:00",
          "2021-12-17T11:12:00",
          "2021-12-17T11:13:00",
          "2021-12-17T11:14:00",
          "2021-12-17T11:15:00",
          "2021-12-17T11:16:00",
          "2021-12-17T11:17:00",
          "2021-12-17T11:18:00",
          "2021-12-17T11:19:00",
          "2021-12-17T11:20:00",
          "2021-12-17T11:21:00",
          "2021-12-17T11:22:00",
          "2021-12-17T11:23:00",
          "2021-12-17T11:24:00",
          "2021-12-17T11:25:00",
          "2021-12-17T11:26:00",
          "2021-12-17T11:27:00",
          "2021-12-17T11:28:00",
          "2021-12-17T11:29:00",
          "2021-12-17T11:30:00",
          "2021-12-17T11:31:00",
          "2021-12-17T11:32:00",
          "2021-12-17T11:33:00",
          "2021-12-17T11:34:00",
          "2021-12-17T11:35:00",
          "2021-12-17T11:36:00",
          "2021-12-17T11:37:00",
          "2021-12-17T11:38:00",
          "2021-12-17T11:39:00",
          "2021-12-17T11:40:00",
          "2021-12-17T11:41:00",
          "2021-12-17T11:42:00",
          "2021-12-17T11:43:00",
          "2021-12-17T11:44:00",
          "2021-12-17T11:45:00",
          "2021-12-17T11:46:00",
          "2021-12-17T11:47:00",
          "2021-12-17T11:48:00",
          "2021-12-17T11:49:00",
          "2021-12-17T11:50:00",
          "2021-12-17T11:51:00",
          "2021-12-17T11:52:00",
          "2021-12-17T11:53:00",
          "2021-12-17T11:54:00",
          "2021-12-17T11:55:00",
          "2021-12-17T11:56:00",
          "2021-12-17T11:57:00",
          "2021-12-17T11:58:00",
          "2021-12-17T11:59:00",
          "2021-12-17T12:00:00",
          "2021-12-17T12:01:00",
          "2021-12-17T12:02:00",
          "2021-12-17T12:03:00",
          "2021-12-17T12:04:00",
          "2021-12-17T12:05:00",
          "2021-12-17T12:06:00",
          "2021-12-17T12:07:00",
          "2021-12-17T12:08:00",
          "2021-12-17T12:09:00",
          "2021-12-17T12:10:00",
          "2021-12-17T12:11:00",
          "2021-12-17T12:12:00",
          "2021-12-17T12:13:00",
          "2021-12-17T12:14:00",
          "2021-12-17T12:15:00",
          "2021-12-17T12:16:00",
          "2021-12-17T12:17:00",
          "2021-12-17T12:18:00",
          "2021-12-17T12:19:00",
          "2021-12-17T12:20:00",
          "2021-12-17T12:21:00",
          "2021-12-17T12:22:00",
          "2021-12-17T12:23:00",
          "2021-12-17T12:24:00",
          "2021-12-17T12:25:00",
          "2021-12-17T12:26:00",
          "2021-12-17T12:27:00",
          "2021-12-17T12:28:00",
          "2021-12-17T12:29:00",
          "2021-12-17T12:30:00",
          "2021-12-17T12:31:00",
          "2021-12-17T12:32:00",
          "2021-12-17T12:33:00",
          "2021-12-17T12:34:00",
          "2021-12-17T12:35:00",
          "2021-12-17T12:36:00",
          "2021-12-17T12:37:00",
          "2021-12-17T12:38:00",
          "2021-12-17T12:39:00",
          "2021-12-17T12:40:00",
          "2021-12-17T12:41:00",
          "2021-12-17T12:42:00",
          "2021-12-17T12:43:00"
         ],
         "xaxis": "x",
         "y": [
          0,
          -0.3805128205131041,
          -0.5099685879176832,
          -0.052761926050607144,
          0.48553687656431066,
          0.47337170053242517,
          0.9123491643185844,
          0.9220055913383476,
          0.5545055772790874,
          -0.3842993405996822,
          -1.2781858222356277,
          -1.98948507910427,
          -2.664497487431163,
          -3.112732308912655,
          -3.6039392794868945,
          -3.733130617920324,
          -3.945766217912933,
          -3.7219819590141014,
          -3.551302189688613,
          -3.5063388126991413,
          -3.5181043855686767,
          -3.025349727439334,
          -2.3232160240345365,
          -1.4690290367625494,
          -0.8261300691074211,
          0.1400857040594019,
          0.8508235809958933,
          1.6508509936270457,
          2.06738698935078,
          2.3789478180306105,
          2.837647067645321,
          2.9501020687089294,
          3.013363370753723,
          3.0740568310939125,
          3.1057219999520385,
          3.1996394741290715,
          3.103539039662337,
          3.227408624742111,
          3.543746235562139,
          3.8381560875091054,
          3.866332967666949,
          4.096427868443698,
          4.1797623021761865,
          4.515710792396931,
          4.5495654694373115,
          4.426920951797456,
          4.366536546788666,
          3.9990383770882545,
          3.4956248438238617,
          3.1842253537301985,
          2.8919981138706135,
          2.399546594164349,
          1.956064103292647,
          1.576742332914364,
          1.21132792782646,
          1.1840507964579956,
          1.0622348012666407,
          0.8286497930539554,
          0.402466099519188,
          0.495541939632858,
          0.646578088557817,
          0.4544089392702517,
          0.40955380590548884,
          0.1870655526313385,
          -0.3675000652056042,
          -0.8488548932514277,
          -1.4293026372397435,
          -1.8590061103100197,
          -2.3938563400911335,
          -2.6204899236513484,
          -2.7195277463983984,
          -2.745388972238743,
          -2.6793213973587626,
          -2.4326949908590905,
          -2.2787547009702394,
          -1.9351404601629838,
          -1.1540735710955232,
          -0.3869804406745061,
          -0.09986211409750467,
          -0.40026955493749483,
          -0.6597879823207222,
          -1.2751965737766113,
          -1.750001634617547,
          -2.5870711081015543,
          -3.4678854123058045,
          -4.2644449336935395,
          -4.928479374282233,
          -5.877583515777587,
          -6.369131392837971,
          -6.546052021385549,
          -5.9088695848186035,
          -5.518611327282542,
          -4.417655583318265,
          -3.24308734421993,
          -1.7123220589514858,
          -0.5230065555770125,
          0.21133472547808196,
          0.5481396069258153,
          1.2875948319128838,
          2.478477474488045,
          3.5755111406133437,
          4.4501043418163135,
          4.580453951398795,
          4.4046258227081125,
          4.601175000255807,
          4.33258902824582,
          3.926801283471832,
          3.6909641468714653,
          3.045325773217428,
          2.4696794602605223,
          1.888421756830212,
          1.5877962426684462,
          1.5232287174121666,
          1.5677615256308854,
          1.6190876685300282,
          1.2052937614735129,
          0.5450815122244421,
          -0.1706412643920885,
          -0.9918982402095935,
          -1.5586164037104027
         ],
         "yaxis": "y"
        },
        {
         "line": {
          "color": "#FFD1A3"
         },
         "mode": "lines",
         "name": "MACD Signal",
         "type": "scatter",
         "x": [
          "2021-12-17T10:44:00",
          "2021-12-17T10:45:00",
          "2021-12-17T10:46:00",
          "2021-12-17T10:47:00",
          "2021-12-17T10:48:00",
          "2021-12-17T10:49:00",
          "2021-12-17T10:50:00",
          "2021-12-17T10:51:00",
          "2021-12-17T10:52:00",
          "2021-12-17T10:53:00",
          "2021-12-17T10:54:00",
          "2021-12-17T10:55:00",
          "2021-12-17T10:56:00",
          "2021-12-17T10:57:00",
          "2021-12-17T10:58:00",
          "2021-12-17T10:59:00",
          "2021-12-17T11:00:00",
          "2021-12-17T11:01:00",
          "2021-12-17T11:02:00",
          "2021-12-17T11:03:00",
          "2021-12-17T11:04:00",
          "2021-12-17T11:05:00",
          "2021-12-17T11:06:00",
          "2021-12-17T11:07:00",
          "2021-12-17T11:08:00",
          "2021-12-17T11:09:00",
          "2021-12-17T11:10:00",
          "2021-12-17T11:11:00",
          "2021-12-17T11:12:00",
          "2021-12-17T11:13:00",
          "2021-12-17T11:14:00",
          "2021-12-17T11:15:00",
          "2021-12-17T11:16:00",
          "2021-12-17T11:17:00",
          "2021-12-17T11:18:00",
          "2021-12-17T11:19:00",
          "2021-12-17T11:20:00",
          "2021-12-17T11:21:00",
          "2021-12-17T11:22:00",
          "2021-12-17T11:23:00",
          "2021-12-17T11:24:00",
          "2021-12-17T11:25:00",
          "2021-12-17T11:26:00",
          "2021-12-17T11:27:00",
          "2021-12-17T11:28:00",
          "2021-12-17T11:29:00",
          "2021-12-17T11:30:00",
          "2021-12-17T11:31:00",
          "2021-12-17T11:32:00",
          "2021-12-17T11:33:00",
          "2021-12-17T11:34:00",
          "2021-12-17T11:35:00",
          "2021-12-17T11:36:00",
          "2021-12-17T11:37:00",
          "2021-12-17T11:38:00",
          "2021-12-17T11:39:00",
          "2021-12-17T11:40:00",
          "2021-12-17T11:41:00",
          "2021-12-17T11:42:00",
          "2021-12-17T11:43:00",
          "2021-12-17T11:44:00",
          "2021-12-17T11:45:00",
          "2021-12-17T11:46:00",
          "2021-12-17T11:47:00",
          "2021-12-17T11:48:00",
          "2021-12-17T11:49:00",
          "2021-12-17T11:50:00",
          "2021-12-17T11:51:00",
          "2021-12-17T11:52:00",
          "2021-12-17T11:53:00",
          "2021-12-17T11:54:00",
          "2021-12-17T11:55:00",
          "2021-12-17T11:56:00",
          "2021-12-17T11:57:00",
          "2021-12-17T11:58:00",
          "2021-12-17T11:59:00",
          "2021-12-17T12:00:00",
          "2021-12-17T12:01:00",
          "2021-12-17T12:02:00",
          "2021-12-17T12:03:00",
          "2021-12-17T12:04:00",
          "2021-12-17T12:05:00",
          "2021-12-17T12:06:00",
          "2021-12-17T12:07:00",
          "2021-12-17T12:08:00",
          "2021-12-17T12:09:00",
          "2021-12-17T12:10:00",
          "2021-12-17T12:11:00",
          "2021-12-17T12:12:00",
          "2021-12-17T12:13:00",
          "2021-12-17T12:14:00",
          "2021-12-17T12:15:00",
          "2021-12-17T12:16:00",
          "2021-12-17T12:17:00",
          "2021-12-17T12:18:00",
          "2021-12-17T12:19:00",
          "2021-12-17T12:20:00",
          "2021-12-17T12:21:00",
          "2021-12-17T12:22:00",
          "2021-12-17T12:23:00",
          "2021-12-17T12:24:00",
          "2021-12-17T12:25:00",
          "2021-12-17T12:26:00",
          "2021-12-17T12:27:00",
          "2021-12-17T12:28:00",
          "2021-12-17T12:29:00",
          "2021-12-17T12:30:00",
          "2021-12-17T12:31:00",
          "2021-12-17T12:32:00",
          "2021-12-17T12:33:00",
          "2021-12-17T12:34:00",
          "2021-12-17T12:35:00",
          "2021-12-17T12:36:00",
          "2021-12-17T12:37:00",
          "2021-12-17T12:38:00",
          "2021-12-17T12:39:00",
          "2021-12-17T12:40:00",
          "2021-12-17T12:41:00",
          "2021-12-17T12:42:00",
          "2021-12-17T12:43:00"
         ],
         "xaxis": "x",
         "y": [
          0,
          -0.07610256410262083,
          -0.16287576886563332,
          -0.14085300030262807,
          -0.01557502492924033,
          0.08221432016309277,
          0.2482412889941911,
          0.3829941494630224,
          0.4172964350262354,
          0.2569772799010519,
          -0.05005534052628399,
          -0.4379412882418812,
          -0.8832525280797375,
          -1.3291484842463213,
          -1.784106643294436,
          -2.173911438219614,
          -2.528282394158278,
          -2.767022307129443,
          -2.923878283641277,
          -3.0403703894528498,
          -3.1359171886760153,
          -3.1138036964286795,
          -2.955686161949851,
          -2.6583547369123908,
          -2.291909803351397,
          -1.8055107018692373,
          -1.2742438452962113,
          -0.6892248775115599,
          -0.13790250413909189,
          0.3654675602948486,
          0.859903461764943,
          1.2779431831537404,
          1.625027220673737,
          1.914833142757772,
          2.1530109141966256,
          2.362336626183115,
          2.5105771088789597,
          2.65394341205159,
          2.8319039767537,
          3.0331543989047813,
          3.1997901126572152,
          3.3791176638145117,
          3.539246591486847,
          3.734539431668864,
          3.8975446392225535,
          4.0034199017375345,
          4.076043230747761,
          4.06064226001586,
          3.9476387767774606,
          3.7949560921680083,
          3.6143644965085295,
          3.3714009160396934,
          3.0883335534902843,
          2.7860153093751006,
          2.4710778330653724,
          2.2136724257438973,
          1.983384900848446,
          1.7524378792895479,
          1.4824435233354758,
          1.285063206594952,
          1.157366182987525,
          1.0167747342440705,
          0.8953305485763542,
          0.7536775493873511,
          0.52944202646876,
          0.2537826425247225,
          -0.08283441342817072,
          -0.4380687528045405,
          -0.8292262702618591,
          -1.187479000939757,
          -1.4938887500314852,
          -1.744188794472937,
          -1.9312153150501024,
          -2.0315112502119,
          -2.0809599403635684,
          -2.0517960443234515,
          -1.872251549677866,
          -1.575197327877194,
          -1.2801302851212562,
          -1.1041581390845039,
          -1.0152841077317476,
          -1.0672666009407203,
          -1.2038136076760857,
          -1.4804651077611797,
          -1.8779491686701046,
          -2.3552483216747917,
          -2.8698945321962803,
          -3.4714323289125417,
          -4.050972141697628,
          -4.549988117635213,
          -4.821764411071891,
          -4.961133794314022,
          -4.852438152114871,
          -4.530567990535883,
          -3.9669188042190036,
          -3.2781363544906057,
          -2.5802421384968683,
          -1.9545657894123316,
          -1.3061336651472886,
          -0.5492114372202217,
          0.2757330783464914,
          1.1106073310404558,
          1.8045766551121236,
          2.3245864886313212,
          2.7799041909562185,
          3.0904411584141394,
          3.257713183425678,
          3.3443633761148357,
          3.2845558555353547,
          3.1215805764803886,
          2.8749488125503535,
          2.6175182985739722,
          2.3986603823416113,
          2.2324806109994664,
          2.109802022505579,
          1.9289003702991658,
          1.6521365986842211,
          1.2875810260689593,
          0.8316851728132488,
          0.3536248575085186
         ],
         "yaxis": "y"
        }
       ],
       "layout": {
        "hovermode": "x unified",
        "legend": {
         "x": 0.94,
         "xanchor": "right",
         "y": 0.99,
         "yanchor": "top"
        },
        "margin": {
         "b": 100,
         "l": 50,
         "pad": 4,
         "r": 50,
         "t": 100
        },
        "shapes": [
         {
          "line": {
           "color": "#3FFA68",
           "width": 1
          },
          "opacity": 1,
          "type": "rect",
          "x0": "2021-12-17T10:44:00",
          "x1": "2021-12-17T10:45:00",
          "xref": "x",
          "y0": 0,
          "y1": 1,
          "yref": "y domain"
         },
         {
          "line": {
           "color": "#D61170",
           "width": 1
          },
          "opacity": 1,
          "type": "rect",
          "x0": "2021-12-17T10:45:00",
          "x1": "2021-12-17T10:47:00",
          "xref": "x",
          "y0": 0,
          "y1": 1,
          "yref": "y domain"
         },
         {
          "line": {
           "color": "#3FFA68",
           "width": 1
          },
          "opacity": 1,
          "type": "rect",
          "x0": "2021-12-17T10:47:00",
          "x1": "2021-12-17T10:53:00",
          "xref": "x",
          "y0": 0,
          "y1": 1,
          "yref": "y domain"
         },
         {
          "line": {
           "color": "#D61170",
           "width": 1
          },
          "opacity": 1,
          "type": "rect",
          "x0": "2021-12-17T10:53:00",
          "x1": "2021-12-17T11:05:00",
          "xref": "x",
          "y0": 0,
          "y1": 1,
          "yref": "y domain"
         },
         {
          "line": {
           "color": "#3FFA68",
           "width": 1
          },
          "opacity": 1,
          "type": "rect",
          "x0": "2021-12-17T11:05:00",
          "x1": "2021-12-17T11:31:00",
          "xref": "x",
          "y0": 0,
          "y1": 1,
          "yref": "y domain"
         },
         {
          "line": {
           "color": "#D61170",
           "width": 1
          },
          "opacity": 1,
          "type": "rect",
          "x0": "2021-12-17T11:31:00",
          "x1": "2021-12-17T11:59:00",
          "xref": "x",
          "y0": 0,
          "y1": 1,
          "yref": "y domain"
         },
         {
          "line": {
           "color": "#3FFA68",
           "width": 1
          },
          "opacity": 1,
          "type": "rect",
          "x0": "2021-12-17T11:59:00",
          "x1": "2021-12-17T12:05:00",
          "xref": "x",
          "y0": 0,
          "y1": 1,
          "yref": "y domain"
         },
         {
          "line": {
           "color": "#D61170",
           "width": 1
          },
          "opacity": 1,
          "type": "rect",
          "x0": "2021-12-17T12:05:00",
          "x1": "2021-12-17T12:16:00",
          "xref": "x",
          "y0": 0,
          "y1": 1,
          "yref": "y domain"
         },
         {
          "line": {
           "color": "#3FFA68",
           "width": 1
          },
          "opacity": 1,
          "type": "rect",
          "x0": "2021-12-17T12:16:00",
          "x1": "2021-12-17T12:32:00",
          "xref": "x",
          "y0": 0,
          "y1": 1,
          "yref": "y domain"
         },
         {
          "line": {
           "color": "#D61170",
           "width": 1
          },
          "opacity": 1,
          "type": "rect",
          "x0": "2021-12-17T12:32:00",
          "x1": "2021-12-17T13:43:39.780088",
          "xref": "x",
          "y0": 0,
          "y1": 1,
          "yref": "y domain"
         }
        ],
        "template": {
         "data": {
          "bar": [
           {
            "error_x": {
             "color": "#2a3f5f"
            },
            "error_y": {
             "color": "#2a3f5f"
            },
            "marker": {
             "line": {
              "color": "#E5ECF6",
              "width": 0.5
             }
            },
            "type": "bar"
           }
          ],
          "barpolar": [
           {
            "marker": {
             "line": {
              "color": "#E5ECF6",
              "width": 0.5
             }
            },
            "type": "barpolar"
           }
          ],
          "carpet": [
           {
            "aaxis": {
             "endlinecolor": "#2a3f5f",
             "gridcolor": "white",
             "linecolor": "white",
             "minorgridcolor": "white",
             "startlinecolor": "#2a3f5f"
            },
            "baxis": {
             "endlinecolor": "#2a3f5f",
             "gridcolor": "white",
             "linecolor": "white",
             "minorgridcolor": "white",
             "startlinecolor": "#2a3f5f"
            },
            "type": "carpet"
           }
          ],
          "choropleth": [
           {
            "colorbar": {
             "outlinewidth": 0,
             "ticks": ""
            },
            "type": "choropleth"
           }
          ],
          "contour": [
           {
            "colorbar": {
             "outlinewidth": 0,
             "ticks": ""
            },
            "colorscale": [
             [
              0,
              "#0d0887"
             ],
             [
              0.1111111111111111,
              "#46039f"
             ],
             [
              0.2222222222222222,
              "#7201a8"
             ],
             [
              0.3333333333333333,
              "#9c179e"
             ],
             [
              0.4444444444444444,
              "#bd3786"
             ],
             [
              0.5555555555555556,
              "#d8576b"
             ],
             [
              0.6666666666666666,
              "#ed7953"
             ],
             [
              0.7777777777777778,
              "#fb9f3a"
             ],
             [
              0.8888888888888888,
              "#fdca26"
             ],
             [
              1,
              "#f0f921"
             ]
            ],
            "type": "contour"
           }
          ],
          "contourcarpet": [
           {
            "colorbar": {
             "outlinewidth": 0,
             "ticks": ""
            },
            "type": "contourcarpet"
           }
          ],
          "heatmap": [
           {
            "colorbar": {
             "outlinewidth": 0,
             "ticks": ""
            },
            "colorscale": [
             [
              0,
              "#0d0887"
             ],
             [
              0.1111111111111111,
              "#46039f"
             ],
             [
              0.2222222222222222,
              "#7201a8"
             ],
             [
              0.3333333333333333,
              "#9c179e"
             ],
             [
              0.4444444444444444,
              "#bd3786"
             ],
             [
              0.5555555555555556,
              "#d8576b"
             ],
             [
              0.6666666666666666,
              "#ed7953"
             ],
             [
              0.7777777777777778,
              "#fb9f3a"
             ],
             [
              0.8888888888888888,
              "#fdca26"
             ],
             [
              1,
              "#f0f921"
             ]
            ],
            "type": "heatmap"
           }
          ],
          "heatmapgl": [
           {
            "colorbar": {
             "outlinewidth": 0,
             "ticks": ""
            },
            "colorscale": [
             [
              0,
              "#0d0887"
             ],
             [
              0.1111111111111111,
              "#46039f"
             ],
             [
              0.2222222222222222,
              "#7201a8"
             ],
             [
              0.3333333333333333,
              "#9c179e"
             ],
             [
              0.4444444444444444,
              "#bd3786"
             ],
             [
              0.5555555555555556,
              "#d8576b"
             ],
             [
              0.6666666666666666,
              "#ed7953"
             ],
             [
              0.7777777777777778,
              "#fb9f3a"
             ],
             [
              0.8888888888888888,
              "#fdca26"
             ],
             [
              1,
              "#f0f921"
             ]
            ],
            "type": "heatmapgl"
           }
          ],
          "histogram": [
           {
            "marker": {
             "colorbar": {
              "outlinewidth": 0,
              "ticks": ""
             }
            },
            "type": "histogram"
           }
          ],
          "histogram2d": [
           {
            "colorbar": {
             "outlinewidth": 0,
             "ticks": ""
            },
            "colorscale": [
             [
              0,
              "#0d0887"
             ],
             [
              0.1111111111111111,
              "#46039f"
             ],
             [
              0.2222222222222222,
              "#7201a8"
             ],
             [
              0.3333333333333333,
              "#9c179e"
             ],
             [
              0.4444444444444444,
              "#bd3786"
             ],
             [
              0.5555555555555556,
              "#d8576b"
             ],
             [
              0.6666666666666666,
              "#ed7953"
             ],
             [
              0.7777777777777778,
              "#fb9f3a"
             ],
             [
              0.8888888888888888,
              "#fdca26"
             ],
             [
              1,
              "#f0f921"
             ]
            ],
            "type": "histogram2d"
           }
          ],
          "histogram2dcontour": [
           {
            "colorbar": {
             "outlinewidth": 0,
             "ticks": ""
            },
            "colorscale": [
             [
              0,
              "#0d0887"
             ],
             [
              0.1111111111111111,
              "#46039f"
             ],
             [
              0.2222222222222222,
              "#7201a8"
             ],
             [
              0.3333333333333333,
              "#9c179e"
             ],
             [
              0.4444444444444444,
              "#bd3786"
             ],
             [
              0.5555555555555556,
              "#d8576b"
             ],
             [
              0.6666666666666666,
              "#ed7953"
             ],
             [
              0.7777777777777778,
              "#fb9f3a"
             ],
             [
              0.8888888888888888,
              "#fdca26"
             ],
             [
              1,
              "#f0f921"
             ]
            ],
            "type": "histogram2dcontour"
           }
          ],
          "mesh3d": [
           {
            "colorbar": {
             "outlinewidth": 0,
             "ticks": ""
            },
            "type": "mesh3d"
           }
          ],
          "parcoords": [
           {
            "line": {
             "colorbar": {
              "outlinewidth": 0,
              "ticks": ""
             }
            },
            "type": "parcoords"
           }
          ],
          "pie": [
           {
            "automargin": true,
            "type": "pie"
           }
          ],
          "scatter": [
           {
            "marker": {
             "colorbar": {
              "outlinewidth": 0,
              "ticks": ""
             }
            },
            "type": "scatter"
           }
          ],
          "scatter3d": [
           {
            "line": {
             "colorbar": {
              "outlinewidth": 0,
              "ticks": ""
             }
            },
            "marker": {
             "colorbar": {
              "outlinewidth": 0,
              "ticks": ""
             }
            },
            "type": "scatter3d"
           }
          ],
          "scattercarpet": [
           {
            "marker": {
             "colorbar": {
              "outlinewidth": 0,
              "ticks": ""
             }
            },
            "type": "scattercarpet"
           }
          ],
          "scattergeo": [
           {
            "marker": {
             "colorbar": {
              "outlinewidth": 0,
              "ticks": ""
             }
            },
            "type": "scattergeo"
           }
          ],
          "scattergl": [
           {
            "marker": {
             "colorbar": {
              "outlinewidth": 0,
              "ticks": ""
             }
            },
            "type": "scattergl"
           }
          ],
          "scattermapbox": [
           {
            "marker": {
             "colorbar": {
              "outlinewidth": 0,
              "ticks": ""
             }
            },
            "type": "scattermapbox"
           }
          ],
          "scatterpolar": [
           {
            "marker": {
             "colorbar": {
              "outlinewidth": 0,
              "ticks": ""
             }
            },
            "type": "scatterpolar"
           }
          ],
          "scatterpolargl": [
           {
            "marker": {
             "colorbar": {
              "outlinewidth": 0,
              "ticks": ""
             }
            },
            "type": "scatterpolargl"
           }
          ],
          "scatterternary": [
           {
            "marker": {
             "colorbar": {
              "outlinewidth": 0,
              "ticks": ""
             }
            },
            "type": "scatterternary"
           }
          ],
          "surface": [
           {
            "colorbar": {
             "outlinewidth": 0,
             "ticks": ""
            },
            "colorscale": [
             [
              0,
              "#0d0887"
             ],
             [
              0.1111111111111111,
              "#46039f"
             ],
             [
              0.2222222222222222,
              "#7201a8"
             ],
             [
              0.3333333333333333,
              "#9c179e"
             ],
             [
              0.4444444444444444,
              "#bd3786"
             ],
             [
              0.5555555555555556,
              "#d8576b"
             ],
             [
              0.6666666666666666,
              "#ed7953"
             ],
             [
              0.7777777777777778,
              "#fb9f3a"
             ],
             [
              0.8888888888888888,
              "#fdca26"
             ],
             [
              1,
              "#f0f921"
             ]
            ],
            "type": "surface"
           }
          ],
          "table": [
           {
            "cells": {
             "fill": {
              "color": "#EBF0F8"
             },
             "line": {
              "color": "white"
             }
            },
            "header": {
             "fill": {
              "color": "#C8D4E3"
             },
             "line": {
              "color": "white"
             }
            },
            "type": "table"
           }
          ]
         },
         "layout": {
          "annotationdefaults": {
           "arrowcolor": "#2a3f5f",
           "arrowhead": 0,
           "arrowwidth": 1
          },
          "autotypenumbers": "strict",
          "coloraxis": {
           "colorbar": {
            "outlinewidth": 0,
            "ticks": ""
           }
          },
          "colorscale": {
           "diverging": [
            [
             0,
             "#8e0152"
            ],
            [
             0.1,
             "#c51b7d"
            ],
            [
             0.2,
             "#de77ae"
            ],
            [
             0.3,
             "#f1b6da"
            ],
            [
             0.4,
             "#fde0ef"
            ],
            [
             0.5,
             "#f7f7f7"
            ],
            [
             0.6,
             "#e6f5d0"
            ],
            [
             0.7,
             "#b8e186"
            ],
            [
             0.8,
             "#7fbc41"
            ],
            [
             0.9,
             "#4d9221"
            ],
            [
             1,
             "#276419"
            ]
           ],
           "sequential": [
            [
             0,
             "#0d0887"
            ],
            [
             0.1111111111111111,
             "#46039f"
            ],
            [
             0.2222222222222222,
             "#7201a8"
            ],
            [
             0.3333333333333333,
             "#9c179e"
            ],
            [
             0.4444444444444444,
             "#bd3786"
            ],
            [
             0.5555555555555556,
             "#d8576b"
            ],
            [
             0.6666666666666666,
             "#ed7953"
            ],
            [
             0.7777777777777778,
             "#fb9f3a"
            ],
            [
             0.8888888888888888,
             "#fdca26"
            ],
            [
             1,
             "#f0f921"
            ]
           ],
           "sequentialminus": [
            [
             0,
             "#0d0887"
            ],
            [
             0.1111111111111111,
             "#46039f"
            ],
            [
             0.2222222222222222,
             "#7201a8"
            ],
            [
             0.3333333333333333,
             "#9c179e"
            ],
            [
             0.4444444444444444,
             "#bd3786"
            ],
            [
             0.5555555555555556,
             "#d8576b"
            ],
            [
             0.6666666666666666,
             "#ed7953"
            ],
            [
             0.7777777777777778,
             "#fb9f3a"
            ],
            [
             0.8888888888888888,
             "#fdca26"
            ],
            [
             1,
             "#f0f921"
            ]
           ]
          },
          "colorway": [
           "#636efa",
           "#EF553B",
           "#00cc96",
           "#ab63fa",
           "#FFA15A",
           "#19d3f3",
           "#FF6692",
           "#B6E880",
           "#FF97FF",
           "#FECB52"
          ],
          "font": {
           "color": "#2a3f5f"
          },
          "geo": {
           "bgcolor": "white",
           "lakecolor": "white",
           "landcolor": "#E5ECF6",
           "showlakes": true,
           "showland": true,
           "subunitcolor": "white"
          },
          "hoverlabel": {
           "align": "left"
          },
          "hovermode": "closest",
          "mapbox": {
           "style": "light"
          },
          "paper_bgcolor": "white",
          "plot_bgcolor": "#E5ECF6",
          "polar": {
           "angularaxis": {
            "gridcolor": "white",
            "linecolor": "white",
            "ticks": ""
           },
           "bgcolor": "#E5ECF6",
           "radialaxis": {
            "gridcolor": "white",
            "linecolor": "white",
            "ticks": ""
           }
          },
          "scene": {
           "xaxis": {
            "backgroundcolor": "#E5ECF6",
            "gridcolor": "white",
            "gridwidth": 2,
            "linecolor": "white",
            "showbackground": true,
            "ticks": "",
            "zerolinecolor": "white"
           },
           "yaxis": {
            "backgroundcolor": "#E5ECF6",
            "gridcolor": "white",
            "gridwidth": 2,
            "linecolor": "white",
            "showbackground": true,
            "ticks": "",
            "zerolinecolor": "white"
           },
           "zaxis": {
            "backgroundcolor": "#E5ECF6",
            "gridcolor": "white",
            "gridwidth": 2,
            "linecolor": "white",
            "showbackground": true,
            "ticks": "",
            "zerolinecolor": "white"
           }
          },
          "shapedefaults": {
           "line": {
            "color": "#2a3f5f"
           }
          },
          "ternary": {
           "aaxis": {
            "gridcolor": "white",
            "linecolor": "white",
            "ticks": ""
           },
           "baxis": {
            "gridcolor": "white",
            "linecolor": "white",
            "ticks": ""
           },
           "bgcolor": "#E5ECF6",
           "caxis": {
            "gridcolor": "white",
            "linecolor": "white",
            "ticks": ""
           }
          },
          "title": {
           "x": 0.05
          },
          "xaxis": {
           "automargin": true,
           "gridcolor": "white",
           "linecolor": "white",
           "ticks": "",
           "title": {
            "standoff": 15
           },
           "zerolinecolor": "white",
           "zerolinewidth": 2
          },
          "yaxis": {
           "automargin": true,
           "gridcolor": "white",
           "linecolor": "white",
           "ticks": "",
           "title": {
            "standoff": 15
           },
           "zerolinecolor": "white",
           "zerolinewidth": 2
          }
         }
        },
        "title": {
         "text": "OHLC Chart for ETH with time interval 1min"
        },
        "xaxis": {
         "anchor": "y",
         "domain": [
          0,
          0.94
         ],
         "rangeselector": {
          "buttons": [
           {
            "count": 1,
            "label": "1m",
            "step": "month",
            "stepmode": "backward"
           },
           {
            "count": 6,
            "label": "6m",
            "step": "month",
            "stepmode": "backward"
           },
           {
            "count": 1,
            "label": "YTD",
            "step": "year",
            "stepmode": "todate"
           },
           {
            "count": 1,
            "label": "1y",
            "step": "year",
            "stepmode": "backward"
           },
           {
            "step": "all"
           }
          ]
         },
         "rangeslider": {
          "visible": true
         },
         "tickformat": "%d %b %H:%M",
         "type": "date"
        },
        "yaxis": {
         "anchor": "x",
         "domain": [
          0,
          1
         ],
         "range": [
          -6.546052021385549,
          4.601175000255807
         ],
         "showgrid": false,
         "showticklabels": false,
         "zeroline": false
        },
        "yaxis2": {
         "anchor": "x",
         "overlaying": "y",
         "side": "right"
        }
       }
      }
     },
     "metadata": {},
     "output_type": "display_data"
    },
    {
     "data": {
      "application/vnd.plotly.v1+json": {
       "config": {
        "plotlyServerURL": "https://plot.ly"
       },
       "data": [
        {
         "close": [
          129.86,
          129.92,
          130.06,
          129.97,
          129.98,
          129.88,
          129.63,
          129.52,
          129.51,
          129.51,
          129.66,
          129.56,
          129.8,
          129.69,
          129.94,
          129.91,
          129.73,
          129.74,
          129.84,
          129.96,
          130.16,
          130.25,
          130.34,
          130.18,
          130.4,
          130.31,
          130.15,
          130.17,
          130.34,
          130.21,
          130.24,
          130.19,
          130.36,
          130.31,
          130.35,
          130.44,
          130.44,
          130.44,
          130.54,
          130.63,
          130.76,
          130.7,
          130.5,
          130.39,
          130.42,
          130.44,
          130.29,
          130.32,
          130.27,
          130.36,
          130.41,
          130.39,
          130.43,
          130.23,
          130.43,
          130.45,
          130.35,
          130.38,
          130.27,
          130.08,
          130.21,
          129.94,
          129.87,
          129.87,
          129.94,
          130.05,
          130.04,
          130.06,
          129.93,
          130.08,
          130.46,
          130.51,
          130.38,
          130.31,
          130.26,
          130.1,
          130.17,
          130.04,
          129.79,
          129.78,
          129.83,
          129.42,
          129.62,
          129.49,
          129.82,
          129.84,
          130.2,
          130.32,
          130.47,
          130.38,
          130.28,
          130.14,
          130.34,
          130.7,
          130.73,
          130.77,
          130.62,
          130.52,
          130.57,
          130.36,
          130.23,
          130.35,
          130.32,
          130.23,
          130.15,
          130.32,
          130.51,
          130.43,
          130.6,
          130.26,
          130.03,
          129.96,
          129.95
         ],
         "decreasing": {
          "line": {
           "color": "gray"
          }
         },
         "high": [
          130,
          129.92,
          130.1,
          130.02,
          130.13,
          129.98,
          129.65,
          129.59,
          129.71,
          129.51,
          129.66,
          129.72,
          129.8,
          129.86,
          129.94,
          129.95,
          129.84,
          129.87,
          129.84,
          130.08,
          130.16,
          130.25,
          130.34,
          130.42,
          130.4,
          130.42,
          130.29,
          130.28,
          130.34,
          130.21,
          130.24,
          130.19,
          130.44,
          130.37,
          130.35,
          130.44,
          130.5,
          130.52,
          130.61,
          130.63,
          130.83,
          130.84,
          130.73,
          130.45,
          130.48,
          130.44,
          130.38,
          130.32,
          130.3,
          130.37,
          130.48,
          130.5,
          130.43,
          130.26,
          130.46,
          130.46,
          130.45,
          130.39,
          130.38,
          130.21,
          130.35,
          130.11,
          129.9,
          129.99,
          130.07,
          130.05,
          130.15,
          130.13,
          130.14,
          130.1,
          130.5,
          130.51,
          130.5,
          130.42,
          130.37,
          130.21,
          130.3,
          130.2,
          130.04,
          129.94,
          129.83,
          129.81,
          129.62,
          129.73,
          129.82,
          129.87,
          130.27,
          130.36,
          130.47,
          130.47,
          130.33,
          130.26,
          130.34,
          130.73,
          130.82,
          130.77,
          130.74,
          130.62,
          130.65,
          130.36,
          130.38,
          130.36,
          130.39,
          130.36,
          130.26,
          130.32,
          130.51,
          130.51,
          130.6,
          130.57,
          130.28,
          130.12,
          129.99
         ],
         "increasing": {
          "line": {
           "color": "cyan"
          }
         },
         "low": [
          129.86,
          129.8,
          129.97,
          129.97,
          129.97,
          129.88,
          129.58,
          129.52,
          129.5,
          129.33,
          129.66,
          129.5,
          129.56,
          129.51,
          129.71,
          129.85,
          129.57,
          129.74,
          129.68,
          129.96,
          129.91,
          130.08,
          130.2,
          130.18,
          130.4,
          130.31,
          130.14,
          130.15,
          130.12,
          130.13,
          130.13,
          130.14,
          130.28,
          130.27,
          130.16,
          130.25,
          130.44,
          130.42,
          130.41,
          130.56,
          130.74,
          130.69,
          130.5,
          130.39,
          130.39,
          130.34,
          130.27,
          130.22,
          130.27,
          130.32,
          130.41,
          130.3,
          130.37,
          130.18,
          130.19,
          130.33,
          130.35,
          130.34,
          130.27,
          130.08,
          130.21,
          129.89,
          129.74,
          129.85,
          129.92,
          129.94,
          129.98,
          129.96,
          129.93,
          130.06,
          130.17,
          130.42,
          130.38,
          130.31,
          130.25,
          130.1,
          130.13,
          129.98,
          129.79,
          129.78,
          129.74,
          129.42,
          129.33,
          129.49,
          129.59,
          129.72,
          129.91,
          130.19,
          130.29,
          130.38,
          130.26,
          130.12,
          130.19,
          130.28,
          130.59,
          130.73,
          130.51,
          130.52,
          130.53,
          130.19,
          130.23,
          130.18,
          130.24,
          130.21,
          130.05,
          130.14,
          130.28,
          130.43,
          130.45,
          130.25,
          130.03,
          129.96,
          129.95
         ],
         "name": "OHLC",
         "open": [
          129.95,
          129.8,
          129.97,
          130.02,
          129.99,
          129.98,
          129.6,
          129.59,
          129.65,
          129.33,
          129.66,
          129.72,
          129.56,
          129.86,
          129.71,
          129.95,
          129.84,
          129.79,
          129.78,
          130,
          129.91,
          130.08,
          130.2,
          130.42,
          130.4,
          130.35,
          130.29,
          130.15,
          130.2,
          130.16,
          130.18,
          130.14,
          130.28,
          130.34,
          130.28,
          130.25,
          130.46,
          130.49,
          130.46,
          130.56,
          130.74,
          130.73,
          130.7,
          130.45,
          130.41,
          130.34,
          130.38,
          130.28,
          130.3,
          130.37,
          130.41,
          130.48,
          130.37,
          130.21,
          130.26,
          130.33,
          130.39,
          130.35,
          130.38,
          130.21,
          130.24,
          130.11,
          129.9,
          129.99,
          129.99,
          130.04,
          130.15,
          130.08,
          130.14,
          130.07,
          130.17,
          130.42,
          130.44,
          130.39,
          130.29,
          130.15,
          130.13,
          130.2,
          130.04,
          129.94,
          129.76,
          129.81,
          129.33,
          129.63,
          129.59,
          129.73,
          129.91,
          130.19,
          130.29,
          130.41,
          130.33,
          130.26,
          130.19,
          130.28,
          130.59,
          130.73,
          130.74,
          130.62,
          130.53,
          130.33,
          130.38,
          130.23,
          130.39,
          130.24,
          130.22,
          130.14,
          130.28,
          130.43,
          130.5,
          130.57,
          130.2,
          130.12,
          129.99
         ],
         "type": "ohlc",
         "x": [
          "2021-12-17T10:44:00",
          "2021-12-17T10:46:00",
          "2021-12-17T10:47:00",
          "2021-12-17T10:48:00",
          "2021-12-17T10:50:00",
          "2021-12-17T10:52:00",
          "2021-12-17T10:53:00",
          "2021-12-17T10:54:00",
          "2021-12-17T10:55:00",
          "2021-12-17T10:56:00",
          "2021-12-17T10:57:00",
          "2021-12-17T10:58:00",
          "2021-12-17T10:59:00",
          "2021-12-17T11:00:00",
          "2021-12-17T11:01:00",
          "2021-12-17T11:02:00",
          "2021-12-17T11:03:00",
          "2021-12-17T11:04:00",
          "2021-12-17T11:05:00",
          "2021-12-17T11:06:00",
          "2021-12-17T11:07:00",
          "2021-12-17T11:08:00",
          "2021-12-17T11:09:00",
          "2021-12-17T11:10:00",
          "2021-12-17T11:11:00",
          "2021-12-17T11:12:00",
          "2021-12-17T11:13:00",
          "2021-12-17T11:14:00",
          "2021-12-17T11:15:00",
          "2021-12-17T11:16:00",
          "2021-12-17T11:17:00",
          "2021-12-17T11:18:00",
          "2021-12-17T11:19:00",
          "2021-12-17T11:20:00",
          "2021-12-17T11:21:00",
          "2021-12-17T11:22:00",
          "2021-12-17T11:23:00",
          "2021-12-17T11:24:00",
          "2021-12-17T11:25:00",
          "2021-12-17T11:26:00",
          "2021-12-17T11:27:00",
          "2021-12-17T11:28:00",
          "2021-12-17T11:29:00",
          "2021-12-17T11:32:00",
          "2021-12-17T11:33:00",
          "2021-12-17T11:34:00",
          "2021-12-17T11:35:00",
          "2021-12-17T11:36:00",
          "2021-12-17T11:37:00",
          "2021-12-17T11:38:00",
          "2021-12-17T11:39:00",
          "2021-12-17T11:40:00",
          "2021-12-17T11:41:00",
          "2021-12-17T11:42:00",
          "2021-12-17T11:43:00",
          "2021-12-17T11:44:00",
          "2021-12-17T11:45:00",
          "2021-12-17T11:46:00",
          "2021-12-17T11:47:00",
          "2021-12-17T11:48:00",
          "2021-12-17T11:49:00",
          "2021-12-17T11:50:00",
          "2021-12-17T11:51:00",
          "2021-12-17T11:53:00",
          "2021-12-17T11:54:00",
          "2021-12-17T11:55:00",
          "2021-12-17T11:56:00",
          "2021-12-17T11:57:00",
          "2021-12-17T11:58:00",
          "2021-12-17T11:59:00",
          "2021-12-17T12:00:00",
          "2021-12-17T12:01:00",
          "2021-12-17T12:02:00",
          "2021-12-17T12:03:00",
          "2021-12-17T12:04:00",
          "2021-12-17T12:05:00",
          "2021-12-17T12:06:00",
          "2021-12-17T12:07:00",
          "2021-12-17T12:08:00",
          "2021-12-17T12:09:00",
          "2021-12-17T12:10:00",
          "2021-12-17T12:11:00",
          "2021-12-17T12:12:00",
          "2021-12-17T12:13:00",
          "2021-12-17T12:14:00",
          "2021-12-17T12:15:00",
          "2021-12-17T12:16:00",
          "2021-12-17T12:17:00",
          "2021-12-17T12:18:00",
          "2021-12-17T12:19:00",
          "2021-12-17T12:20:00",
          "2021-12-17T12:21:00",
          "2021-12-17T12:22:00",
          "2021-12-17T12:23:00",
          "2021-12-17T12:24:00",
          "2021-12-17T12:25:00",
          "2021-12-17T12:26:00",
          "2021-12-17T12:27:00",
          "2021-12-17T12:28:00",
          "2021-12-17T12:29:00",
          "2021-12-17T12:30:00",
          "2021-12-17T12:31:00",
          "2021-12-17T12:32:00",
          "2021-12-17T12:33:00",
          "2021-12-17T12:34:00",
          "2021-12-17T12:35:00",
          "2021-12-17T12:36:00",
          "2021-12-17T12:37:00",
          "2021-12-17T12:38:00",
          "2021-12-17T12:39:00",
          "2021-12-17T12:40:00",
          "2021-12-17T12:42:00",
          "2021-12-17T12:43:00"
         ],
         "xaxis": "x",
         "yaxis": "y2"
        },
        {
         "line": {
          "color": "#A9B1F5"
         },
         "mode": "lines",
         "name": "MACD",
         "type": "scatter",
         "x": [
          "2021-12-17T10:44:00",
          "2021-12-17T10:46:00",
          "2021-12-17T10:47:00",
          "2021-12-17T10:48:00",
          "2021-12-17T10:50:00",
          "2021-12-17T10:52:00",
          "2021-12-17T10:53:00",
          "2021-12-17T10:54:00",
          "2021-12-17T10:55:00",
          "2021-12-17T10:56:00",
          "2021-12-17T10:57:00",
          "2021-12-17T10:58:00",
          "2021-12-17T10:59:00",
          "2021-12-17T11:00:00",
          "2021-12-17T11:01:00",
          "2021-12-17T11:02:00",
          "2021-12-17T11:03:00",
          "2021-12-17T11:04:00",
          "2021-12-17T11:05:00",
          "2021-12-17T11:06:00",
          "2021-12-17T11:07:00",
          "2021-12-17T11:08:00",
          "2021-12-17T11:09:00",
          "2021-12-17T11:10:00",
          "2021-12-17T11:11:00",
          "2021-12-17T11:12:00",
          "2021-12-17T11:13:00",
          "2021-12-17T11:14:00",
          "2021-12-17T11:15:00",
          "2021-12-17T11:16:00",
          "2021-12-17T11:17:00",
          "2021-12-17T11:18:00",
          "2021-12-17T11:19:00",
          "2021-12-17T11:20:00",
          "2021-12-17T11:21:00",
          "2021-12-17T11:22:00",
          "2021-12-17T11:23:00",
          "2021-12-17T11:24:00",
          "2021-12-17T11:25:00",
          "2021-12-17T11:26:00",
          "2021-12-17T11:27:00",
          "2021-12-17T11:28:00",
          "2021-12-17T11:29:00",
          "2021-12-17T11:32:00",
          "2021-12-17T11:33:00",
          "2021-12-17T11:34:00",
          "2021-12-17T11:35:00",
          "2021-12-17T11:36:00",
          "2021-12-17T11:37:00",
          "2021-12-17T11:38:00",
          "2021-12-17T11:39:00",
          "2021-12-17T11:40:00",
          "2021-12-17T11:41:00",
          "2021-12-17T11:42:00",
          "2021-12-17T11:43:00",
          "2021-12-17T11:44:00",
          "2021-12-17T11:45:00",
          "2021-12-17T11:46:00",
          "2021-12-17T11:47:00",
          "2021-12-17T11:48:00",
          "2021-12-17T11:49:00",
          "2021-12-17T11:50:00",
          "2021-12-17T11:51:00",
          "2021-12-17T11:53:00",
          "2021-12-17T11:54:00",
          "2021-12-17T11:55:00",
          "2021-12-17T11:56:00",
          "2021-12-17T11:57:00",
          "2021-12-17T11:58:00",
          "2021-12-17T11:59:00",
          "2021-12-17T12:00:00",
          "2021-12-17T12:01:00",
          "2021-12-17T12:02:00",
          "2021-12-17T12:03:00",
          "2021-12-17T12:04:00",
          "2021-12-17T12:05:00",
          "2021-12-17T12:06:00",
          "2021-12-17T12:07:00",
          "2021-12-17T12:08:00",
          "2021-12-17T12:09:00",
          "2021-12-17T12:10:00",
          "2021-12-17T12:11:00",
          "2021-12-17T12:12:00",
          "2021-12-17T12:13:00",
          "2021-12-17T12:14:00",
          "2021-12-17T12:15:00",
          "2021-12-17T12:16:00",
          "2021-12-17T12:17:00",
          "2021-12-17T12:18:00",
          "2021-12-17T12:19:00",
          "2021-12-17T12:20:00",
          "2021-12-17T12:21:00",
          "2021-12-17T12:22:00",
          "2021-12-17T12:23:00",
          "2021-12-17T12:24:00",
          "2021-12-17T12:25:00",
          "2021-12-17T12:26:00",
          "2021-12-17T12:27:00",
          "2021-12-17T12:28:00",
          "2021-12-17T12:29:00",
          "2021-12-17T12:30:00",
          "2021-12-17T12:31:00",
          "2021-12-17T12:32:00",
          "2021-12-17T12:33:00",
          "2021-12-17T12:34:00",
          "2021-12-17T12:35:00",
          "2021-12-17T12:36:00",
          "2021-12-17T12:37:00",
          "2021-12-17T12:38:00",
          "2021-12-17T12:39:00",
          "2021-12-17T12:40:00",
          "2021-12-17T12:42:00",
          "2021-12-17T12:43:00"
         ],
         "xaxis": "x",
         "y": [
          0,
          0.004786324786323348,
          0.01964984050454177,
          0.023891628141257115,
          0.027740417564416475,
          0.022462512781288524,
          -0.0018716007984380667,
          -0.029690389491406677,
          -0.05194510553872078,
          -0.06878916961522918,
          -0.06923635178785048,
          -0.07677489791407766,
          -0.06266093948974572,
          -0.0596638388497297,
          -0.03669273334713807,
          -0.020670440051986816,
          -0.022240775048061323,
          -0.02241991756579864,
          -0.014327565776966367,
          0.0017485225564826123,
          0.030278238230181387,
          0.059465015601546156,
          0.08883397205372034,
          0.09806795249855327,
          0.12173482660776358,
          0.13171047069209862,
          0.1252616394682491,
          0.12037709489720783,
          0.12873960732846967,
          0.12345394490475314,
          0.12029903622632787,
          0.11246770850132748,
          0.11861162314983176,
          0.11808492809493032,
          0.11951746127874685,
          0.12645728116604005,
          0.13045335337216102,
          0.13209753127298995,
          0.13985752784745387,
          0.1515229664417177,
          0.16930616800200937,
          0.17652313597085367,
          0.16421137998096924,
          0.14391913377826882,
          0.12877370859067128,
          0.11703556967057693,
          0.09453947143208552,
          0.07823011273887914,
          0.06057200991384093,
          0.05322652183252785,
          0.050853543742249485,
          0.04681940371435189,
          0.04631608142793198,
          0.02943950605904888,
          0.031836040957415435,
          0.034946305724389504,
          0.029007666374042174,
          0.0264174769528438,
          0.015312143623390284,
          -0.008719808627574821,
          -0.017078519837014028,
          -0.04497120218246664,
          -0.07189599658778434,
          -0.09217159338297165,
          -0.10142259835487266,
          -0.09873979486158646,
          -0.09631036426304718,
          -0.09171396861728454,
          -0.09743800087639443,
          -0.08884642500106565,
          -0.050789248175618695,
          -0.016404972905831983,
          0.00035085498822695627,
          0.007890596443814957,
          0.009719275972344121,
          -0.0017222916445973624,
          -0.0050828099581963215,
          -0.018028141287004473,
          -0.04790806593166508,
          -0.07157002323523898,
          -0.0853043769832027,
          -0.12779933360076257,
          -0.14368228441392716,
          -0.16485915716597788,
          -0.15324720097834188,
          -0.14080766606238626,
          -0.10073899721297153,
          -0.058625493160434416,
          -0.012996673824005711,
          0.015721024218208868,
          0.030064280243067287,
          0.029791169946406626,
          0.045192110084940396,
          0.08546131264267842,
          0.11843050196691252,
          0.14610231124410689,
          0.15415170812801193,
          0.15072429305840274,
          0.1503099445787086,
          0.13152024198544154,
          0.1049297884780458,
          0.09247368059075711,
          0.0792676281936906,
          0.06083818397155483,
          0.03932408170095414,
          0.0355814194467996,
          0.0474003431001222,
          0.04973824233735513,
          0.06456436575868452,
          0.048321991051665236,
          0.016698227494288176,
          -0.013852564210168339,
          -0.038428226494716
         ],
         "yaxis": "y"
        },
        {
         "line": {
          "color": "#FFD1A3"
         },
         "mode": "lines",
         "name": "MACD Signal",
         "type": "scatter",
         "x": [
          "2021-12-17T10:44:00",
          "2021-12-17T10:46:00",
          "2021-12-17T10:47:00",
          "2021-12-17T10:48:00",
          "2021-12-17T10:50:00",
          "2021-12-17T10:52:00",
          "2021-12-17T10:53:00",
          "2021-12-17T10:54:00",
          "2021-12-17T10:55:00",
          "2021-12-17T10:56:00",
          "2021-12-17T10:57:00",
          "2021-12-17T10:58:00",
          "2021-12-17T10:59:00",
          "2021-12-17T11:00:00",
          "2021-12-17T11:01:00",
          "2021-12-17T11:02:00",
          "2021-12-17T11:03:00",
          "2021-12-17T11:04:00",
          "2021-12-17T11:05:00",
          "2021-12-17T11:06:00",
          "2021-12-17T11:07:00",
          "2021-12-17T11:08:00",
          "2021-12-17T11:09:00",
          "2021-12-17T11:10:00",
          "2021-12-17T11:11:00",
          "2021-12-17T11:12:00",
          "2021-12-17T11:13:00",
          "2021-12-17T11:14:00",
          "2021-12-17T11:15:00",
          "2021-12-17T11:16:00",
          "2021-12-17T11:17:00",
          "2021-12-17T11:18:00",
          "2021-12-17T11:19:00",
          "2021-12-17T11:20:00",
          "2021-12-17T11:21:00",
          "2021-12-17T11:22:00",
          "2021-12-17T11:23:00",
          "2021-12-17T11:24:00",
          "2021-12-17T11:25:00",
          "2021-12-17T11:26:00",
          "2021-12-17T11:27:00",
          "2021-12-17T11:28:00",
          "2021-12-17T11:29:00",
          "2021-12-17T11:32:00",
          "2021-12-17T11:33:00",
          "2021-12-17T11:34:00",
          "2021-12-17T11:35:00",
          "2021-12-17T11:36:00",
          "2021-12-17T11:37:00",
          "2021-12-17T11:38:00",
          "2021-12-17T11:39:00",
          "2021-12-17T11:40:00",
          "2021-12-17T11:41:00",
          "2021-12-17T11:42:00",
          "2021-12-17T11:43:00",
          "2021-12-17T11:44:00",
          "2021-12-17T11:45:00",
          "2021-12-17T11:46:00",
          "2021-12-17T11:47:00",
          "2021-12-17T11:48:00",
          "2021-12-17T11:49:00",
          "2021-12-17T11:50:00",
          "2021-12-17T11:51:00",
          "2021-12-17T11:53:00",
          "2021-12-17T11:54:00",
          "2021-12-17T11:55:00",
          "2021-12-17T11:56:00",
          "2021-12-17T11:57:00",
          "2021-12-17T11:58:00",
          "2021-12-17T11:59:00",
          "2021-12-17T12:00:00",
          "2021-12-17T12:01:00",
          "2021-12-17T12:02:00",
          "2021-12-17T12:03:00",
          "2021-12-17T12:04:00",
          "2021-12-17T12:05:00",
          "2021-12-17T12:06:00",
          "2021-12-17T12:07:00",
          "2021-12-17T12:08:00",
          "2021-12-17T12:09:00",
          "2021-12-17T12:10:00",
          "2021-12-17T12:11:00",
          "2021-12-17T12:12:00",
          "2021-12-17T12:13:00",
          "2021-12-17T12:14:00",
          "2021-12-17T12:15:00",
          "2021-12-17T12:16:00",
          "2021-12-17T12:17:00",
          "2021-12-17T12:18:00",
          "2021-12-17T12:19:00",
          "2021-12-17T12:20:00",
          "2021-12-17T12:21:00",
          "2021-12-17T12:22:00",
          "2021-12-17T12:23:00",
          "2021-12-17T12:24:00",
          "2021-12-17T12:25:00",
          "2021-12-17T12:26:00",
          "2021-12-17T12:27:00",
          "2021-12-17T12:28:00",
          "2021-12-17T12:29:00",
          "2021-12-17T12:30:00",
          "2021-12-17T12:31:00",
          "2021-12-17T12:32:00",
          "2021-12-17T12:33:00",
          "2021-12-17T12:34:00",
          "2021-12-17T12:35:00",
          "2021-12-17T12:36:00",
          "2021-12-17T12:37:00",
          "2021-12-17T12:38:00",
          "2021-12-17T12:39:00",
          "2021-12-17T12:40:00",
          "2021-12-17T12:42:00",
          "2021-12-17T12:43:00"
         ],
         "xaxis": "x",
         "y": [
          0,
          0.0009572649572646696,
          0.0046957800667200905,
          0.008534949681627496,
          0.012376043258185292,
          0.014393337162805938,
          0.011140349570557139,
          0.002974201758164375,
          -0.008009659701212656,
          -0.020165561684015964,
          -0.02997971970478287,
          -0.03933875534664183,
          -0.04400319217526261,
          -0.047135321510156036,
          -0.045046803877552444,
          -0.04017153111243932,
          -0.03658537989956372,
          -0.03375228743281071,
          -0.029867343101641845,
          -0.023544169970016956,
          -0.01277968832997729,
          0.0016692524563274008,
          0.01910219637580599,
          0.034895347600355446,
          0.05226324340183708,
          0.0681526888598894,
          0.07957447898156134,
          0.08773500216469064,
          0.09593592319744645,
          0.1014395275389078,
          0.10521142927639182,
          0.10666268512137897,
          0.10905247272706953,
          0.1108589638006417,
          0.11259066329626274,
          0.11536398687021822,
          0.11838186017060678,
          0.12112499439108343,
          0.12487150108235753,
          0.13020179415422958,
          0.13802266892378556,
          0.1457227623331992,
          0.14942048586275322,
          0.14832021544585636,
          0.14441091407481935,
          0.13893584519397087,
          0.1300565704415938,
          0.11969127890105088,
          0.1078674251036089,
          0.0969392444493927,
          0.08772210430796407,
          0.07954156418924163,
          0.0728964676369797,
          0.06420507532139354,
          0.05773126844859792,
          0.05317427590375624,
          0.048340953997813435,
          0.043956258588819505,
          0.03822743559573367,
          0.02883798675107197,
          0.019654685433454774,
          0.00672950791027049,
          -0.008995592989340476,
          -0.02563079306806671,
          -0.040789154125427905,
          -0.052379282272659616,
          -0.06116549867073713,
          -0.06727519266004661,
          -0.07330775430331618,
          -0.07641548844286608,
          -0.0712902403894166,
          -0.060313186892699676,
          -0.048180378516514355,
          -0.0369661835244485,
          -0.027629091625089974,
          -0.022447731628991455,
          -0.018974747294832426,
          -0.018785426093266836,
          -0.024609954060946487,
          -0.03400196789580499,
          -0.04426244971328453,
          -0.060969826490780143,
          -0.07751231807540955,
          -0.09498168589352321,
          -0.10663478891048694,
          -0.11346936434086682,
          -0.11092329091528777,
          -0.1004637313643171,
          -0.08297031985625483,
          -0.06323205104136209,
          -0.04457278478447622,
          -0.029699993838299653,
          -0.014721573053651642,
          0.00531500408561437,
          0.027938103661874002,
          0.05157094517832059,
          0.07208709776825886,
          0.08781453682628765,
          0.10031361837677186,
          0.1065549430985058,
          0.1062299121744138,
          0.10347866585768248,
          0.09863645832488412,
          0.09107680345421826,
          0.08072625910356544,
          0.07169729117221228,
          0.06683790155779427,
          0.06341796971370645,
          0.06364724892270206,
          0.060582197348494696,
          0.051805403377653395,
          0.03867380986008905,
          0.02325340258912804
         ],
         "yaxis": "y"
        }
       ],
       "layout": {
        "hovermode": "x unified",
        "legend": {
         "x": 0.94,
         "xanchor": "right",
         "y": 0.99,
         "yanchor": "top"
        },
        "margin": {
         "b": 100,
         "l": 50,
         "pad": 4,
         "r": 50,
         "t": 100
        },
        "shapes": [
         {
          "line": {
           "color": "#3FFA68",
           "width": 1
          },
          "opacity": 1,
          "type": "rect",
          "x0": "2021-12-17T10:44:00",
          "x1": "2021-12-17T10:53:00",
          "xref": "x",
          "y0": 0,
          "y1": 1,
          "yref": "y domain"
         },
         {
          "line": {
           "color": "#D61170",
           "width": 1
          },
          "opacity": 1,
          "type": "rect",
          "x0": "2021-12-17T10:53:00",
          "x1": "2021-12-17T11:01:00",
          "xref": "x",
          "y0": 0,
          "y1": 1,
          "yref": "y domain"
         },
         {
          "line": {
           "color": "#3FFA68",
           "width": 1
          },
          "opacity": 1,
          "type": "rect",
          "x0": "2021-12-17T11:01:00",
          "x1": "2021-12-17T11:32:00",
          "xref": "x",
          "y0": 0,
          "y1": 1,
          "yref": "y domain"
         },
         {
          "line": {
           "color": "#D61170",
           "width": 1
          },
          "opacity": 1,
          "type": "rect",
          "x0": "2021-12-17T11:32:00",
          "x1": "2021-12-17T12:00:00",
          "xref": "x",
          "y0": 0,
          "y1": 1,
          "yref": "y domain"
         },
         {
          "line": {
           "color": "#3FFA68",
           "width": 1
          },
          "opacity": 1,
          "type": "rect",
          "x0": "2021-12-17T12:00:00",
          "x1": "2021-12-17T12:08:00",
          "xref": "x",
          "y0": 0,
          "y1": 1,
          "yref": "y domain"
         },
         {
          "line": {
           "color": "#D61170",
           "width": 1
          },
          "opacity": 1,
          "type": "rect",
          "x0": "2021-12-17T12:08:00",
          "x1": "2021-12-17T12:16:00",
          "xref": "x",
          "y0": 0,
          "y1": 1,
          "yref": "y domain"
         },
         {
          "line": {
           "color": "#3FFA68",
           "width": 1
          },
          "opacity": 1,
          "type": "rect",
          "x0": "2021-12-17T12:16:00",
          "x1": "2021-12-17T12:30:00",
          "xref": "x",
          "y0": 0,
          "y1": 1,
          "yref": "y domain"
         },
         {
          "line": {
           "color": "#D61170",
           "width": 1
          },
          "opacity": 1,
          "type": "rect",
          "x0": "2021-12-17T12:30:00",
          "x1": "2021-12-17T12:38:00",
          "xref": "x",
          "y0": 0,
          "y1": 1,
          "yref": "y domain"
         },
         {
          "line": {
           "color": "#3FFA68",
           "width": 1
          },
          "opacity": 1,
          "type": "rect",
          "x0": "2021-12-17T12:38:00",
          "x1": "2021-12-17T12:39:00",
          "xref": "x",
          "y0": 0,
          "y1": 1,
          "yref": "y domain"
         },
         {
          "line": {
           "color": "#D61170",
           "width": 1
          },
          "opacity": 1,
          "type": "rect",
          "x0": "2021-12-17T12:39:00",
          "x1": "2021-12-17T13:43:39.819142",
          "xref": "x",
          "y0": 0,
          "y1": 1,
          "yref": "y domain"
         }
        ],
        "template": {
         "data": {
          "bar": [
           {
            "error_x": {
             "color": "#2a3f5f"
            },
            "error_y": {
             "color": "#2a3f5f"
            },
            "marker": {
             "line": {
              "color": "#E5ECF6",
              "width": 0.5
             }
            },
            "type": "bar"
           }
          ],
          "barpolar": [
           {
            "marker": {
             "line": {
              "color": "#E5ECF6",
              "width": 0.5
             }
            },
            "type": "barpolar"
           }
          ],
          "carpet": [
           {
            "aaxis": {
             "endlinecolor": "#2a3f5f",
             "gridcolor": "white",
             "linecolor": "white",
             "minorgridcolor": "white",
             "startlinecolor": "#2a3f5f"
            },
            "baxis": {
             "endlinecolor": "#2a3f5f",
             "gridcolor": "white",
             "linecolor": "white",
             "minorgridcolor": "white",
             "startlinecolor": "#2a3f5f"
            },
            "type": "carpet"
           }
          ],
          "choropleth": [
           {
            "colorbar": {
             "outlinewidth": 0,
             "ticks": ""
            },
            "type": "choropleth"
           }
          ],
          "contour": [
           {
            "colorbar": {
             "outlinewidth": 0,
             "ticks": ""
            },
            "colorscale": [
             [
              0,
              "#0d0887"
             ],
             [
              0.1111111111111111,
              "#46039f"
             ],
             [
              0.2222222222222222,
              "#7201a8"
             ],
             [
              0.3333333333333333,
              "#9c179e"
             ],
             [
              0.4444444444444444,
              "#bd3786"
             ],
             [
              0.5555555555555556,
              "#d8576b"
             ],
             [
              0.6666666666666666,
              "#ed7953"
             ],
             [
              0.7777777777777778,
              "#fb9f3a"
             ],
             [
              0.8888888888888888,
              "#fdca26"
             ],
             [
              1,
              "#f0f921"
             ]
            ],
            "type": "contour"
           }
          ],
          "contourcarpet": [
           {
            "colorbar": {
             "outlinewidth": 0,
             "ticks": ""
            },
            "type": "contourcarpet"
           }
          ],
          "heatmap": [
           {
            "colorbar": {
             "outlinewidth": 0,
             "ticks": ""
            },
            "colorscale": [
             [
              0,
              "#0d0887"
             ],
             [
              0.1111111111111111,
              "#46039f"
             ],
             [
              0.2222222222222222,
              "#7201a8"
             ],
             [
              0.3333333333333333,
              "#9c179e"
             ],
             [
              0.4444444444444444,
              "#bd3786"
             ],
             [
              0.5555555555555556,
              "#d8576b"
             ],
             [
              0.6666666666666666,
              "#ed7953"
             ],
             [
              0.7777777777777778,
              "#fb9f3a"
             ],
             [
              0.8888888888888888,
              "#fdca26"
             ],
             [
              1,
              "#f0f921"
             ]
            ],
            "type": "heatmap"
           }
          ],
          "heatmapgl": [
           {
            "colorbar": {
             "outlinewidth": 0,
             "ticks": ""
            },
            "colorscale": [
             [
              0,
              "#0d0887"
             ],
             [
              0.1111111111111111,
              "#46039f"
             ],
             [
              0.2222222222222222,
              "#7201a8"
             ],
             [
              0.3333333333333333,
              "#9c179e"
             ],
             [
              0.4444444444444444,
              "#bd3786"
             ],
             [
              0.5555555555555556,
              "#d8576b"
             ],
             [
              0.6666666666666666,
              "#ed7953"
             ],
             [
              0.7777777777777778,
              "#fb9f3a"
             ],
             [
              0.8888888888888888,
              "#fdca26"
             ],
             [
              1,
              "#f0f921"
             ]
            ],
            "type": "heatmapgl"
           }
          ],
          "histogram": [
           {
            "marker": {
             "colorbar": {
              "outlinewidth": 0,
              "ticks": ""
             }
            },
            "type": "histogram"
           }
          ],
          "histogram2d": [
           {
            "colorbar": {
             "outlinewidth": 0,
             "ticks": ""
            },
            "colorscale": [
             [
              0,
              "#0d0887"
             ],
             [
              0.1111111111111111,
              "#46039f"
             ],
             [
              0.2222222222222222,
              "#7201a8"
             ],
             [
              0.3333333333333333,
              "#9c179e"
             ],
             [
              0.4444444444444444,
              "#bd3786"
             ],
             [
              0.5555555555555556,
              "#d8576b"
             ],
             [
              0.6666666666666666,
              "#ed7953"
             ],
             [
              0.7777777777777778,
              "#fb9f3a"
             ],
             [
              0.8888888888888888,
              "#fdca26"
             ],
             [
              1,
              "#f0f921"
             ]
            ],
            "type": "histogram2d"
           }
          ],
          "histogram2dcontour": [
           {
            "colorbar": {
             "outlinewidth": 0,
             "ticks": ""
            },
            "colorscale": [
             [
              0,
              "#0d0887"
             ],
             [
              0.1111111111111111,
              "#46039f"
             ],
             [
              0.2222222222222222,
              "#7201a8"
             ],
             [
              0.3333333333333333,
              "#9c179e"
             ],
             [
              0.4444444444444444,
              "#bd3786"
             ],
             [
              0.5555555555555556,
              "#d8576b"
             ],
             [
              0.6666666666666666,
              "#ed7953"
             ],
             [
              0.7777777777777778,
              "#fb9f3a"
             ],
             [
              0.8888888888888888,
              "#fdca26"
             ],
             [
              1,
              "#f0f921"
             ]
            ],
            "type": "histogram2dcontour"
           }
          ],
          "mesh3d": [
           {
            "colorbar": {
             "outlinewidth": 0,
             "ticks": ""
            },
            "type": "mesh3d"
           }
          ],
          "parcoords": [
           {
            "line": {
             "colorbar": {
              "outlinewidth": 0,
              "ticks": ""
             }
            },
            "type": "parcoords"
           }
          ],
          "pie": [
           {
            "automargin": true,
            "type": "pie"
           }
          ],
          "scatter": [
           {
            "marker": {
             "colorbar": {
              "outlinewidth": 0,
              "ticks": ""
             }
            },
            "type": "scatter"
           }
          ],
          "scatter3d": [
           {
            "line": {
             "colorbar": {
              "outlinewidth": 0,
              "ticks": ""
             }
            },
            "marker": {
             "colorbar": {
              "outlinewidth": 0,
              "ticks": ""
             }
            },
            "type": "scatter3d"
           }
          ],
          "scattercarpet": [
           {
            "marker": {
             "colorbar": {
              "outlinewidth": 0,
              "ticks": ""
             }
            },
            "type": "scattercarpet"
           }
          ],
          "scattergeo": [
           {
            "marker": {
             "colorbar": {
              "outlinewidth": 0,
              "ticks": ""
             }
            },
            "type": "scattergeo"
           }
          ],
          "scattergl": [
           {
            "marker": {
             "colorbar": {
              "outlinewidth": 0,
              "ticks": ""
             }
            },
            "type": "scattergl"
           }
          ],
          "scattermapbox": [
           {
            "marker": {
             "colorbar": {
              "outlinewidth": 0,
              "ticks": ""
             }
            },
            "type": "scattermapbox"
           }
          ],
          "scatterpolar": [
           {
            "marker": {
             "colorbar": {
              "outlinewidth": 0,
              "ticks": ""
             }
            },
            "type": "scatterpolar"
           }
          ],
          "scatterpolargl": [
           {
            "marker": {
             "colorbar": {
              "outlinewidth": 0,
              "ticks": ""
             }
            },
            "type": "scatterpolargl"
           }
          ],
          "scatterternary": [
           {
            "marker": {
             "colorbar": {
              "outlinewidth": 0,
              "ticks": ""
             }
            },
            "type": "scatterternary"
           }
          ],
          "surface": [
           {
            "colorbar": {
             "outlinewidth": 0,
             "ticks": ""
            },
            "colorscale": [
             [
              0,
              "#0d0887"
             ],
             [
              0.1111111111111111,
              "#46039f"
             ],
             [
              0.2222222222222222,
              "#7201a8"
             ],
             [
              0.3333333333333333,
              "#9c179e"
             ],
             [
              0.4444444444444444,
              "#bd3786"
             ],
             [
              0.5555555555555556,
              "#d8576b"
             ],
             [
              0.6666666666666666,
              "#ed7953"
             ],
             [
              0.7777777777777778,
              "#fb9f3a"
             ],
             [
              0.8888888888888888,
              "#fdca26"
             ],
             [
              1,
              "#f0f921"
             ]
            ],
            "type": "surface"
           }
          ],
          "table": [
           {
            "cells": {
             "fill": {
              "color": "#EBF0F8"
             },
             "line": {
              "color": "white"
             }
            },
            "header": {
             "fill": {
              "color": "#C8D4E3"
             },
             "line": {
              "color": "white"
             }
            },
            "type": "table"
           }
          ]
         },
         "layout": {
          "annotationdefaults": {
           "arrowcolor": "#2a3f5f",
           "arrowhead": 0,
           "arrowwidth": 1
          },
          "autotypenumbers": "strict",
          "coloraxis": {
           "colorbar": {
            "outlinewidth": 0,
            "ticks": ""
           }
          },
          "colorscale": {
           "diverging": [
            [
             0,
             "#8e0152"
            ],
            [
             0.1,
             "#c51b7d"
            ],
            [
             0.2,
             "#de77ae"
            ],
            [
             0.3,
             "#f1b6da"
            ],
            [
             0.4,
             "#fde0ef"
            ],
            [
             0.5,
             "#f7f7f7"
            ],
            [
             0.6,
             "#e6f5d0"
            ],
            [
             0.7,
             "#b8e186"
            ],
            [
             0.8,
             "#7fbc41"
            ],
            [
             0.9,
             "#4d9221"
            ],
            [
             1,
             "#276419"
            ]
           ],
           "sequential": [
            [
             0,
             "#0d0887"
            ],
            [
             0.1111111111111111,
             "#46039f"
            ],
            [
             0.2222222222222222,
             "#7201a8"
            ],
            [
             0.3333333333333333,
             "#9c179e"
            ],
            [
             0.4444444444444444,
             "#bd3786"
            ],
            [
             0.5555555555555556,
             "#d8576b"
            ],
            [
             0.6666666666666666,
             "#ed7953"
            ],
            [
             0.7777777777777778,
             "#fb9f3a"
            ],
            [
             0.8888888888888888,
             "#fdca26"
            ],
            [
             1,
             "#f0f921"
            ]
           ],
           "sequentialminus": [
            [
             0,
             "#0d0887"
            ],
            [
             0.1111111111111111,
             "#46039f"
            ],
            [
             0.2222222222222222,
             "#7201a8"
            ],
            [
             0.3333333333333333,
             "#9c179e"
            ],
            [
             0.4444444444444444,
             "#bd3786"
            ],
            [
             0.5555555555555556,
             "#d8576b"
            ],
            [
             0.6666666666666666,
             "#ed7953"
            ],
            [
             0.7777777777777778,
             "#fb9f3a"
            ],
            [
             0.8888888888888888,
             "#fdca26"
            ],
            [
             1,
             "#f0f921"
            ]
           ]
          },
          "colorway": [
           "#636efa",
           "#EF553B",
           "#00cc96",
           "#ab63fa",
           "#FFA15A",
           "#19d3f3",
           "#FF6692",
           "#B6E880",
           "#FF97FF",
           "#FECB52"
          ],
          "font": {
           "color": "#2a3f5f"
          },
          "geo": {
           "bgcolor": "white",
           "lakecolor": "white",
           "landcolor": "#E5ECF6",
           "showlakes": true,
           "showland": true,
           "subunitcolor": "white"
          },
          "hoverlabel": {
           "align": "left"
          },
          "hovermode": "closest",
          "mapbox": {
           "style": "light"
          },
          "paper_bgcolor": "white",
          "plot_bgcolor": "#E5ECF6",
          "polar": {
           "angularaxis": {
            "gridcolor": "white",
            "linecolor": "white",
            "ticks": ""
           },
           "bgcolor": "#E5ECF6",
           "radialaxis": {
            "gridcolor": "white",
            "linecolor": "white",
            "ticks": ""
           }
          },
          "scene": {
           "xaxis": {
            "backgroundcolor": "#E5ECF6",
            "gridcolor": "white",
            "gridwidth": 2,
            "linecolor": "white",
            "showbackground": true,
            "ticks": "",
            "zerolinecolor": "white"
           },
           "yaxis": {
            "backgroundcolor": "#E5ECF6",
            "gridcolor": "white",
            "gridwidth": 2,
            "linecolor": "white",
            "showbackground": true,
            "ticks": "",
            "zerolinecolor": "white"
           },
           "zaxis": {
            "backgroundcolor": "#E5ECF6",
            "gridcolor": "white",
            "gridwidth": 2,
            "linecolor": "white",
            "showbackground": true,
            "ticks": "",
            "zerolinecolor": "white"
           }
          },
          "shapedefaults": {
           "line": {
            "color": "#2a3f5f"
           }
          },
          "ternary": {
           "aaxis": {
            "gridcolor": "white",
            "linecolor": "white",
            "ticks": ""
           },
           "baxis": {
            "gridcolor": "white",
            "linecolor": "white",
            "ticks": ""
           },
           "bgcolor": "#E5ECF6",
           "caxis": {
            "gridcolor": "white",
            "linecolor": "white",
            "ticks": ""
           }
          },
          "title": {
           "x": 0.05
          },
          "xaxis": {
           "automargin": true,
           "gridcolor": "white",
           "linecolor": "white",
           "ticks": "",
           "title": {
            "standoff": 15
           },
           "zerolinecolor": "white",
           "zerolinewidth": 2
          },
          "yaxis": {
           "automargin": true,
           "gridcolor": "white",
           "linecolor": "white",
           "ticks": "",
           "title": {
            "standoff": 15
           },
           "zerolinecolor": "white",
           "zerolinewidth": 2
          }
         }
        },
        "title": {
         "text": "OHLC Chart for LTC with time interval 1min"
        },
        "xaxis": {
         "anchor": "y",
         "domain": [
          0,
          0.94
         ],
         "rangeselector": {
          "buttons": [
           {
            "count": 1,
            "label": "1m",
            "step": "month",
            "stepmode": "backward"
           },
           {
            "count": 6,
            "label": "6m",
            "step": "month",
            "stepmode": "backward"
           },
           {
            "count": 1,
            "label": "YTD",
            "step": "year",
            "stepmode": "todate"
           },
           {
            "count": 1,
            "label": "1y",
            "step": "year",
            "stepmode": "backward"
           },
           {
            "step": "all"
           }
          ]
         },
         "rangeslider": {
          "visible": true
         },
         "tickformat": "%d %b %H:%M",
         "type": "date"
        },
        "yaxis": {
         "anchor": "x",
         "domain": [
          0,
          1
         ],
         "range": [
          -0.16485915716597788,
          0.17652313597085367
         ],
         "showgrid": false,
         "showticklabels": false,
         "zeroline": false
        },
        "yaxis2": {
         "anchor": "x",
         "overlaying": "y",
         "side": "right"
        }
       }
      }
     },
     "metadata": {},
     "output_type": "display_data"
    },
    {
     "data": {
      "application/vnd.plotly.v1+json": {
       "config": {
        "plotlyServerURL": "https://plot.ly"
       },
       "data": [
        {
         "close": [
          1.2033,
          1.2037,
          1.206,
          1.2054,
          1.2051,
          1.2053,
          1.2013,
          1.2006,
          1.2029,
          1.2021,
          1.2034,
          1.2026,
          1.2028,
          1.2025,
          1.2045,
          1.207,
          1.2062,
          1.2059,
          1.2053,
          1.2061,
          1.2055,
          1.207,
          1.2064,
          1.2067,
          1.2097,
          1.2105,
          1.2112,
          1.2109,
          1.2093,
          1.2083,
          1.208,
          1.208,
          1.2072,
          1.2064,
          1.2069,
          1.2071,
          1.2058,
          1.2048,
          1.2042,
          1.2038,
          1.2031,
          1.2005,
          1.2019,
          1.2019,
          1.2015,
          1.2021,
          1.2022,
          1.2053,
          1.2059,
          1.2029,
          1.2019,
          1.2002,
          1.2001,
          1.1962,
          1.1982,
          1.202,
          1.2037,
          1.2021,
          1.2042,
          1.2071,
          1.2066,
          1.2045,
          1.2045,
          1.2053,
          1.206,
          1.208,
          1.206,
          1.2055,
          1.2053,
          1.208,
          1.2053,
          1.2044,
          1.2037
         ],
         "decreasing": {
          "line": {
           "color": "gray"
          }
         },
         "high": [
          1.2033,
          1.2037,
          1.206,
          1.2054,
          1.2055,
          1.2053,
          1.2019,
          1.2036,
          1.2033,
          1.2036,
          1.2034,
          1.2026,
          1.2038,
          1.2028,
          1.2045,
          1.207,
          1.2062,
          1.2059,
          1.2059,
          1.2063,
          1.2055,
          1.207,
          1.2064,
          1.2067,
          1.2097,
          1.2105,
          1.2115,
          1.2109,
          1.2093,
          1.2083,
          1.2081,
          1.2088,
          1.2089,
          1.2066,
          1.2076,
          1.2071,
          1.2058,
          1.2054,
          1.2054,
          1.2038,
          1.2031,
          1.201,
          1.2019,
          1.2019,
          1.2025,
          1.2031,
          1.2041,
          1.2053,
          1.2059,
          1.2038,
          1.2045,
          1.2027,
          1.2005,
          1.199,
          1.1982,
          1.202,
          1.2037,
          1.2028,
          1.2042,
          1.2071,
          1.2079,
          1.2069,
          1.2057,
          1.2059,
          1.206,
          1.208,
          1.2065,
          1.2055,
          1.2053,
          1.208,
          1.2065,
          1.2056,
          1.2037
         ],
         "increasing": {
          "line": {
           "color": "cyan"
          }
         },
         "low": [
          1.202,
          1.2024,
          1.2043,
          1.2051,
          1.2051,
          1.205,
          1.2011,
          1.2006,
          1.2002,
          1.2021,
          1.2025,
          1.2026,
          1.2027,
          1.202,
          1.204,
          1.2046,
          1.2048,
          1.2051,
          1.2053,
          1.2061,
          1.2039,
          1.2054,
          1.2063,
          1.2062,
          1.2071,
          1.2091,
          1.211,
          1.2093,
          1.2088,
          1.2081,
          1.208,
          1.2078,
          1.2072,
          1.2061,
          1.2063,
          1.2063,
          1.2058,
          1.2047,
          1.204,
          1.2038,
          1.2016,
          1.1997,
          1.2012,
          1.2019,
          1.2015,
          1.2021,
          1.2021,
          1.2046,
          1.2053,
          1.2029,
          1.2019,
          1.2002,
          1.2001,
          1.196,
          1.1978,
          1.1984,
          1.203,
          1.2018,
          1.2029,
          1.2046,
          1.2066,
          1.2045,
          1.2045,
          1.2053,
          1.2056,
          1.208,
          1.206,
          1.2046,
          1.2053,
          1.2073,
          1.2053,
          1.2044,
          1.2037
         ],
         "name": "OHLC",
         "open": [
          1.202,
          1.2024,
          1.2043,
          1.2051,
          1.2055,
          1.205,
          1.2017,
          1.2026,
          1.2019,
          1.2023,
          1.2026,
          1.2026,
          1.2033,
          1.2028,
          1.204,
          1.2046,
          1.2061,
          1.2051,
          1.2059,
          1.2063,
          1.2039,
          1.2054,
          1.2063,
          1.2062,
          1.208,
          1.21,
          1.211,
          1.2102,
          1.2088,
          1.2081,
          1.2081,
          1.208,
          1.2081,
          1.2062,
          1.2063,
          1.2063,
          1.2058,
          1.2054,
          1.2054,
          1.2038,
          1.203,
          1.201,
          1.2018,
          1.2019,
          1.2025,
          1.2023,
          1.2025,
          1.2046,
          1.2054,
          1.2038,
          1.2023,
          1.2022,
          1.2005,
          1.199,
          1.1978,
          1.1984,
          1.203,
          1.2028,
          1.2029,
          1.2046,
          1.2079,
          1.2069,
          1.2056,
          1.2059,
          1.2056,
          1.208,
          1.2065,
          1.2053,
          1.2053,
          1.2073,
          1.2065,
          1.2055,
          1.2037
         ],
         "type": "ohlc",
         "x": [
          "2021-12-17T10:44:00",
          "2021-12-17T10:45:00",
          "2021-12-17T10:47:00",
          "2021-12-17T10:48:00",
          "2021-12-17T10:49:00",
          "2021-12-17T10:51:00",
          "2021-12-17T10:53:00",
          "2021-12-17T10:55:00",
          "2021-12-17T10:57:00",
          "2021-12-17T10:59:00",
          "2021-12-17T11:01:00",
          "2021-12-17T11:02:00",
          "2021-12-17T11:03:00",
          "2021-12-17T11:04:00",
          "2021-12-17T11:07:00",
          "2021-12-17T11:09:00",
          "2021-12-17T11:11:00",
          "2021-12-17T11:13:00",
          "2021-12-17T11:14:00",
          "2021-12-17T11:15:00",
          "2021-12-17T11:17:00",
          "2021-12-17T11:18:00",
          "2021-12-17T11:20:00",
          "2021-12-17T11:21:00",
          "2021-12-17T11:23:00",
          "2021-12-17T11:24:00",
          "2021-12-17T11:27:00",
          "2021-12-17T11:32:00",
          "2021-12-17T11:33:00",
          "2021-12-17T11:35:00",
          "2021-12-17T11:36:00",
          "2021-12-17T11:38:00",
          "2021-12-17T11:41:00",
          "2021-12-17T11:42:00",
          "2021-12-17T11:43:00",
          "2021-12-17T11:44:00",
          "2021-12-17T11:45:00",
          "2021-12-17T11:47:00",
          "2021-12-17T11:48:00",
          "2021-12-17T11:49:00",
          "2021-12-17T11:50:00",
          "2021-12-17T11:51:00",
          "2021-12-17T11:53:00",
          "2021-12-17T11:56:00",
          "2021-12-17T11:57:00",
          "2021-12-17T11:58:00",
          "2021-12-17T11:59:00",
          "2021-12-17T12:00:00",
          "2021-12-17T12:02:00",
          "2021-12-17T12:04:00",
          "2021-12-17T12:06:00",
          "2021-12-17T12:08:00",
          "2021-12-17T12:09:00",
          "2021-12-17T12:11:00",
          "2021-12-17T12:12:00",
          "2021-12-17T12:15:00",
          "2021-12-17T12:17:00",
          "2021-12-17T12:20:00",
          "2021-12-17T12:22:00",
          "2021-12-17T12:23:00",
          "2021-12-17T12:24:00",
          "2021-12-17T12:25:00",
          "2021-12-17T12:26:00",
          "2021-12-17T12:28:00",
          "2021-12-17T12:30:00",
          "2021-12-17T12:31:00",
          "2021-12-17T12:32:00",
          "2021-12-17T12:34:00",
          "2021-12-17T12:35:00",
          "2021-12-17T12:37:00",
          "2021-12-17T12:39:00",
          "2021-12-17T12:41:00",
          "2021-12-17T12:42:00"
         ],
         "xaxis": "x",
         "yaxis": "y2"
        },
        {
         "line": {
          "color": "#A9B1F5"
         },
         "mode": "lines",
         "name": "MACD",
         "type": "scatter",
         "x": [
          "2021-12-17T10:44:00",
          "2021-12-17T10:45:00",
          "2021-12-17T10:47:00",
          "2021-12-17T10:48:00",
          "2021-12-17T10:49:00",
          "2021-12-17T10:51:00",
          "2021-12-17T10:53:00",
          "2021-12-17T10:55:00",
          "2021-12-17T10:57:00",
          "2021-12-17T10:59:00",
          "2021-12-17T11:01:00",
          "2021-12-17T11:02:00",
          "2021-12-17T11:03:00",
          "2021-12-17T11:04:00",
          "2021-12-17T11:07:00",
          "2021-12-17T11:09:00",
          "2021-12-17T11:11:00",
          "2021-12-17T11:13:00",
          "2021-12-17T11:14:00",
          "2021-12-17T11:15:00",
          "2021-12-17T11:17:00",
          "2021-12-17T11:18:00",
          "2021-12-17T11:20:00",
          "2021-12-17T11:21:00",
          "2021-12-17T11:23:00",
          "2021-12-17T11:24:00",
          "2021-12-17T11:27:00",
          "2021-12-17T11:32:00",
          "2021-12-17T11:33:00",
          "2021-12-17T11:35:00",
          "2021-12-17T11:36:00",
          "2021-12-17T11:38:00",
          "2021-12-17T11:41:00",
          "2021-12-17T11:42:00",
          "2021-12-17T11:43:00",
          "2021-12-17T11:44:00",
          "2021-12-17T11:45:00",
          "2021-12-17T11:47:00",
          "2021-12-17T11:48:00",
          "2021-12-17T11:49:00",
          "2021-12-17T11:50:00",
          "2021-12-17T11:51:00",
          "2021-12-17T11:53:00",
          "2021-12-17T11:56:00",
          "2021-12-17T11:57:00",
          "2021-12-17T11:58:00",
          "2021-12-17T11:59:00",
          "2021-12-17T12:00:00",
          "2021-12-17T12:02:00",
          "2021-12-17T12:04:00",
          "2021-12-17T12:06:00",
          "2021-12-17T12:08:00",
          "2021-12-17T12:09:00",
          "2021-12-17T12:11:00",
          "2021-12-17T12:12:00",
          "2021-12-17T12:15:00",
          "2021-12-17T12:17:00",
          "2021-12-17T12:20:00",
          "2021-12-17T12:22:00",
          "2021-12-17T12:23:00",
          "2021-12-17T12:24:00",
          "2021-12-17T12:25:00",
          "2021-12-17T12:26:00",
          "2021-12-17T12:28:00",
          "2021-12-17T12:30:00",
          "2021-12-17T12:31:00",
          "2021-12-17T12:32:00",
          "2021-12-17T12:34:00",
          "2021-12-17T12:35:00",
          "2021-12-17T12:37:00",
          "2021-12-17T12:39:00",
          "2021-12-17T12:41:00",
          "2021-12-17T12:42:00"
         ],
         "xaxis": "x",
         "y": [
          0,
          0.00003190883190895555,
          0.00024002077905249664,
          0.00035247292249440676,
          0.0004126280443081942,
          0.00047101022756024236,
          0.00019229529731545902,
          -0.0000841029562643758,
          -0.00011622007281530955,
          -0.0002038762744116518,
          -0.00016652570558362,
          -0.00019918237438698583,
          -0.0002065437830003347,
          -0.000233889117007946,
          -0.00009310396140715937,
          0.00021768901191454582,
          0.0003948893299079437,
          0.0005052897006447843,
          0.000538164182553702,
          0.00062160528168409,
          0.0006320322934623146,
          0.0007526570771236862,
          0.0007907231375179347,
          0.0008354675080544105,
          0.0011003188808902387,
          0.0013591019350391864,
          0.0016022043058392388,
          0.0017504787638067398,
          0.0017190644073561412,
          0.0015950894624749967,
          0.001455848813779026,
          0.0013301662677775994,
          0.0011527207828159192,
          0.0009367424594666218,
          0.0007967395855095205,
          0.0006939254867053268,
          0.0005017614436342299,
          0.0002657154105314419,
          0.000029887716100018835,
          -0.00018712700422196527,
          -0.0004108607366200001,
          -0.0007888759316712068,
          -0.0009643707319912931,
          -0.0010908766783164214,
          -0.0012094682125787237,
          -0.0012407354464016862,
          -0.0012431159236543365,
          -0.0009835209594089012,
          -0.0007210631274856549,
          -0.0007465327676883238,
          -0.0008377521978448765,
          -0.0010352859143738513,
          -0.0011862278755931932,
          -0.0016020800916416444,
          -0.0017500887498942408,
          -0.0015429720149082726,
          -0.001227504806415869,
          -0.0010939905569544717,
          -0.0008093968793769779,
          -0.0003458616974643114,
          -0.00001863770368681905,
          0.00007042539917212487,
          0.00013940161481196256,
          0.0002556718508279765,
          0.0003996935816006353,
          0.0006675203668884411,
          0.0007102049380751652,
          0.0006956677224743135,
          0.0006603959128443915,
          0.0008406200401958053,
          0.0007568569486313681,
          0.0006108105726350122,
          0.00043358551369054865
         ],
         "yaxis": "y"
        },
        {
         "line": {
          "color": "#FFD1A3"
         },
         "mode": "lines",
         "name": "MACD Signal",
         "type": "scatter",
         "x": [
          "2021-12-17T10:44:00",
          "2021-12-17T10:45:00",
          "2021-12-17T10:47:00",
          "2021-12-17T10:48:00",
          "2021-12-17T10:49:00",
          "2021-12-17T10:51:00",
          "2021-12-17T10:53:00",
          "2021-12-17T10:55:00",
          "2021-12-17T10:57:00",
          "2021-12-17T10:59:00",
          "2021-12-17T11:01:00",
          "2021-12-17T11:02:00",
          "2021-12-17T11:03:00",
          "2021-12-17T11:04:00",
          "2021-12-17T11:07:00",
          "2021-12-17T11:09:00",
          "2021-12-17T11:11:00",
          "2021-12-17T11:13:00",
          "2021-12-17T11:14:00",
          "2021-12-17T11:15:00",
          "2021-12-17T11:17:00",
          "2021-12-17T11:18:00",
          "2021-12-17T11:20:00",
          "2021-12-17T11:21:00",
          "2021-12-17T11:23:00",
          "2021-12-17T11:24:00",
          "2021-12-17T11:27:00",
          "2021-12-17T11:32:00",
          "2021-12-17T11:33:00",
          "2021-12-17T11:35:00",
          "2021-12-17T11:36:00",
          "2021-12-17T11:38:00",
          "2021-12-17T11:41:00",
          "2021-12-17T11:42:00",
          "2021-12-17T11:43:00",
          "2021-12-17T11:44:00",
          "2021-12-17T11:45:00",
          "2021-12-17T11:47:00",
          "2021-12-17T11:48:00",
          "2021-12-17T11:49:00",
          "2021-12-17T11:50:00",
          "2021-12-17T11:51:00",
          "2021-12-17T11:53:00",
          "2021-12-17T11:56:00",
          "2021-12-17T11:57:00",
          "2021-12-17T11:58:00",
          "2021-12-17T11:59:00",
          "2021-12-17T12:00:00",
          "2021-12-17T12:02:00",
          "2021-12-17T12:04:00",
          "2021-12-17T12:06:00",
          "2021-12-17T12:08:00",
          "2021-12-17T12:09:00",
          "2021-12-17T12:11:00",
          "2021-12-17T12:12:00",
          "2021-12-17T12:15:00",
          "2021-12-17T12:17:00",
          "2021-12-17T12:20:00",
          "2021-12-17T12:22:00",
          "2021-12-17T12:23:00",
          "2021-12-17T12:24:00",
          "2021-12-17T12:25:00",
          "2021-12-17T12:26:00",
          "2021-12-17T12:28:00",
          "2021-12-17T12:30:00",
          "2021-12-17T12:31:00",
          "2021-12-17T12:32:00",
          "2021-12-17T12:34:00",
          "2021-12-17T12:35:00",
          "2021-12-17T12:37:00",
          "2021-12-17T12:39:00",
          "2021-12-17T12:41:00",
          "2021-12-17T12:42:00"
         ],
         "xaxis": "x",
         "y": [
          0,
          0.00000638176638179111,
          0.00005310956891593222,
          0.00011298223963162713,
          0.00017291140056694055,
          0.00023253116596560092,
          0.00022448399223557255,
          0.0001627666025355829,
          0.00010696926746540441,
          0.00004480015908999318,
          0.000002534986155270535,
          -0.00003780848595318074,
          -0.00007155554536261154,
          -0.00010402225969167844,
          -0.00010183860003477463,
          -0.00003793307764491054,
          0.000048631403865660304,
          0.00013996306322148512,
          0.00021960328708792853,
          0.0003000036860071609,
          0.0003664094074981916,
          0.00044365894142329055,
          0.0005130717806422194,
          0.0005775509261246577,
          0.0006821045170777739,
          0.0008175040006700564,
          0.000974444061703893,
          0.0011296510021244622,
          0.001247533683170798,
          0.0013170448390316379,
          0.0013448056339811156,
          0.0013418777607404123,
          0.0013040463651555138,
          0.0012305855840177354,
          0.0011438163843160926,
          0.0010538382047939395,
          0.0009434228525619976,
          0.0008078813641558865,
          0.0006522826345447131,
          0.00048440070679137744,
          0.0003053484181091019,
          0.00008650354815304017,
          -0.0001236713078758265,
          -0.00031711238196394553,
          -0.0004955835480869012,
          -0.0006446139277498583,
          -0.000764314326930754,
          -0.0008081556534263835,
          -0.0007907371482382378,
          -0.0007818962721282551,
          -0.0007930674572715794,
          -0.0008415111486920338,
          -0.0009104544940722657,
          -0.0010487796135861416,
          -0.0011890414408477616,
          -0.0012598275556598639,
          -0.001253363005811065,
          -0.0012214885160397465,
          -0.001139070188707193,
          -0.0009804284904586166,
          -0.0007880703331042572,
          -0.0006163711866489809,
          -0.00046521662635679224,
          -0.0003210389309198385,
          -0.00017689242841574374,
          -0.000008009869354906759,
          0.00013563309213110764,
          0.0002476400181997488,
          0.0003301911971286774,
          0.00043227696574210303,
          0.0004971929623199561,
          0.0005199164843829673,
          0.0005026502902444835
         ],
         "yaxis": "y"
        }
       ],
       "layout": {
        "hovermode": "x unified",
        "legend": {
         "x": 0.94,
         "xanchor": "right",
         "y": 0.99,
         "yanchor": "top"
        },
        "margin": {
         "b": 100,
         "l": 50,
         "pad": 4,
         "r": 50,
         "t": 100
        },
        "shapes": [
         {
          "line": {
           "color": "#3FFA68",
           "width": 1
          },
          "opacity": 1,
          "type": "rect",
          "x0": "2021-12-17T10:44:00",
          "x1": "2021-12-17T10:53:00",
          "xref": "x",
          "y0": 0,
          "y1": 1,
          "yref": "y domain"
         },
         {
          "line": {
           "color": "#D61170",
           "width": 1
          },
          "opacity": 1,
          "type": "rect",
          "x0": "2021-12-17T10:53:00",
          "x1": "2021-12-17T11:07:00",
          "xref": "x",
          "y0": 0,
          "y1": 1,
          "yref": "y domain"
         },
         {
          "line": {
           "color": "#3FFA68",
           "width": 1
          },
          "opacity": 1,
          "type": "rect",
          "x0": "2021-12-17T11:07:00",
          "x1": "2021-12-17T11:38:00",
          "xref": "x",
          "y0": 0,
          "y1": 1,
          "yref": "y domain"
         },
         {
          "line": {
           "color": "#D61170",
           "width": 1
          },
          "opacity": 1,
          "type": "rect",
          "x0": "2021-12-17T11:38:00",
          "x1": "2021-12-17T12:02:00",
          "xref": "x",
          "y0": 0,
          "y1": 1,
          "yref": "y domain"
         },
         {
          "line": {
           "color": "#3FFA68",
           "width": 1
          },
          "opacity": 1,
          "type": "rect",
          "x0": "2021-12-17T12:02:00",
          "x1": "2021-12-17T12:06:00",
          "xref": "x",
          "y0": 0,
          "y1": 1,
          "yref": "y domain"
         },
         {
          "line": {
           "color": "#D61170",
           "width": 1
          },
          "opacity": 1,
          "type": "rect",
          "x0": "2021-12-17T12:06:00",
          "x1": "2021-12-17T12:17:00",
          "xref": "x",
          "y0": 0,
          "y1": 1,
          "yref": "y domain"
         },
         {
          "line": {
           "color": "#3FFA68",
           "width": 1
          },
          "opacity": 1,
          "type": "rect",
          "x0": "2021-12-17T12:17:00",
          "x1": "2021-12-17T12:42:00",
          "xref": "x",
          "y0": 0,
          "y1": 1,
          "yref": "y domain"
         },
         {
          "line": {
           "color": "#D61170",
           "width": 1
          },
          "opacity": 1,
          "type": "rect",
          "x0": "2021-12-17T12:42:00",
          "x1": "2021-12-17T13:43:39.851318",
          "xref": "x",
          "y0": 0,
          "y1": 1,
          "yref": "y domain"
         }
        ],
        "template": {
         "data": {
          "bar": [
           {
            "error_x": {
             "color": "#2a3f5f"
            },
            "error_y": {
             "color": "#2a3f5f"
            },
            "marker": {
             "line": {
              "color": "#E5ECF6",
              "width": 0.5
             }
            },
            "type": "bar"
           }
          ],
          "barpolar": [
           {
            "marker": {
             "line": {
              "color": "#E5ECF6",
              "width": 0.5
             }
            },
            "type": "barpolar"
           }
          ],
          "carpet": [
           {
            "aaxis": {
             "endlinecolor": "#2a3f5f",
             "gridcolor": "white",
             "linecolor": "white",
             "minorgridcolor": "white",
             "startlinecolor": "#2a3f5f"
            },
            "baxis": {
             "endlinecolor": "#2a3f5f",
             "gridcolor": "white",
             "linecolor": "white",
             "minorgridcolor": "white",
             "startlinecolor": "#2a3f5f"
            },
            "type": "carpet"
           }
          ],
          "choropleth": [
           {
            "colorbar": {
             "outlinewidth": 0,
             "ticks": ""
            },
            "type": "choropleth"
           }
          ],
          "contour": [
           {
            "colorbar": {
             "outlinewidth": 0,
             "ticks": ""
            },
            "colorscale": [
             [
              0,
              "#0d0887"
             ],
             [
              0.1111111111111111,
              "#46039f"
             ],
             [
              0.2222222222222222,
              "#7201a8"
             ],
             [
              0.3333333333333333,
              "#9c179e"
             ],
             [
              0.4444444444444444,
              "#bd3786"
             ],
             [
              0.5555555555555556,
              "#d8576b"
             ],
             [
              0.6666666666666666,
              "#ed7953"
             ],
             [
              0.7777777777777778,
              "#fb9f3a"
             ],
             [
              0.8888888888888888,
              "#fdca26"
             ],
             [
              1,
              "#f0f921"
             ]
            ],
            "type": "contour"
           }
          ],
          "contourcarpet": [
           {
            "colorbar": {
             "outlinewidth": 0,
             "ticks": ""
            },
            "type": "contourcarpet"
           }
          ],
          "heatmap": [
           {
            "colorbar": {
             "outlinewidth": 0,
             "ticks": ""
            },
            "colorscale": [
             [
              0,
              "#0d0887"
             ],
             [
              0.1111111111111111,
              "#46039f"
             ],
             [
              0.2222222222222222,
              "#7201a8"
             ],
             [
              0.3333333333333333,
              "#9c179e"
             ],
             [
              0.4444444444444444,
              "#bd3786"
             ],
             [
              0.5555555555555556,
              "#d8576b"
             ],
             [
              0.6666666666666666,
              "#ed7953"
             ],
             [
              0.7777777777777778,
              "#fb9f3a"
             ],
             [
              0.8888888888888888,
              "#fdca26"
             ],
             [
              1,
              "#f0f921"
             ]
            ],
            "type": "heatmap"
           }
          ],
          "heatmapgl": [
           {
            "colorbar": {
             "outlinewidth": 0,
             "ticks": ""
            },
            "colorscale": [
             [
              0,
              "#0d0887"
             ],
             [
              0.1111111111111111,
              "#46039f"
             ],
             [
              0.2222222222222222,
              "#7201a8"
             ],
             [
              0.3333333333333333,
              "#9c179e"
             ],
             [
              0.4444444444444444,
              "#bd3786"
             ],
             [
              0.5555555555555556,
              "#d8576b"
             ],
             [
              0.6666666666666666,
              "#ed7953"
             ],
             [
              0.7777777777777778,
              "#fb9f3a"
             ],
             [
              0.8888888888888888,
              "#fdca26"
             ],
             [
              1,
              "#f0f921"
             ]
            ],
            "type": "heatmapgl"
           }
          ],
          "histogram": [
           {
            "marker": {
             "colorbar": {
              "outlinewidth": 0,
              "ticks": ""
             }
            },
            "type": "histogram"
           }
          ],
          "histogram2d": [
           {
            "colorbar": {
             "outlinewidth": 0,
             "ticks": ""
            },
            "colorscale": [
             [
              0,
              "#0d0887"
             ],
             [
              0.1111111111111111,
              "#46039f"
             ],
             [
              0.2222222222222222,
              "#7201a8"
             ],
             [
              0.3333333333333333,
              "#9c179e"
             ],
             [
              0.4444444444444444,
              "#bd3786"
             ],
             [
              0.5555555555555556,
              "#d8576b"
             ],
             [
              0.6666666666666666,
              "#ed7953"
             ],
             [
              0.7777777777777778,
              "#fb9f3a"
             ],
             [
              0.8888888888888888,
              "#fdca26"
             ],
             [
              1,
              "#f0f921"
             ]
            ],
            "type": "histogram2d"
           }
          ],
          "histogram2dcontour": [
           {
            "colorbar": {
             "outlinewidth": 0,
             "ticks": ""
            },
            "colorscale": [
             [
              0,
              "#0d0887"
             ],
             [
              0.1111111111111111,
              "#46039f"
             ],
             [
              0.2222222222222222,
              "#7201a8"
             ],
             [
              0.3333333333333333,
              "#9c179e"
             ],
             [
              0.4444444444444444,
              "#bd3786"
             ],
             [
              0.5555555555555556,
              "#d8576b"
             ],
             [
              0.6666666666666666,
              "#ed7953"
             ],
             [
              0.7777777777777778,
              "#fb9f3a"
             ],
             [
              0.8888888888888888,
              "#fdca26"
             ],
             [
              1,
              "#f0f921"
             ]
            ],
            "type": "histogram2dcontour"
           }
          ],
          "mesh3d": [
           {
            "colorbar": {
             "outlinewidth": 0,
             "ticks": ""
            },
            "type": "mesh3d"
           }
          ],
          "parcoords": [
           {
            "line": {
             "colorbar": {
              "outlinewidth": 0,
              "ticks": ""
             }
            },
            "type": "parcoords"
           }
          ],
          "pie": [
           {
            "automargin": true,
            "type": "pie"
           }
          ],
          "scatter": [
           {
            "marker": {
             "colorbar": {
              "outlinewidth": 0,
              "ticks": ""
             }
            },
            "type": "scatter"
           }
          ],
          "scatter3d": [
           {
            "line": {
             "colorbar": {
              "outlinewidth": 0,
              "ticks": ""
             }
            },
            "marker": {
             "colorbar": {
              "outlinewidth": 0,
              "ticks": ""
             }
            },
            "type": "scatter3d"
           }
          ],
          "scattercarpet": [
           {
            "marker": {
             "colorbar": {
              "outlinewidth": 0,
              "ticks": ""
             }
            },
            "type": "scattercarpet"
           }
          ],
          "scattergeo": [
           {
            "marker": {
             "colorbar": {
              "outlinewidth": 0,
              "ticks": ""
             }
            },
            "type": "scattergeo"
           }
          ],
          "scattergl": [
           {
            "marker": {
             "colorbar": {
              "outlinewidth": 0,
              "ticks": ""
             }
            },
            "type": "scattergl"
           }
          ],
          "scattermapbox": [
           {
            "marker": {
             "colorbar": {
              "outlinewidth": 0,
              "ticks": ""
             }
            },
            "type": "scattermapbox"
           }
          ],
          "scatterpolar": [
           {
            "marker": {
             "colorbar": {
              "outlinewidth": 0,
              "ticks": ""
             }
            },
            "type": "scatterpolar"
           }
          ],
          "scatterpolargl": [
           {
            "marker": {
             "colorbar": {
              "outlinewidth": 0,
              "ticks": ""
             }
            },
            "type": "scatterpolargl"
           }
          ],
          "scatterternary": [
           {
            "marker": {
             "colorbar": {
              "outlinewidth": 0,
              "ticks": ""
             }
            },
            "type": "scatterternary"
           }
          ],
          "surface": [
           {
            "colorbar": {
             "outlinewidth": 0,
             "ticks": ""
            },
            "colorscale": [
             [
              0,
              "#0d0887"
             ],
             [
              0.1111111111111111,
              "#46039f"
             ],
             [
              0.2222222222222222,
              "#7201a8"
             ],
             [
              0.3333333333333333,
              "#9c179e"
             ],
             [
              0.4444444444444444,
              "#bd3786"
             ],
             [
              0.5555555555555556,
              "#d8576b"
             ],
             [
              0.6666666666666666,
              "#ed7953"
             ],
             [
              0.7777777777777778,
              "#fb9f3a"
             ],
             [
              0.8888888888888888,
              "#fdca26"
             ],
             [
              1,
              "#f0f921"
             ]
            ],
            "type": "surface"
           }
          ],
          "table": [
           {
            "cells": {
             "fill": {
              "color": "#EBF0F8"
             },
             "line": {
              "color": "white"
             }
            },
            "header": {
             "fill": {
              "color": "#C8D4E3"
             },
             "line": {
              "color": "white"
             }
            },
            "type": "table"
           }
          ]
         },
         "layout": {
          "annotationdefaults": {
           "arrowcolor": "#2a3f5f",
           "arrowhead": 0,
           "arrowwidth": 1
          },
          "autotypenumbers": "strict",
          "coloraxis": {
           "colorbar": {
            "outlinewidth": 0,
            "ticks": ""
           }
          },
          "colorscale": {
           "diverging": [
            [
             0,
             "#8e0152"
            ],
            [
             0.1,
             "#c51b7d"
            ],
            [
             0.2,
             "#de77ae"
            ],
            [
             0.3,
             "#f1b6da"
            ],
            [
             0.4,
             "#fde0ef"
            ],
            [
             0.5,
             "#f7f7f7"
            ],
            [
             0.6,
             "#e6f5d0"
            ],
            [
             0.7,
             "#b8e186"
            ],
            [
             0.8,
             "#7fbc41"
            ],
            [
             0.9,
             "#4d9221"
            ],
            [
             1,
             "#276419"
            ]
           ],
           "sequential": [
            [
             0,
             "#0d0887"
            ],
            [
             0.1111111111111111,
             "#46039f"
            ],
            [
             0.2222222222222222,
             "#7201a8"
            ],
            [
             0.3333333333333333,
             "#9c179e"
            ],
            [
             0.4444444444444444,
             "#bd3786"
            ],
            [
             0.5555555555555556,
             "#d8576b"
            ],
            [
             0.6666666666666666,
             "#ed7953"
            ],
            [
             0.7777777777777778,
             "#fb9f3a"
            ],
            [
             0.8888888888888888,
             "#fdca26"
            ],
            [
             1,
             "#f0f921"
            ]
           ],
           "sequentialminus": [
            [
             0,
             "#0d0887"
            ],
            [
             0.1111111111111111,
             "#46039f"
            ],
            [
             0.2222222222222222,
             "#7201a8"
            ],
            [
             0.3333333333333333,
             "#9c179e"
            ],
            [
             0.4444444444444444,
             "#bd3786"
            ],
            [
             0.5555555555555556,
             "#d8576b"
            ],
            [
             0.6666666666666666,
             "#ed7953"
            ],
            [
             0.7777777777777778,
             "#fb9f3a"
            ],
            [
             0.8888888888888888,
             "#fdca26"
            ],
            [
             1,
             "#f0f921"
            ]
           ]
          },
          "colorway": [
           "#636efa",
           "#EF553B",
           "#00cc96",
           "#ab63fa",
           "#FFA15A",
           "#19d3f3",
           "#FF6692",
           "#B6E880",
           "#FF97FF",
           "#FECB52"
          ],
          "font": {
           "color": "#2a3f5f"
          },
          "geo": {
           "bgcolor": "white",
           "lakecolor": "white",
           "landcolor": "#E5ECF6",
           "showlakes": true,
           "showland": true,
           "subunitcolor": "white"
          },
          "hoverlabel": {
           "align": "left"
          },
          "hovermode": "closest",
          "mapbox": {
           "style": "light"
          },
          "paper_bgcolor": "white",
          "plot_bgcolor": "#E5ECF6",
          "polar": {
           "angularaxis": {
            "gridcolor": "white",
            "linecolor": "white",
            "ticks": ""
           },
           "bgcolor": "#E5ECF6",
           "radialaxis": {
            "gridcolor": "white",
            "linecolor": "white",
            "ticks": ""
           }
          },
          "scene": {
           "xaxis": {
            "backgroundcolor": "#E5ECF6",
            "gridcolor": "white",
            "gridwidth": 2,
            "linecolor": "white",
            "showbackground": true,
            "ticks": "",
            "zerolinecolor": "white"
           },
           "yaxis": {
            "backgroundcolor": "#E5ECF6",
            "gridcolor": "white",
            "gridwidth": 2,
            "linecolor": "white",
            "showbackground": true,
            "ticks": "",
            "zerolinecolor": "white"
           },
           "zaxis": {
            "backgroundcolor": "#E5ECF6",
            "gridcolor": "white",
            "gridwidth": 2,
            "linecolor": "white",
            "showbackground": true,
            "ticks": "",
            "zerolinecolor": "white"
           }
          },
          "shapedefaults": {
           "line": {
            "color": "#2a3f5f"
           }
          },
          "ternary": {
           "aaxis": {
            "gridcolor": "white",
            "linecolor": "white",
            "ticks": ""
           },
           "baxis": {
            "gridcolor": "white",
            "linecolor": "white",
            "ticks": ""
           },
           "bgcolor": "#E5ECF6",
           "caxis": {
            "gridcolor": "white",
            "linecolor": "white",
            "ticks": ""
           }
          },
          "title": {
           "x": 0.05
          },
          "xaxis": {
           "automargin": true,
           "gridcolor": "white",
           "linecolor": "white",
           "ticks": "",
           "title": {
            "standoff": 15
           },
           "zerolinecolor": "white",
           "zerolinewidth": 2
          },
          "yaxis": {
           "automargin": true,
           "gridcolor": "white",
           "linecolor": "white",
           "ticks": "",
           "title": {
            "standoff": 15
           },
           "zerolinecolor": "white",
           "zerolinewidth": 2
          }
         }
        },
        "title": {
         "text": "OHLC Chart for ALGO with time interval 1min"
        },
        "xaxis": {
         "anchor": "y",
         "domain": [
          0,
          0.94
         ],
         "rangeselector": {
          "buttons": [
           {
            "count": 1,
            "label": "1m",
            "step": "month",
            "stepmode": "backward"
           },
           {
            "count": 6,
            "label": "6m",
            "step": "month",
            "stepmode": "backward"
           },
           {
            "count": 1,
            "label": "YTD",
            "step": "year",
            "stepmode": "todate"
           },
           {
            "count": 1,
            "label": "1y",
            "step": "year",
            "stepmode": "backward"
           },
           {
            "step": "all"
           }
          ]
         },
         "rangeslider": {
          "visible": true
         },
         "tickformat": "%d %b %H:%M",
         "type": "date"
        },
        "yaxis": {
         "anchor": "x",
         "domain": [
          0,
          1
         ],
         "range": [
          -0.0017500887498942408,
          0.0017504787638067398
         ],
         "showgrid": false,
         "showticklabels": false,
         "zeroline": false
        },
        "yaxis2": {
         "anchor": "x",
         "overlaying": "y",
         "side": "right"
        }
       }
      }
     },
     "metadata": {},
     "output_type": "display_data"
    },
    {
     "data": {
      "application/vnd.plotly.v1+json": {
       "config": {
        "plotlyServerURL": "https://plot.ly"
       },
       "data": [
        {
         "close": [
          0.0000283,
          0.0000284,
          0.0000284,
          0.0000283,
          0.0000284,
          0.0000283,
          0.0000283,
          0.0000282,
          0.0000283,
          0.0000283,
          0.0000284,
          0.0000283,
          0.0000284,
          0.0000283,
          0.0000284,
          0.0000284,
          0.0000283,
          0.0000284,
          0.0000284,
          0.0000283,
          0.0000284,
          0.0000284,
          0.0000284,
          0.0000284,
          0.0000284,
          0.0000284,
          0.0000283,
          0.0000284,
          0.0000284,
          0.0000283,
          0.0000283,
          0.0000283,
          0.0000283,
          0.0000283,
          0.0000283,
          0.0000282,
          0.0000282,
          0.0000282,
          0.0000281,
          0.0000282,
          0.0000283,
          0.0000283,
          0.0000283,
          0.0000283,
          0.0000282,
          0.000028,
          0.000028,
          0.0000281,
          0.0000281,
          0.0000281,
          0.0000282,
          0.0000282,
          0.0000283,
          0.0000283,
          0.0000283,
          0.0000283,
          0.0000283,
          0.0000283,
          0.0000282,
          0.0000281
         ],
         "decreasing": {
          "line": {
           "color": "gray"
          }
         },
         "high": [
          0.0000283,
          0.0000284,
          0.0000284,
          0.0000284,
          0.0000284,
          0.0000284,
          0.0000283,
          0.0000283,
          0.0000283,
          0.0000283,
          0.0000284,
          0.0000283,
          0.0000284,
          0.0000283,
          0.0000284,
          0.0000284,
          0.0000283,
          0.0000284,
          0.0000284,
          0.0000283,
          0.0000284,
          0.0000284,
          0.0000284,
          0.0000284,
          0.0000284,
          0.0000284,
          0.0000284,
          0.0000284,
          0.0000284,
          0.0000283,
          0.0000284,
          0.0000283,
          0.0000283,
          0.0000283,
          0.0000283,
          0.0000282,
          0.0000282,
          0.0000282,
          0.0000281,
          0.0000282,
          0.0000283,
          0.0000283,
          0.0000283,
          0.0000283,
          0.0000282,
          0.0000282,
          0.000028,
          0.0000281,
          0.0000281,
          0.0000282,
          0.0000282,
          0.0000283,
          0.0000283,
          0.0000283,
          0.0000283,
          0.0000283,
          0.0000283,
          0.0000283,
          0.0000283,
          0.0000282
         ],
         "increasing": {
          "line": {
           "color": "cyan"
          }
         },
         "low": [
          0.0000283,
          0.0000283,
          0.0000284,
          0.0000282,
          0.0000284,
          0.0000283,
          0.0000282,
          0.0000282,
          0.0000283,
          0.0000282,
          0.0000282,
          0.0000283,
          0.0000283,
          0.0000283,
          0.0000284,
          0.0000283,
          0.0000283,
          0.0000283,
          0.0000284,
          0.0000283,
          0.0000284,
          0.0000284,
          0.0000284,
          0.0000284,
          0.0000284,
          0.0000284,
          0.0000283,
          0.0000284,
          0.0000284,
          0.0000283,
          0.0000283,
          0.0000283,
          0.0000283,
          0.0000283,
          0.0000282,
          0.0000282,
          0.0000282,
          0.0000282,
          0.0000281,
          0.0000281,
          0.0000282,
          0.0000282,
          0.0000283,
          0.0000283,
          0.0000282,
          0.000028,
          0.0000279,
          0.000028,
          0.000028,
          0.0000281,
          0.0000281,
          0.0000282,
          0.0000283,
          0.0000283,
          0.0000283,
          0.0000283,
          0.0000283,
          0.0000283,
          0.0000282,
          0.0000281
         ],
         "name": "OHLC",
         "open": [
          0.0000283,
          0.0000283,
          0.0000284,
          0.0000283,
          0.0000284,
          0.0000284,
          0.0000282,
          0.0000283,
          0.0000283,
          0.0000282,
          0.0000282,
          0.0000283,
          0.0000283,
          0.0000283,
          0.0000284,
          0.0000284,
          0.0000283,
          0.0000283,
          0.0000284,
          0.0000283,
          0.0000284,
          0.0000284,
          0.0000284,
          0.0000284,
          0.0000284,
          0.0000284,
          0.0000284,
          0.0000284,
          0.0000284,
          0.0000283,
          0.0000284,
          0.0000283,
          0.0000283,
          0.0000283,
          0.0000283,
          0.0000282,
          0.0000282,
          0.0000282,
          0.0000281,
          0.0000281,
          0.0000282,
          0.0000283,
          0.0000283,
          0.0000283,
          0.0000282,
          0.0000282,
          0.0000279,
          0.000028,
          0.000028,
          0.0000281,
          0.0000281,
          0.0000282,
          0.0000283,
          0.0000283,
          0.0000283,
          0.0000283,
          0.0000283,
          0.0000283,
          0.0000283,
          0.0000282
         ],
         "type": "ohlc",
         "x": [
          "2021-12-17T10:45:00",
          "2021-12-17T10:47:00",
          "2021-12-17T10:48:00",
          "2021-12-17T10:50:00",
          "2021-12-17T10:51:00",
          "2021-12-17T10:52:00",
          "2021-12-17T10:54:00",
          "2021-12-17T10:55:00",
          "2021-12-17T10:57:00",
          "2021-12-17T10:58:00",
          "2021-12-17T11:01:00",
          "2021-12-17T11:03:00",
          "2021-12-17T11:06:00",
          "2021-12-17T11:07:00",
          "2021-12-17T11:08:00",
          "2021-12-17T11:10:00",
          "2021-12-17T11:13:00",
          "2021-12-17T11:16:00",
          "2021-12-17T11:19:00",
          "2021-12-17T11:20:00",
          "2021-12-17T11:21:00",
          "2021-12-17T11:24:00",
          "2021-12-17T11:27:00",
          "2021-12-17T11:31:00",
          "2021-12-17T11:32:00",
          "2021-12-17T11:33:00",
          "2021-12-17T11:34:00",
          "2021-12-17T11:35:00",
          "2021-12-17T11:36:00",
          "2021-12-17T11:37:00",
          "2021-12-17T11:41:00",
          "2021-12-17T11:42:00",
          "2021-12-17T11:43:00",
          "2021-12-17T11:45:00",
          "2021-12-17T11:48:00",
          "2021-12-17T11:50:00",
          "2021-12-17T11:51:00",
          "2021-12-17T11:52:00",
          "2021-12-17T11:53:00",
          "2021-12-17T11:54:00",
          "2021-12-17T11:56:00",
          "2021-12-17T11:57:00",
          "2021-12-17T11:58:00",
          "2021-12-17T12:02:00",
          "2021-12-17T12:05:00",
          "2021-12-17T12:11:00",
          "2021-12-17T12:12:00",
          "2021-12-17T12:14:00",
          "2021-12-17T12:16:00",
          "2021-12-17T12:17:00",
          "2021-12-17T12:18:00",
          "2021-12-17T12:20:00",
          "2021-12-17T12:25:00",
          "2021-12-17T12:27:00",
          "2021-12-17T12:31:00",
          "2021-12-17T12:34:00",
          "2021-12-17T12:35:00",
          "2021-12-17T12:39:00",
          "2021-12-17T12:40:00",
          "2021-12-17T12:41:00"
         ],
         "xaxis": "x",
         "yaxis": "y2"
        },
        {
         "line": {
          "color": "#A9B1F5"
         },
         "mode": "lines",
         "name": "MACD",
         "type": "scatter",
         "x": [
          "2021-12-17T10:45:00",
          "2021-12-17T10:47:00",
          "2021-12-17T10:48:00",
          "2021-12-17T10:50:00",
          "2021-12-17T10:51:00",
          "2021-12-17T10:52:00",
          "2021-12-17T10:54:00",
          "2021-12-17T10:55:00",
          "2021-12-17T10:57:00",
          "2021-12-17T10:58:00",
          "2021-12-17T11:01:00",
          "2021-12-17T11:03:00",
          "2021-12-17T11:06:00",
          "2021-12-17T11:07:00",
          "2021-12-17T11:08:00",
          "2021-12-17T11:10:00",
          "2021-12-17T11:13:00",
          "2021-12-17T11:16:00",
          "2021-12-17T11:19:00",
          "2021-12-17T11:20:00",
          "2021-12-17T11:21:00",
          "2021-12-17T11:24:00",
          "2021-12-17T11:27:00",
          "2021-12-17T11:31:00",
          "2021-12-17T11:32:00",
          "2021-12-17T11:33:00",
          "2021-12-17T11:34:00",
          "2021-12-17T11:35:00",
          "2021-12-17T11:36:00",
          "2021-12-17T11:37:00",
          "2021-12-17T11:41:00",
          "2021-12-17T11:42:00",
          "2021-12-17T11:43:00",
          "2021-12-17T11:45:00",
          "2021-12-17T11:48:00",
          "2021-12-17T11:50:00",
          "2021-12-17T11:51:00",
          "2021-12-17T11:52:00",
          "2021-12-17T11:53:00",
          "2021-12-17T11:54:00",
          "2021-12-17T11:56:00",
          "2021-12-17T11:57:00",
          "2021-12-17T11:58:00",
          "2021-12-17T12:02:00",
          "2021-12-17T12:05:00",
          "2021-12-17T12:11:00",
          "2021-12-17T12:12:00",
          "2021-12-17T12:14:00",
          "2021-12-17T12:16:00",
          "2021-12-17T12:17:00",
          "2021-12-17T12:18:00",
          "2021-12-17T12:20:00",
          "2021-12-17T12:25:00",
          "2021-12-17T12:27:00",
          "2021-12-17T12:31:00",
          "2021-12-17T12:34:00",
          "2021-12-17T12:35:00",
          "2021-12-17T12:39:00",
          "2021-12-17T12:40:00",
          "2021-12-17T12:41:00"
         ],
         "xaxis": "x",
         "y": [
          0,
          7.977207977208123e-9,
          1.4136248894084557e-8,
          1.0823403471194525e-8,
          1.6081733655865508e-8,
          1.2041032419855417e-8,
          8.73802111050665e-9,
          -1.926594828279265e-9,
          -2.2828996825593442e-9,
          -2.536039956624981e-9,
          5.271739486277223e-9,
          3.351660822037243e-9,
          9.786338098523154e-9,
          6.7390187214282885e-9,
          1.2251927828020945e-8,
          1.643153550038567e-8,
          1.154169495309128e-8,
          1.5556301989221076e-8,
          1.852436958745007e-8,
          1.2661466770249073e-8,
          1.5900942149703286e-8,
          1.8257785342729824e-8,
          1.989624898008526e-8,
          2.0953207681941645e-8,
          2.15425262354557e-8,
          2.1758744176407106e-8,
          1.3702974823288455e-8,
          1.5212523337818003e-8,
          1.6221855953612696e-8,
          8.850571183039992e-9,
          2.974486862132792e-9,
          -1.6631801911407907e-9,
          -5.277726398791226e-9,
          -8.049490790552286e-9,
          -1.0129368980217796e-8,
          -1.9620676747276848e-8,
          -2.6833289080474326e-8,
          -3.217840371098251e-8,
          -4.3976674105698495e-8,
          -4.474196659038255e-8,
          -3.6854466781053544e-8,
          -3.0254807764844933e-8,
          -2.473935061237493e-8,
          -2.0136193577106762e-8,
          -2.427746719816889e-8,
          -4.319980445457674e-8,
          -5.753269199786578e-8,
          -6.012931110445672e-8,
          -6.147846497879991e-8,
          -6.183488508002027e-8,
          -5.3432252565827206e-8,
          -4.624007891434876e-8,
          -3.2101024584398085e-8,
          -2.0657594273643928e-8,
          -1.145652956551814e-8,
          -4.117159443020867e-9,
          1.6799785098548848e-9,
          6.202750655155486e-9,
          1.6983385108201876e-9,
          -9.827321585296166e-9
         ],
         "yaxis": "y"
        },
        {
         "line": {
          "color": "#FFD1A3"
         },
         "mode": "lines",
         "name": "MACD Signal",
         "type": "scatter",
         "x": [
          "2021-12-17T10:45:00",
          "2021-12-17T10:47:00",
          "2021-12-17T10:48:00",
          "2021-12-17T10:50:00",
          "2021-12-17T10:51:00",
          "2021-12-17T10:52:00",
          "2021-12-17T10:54:00",
          "2021-12-17T10:55:00",
          "2021-12-17T10:57:00",
          "2021-12-17T10:58:00",
          "2021-12-17T11:01:00",
          "2021-12-17T11:03:00",
          "2021-12-17T11:06:00",
          "2021-12-17T11:07:00",
          "2021-12-17T11:08:00",
          "2021-12-17T11:10:00",
          "2021-12-17T11:13:00",
          "2021-12-17T11:16:00",
          "2021-12-17T11:19:00",
          "2021-12-17T11:20:00",
          "2021-12-17T11:21:00",
          "2021-12-17T11:24:00",
          "2021-12-17T11:27:00",
          "2021-12-17T11:31:00",
          "2021-12-17T11:32:00",
          "2021-12-17T11:33:00",
          "2021-12-17T11:34:00",
          "2021-12-17T11:35:00",
          "2021-12-17T11:36:00",
          "2021-12-17T11:37:00",
          "2021-12-17T11:41:00",
          "2021-12-17T11:42:00",
          "2021-12-17T11:43:00",
          "2021-12-17T11:45:00",
          "2021-12-17T11:48:00",
          "2021-12-17T11:50:00",
          "2021-12-17T11:51:00",
          "2021-12-17T11:52:00",
          "2021-12-17T11:53:00",
          "2021-12-17T11:54:00",
          "2021-12-17T11:56:00",
          "2021-12-17T11:57:00",
          "2021-12-17T11:58:00",
          "2021-12-17T12:02:00",
          "2021-12-17T12:05:00",
          "2021-12-17T12:11:00",
          "2021-12-17T12:12:00",
          "2021-12-17T12:14:00",
          "2021-12-17T12:16:00",
          "2021-12-17T12:17:00",
          "2021-12-17T12:18:00",
          "2021-12-17T12:20:00",
          "2021-12-17T12:25:00",
          "2021-12-17T12:27:00",
          "2021-12-17T12:31:00",
          "2021-12-17T12:34:00",
          "2021-12-17T12:35:00",
          "2021-12-17T12:39:00",
          "2021-12-17T12:40:00",
          "2021-12-17T12:41:00"
         ],
         "xaxis": "x",
         "y": [
          0,
          1.5954415954416247e-9,
          4.103603055170211e-9,
          5.447563138375074e-9,
          7.574397241873161e-9,
          8.467724277469613e-9,
          8.521783644077021e-9,
          6.432107949605765e-9,
          4.689106423172743e-9,
          3.2440771472131985e-9,
          3.649609615026004e-9,
          3.590019856428252e-9,
          4.829283504847233e-9,
          5.211230548163444e-9,
          6.6193700041349444e-9,
          8.58180310338509e-9,
          9.173781473326328e-9,
          1.0450285576505279e-8,
          1.2065102378694238e-8,
          1.2184375257005205e-8,
          1.2927688635544823e-8,
          1.3993707976981824e-8,
          1.5174216177602513e-8,
          1.6330014478470343e-8,
          1.7372516829867415e-8,
          1.8249762299175354e-8,
          1.7340404803997974e-8,
          1.691482851076198e-8,
          1.6776233999332124e-8,
          1.51911014360737e-8,
          1.274777852128552e-8,
          9.865586778800257e-9,
          6.83692414328196e-9,
          3.859641156515111e-9,
          1.0618391291685298e-9,
          -3.074664046120546e-9,
          -7.826389052991303e-9,
          -1.2696791984589543e-8,
          -1.8952768408811336e-8,
          -2.411060804512558e-8,
          -2.6659379792311174e-8,
          -2.7378465386817926e-8,
          -2.685064243192933e-8,
          -2.5507752660964816e-8,
          -2.5261695568405632e-8,
          -2.8849317345639855e-8,
          -3.458599227608504e-8,
          -3.969465604175938e-8,
          -4.4051417829167486e-8,
          -4.7608111279338043e-8,
          -4.877293953663588e-8,
          -4.826636741217845e-8,
          -4.503329884662239e-8,
          -4.0158157932026697e-8,
          -3.4417832258724986e-8,
          -2.8357697695584165e-8,
          -2.2350162454496357e-8,
          -1.663957983256599e-8,
          -1.2971996163888754e-8,
          -1.2343061248170237e-8
         ],
         "yaxis": "y"
        }
       ],
       "layout": {
        "hovermode": "x unified",
        "legend": {
         "x": 0.94,
         "xanchor": "right",
         "y": 0.99,
         "yanchor": "top"
        },
        "margin": {
         "b": 100,
         "l": 50,
         "pad": 4,
         "r": 50,
         "t": 100
        },
        "shapes": [
         {
          "line": {
           "color": "#3FFA68",
           "width": 1
          },
          "opacity": 1,
          "type": "rect",
          "x0": "2021-12-17T10:45:00",
          "x1": "2021-12-17T10:55:00",
          "xref": "x",
          "y0": 0,
          "y1": 1,
          "yref": "y domain"
         },
         {
          "line": {
           "color": "#D61170",
           "width": 1
          },
          "opacity": 1,
          "type": "rect",
          "x0": "2021-12-17T10:55:00",
          "x1": "2021-12-17T11:01:00",
          "xref": "x",
          "y0": 0,
          "y1": 1,
          "yref": "y domain"
         },
         {
          "line": {
           "color": "#3FFA68",
           "width": 1
          },
          "opacity": 1,
          "type": "rect",
          "x0": "2021-12-17T11:01:00",
          "x1": "2021-12-17T11:03:00",
          "xref": "x",
          "y0": 0,
          "y1": 1,
          "yref": "y domain"
         },
         {
          "line": {
           "color": "#D61170",
           "width": 1
          },
          "opacity": 1,
          "type": "rect",
          "x0": "2021-12-17T11:03:00",
          "x1": "2021-12-17T11:06:00",
          "xref": "x",
          "y0": 0,
          "y1": 1,
          "yref": "y domain"
         },
         {
          "line": {
           "color": "#3FFA68",
           "width": 1
          },
          "opacity": 1,
          "type": "rect",
          "x0": "2021-12-17T11:06:00",
          "x1": "2021-12-17T11:34:00",
          "xref": "x",
          "y0": 0,
          "y1": 1,
          "yref": "y domain"
         },
         {
          "line": {
           "color": "#D61170",
           "width": 1
          },
          "opacity": 1,
          "type": "rect",
          "x0": "2021-12-17T11:34:00",
          "x1": "2021-12-17T11:58:00",
          "xref": "x",
          "y0": 0,
          "y1": 1,
          "yref": "y domain"
         },
         {
          "line": {
           "color": "#3FFA68",
           "width": 1
          },
          "opacity": 1,
          "type": "rect",
          "x0": "2021-12-17T11:58:00",
          "x1": "2021-12-17T12:11:00",
          "xref": "x",
          "y0": 0,
          "y1": 1,
          "yref": "y domain"
         },
         {
          "line": {
           "color": "#D61170",
           "width": 1
          },
          "opacity": 1,
          "type": "rect",
          "x0": "2021-12-17T12:11:00",
          "x1": "2021-12-17T12:20:00",
          "xref": "x",
          "y0": 0,
          "y1": 1,
          "yref": "y domain"
         },
         {
          "line": {
           "color": "#3FFA68",
           "width": 1
          },
          "opacity": 1,
          "type": "rect",
          "x0": "2021-12-17T12:20:00",
          "x1": "2021-12-17T13:43:40.386424",
          "xref": "x",
          "y0": 0,
          "y1": 1,
          "yref": "y domain"
         }
        ],
        "template": {
         "data": {
          "bar": [
           {
            "error_x": {
             "color": "#2a3f5f"
            },
            "error_y": {
             "color": "#2a3f5f"
            },
            "marker": {
             "line": {
              "color": "#E5ECF6",
              "width": 0.5
             }
            },
            "type": "bar"
           }
          ],
          "barpolar": [
           {
            "marker": {
             "line": {
              "color": "#E5ECF6",
              "width": 0.5
             }
            },
            "type": "barpolar"
           }
          ],
          "carpet": [
           {
            "aaxis": {
             "endlinecolor": "#2a3f5f",
             "gridcolor": "white",
             "linecolor": "white",
             "minorgridcolor": "white",
             "startlinecolor": "#2a3f5f"
            },
            "baxis": {
             "endlinecolor": "#2a3f5f",
             "gridcolor": "white",
             "linecolor": "white",
             "minorgridcolor": "white",
             "startlinecolor": "#2a3f5f"
            },
            "type": "carpet"
           }
          ],
          "choropleth": [
           {
            "colorbar": {
             "outlinewidth": 0,
             "ticks": ""
            },
            "type": "choropleth"
           }
          ],
          "contour": [
           {
            "colorbar": {
             "outlinewidth": 0,
             "ticks": ""
            },
            "colorscale": [
             [
              0,
              "#0d0887"
             ],
             [
              0.1111111111111111,
              "#46039f"
             ],
             [
              0.2222222222222222,
              "#7201a8"
             ],
             [
              0.3333333333333333,
              "#9c179e"
             ],
             [
              0.4444444444444444,
              "#bd3786"
             ],
             [
              0.5555555555555556,
              "#d8576b"
             ],
             [
              0.6666666666666666,
              "#ed7953"
             ],
             [
              0.7777777777777778,
              "#fb9f3a"
             ],
             [
              0.8888888888888888,
              "#fdca26"
             ],
             [
              1,
              "#f0f921"
             ]
            ],
            "type": "contour"
           }
          ],
          "contourcarpet": [
           {
            "colorbar": {
             "outlinewidth": 0,
             "ticks": ""
            },
            "type": "contourcarpet"
           }
          ],
          "heatmap": [
           {
            "colorbar": {
             "outlinewidth": 0,
             "ticks": ""
            },
            "colorscale": [
             [
              0,
              "#0d0887"
             ],
             [
              0.1111111111111111,
              "#46039f"
             ],
             [
              0.2222222222222222,
              "#7201a8"
             ],
             [
              0.3333333333333333,
              "#9c179e"
             ],
             [
              0.4444444444444444,
              "#bd3786"
             ],
             [
              0.5555555555555556,
              "#d8576b"
             ],
             [
              0.6666666666666666,
              "#ed7953"
             ],
             [
              0.7777777777777778,
              "#fb9f3a"
             ],
             [
              0.8888888888888888,
              "#fdca26"
             ],
             [
              1,
              "#f0f921"
             ]
            ],
            "type": "heatmap"
           }
          ],
          "heatmapgl": [
           {
            "colorbar": {
             "outlinewidth": 0,
             "ticks": ""
            },
            "colorscale": [
             [
              0,
              "#0d0887"
             ],
             [
              0.1111111111111111,
              "#46039f"
             ],
             [
              0.2222222222222222,
              "#7201a8"
             ],
             [
              0.3333333333333333,
              "#9c179e"
             ],
             [
              0.4444444444444444,
              "#bd3786"
             ],
             [
              0.5555555555555556,
              "#d8576b"
             ],
             [
              0.6666666666666666,
              "#ed7953"
             ],
             [
              0.7777777777777778,
              "#fb9f3a"
             ],
             [
              0.8888888888888888,
              "#fdca26"
             ],
             [
              1,
              "#f0f921"
             ]
            ],
            "type": "heatmapgl"
           }
          ],
          "histogram": [
           {
            "marker": {
             "colorbar": {
              "outlinewidth": 0,
              "ticks": ""
             }
            },
            "type": "histogram"
           }
          ],
          "histogram2d": [
           {
            "colorbar": {
             "outlinewidth": 0,
             "ticks": ""
            },
            "colorscale": [
             [
              0,
              "#0d0887"
             ],
             [
              0.1111111111111111,
              "#46039f"
             ],
             [
              0.2222222222222222,
              "#7201a8"
             ],
             [
              0.3333333333333333,
              "#9c179e"
             ],
             [
              0.4444444444444444,
              "#bd3786"
             ],
             [
              0.5555555555555556,
              "#d8576b"
             ],
             [
              0.6666666666666666,
              "#ed7953"
             ],
             [
              0.7777777777777778,
              "#fb9f3a"
             ],
             [
              0.8888888888888888,
              "#fdca26"
             ],
             [
              1,
              "#f0f921"
             ]
            ],
            "type": "histogram2d"
           }
          ],
          "histogram2dcontour": [
           {
            "colorbar": {
             "outlinewidth": 0,
             "ticks": ""
            },
            "colorscale": [
             [
              0,
              "#0d0887"
             ],
             [
              0.1111111111111111,
              "#46039f"
             ],
             [
              0.2222222222222222,
              "#7201a8"
             ],
             [
              0.3333333333333333,
              "#9c179e"
             ],
             [
              0.4444444444444444,
              "#bd3786"
             ],
             [
              0.5555555555555556,
              "#d8576b"
             ],
             [
              0.6666666666666666,
              "#ed7953"
             ],
             [
              0.7777777777777778,
              "#fb9f3a"
             ],
             [
              0.8888888888888888,
              "#fdca26"
             ],
             [
              1,
              "#f0f921"
             ]
            ],
            "type": "histogram2dcontour"
           }
          ],
          "mesh3d": [
           {
            "colorbar": {
             "outlinewidth": 0,
             "ticks": ""
            },
            "type": "mesh3d"
           }
          ],
          "parcoords": [
           {
            "line": {
             "colorbar": {
              "outlinewidth": 0,
              "ticks": ""
             }
            },
            "type": "parcoords"
           }
          ],
          "pie": [
           {
            "automargin": true,
            "type": "pie"
           }
          ],
          "scatter": [
           {
            "marker": {
             "colorbar": {
              "outlinewidth": 0,
              "ticks": ""
             }
            },
            "type": "scatter"
           }
          ],
          "scatter3d": [
           {
            "line": {
             "colorbar": {
              "outlinewidth": 0,
              "ticks": ""
             }
            },
            "marker": {
             "colorbar": {
              "outlinewidth": 0,
              "ticks": ""
             }
            },
            "type": "scatter3d"
           }
          ],
          "scattercarpet": [
           {
            "marker": {
             "colorbar": {
              "outlinewidth": 0,
              "ticks": ""
             }
            },
            "type": "scattercarpet"
           }
          ],
          "scattergeo": [
           {
            "marker": {
             "colorbar": {
              "outlinewidth": 0,
              "ticks": ""
             }
            },
            "type": "scattergeo"
           }
          ],
          "scattergl": [
           {
            "marker": {
             "colorbar": {
              "outlinewidth": 0,
              "ticks": ""
             }
            },
            "type": "scattergl"
           }
          ],
          "scattermapbox": [
           {
            "marker": {
             "colorbar": {
              "outlinewidth": 0,
              "ticks": ""
             }
            },
            "type": "scattermapbox"
           }
          ],
          "scatterpolar": [
           {
            "marker": {
             "colorbar": {
              "outlinewidth": 0,
              "ticks": ""
             }
            },
            "type": "scatterpolar"
           }
          ],
          "scatterpolargl": [
           {
            "marker": {
             "colorbar": {
              "outlinewidth": 0,
              "ticks": ""
             }
            },
            "type": "scatterpolargl"
           }
          ],
          "scatterternary": [
           {
            "marker": {
             "colorbar": {
              "outlinewidth": 0,
              "ticks": ""
             }
            },
            "type": "scatterternary"
           }
          ],
          "surface": [
           {
            "colorbar": {
             "outlinewidth": 0,
             "ticks": ""
            },
            "colorscale": [
             [
              0,
              "#0d0887"
             ],
             [
              0.1111111111111111,
              "#46039f"
             ],
             [
              0.2222222222222222,
              "#7201a8"
             ],
             [
              0.3333333333333333,
              "#9c179e"
             ],
             [
              0.4444444444444444,
              "#bd3786"
             ],
             [
              0.5555555555555556,
              "#d8576b"
             ],
             [
              0.6666666666666666,
              "#ed7953"
             ],
             [
              0.7777777777777778,
              "#fb9f3a"
             ],
             [
              0.8888888888888888,
              "#fdca26"
             ],
             [
              1,
              "#f0f921"
             ]
            ],
            "type": "surface"
           }
          ],
          "table": [
           {
            "cells": {
             "fill": {
              "color": "#EBF0F8"
             },
             "line": {
              "color": "white"
             }
            },
            "header": {
             "fill": {
              "color": "#C8D4E3"
             },
             "line": {
              "color": "white"
             }
            },
            "type": "table"
           }
          ]
         },
         "layout": {
          "annotationdefaults": {
           "arrowcolor": "#2a3f5f",
           "arrowhead": 0,
           "arrowwidth": 1
          },
          "autotypenumbers": "strict",
          "coloraxis": {
           "colorbar": {
            "outlinewidth": 0,
            "ticks": ""
           }
          },
          "colorscale": {
           "diverging": [
            [
             0,
             "#8e0152"
            ],
            [
             0.1,
             "#c51b7d"
            ],
            [
             0.2,
             "#de77ae"
            ],
            [
             0.3,
             "#f1b6da"
            ],
            [
             0.4,
             "#fde0ef"
            ],
            [
             0.5,
             "#f7f7f7"
            ],
            [
             0.6,
             "#e6f5d0"
            ],
            [
             0.7,
             "#b8e186"
            ],
            [
             0.8,
             "#7fbc41"
            ],
            [
             0.9,
             "#4d9221"
            ],
            [
             1,
             "#276419"
            ]
           ],
           "sequential": [
            [
             0,
             "#0d0887"
            ],
            [
             0.1111111111111111,
             "#46039f"
            ],
            [
             0.2222222222222222,
             "#7201a8"
            ],
            [
             0.3333333333333333,
             "#9c179e"
            ],
            [
             0.4444444444444444,
             "#bd3786"
            ],
            [
             0.5555555555555556,
             "#d8576b"
            ],
            [
             0.6666666666666666,
             "#ed7953"
            ],
            [
             0.7777777777777778,
             "#fb9f3a"
            ],
            [
             0.8888888888888888,
             "#fdca26"
            ],
            [
             1,
             "#f0f921"
            ]
           ],
           "sequentialminus": [
            [
             0,
             "#0d0887"
            ],
            [
             0.1111111111111111,
             "#46039f"
            ],
            [
             0.2222222222222222,
             "#7201a8"
            ],
            [
             0.3333333333333333,
             "#9c179e"
            ],
            [
             0.4444444444444444,
             "#bd3786"
            ],
            [
             0.5555555555555556,
             "#d8576b"
            ],
            [
             0.6666666666666666,
             "#ed7953"
            ],
            [
             0.7777777777777778,
             "#fb9f3a"
            ],
            [
             0.8888888888888888,
             "#fdca26"
            ],
            [
             1,
             "#f0f921"
            ]
           ]
          },
          "colorway": [
           "#636efa",
           "#EF553B",
           "#00cc96",
           "#ab63fa",
           "#FFA15A",
           "#19d3f3",
           "#FF6692",
           "#B6E880",
           "#FF97FF",
           "#FECB52"
          ],
          "font": {
           "color": "#2a3f5f"
          },
          "geo": {
           "bgcolor": "white",
           "lakecolor": "white",
           "landcolor": "#E5ECF6",
           "showlakes": true,
           "showland": true,
           "subunitcolor": "white"
          },
          "hoverlabel": {
           "align": "left"
          },
          "hovermode": "closest",
          "mapbox": {
           "style": "light"
          },
          "paper_bgcolor": "white",
          "plot_bgcolor": "#E5ECF6",
          "polar": {
           "angularaxis": {
            "gridcolor": "white",
            "linecolor": "white",
            "ticks": ""
           },
           "bgcolor": "#E5ECF6",
           "radialaxis": {
            "gridcolor": "white",
            "linecolor": "white",
            "ticks": ""
           }
          },
          "scene": {
           "xaxis": {
            "backgroundcolor": "#E5ECF6",
            "gridcolor": "white",
            "gridwidth": 2,
            "linecolor": "white",
            "showbackground": true,
            "ticks": "",
            "zerolinecolor": "white"
           },
           "yaxis": {
            "backgroundcolor": "#E5ECF6",
            "gridcolor": "white",
            "gridwidth": 2,
            "linecolor": "white",
            "showbackground": true,
            "ticks": "",
            "zerolinecolor": "white"
           },
           "zaxis": {
            "backgroundcolor": "#E5ECF6",
            "gridcolor": "white",
            "gridwidth": 2,
            "linecolor": "white",
            "showbackground": true,
            "ticks": "",
            "zerolinecolor": "white"
           }
          },
          "shapedefaults": {
           "line": {
            "color": "#2a3f5f"
           }
          },
          "ternary": {
           "aaxis": {
            "gridcolor": "white",
            "linecolor": "white",
            "ticks": ""
           },
           "baxis": {
            "gridcolor": "white",
            "linecolor": "white",
            "ticks": ""
           },
           "bgcolor": "#E5ECF6",
           "caxis": {
            "gridcolor": "white",
            "linecolor": "white",
            "ticks": ""
           }
          },
          "title": {
           "x": 0.05
          },
          "xaxis": {
           "automargin": true,
           "gridcolor": "white",
           "linecolor": "white",
           "ticks": "",
           "title": {
            "standoff": 15
           },
           "zerolinecolor": "white",
           "zerolinewidth": 2
          },
          "yaxis": {
           "automargin": true,
           "gridcolor": "white",
           "linecolor": "white",
           "ticks": "",
           "title": {
            "standoff": 15
           },
           "zerolinecolor": "white",
           "zerolinewidth": 2
          }
         }
        },
        "title": {
         "text": "OHLC Chart for SHIB with time interval 1min"
        },
        "xaxis": {
         "anchor": "y",
         "domain": [
          0,
          0.94
         ],
         "rangeselector": {
          "buttons": [
           {
            "count": 1,
            "label": "1m",
            "step": "month",
            "stepmode": "backward"
           },
           {
            "count": 6,
            "label": "6m",
            "step": "month",
            "stepmode": "backward"
           },
           {
            "count": 1,
            "label": "YTD",
            "step": "year",
            "stepmode": "todate"
           },
           {
            "count": 1,
            "label": "1y",
            "step": "year",
            "stepmode": "backward"
           },
           {
            "step": "all"
           }
          ]
         },
         "rangeslider": {
          "visible": true
         },
         "tickformat": "%d %b %H:%M",
         "type": "date"
        },
        "yaxis": {
         "anchor": "x",
         "domain": [
          0,
          1
         ],
         "range": [
          -6.183488508002027e-8,
          2.1758744176407106e-8
         ],
         "showgrid": false,
         "showticklabels": false,
         "zeroline": false
        },
        "yaxis2": {
         "anchor": "x",
         "overlaying": "y",
         "side": "right"
        }
       }
      }
     },
     "metadata": {},
     "output_type": "display_data"
    },
    {
     "data": {
      "application/vnd.plotly.v1+json": {
       "config": {
        "plotlyServerURL": "https://plot.ly"
       },
       "data": [
        {
         "close": [
          2.725,
          2.724,
          2.735,
          2.735,
          2.729,
          2.733,
          2.734,
          2.722,
          2.716,
          2.714,
          2.716,
          2.715,
          2.721,
          2.719,
          2.721,
          2.718,
          2.727,
          2.729,
          2.727,
          2.723,
          2.727,
          2.731,
          2.74,
          2.74,
          2.741,
          2.743,
          2.743,
          2.738,
          2.74,
          2.735,
          2.732,
          2.732,
          2.732,
          2.733,
          2.735,
          2.735,
          2.74,
          2.74,
          2.74,
          2.745,
          2.744,
          2.746,
          2.746,
          2.745,
          2.744,
          2.736,
          2.742,
          2.741,
          2.738,
          2.732,
          2.732,
          2.732,
          2.731,
          2.733,
          2.732,
          2.729,
          2.725,
          2.73,
          2.732,
          2.726,
          2.726,
          2.72,
          2.721,
          2.715,
          2.717,
          2.712,
          2.716,
          2.716,
          2.717,
          2.718,
          2.719,
          2.72,
          2.729,
          2.728,
          2.726,
          2.723,
          2.722,
          2.717,
          2.715,
          2.714,
          2.71,
          2.714,
          2.705,
          2.709,
          2.711,
          2.716,
          2.717,
          2.721,
          2.725,
          2.729,
          2.731,
          2.72,
          2.723,
          2.731,
          2.736,
          2.734,
          2.735,
          2.739,
          2.737,
          2.732,
          2.733,
          2.73,
          2.725,
          2.728,
          2.732,
          2.736,
          2.732,
          2.73,
          2.723,
          2.721
         ],
         "decreasing": {
          "line": {
           "color": "gray"
          }
         },
         "high": [
          2.726,
          2.726,
          2.735,
          2.737,
          2.735,
          2.734,
          2.735,
          2.733,
          2.717,
          2.717,
          2.72,
          2.716,
          2.721,
          2.721,
          2.725,
          2.723,
          2.727,
          2.73,
          2.728,
          2.729,
          2.727,
          2.732,
          2.74,
          2.743,
          2.747,
          2.743,
          2.743,
          2.739,
          2.74,
          2.74,
          2.734,
          2.732,
          2.733,
          2.733,
          2.736,
          2.735,
          2.74,
          2.741,
          2.743,
          2.745,
          2.744,
          2.749,
          2.747,
          2.745,
          2.744,
          2.744,
          2.742,
          2.751,
          2.742,
          2.737,
          2.732,
          2.732,
          2.732,
          2.733,
          2.732,
          2.731,
          2.726,
          2.733,
          2.732,
          2.732,
          2.728,
          2.724,
          2.724,
          2.72,
          2.717,
          2.712,
          2.716,
          2.718,
          2.718,
          2.718,
          2.719,
          2.721,
          2.73,
          2.728,
          2.728,
          2.727,
          2.722,
          2.723,
          2.716,
          2.716,
          2.712,
          2.715,
          2.712,
          2.709,
          2.713,
          2.716,
          2.717,
          2.723,
          2.726,
          2.731,
          2.731,
          2.726,
          2.724,
          2.736,
          2.737,
          2.736,
          2.735,
          2.739,
          2.738,
          2.732,
          2.733,
          2.731,
          2.726,
          2.728,
          2.732,
          2.736,
          2.737,
          2.73,
          2.725,
          2.725
         ],
         "increasing": {
          "line": {
           "color": "cyan"
          }
         },
         "low": [
          2.72,
          2.723,
          2.728,
          2.735,
          2.728,
          2.728,
          2.734,
          2.722,
          2.714,
          2.714,
          2.716,
          2.713,
          2.712,
          2.718,
          2.721,
          2.714,
          2.722,
          2.729,
          2.726,
          2.723,
          2.72,
          2.729,
          2.729,
          2.74,
          2.74,
          2.737,
          2.741,
          2.735,
          2.737,
          2.735,
          2.731,
          2.732,
          2.732,
          2.733,
          2.73,
          2.735,
          2.737,
          2.74,
          2.74,
          2.74,
          2.744,
          2.745,
          2.745,
          2.742,
          2.744,
          2.736,
          2.737,
          2.741,
          2.737,
          2.729,
          2.73,
          2.728,
          2.73,
          2.73,
          2.73,
          2.728,
          2.722,
          2.725,
          2.729,
          2.726,
          2.726,
          2.72,
          2.717,
          2.713,
          2.712,
          2.709,
          2.712,
          2.716,
          2.717,
          2.715,
          2.718,
          2.72,
          2.728,
          2.727,
          2.726,
          2.723,
          2.716,
          2.717,
          2.715,
          2.71,
          2.71,
          2.709,
          2.705,
          2.701,
          2.711,
          2.711,
          2.71,
          2.718,
          2.724,
          2.728,
          2.728,
          2.72,
          2.721,
          2.721,
          2.732,
          2.734,
          2.731,
          2.734,
          2.736,
          2.732,
          2.73,
          2.73,
          2.724,
          2.723,
          2.728,
          2.732,
          2.732,
          2.728,
          2.723,
          2.721
         ],
         "name": "OHLC",
         "open": [
          2.72,
          2.726,
          2.728,
          2.736,
          2.735,
          2.728,
          2.735,
          2.733,
          2.716,
          2.715,
          2.718,
          2.715,
          2.712,
          2.721,
          2.725,
          2.72,
          2.722,
          2.73,
          2.728,
          2.729,
          2.721,
          2.729,
          2.729,
          2.742,
          2.746,
          2.737,
          2.743,
          2.738,
          2.738,
          2.74,
          2.732,
          2.732,
          2.733,
          2.733,
          2.731,
          2.735,
          2.737,
          2.74,
          2.743,
          2.74,
          2.744,
          2.745,
          2.745,
          2.742,
          2.744,
          2.744,
          2.737,
          2.741,
          2.741,
          2.737,
          2.731,
          2.73,
          2.73,
          2.73,
          2.731,
          2.731,
          2.726,
          2.725,
          2.729,
          2.73,
          2.728,
          2.724,
          2.717,
          2.716,
          2.713,
          2.71,
          2.713,
          2.718,
          2.717,
          2.715,
          2.718,
          2.721,
          2.728,
          2.728,
          2.728,
          2.727,
          2.722,
          2.722,
          2.716,
          2.716,
          2.712,
          2.709,
          2.71,
          2.706,
          2.713,
          2.714,
          2.713,
          2.718,
          2.726,
          2.728,
          2.729,
          2.726,
          2.721,
          2.721,
          2.734,
          2.734,
          2.733,
          2.736,
          2.738,
          2.732,
          2.73,
          2.73,
          2.726,
          2.723,
          2.728,
          2.732,
          2.736,
          2.73,
          2.725,
          2.725
         ],
         "type": "ohlc",
         "x": [
          "2021-12-17T10:44:00",
          "2021-12-17T10:45:00",
          "2021-12-17T10:47:00",
          "2021-12-17T10:48:00",
          "2021-12-17T10:49:00",
          "2021-12-17T10:50:00",
          "2021-12-17T10:51:00",
          "2021-12-17T10:52:00",
          "2021-12-17T10:53:00",
          "2021-12-17T10:54:00",
          "2021-12-17T10:55:00",
          "2021-12-17T10:56:00",
          "2021-12-17T10:57:00",
          "2021-12-17T10:58:00",
          "2021-12-17T10:59:00",
          "2021-12-17T11:00:00",
          "2021-12-17T11:01:00",
          "2021-12-17T11:02:00",
          "2021-12-17T11:03:00",
          "2021-12-17T11:04:00",
          "2021-12-17T11:05:00",
          "2021-12-17T11:06:00",
          "2021-12-17T11:07:00",
          "2021-12-17T11:09:00",
          "2021-12-17T11:10:00",
          "2021-12-17T11:11:00",
          "2021-12-17T11:12:00",
          "2021-12-17T11:13:00",
          "2021-12-17T11:14:00",
          "2021-12-17T11:15:00",
          "2021-12-17T11:16:00",
          "2021-12-17T11:17:00",
          "2021-12-17T11:18:00",
          "2021-12-17T11:19:00",
          "2021-12-17T11:20:00",
          "2021-12-17T11:21:00",
          "2021-12-17T11:22:00",
          "2021-12-17T11:23:00",
          "2021-12-17T11:24:00",
          "2021-12-17T11:25:00",
          "2021-12-17T11:26:00",
          "2021-12-17T11:27:00",
          "2021-12-17T11:28:00",
          "2021-12-17T11:29:00",
          "2021-12-17T11:30:00",
          "2021-12-17T11:31:00",
          "2021-12-17T11:32:00",
          "2021-12-17T11:33:00",
          "2021-12-17T11:34:00",
          "2021-12-17T11:35:00",
          "2021-12-17T11:36:00",
          "2021-12-17T11:37:00",
          "2021-12-17T11:38:00",
          "2021-12-17T11:39:00",
          "2021-12-17T11:40:00",
          "2021-12-17T11:41:00",
          "2021-12-17T11:42:00",
          "2021-12-17T11:43:00",
          "2021-12-17T11:44:00",
          "2021-12-17T11:45:00",
          "2021-12-17T11:46:00",
          "2021-12-17T11:48:00",
          "2021-12-17T11:49:00",
          "2021-12-17T11:50:00",
          "2021-12-17T11:51:00",
          "2021-12-17T11:52:00",
          "2021-12-17T11:53:00",
          "2021-12-17T11:54:00",
          "2021-12-17T11:55:00",
          "2021-12-17T11:56:00",
          "2021-12-17T11:58:00",
          "2021-12-17T11:59:00",
          "2021-12-17T12:01:00",
          "2021-12-17T12:02:00",
          "2021-12-17T12:03:00",
          "2021-12-17T12:04:00",
          "2021-12-17T12:05:00",
          "2021-12-17T12:06:00",
          "2021-12-17T12:07:00",
          "2021-12-17T12:08:00",
          "2021-12-17T12:09:00",
          "2021-12-17T12:10:00",
          "2021-12-17T12:11:00",
          "2021-12-17T12:12:00",
          "2021-12-17T12:13:00",
          "2021-12-17T12:14:00",
          "2021-12-17T12:15:00",
          "2021-12-17T12:16:00",
          "2021-12-17T12:17:00",
          "2021-12-17T12:18:00",
          "2021-12-17T12:19:00",
          "2021-12-17T12:20:00",
          "2021-12-17T12:21:00",
          "2021-12-17T12:23:00",
          "2021-12-17T12:24:00",
          "2021-12-17T12:25:00",
          "2021-12-17T12:26:00",
          "2021-12-17T12:27:00",
          "2021-12-17T12:28:00",
          "2021-12-17T12:29:00",
          "2021-12-17T12:31:00",
          "2021-12-17T12:33:00",
          "2021-12-17T12:34:00",
          "2021-12-17T12:35:00",
          "2021-12-17T12:36:00",
          "2021-12-17T12:37:00",
          "2021-12-17T12:39:00",
          "2021-12-17T12:40:00",
          "2021-12-17T12:41:00",
          "2021-12-17T12:42:00"
         ],
         "xaxis": "x",
         "yaxis": "y2"
        },
        {
         "line": {
          "color": "#A9B1F5"
         },
         "mode": "lines",
         "name": "MACD",
         "type": "scatter",
         "x": [
          "2021-12-17T10:44:00",
          "2021-12-17T10:45:00",
          "2021-12-17T10:47:00",
          "2021-12-17T10:48:00",
          "2021-12-17T10:49:00",
          "2021-12-17T10:50:00",
          "2021-12-17T10:51:00",
          "2021-12-17T10:52:00",
          "2021-12-17T10:53:00",
          "2021-12-17T10:54:00",
          "2021-12-17T10:55:00",
          "2021-12-17T10:56:00",
          "2021-12-17T10:57:00",
          "2021-12-17T10:58:00",
          "2021-12-17T10:59:00",
          "2021-12-17T11:00:00",
          "2021-12-17T11:01:00",
          "2021-12-17T11:02:00",
          "2021-12-17T11:03:00",
          "2021-12-17T11:04:00",
          "2021-12-17T11:05:00",
          "2021-12-17T11:06:00",
          "2021-12-17T11:07:00",
          "2021-12-17T11:09:00",
          "2021-12-17T11:10:00",
          "2021-12-17T11:11:00",
          "2021-12-17T11:12:00",
          "2021-12-17T11:13:00",
          "2021-12-17T11:14:00",
          "2021-12-17T11:15:00",
          "2021-12-17T11:16:00",
          "2021-12-17T11:17:00",
          "2021-12-17T11:18:00",
          "2021-12-17T11:19:00",
          "2021-12-17T11:20:00",
          "2021-12-17T11:21:00",
          "2021-12-17T11:22:00",
          "2021-12-17T11:23:00",
          "2021-12-17T11:24:00",
          "2021-12-17T11:25:00",
          "2021-12-17T11:26:00",
          "2021-12-17T11:27:00",
          "2021-12-17T11:28:00",
          "2021-12-17T11:29:00",
          "2021-12-17T11:30:00",
          "2021-12-17T11:31:00",
          "2021-12-17T11:32:00",
          "2021-12-17T11:33:00",
          "2021-12-17T11:34:00",
          "2021-12-17T11:35:00",
          "2021-12-17T11:36:00",
          "2021-12-17T11:37:00",
          "2021-12-17T11:38:00",
          "2021-12-17T11:39:00",
          "2021-12-17T11:40:00",
          "2021-12-17T11:41:00",
          "2021-12-17T11:42:00",
          "2021-12-17T11:43:00",
          "2021-12-17T11:44:00",
          "2021-12-17T11:45:00",
          "2021-12-17T11:46:00",
          "2021-12-17T11:48:00",
          "2021-12-17T11:49:00",
          "2021-12-17T11:50:00",
          "2021-12-17T11:51:00",
          "2021-12-17T11:52:00",
          "2021-12-17T11:53:00",
          "2021-12-17T11:54:00",
          "2021-12-17T11:55:00",
          "2021-12-17T11:56:00",
          "2021-12-17T11:58:00",
          "2021-12-17T11:59:00",
          "2021-12-17T12:01:00",
          "2021-12-17T12:02:00",
          "2021-12-17T12:03:00",
          "2021-12-17T12:04:00",
          "2021-12-17T12:05:00",
          "2021-12-17T12:06:00",
          "2021-12-17T12:07:00",
          "2021-12-17T12:08:00",
          "2021-12-17T12:09:00",
          "2021-12-17T12:10:00",
          "2021-12-17T12:11:00",
          "2021-12-17T12:12:00",
          "2021-12-17T12:13:00",
          "2021-12-17T12:14:00",
          "2021-12-17T12:15:00",
          "2021-12-17T12:16:00",
          "2021-12-17T12:17:00",
          "2021-12-17T12:18:00",
          "2021-12-17T12:19:00",
          "2021-12-17T12:20:00",
          "2021-12-17T12:21:00",
          "2021-12-17T12:23:00",
          "2021-12-17T12:24:00",
          "2021-12-17T12:25:00",
          "2021-12-17T12:26:00",
          "2021-12-17T12:27:00",
          "2021-12-17T12:28:00",
          "2021-12-17T12:29:00",
          "2021-12-17T12:31:00",
          "2021-12-17T12:33:00",
          "2021-12-17T12:34:00",
          "2021-12-17T12:35:00",
          "2021-12-17T12:36:00",
          "2021-12-17T12:37:00",
          "2021-12-17T12:39:00",
          "2021-12-17T12:40:00",
          "2021-12-17T12:41:00",
          "2021-12-17T12:42:00"
         ],
         "xaxis": "x",
         "y": [
          0,
          -0.0000797720797720558,
          0.0007361303885522474,
          0.0013669812638652523,
          0.0013670270349637192,
          0.0016705725589303277,
          0.001969127341993726,
          0.0012233326296700042,
          0.00014644694189902552,
          -0.0008584799866042658,
          -0.0014764884919946653,
          -0.0020236291900412873,
          -0.0019506068971715251,
          -0.0020307107201689156,
          -0.0019107839635981172,
          -0.0020343651775256433,
          -0.0013900556992352264,
          -0.0007098695757972173,
          -0.00032841469759592457,
          -0.00034489973948836905,
          -0.000034796570150597006,
          0.0005276466146031389,
          0.001680242880554239,
          0.0025641260760362883,
          0.003307178424906798,
          0.004011197462626903,
          0.004517067677790365,
          0.004463067787360053,
          0.004529443169075442,
          0.0041309686884360985,
          0.0035323807769551685,
          0.0030231465924397405,
          0.0025897221277344507,
          0.002300404132564271,
          0.0022070592174587844,
          0.002108774064969232,
          0.0024065988137023098,
          0.0026125116645481228,
          0.002744067183991117,
          0.0032147267256177336,
          0.00346706993657131,
          0.0037848081225142494,
          0.003990616580190398,
          0.00402661333101717,
          0.00392915650239356,
          0.0031698480867783374,
          0.0030174571846659504,
          0.002783903547003419,
          0.0023298782918890204,
          0.0014689767012217025,
          0.0007777406777509377,
          0.00022731085106864057,
          -0.00028630010546093487,
          -0.0005258950132214224,
          -0.0007873907955042725,
          -0.001222609533241048,
          -0.0018687483216872636,
          -0.0019548257391690527,
          -0.001840443935325009,
          -0.002208487320514596,
          -0.00247167245340707,
          -0.0031283369027850227,
          -0.00352739495397536,
          -0.004278481518822375,
          -0.004658637869983995,
          -0.005302251673657832,
          -0.0054269946631611,
          -0.005462881681567833,
          -0.005348971149760295,
          -0.005118995990654351,
          -0.004800707806276172,
          -0.00441685572100825,
          -0.00334783365168434,
          -0.0025519008776933028,
          -0.0020587694920570776,
          -0.0018882674720623882,
          -0.0018129366305048578,
          -0.0021321168927541656,
          -0.0025174334299267187,
          -0.002870402985490017,
          -0.003433323258532628,
          -0.003516143150420259,
          -0.0042589092406410956,
          -0.004473225587786622,
          -0.0044306161664589006,
          -0.003947880965515793,
          -0.003444907449500434,
          -0.0026924933563319264,
          -0.0017532231311276902,
          -0.0006782595856700269,
          0.00033122193382739695,
          0.0002408587717943611,
          0.00040663283263153716,
          0.0011700554406073316,
          0.002153705000240258,
          0.0027402828033689097,
          0.0032483960929607925,
          0.003928560110812551,
          0.004257138072254474,
          0.004067196155181474,
          0.003951803528925879,
          0.0035770451632961553,
          0.0028438066128648742,
          0.0024762401518390043,
          0.002479129788905965,
          0.0027722298773329435,
          0.0026511860163869194,
          0.0023665939769976774,
          0.0015582487156300395,
          0.0007476277989959534
         ],
         "yaxis": "y"
        },
        {
         "line": {
          "color": "#FFD1A3"
         },
         "mode": "lines",
         "name": "MACD Signal",
         "type": "scatter",
         "x": [
          "2021-12-17T10:44:00",
          "2021-12-17T10:45:00",
          "2021-12-17T10:47:00",
          "2021-12-17T10:48:00",
          "2021-12-17T10:49:00",
          "2021-12-17T10:50:00",
          "2021-12-17T10:51:00",
          "2021-12-17T10:52:00",
          "2021-12-17T10:53:00",
          "2021-12-17T10:54:00",
          "2021-12-17T10:55:00",
          "2021-12-17T10:56:00",
          "2021-12-17T10:57:00",
          "2021-12-17T10:58:00",
          "2021-12-17T10:59:00",
          "2021-12-17T11:00:00",
          "2021-12-17T11:01:00",
          "2021-12-17T11:02:00",
          "2021-12-17T11:03:00",
          "2021-12-17T11:04:00",
          "2021-12-17T11:05:00",
          "2021-12-17T11:06:00",
          "2021-12-17T11:07:00",
          "2021-12-17T11:09:00",
          "2021-12-17T11:10:00",
          "2021-12-17T11:11:00",
          "2021-12-17T11:12:00",
          "2021-12-17T11:13:00",
          "2021-12-17T11:14:00",
          "2021-12-17T11:15:00",
          "2021-12-17T11:16:00",
          "2021-12-17T11:17:00",
          "2021-12-17T11:18:00",
          "2021-12-17T11:19:00",
          "2021-12-17T11:20:00",
          "2021-12-17T11:21:00",
          "2021-12-17T11:22:00",
          "2021-12-17T11:23:00",
          "2021-12-17T11:24:00",
          "2021-12-17T11:25:00",
          "2021-12-17T11:26:00",
          "2021-12-17T11:27:00",
          "2021-12-17T11:28:00",
          "2021-12-17T11:29:00",
          "2021-12-17T11:30:00",
          "2021-12-17T11:31:00",
          "2021-12-17T11:32:00",
          "2021-12-17T11:33:00",
          "2021-12-17T11:34:00",
          "2021-12-17T11:35:00",
          "2021-12-17T11:36:00",
          "2021-12-17T11:37:00",
          "2021-12-17T11:38:00",
          "2021-12-17T11:39:00",
          "2021-12-17T11:40:00",
          "2021-12-17T11:41:00",
          "2021-12-17T11:42:00",
          "2021-12-17T11:43:00",
          "2021-12-17T11:44:00",
          "2021-12-17T11:45:00",
          "2021-12-17T11:46:00",
          "2021-12-17T11:48:00",
          "2021-12-17T11:49:00",
          "2021-12-17T11:50:00",
          "2021-12-17T11:51:00",
          "2021-12-17T11:52:00",
          "2021-12-17T11:53:00",
          "2021-12-17T11:54:00",
          "2021-12-17T11:55:00",
          "2021-12-17T11:56:00",
          "2021-12-17T11:58:00",
          "2021-12-17T11:59:00",
          "2021-12-17T12:01:00",
          "2021-12-17T12:02:00",
          "2021-12-17T12:03:00",
          "2021-12-17T12:04:00",
          "2021-12-17T12:05:00",
          "2021-12-17T12:06:00",
          "2021-12-17T12:07:00",
          "2021-12-17T12:08:00",
          "2021-12-17T12:09:00",
          "2021-12-17T12:10:00",
          "2021-12-17T12:11:00",
          "2021-12-17T12:12:00",
          "2021-12-17T12:13:00",
          "2021-12-17T12:14:00",
          "2021-12-17T12:15:00",
          "2021-12-17T12:16:00",
          "2021-12-17T12:17:00",
          "2021-12-17T12:18:00",
          "2021-12-17T12:19:00",
          "2021-12-17T12:20:00",
          "2021-12-17T12:21:00",
          "2021-12-17T12:23:00",
          "2021-12-17T12:24:00",
          "2021-12-17T12:25:00",
          "2021-12-17T12:26:00",
          "2021-12-17T12:27:00",
          "2021-12-17T12:28:00",
          "2021-12-17T12:29:00",
          "2021-12-17T12:31:00",
          "2021-12-17T12:33:00",
          "2021-12-17T12:34:00",
          "2021-12-17T12:35:00",
          "2021-12-17T12:36:00",
          "2021-12-17T12:37:00",
          "2021-12-17T12:39:00",
          "2021-12-17T12:40:00",
          "2021-12-17T12:41:00",
          "2021-12-17T12:42:00"
         ],
         "xaxis": "x",
         "y": [
          0,
          -0.00001595441595441116,
          0.00013446254494692056,
          0.0003809662887305869,
          0.0005781784379772135,
          0.0007966572621678364,
          0.0010311512781330143,
          0.0010695875484404123,
          0.000884959427132135,
          0.0005362715443848549,
          0.00013371953710895082,
          -0.00029775020832109686,
          -0.0006283215460911825,
          -0.0009087993809067292,
          -0.0011091962974450068,
          -0.0012942300734611343,
          -0.0013133951986159526,
          -0.0011926900740522057,
          -0.0010198349987609494,
          -0.0008848479469064334,
          -0.0007148376715552661,
          -0.0004663408143235851,
          -0.000037024075348020226,
          0.0004832059549288415,
          0.0010480004489244329,
          0.0016406398516649271,
          0.002215925416890015,
          0.0026653538909840228,
          0.003038171746602307,
          0.0032567311349690656,
          0.0033118610633662863,
          0.0032541181691809772,
          0.003121238960891672,
          0.0029570719952261917,
          0.0028070694396727107,
          0.0026674103647320153,
          0.0026152480545260743,
          0.002614700776530484,
          0.0026405740580226107,
          0.0027554045915416355,
          0.0028977376605475703,
          0.003075151752940906,
          0.0032582447183908047,
          0.0034119184409160783,
          0.0035153660532115747,
          0.0034462624599249274,
          0.003360501404873132,
          0.00324518183329919,
          0.003062121125017156,
          0.0027434922402580653,
          0.00235034192775664,
          0.00192573571241904,
          0.0014833285488430451,
          0.0010814838364301518,
          0.0007077089100432669,
          0.0003216452213864039,
          -0.00011643348722832956,
          -0.0004841119376164742,
          -0.0007553783371581813,
          -0.0010460001338294643,
          -0.0013311345977449855,
          -0.001690575058752993,
          -0.0020579390377974665,
          -0.0025020475340024485,
          -0.002933365601198758,
          -0.003407142815690573,
          -0.003811113185184679,
          -0.00414146688446131,
          -0.004382967737521107,
          -0.004530173388147756,
          -0.00458428027177344,
          -0.004550795361620402,
          -0.0043102030196331895,
          -0.003958542591245212,
          -0.0035785879714075857,
          -0.0032405238715385466,
          -0.002955006423331809,
          -0.0027904285172162804,
          -0.002735829499758368,
          -0.0027627441969046975,
          -0.002896860009230284,
          -0.0030207166374682792,
          -0.003268355158102843,
          -0.003509329244039599,
          -0.0036935866285234594,
          -0.0037444454959219262,
          -0.0036845378866376278,
          -0.003486128980576488,
          -0.0031395478106867286,
          -0.0026472901656833885,
          -0.0020515877457812316,
          -0.001593098442266113,
          -0.001193152187286583,
          -0.0007205106617078002,
          -0.0001456675293181885,
          0.0004315225372192311,
          0.0009948972483675433,
          0.0015816298208565448,
          0.0021167314711361307,
          0.0025068244079451993,
          0.0027958202321413353,
          0.0029520652183722992,
          0.0029304134972708146,
          0.0028395788281844526,
          0.0027674890203287553,
          0.002768437191729593,
          0.0027449869566610586,
          0.0026693083607283825,
          0.002447096431708714,
          0.002107202705166162
         ],
         "yaxis": "y"
        }
       ],
       "layout": {
        "hovermode": "x unified",
        "legend": {
         "x": 0.94,
         "xanchor": "right",
         "y": 0.99,
         "yanchor": "top"
        },
        "margin": {
         "b": 100,
         "l": 50,
         "pad": 4,
         "r": 50,
         "t": 100
        },
        "shapes": [
         {
          "line": {
           "color": "#3FFA68",
           "width": 1
          },
          "opacity": 1,
          "type": "rect",
          "x0": "2021-12-17T10:44:00",
          "x1": "2021-12-17T10:45:00",
          "xref": "x",
          "y0": 0,
          "y1": 1,
          "yref": "y domain"
         },
         {
          "line": {
           "color": "#D61170",
           "width": 1
          },
          "opacity": 1,
          "type": "rect",
          "x0": "2021-12-17T10:45:00",
          "x1": "2021-12-17T10:47:00",
          "xref": "x",
          "y0": 0,
          "y1": 1,
          "yref": "y domain"
         },
         {
          "line": {
           "color": "#3FFA68",
           "width": 1
          },
          "opacity": 1,
          "type": "rect",
          "x0": "2021-12-17T10:47:00",
          "x1": "2021-12-17T10:53:00",
          "xref": "x",
          "y0": 0,
          "y1": 1,
          "yref": "y domain"
         },
         {
          "line": {
           "color": "#D61170",
           "width": 1
          },
          "opacity": 1,
          "type": "rect",
          "x0": "2021-12-17T10:53:00",
          "x1": "2021-12-17T11:02:00",
          "xref": "x",
          "y0": 0,
          "y1": 1,
          "yref": "y domain"
         },
         {
          "line": {
           "color": "#3FFA68",
           "width": 1
          },
          "opacity": 1,
          "type": "rect",
          "x0": "2021-12-17T11:02:00",
          "x1": "2021-12-17T11:17:00",
          "xref": "x",
          "y0": 0,
          "y1": 1,
          "yref": "y domain"
         },
         {
          "line": {
           "color": "#D61170",
           "width": 1
          },
          "opacity": 1,
          "type": "rect",
          "x0": "2021-12-17T11:17:00",
          "x1": "2021-12-17T11:24:00",
          "xref": "x",
          "y0": 0,
          "y1": 1,
          "yref": "y domain"
         },
         {
          "line": {
           "color": "#3FFA68",
           "width": 1
          },
          "opacity": 1,
          "type": "rect",
          "x0": "2021-12-17T11:24:00",
          "x1": "2021-12-17T11:31:00",
          "xref": "x",
          "y0": 0,
          "y1": 1,
          "yref": "y domain"
         },
         {
          "line": {
           "color": "#D61170",
           "width": 1
          },
          "opacity": 1,
          "type": "rect",
          "x0": "2021-12-17T11:31:00",
          "x1": "2021-12-17T11:59:00",
          "xref": "x",
          "y0": 0,
          "y1": 1,
          "yref": "y domain"
         },
         {
          "line": {
           "color": "#3FFA68",
           "width": 1
          },
          "opacity": 1,
          "type": "rect",
          "x0": "2021-12-17T11:59:00",
          "x1": "2021-12-17T12:08:00",
          "xref": "x",
          "y0": 0,
          "y1": 1,
          "yref": "y domain"
         },
         {
          "line": {
           "color": "#D61170",
           "width": 1
          },
          "opacity": 1,
          "type": "rect",
          "x0": "2021-12-17T12:08:00",
          "x1": "2021-12-17T12:15:00",
          "xref": "x",
          "y0": 0,
          "y1": 1,
          "yref": "y domain"
         },
         {
          "line": {
           "color": "#3FFA68",
           "width": 1
          },
          "opacity": 1,
          "type": "rect",
          "x0": "2021-12-17T12:15:00",
          "x1": "2021-12-17T12:34:00",
          "xref": "x",
          "y0": 0,
          "y1": 1,
          "yref": "y domain"
         },
         {
          "line": {
           "color": "#D61170",
           "width": 1
          },
          "opacity": 1,
          "type": "rect",
          "x0": "2021-12-17T12:34:00",
          "x1": "2021-12-17T12:37:00",
          "xref": "x",
          "y0": 0,
          "y1": 1,
          "yref": "y domain"
         },
         {
          "line": {
           "color": "#3FFA68",
           "width": 1
          },
          "opacity": 1,
          "type": "rect",
          "x0": "2021-12-17T12:37:00",
          "x1": "2021-12-17T12:39:00",
          "xref": "x",
          "y0": 0,
          "y1": 1,
          "yref": "y domain"
         },
         {
          "line": {
           "color": "#D61170",
           "width": 1
          },
          "opacity": 1,
          "type": "rect",
          "x0": "2021-12-17T12:39:00",
          "x1": "2021-12-17T13:43:40.428001",
          "xref": "x",
          "y0": 0,
          "y1": 1,
          "yref": "y domain"
         }
        ],
        "template": {
         "data": {
          "bar": [
           {
            "error_x": {
             "color": "#2a3f5f"
            },
            "error_y": {
             "color": "#2a3f5f"
            },
            "marker": {
             "line": {
              "color": "#E5ECF6",
              "width": 0.5
             }
            },
            "type": "bar"
           }
          ],
          "barpolar": [
           {
            "marker": {
             "line": {
              "color": "#E5ECF6",
              "width": 0.5
             }
            },
            "type": "barpolar"
           }
          ],
          "carpet": [
           {
            "aaxis": {
             "endlinecolor": "#2a3f5f",
             "gridcolor": "white",
             "linecolor": "white",
             "minorgridcolor": "white",
             "startlinecolor": "#2a3f5f"
            },
            "baxis": {
             "endlinecolor": "#2a3f5f",
             "gridcolor": "white",
             "linecolor": "white",
             "minorgridcolor": "white",
             "startlinecolor": "#2a3f5f"
            },
            "type": "carpet"
           }
          ],
          "choropleth": [
           {
            "colorbar": {
             "outlinewidth": 0,
             "ticks": ""
            },
            "type": "choropleth"
           }
          ],
          "contour": [
           {
            "colorbar": {
             "outlinewidth": 0,
             "ticks": ""
            },
            "colorscale": [
             [
              0,
              "#0d0887"
             ],
             [
              0.1111111111111111,
              "#46039f"
             ],
             [
              0.2222222222222222,
              "#7201a8"
             ],
             [
              0.3333333333333333,
              "#9c179e"
             ],
             [
              0.4444444444444444,
              "#bd3786"
             ],
             [
              0.5555555555555556,
              "#d8576b"
             ],
             [
              0.6666666666666666,
              "#ed7953"
             ],
             [
              0.7777777777777778,
              "#fb9f3a"
             ],
             [
              0.8888888888888888,
              "#fdca26"
             ],
             [
              1,
              "#f0f921"
             ]
            ],
            "type": "contour"
           }
          ],
          "contourcarpet": [
           {
            "colorbar": {
             "outlinewidth": 0,
             "ticks": ""
            },
            "type": "contourcarpet"
           }
          ],
          "heatmap": [
           {
            "colorbar": {
             "outlinewidth": 0,
             "ticks": ""
            },
            "colorscale": [
             [
              0,
              "#0d0887"
             ],
             [
              0.1111111111111111,
              "#46039f"
             ],
             [
              0.2222222222222222,
              "#7201a8"
             ],
             [
              0.3333333333333333,
              "#9c179e"
             ],
             [
              0.4444444444444444,
              "#bd3786"
             ],
             [
              0.5555555555555556,
              "#d8576b"
             ],
             [
              0.6666666666666666,
              "#ed7953"
             ],
             [
              0.7777777777777778,
              "#fb9f3a"
             ],
             [
              0.8888888888888888,
              "#fdca26"
             ],
             [
              1,
              "#f0f921"
             ]
            ],
            "type": "heatmap"
           }
          ],
          "heatmapgl": [
           {
            "colorbar": {
             "outlinewidth": 0,
             "ticks": ""
            },
            "colorscale": [
             [
              0,
              "#0d0887"
             ],
             [
              0.1111111111111111,
              "#46039f"
             ],
             [
              0.2222222222222222,
              "#7201a8"
             ],
             [
              0.3333333333333333,
              "#9c179e"
             ],
             [
              0.4444444444444444,
              "#bd3786"
             ],
             [
              0.5555555555555556,
              "#d8576b"
             ],
             [
              0.6666666666666666,
              "#ed7953"
             ],
             [
              0.7777777777777778,
              "#fb9f3a"
             ],
             [
              0.8888888888888888,
              "#fdca26"
             ],
             [
              1,
              "#f0f921"
             ]
            ],
            "type": "heatmapgl"
           }
          ],
          "histogram": [
           {
            "marker": {
             "colorbar": {
              "outlinewidth": 0,
              "ticks": ""
             }
            },
            "type": "histogram"
           }
          ],
          "histogram2d": [
           {
            "colorbar": {
             "outlinewidth": 0,
             "ticks": ""
            },
            "colorscale": [
             [
              0,
              "#0d0887"
             ],
             [
              0.1111111111111111,
              "#46039f"
             ],
             [
              0.2222222222222222,
              "#7201a8"
             ],
             [
              0.3333333333333333,
              "#9c179e"
             ],
             [
              0.4444444444444444,
              "#bd3786"
             ],
             [
              0.5555555555555556,
              "#d8576b"
             ],
             [
              0.6666666666666666,
              "#ed7953"
             ],
             [
              0.7777777777777778,
              "#fb9f3a"
             ],
             [
              0.8888888888888888,
              "#fdca26"
             ],
             [
              1,
              "#f0f921"
             ]
            ],
            "type": "histogram2d"
           }
          ],
          "histogram2dcontour": [
           {
            "colorbar": {
             "outlinewidth": 0,
             "ticks": ""
            },
            "colorscale": [
             [
              0,
              "#0d0887"
             ],
             [
              0.1111111111111111,
              "#46039f"
             ],
             [
              0.2222222222222222,
              "#7201a8"
             ],
             [
              0.3333333333333333,
              "#9c179e"
             ],
             [
              0.4444444444444444,
              "#bd3786"
             ],
             [
              0.5555555555555556,
              "#d8576b"
             ],
             [
              0.6666666666666666,
              "#ed7953"
             ],
             [
              0.7777777777777778,
              "#fb9f3a"
             ],
             [
              0.8888888888888888,
              "#fdca26"
             ],
             [
              1,
              "#f0f921"
             ]
            ],
            "type": "histogram2dcontour"
           }
          ],
          "mesh3d": [
           {
            "colorbar": {
             "outlinewidth": 0,
             "ticks": ""
            },
            "type": "mesh3d"
           }
          ],
          "parcoords": [
           {
            "line": {
             "colorbar": {
              "outlinewidth": 0,
              "ticks": ""
             }
            },
            "type": "parcoords"
           }
          ],
          "pie": [
           {
            "automargin": true,
            "type": "pie"
           }
          ],
          "scatter": [
           {
            "marker": {
             "colorbar": {
              "outlinewidth": 0,
              "ticks": ""
             }
            },
            "type": "scatter"
           }
          ],
          "scatter3d": [
           {
            "line": {
             "colorbar": {
              "outlinewidth": 0,
              "ticks": ""
             }
            },
            "marker": {
             "colorbar": {
              "outlinewidth": 0,
              "ticks": ""
             }
            },
            "type": "scatter3d"
           }
          ],
          "scattercarpet": [
           {
            "marker": {
             "colorbar": {
              "outlinewidth": 0,
              "ticks": ""
             }
            },
            "type": "scattercarpet"
           }
          ],
          "scattergeo": [
           {
            "marker": {
             "colorbar": {
              "outlinewidth": 0,
              "ticks": ""
             }
            },
            "type": "scattergeo"
           }
          ],
          "scattergl": [
           {
            "marker": {
             "colorbar": {
              "outlinewidth": 0,
              "ticks": ""
             }
            },
            "type": "scattergl"
           }
          ],
          "scattermapbox": [
           {
            "marker": {
             "colorbar": {
              "outlinewidth": 0,
              "ticks": ""
             }
            },
            "type": "scattermapbox"
           }
          ],
          "scatterpolar": [
           {
            "marker": {
             "colorbar": {
              "outlinewidth": 0,
              "ticks": ""
             }
            },
            "type": "scatterpolar"
           }
          ],
          "scatterpolargl": [
           {
            "marker": {
             "colorbar": {
              "outlinewidth": 0,
              "ticks": ""
             }
            },
            "type": "scatterpolargl"
           }
          ],
          "scatterternary": [
           {
            "marker": {
             "colorbar": {
              "outlinewidth": 0,
              "ticks": ""
             }
            },
            "type": "scatterternary"
           }
          ],
          "surface": [
           {
            "colorbar": {
             "outlinewidth": 0,
             "ticks": ""
            },
            "colorscale": [
             [
              0,
              "#0d0887"
             ],
             [
              0.1111111111111111,
              "#46039f"
             ],
             [
              0.2222222222222222,
              "#7201a8"
             ],
             [
              0.3333333333333333,
              "#9c179e"
             ],
             [
              0.4444444444444444,
              "#bd3786"
             ],
             [
              0.5555555555555556,
              "#d8576b"
             ],
             [
              0.6666666666666666,
              "#ed7953"
             ],
             [
              0.7777777777777778,
              "#fb9f3a"
             ],
             [
              0.8888888888888888,
              "#fdca26"
             ],
             [
              1,
              "#f0f921"
             ]
            ],
            "type": "surface"
           }
          ],
          "table": [
           {
            "cells": {
             "fill": {
              "color": "#EBF0F8"
             },
             "line": {
              "color": "white"
             }
            },
            "header": {
             "fill": {
              "color": "#C8D4E3"
             },
             "line": {
              "color": "white"
             }
            },
            "type": "table"
           }
          ]
         },
         "layout": {
          "annotationdefaults": {
           "arrowcolor": "#2a3f5f",
           "arrowhead": 0,
           "arrowwidth": 1
          },
          "autotypenumbers": "strict",
          "coloraxis": {
           "colorbar": {
            "outlinewidth": 0,
            "ticks": ""
           }
          },
          "colorscale": {
           "diverging": [
            [
             0,
             "#8e0152"
            ],
            [
             0.1,
             "#c51b7d"
            ],
            [
             0.2,
             "#de77ae"
            ],
            [
             0.3,
             "#f1b6da"
            ],
            [
             0.4,
             "#fde0ef"
            ],
            [
             0.5,
             "#f7f7f7"
            ],
            [
             0.6,
             "#e6f5d0"
            ],
            [
             0.7,
             "#b8e186"
            ],
            [
             0.8,
             "#7fbc41"
            ],
            [
             0.9,
             "#4d9221"
            ],
            [
             1,
             "#276419"
            ]
           ],
           "sequential": [
            [
             0,
             "#0d0887"
            ],
            [
             0.1111111111111111,
             "#46039f"
            ],
            [
             0.2222222222222222,
             "#7201a8"
            ],
            [
             0.3333333333333333,
             "#9c179e"
            ],
            [
             0.4444444444444444,
             "#bd3786"
            ],
            [
             0.5555555555555556,
             "#d8576b"
            ],
            [
             0.6666666666666666,
             "#ed7953"
            ],
            [
             0.7777777777777778,
             "#fb9f3a"
            ],
            [
             0.8888888888888888,
             "#fdca26"
            ],
            [
             1,
             "#f0f921"
            ]
           ],
           "sequentialminus": [
            [
             0,
             "#0d0887"
            ],
            [
             0.1111111111111111,
             "#46039f"
            ],
            [
             0.2222222222222222,
             "#7201a8"
            ],
            [
             0.3333333333333333,
             "#9c179e"
            ],
            [
             0.4444444444444444,
             "#bd3786"
            ],
            [
             0.5555555555555556,
             "#d8576b"
            ],
            [
             0.6666666666666666,
             "#ed7953"
            ],
            [
             0.7777777777777778,
             "#fb9f3a"
            ],
            [
             0.8888888888888888,
             "#fdca26"
            ],
            [
             1,
             "#f0f921"
            ]
           ]
          },
          "colorway": [
           "#636efa",
           "#EF553B",
           "#00cc96",
           "#ab63fa",
           "#FFA15A",
           "#19d3f3",
           "#FF6692",
           "#B6E880",
           "#FF97FF",
           "#FECB52"
          ],
          "font": {
           "color": "#2a3f5f"
          },
          "geo": {
           "bgcolor": "white",
           "lakecolor": "white",
           "landcolor": "#E5ECF6",
           "showlakes": true,
           "showland": true,
           "subunitcolor": "white"
          },
          "hoverlabel": {
           "align": "left"
          },
          "hovermode": "closest",
          "mapbox": {
           "style": "light"
          },
          "paper_bgcolor": "white",
          "plot_bgcolor": "#E5ECF6",
          "polar": {
           "angularaxis": {
            "gridcolor": "white",
            "linecolor": "white",
            "ticks": ""
           },
           "bgcolor": "#E5ECF6",
           "radialaxis": {
            "gridcolor": "white",
            "linecolor": "white",
            "ticks": ""
           }
          },
          "scene": {
           "xaxis": {
            "backgroundcolor": "#E5ECF6",
            "gridcolor": "white",
            "gridwidth": 2,
            "linecolor": "white",
            "showbackground": true,
            "ticks": "",
            "zerolinecolor": "white"
           },
           "yaxis": {
            "backgroundcolor": "#E5ECF6",
            "gridcolor": "white",
            "gridwidth": 2,
            "linecolor": "white",
            "showbackground": true,
            "ticks": "",
            "zerolinecolor": "white"
           },
           "zaxis": {
            "backgroundcolor": "#E5ECF6",
            "gridcolor": "white",
            "gridwidth": 2,
            "linecolor": "white",
            "showbackground": true,
            "ticks": "",
            "zerolinecolor": "white"
           }
          },
          "shapedefaults": {
           "line": {
            "color": "#2a3f5f"
           }
          },
          "ternary": {
           "aaxis": {
            "gridcolor": "white",
            "linecolor": "white",
            "ticks": ""
           },
           "baxis": {
            "gridcolor": "white",
            "linecolor": "white",
            "ticks": ""
           },
           "bgcolor": "#E5ECF6",
           "caxis": {
            "gridcolor": "white",
            "linecolor": "white",
            "ticks": ""
           }
          },
          "title": {
           "x": 0.05
          },
          "xaxis": {
           "automargin": true,
           "gridcolor": "white",
           "linecolor": "white",
           "ticks": "",
           "title": {
            "standoff": 15
           },
           "zerolinecolor": "white",
           "zerolinewidth": 2
          },
          "yaxis": {
           "automargin": true,
           "gridcolor": "white",
           "linecolor": "white",
           "ticks": "",
           "title": {
            "standoff": 15
           },
           "zerolinecolor": "white",
           "zerolinewidth": 2
          }
         }
        },
        "title": {
         "text": "OHLC Chart for MANA with time interval 1min"
        },
        "xaxis": {
         "anchor": "y",
         "domain": [
          0,
          0.94
         ],
         "rangeselector": {
          "buttons": [
           {
            "count": 1,
            "label": "1m",
            "step": "month",
            "stepmode": "backward"
           },
           {
            "count": 6,
            "label": "6m",
            "step": "month",
            "stepmode": "backward"
           },
           {
            "count": 1,
            "label": "YTD",
            "step": "year",
            "stepmode": "todate"
           },
           {
            "count": 1,
            "label": "1y",
            "step": "year",
            "stepmode": "backward"
           },
           {
            "step": "all"
           }
          ]
         },
         "rangeslider": {
          "visible": true
         },
         "tickformat": "%d %b %H:%M",
         "type": "date"
        },
        "yaxis": {
         "anchor": "x",
         "domain": [
          0,
          1
         ],
         "range": [
          -0.005462881681567833,
          0.004529443169075442
         ],
         "showgrid": false,
         "showticklabels": false,
         "zeroline": false
        },
        "yaxis2": {
         "anchor": "x",
         "overlaying": "y",
         "side": "right"
        }
       }
      }
     },
     "metadata": {},
     "output_type": "display_data"
    }
   ],
   "source": [
    "granularity = '1min'\n",
    "for currency in MY_CRYPTO_CURRENCIES:\n",
    "    df_history_for_chart = df_history_enhanced.query(f'granularity == \\'{granularity}\\' and currency == \\'{currency}\\'').copy()\n",
    "    df_history_market_trend_for_chart = df_history_market_trend_intervals.query(f'granularity == \\'{granularity}\\' and currency == \\'{currency}\\'').copy()\n",
    "    macd_min = df_history_for_chart['MACD'].min()\n",
    "    macd_max = df_history_for_chart['MACD'].max()\n",
    "    fig = make_subplots(specs=[[{\"secondary_y\": True}]])\n",
    "    fig.add_trace(go.Ohlc(\n",
    "        x=df_history_for_chart['date'],\n",
    "        open=df_history_for_chart['open'],\n",
    "        high=df_history_for_chart['high'],\n",
    "        low=df_history_for_chart['low'],\n",
    "        close=df_history_for_chart['close'],\n",
    "        increasing_line_color= CANDLE_INCREASE_COLOR,\n",
    "        decreasing_line_color= CANDLE_DECREASE_COLOR,\n",
    "        name='OHLC'),\n",
    "        secondary_y=True),\n",
    "    fig.add_trace(go.Scatter(\n",
    "        x=df_history_for_chart['date'],\n",
    "        y=df_history_for_chart['MACD'],\n",
    "        name='MACD',\n",
    "        line=dict(color=MACD_COLOR),\n",
    "        mode='lines'),\n",
    "        secondary_y=False)\n",
    "    fig.add_trace(go.Scatter(\n",
    "        x=df_history_for_chart['date'],\n",
    "        y=df_history_for_chart['MACD_signal'],\n",
    "        name='MACD Signal',\n",
    "        line=dict(color=MACD_SIGNAL_COLOR),\n",
    "        mode='lines'),\n",
    "        secondary_y=False)\n",
    "    for i in range(df_history_market_trend_for_chart['currency'].count()):\n",
    "        fig.add_vrect(x0=df_history_market_trend_for_chart.iloc[i]['start_date'],\n",
    "            x1=df_history_market_trend_for_chart.iloc[i]['finish_date'],\n",
    "            col=1,\n",
    "            #fillcolor=df_history_market_trend_for_chart.iloc[i]['color'],\n",
    "            line=dict(color=df_history_market_trend_for_chart.iloc[i]['color']),\n",
    "            opacity=1.0,\n",
    "            line_width=1)\n",
    "    fig.update_layout(\n",
    "        title=f'OHLC Chart for {currency} with time interval {granularity}',\n",
    "        hovermode='x unified',\n",
    "        legend=dict(yanchor=\"top\",y=0.99,xanchor=\"right\",x=0.94),\n",
    "        #autosize=False,\n",
    "        #width=900,\n",
    "        #height=600,\n",
    "        template = PLOTLY_TEMPLATE,\n",
    "        yaxis_range=[macd_min,macd_max],\n",
    "        yaxis1_showgrid = False,\n",
    "        yaxis1_showticklabels = False,\n",
    "        yaxis1_zeroline = False,\n",
    "        margin=dict(\n",
    "            l=50,\n",
    "            r=50,\n",
    "            b=100,\n",
    "            t=100,\n",
    "            pad=4\n",
    "        ),\n",
    "        xaxis=dict(\n",
    "            rangeselector=dict(\n",
    "                buttons=list([\n",
    "                    dict(count=1,\n",
    "                        label=\"1m\",\n",
    "                        step=\"month\",\n",
    "                        stepmode=\"backward\"),\n",
    "                    dict(count=6,\n",
    "                        label=\"6m\",\n",
    "                        step=\"month\",\n",
    "                        stepmode=\"backward\"),\n",
    "                    dict(count=1,\n",
    "                        label=\"YTD\",\n",
    "                        step=\"year\",\n",
    "                        stepmode=\"todate\"),\n",
    "                    dict(count=1,\n",
    "                        label=\"1y\",\n",
    "                        step=\"year\",\n",
    "                        stepmode=\"backward\"),\n",
    "                    dict(step=\"all\")\n",
    "                ])\n",
    "            ),\n",
    "            rangeslider=dict(visible=True),\n",
    "            type=\"date\"\n",
    "        )\n",
    "    )\n",
    "    if granularity == 'daily':\n",
    "        fig.update_layout(xaxis_tickformat = '%d %b (%a)')\n",
    "    else:\n",
    "        fig.update_layout(xaxis_tickformat = '%d %b %H:%M')\n",
    "    fig.show()"
   ]
  }
 ],
 "metadata": {
  "interpreter": {
   "hash": "40d3a090f54c6569ab1632332b64b2c03c39dcf918b08424e98f38b5ae0af88f"
  },
  "kernelspec": {
   "display_name": "Python 3.8.3 64-bit ('base': conda)",
   "language": "python",
   "name": "python3"
  },
  "language_info": {
   "codemirror_mode": {
    "name": "ipython",
    "version": 3
   },
   "file_extension": ".py",
   "mimetype": "text/x-python",
   "name": "python",
   "nbconvert_exporter": "python",
   "pygments_lexer": "ipython3",
   "version": "3.8.3"
  },
  "orig_nbformat": 4
 },
 "nbformat": 4,
 "nbformat_minor": 2
}
