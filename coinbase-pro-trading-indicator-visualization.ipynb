{
 "cells": [
  {
   "cell_type": "markdown",
   "metadata": {},
   "source": [
    "# How to Connect to Coinbase Pro and Display Advanced Crypto Currency Trading Indicators?\n",
    "\n",
    "by Nils Ackermann\n",
    "\n",
    "## Introduction\n",
    "\n",
    "In case you want to get started as a crypto investor and you want to take matters into your own hands, it is important that you are able to connect to a currency exchange such as [pro.coinbase.com](https://pro.coinbase.com) to pull market data. In this notebook you will learn the following:\n",
    "\n",
    "- How to conveniently connect to coinbase pro via the cbpro Python library\n",
    "- How to load data from coinbase pro into a pandas dataframe\n",
    "- How to transform crypto currency data and add additional trading indicators (Simple Moving Average, Exponential Moving Average, MACD, MACD Signal, MACD Histogram) with the help of pandas\n",
    "- How to visualize crypto currency market data via interactive charts using plotly"
   ]
  },
  {
   "cell_type": "markdown",
   "metadata": {},
   "source": [
    "## Step 0 - Import Libraries and Set Constants\n",
    "\n",
    "We will use very basic python libraries. The only \"special\" one that you might not be aware of is [cbpro](https://github.com/danpaquin/coinbasepro-python). This is a library which allows you to conveniently connect to the Coinbase Pro API. Before we connect, we will set a few parameters like the base currency (e.g. USD or EUR) that we want to use as well as a list of cryptos that we want to invest in. Feel free to modify the list with your cryptos. "
   ]
  },
  {
   "cell_type": "code",
   "execution_count": 17,
   "metadata": {},
   "outputs": [],
   "source": [
    "import cbpro\n",
    "from datetime import datetime, timedelta\n",
    "import pandas as pd\n",
    "import numpy as np\n",
    "from math import trunc\n",
    "import plotly.graph_objects as go\n",
    "from plotly.subplots import make_subplots"
   ]
  },
  {
   "cell_type": "code",
   "execution_count": 18,
   "metadata": {},
   "outputs": [],
   "source": [
    "# Choose currency that should be used to display data\n",
    "FIAT_CURRENCIES = ['EUR','USD']\n",
    "MY_BASE_CURRENCY = FIAT_CURRENCIES[0]\n",
    "# I am only interested in a few currencies that I want to trade, so let's add them here:\n",
    "MY_CRYPTO_CURRENCIES = [\"BTC\",\"ETH\",\"LTC\",\"ALGO\",\"SHIB\",\"MANA\"] \n",
    "\n",
    "RED_COLOR = '#D61170'\n",
    "GREEN_COLOR = '#3FFA68'\n",
    "MACD_COLOR = '#A9B1F5'\n",
    "MACD_SIGNAL_COLOR = '#FFD1A3'\n",
    "CANDLE_INCREASE_COLOR = 'cyan'\n",
    "CANDLE_DECREASE_COLOR = 'gray'\n",
    "#PLOTLY_TEMPLATE = 'plotly_dark'\n",
    "PLOTLY_TEMPLATE = 'plotly'\n",
    "GRANULARITIES = ['daily','60min','15min','1min']"
   ]
  },
  {
   "cell_type": "markdown",
   "metadata": {},
   "source": [
    "## Step 1 - Establish Connection to Coinbase Pro\n",
    "\n",
    "Connecting to the Coinbase API is super simple with the help of the cbpro library. For this notebook, we only need to connect to the public Coinbase Pro API, therefore no authentication is needed."
   ]
  },
  {
   "cell_type": "code",
   "execution_count": 19,
   "metadata": {},
   "outputs": [
    {
     "name": "stdout",
     "output_type": "stream",
     "text": [
      "2021-12-15 14:33:41\n",
      "2021-12-15 15:33:41.050743\n"
     ]
    }
   ],
   "source": [
    "# Initiate public Coinbase Pro client\n",
    "public_client = cbpro.PublicClient()\n",
    "server_time = public_client.get_time()\n",
    "# Server time does not comply to iso format, therefore slight modification of string needed\n",
    "server_time_now = datetime.fromisoformat(server_time['iso'].replace('T', ' ', 1)[0:19])\n",
    "print(server_time_now)\n",
    "print(datetime.now())"
   ]
  },
  {
   "cell_type": "markdown",
   "metadata": {},
   "source": [
    "## Step 2 - Show Available Products (Crypto Currencies)\n",
    "\n",
    "First, we will review some basic information about the crypto currencies that we chose to trade on Coinbase Pro."
   ]
  },
  {
   "cell_type": "code",
   "execution_count": 20,
   "metadata": {},
   "outputs": [
    {
     "name": "stdout",
     "output_type": "stream",
     "text": [
      "\n",
      "Number of columns in the dataframe: 20\n",
      "Number of rows in the dataframe: 404\n",
      "\n"
     ]
    },
    {
     "data": {
      "text/html": [
       "<div>\n",
       "<style scoped>\n",
       "    .dataframe tbody tr th:only-of-type {\n",
       "        vertical-align: middle;\n",
       "    }\n",
       "\n",
       "    .dataframe tbody tr th {\n",
       "        vertical-align: top;\n",
       "    }\n",
       "\n",
       "    .dataframe thead th {\n",
       "        text-align: right;\n",
       "    }\n",
       "</style>\n",
       "<table border=\"1\" class=\"dataframe\">\n",
       "  <thead>\n",
       "    <tr style=\"text-align: right;\">\n",
       "      <th></th>\n",
       "      <th>id</th>\n",
       "      <th>quote_currency</th>\n",
       "      <th>base_min_size</th>\n",
       "      <th>base_max_size</th>\n",
       "    </tr>\n",
       "  </thead>\n",
       "  <tbody>\n",
       "    <tr>\n",
       "      <th>63</th>\n",
       "      <td>LTC-EUR</td>\n",
       "      <td>EUR</td>\n",
       "      <td>0.0042</td>\n",
       "      <td>2900</td>\n",
       "    </tr>\n",
       "    <tr>\n",
       "      <th>95</th>\n",
       "      <td>MANA-EUR</td>\n",
       "      <td>EUR</td>\n",
       "      <td>0.31</td>\n",
       "      <td>68000</td>\n",
       "    </tr>\n",
       "    <tr>\n",
       "      <th>153</th>\n",
       "      <td>SHIB-EUR</td>\n",
       "      <td>EUR</td>\n",
       "      <td>18000</td>\n",
       "      <td>3900000000</td>\n",
       "    </tr>\n",
       "    <tr>\n",
       "      <th>186</th>\n",
       "      <td>ETH-EUR</td>\n",
       "      <td>EUR</td>\n",
       "      <td>0.00021</td>\n",
       "      <td>610</td>\n",
       "    </tr>\n",
       "    <tr>\n",
       "      <th>345</th>\n",
       "      <td>BTC-EUR</td>\n",
       "      <td>EUR</td>\n",
       "      <td>0.000015</td>\n",
       "      <td>57</td>\n",
       "    </tr>\n",
       "    <tr>\n",
       "      <th>373</th>\n",
       "      <td>ALGO-EUR</td>\n",
       "      <td>EUR</td>\n",
       "      <td>1</td>\n",
       "      <td>190000</td>\n",
       "    </tr>\n",
       "  </tbody>\n",
       "</table>\n",
       "</div>"
      ],
      "text/plain": [
       "           id quote_currency base_min_size base_max_size\n",
       "63    LTC-EUR            EUR        0.0042          2900\n",
       "95   MANA-EUR            EUR          0.31         68000\n",
       "153  SHIB-EUR            EUR         18000    3900000000\n",
       "186   ETH-EUR            EUR       0.00021           610\n",
       "345   BTC-EUR            EUR      0.000015            57\n",
       "373  ALGO-EUR            EUR             1        190000"
      ]
     },
     "execution_count": 20,
     "metadata": {},
     "output_type": "execute_result"
    }
   ],
   "source": [
    "df_currencies = pd.DataFrame(public_client.get_products())\n",
    "print(\"\\nNumber of columns in the dataframe: %i\" % (df_currencies.shape[1]))\n",
    "print(\"Number of rows in the dataframe: %i\\n\" % (df_currencies.shape[0]))\n",
    "columns = list(df_currencies.columns)\n",
    "df_currencies[df_currencies.id.isin(list(map(lambda orig_string: orig_string+'-'+MY_BASE_CURRENCY, MY_CRYPTO_CURRENCIES)))][['id', 'quote_currency', 'base_min_size', 'base_max_size']]"
   ]
  },
  {
   "cell_type": "markdown",
   "metadata": {},
   "source": [
    "In case you later want to place orders via the Coinbase Pro API (not covered in this notebook), it is important to provide the right level of precision for the order volume. So let's calculate the allowed digits after the decimal point for each of our currencies:"
   ]
  },
  {
   "cell_type": "code",
   "execution_count": 21,
   "metadata": {},
   "outputs": [
    {
     "data": {
      "text/html": [
       "<div>\n",
       "<style scoped>\n",
       "    .dataframe tbody tr th:only-of-type {\n",
       "        vertical-align: middle;\n",
       "    }\n",
       "\n",
       "    .dataframe tbody tr th {\n",
       "        vertical-align: top;\n",
       "    }\n",
       "\n",
       "    .dataframe thead th {\n",
       "        text-align: right;\n",
       "    }\n",
       "</style>\n",
       "<table border=\"1\" class=\"dataframe\">\n",
       "  <thead>\n",
       "    <tr style=\"text-align: right;\">\n",
       "      <th></th>\n",
       "      <th>id</th>\n",
       "      <th>base_min_size</th>\n",
       "      <th>precision</th>\n",
       "      <th>allowed_decimals</th>\n",
       "    </tr>\n",
       "  </thead>\n",
       "  <tbody>\n",
       "    <tr>\n",
       "      <th>0</th>\n",
       "      <td>BTC-EUR</td>\n",
       "      <td>0.000015</td>\n",
       "      <td>0.000015</td>\n",
       "      <td>5</td>\n",
       "    </tr>\n",
       "    <tr>\n",
       "      <th>1</th>\n",
       "      <td>ETH-EUR</td>\n",
       "      <td>0.000210</td>\n",
       "      <td>0.000210</td>\n",
       "      <td>4</td>\n",
       "    </tr>\n",
       "    <tr>\n",
       "      <th>2</th>\n",
       "      <td>LTC-EUR</td>\n",
       "      <td>0.004200</td>\n",
       "      <td>0.004200</td>\n",
       "      <td>3</td>\n",
       "    </tr>\n",
       "    <tr>\n",
       "      <th>3</th>\n",
       "      <td>ALGO-EUR</td>\n",
       "      <td>1.000000</td>\n",
       "      <td>0.000000</td>\n",
       "      <td>0</td>\n",
       "    </tr>\n",
       "    <tr>\n",
       "      <th>4</th>\n",
       "      <td>SHIB-EUR</td>\n",
       "      <td>18000.000000</td>\n",
       "      <td>0.000000</td>\n",
       "      <td>0</td>\n",
       "    </tr>\n",
       "    <tr>\n",
       "      <th>5</th>\n",
       "      <td>MANA-EUR</td>\n",
       "      <td>0.310000</td>\n",
       "      <td>0.310000</td>\n",
       "      <td>1</td>\n",
       "    </tr>\n",
       "  </tbody>\n",
       "</table>\n",
       "</div>"
      ],
      "text/plain": [
       "         id  base_min_size  precision  allowed_decimals\n",
       "0   BTC-EUR       0.000015   0.000015                 5\n",
       "1   ETH-EUR       0.000210   0.000210                 4\n",
       "2   LTC-EUR       0.004200   0.004200                 3\n",
       "3  ALGO-EUR       1.000000   0.000000                 0\n",
       "4  SHIB-EUR   18000.000000   0.000000                 0\n",
       "5  MANA-EUR       0.310000   0.310000                 1"
      ]
     },
     "execution_count": 21,
     "metadata": {},
     "output_type": "execute_result"
    }
   ],
   "source": [
    "decimal_info_rows = []\n",
    "for currency in MY_CRYPTO_CURRENCIES:\n",
    "    product_id = currency+'-'+MY_BASE_CURRENCY\n",
    "    min_size = float(df_currencies.query('id == @product_id')['base_min_size'])\n",
    "    precision = min_size-trunc(min_size)\n",
    "    if precision == 0:\n",
    "        decimals = 0\n",
    "    elif 1 > precision > 0.1:\n",
    "        decimals = 1\n",
    "    elif 0.1 > precision > 0.01:\n",
    "        decimals = 2\n",
    "    elif 0.01 > precision > 0.001:\n",
    "        decimals = 3\n",
    "    elif 0.001 > precision > 0.0001:\n",
    "        decimals = 4\n",
    "    else:\n",
    "        decimals = 5\n",
    "    row_data = [product_id,min_size,precision,decimals]\n",
    "    decimal_info_rows.append(row_data)\n",
    "df_decimal_info = pd.DataFrame(decimal_info_rows, columns = ['id','base_min_size','precision','allowed_decimals'])\n",
    "df_decimal_info"
   ]
  },
  {
   "cell_type": "markdown",
   "metadata": {},
   "source": [
    "## Step 3 - Load 24h Stats\n",
    "\n",
    "Next, we will review the basic stats from the last 24 hours for each of the crypto currencies that we have defined in our list above. We will also add a custom column \"performance\" which will show us the performance from the beginning to the end of the reporting period. We will also do some nice formatting of the numbers for printing purposes."
   ]
  },
  {
   "cell_type": "code",
   "execution_count": 22,
   "metadata": {},
   "outputs": [
    {
     "name": "stdout",
     "output_type": "stream",
     "text": [
      "Performance within last 24 hours in EUR:\n"
     ]
    },
    {
     "data": {
      "text/html": [
       "<style  type=\"text/css\" >\n",
       "</style><table id=\"T_00b7a7fa_5db4_11ec_b4aa_784f43507d43\" ><thead>    <tr>        <th class=\"blank level0\" ></th>        <th class=\"col_heading level0 col0\" >open</th>        <th class=\"col_heading level0 col1\" >high</th>        <th class=\"col_heading level0 col2\" >low</th>        <th class=\"col_heading level0 col4\" >last</th>        <th class=\"col_heading level0 col6\" >currency</th>        <th class=\"col_heading level0 col7\" >performance</th>    </tr></thead><tbody>\n",
       "                <tr>\n",
       "                        <th id=\"T_00b7a7fa_5db4_11ec_b4aa_784f43507d43level0_row0\" class=\"row_heading level0 row0\" >BTC</th>\n",
       "                        <td id=\"T_00b7a7fa_5db4_11ec_b4aa_784f43507d43row0_col0\" class=\"data row0 col0\" >41,854.95€</td>\n",
       "                        <td id=\"T_00b7a7fa_5db4_11ec_b4aa_784f43507d43row0_col1\" class=\"data row0 col1\" >43,301.99€</td>\n",
       "                        <td id=\"T_00b7a7fa_5db4_11ec_b4aa_784f43507d43row0_col2\" class=\"data row0 col2\" >41,227.25€</td>\n",
       "                                <td id=\"T_00b7a7fa_5db4_11ec_b4aa_784f43507d43row0_col4\" class=\"data row0 col4\" >42,270.27€</td>\n",
       "                                <td id=\"T_00b7a7fa_5db4_11ec_b4aa_784f43507d43row0_col6\" class=\"data row0 col6\" >BTC</td>\n",
       "                        <td id=\"T_00b7a7fa_5db4_11ec_b4aa_784f43507d43row0_col7\" class=\"data row0 col7\" >0.99%</td>\n",
       "            </tr>\n",
       "            <tr>\n",
       "                        <th id=\"T_00b7a7fa_5db4_11ec_b4aa_784f43507d43level0_row1\" class=\"row_heading level0 row1\" >ETH</th>\n",
       "                        <td id=\"T_00b7a7fa_5db4_11ec_b4aa_784f43507d43row1_col0\" class=\"data row1 col0\" >3,379.17€</td>\n",
       "                        <td id=\"T_00b7a7fa_5db4_11ec_b4aa_784f43507d43row1_col1\" class=\"data row1 col1\" >3,463.11€</td>\n",
       "                        <td id=\"T_00b7a7fa_5db4_11ec_b4aa_784f43507d43row1_col2\" class=\"data row1 col2\" >3,308.08€</td>\n",
       "                                <td id=\"T_00b7a7fa_5db4_11ec_b4aa_784f43507d43row1_col4\" class=\"data row1 col4\" >3,378.65€</td>\n",
       "                                <td id=\"T_00b7a7fa_5db4_11ec_b4aa_784f43507d43row1_col6\" class=\"data row1 col6\" >ETH</td>\n",
       "                        <td id=\"T_00b7a7fa_5db4_11ec_b4aa_784f43507d43row1_col7\" class=\"data row1 col7\" >-0.02%</td>\n",
       "            </tr>\n",
       "            <tr>\n",
       "                        <th id=\"T_00b7a7fa_5db4_11ec_b4aa_784f43507d43level0_row2\" class=\"row_heading level0 row2\" >LTC</th>\n",
       "                        <td id=\"T_00b7a7fa_5db4_11ec_b4aa_784f43507d43row2_col0\" class=\"data row2 col0\" >132.33€</td>\n",
       "                        <td id=\"T_00b7a7fa_5db4_11ec_b4aa_784f43507d43row2_col1\" class=\"data row2 col1\" >135.46€</td>\n",
       "                        <td id=\"T_00b7a7fa_5db4_11ec_b4aa_784f43507d43row2_col2\" class=\"data row2 col2\" >129.20€</td>\n",
       "                                <td id=\"T_00b7a7fa_5db4_11ec_b4aa_784f43507d43row2_col4\" class=\"data row2 col4\" >131.09€</td>\n",
       "                                <td id=\"T_00b7a7fa_5db4_11ec_b4aa_784f43507d43row2_col6\" class=\"data row2 col6\" >LTC</td>\n",
       "                        <td id=\"T_00b7a7fa_5db4_11ec_b4aa_784f43507d43row2_col7\" class=\"data row2 col7\" >-0.94%</td>\n",
       "            </tr>\n",
       "            <tr>\n",
       "                        <th id=\"T_00b7a7fa_5db4_11ec_b4aa_784f43507d43level0_row3\" class=\"row_heading level0 row3\" >ALGO</th>\n",
       "                        <td id=\"T_00b7a7fa_5db4_11ec_b4aa_784f43507d43row3_col0\" class=\"data row3 col0\" >1.21€</td>\n",
       "                        <td id=\"T_00b7a7fa_5db4_11ec_b4aa_784f43507d43row3_col1\" class=\"data row3 col1\" >1.24€</td>\n",
       "                        <td id=\"T_00b7a7fa_5db4_11ec_b4aa_784f43507d43row3_col2\" class=\"data row3 col2\" >1.17€</td>\n",
       "                                <td id=\"T_00b7a7fa_5db4_11ec_b4aa_784f43507d43row3_col4\" class=\"data row3 col4\" >1.21€</td>\n",
       "                                <td id=\"T_00b7a7fa_5db4_11ec_b4aa_784f43507d43row3_col6\" class=\"data row3 col6\" >ALGO</td>\n",
       "                        <td id=\"T_00b7a7fa_5db4_11ec_b4aa_784f43507d43row3_col7\" class=\"data row3 col7\" >-0.29%</td>\n",
       "            </tr>\n",
       "            <tr>\n",
       "                        <th id=\"T_00b7a7fa_5db4_11ec_b4aa_784f43507d43level0_row4\" class=\"row_heading level0 row4\" >SHIB</th>\n",
       "                        <td id=\"T_00b7a7fa_5db4_11ec_b4aa_784f43507d43row4_col0\" class=\"data row4 col0\" >0.00€</td>\n",
       "                        <td id=\"T_00b7a7fa_5db4_11ec_b4aa_784f43507d43row4_col1\" class=\"data row4 col1\" >0.00€</td>\n",
       "                        <td id=\"T_00b7a7fa_5db4_11ec_b4aa_784f43507d43row4_col2\" class=\"data row4 col2\" >0.00€</td>\n",
       "                                <td id=\"T_00b7a7fa_5db4_11ec_b4aa_784f43507d43row4_col4\" class=\"data row4 col4\" >0.00€</td>\n",
       "                                <td id=\"T_00b7a7fa_5db4_11ec_b4aa_784f43507d43row4_col6\" class=\"data row4 col6\" >SHIB</td>\n",
       "                        <td id=\"T_00b7a7fa_5db4_11ec_b4aa_784f43507d43row4_col7\" class=\"data row4 col7\" >-1.67%</td>\n",
       "            </tr>\n",
       "            <tr>\n",
       "                        <th id=\"T_00b7a7fa_5db4_11ec_b4aa_784f43507d43level0_row5\" class=\"row_heading level0 row5\" >MANA</th>\n",
       "                        <td id=\"T_00b7a7fa_5db4_11ec_b4aa_784f43507d43row5_col0\" class=\"data row5 col0\" >2.81€</td>\n",
       "                        <td id=\"T_00b7a7fa_5db4_11ec_b4aa_784f43507d43row5_col1\" class=\"data row5 col1\" >2.86€</td>\n",
       "                        <td id=\"T_00b7a7fa_5db4_11ec_b4aa_784f43507d43row5_col2\" class=\"data row5 col2\" >2.66€</td>\n",
       "                                <td id=\"T_00b7a7fa_5db4_11ec_b4aa_784f43507d43row5_col4\" class=\"data row5 col4\" >2.73€</td>\n",
       "                                <td id=\"T_00b7a7fa_5db4_11ec_b4aa_784f43507d43row5_col6\" class=\"data row5 col6\" >MANA</td>\n",
       "                        <td id=\"T_00b7a7fa_5db4_11ec_b4aa_784f43507d43row5_col7\" class=\"data row5 col7\" >-2.92%</td>\n",
       "            </tr>\n",
       "    </tbody></table>"
      ],
      "text/plain": [
       "<pandas.io.formats.style.Styler at 0x7fbdaea1fee0>"
      ]
     },
     "execution_count": 22,
     "metadata": {},
     "output_type": "execute_result"
    }
   ],
   "source": [
    "currency_rows = []\n",
    "for currency in MY_CRYPTO_CURRENCIES:\n",
    "    data = public_client.get_product_24hr_stats(currency+'-'+MY_BASE_CURRENCY)\n",
    "    currency_rows.append(data)\n",
    "df_24hstats = pd.DataFrame(currency_rows, index = MY_CRYPTO_CURRENCIES)\n",
    "df_24hstats['currency'] = df_24hstats.index\n",
    "df_24hstats['open'] = df_24hstats['open'].astype(float)\n",
    "df_24hstats['high'] = df_24hstats['high'].astype(float)\n",
    "df_24hstats['low'] = df_24hstats['low'].astype(float)\n",
    "df_24hstats['volume'] = df_24hstats['volume'].astype(float)\n",
    "df_24hstats['last'] = df_24hstats['last'].astype(float)\n",
    "df_24hstats['volume_30day'] = df_24hstats['volume_30day'].astype(float)\n",
    "df_24hstats['performance'] = ((df_24hstats['last']-df_24hstats['open']) / df_24hstats['open']) * 100\n",
    "df_24hstats_formatted = df_24hstats.copy()\n",
    "df_24hstats_formatted['performance'] = df_24hstats_formatted['performance'].apply(lambda x: \"{:.2f}%\".format((x)))\n",
    "df_24hstats_formatted['open'] = df_24hstats_formatted['open'].apply(lambda x: \"{:,.2f}€\".format((x)))\n",
    "df_24hstats_formatted['high'] = df_24hstats_formatted['high'].apply(lambda x: \"{:,.2f}€\".format((x)))\n",
    "df_24hstats_formatted['low'] = df_24hstats_formatted['low'].apply(lambda x: \"{:,.2f}€\".format((x)))\n",
    "df_24hstats_formatted['last'] = df_24hstats_formatted['last'].apply(lambda x: \"{:,.2f}€\".format((x)))\n",
    "print('Performance within last 24 hours in ' + MY_BASE_CURRENCY + ':')\n",
    "df_24hstats_formatted.style.hide_columns(['volume','volume_30day'])"
   ]
  },
  {
   "cell_type": "markdown",
   "metadata": {},
   "source": [
    "## Step 4 - Load Historic Data\n",
    "\n",
    "Above, we have only looked at the last 24 hours. Now we will download data using four different time slices and periods:\n",
    "- Daily data of the last 90 days\n",
    "- Hourly data of the last 300 hours\n",
    "- 15-minute data of the last 75 hours\n",
    "- 1-minute data of the last 2 hours\n",
    "\n",
    "All this data is stored in a pandas dataframe called df_history."
   ]
  },
  {
   "cell_type": "code",
   "execution_count": 23,
   "metadata": {},
   "outputs": [],
   "source": [
    "currency_history_rows = []\n",
    "for currency in MY_CRYPTO_CURRENCIES:\n",
    "    # Daily data:\n",
    "    start_date = (server_time_now - timedelta(days=90)).isoformat()\n",
    "    end_date = server_time_now.isoformat()\n",
    "    data = public_client.get_product_historic_rates(currency+'-'+MY_BASE_CURRENCY, start=start_date, end=end_date, granularity=86400)\n",
    "    [x.append(currency) for x in data]\n",
    "    [x.append('daily') for x in data]\n",
    "    currency_history_rows.extend(data)\n",
    "    # 60 minutes data:\n",
    "    start_date = (server_time_now - timedelta(hours=300)).isoformat()\n",
    "    end_date = server_time_now.isoformat()\n",
    "    data = public_client.get_product_historic_rates(currency+'-'+MY_BASE_CURRENCY, start=start_date, end=end_date, granularity=3600)\n",
    "    [x.append(currency) for x in data]\n",
    "    [x.append('60min') for x in data]\n",
    "    currency_history_rows.extend(data)\n",
    "    # 15 minutes data:\n",
    "    start_date = (server_time_now - timedelta(hours=75)).isoformat()\n",
    "    end_date = server_time_now.isoformat()\n",
    "    data = public_client.get_product_historic_rates(currency+'-'+MY_BASE_CURRENCY, start=start_date, end=end_date, granularity=900)\n",
    "    [x.append(currency) for x in data]\n",
    "    [x.append('15min') for x in data]\n",
    "    currency_history_rows.extend(data)\n",
    "    # 1 minutes data:\n",
    "    start_date = (server_time_now - timedelta(hours=2)).isoformat()\n",
    "    end_date = server_time_now.isoformat()\n",
    "    data = public_client.get_product_historic_rates(currency+'-'+MY_BASE_CURRENCY, start=start_date, end=end_date, granularity=60)\n",
    "    [x.append(currency) for x in data]\n",
    "    [x.append('1min') for x in data]\n",
    "    currency_history_rows.extend(data)\n",
    "df_history = pd.DataFrame(currency_history_rows)\n",
    "# Add column names in line with the Coinbase Pro documentation\n",
    "df_history.columns = ['time','low','high','open','close','volume','currency','granularity']\n",
    "# We will add a few more columns just for better readability\n",
    "df_history['date'] = pd.to_datetime(df_history['time'], unit='s')\n",
    "df_history['year'] = pd.DatetimeIndex(df_history['date']).year\n",
    "df_history['month'] = pd.DatetimeIndex(df_history['date']).month\n",
    "df_history['day'] = pd.DatetimeIndex(df_history['date']).day\n",
    "df_history['hour'] = pd.DatetimeIndex(df_history['date']).hour\n",
    "df_history['minute'] = pd.DatetimeIndex(df_history['date']).minute"
   ]
  },
  {
   "cell_type": "code",
   "execution_count": 24,
   "metadata": {},
   "outputs": [
    {
     "name": "stdout",
     "output_type": "stream",
     "text": [
      "Daily data included in df_history (in EUR):\n"
     ]
    },
    {
     "data": {
      "text/html": [
       "<style  type=\"text/css\" >\n",
       "</style><table id=\"T_062aa598_5db4_11ec_b4aa_784f43507d43\" ><thead>    <tr>        <th class=\"col_heading level0 col1\" >low</th>        <th class=\"col_heading level0 col2\" >high</th>        <th class=\"col_heading level0 col3\" >open</th>        <th class=\"col_heading level0 col4\" >close</th>        <th class=\"col_heading level0 col5\" >volume</th>        <th class=\"col_heading level0 col6\" >currency</th>        <th class=\"col_heading level0 col7\" >granularity</th>        <th class=\"col_heading level0 col9\" >year</th>        <th class=\"col_heading level0 col10\" >month</th>        <th class=\"col_heading level0 col11\" >day</th>    </tr></thead><tbody>\n",
       "                <tr>\n",
       "                                        <td id=\"T_062aa598_5db4_11ec_b4aa_784f43507d43row0_col1\" class=\"data row0 col1\" >42138.330000</td>\n",
       "                        <td id=\"T_062aa598_5db4_11ec_b4aa_784f43507d43row0_col2\" class=\"data row0 col2\" >43301.990000</td>\n",
       "                        <td id=\"T_062aa598_5db4_11ec_b4aa_784f43507d43row0_col3\" class=\"data row0 col3\" >42950.000000</td>\n",
       "                        <td id=\"T_062aa598_5db4_11ec_b4aa_784f43507d43row0_col4\" class=\"data row0 col4\" >42210.060000</td>\n",
       "                        <td id=\"T_062aa598_5db4_11ec_b4aa_784f43507d43row0_col5\" class=\"data row0 col5\" >461.610500</td>\n",
       "                        <td id=\"T_062aa598_5db4_11ec_b4aa_784f43507d43row0_col6\" class=\"data row0 col6\" >BTC</td>\n",
       "                        <td id=\"T_062aa598_5db4_11ec_b4aa_784f43507d43row0_col7\" class=\"data row0 col7\" >daily</td>\n",
       "                                <td id=\"T_062aa598_5db4_11ec_b4aa_784f43507d43row0_col9\" class=\"data row0 col9\" >2021</td>\n",
       "                        <td id=\"T_062aa598_5db4_11ec_b4aa_784f43507d43row0_col10\" class=\"data row0 col10\" >12</td>\n",
       "                        <td id=\"T_062aa598_5db4_11ec_b4aa_784f43507d43row0_col11\" class=\"data row0 col11\" >15</td>\n",
       "                            </tr>\n",
       "            <tr>\n",
       "                                        <td id=\"T_062aa598_5db4_11ec_b4aa_784f43507d43row1_col1\" class=\"data row1 col1\" >41020.000000</td>\n",
       "                        <td id=\"T_062aa598_5db4_11ec_b4aa_784f43507d43row1_col2\" class=\"data row1 col2\" >43250.000000</td>\n",
       "                        <td id=\"T_062aa598_5db4_11ec_b4aa_784f43507d43row1_col3\" class=\"data row1 col3\" >41408.060000</td>\n",
       "                        <td id=\"T_062aa598_5db4_11ec_b4aa_784f43507d43row1_col4\" class=\"data row1 col4\" >42955.020000</td>\n",
       "                        <td id=\"T_062aa598_5db4_11ec_b4aa_784f43507d43row1_col5\" class=\"data row1 col5\" >1215.250863</td>\n",
       "                        <td id=\"T_062aa598_5db4_11ec_b4aa_784f43507d43row1_col6\" class=\"data row1 col6\" >BTC</td>\n",
       "                        <td id=\"T_062aa598_5db4_11ec_b4aa_784f43507d43row1_col7\" class=\"data row1 col7\" >daily</td>\n",
       "                                <td id=\"T_062aa598_5db4_11ec_b4aa_784f43507d43row1_col9\" class=\"data row1 col9\" >2021</td>\n",
       "                        <td id=\"T_062aa598_5db4_11ec_b4aa_784f43507d43row1_col10\" class=\"data row1 col10\" >12</td>\n",
       "                        <td id=\"T_062aa598_5db4_11ec_b4aa_784f43507d43row1_col11\" class=\"data row1 col11\" >14</td>\n",
       "                            </tr>\n",
       "            <tr>\n",
       "                                        <td id=\"T_062aa598_5db4_11ec_b4aa_784f43507d43row2_col1\" class=\"data row2 col1\" >40515.700000</td>\n",
       "                        <td id=\"T_062aa598_5db4_11ec_b4aa_784f43507d43row2_col2\" class=\"data row2 col2\" >44403.760000</td>\n",
       "                        <td id=\"T_062aa598_5db4_11ec_b4aa_784f43507d43row2_col3\" class=\"data row2 col3\" >44302.590000</td>\n",
       "                        <td id=\"T_062aa598_5db4_11ec_b4aa_784f43507d43row2_col4\" class=\"data row2 col4\" >41389.360000</td>\n",
       "                        <td id=\"T_062aa598_5db4_11ec_b4aa_784f43507d43row2_col5\" class=\"data row2 col5\" >1594.526252</td>\n",
       "                        <td id=\"T_062aa598_5db4_11ec_b4aa_784f43507d43row2_col6\" class=\"data row2 col6\" >BTC</td>\n",
       "                        <td id=\"T_062aa598_5db4_11ec_b4aa_784f43507d43row2_col7\" class=\"data row2 col7\" >daily</td>\n",
       "                                <td id=\"T_062aa598_5db4_11ec_b4aa_784f43507d43row2_col9\" class=\"data row2 col9\" >2021</td>\n",
       "                        <td id=\"T_062aa598_5db4_11ec_b4aa_784f43507d43row2_col10\" class=\"data row2 col10\" >12</td>\n",
       "                        <td id=\"T_062aa598_5db4_11ec_b4aa_784f43507d43row2_col11\" class=\"data row2 col11\" >13</td>\n",
       "                            </tr>\n",
       "            <tr>\n",
       "                                        <td id=\"T_062aa598_5db4_11ec_b4aa_784f43507d43row3_col1\" class=\"data row3 col1\" >43077.090000</td>\n",
       "                        <td id=\"T_062aa598_5db4_11ec_b4aa_784f43507d43row3_col2\" class=\"data row3 col2\" >44936.720000</td>\n",
       "                        <td id=\"T_062aa598_5db4_11ec_b4aa_784f43507d43row3_col3\" class=\"data row3 col3\" >43739.030000</td>\n",
       "                        <td id=\"T_062aa598_5db4_11ec_b4aa_784f43507d43row3_col4\" class=\"data row3 col4\" >44304.180000</td>\n",
       "                        <td id=\"T_062aa598_5db4_11ec_b4aa_784f43507d43row3_col5\" class=\"data row3 col5\" >561.811474</td>\n",
       "                        <td id=\"T_062aa598_5db4_11ec_b4aa_784f43507d43row3_col6\" class=\"data row3 col6\" >BTC</td>\n",
       "                        <td id=\"T_062aa598_5db4_11ec_b4aa_784f43507d43row3_col7\" class=\"data row3 col7\" >daily</td>\n",
       "                                <td id=\"T_062aa598_5db4_11ec_b4aa_784f43507d43row3_col9\" class=\"data row3 col9\" >2021</td>\n",
       "                        <td id=\"T_062aa598_5db4_11ec_b4aa_784f43507d43row3_col10\" class=\"data row3 col10\" >12</td>\n",
       "                        <td id=\"T_062aa598_5db4_11ec_b4aa_784f43507d43row3_col11\" class=\"data row3 col11\" >12</td>\n",
       "                            </tr>\n",
       "            <tr>\n",
       "                                        <td id=\"T_062aa598_5db4_11ec_b4aa_784f43507d43row4_col1\" class=\"data row4 col1\" >41390.000000</td>\n",
       "                        <td id=\"T_062aa598_5db4_11ec_b4aa_784f43507d43row4_col2\" class=\"data row4 col2\" >43834.940000</td>\n",
       "                        <td id=\"T_062aa598_5db4_11ec_b4aa_784f43507d43row4_col3\" class=\"data row4 col3\" >41718.120000</td>\n",
       "                        <td id=\"T_062aa598_5db4_11ec_b4aa_784f43507d43row4_col4\" class=\"data row4 col4\" >43732.780000</td>\n",
       "                        <td id=\"T_062aa598_5db4_11ec_b4aa_784f43507d43row4_col5\" class=\"data row4 col5\" >654.895473</td>\n",
       "                        <td id=\"T_062aa598_5db4_11ec_b4aa_784f43507d43row4_col6\" class=\"data row4 col6\" >BTC</td>\n",
       "                        <td id=\"T_062aa598_5db4_11ec_b4aa_784f43507d43row4_col7\" class=\"data row4 col7\" >daily</td>\n",
       "                                <td id=\"T_062aa598_5db4_11ec_b4aa_784f43507d43row4_col9\" class=\"data row4 col9\" >2021</td>\n",
       "                        <td id=\"T_062aa598_5db4_11ec_b4aa_784f43507d43row4_col10\" class=\"data row4 col10\" >12</td>\n",
       "                        <td id=\"T_062aa598_5db4_11ec_b4aa_784f43507d43row4_col11\" class=\"data row4 col11\" >11</td>\n",
       "                            </tr>\n",
       "    </tbody></table>"
      ],
      "text/plain": [
       "<pandas.io.formats.style.Styler at 0x7fbdaea1f8e0>"
      ]
     },
     "execution_count": 24,
     "metadata": {},
     "output_type": "execute_result"
    }
   ],
   "source": [
    "print(f'Daily data included in df_history (in {MY_BASE_CURRENCY}):')\n",
    "df_history.query('granularity == \\'daily\\'').head(5).style.hide_index().hide_columns(['time','date','hour','minute'])"
   ]
  },
  {
   "cell_type": "code",
   "execution_count": 25,
   "metadata": {},
   "outputs": [
    {
     "name": "stdout",
     "output_type": "stream",
     "text": [
      "60 minute data included in df_history (in EUR):\n"
     ]
    },
    {
     "data": {
      "text/html": [
       "<style  type=\"text/css\" >\n",
       "</style><table id=\"T_064b9a5a_5db4_11ec_b4aa_784f43507d43\" ><thead>    <tr>        <th class=\"col_heading level0 col1\" >low</th>        <th class=\"col_heading level0 col2\" >high</th>        <th class=\"col_heading level0 col3\" >open</th>        <th class=\"col_heading level0 col4\" >close</th>        <th class=\"col_heading level0 col5\" >volume</th>        <th class=\"col_heading level0 col6\" >currency</th>        <th class=\"col_heading level0 col7\" >granularity</th>        <th class=\"col_heading level0 col8\" >date</th>        <th class=\"col_heading level0 col9\" >year</th>        <th class=\"col_heading level0 col10\" >month</th>        <th class=\"col_heading level0 col11\" >day</th>        <th class=\"col_heading level0 col12\" >hour</th>    </tr></thead><tbody>\n",
       "                <tr>\n",
       "                                        <td id=\"T_064b9a5a_5db4_11ec_b4aa_784f43507d43row0_col1\" class=\"data row0 col1\" >3.796000</td>\n",
       "                        <td id=\"T_064b9a5a_5db4_11ec_b4aa_784f43507d43row0_col2\" class=\"data row0 col2\" >3.846000</td>\n",
       "                        <td id=\"T_064b9a5a_5db4_11ec_b4aa_784f43507d43row0_col3\" class=\"data row0 col3\" >3.845000</td>\n",
       "                        <td id=\"T_064b9a5a_5db4_11ec_b4aa_784f43507d43row0_col4\" class=\"data row0 col4\" >3.829000</td>\n",
       "                        <td id=\"T_064b9a5a_5db4_11ec_b4aa_784f43507d43row0_col5\" class=\"data row0 col5\" >84110.410000</td>\n",
       "                        <td id=\"T_064b9a5a_5db4_11ec_b4aa_784f43507d43row0_col6\" class=\"data row0 col6\" >MANA</td>\n",
       "                        <td id=\"T_064b9a5a_5db4_11ec_b4aa_784f43507d43row0_col7\" class=\"data row0 col7\" >60min</td>\n",
       "                        <td id=\"T_064b9a5a_5db4_11ec_b4aa_784f43507d43row0_col8\" class=\"data row0 col8\" >2021-12-03 07:00:00</td>\n",
       "                        <td id=\"T_064b9a5a_5db4_11ec_b4aa_784f43507d43row0_col9\" class=\"data row0 col9\" >2021</td>\n",
       "                        <td id=\"T_064b9a5a_5db4_11ec_b4aa_784f43507d43row0_col10\" class=\"data row0 col10\" >12</td>\n",
       "                        <td id=\"T_064b9a5a_5db4_11ec_b4aa_784f43507d43row0_col11\" class=\"data row0 col11\" >3</td>\n",
       "                        <td id=\"T_064b9a5a_5db4_11ec_b4aa_784f43507d43row0_col12\" class=\"data row0 col12\" >7</td>\n",
       "                    </tr>\n",
       "            <tr>\n",
       "                                        <td id=\"T_064b9a5a_5db4_11ec_b4aa_784f43507d43row1_col1\" class=\"data row1 col1\" >3.807000</td>\n",
       "                        <td id=\"T_064b9a5a_5db4_11ec_b4aa_784f43507d43row1_col2\" class=\"data row1 col2\" >3.852000</td>\n",
       "                        <td id=\"T_064b9a5a_5db4_11ec_b4aa_784f43507d43row1_col3\" class=\"data row1 col3\" >3.821000</td>\n",
       "                        <td id=\"T_064b9a5a_5db4_11ec_b4aa_784f43507d43row1_col4\" class=\"data row1 col4\" >3.845000</td>\n",
       "                        <td id=\"T_064b9a5a_5db4_11ec_b4aa_784f43507d43row1_col5\" class=\"data row1 col5\" >76072.960000</td>\n",
       "                        <td id=\"T_064b9a5a_5db4_11ec_b4aa_784f43507d43row1_col6\" class=\"data row1 col6\" >MANA</td>\n",
       "                        <td id=\"T_064b9a5a_5db4_11ec_b4aa_784f43507d43row1_col7\" class=\"data row1 col7\" >60min</td>\n",
       "                        <td id=\"T_064b9a5a_5db4_11ec_b4aa_784f43507d43row1_col8\" class=\"data row1 col8\" >2021-12-03 06:00:00</td>\n",
       "                        <td id=\"T_064b9a5a_5db4_11ec_b4aa_784f43507d43row1_col9\" class=\"data row1 col9\" >2021</td>\n",
       "                        <td id=\"T_064b9a5a_5db4_11ec_b4aa_784f43507d43row1_col10\" class=\"data row1 col10\" >12</td>\n",
       "                        <td id=\"T_064b9a5a_5db4_11ec_b4aa_784f43507d43row1_col11\" class=\"data row1 col11\" >3</td>\n",
       "                        <td id=\"T_064b9a5a_5db4_11ec_b4aa_784f43507d43row1_col12\" class=\"data row1 col12\" >6</td>\n",
       "                    </tr>\n",
       "            <tr>\n",
       "                                        <td id=\"T_064b9a5a_5db4_11ec_b4aa_784f43507d43row2_col1\" class=\"data row2 col1\" >3.778000</td>\n",
       "                        <td id=\"T_064b9a5a_5db4_11ec_b4aa_784f43507d43row2_col2\" class=\"data row2 col2\" >3.857000</td>\n",
       "                        <td id=\"T_064b9a5a_5db4_11ec_b4aa_784f43507d43row2_col3\" class=\"data row2 col3\" >3.786000</td>\n",
       "                        <td id=\"T_064b9a5a_5db4_11ec_b4aa_784f43507d43row2_col4\" class=\"data row2 col4\" >3.821000</td>\n",
       "                        <td id=\"T_064b9a5a_5db4_11ec_b4aa_784f43507d43row2_col5\" class=\"data row2 col5\" >497553.780000</td>\n",
       "                        <td id=\"T_064b9a5a_5db4_11ec_b4aa_784f43507d43row2_col6\" class=\"data row2 col6\" >MANA</td>\n",
       "                        <td id=\"T_064b9a5a_5db4_11ec_b4aa_784f43507d43row2_col7\" class=\"data row2 col7\" >60min</td>\n",
       "                        <td id=\"T_064b9a5a_5db4_11ec_b4aa_784f43507d43row2_col8\" class=\"data row2 col8\" >2021-12-03 05:00:00</td>\n",
       "                        <td id=\"T_064b9a5a_5db4_11ec_b4aa_784f43507d43row2_col9\" class=\"data row2 col9\" >2021</td>\n",
       "                        <td id=\"T_064b9a5a_5db4_11ec_b4aa_784f43507d43row2_col10\" class=\"data row2 col10\" >12</td>\n",
       "                        <td id=\"T_064b9a5a_5db4_11ec_b4aa_784f43507d43row2_col11\" class=\"data row2 col11\" >3</td>\n",
       "                        <td id=\"T_064b9a5a_5db4_11ec_b4aa_784f43507d43row2_col12\" class=\"data row2 col12\" >5</td>\n",
       "                    </tr>\n",
       "            <tr>\n",
       "                                        <td id=\"T_064b9a5a_5db4_11ec_b4aa_784f43507d43row3_col1\" class=\"data row3 col1\" >3.728000</td>\n",
       "                        <td id=\"T_064b9a5a_5db4_11ec_b4aa_784f43507d43row3_col2\" class=\"data row3 col2\" >3.870000</td>\n",
       "                        <td id=\"T_064b9a5a_5db4_11ec_b4aa_784f43507d43row3_col3\" class=\"data row3 col3\" >3.747000</td>\n",
       "                        <td id=\"T_064b9a5a_5db4_11ec_b4aa_784f43507d43row3_col4\" class=\"data row3 col4\" >3.790000</td>\n",
       "                        <td id=\"T_064b9a5a_5db4_11ec_b4aa_784f43507d43row3_col5\" class=\"data row3 col5\" >108399.580000</td>\n",
       "                        <td id=\"T_064b9a5a_5db4_11ec_b4aa_784f43507d43row3_col6\" class=\"data row3 col6\" >MANA</td>\n",
       "                        <td id=\"T_064b9a5a_5db4_11ec_b4aa_784f43507d43row3_col7\" class=\"data row3 col7\" >60min</td>\n",
       "                        <td id=\"T_064b9a5a_5db4_11ec_b4aa_784f43507d43row3_col8\" class=\"data row3 col8\" >2021-12-03 04:00:00</td>\n",
       "                        <td id=\"T_064b9a5a_5db4_11ec_b4aa_784f43507d43row3_col9\" class=\"data row3 col9\" >2021</td>\n",
       "                        <td id=\"T_064b9a5a_5db4_11ec_b4aa_784f43507d43row3_col10\" class=\"data row3 col10\" >12</td>\n",
       "                        <td id=\"T_064b9a5a_5db4_11ec_b4aa_784f43507d43row3_col11\" class=\"data row3 col11\" >3</td>\n",
       "                        <td id=\"T_064b9a5a_5db4_11ec_b4aa_784f43507d43row3_col12\" class=\"data row3 col12\" >4</td>\n",
       "                    </tr>\n",
       "            <tr>\n",
       "                                        <td id=\"T_064b9a5a_5db4_11ec_b4aa_784f43507d43row4_col1\" class=\"data row4 col1\" >3.734000</td>\n",
       "                        <td id=\"T_064b9a5a_5db4_11ec_b4aa_784f43507d43row4_col2\" class=\"data row4 col2\" >3.795000</td>\n",
       "                        <td id=\"T_064b9a5a_5db4_11ec_b4aa_784f43507d43row4_col3\" class=\"data row4 col3\" >3.771000</td>\n",
       "                        <td id=\"T_064b9a5a_5db4_11ec_b4aa_784f43507d43row4_col4\" class=\"data row4 col4\" >3.746000</td>\n",
       "                        <td id=\"T_064b9a5a_5db4_11ec_b4aa_784f43507d43row4_col5\" class=\"data row4 col5\" >134342.710000</td>\n",
       "                        <td id=\"T_064b9a5a_5db4_11ec_b4aa_784f43507d43row4_col6\" class=\"data row4 col6\" >MANA</td>\n",
       "                        <td id=\"T_064b9a5a_5db4_11ec_b4aa_784f43507d43row4_col7\" class=\"data row4 col7\" >60min</td>\n",
       "                        <td id=\"T_064b9a5a_5db4_11ec_b4aa_784f43507d43row4_col8\" class=\"data row4 col8\" >2021-12-03 03:00:00</td>\n",
       "                        <td id=\"T_064b9a5a_5db4_11ec_b4aa_784f43507d43row4_col9\" class=\"data row4 col9\" >2021</td>\n",
       "                        <td id=\"T_064b9a5a_5db4_11ec_b4aa_784f43507d43row4_col10\" class=\"data row4 col10\" >12</td>\n",
       "                        <td id=\"T_064b9a5a_5db4_11ec_b4aa_784f43507d43row4_col11\" class=\"data row4 col11\" >3</td>\n",
       "                        <td id=\"T_064b9a5a_5db4_11ec_b4aa_784f43507d43row4_col12\" class=\"data row4 col12\" >3</td>\n",
       "                    </tr>\n",
       "    </tbody></table>"
      ],
      "text/plain": [
       "<pandas.io.formats.style.Styler at 0x7fbdaea10b20>"
      ]
     },
     "execution_count": 25,
     "metadata": {},
     "output_type": "execute_result"
    }
   ],
   "source": [
    "print(f'60 minute data included in df_history (in {MY_BASE_CURRENCY}):')\n",
    "df_history.query('granularity == \\'60min\\'').tail(5).style.hide_index().hide_columns(['time','minute'])"
   ]
  },
  {
   "cell_type": "code",
   "execution_count": 26,
   "metadata": {},
   "outputs": [
    {
     "name": "stdout",
     "output_type": "stream",
     "text": [
      "15 minute data included in df_history (in EUR):\n"
     ]
    },
    {
     "data": {
      "text/html": [
       "<style  type=\"text/css\" >\n",
       "</style><table id=\"T_066db1e4_5db4_11ec_b4aa_784f43507d43\" ><thead>    <tr>        <th class=\"col_heading level0 col1\" >low</th>        <th class=\"col_heading level0 col2\" >high</th>        <th class=\"col_heading level0 col3\" >open</th>        <th class=\"col_heading level0 col4\" >close</th>        <th class=\"col_heading level0 col5\" >volume</th>        <th class=\"col_heading level0 col6\" >currency</th>        <th class=\"col_heading level0 col7\" >granularity</th>        <th class=\"col_heading level0 col8\" >date</th>        <th class=\"col_heading level0 col9\" >year</th>        <th class=\"col_heading level0 col10\" >month</th>        <th class=\"col_heading level0 col11\" >day</th>        <th class=\"col_heading level0 col12\" >hour</th>        <th class=\"col_heading level0 col13\" >minute</th>    </tr></thead><tbody>\n",
       "                <tr>\n",
       "                                        <td id=\"T_066db1e4_5db4_11ec_b4aa_784f43507d43row0_col1\" class=\"data row0 col1\" >3.137000</td>\n",
       "                        <td id=\"T_066db1e4_5db4_11ec_b4aa_784f43507d43row0_col2\" class=\"data row0 col2\" >3.151000</td>\n",
       "                        <td id=\"T_066db1e4_5db4_11ec_b4aa_784f43507d43row0_col3\" class=\"data row0 col3\" >3.147000</td>\n",
       "                        <td id=\"T_066db1e4_5db4_11ec_b4aa_784f43507d43row0_col4\" class=\"data row0 col4\" >3.144000</td>\n",
       "                        <td id=\"T_066db1e4_5db4_11ec_b4aa_784f43507d43row0_col5\" class=\"data row0 col5\" >4772.170000</td>\n",
       "                        <td id=\"T_066db1e4_5db4_11ec_b4aa_784f43507d43row0_col6\" class=\"data row0 col6\" >MANA</td>\n",
       "                        <td id=\"T_066db1e4_5db4_11ec_b4aa_784f43507d43row0_col7\" class=\"data row0 col7\" >15min</td>\n",
       "                        <td id=\"T_066db1e4_5db4_11ec_b4aa_784f43507d43row0_col8\" class=\"data row0 col8\" >2021-12-12 12:45:00</td>\n",
       "                        <td id=\"T_066db1e4_5db4_11ec_b4aa_784f43507d43row0_col9\" class=\"data row0 col9\" >2021</td>\n",
       "                        <td id=\"T_066db1e4_5db4_11ec_b4aa_784f43507d43row0_col10\" class=\"data row0 col10\" >12</td>\n",
       "                        <td id=\"T_066db1e4_5db4_11ec_b4aa_784f43507d43row0_col11\" class=\"data row0 col11\" >12</td>\n",
       "                        <td id=\"T_066db1e4_5db4_11ec_b4aa_784f43507d43row0_col12\" class=\"data row0 col12\" >12</td>\n",
       "                        <td id=\"T_066db1e4_5db4_11ec_b4aa_784f43507d43row0_col13\" class=\"data row0 col13\" >45</td>\n",
       "            </tr>\n",
       "            <tr>\n",
       "                                        <td id=\"T_066db1e4_5db4_11ec_b4aa_784f43507d43row1_col1\" class=\"data row1 col1\" >3.145000</td>\n",
       "                        <td id=\"T_066db1e4_5db4_11ec_b4aa_784f43507d43row1_col2\" class=\"data row1 col2\" >3.172000</td>\n",
       "                        <td id=\"T_066db1e4_5db4_11ec_b4aa_784f43507d43row1_col3\" class=\"data row1 col3\" >3.163000</td>\n",
       "                        <td id=\"T_066db1e4_5db4_11ec_b4aa_784f43507d43row1_col4\" class=\"data row1 col4\" >3.148000</td>\n",
       "                        <td id=\"T_066db1e4_5db4_11ec_b4aa_784f43507d43row1_col5\" class=\"data row1 col5\" >7706.940000</td>\n",
       "                        <td id=\"T_066db1e4_5db4_11ec_b4aa_784f43507d43row1_col6\" class=\"data row1 col6\" >MANA</td>\n",
       "                        <td id=\"T_066db1e4_5db4_11ec_b4aa_784f43507d43row1_col7\" class=\"data row1 col7\" >15min</td>\n",
       "                        <td id=\"T_066db1e4_5db4_11ec_b4aa_784f43507d43row1_col8\" class=\"data row1 col8\" >2021-12-12 12:30:00</td>\n",
       "                        <td id=\"T_066db1e4_5db4_11ec_b4aa_784f43507d43row1_col9\" class=\"data row1 col9\" >2021</td>\n",
       "                        <td id=\"T_066db1e4_5db4_11ec_b4aa_784f43507d43row1_col10\" class=\"data row1 col10\" >12</td>\n",
       "                        <td id=\"T_066db1e4_5db4_11ec_b4aa_784f43507d43row1_col11\" class=\"data row1 col11\" >12</td>\n",
       "                        <td id=\"T_066db1e4_5db4_11ec_b4aa_784f43507d43row1_col12\" class=\"data row1 col12\" >12</td>\n",
       "                        <td id=\"T_066db1e4_5db4_11ec_b4aa_784f43507d43row1_col13\" class=\"data row1 col13\" >30</td>\n",
       "            </tr>\n",
       "            <tr>\n",
       "                                        <td id=\"T_066db1e4_5db4_11ec_b4aa_784f43507d43row2_col1\" class=\"data row2 col1\" >3.142000</td>\n",
       "                        <td id=\"T_066db1e4_5db4_11ec_b4aa_784f43507d43row2_col2\" class=\"data row2 col2\" >3.168000</td>\n",
       "                        <td id=\"T_066db1e4_5db4_11ec_b4aa_784f43507d43row2_col3\" class=\"data row2 col3\" >3.151000</td>\n",
       "                        <td id=\"T_066db1e4_5db4_11ec_b4aa_784f43507d43row2_col4\" class=\"data row2 col4\" >3.166000</td>\n",
       "                        <td id=\"T_066db1e4_5db4_11ec_b4aa_784f43507d43row2_col5\" class=\"data row2 col5\" >5348.090000</td>\n",
       "                        <td id=\"T_066db1e4_5db4_11ec_b4aa_784f43507d43row2_col6\" class=\"data row2 col6\" >MANA</td>\n",
       "                        <td id=\"T_066db1e4_5db4_11ec_b4aa_784f43507d43row2_col7\" class=\"data row2 col7\" >15min</td>\n",
       "                        <td id=\"T_066db1e4_5db4_11ec_b4aa_784f43507d43row2_col8\" class=\"data row2 col8\" >2021-12-12 12:15:00</td>\n",
       "                        <td id=\"T_066db1e4_5db4_11ec_b4aa_784f43507d43row2_col9\" class=\"data row2 col9\" >2021</td>\n",
       "                        <td id=\"T_066db1e4_5db4_11ec_b4aa_784f43507d43row2_col10\" class=\"data row2 col10\" >12</td>\n",
       "                        <td id=\"T_066db1e4_5db4_11ec_b4aa_784f43507d43row2_col11\" class=\"data row2 col11\" >12</td>\n",
       "                        <td id=\"T_066db1e4_5db4_11ec_b4aa_784f43507d43row2_col12\" class=\"data row2 col12\" >12</td>\n",
       "                        <td id=\"T_066db1e4_5db4_11ec_b4aa_784f43507d43row2_col13\" class=\"data row2 col13\" >15</td>\n",
       "            </tr>\n",
       "            <tr>\n",
       "                                        <td id=\"T_066db1e4_5db4_11ec_b4aa_784f43507d43row3_col1\" class=\"data row3 col1\" >3.127000</td>\n",
       "                        <td id=\"T_066db1e4_5db4_11ec_b4aa_784f43507d43row3_col2\" class=\"data row3 col2\" >3.158000</td>\n",
       "                        <td id=\"T_066db1e4_5db4_11ec_b4aa_784f43507d43row3_col3\" class=\"data row3 col3\" >3.151000</td>\n",
       "                        <td id=\"T_066db1e4_5db4_11ec_b4aa_784f43507d43row3_col4\" class=\"data row3 col4\" >3.151000</td>\n",
       "                        <td id=\"T_066db1e4_5db4_11ec_b4aa_784f43507d43row3_col5\" class=\"data row3 col5\" >10891.890000</td>\n",
       "                        <td id=\"T_066db1e4_5db4_11ec_b4aa_784f43507d43row3_col6\" class=\"data row3 col6\" >MANA</td>\n",
       "                        <td id=\"T_066db1e4_5db4_11ec_b4aa_784f43507d43row3_col7\" class=\"data row3 col7\" >15min</td>\n",
       "                        <td id=\"T_066db1e4_5db4_11ec_b4aa_784f43507d43row3_col8\" class=\"data row3 col8\" >2021-12-12 12:00:00</td>\n",
       "                        <td id=\"T_066db1e4_5db4_11ec_b4aa_784f43507d43row3_col9\" class=\"data row3 col9\" >2021</td>\n",
       "                        <td id=\"T_066db1e4_5db4_11ec_b4aa_784f43507d43row3_col10\" class=\"data row3 col10\" >12</td>\n",
       "                        <td id=\"T_066db1e4_5db4_11ec_b4aa_784f43507d43row3_col11\" class=\"data row3 col11\" >12</td>\n",
       "                        <td id=\"T_066db1e4_5db4_11ec_b4aa_784f43507d43row3_col12\" class=\"data row3 col12\" >12</td>\n",
       "                        <td id=\"T_066db1e4_5db4_11ec_b4aa_784f43507d43row3_col13\" class=\"data row3 col13\" >0</td>\n",
       "            </tr>\n",
       "            <tr>\n",
       "                                        <td id=\"T_066db1e4_5db4_11ec_b4aa_784f43507d43row4_col1\" class=\"data row4 col1\" >3.140000</td>\n",
       "                        <td id=\"T_066db1e4_5db4_11ec_b4aa_784f43507d43row4_col2\" class=\"data row4 col2\" >3.175000</td>\n",
       "                        <td id=\"T_066db1e4_5db4_11ec_b4aa_784f43507d43row4_col3\" class=\"data row4 col3\" >3.175000</td>\n",
       "                        <td id=\"T_066db1e4_5db4_11ec_b4aa_784f43507d43row4_col4\" class=\"data row4 col4\" >3.149000</td>\n",
       "                        <td id=\"T_066db1e4_5db4_11ec_b4aa_784f43507d43row4_col5\" class=\"data row4 col5\" >7629.710000</td>\n",
       "                        <td id=\"T_066db1e4_5db4_11ec_b4aa_784f43507d43row4_col6\" class=\"data row4 col6\" >MANA</td>\n",
       "                        <td id=\"T_066db1e4_5db4_11ec_b4aa_784f43507d43row4_col7\" class=\"data row4 col7\" >15min</td>\n",
       "                        <td id=\"T_066db1e4_5db4_11ec_b4aa_784f43507d43row4_col8\" class=\"data row4 col8\" >2021-12-12 11:45:00</td>\n",
       "                        <td id=\"T_066db1e4_5db4_11ec_b4aa_784f43507d43row4_col9\" class=\"data row4 col9\" >2021</td>\n",
       "                        <td id=\"T_066db1e4_5db4_11ec_b4aa_784f43507d43row4_col10\" class=\"data row4 col10\" >12</td>\n",
       "                        <td id=\"T_066db1e4_5db4_11ec_b4aa_784f43507d43row4_col11\" class=\"data row4 col11\" >12</td>\n",
       "                        <td id=\"T_066db1e4_5db4_11ec_b4aa_784f43507d43row4_col12\" class=\"data row4 col12\" >11</td>\n",
       "                        <td id=\"T_066db1e4_5db4_11ec_b4aa_784f43507d43row4_col13\" class=\"data row4 col13\" >45</td>\n",
       "            </tr>\n",
       "    </tbody></table>"
      ],
      "text/plain": [
       "<pandas.io.formats.style.Styler at 0x7fbdb047ba00>"
      ]
     },
     "execution_count": 26,
     "metadata": {},
     "output_type": "execute_result"
    }
   ],
   "source": [
    "print(f'15 minute data included in df_history (in {MY_BASE_CURRENCY}):')\n",
    "df_history.query('granularity == \\'15min\\'').tail(5).style.hide_index().hide_columns(['time'])"
   ]
  },
  {
   "cell_type": "code",
   "execution_count": 27,
   "metadata": {},
   "outputs": [
    {
     "name": "stdout",
     "output_type": "stream",
     "text": [
      "1 minute data included in df_history (in EUR):\n"
     ]
    },
    {
     "data": {
      "text/html": [
       "<style  type=\"text/css\" >\n",
       "</style><table id=\"T_0692e5b8_5db4_11ec_b4aa_784f43507d43\" ><thead>    <tr>        <th class=\"col_heading level0 col1\" >low</th>        <th class=\"col_heading level0 col2\" >high</th>        <th class=\"col_heading level0 col3\" >open</th>        <th class=\"col_heading level0 col4\" >close</th>        <th class=\"col_heading level0 col5\" >volume</th>        <th class=\"col_heading level0 col6\" >currency</th>        <th class=\"col_heading level0 col7\" >granularity</th>        <th class=\"col_heading level0 col8\" >date</th>        <th class=\"col_heading level0 col9\" >year</th>        <th class=\"col_heading level0 col10\" >month</th>        <th class=\"col_heading level0 col11\" >day</th>        <th class=\"col_heading level0 col12\" >hour</th>        <th class=\"col_heading level0 col13\" >minute</th>    </tr></thead><tbody>\n",
       "                <tr>\n",
       "                                        <td id=\"T_0692e5b8_5db4_11ec_b4aa_784f43507d43row0_col1\" class=\"data row0 col1\" >2.744000</td>\n",
       "                        <td id=\"T_0692e5b8_5db4_11ec_b4aa_784f43507d43row0_col2\" class=\"data row0 col2\" >2.755000</td>\n",
       "                        <td id=\"T_0692e5b8_5db4_11ec_b4aa_784f43507d43row0_col3\" class=\"data row0 col3\" >2.755000</td>\n",
       "                        <td id=\"T_0692e5b8_5db4_11ec_b4aa_784f43507d43row0_col4\" class=\"data row0 col4\" >2.750000</td>\n",
       "                        <td id=\"T_0692e5b8_5db4_11ec_b4aa_784f43507d43row0_col5\" class=\"data row0 col5\" >5842.320000</td>\n",
       "                        <td id=\"T_0692e5b8_5db4_11ec_b4aa_784f43507d43row0_col6\" class=\"data row0 col6\" >MANA</td>\n",
       "                        <td id=\"T_0692e5b8_5db4_11ec_b4aa_784f43507d43row0_col7\" class=\"data row0 col7\" >1min</td>\n",
       "                        <td id=\"T_0692e5b8_5db4_11ec_b4aa_784f43507d43row0_col8\" class=\"data row0 col8\" >2021-12-15 12:38:00</td>\n",
       "                        <td id=\"T_0692e5b8_5db4_11ec_b4aa_784f43507d43row0_col9\" class=\"data row0 col9\" >2021</td>\n",
       "                        <td id=\"T_0692e5b8_5db4_11ec_b4aa_784f43507d43row0_col10\" class=\"data row0 col10\" >12</td>\n",
       "                        <td id=\"T_0692e5b8_5db4_11ec_b4aa_784f43507d43row0_col11\" class=\"data row0 col11\" >15</td>\n",
       "                        <td id=\"T_0692e5b8_5db4_11ec_b4aa_784f43507d43row0_col12\" class=\"data row0 col12\" >12</td>\n",
       "                        <td id=\"T_0692e5b8_5db4_11ec_b4aa_784f43507d43row0_col13\" class=\"data row0 col13\" >38</td>\n",
       "            </tr>\n",
       "            <tr>\n",
       "                                        <td id=\"T_0692e5b8_5db4_11ec_b4aa_784f43507d43row1_col1\" class=\"data row1 col1\" >2.754000</td>\n",
       "                        <td id=\"T_0692e5b8_5db4_11ec_b4aa_784f43507d43row1_col2\" class=\"data row1 col2\" >2.769000</td>\n",
       "                        <td id=\"T_0692e5b8_5db4_11ec_b4aa_784f43507d43row1_col3\" class=\"data row1 col3\" >2.769000</td>\n",
       "                        <td id=\"T_0692e5b8_5db4_11ec_b4aa_784f43507d43row1_col4\" class=\"data row1 col4\" >2.754000</td>\n",
       "                        <td id=\"T_0692e5b8_5db4_11ec_b4aa_784f43507d43row1_col5\" class=\"data row1 col5\" >2769.660000</td>\n",
       "                        <td id=\"T_0692e5b8_5db4_11ec_b4aa_784f43507d43row1_col6\" class=\"data row1 col6\" >MANA</td>\n",
       "                        <td id=\"T_0692e5b8_5db4_11ec_b4aa_784f43507d43row1_col7\" class=\"data row1 col7\" >1min</td>\n",
       "                        <td id=\"T_0692e5b8_5db4_11ec_b4aa_784f43507d43row1_col8\" class=\"data row1 col8\" >2021-12-15 12:37:00</td>\n",
       "                        <td id=\"T_0692e5b8_5db4_11ec_b4aa_784f43507d43row1_col9\" class=\"data row1 col9\" >2021</td>\n",
       "                        <td id=\"T_0692e5b8_5db4_11ec_b4aa_784f43507d43row1_col10\" class=\"data row1 col10\" >12</td>\n",
       "                        <td id=\"T_0692e5b8_5db4_11ec_b4aa_784f43507d43row1_col11\" class=\"data row1 col11\" >15</td>\n",
       "                        <td id=\"T_0692e5b8_5db4_11ec_b4aa_784f43507d43row1_col12\" class=\"data row1 col12\" >12</td>\n",
       "                        <td id=\"T_0692e5b8_5db4_11ec_b4aa_784f43507d43row1_col13\" class=\"data row1 col13\" >37</td>\n",
       "            </tr>\n",
       "            <tr>\n",
       "                                        <td id=\"T_0692e5b8_5db4_11ec_b4aa_784f43507d43row2_col1\" class=\"data row2 col1\" >2.769000</td>\n",
       "                        <td id=\"T_0692e5b8_5db4_11ec_b4aa_784f43507d43row2_col2\" class=\"data row2 col2\" >2.778000</td>\n",
       "                        <td id=\"T_0692e5b8_5db4_11ec_b4aa_784f43507d43row2_col3\" class=\"data row2 col3\" >2.773000</td>\n",
       "                        <td id=\"T_0692e5b8_5db4_11ec_b4aa_784f43507d43row2_col4\" class=\"data row2 col4\" >2.769000</td>\n",
       "                        <td id=\"T_0692e5b8_5db4_11ec_b4aa_784f43507d43row2_col5\" class=\"data row2 col5\" >480.990000</td>\n",
       "                        <td id=\"T_0692e5b8_5db4_11ec_b4aa_784f43507d43row2_col6\" class=\"data row2 col6\" >MANA</td>\n",
       "                        <td id=\"T_0692e5b8_5db4_11ec_b4aa_784f43507d43row2_col7\" class=\"data row2 col7\" >1min</td>\n",
       "                        <td id=\"T_0692e5b8_5db4_11ec_b4aa_784f43507d43row2_col8\" class=\"data row2 col8\" >2021-12-15 12:36:00</td>\n",
       "                        <td id=\"T_0692e5b8_5db4_11ec_b4aa_784f43507d43row2_col9\" class=\"data row2 col9\" >2021</td>\n",
       "                        <td id=\"T_0692e5b8_5db4_11ec_b4aa_784f43507d43row2_col10\" class=\"data row2 col10\" >12</td>\n",
       "                        <td id=\"T_0692e5b8_5db4_11ec_b4aa_784f43507d43row2_col11\" class=\"data row2 col11\" >15</td>\n",
       "                        <td id=\"T_0692e5b8_5db4_11ec_b4aa_784f43507d43row2_col12\" class=\"data row2 col12\" >12</td>\n",
       "                        <td id=\"T_0692e5b8_5db4_11ec_b4aa_784f43507d43row2_col13\" class=\"data row2 col13\" >36</td>\n",
       "            </tr>\n",
       "            <tr>\n",
       "                                        <td id=\"T_0692e5b8_5db4_11ec_b4aa_784f43507d43row3_col1\" class=\"data row3 col1\" >2.773000</td>\n",
       "                        <td id=\"T_0692e5b8_5db4_11ec_b4aa_784f43507d43row3_col2\" class=\"data row3 col2\" >2.786000</td>\n",
       "                        <td id=\"T_0692e5b8_5db4_11ec_b4aa_784f43507d43row3_col3\" class=\"data row3 col3\" >2.786000</td>\n",
       "                        <td id=\"T_0692e5b8_5db4_11ec_b4aa_784f43507d43row3_col4\" class=\"data row3 col4\" >2.773000</td>\n",
       "                        <td id=\"T_0692e5b8_5db4_11ec_b4aa_784f43507d43row3_col5\" class=\"data row3 col5\" >1176.690000</td>\n",
       "                        <td id=\"T_0692e5b8_5db4_11ec_b4aa_784f43507d43row3_col6\" class=\"data row3 col6\" >MANA</td>\n",
       "                        <td id=\"T_0692e5b8_5db4_11ec_b4aa_784f43507d43row3_col7\" class=\"data row3 col7\" >1min</td>\n",
       "                        <td id=\"T_0692e5b8_5db4_11ec_b4aa_784f43507d43row3_col8\" class=\"data row3 col8\" >2021-12-15 12:35:00</td>\n",
       "                        <td id=\"T_0692e5b8_5db4_11ec_b4aa_784f43507d43row3_col9\" class=\"data row3 col9\" >2021</td>\n",
       "                        <td id=\"T_0692e5b8_5db4_11ec_b4aa_784f43507d43row3_col10\" class=\"data row3 col10\" >12</td>\n",
       "                        <td id=\"T_0692e5b8_5db4_11ec_b4aa_784f43507d43row3_col11\" class=\"data row3 col11\" >15</td>\n",
       "                        <td id=\"T_0692e5b8_5db4_11ec_b4aa_784f43507d43row3_col12\" class=\"data row3 col12\" >12</td>\n",
       "                        <td id=\"T_0692e5b8_5db4_11ec_b4aa_784f43507d43row3_col13\" class=\"data row3 col13\" >35</td>\n",
       "            </tr>\n",
       "            <tr>\n",
       "                                        <td id=\"T_0692e5b8_5db4_11ec_b4aa_784f43507d43row4_col1\" class=\"data row4 col1\" >2.782000</td>\n",
       "                        <td id=\"T_0692e5b8_5db4_11ec_b4aa_784f43507d43row4_col2\" class=\"data row4 col2\" >2.791000</td>\n",
       "                        <td id=\"T_0692e5b8_5db4_11ec_b4aa_784f43507d43row4_col3\" class=\"data row4 col3\" >2.791000</td>\n",
       "                        <td id=\"T_0692e5b8_5db4_11ec_b4aa_784f43507d43row4_col4\" class=\"data row4 col4\" >2.785000</td>\n",
       "                        <td id=\"T_0692e5b8_5db4_11ec_b4aa_784f43507d43row4_col5\" class=\"data row4 col5\" >1061.270000</td>\n",
       "                        <td id=\"T_0692e5b8_5db4_11ec_b4aa_784f43507d43row4_col6\" class=\"data row4 col6\" >MANA</td>\n",
       "                        <td id=\"T_0692e5b8_5db4_11ec_b4aa_784f43507d43row4_col7\" class=\"data row4 col7\" >1min</td>\n",
       "                        <td id=\"T_0692e5b8_5db4_11ec_b4aa_784f43507d43row4_col8\" class=\"data row4 col8\" >2021-12-15 12:34:00</td>\n",
       "                        <td id=\"T_0692e5b8_5db4_11ec_b4aa_784f43507d43row4_col9\" class=\"data row4 col9\" >2021</td>\n",
       "                        <td id=\"T_0692e5b8_5db4_11ec_b4aa_784f43507d43row4_col10\" class=\"data row4 col10\" >12</td>\n",
       "                        <td id=\"T_0692e5b8_5db4_11ec_b4aa_784f43507d43row4_col11\" class=\"data row4 col11\" >15</td>\n",
       "                        <td id=\"T_0692e5b8_5db4_11ec_b4aa_784f43507d43row4_col12\" class=\"data row4 col12\" >12</td>\n",
       "                        <td id=\"T_0692e5b8_5db4_11ec_b4aa_784f43507d43row4_col13\" class=\"data row4 col13\" >34</td>\n",
       "            </tr>\n",
       "    </tbody></table>"
      ],
      "text/plain": [
       "<pandas.io.formats.style.Styler at 0x7fbdad4092e0>"
      ]
     },
     "execution_count": 27,
     "metadata": {},
     "output_type": "execute_result"
    }
   ],
   "source": [
    "print(f'1 minute data included in df_history (in {MY_BASE_CURRENCY}):')\n",
    "df_history.query('granularity == \\'1min\\'').tail(5).style.hide_index().hide_columns(['time'])"
   ]
  },
  {
   "cell_type": "markdown",
   "metadata": {},
   "source": [
    "## Step 5 - Get More Insights\n",
    "\n",
    "Let's add a few more parameters to the basic data (residing in df_history):\n",
    "\n",
    "- **SMA3 and SMA7 and SMA12** (Simple Moving Average over last 3 and 7 time slices): This is a price based, lagging (or reactive) indicator that displays the average price of a security over a certain period of time. Moving Averages smooth out the “noise” when interpreting charts. Noise is made up of fluctuations of both price and volume. Because a Moving Average is a lagging indicator and reacts to events that have already happened, it is not used as a predictive indicator but rather an interpretive one. Simple Moving Average is an unweighted Moving Average. This means that each period in the data set has equal importance and is weighted equally. \n",
    "- **EMA12 and EMA26** (Exponential Moving Average over last 12 and 26 time slices): The EMA has much less lag than the SMA because it puts a greater importance on more recent prices. It therefore turns quicker than the SMA. You can choose different time slices, but 12 and 26 are commonly used durations.\n",
    "- **MACD** (Moving Average Convergence/Divergence): A great indicator to identify the overall trend of any security (e.g. crypto currencies). It takes the difference between the short term EMA and the long term EMA. A positive MACD value is an indicator for a positive market trend. A negative MACD value is an indicator for a negative market trend. \n",
    "- **MACD Signal**: The MACD Signal line is the EMA over a certain set of time slices of the MACD line. Typically, the value is set to 9 time slices. \n",
    "- **MACD Histogram**: It is the difference between the MACD line and the MACD Signal line. A bullish crossover occurs when the MACD line crosses above the MACD Signal line. A bearish crossover occurrs if the MACD line crosses below the MACD Signal line. \n",
    "- **Open to close performance**: For each time slice, the difference between the closing price and the opening price of that particular period is given as a percentage.\n",
    "- **High low span**: The deviation within one period between the highest and lowest price as a percentage. This shows the volatility within one time slice.\n",
    "- **Absolute performance of last 3 periods**: This indicator provides the performance over the last three time slices as an absolute value.\n",
    "- **Performance of last 3 periods in percentage**: This indicator provides the performance over the last three time slices as a relative value.\n",
    "- **Bull or Bear market**: It simply writes \"Bull\" in case the MACD Histogram is positive and it writes \"Bear\" in case the MACD Histogram value is negative. \n",
    "- **Market trend continued**: To identify a shift from Bull to Bear market and vice versa, this column holds \"True\" in case the trend from the previous time slice continues and \"False\" in case a trend change has occurred. \n",
    "\n",
    "The enhanced data is stored in a pandas dataframe called df_history_enhanced. We will again use the four different granularities defined above.\n",
    "\n",
    "In case you want to learn more about the different trading indicators, take a look [here](https://www.tradingview.com)."
   ]
  },
  {
   "cell_type": "code",
   "execution_count": 28,
   "metadata": {},
   "outputs": [
    {
     "data": {
      "text/html": [
       "<div>\n",
       "<style scoped>\n",
       "    .dataframe tbody tr th:only-of-type {\n",
       "        vertical-align: middle;\n",
       "    }\n",
       "\n",
       "    .dataframe tbody tr th {\n",
       "        vertical-align: top;\n",
       "    }\n",
       "\n",
       "    .dataframe thead th {\n",
       "        text-align: right;\n",
       "    }\n",
       "</style>\n",
       "<table border=\"1\" class=\"dataframe\">\n",
       "  <thead>\n",
       "    <tr style=\"text-align: right;\">\n",
       "      <th></th>\n",
       "      <th>time</th>\n",
       "      <th>low</th>\n",
       "      <th>high</th>\n",
       "      <th>open</th>\n",
       "      <th>close</th>\n",
       "      <th>volume</th>\n",
       "      <th>currency</th>\n",
       "      <th>granularity</th>\n",
       "      <th>date</th>\n",
       "      <th>year</th>\n",
       "      <th>...</th>\n",
       "      <th>EMA26</th>\n",
       "      <th>MACD</th>\n",
       "      <th>MACD_signal</th>\n",
       "      <th>macd_histogram</th>\n",
       "      <th>open_to_close_perf</th>\n",
       "      <th>high_low_span</th>\n",
       "      <th>open_perf_last_3_period_abs</th>\n",
       "      <th>open_perf_last_3_period_per</th>\n",
       "      <th>bull_bear</th>\n",
       "      <th>market_trend_continued</th>\n",
       "    </tr>\n",
       "  </thead>\n",
       "  <tbody>\n",
       "    <tr>\n",
       "      <th>2818</th>\n",
       "      <td>1639309500</td>\n",
       "      <td>1.3578</td>\n",
       "      <td>1.3660</td>\n",
       "      <td>1.3616</td>\n",
       "      <td>1.3605</td>\n",
       "      <td>2349.0</td>\n",
       "      <td>ALGO</td>\n",
       "      <td>15min</td>\n",
       "      <td>2021-12-12 11:45:00</td>\n",
       "      <td>2021</td>\n",
       "      <td>...</td>\n",
       "      <td>1.360500</td>\n",
       "      <td>0.000000</td>\n",
       "      <td>0.000000</td>\n",
       "      <td>0.000000</td>\n",
       "      <td>-0.000808</td>\n",
       "      <td>0.006003</td>\n",
       "      <td>NaN</td>\n",
       "      <td>NaN</td>\n",
       "      <td>Bull</td>\n",
       "      <td>False</td>\n",
       "    </tr>\n",
       "    <tr>\n",
       "      <th>2819</th>\n",
       "      <td>1639310400</td>\n",
       "      <td>1.3540</td>\n",
       "      <td>1.3607</td>\n",
       "      <td>1.3597</td>\n",
       "      <td>1.3607</td>\n",
       "      <td>2821.0</td>\n",
       "      <td>ALGO</td>\n",
       "      <td>15min</td>\n",
       "      <td>2021-12-12 12:00:00</td>\n",
       "      <td>2021</td>\n",
       "      <td>...</td>\n",
       "      <td>1.360515</td>\n",
       "      <td>0.000016</td>\n",
       "      <td>0.000003</td>\n",
       "      <td>0.000013</td>\n",
       "      <td>0.000735</td>\n",
       "      <td>0.004924</td>\n",
       "      <td>NaN</td>\n",
       "      <td>NaN</td>\n",
       "      <td>Bull</td>\n",
       "      <td>True</td>\n",
       "    </tr>\n",
       "    <tr>\n",
       "      <th>2820</th>\n",
       "      <td>1639311300</td>\n",
       "      <td>1.3598</td>\n",
       "      <td>1.3640</td>\n",
       "      <td>1.3598</td>\n",
       "      <td>1.3634</td>\n",
       "      <td>3153.0</td>\n",
       "      <td>ALGO</td>\n",
       "      <td>15min</td>\n",
       "      <td>2021-12-12 12:15:00</td>\n",
       "      <td>2021</td>\n",
       "      <td>...</td>\n",
       "      <td>1.360729</td>\n",
       "      <td>0.000244</td>\n",
       "      <td>0.000051</td>\n",
       "      <td>0.000192</td>\n",
       "      <td>0.002647</td>\n",
       "      <td>0.003079</td>\n",
       "      <td>NaN</td>\n",
       "      <td>NaN</td>\n",
       "      <td>Bull</td>\n",
       "      <td>True</td>\n",
       "    </tr>\n",
       "    <tr>\n",
       "      <th>2821</th>\n",
       "      <td>1639312200</td>\n",
       "      <td>1.3558</td>\n",
       "      <td>1.3632</td>\n",
       "      <td>1.3632</td>\n",
       "      <td>1.3558</td>\n",
       "      <td>10479.0</td>\n",
       "      <td>ALGO</td>\n",
       "      <td>15min</td>\n",
       "      <td>2021-12-12 12:30:00</td>\n",
       "      <td>2021</td>\n",
       "      <td>...</td>\n",
       "      <td>1.360363</td>\n",
       "      <td>-0.000187</td>\n",
       "      <td>0.000004</td>\n",
       "      <td>-0.000191</td>\n",
       "      <td>-0.005428</td>\n",
       "      <td>0.005428</td>\n",
       "      <td>-0.0019</td>\n",
       "      <td>-0.001395</td>\n",
       "      <td>Bear</td>\n",
       "      <td>False</td>\n",
       "    </tr>\n",
       "    <tr>\n",
       "      <th>2822</th>\n",
       "      <td>1639313100</td>\n",
       "      <td>1.3530</td>\n",
       "      <td>1.3580</td>\n",
       "      <td>1.3553</td>\n",
       "      <td>1.3554</td>\n",
       "      <td>4507.0</td>\n",
       "      <td>ALGO</td>\n",
       "      <td>15min</td>\n",
       "      <td>2021-12-12 12:45:00</td>\n",
       "      <td>2021</td>\n",
       "      <td>...</td>\n",
       "      <td>1.359996</td>\n",
       "      <td>-0.000554</td>\n",
       "      <td>-0.000108</td>\n",
       "      <td>-0.000446</td>\n",
       "      <td>0.000074</td>\n",
       "      <td>0.003682</td>\n",
       "      <td>0.0001</td>\n",
       "      <td>0.000074</td>\n",
       "      <td>Bear</td>\n",
       "      <td>True</td>\n",
       "    </tr>\n",
       "    <tr>\n",
       "      <th>2823</th>\n",
       "      <td>1639314000</td>\n",
       "      <td>1.3531</td>\n",
       "      <td>1.3622</td>\n",
       "      <td>1.3540</td>\n",
       "      <td>1.3615</td>\n",
       "      <td>4143.0</td>\n",
       "      <td>ALGO</td>\n",
       "      <td>15min</td>\n",
       "      <td>2021-12-12 13:00:00</td>\n",
       "      <td>2021</td>\n",
       "      <td>...</td>\n",
       "      <td>1.360107</td>\n",
       "      <td>-0.000349</td>\n",
       "      <td>-0.000156</td>\n",
       "      <td>-0.000193</td>\n",
       "      <td>0.005539</td>\n",
       "      <td>0.006680</td>\n",
       "      <td>0.0034</td>\n",
       "      <td>0.002500</td>\n",
       "      <td>Bear</td>\n",
       "      <td>True</td>\n",
       "    </tr>\n",
       "    <tr>\n",
       "      <th>2824</th>\n",
       "      <td>1639314900</td>\n",
       "      <td>1.3565</td>\n",
       "      <td>1.3630</td>\n",
       "      <td>1.3612</td>\n",
       "      <td>1.3573</td>\n",
       "      <td>13297.0</td>\n",
       "      <td>ALGO</td>\n",
       "      <td>15min</td>\n",
       "      <td>2021-12-12 13:15:00</td>\n",
       "      <td>2021</td>\n",
       "      <td>...</td>\n",
       "      <td>1.359899</td>\n",
       "      <td>-0.000519</td>\n",
       "      <td>-0.000229</td>\n",
       "      <td>-0.000290</td>\n",
       "      <td>-0.002865</td>\n",
       "      <td>0.004769</td>\n",
       "      <td>-0.0079</td>\n",
       "      <td>-0.005795</td>\n",
       "      <td>Bear</td>\n",
       "      <td>True</td>\n",
       "    </tr>\n",
       "    <tr>\n",
       "      <th>2825</th>\n",
       "      <td>1639315800</td>\n",
       "      <td>1.3568</td>\n",
       "      <td>1.3625</td>\n",
       "      <td>1.3568</td>\n",
       "      <td>1.3620</td>\n",
       "      <td>9611.0</td>\n",
       "      <td>ALGO</td>\n",
       "      <td>15min</td>\n",
       "      <td>2021-12-12 13:30:00</td>\n",
       "      <td>2021</td>\n",
       "      <td>...</td>\n",
       "      <td>1.360055</td>\n",
       "      <td>-0.000272</td>\n",
       "      <td>-0.000237</td>\n",
       "      <td>-0.000034</td>\n",
       "      <td>0.003833</td>\n",
       "      <td>0.004183</td>\n",
       "      <td>-0.0013</td>\n",
       "      <td>-0.000959</td>\n",
       "      <td>Bear</td>\n",
       "      <td>True</td>\n",
       "    </tr>\n",
       "    <tr>\n",
       "      <th>2826</th>\n",
       "      <td>1639316700</td>\n",
       "      <td>1.3589</td>\n",
       "      <td>1.3682</td>\n",
       "      <td>1.3631</td>\n",
       "      <td>1.3623</td>\n",
       "      <td>6636.0</td>\n",
       "      <td>ALGO</td>\n",
       "      <td>15min</td>\n",
       "      <td>2021-12-12 13:45:00</td>\n",
       "      <td>2021</td>\n",
       "      <td>...</td>\n",
       "      <td>1.360221</td>\n",
       "      <td>-0.000051</td>\n",
       "      <td>-0.000200</td>\n",
       "      <td>0.000149</td>\n",
       "      <td>-0.000587</td>\n",
       "      <td>0.006797</td>\n",
       "      <td>0.0072</td>\n",
       "      <td>0.005318</td>\n",
       "      <td>Bull</td>\n",
       "      <td>False</td>\n",
       "    </tr>\n",
       "    <tr>\n",
       "      <th>2827</th>\n",
       "      <td>1639317600</td>\n",
       "      <td>1.3599</td>\n",
       "      <td>1.3660</td>\n",
       "      <td>1.3620</td>\n",
       "      <td>1.3606</td>\n",
       "      <td>13735.0</td>\n",
       "      <td>ALGO</td>\n",
       "      <td>15min</td>\n",
       "      <td>2021-12-12 14:00:00</td>\n",
       "      <td>2021</td>\n",
       "      <td>...</td>\n",
       "      <td>1.360249</td>\n",
       "      <td>-0.000013</td>\n",
       "      <td>-0.000163</td>\n",
       "      <td>0.000150</td>\n",
       "      <td>-0.001028</td>\n",
       "      <td>0.004466</td>\n",
       "      <td>-0.0044</td>\n",
       "      <td>-0.003232</td>\n",
       "      <td>Bull</td>\n",
       "      <td>True</td>\n",
       "    </tr>\n",
       "  </tbody>\n",
       "</table>\n",
       "<p>10 rows × 27 columns</p>\n",
       "</div>"
      ],
      "text/plain": [
       "            time     low    high    open   close   volume currency  \\\n",
       "2818  1639309500  1.3578  1.3660  1.3616  1.3605   2349.0     ALGO   \n",
       "2819  1639310400  1.3540  1.3607  1.3597  1.3607   2821.0     ALGO   \n",
       "2820  1639311300  1.3598  1.3640  1.3598  1.3634   3153.0     ALGO   \n",
       "2821  1639312200  1.3558  1.3632  1.3632  1.3558  10479.0     ALGO   \n",
       "2822  1639313100  1.3530  1.3580  1.3553  1.3554   4507.0     ALGO   \n",
       "2823  1639314000  1.3531  1.3622  1.3540  1.3615   4143.0     ALGO   \n",
       "2824  1639314900  1.3565  1.3630  1.3612  1.3573  13297.0     ALGO   \n",
       "2825  1639315800  1.3568  1.3625  1.3568  1.3620   9611.0     ALGO   \n",
       "2826  1639316700  1.3589  1.3682  1.3631  1.3623   6636.0     ALGO   \n",
       "2827  1639317600  1.3599  1.3660  1.3620  1.3606  13735.0     ALGO   \n",
       "\n",
       "     granularity                date  year  ...     EMA26      MACD  \\\n",
       "2818       15min 2021-12-12 11:45:00  2021  ...  1.360500  0.000000   \n",
       "2819       15min 2021-12-12 12:00:00  2021  ...  1.360515  0.000016   \n",
       "2820       15min 2021-12-12 12:15:00  2021  ...  1.360729  0.000244   \n",
       "2821       15min 2021-12-12 12:30:00  2021  ...  1.360363 -0.000187   \n",
       "2822       15min 2021-12-12 12:45:00  2021  ...  1.359996 -0.000554   \n",
       "2823       15min 2021-12-12 13:00:00  2021  ...  1.360107 -0.000349   \n",
       "2824       15min 2021-12-12 13:15:00  2021  ...  1.359899 -0.000519   \n",
       "2825       15min 2021-12-12 13:30:00  2021  ...  1.360055 -0.000272   \n",
       "2826       15min 2021-12-12 13:45:00  2021  ...  1.360221 -0.000051   \n",
       "2827       15min 2021-12-12 14:00:00  2021  ...  1.360249 -0.000013   \n",
       "\n",
       "      MACD_signal  macd_histogram  open_to_close_perf  high_low_span  \\\n",
       "2818     0.000000        0.000000           -0.000808       0.006003   \n",
       "2819     0.000003        0.000013            0.000735       0.004924   \n",
       "2820     0.000051        0.000192            0.002647       0.003079   \n",
       "2821     0.000004       -0.000191           -0.005428       0.005428   \n",
       "2822    -0.000108       -0.000446            0.000074       0.003682   \n",
       "2823    -0.000156       -0.000193            0.005539       0.006680   \n",
       "2824    -0.000229       -0.000290           -0.002865       0.004769   \n",
       "2825    -0.000237       -0.000034            0.003833       0.004183   \n",
       "2826    -0.000200        0.000149           -0.000587       0.006797   \n",
       "2827    -0.000163        0.000150           -0.001028       0.004466   \n",
       "\n",
       "      open_perf_last_3_period_abs  open_perf_last_3_period_per  bull_bear  \\\n",
       "2818                          NaN                          NaN       Bull   \n",
       "2819                          NaN                          NaN       Bull   \n",
       "2820                          NaN                          NaN       Bull   \n",
       "2821                      -0.0019                    -0.001395       Bear   \n",
       "2822                       0.0001                     0.000074       Bear   \n",
       "2823                       0.0034                     0.002500       Bear   \n",
       "2824                      -0.0079                    -0.005795       Bear   \n",
       "2825                      -0.0013                    -0.000959       Bear   \n",
       "2826                       0.0072                     0.005318       Bull   \n",
       "2827                      -0.0044                    -0.003232       Bull   \n",
       "\n",
       "      market_trend_continued  \n",
       "2818                   False  \n",
       "2819                    True  \n",
       "2820                    True  \n",
       "2821                   False  \n",
       "2822                    True  \n",
       "2823                    True  \n",
       "2824                    True  \n",
       "2825                    True  \n",
       "2826                   False  \n",
       "2827                    True  \n",
       "\n",
       "[10 rows x 27 columns]"
      ]
     },
     "execution_count": 28,
     "metadata": {},
     "output_type": "execute_result"
    }
   ],
   "source": [
    "currency_history_rows_enhanced = []\n",
    "for currency in MY_CRYPTO_CURRENCIES:\n",
    "    for granularity in GRANULARITIES:\n",
    "        df_history_currency = df_history.query('granularity == @granularity & currency == @currency').copy()\n",
    "        # Oldest to newest date sorting needed for SMA calculation\n",
    "        df_history_currency = df_history_currency.sort_values(['date'], ascending=True)\n",
    "        df_history_currency['SMA3'] = df_history_currency['close'].rolling(window=3).mean()\n",
    "        df_history_currency['SMA7'] = df_history_currency['close'].rolling(window=7).mean()\n",
    "        df_history_currency['EMA12'] = df_history_currency['close'].ewm(span=12, adjust=False).mean()\n",
    "        df_history_currency['EMA26'] = df_history_currency['close'].ewm(span=26, adjust=False).mean()\n",
    "        df_history_currency['MACD'] = df_history_currency['EMA12'] - df_history_currency['EMA26']\n",
    "        df_history_currency['MACD_signal'] = df_history_currency['MACD'].ewm(span=9, adjust=False).mean()\n",
    "        df_history_currency['macd_histogram'] = ((df_history_currency['MACD']-df_history_currency['MACD_signal']))\n",
    "        df_history_currency['open_to_close_perf'] = ((df_history_currency['close']-df_history_currency['open']) / df_history_currency['open'])\n",
    "        df_history_currency['high_low_span'] = ((df_history_currency['high']-df_history_currency['low']) / df_history_currency['high'])\n",
    "        df_history_currency['open_perf_last_3_period_abs'] = df_history_currency['open'].rolling(window=4).apply(lambda x: x.iloc[1] - x.iloc[0])\n",
    "        df_history_currency['open_perf_last_3_period_per'] = df_history_currency['open'].rolling(window=4).apply(lambda x: (x.iloc[1] - x.iloc[0])/x.iloc[0])\n",
    "        df_history_currency['bull_bear'] = np.where(df_history_currency['macd_histogram']< 0, 'Bear', 'Bull')\n",
    "        currency_history_rows_enhanced.append(df_history_currency)\n",
    "df_history_enhanced = pd.concat(currency_history_rows_enhanced, ignore_index=True)\n",
    "# Last step to tag changes in market trends from one period to the other (sorting important)\n",
    "df_history_enhanced = df_history_enhanced.sort_values(['currency','granularity','date'], ascending=True)\n",
    "df_history_enhanced['market_trend_continued'] = df_history_enhanced.bull_bear.eq(df_history_enhanced.bull_bear.shift()) & df_history_enhanced.currency.eq(df_history_enhanced.currency.shift()) & df_history_enhanced.granularity.eq(df_history_enhanced.granularity.shift())\n",
    "df_history_enhanced.head(10)"
   ]
  },
  {
   "cell_type": "markdown",
   "metadata": {},
   "source": [
    "## Step 6 - Print Out Selected Information\n",
    "\n",
    "Now, we can leverage the data which is available in df_history_enhanced to compile some basic parameters that we might want to use in a personal dashboard down the line."
   ]
  },
  {
   "cell_type": "code",
   "execution_count": 29,
   "metadata": {},
   "outputs": [
    {
     "data": {
      "text/html": [
       "<div>\n",
       "<style scoped>\n",
       "    .dataframe tbody tr th:only-of-type {\n",
       "        vertical-align: middle;\n",
       "    }\n",
       "\n",
       "    .dataframe tbody tr th {\n",
       "        vertical-align: top;\n",
       "    }\n",
       "\n",
       "    .dataframe thead th {\n",
       "        text-align: right;\n",
       "    }\n",
       "</style>\n",
       "<table border=\"1\" class=\"dataframe\">\n",
       "  <thead>\n",
       "    <tr style=\"text-align: right;\">\n",
       "      <th>currency</th>\n",
       "      <th>BTC</th>\n",
       "      <th>ETH</th>\n",
       "      <th>LTC</th>\n",
       "      <th>ALGO</th>\n",
       "      <th>SHIB</th>\n",
       "      <th>MANA</th>\n",
       "    </tr>\n",
       "  </thead>\n",
       "  <tbody>\n",
       "    <tr>\n",
       "      <th>current_val</th>\n",
       "      <td>42,270.27€</td>\n",
       "      <td>3,378.65€</td>\n",
       "      <td>131.09€</td>\n",
       "      <td>1.21€</td>\n",
       "      <td>0.00€</td>\n",
       "      <td>2.73€</td>\n",
       "    </tr>\n",
       "    <tr>\n",
       "      <th>1min_trend</th>\n",
       "      <td>Bear</td>\n",
       "      <td>Bear</td>\n",
       "      <td>Bear</td>\n",
       "      <td>Bear</td>\n",
       "      <td>Bear</td>\n",
       "      <td>Bear</td>\n",
       "    </tr>\n",
       "    <tr>\n",
       "      <th>1min_prev_trend</th>\n",
       "      <td>Bear</td>\n",
       "      <td>Bear</td>\n",
       "      <td>Bear</td>\n",
       "      <td>Bear</td>\n",
       "      <td>Bear</td>\n",
       "      <td>Bear</td>\n",
       "    </tr>\n",
       "    <tr>\n",
       "      <th>15min_trend</th>\n",
       "      <td>Bear</td>\n",
       "      <td>Bear</td>\n",
       "      <td>Bear</td>\n",
       "      <td>Bear</td>\n",
       "      <td>Bear</td>\n",
       "      <td>Bear</td>\n",
       "    </tr>\n",
       "    <tr>\n",
       "      <th>15min_prev_trend</th>\n",
       "      <td>Bear</td>\n",
       "      <td>Bear</td>\n",
       "      <td>Bear</td>\n",
       "      <td>Bear</td>\n",
       "      <td>Bear</td>\n",
       "      <td>Bear</td>\n",
       "    </tr>\n",
       "    <tr>\n",
       "      <th>60min_trend</th>\n",
       "      <td>Bear</td>\n",
       "      <td>Bear</td>\n",
       "      <td>Bear</td>\n",
       "      <td>Bear</td>\n",
       "      <td>Bear</td>\n",
       "      <td>Bear</td>\n",
       "    </tr>\n",
       "    <tr>\n",
       "      <th>60min_prev_trend</th>\n",
       "      <td>Bear</td>\n",
       "      <td>Bear</td>\n",
       "      <td>Bear</td>\n",
       "      <td>Bear</td>\n",
       "      <td>Bear</td>\n",
       "      <td>Bear</td>\n",
       "    </tr>\n",
       "    <tr>\n",
       "      <th>24h_low</th>\n",
       "      <td>41,227.25€</td>\n",
       "      <td>3,308.08€</td>\n",
       "      <td>129.20€</td>\n",
       "      <td>1.17€</td>\n",
       "      <td>0.00€</td>\n",
       "      <td>2.66€</td>\n",
       "    </tr>\n",
       "    <tr>\n",
       "      <th>30day_low</th>\n",
       "      <td>39,505.01€</td>\n",
       "      <td>3,203.90€</td>\n",
       "      <td>120.00€</td>\n",
       "      <td>1.16€</td>\n",
       "      <td>0.00€</td>\n",
       "      <td>2.42€</td>\n",
       "    </tr>\n",
       "    <tr>\n",
       "      <th>90day_low</th>\n",
       "      <td>33,768.45€</td>\n",
       "      <td>2,260.06€</td>\n",
       "      <td>119.71€</td>\n",
       "      <td>1.16€</td>\n",
       "      <td>0.00€</td>\n",
       "      <td>0.51€</td>\n",
       "    </tr>\n",
       "    <tr>\n",
       "      <th>24h_high</th>\n",
       "      <td>43,301.99€</td>\n",
       "      <td>3,463.11€</td>\n",
       "      <td>135.46€</td>\n",
       "      <td>1.24€</td>\n",
       "      <td>0.00€</td>\n",
       "      <td>2.86€</td>\n",
       "    </tr>\n",
       "    <tr>\n",
       "      <th>30day_high</th>\n",
       "      <td>56,015.84€</td>\n",
       "      <td>4,224.19€</td>\n",
       "      <td>231.65€</td>\n",
       "      <td>2.49€</td>\n",
       "      <td>0.00€</td>\n",
       "      <td>5.27€</td>\n",
       "    </tr>\n",
       "    <tr>\n",
       "      <th>90day_high</th>\n",
       "      <td>59,704.84€</td>\n",
       "      <td>4,224.19€</td>\n",
       "      <td>260.20€</td>\n",
       "      <td>2.49€</td>\n",
       "      <td>0.00€</td>\n",
       "      <td>5.27€</td>\n",
       "    </tr>\n",
       "    <tr>\n",
       "      <th>90day_max_high_low_span</th>\n",
       "      <td>17.20%</td>\n",
       "      <td>14.70%</td>\n",
       "      <td>28.40%</td>\n",
       "      <td>41.40%</td>\n",
       "      <td>31.30%</td>\n",
       "      <td>74.80%</td>\n",
       "    </tr>\n",
       "    <tr>\n",
       "      <th>12day_max_high_low_span</th>\n",
       "      <td>11.90%</td>\n",
       "      <td>10.40%</td>\n",
       "      <td>19.70%</td>\n",
       "      <td>14.30%</td>\n",
       "      <td>20.10%</td>\n",
       "      <td>18.20%</td>\n",
       "    </tr>\n",
       "  </tbody>\n",
       "</table>\n",
       "</div>"
      ],
      "text/plain": [
       "currency                        BTC        ETH      LTC    ALGO    SHIB  \\\n",
       "current_val              42,270.27€  3,378.65€  131.09€   1.21€   0.00€   \n",
       "1min_trend                     Bear       Bear     Bear    Bear    Bear   \n",
       "1min_prev_trend                Bear       Bear     Bear    Bear    Bear   \n",
       "15min_trend                    Bear       Bear     Bear    Bear    Bear   \n",
       "15min_prev_trend               Bear       Bear     Bear    Bear    Bear   \n",
       "60min_trend                    Bear       Bear     Bear    Bear    Bear   \n",
       "60min_prev_trend               Bear       Bear     Bear    Bear    Bear   \n",
       "24h_low                  41,227.25€  3,308.08€  129.20€   1.17€   0.00€   \n",
       "30day_low                39,505.01€  3,203.90€  120.00€   1.16€   0.00€   \n",
       "90day_low                33,768.45€  2,260.06€  119.71€   1.16€   0.00€   \n",
       "24h_high                 43,301.99€  3,463.11€  135.46€   1.24€   0.00€   \n",
       "30day_high               56,015.84€  4,224.19€  231.65€   2.49€   0.00€   \n",
       "90day_high               59,704.84€  4,224.19€  260.20€   2.49€   0.00€   \n",
       "90day_max_high_low_span      17.20%     14.70%   28.40%  41.40%  31.30%   \n",
       "12day_max_high_low_span      11.90%     10.40%   19.70%  14.30%  20.10%   \n",
       "\n",
       "currency                   MANA  \n",
       "current_val               2.73€  \n",
       "1min_trend                 Bear  \n",
       "1min_prev_trend            Bear  \n",
       "15min_trend                Bear  \n",
       "15min_prev_trend           Bear  \n",
       "60min_trend                Bear  \n",
       "60min_prev_trend           Bear  \n",
       "24h_low                   2.66€  \n",
       "30day_low                 2.42€  \n",
       "90day_low                 0.51€  \n",
       "24h_high                  2.86€  \n",
       "30day_high                5.27€  \n",
       "90day_high                5.27€  \n",
       "90day_max_high_low_span  74.80%  \n",
       "12day_max_high_low_span  18.20%  "
      ]
     },
     "execution_count": 29,
     "metadata": {},
     "output_type": "execute_result"
    }
   ],
   "source": [
    "additional_info_rows = []\n",
    "for currency in MY_CRYPTO_CURRENCIES:\n",
    "    df_history_enhanced = df_history_enhanced.sort_values(['date'], ascending=True) #oldest to newest\n",
    "    row_data = [currency,\n",
    "        float(df_24hstats.query('currency == @currency')['last'].to_string(index=False)), # current value\n",
    "        df_history_enhanced.query('granularity == \\'1min\\' and currency == @currency').tail(1)['bull_bear'].to_string(index=False), # 1min market trend\n",
    "        df_history_enhanced.query('granularity == \\'1min\\' and currency == @currency').iloc[-2]['bull_bear'], # prev 1min market trend\n",
    "        df_history_enhanced.query('granularity == \\'15min\\' and currency == @currency').tail(1)['bull_bear'].to_string(index=False), #15min market trend\n",
    "        df_history_enhanced.query('granularity == \\'15min\\' and currency == @currency').iloc[-2]['bull_bear'], # prev 15min market trend\n",
    "        df_history_enhanced.query('granularity == \\'60min\\' and currency == @currency').tail(1)['bull_bear'].to_string(index=False), # 60min market trend\n",
    "        df_history_enhanced.query('granularity == \\'60min\\' and currency == @currency').iloc[-2]['bull_bear'], # prev 60min market trend\n",
    "        df_history_enhanced.query('granularity == \\'60min\\' and currency == @currency').tail(24)['low'].min(), # lowest last 24h\n",
    "        df_history_enhanced.query('granularity == \\'daily\\' and currency == @currency').tail(30)['low'].min(), # lowest last 30d\n",
    "        df_history_enhanced.query('granularity == \\'daily\\' and currency == @currency').tail(90)['low'].min(), # lowest last 90d\n",
    "        df_history_enhanced.query('granularity == \\'60min\\' and currency == @currency').tail(24)['high'].max(), # highest last 24h\n",
    "        df_history_enhanced.query('granularity == \\'daily\\' and currency == @currency').tail(30)['high'].max(), # highest last 30d\n",
    "        df_history_enhanced.query('granularity == \\'daily\\' and currency == @currency').tail(90)['high'].max(), # highest last 90d\n",
    "        round(df_history_enhanced.query('granularity == \\'daily\\' and currency == @currency').tail(90)['high_low_span'].max(),3), # max daily high/low difference last 90d\n",
    "        round(df_history_enhanced.query('granularity == \\'60min\\' and currency == @currency')['high_low_span'].max(),3) # max daily high/low difference last 12.5d\n",
    "        ]\n",
    "    additional_info_rows.append(row_data)\n",
    "df_additional_info = pd.DataFrame(additional_info_rows, columns = ['currency',\n",
    "                                                                    'current_val',\n",
    "                                                                    '1min_trend',\n",
    "                                                                    '1min_prev_trend',\n",
    "                                                                    '15min_trend',\n",
    "                                                                    '15min_prev_trend',\n",
    "                                                                    '60min_trend',\n",
    "                                                                    '60min_prev_trend',\n",
    "                                                                    '24h_low',\n",
    "                                                                    '30day_low',\n",
    "                                                                    '90day_low',\n",
    "                                                                    '24h_high',\n",
    "                                                                    '30day_high',\n",
    "                                                                    '90day_high',\n",
    "                                                                    '90day_max_high_low_span',\n",
    "                                                                    '12day_max_high_low_span'])\n",
    "df_additional_info['current_val'] = df_additional_info['current_val'].apply(lambda x: \"{:,.2f}€\".format((x)))\n",
    "df_additional_info['24h_low'] = df_additional_info['24h_low'].apply(lambda x: \"{:,.2f}€\".format((x)))\n",
    "df_additional_info['30day_low'] = df_additional_info['30day_low'].apply(lambda x: \"{:,.2f}€\".format((x)))\n",
    "df_additional_info['90day_low'] = df_additional_info['90day_low'].apply(lambda x: \"{:,.2f}€\".format((x)))\n",
    "df_additional_info['24h_high'] = df_additional_info['24h_high'].apply(lambda x: \"{:,.2f}€\".format((x)))\n",
    "df_additional_info['30day_high'] = df_additional_info['30day_high'].apply(lambda x: \"{:,.2f}€\".format((x)))\n",
    "df_additional_info['90day_high'] = df_additional_info['90day_high'].apply(lambda x: \"{:,.2f}€\".format((x)))\n",
    "df_additional_info['90day_max_high_low_span'] = (df_additional_info['90day_max_high_low_span']*100).apply(lambda x: \"{:.2f}%\".format((x)))\n",
    "df_additional_info['12day_max_high_low_span'] = (df_additional_info['12day_max_high_low_span']*100).apply(lambda x: \"{:.2f}%\".format((x)))\n",
    "df_additional_info.set_index('currency').transpose()"
   ]
  },
  {
   "cell_type": "markdown",
   "metadata": {},
   "source": [
    "## Step 7 - Visualize Data\n",
    "\n",
    "For visualization, we will use the powerful [plotly](https://plotly.com) library. It will give us the possibility to slice and dice data in an interactive way. Exactly what we need for an in-depth analysis of our daily market data.\n",
    "\n",
    "### Simple Visualization\n",
    "\n",
    "First, let's create a simple OHLC (Open, High, Low, Close) candle stick chart for each of our currencies."
   ]
  },
  {
   "cell_type": "code",
   "execution_count": 30,
   "metadata": {},
   "outputs": [
    {
     "data": {
      "application/vnd.plotly.v1+json": {
       "config": {
        "plotlyServerURL": "https://plot.ly"
       },
       "data": [
        {
         "close": [
          40345.49,
          41233.35,
          40303.53,
          36694.02,
          34740,
          37302.24,
          38238.89,
          36573.2,
          36467.24,
          36862.41,
          36081.41,
          35138.56,
          35812.93,
          37859.21,
          41489.21,
          41004.12,
          41498.14,
          42359.05,
          44375.38,
          47785.77,
          46458.97,
          46665.31,
          47468.29,
          47299.94,
          49750.01,
          48570.79,
          49445.26,
          49451.47,
          53049.3,
          52185.88,
          52914,
          53464.16,
          55230.27,
          56569.94,
          53502.11,
          52136.54,
          52722.17,
          52289.26,
          54341.57,
          52038.92,
          50425,
          51876.18,
          53834.36,
          53549.5,
          53075.12,
          52544.53,
          54630.8,
          54200,
          53221.3,
          52832.65,
          53310.69,
          54790.6,
          58293.11,
          57750,
          56526.31,
          56655.42,
          56052.21,
          56397.22,
          57310.88,
          56019.58,
          53138.71,
          53378.41,
          50090.22,
          51589.31,
          53055.6,
          52070.51,
          50101.46,
          51201.98,
          51032.23,
          52638.43,
          47649.26,
          48443.47,
          50823.22,
          51231.95,
          50309.77,
          50555.1,
          50026.55,
          47535.82,
          43604.66,
          43750.65,
          44776.64,
          44919.28,
          44523.48,
          42115.92,
          41719.28,
          43732.78,
          44304.18,
          41389.36,
          42955.02,
          42210.06
         ],
         "decreasing": {
          "fillcolor": "gray",
          "line": {
           "color": "gray"
          }
         },
         "high": [
          40923.94,
          41650.96,
          41285.25,
          40390.51,
          37226.74,
          37500,
          38329.2,
          38489.05,
          36751.38,
          37491.3,
          37847.82,
          36601.77,
          36555.55,
          38100,
          41819.4,
          41658.38,
          42347.47,
          42600,
          44740.15,
          48137.6,
          47789.39,
          48490,
          47939.85,
          48800,
          50024.99,
          49886.96,
          49780.02,
          50439.02,
          54013.12,
          53616.89,
          53059.23,
          53980,
          55400,
          57499.99,
          57250,
          54775.51,
          53049.55,
          52890.49,
          54924.03,
          54534.27,
          53000,
          53476.79,
          54518.83,
          53936.5,
          53990.98,
          53999,
          55486.8,
          54879.97,
          54368.94,
          54253.61,
          53360.21,
          54794.87,
          58498,
          59114,
          59704.84,
          57293.47,
          57263.2,
          56916.99,
          57310.88,
          57995.14,
          56015.84,
          53841.8,
          53869.48,
          51713.04,
          53177.13,
          53285,
          52792.68,
          51478.38,
          51334.8,
          53035.84,
          52826.29,
          49033.88,
          50968.25,
          52281.64,
          52081.72,
          52149.51,
          50715.84,
          50978.31,
          47718.95,
          44071.64,
          45285.25,
          46250,
          45273.2,
          44824.43,
          44332.04,
          43834.94,
          44936.72,
          44403.76,
          43250,
          43301.99
         ],
         "increasing": {
          "fillcolor": "cyan",
          "line": {
           "color": "cyan"
          }
         },
         "low": [
          39883.75,
          40143.18,
          39984.44,
          36270.68,
          33768.45,
          34615.57,
          36878.82,
          34750,
          35614.83,
          34864.92,
          36023,
          35000,
          34905.05,
          35709,
          37404.41,
          40908.94,
          40556.13,
          40365.33,
          42185.67,
          43644.7,
          46118.86,
          46357.27,
          46390,
          46768.16,
          47063.17,
          46750,
          46972,
          48975.68,
          49020,
          51584.15,
          50711,
          51634.9,
          52580.63,
          54520,
          53350,
          51600,
          51266.52,
          51202.41,
          52094.52,
          51614.51,
          49972.48,
          49510,
          51522.86,
          52614.32,
          51978.71,
          51472.78,
          52313.71,
          52222,
          52600.01,
          52584.42,
          52133.72,
          53183.87,
          54778.96,
          57124.08,
          54974.76,
          55905.65,
          54483.31,
          55445.64,
          55694.1,
          55824.12,
          51500.45,
          51675.47,
          49718.6,
          49022,
          50985.88,
          52001.54,
          49567.78,
          49250,
          49909.76,
          50911.87,
          47419.55,
          47493.87,
          47120,
          50293.56,
          49403.49,
          49909.72,
          49285.23,
          45900,
          39505.01,
          42183.07,
          41806,
          44428.24,
          43172,
          41920,
          41480,
          41390,
          43077.09,
          40515.7,
          41020,
          42138.33
         ],
         "name": "OHLC",
         "open": [
          40583.01,
          40352.85,
          41227.83,
          40310,
          36694.02,
          34727.76,
          37293.91,
          38238.89,
          36576.05,
          36463.6,
          36831.39,
          36070.76,
          35119.71,
          35809.67,
          37870.63,
          41495.88,
          41000.65,
          41494.93,
          42352.27,
          44388.65,
          47785.82,
          46465.6,
          46649.16,
          47449.61,
          47272.24,
          49750.43,
          48562.47,
          49445.27,
          49451.14,
          53074.21,
          52173.89,
          52914.95,
          53451.39,
          55241.6,
          56569.92,
          53486.27,
          52134.1,
          52705.92,
          52278.65,
          54338.42,
          52035.75,
          50412.68,
          51874.32,
          53836.3,
          53551.42,
          53074.49,
          52552.83,
          54654.24,
          54201.3,
          53209.04,
          52816.7,
          53302.89,
          54778.96,
          58278.1,
          57760.9,
          56534.15,
          56630.88,
          56052.21,
          56391.39,
          57307.73,
          56009.97,
          53125.09,
          53371.9,
          50105.85,
          51589.7,
          53059.2,
          52074.51,
          50093.86,
          51212.05,
          51027.79,
          52653.5,
          47607.57,
          48433.73,
          50796.89,
          51222.63,
          50288.45,
          50566.76,
          50016.02,
          47489.96,
          43591.64,
          43760,
          44764.59,
          44907.26,
          44535.19,
          42121.7,
          41718.12,
          43739.03,
          44302.59,
          41408.06,
          42950
         ],
         "type": "candlestick",
         "x": [
          "2021-09-17T00:00:00",
          "2021-09-18T00:00:00",
          "2021-09-19T00:00:00",
          "2021-09-20T00:00:00",
          "2021-09-21T00:00:00",
          "2021-09-22T00:00:00",
          "2021-09-23T00:00:00",
          "2021-09-24T00:00:00",
          "2021-09-25T00:00:00",
          "2021-09-26T00:00:00",
          "2021-09-27T00:00:00",
          "2021-09-28T00:00:00",
          "2021-09-29T00:00:00",
          "2021-09-30T00:00:00",
          "2021-10-01T00:00:00",
          "2021-10-02T00:00:00",
          "2021-10-03T00:00:00",
          "2021-10-04T00:00:00",
          "2021-10-05T00:00:00",
          "2021-10-06T00:00:00",
          "2021-10-07T00:00:00",
          "2021-10-08T00:00:00",
          "2021-10-09T00:00:00",
          "2021-10-10T00:00:00",
          "2021-10-11T00:00:00",
          "2021-10-12T00:00:00",
          "2021-10-13T00:00:00",
          "2021-10-14T00:00:00",
          "2021-10-15T00:00:00",
          "2021-10-16T00:00:00",
          "2021-10-17T00:00:00",
          "2021-10-18T00:00:00",
          "2021-10-19T00:00:00",
          "2021-10-20T00:00:00",
          "2021-10-21T00:00:00",
          "2021-10-22T00:00:00",
          "2021-10-23T00:00:00",
          "2021-10-24T00:00:00",
          "2021-10-25T00:00:00",
          "2021-10-26T00:00:00",
          "2021-10-27T00:00:00",
          "2021-10-28T00:00:00",
          "2021-10-29T00:00:00",
          "2021-10-30T00:00:00",
          "2021-10-31T00:00:00",
          "2021-11-01T00:00:00",
          "2021-11-02T00:00:00",
          "2021-11-03T00:00:00",
          "2021-11-04T00:00:00",
          "2021-11-05T00:00:00",
          "2021-11-06T00:00:00",
          "2021-11-07T00:00:00",
          "2021-11-08T00:00:00",
          "2021-11-09T00:00:00",
          "2021-11-10T00:00:00",
          "2021-11-11T00:00:00",
          "2021-11-12T00:00:00",
          "2021-11-13T00:00:00",
          "2021-11-14T00:00:00",
          "2021-11-15T00:00:00",
          "2021-11-16T00:00:00",
          "2021-11-17T00:00:00",
          "2021-11-18T00:00:00",
          "2021-11-19T00:00:00",
          "2021-11-20T00:00:00",
          "2021-11-21T00:00:00",
          "2021-11-22T00:00:00",
          "2021-11-23T00:00:00",
          "2021-11-24T00:00:00",
          "2021-11-25T00:00:00",
          "2021-11-26T00:00:00",
          "2021-11-27T00:00:00",
          "2021-11-28T00:00:00",
          "2021-11-29T00:00:00",
          "2021-11-30T00:00:00",
          "2021-12-01T00:00:00",
          "2021-12-02T00:00:00",
          "2021-12-03T00:00:00",
          "2021-12-04T00:00:00",
          "2021-12-05T00:00:00",
          "2021-12-06T00:00:00",
          "2021-12-07T00:00:00",
          "2021-12-08T00:00:00",
          "2021-12-09T00:00:00",
          "2021-12-10T00:00:00",
          "2021-12-11T00:00:00",
          "2021-12-12T00:00:00",
          "2021-12-13T00:00:00",
          "2021-12-14T00:00:00",
          "2021-12-15T00:00:00"
         ]
        }
       ],
       "layout": {
        "template": {
         "data": {
          "bar": [
           {
            "error_x": {
             "color": "#2a3f5f"
            },
            "error_y": {
             "color": "#2a3f5f"
            },
            "marker": {
             "line": {
              "color": "#E5ECF6",
              "width": 0.5
             }
            },
            "type": "bar"
           }
          ],
          "barpolar": [
           {
            "marker": {
             "line": {
              "color": "#E5ECF6",
              "width": 0.5
             }
            },
            "type": "barpolar"
           }
          ],
          "carpet": [
           {
            "aaxis": {
             "endlinecolor": "#2a3f5f",
             "gridcolor": "white",
             "linecolor": "white",
             "minorgridcolor": "white",
             "startlinecolor": "#2a3f5f"
            },
            "baxis": {
             "endlinecolor": "#2a3f5f",
             "gridcolor": "white",
             "linecolor": "white",
             "minorgridcolor": "white",
             "startlinecolor": "#2a3f5f"
            },
            "type": "carpet"
           }
          ],
          "choropleth": [
           {
            "colorbar": {
             "outlinewidth": 0,
             "ticks": ""
            },
            "type": "choropleth"
           }
          ],
          "contour": [
           {
            "colorbar": {
             "outlinewidth": 0,
             "ticks": ""
            },
            "colorscale": [
             [
              0,
              "#0d0887"
             ],
             [
              0.1111111111111111,
              "#46039f"
             ],
             [
              0.2222222222222222,
              "#7201a8"
             ],
             [
              0.3333333333333333,
              "#9c179e"
             ],
             [
              0.4444444444444444,
              "#bd3786"
             ],
             [
              0.5555555555555556,
              "#d8576b"
             ],
             [
              0.6666666666666666,
              "#ed7953"
             ],
             [
              0.7777777777777778,
              "#fb9f3a"
             ],
             [
              0.8888888888888888,
              "#fdca26"
             ],
             [
              1,
              "#f0f921"
             ]
            ],
            "type": "contour"
           }
          ],
          "contourcarpet": [
           {
            "colorbar": {
             "outlinewidth": 0,
             "ticks": ""
            },
            "type": "contourcarpet"
           }
          ],
          "heatmap": [
           {
            "colorbar": {
             "outlinewidth": 0,
             "ticks": ""
            },
            "colorscale": [
             [
              0,
              "#0d0887"
             ],
             [
              0.1111111111111111,
              "#46039f"
             ],
             [
              0.2222222222222222,
              "#7201a8"
             ],
             [
              0.3333333333333333,
              "#9c179e"
             ],
             [
              0.4444444444444444,
              "#bd3786"
             ],
             [
              0.5555555555555556,
              "#d8576b"
             ],
             [
              0.6666666666666666,
              "#ed7953"
             ],
             [
              0.7777777777777778,
              "#fb9f3a"
             ],
             [
              0.8888888888888888,
              "#fdca26"
             ],
             [
              1,
              "#f0f921"
             ]
            ],
            "type": "heatmap"
           }
          ],
          "heatmapgl": [
           {
            "colorbar": {
             "outlinewidth": 0,
             "ticks": ""
            },
            "colorscale": [
             [
              0,
              "#0d0887"
             ],
             [
              0.1111111111111111,
              "#46039f"
             ],
             [
              0.2222222222222222,
              "#7201a8"
             ],
             [
              0.3333333333333333,
              "#9c179e"
             ],
             [
              0.4444444444444444,
              "#bd3786"
             ],
             [
              0.5555555555555556,
              "#d8576b"
             ],
             [
              0.6666666666666666,
              "#ed7953"
             ],
             [
              0.7777777777777778,
              "#fb9f3a"
             ],
             [
              0.8888888888888888,
              "#fdca26"
             ],
             [
              1,
              "#f0f921"
             ]
            ],
            "type": "heatmapgl"
           }
          ],
          "histogram": [
           {
            "marker": {
             "colorbar": {
              "outlinewidth": 0,
              "ticks": ""
             }
            },
            "type": "histogram"
           }
          ],
          "histogram2d": [
           {
            "colorbar": {
             "outlinewidth": 0,
             "ticks": ""
            },
            "colorscale": [
             [
              0,
              "#0d0887"
             ],
             [
              0.1111111111111111,
              "#46039f"
             ],
             [
              0.2222222222222222,
              "#7201a8"
             ],
             [
              0.3333333333333333,
              "#9c179e"
             ],
             [
              0.4444444444444444,
              "#bd3786"
             ],
             [
              0.5555555555555556,
              "#d8576b"
             ],
             [
              0.6666666666666666,
              "#ed7953"
             ],
             [
              0.7777777777777778,
              "#fb9f3a"
             ],
             [
              0.8888888888888888,
              "#fdca26"
             ],
             [
              1,
              "#f0f921"
             ]
            ],
            "type": "histogram2d"
           }
          ],
          "histogram2dcontour": [
           {
            "colorbar": {
             "outlinewidth": 0,
             "ticks": ""
            },
            "colorscale": [
             [
              0,
              "#0d0887"
             ],
             [
              0.1111111111111111,
              "#46039f"
             ],
             [
              0.2222222222222222,
              "#7201a8"
             ],
             [
              0.3333333333333333,
              "#9c179e"
             ],
             [
              0.4444444444444444,
              "#bd3786"
             ],
             [
              0.5555555555555556,
              "#d8576b"
             ],
             [
              0.6666666666666666,
              "#ed7953"
             ],
             [
              0.7777777777777778,
              "#fb9f3a"
             ],
             [
              0.8888888888888888,
              "#fdca26"
             ],
             [
              1,
              "#f0f921"
             ]
            ],
            "type": "histogram2dcontour"
           }
          ],
          "mesh3d": [
           {
            "colorbar": {
             "outlinewidth": 0,
             "ticks": ""
            },
            "type": "mesh3d"
           }
          ],
          "parcoords": [
           {
            "line": {
             "colorbar": {
              "outlinewidth": 0,
              "ticks": ""
             }
            },
            "type": "parcoords"
           }
          ],
          "pie": [
           {
            "automargin": true,
            "type": "pie"
           }
          ],
          "scatter": [
           {
            "marker": {
             "colorbar": {
              "outlinewidth": 0,
              "ticks": ""
             }
            },
            "type": "scatter"
           }
          ],
          "scatter3d": [
           {
            "line": {
             "colorbar": {
              "outlinewidth": 0,
              "ticks": ""
             }
            },
            "marker": {
             "colorbar": {
              "outlinewidth": 0,
              "ticks": ""
             }
            },
            "type": "scatter3d"
           }
          ],
          "scattercarpet": [
           {
            "marker": {
             "colorbar": {
              "outlinewidth": 0,
              "ticks": ""
             }
            },
            "type": "scattercarpet"
           }
          ],
          "scattergeo": [
           {
            "marker": {
             "colorbar": {
              "outlinewidth": 0,
              "ticks": ""
             }
            },
            "type": "scattergeo"
           }
          ],
          "scattergl": [
           {
            "marker": {
             "colorbar": {
              "outlinewidth": 0,
              "ticks": ""
             }
            },
            "type": "scattergl"
           }
          ],
          "scattermapbox": [
           {
            "marker": {
             "colorbar": {
              "outlinewidth": 0,
              "ticks": ""
             }
            },
            "type": "scattermapbox"
           }
          ],
          "scatterpolar": [
           {
            "marker": {
             "colorbar": {
              "outlinewidth": 0,
              "ticks": ""
             }
            },
            "type": "scatterpolar"
           }
          ],
          "scatterpolargl": [
           {
            "marker": {
             "colorbar": {
              "outlinewidth": 0,
              "ticks": ""
             }
            },
            "type": "scatterpolargl"
           }
          ],
          "scatterternary": [
           {
            "marker": {
             "colorbar": {
              "outlinewidth": 0,
              "ticks": ""
             }
            },
            "type": "scatterternary"
           }
          ],
          "surface": [
           {
            "colorbar": {
             "outlinewidth": 0,
             "ticks": ""
            },
            "colorscale": [
             [
              0,
              "#0d0887"
             ],
             [
              0.1111111111111111,
              "#46039f"
             ],
             [
              0.2222222222222222,
              "#7201a8"
             ],
             [
              0.3333333333333333,
              "#9c179e"
             ],
             [
              0.4444444444444444,
              "#bd3786"
             ],
             [
              0.5555555555555556,
              "#d8576b"
             ],
             [
              0.6666666666666666,
              "#ed7953"
             ],
             [
              0.7777777777777778,
              "#fb9f3a"
             ],
             [
              0.8888888888888888,
              "#fdca26"
             ],
             [
              1,
              "#f0f921"
             ]
            ],
            "type": "surface"
           }
          ],
          "table": [
           {
            "cells": {
             "fill": {
              "color": "#EBF0F8"
             },
             "line": {
              "color": "white"
             }
            },
            "header": {
             "fill": {
              "color": "#C8D4E3"
             },
             "line": {
              "color": "white"
             }
            },
            "type": "table"
           }
          ]
         },
         "layout": {
          "annotationdefaults": {
           "arrowcolor": "#2a3f5f",
           "arrowhead": 0,
           "arrowwidth": 1
          },
          "autotypenumbers": "strict",
          "coloraxis": {
           "colorbar": {
            "outlinewidth": 0,
            "ticks": ""
           }
          },
          "colorscale": {
           "diverging": [
            [
             0,
             "#8e0152"
            ],
            [
             0.1,
             "#c51b7d"
            ],
            [
             0.2,
             "#de77ae"
            ],
            [
             0.3,
             "#f1b6da"
            ],
            [
             0.4,
             "#fde0ef"
            ],
            [
             0.5,
             "#f7f7f7"
            ],
            [
             0.6,
             "#e6f5d0"
            ],
            [
             0.7,
             "#b8e186"
            ],
            [
             0.8,
             "#7fbc41"
            ],
            [
             0.9,
             "#4d9221"
            ],
            [
             1,
             "#276419"
            ]
           ],
           "sequential": [
            [
             0,
             "#0d0887"
            ],
            [
             0.1111111111111111,
             "#46039f"
            ],
            [
             0.2222222222222222,
             "#7201a8"
            ],
            [
             0.3333333333333333,
             "#9c179e"
            ],
            [
             0.4444444444444444,
             "#bd3786"
            ],
            [
             0.5555555555555556,
             "#d8576b"
            ],
            [
             0.6666666666666666,
             "#ed7953"
            ],
            [
             0.7777777777777778,
             "#fb9f3a"
            ],
            [
             0.8888888888888888,
             "#fdca26"
            ],
            [
             1,
             "#f0f921"
            ]
           ],
           "sequentialminus": [
            [
             0,
             "#0d0887"
            ],
            [
             0.1111111111111111,
             "#46039f"
            ],
            [
             0.2222222222222222,
             "#7201a8"
            ],
            [
             0.3333333333333333,
             "#9c179e"
            ],
            [
             0.4444444444444444,
             "#bd3786"
            ],
            [
             0.5555555555555556,
             "#d8576b"
            ],
            [
             0.6666666666666666,
             "#ed7953"
            ],
            [
             0.7777777777777778,
             "#fb9f3a"
            ],
            [
             0.8888888888888888,
             "#fdca26"
            ],
            [
             1,
             "#f0f921"
            ]
           ]
          },
          "colorway": [
           "#636efa",
           "#EF553B",
           "#00cc96",
           "#ab63fa",
           "#FFA15A",
           "#19d3f3",
           "#FF6692",
           "#B6E880",
           "#FF97FF",
           "#FECB52"
          ],
          "font": {
           "color": "#2a3f5f"
          },
          "geo": {
           "bgcolor": "white",
           "lakecolor": "white",
           "landcolor": "#E5ECF6",
           "showlakes": true,
           "showland": true,
           "subunitcolor": "white"
          },
          "hoverlabel": {
           "align": "left"
          },
          "hovermode": "closest",
          "mapbox": {
           "style": "light"
          },
          "paper_bgcolor": "white",
          "plot_bgcolor": "#E5ECF6",
          "polar": {
           "angularaxis": {
            "gridcolor": "white",
            "linecolor": "white",
            "ticks": ""
           },
           "bgcolor": "#E5ECF6",
           "radialaxis": {
            "gridcolor": "white",
            "linecolor": "white",
            "ticks": ""
           }
          },
          "scene": {
           "xaxis": {
            "backgroundcolor": "#E5ECF6",
            "gridcolor": "white",
            "gridwidth": 2,
            "linecolor": "white",
            "showbackground": true,
            "ticks": "",
            "zerolinecolor": "white"
           },
           "yaxis": {
            "backgroundcolor": "#E5ECF6",
            "gridcolor": "white",
            "gridwidth": 2,
            "linecolor": "white",
            "showbackground": true,
            "ticks": "",
            "zerolinecolor": "white"
           },
           "zaxis": {
            "backgroundcolor": "#E5ECF6",
            "gridcolor": "white",
            "gridwidth": 2,
            "linecolor": "white",
            "showbackground": true,
            "ticks": "",
            "zerolinecolor": "white"
           }
          },
          "shapedefaults": {
           "line": {
            "color": "#2a3f5f"
           }
          },
          "ternary": {
           "aaxis": {
            "gridcolor": "white",
            "linecolor": "white",
            "ticks": ""
           },
           "baxis": {
            "gridcolor": "white",
            "linecolor": "white",
            "ticks": ""
           },
           "bgcolor": "#E5ECF6",
           "caxis": {
            "gridcolor": "white",
            "linecolor": "white",
            "ticks": ""
           }
          },
          "title": {
           "x": 0.05
          },
          "xaxis": {
           "automargin": true,
           "gridcolor": "white",
           "linecolor": "white",
           "ticks": "",
           "title": {
            "standoff": 15
           },
           "zerolinecolor": "white",
           "zerolinewidth": 2
          },
          "yaxis": {
           "automargin": true,
           "gridcolor": "white",
           "linecolor": "white",
           "ticks": "",
           "title": {
            "standoff": 15
           },
           "zerolinecolor": "white",
           "zerolinewidth": 2
          }
         }
        },
        "title": {
         "text": "OHLC Chart for BTC with time interval daily"
        },
        "xaxis": {
         "rangeslider": {
          "visible": false
         }
        }
       }
      }
     },
     "metadata": {},
     "output_type": "display_data"
    },
    {
     "data": {
      "application/vnd.plotly.v1+json": {
       "config": {
        "plotlyServerURL": "https://plot.ly"
       },
       "data": [
        {
         "close": [
          2899.48,
          2931.28,
          2839.84,
          2539.52,
          2359.62,
          2635.37,
          2687.24,
          2502.58,
          2496.98,
          2612.32,
          2504.4,
          2402.26,
          2457.02,
          2592.44,
          2851.63,
          2915.71,
          2941.75,
          2913.24,
          3031.03,
          3087.62,
          3099.32,
          3077.23,
          3086.78,
          2955.23,
          3065.46,
          3027.87,
          3109.74,
          3269,
          3327.9,
          3283.04,
          3308.24,
          3226.9,
          3331.45,
          3567.61,
          3486.74,
          3412.06,
          3585.01,
          3508.04,
          3636.57,
          3562.33,
          3384.07,
          3670.59,
          3821.69,
          3742.51,
          3711.78,
          3725.72,
          3968.08,
          3965.67,
          3930.29,
          3879.12,
          3917.34,
          3994.57,
          4150.81,
          4083.42,
          4034.91,
          4127.21,
          4079.8,
          4067.64,
          4048.29,
          4019.25,
          3720.29,
          3792.21,
          3519.12,
          3817.17,
          3921.04,
          3784.98,
          3638.69,
          3861.35,
          3812.79,
          4040.33,
          3581.02,
          3625.27,
          3810.67,
          3939.99,
          4089.36,
          4053.03,
          3994.38,
          3735.89,
          3652.14,
          3716.76,
          3857.63,
          3823.9,
          3914.6,
          3637.26,
          3452.64,
          3620.92,
          3655.69,
          3353.55,
          3429.14,
          3368.67
         ],
         "decreasing": {
          "fillcolor": "gray",
          "line": {
           "color": "gray"
          }
         },
         "high": [
          3055.81,
          3022.4,
          2952,
          2854.99,
          2650.17,
          2636.29,
          2704.58,
          2691.01,
          2538,
          2659.88,
          2700.61,
          2542.16,
          2532.27,
          2632.61,
          2872.48,
          2985.48,
          3002.33,
          2958.1,
          3056.78,
          3145,
          3158.43,
          3175,
          3140,
          3110.29,
          3130,
          3076.01,
          3114.4,
          3298,
          3356.49,
          3407.97,
          3356.86,
          3346.95,
          3340.4,
          3573.14,
          3755.95,
          3582.87,
          3587.3,
          3599.29,
          3650.7,
          3703,
          3711.54,
          3678,
          3866.54,
          3834.15,
          3802.48,
          3789,
          3976.25,
          4025,
          3971.78,
          3962,
          3930.76,
          4013.97,
          4163.39,
          4170,
          4221.1,
          4177.32,
          4205.62,
          4119.13,
          4110.12,
          4168.18,
          4018.75,
          3802.27,
          3837.05,
          3827.34,
          3941.7,
          3933.94,
          3836,
          3900,
          3866.79,
          4064.75,
          4064.44,
          3711.6,
          3813.76,
          3963.6,
          4180.74,
          4224.19,
          4091.82,
          4120.49,
          3756.2,
          3766.94,
          3882,
          3937.71,
          3937.97,
          3959.07,
          3746.91,
          3628.86,
          3692.94,
          3665.47,
          3451.09,
          3463.11
         ],
         "increasing": {
          "fillcolor": "cyan",
          "line": {
           "color": "cyan"
          }
         },
         "low": [
          2858.44,
          2875.02,
          2800.03,
          2490.48,
          2260.06,
          2335.91,
          2594.16,
          2330,
          2389.57,
          2342.91,
          2501,
          2385.17,
          2389.14,
          2446.96,
          2564.87,
          2807.62,
          2876.93,
          2815.06,
          2895.01,
          2893.97,
          2997,
          3053.71,
          3059.06,
          2946.86,
          2916.48,
          2951,
          2953,
          3093.4,
          3210,
          3260.28,
          3133.44,
          3170,
          3213.03,
          3285,
          3431.74,
          3344.44,
          3386.26,
          3406.99,
          3494.52,
          3529.19,
          3377.18,
          3359.03,
          3653.72,
          3670,
          3610.51,
          3594,
          3697.27,
          3850.68,
          3834.02,
          3847,
          3757.06,
          3905.09,
          3993.81,
          4065.54,
          3900,
          3988.71,
          3943.35,
          4011.25,
          3951,
          3997.63,
          3606.01,
          3598.39,
          3482.72,
          3499.35,
          3734.71,
          3769,
          3586,
          3611.07,
          3723,
          3793.53,
          3472.71,
          3569.15,
          3503,
          3795.51,
          3844.75,
          4000,
          3926.78,
          3570.17,
          3203.9,
          3570.22,
          3473.22,
          3780,
          3752,
          3611.17,
          3439.52,
          3392.02,
          3531,
          3251.1,
          3267.73,
          3360
         ],
         "name": "OHLC",
         "open": [
          3033.55,
          2900.24,
          2932.56,
          2840.34,
          2538.54,
          2358.93,
          2634.38,
          2686.39,
          2501.82,
          2496.81,
          2611.64,
          2502.96,
          2401.59,
          2457.74,
          2592.26,
          2853.74,
          2916.2,
          2942.18,
          2913.97,
          3032.24,
          3088.37,
          3099.5,
          3081.68,
          3086.65,
          2952.2,
          3065.97,
          3026.58,
          3110.57,
          3269.95,
          3328.09,
          3283.13,
          3309.64,
          3226.58,
          3331.97,
          3567.71,
          3485.31,
          3411.04,
          3585.6,
          3508.04,
          3637.88,
          3563.48,
          3384.09,
          3671.21,
          3821.99,
          3743.03,
          3712.11,
          3727.42,
          3968.41,
          3967.79,
          3929.42,
          3877.62,
          3917.48,
          3994.58,
          4150.89,
          4082.96,
          4033.86,
          4125.61,
          4079.62,
          4067.85,
          4049.24,
          4017.76,
          3721.36,
          3792.01,
          3519.58,
          3815.53,
          3920.04,
          3784.37,
          3638.59,
          3862.02,
          3811.88,
          4041.19,
          3580.98,
          3624.91,
          3809.36,
          3940.3,
          4091.42,
          4052.98,
          3993.93,
          3733.35,
          3651.78,
          3718.2,
          3858.16,
          3823.08,
          3914.54,
          3637.21,
          3449,
          3622.4,
          3654.47,
          3353.42,
          3428.9
         ],
         "type": "candlestick",
         "x": [
          "2021-09-17T00:00:00",
          "2021-09-18T00:00:00",
          "2021-09-19T00:00:00",
          "2021-09-20T00:00:00",
          "2021-09-21T00:00:00",
          "2021-09-22T00:00:00",
          "2021-09-23T00:00:00",
          "2021-09-24T00:00:00",
          "2021-09-25T00:00:00",
          "2021-09-26T00:00:00",
          "2021-09-27T00:00:00",
          "2021-09-28T00:00:00",
          "2021-09-29T00:00:00",
          "2021-09-30T00:00:00",
          "2021-10-01T00:00:00",
          "2021-10-02T00:00:00",
          "2021-10-03T00:00:00",
          "2021-10-04T00:00:00",
          "2021-10-05T00:00:00",
          "2021-10-06T00:00:00",
          "2021-10-07T00:00:00",
          "2021-10-08T00:00:00",
          "2021-10-09T00:00:00",
          "2021-10-10T00:00:00",
          "2021-10-11T00:00:00",
          "2021-10-12T00:00:00",
          "2021-10-13T00:00:00",
          "2021-10-14T00:00:00",
          "2021-10-15T00:00:00",
          "2021-10-16T00:00:00",
          "2021-10-17T00:00:00",
          "2021-10-18T00:00:00",
          "2021-10-19T00:00:00",
          "2021-10-20T00:00:00",
          "2021-10-21T00:00:00",
          "2021-10-22T00:00:00",
          "2021-10-23T00:00:00",
          "2021-10-24T00:00:00",
          "2021-10-25T00:00:00",
          "2021-10-26T00:00:00",
          "2021-10-27T00:00:00",
          "2021-10-28T00:00:00",
          "2021-10-29T00:00:00",
          "2021-10-30T00:00:00",
          "2021-10-31T00:00:00",
          "2021-11-01T00:00:00",
          "2021-11-02T00:00:00",
          "2021-11-03T00:00:00",
          "2021-11-04T00:00:00",
          "2021-11-05T00:00:00",
          "2021-11-06T00:00:00",
          "2021-11-07T00:00:00",
          "2021-11-08T00:00:00",
          "2021-11-09T00:00:00",
          "2021-11-10T00:00:00",
          "2021-11-11T00:00:00",
          "2021-11-12T00:00:00",
          "2021-11-13T00:00:00",
          "2021-11-14T00:00:00",
          "2021-11-15T00:00:00",
          "2021-11-16T00:00:00",
          "2021-11-17T00:00:00",
          "2021-11-18T00:00:00",
          "2021-11-19T00:00:00",
          "2021-11-20T00:00:00",
          "2021-11-21T00:00:00",
          "2021-11-22T00:00:00",
          "2021-11-23T00:00:00",
          "2021-11-24T00:00:00",
          "2021-11-25T00:00:00",
          "2021-11-26T00:00:00",
          "2021-11-27T00:00:00",
          "2021-11-28T00:00:00",
          "2021-11-29T00:00:00",
          "2021-11-30T00:00:00",
          "2021-12-01T00:00:00",
          "2021-12-02T00:00:00",
          "2021-12-03T00:00:00",
          "2021-12-04T00:00:00",
          "2021-12-05T00:00:00",
          "2021-12-06T00:00:00",
          "2021-12-07T00:00:00",
          "2021-12-08T00:00:00",
          "2021-12-09T00:00:00",
          "2021-12-10T00:00:00",
          "2021-12-11T00:00:00",
          "2021-12-12T00:00:00",
          "2021-12-13T00:00:00",
          "2021-12-14T00:00:00",
          "2021-12-15T00:00:00"
         ]
        }
       ],
       "layout": {
        "template": {
         "data": {
          "bar": [
           {
            "error_x": {
             "color": "#2a3f5f"
            },
            "error_y": {
             "color": "#2a3f5f"
            },
            "marker": {
             "line": {
              "color": "#E5ECF6",
              "width": 0.5
             }
            },
            "type": "bar"
           }
          ],
          "barpolar": [
           {
            "marker": {
             "line": {
              "color": "#E5ECF6",
              "width": 0.5
             }
            },
            "type": "barpolar"
           }
          ],
          "carpet": [
           {
            "aaxis": {
             "endlinecolor": "#2a3f5f",
             "gridcolor": "white",
             "linecolor": "white",
             "minorgridcolor": "white",
             "startlinecolor": "#2a3f5f"
            },
            "baxis": {
             "endlinecolor": "#2a3f5f",
             "gridcolor": "white",
             "linecolor": "white",
             "minorgridcolor": "white",
             "startlinecolor": "#2a3f5f"
            },
            "type": "carpet"
           }
          ],
          "choropleth": [
           {
            "colorbar": {
             "outlinewidth": 0,
             "ticks": ""
            },
            "type": "choropleth"
           }
          ],
          "contour": [
           {
            "colorbar": {
             "outlinewidth": 0,
             "ticks": ""
            },
            "colorscale": [
             [
              0,
              "#0d0887"
             ],
             [
              0.1111111111111111,
              "#46039f"
             ],
             [
              0.2222222222222222,
              "#7201a8"
             ],
             [
              0.3333333333333333,
              "#9c179e"
             ],
             [
              0.4444444444444444,
              "#bd3786"
             ],
             [
              0.5555555555555556,
              "#d8576b"
             ],
             [
              0.6666666666666666,
              "#ed7953"
             ],
             [
              0.7777777777777778,
              "#fb9f3a"
             ],
             [
              0.8888888888888888,
              "#fdca26"
             ],
             [
              1,
              "#f0f921"
             ]
            ],
            "type": "contour"
           }
          ],
          "contourcarpet": [
           {
            "colorbar": {
             "outlinewidth": 0,
             "ticks": ""
            },
            "type": "contourcarpet"
           }
          ],
          "heatmap": [
           {
            "colorbar": {
             "outlinewidth": 0,
             "ticks": ""
            },
            "colorscale": [
             [
              0,
              "#0d0887"
             ],
             [
              0.1111111111111111,
              "#46039f"
             ],
             [
              0.2222222222222222,
              "#7201a8"
             ],
             [
              0.3333333333333333,
              "#9c179e"
             ],
             [
              0.4444444444444444,
              "#bd3786"
             ],
             [
              0.5555555555555556,
              "#d8576b"
             ],
             [
              0.6666666666666666,
              "#ed7953"
             ],
             [
              0.7777777777777778,
              "#fb9f3a"
             ],
             [
              0.8888888888888888,
              "#fdca26"
             ],
             [
              1,
              "#f0f921"
             ]
            ],
            "type": "heatmap"
           }
          ],
          "heatmapgl": [
           {
            "colorbar": {
             "outlinewidth": 0,
             "ticks": ""
            },
            "colorscale": [
             [
              0,
              "#0d0887"
             ],
             [
              0.1111111111111111,
              "#46039f"
             ],
             [
              0.2222222222222222,
              "#7201a8"
             ],
             [
              0.3333333333333333,
              "#9c179e"
             ],
             [
              0.4444444444444444,
              "#bd3786"
             ],
             [
              0.5555555555555556,
              "#d8576b"
             ],
             [
              0.6666666666666666,
              "#ed7953"
             ],
             [
              0.7777777777777778,
              "#fb9f3a"
             ],
             [
              0.8888888888888888,
              "#fdca26"
             ],
             [
              1,
              "#f0f921"
             ]
            ],
            "type": "heatmapgl"
           }
          ],
          "histogram": [
           {
            "marker": {
             "colorbar": {
              "outlinewidth": 0,
              "ticks": ""
             }
            },
            "type": "histogram"
           }
          ],
          "histogram2d": [
           {
            "colorbar": {
             "outlinewidth": 0,
             "ticks": ""
            },
            "colorscale": [
             [
              0,
              "#0d0887"
             ],
             [
              0.1111111111111111,
              "#46039f"
             ],
             [
              0.2222222222222222,
              "#7201a8"
             ],
             [
              0.3333333333333333,
              "#9c179e"
             ],
             [
              0.4444444444444444,
              "#bd3786"
             ],
             [
              0.5555555555555556,
              "#d8576b"
             ],
             [
              0.6666666666666666,
              "#ed7953"
             ],
             [
              0.7777777777777778,
              "#fb9f3a"
             ],
             [
              0.8888888888888888,
              "#fdca26"
             ],
             [
              1,
              "#f0f921"
             ]
            ],
            "type": "histogram2d"
           }
          ],
          "histogram2dcontour": [
           {
            "colorbar": {
             "outlinewidth": 0,
             "ticks": ""
            },
            "colorscale": [
             [
              0,
              "#0d0887"
             ],
             [
              0.1111111111111111,
              "#46039f"
             ],
             [
              0.2222222222222222,
              "#7201a8"
             ],
             [
              0.3333333333333333,
              "#9c179e"
             ],
             [
              0.4444444444444444,
              "#bd3786"
             ],
             [
              0.5555555555555556,
              "#d8576b"
             ],
             [
              0.6666666666666666,
              "#ed7953"
             ],
             [
              0.7777777777777778,
              "#fb9f3a"
             ],
             [
              0.8888888888888888,
              "#fdca26"
             ],
             [
              1,
              "#f0f921"
             ]
            ],
            "type": "histogram2dcontour"
           }
          ],
          "mesh3d": [
           {
            "colorbar": {
             "outlinewidth": 0,
             "ticks": ""
            },
            "type": "mesh3d"
           }
          ],
          "parcoords": [
           {
            "line": {
             "colorbar": {
              "outlinewidth": 0,
              "ticks": ""
             }
            },
            "type": "parcoords"
           }
          ],
          "pie": [
           {
            "automargin": true,
            "type": "pie"
           }
          ],
          "scatter": [
           {
            "marker": {
             "colorbar": {
              "outlinewidth": 0,
              "ticks": ""
             }
            },
            "type": "scatter"
           }
          ],
          "scatter3d": [
           {
            "line": {
             "colorbar": {
              "outlinewidth": 0,
              "ticks": ""
             }
            },
            "marker": {
             "colorbar": {
              "outlinewidth": 0,
              "ticks": ""
             }
            },
            "type": "scatter3d"
           }
          ],
          "scattercarpet": [
           {
            "marker": {
             "colorbar": {
              "outlinewidth": 0,
              "ticks": ""
             }
            },
            "type": "scattercarpet"
           }
          ],
          "scattergeo": [
           {
            "marker": {
             "colorbar": {
              "outlinewidth": 0,
              "ticks": ""
             }
            },
            "type": "scattergeo"
           }
          ],
          "scattergl": [
           {
            "marker": {
             "colorbar": {
              "outlinewidth": 0,
              "ticks": ""
             }
            },
            "type": "scattergl"
           }
          ],
          "scattermapbox": [
           {
            "marker": {
             "colorbar": {
              "outlinewidth": 0,
              "ticks": ""
             }
            },
            "type": "scattermapbox"
           }
          ],
          "scatterpolar": [
           {
            "marker": {
             "colorbar": {
              "outlinewidth": 0,
              "ticks": ""
             }
            },
            "type": "scatterpolar"
           }
          ],
          "scatterpolargl": [
           {
            "marker": {
             "colorbar": {
              "outlinewidth": 0,
              "ticks": ""
             }
            },
            "type": "scatterpolargl"
           }
          ],
          "scatterternary": [
           {
            "marker": {
             "colorbar": {
              "outlinewidth": 0,
              "ticks": ""
             }
            },
            "type": "scatterternary"
           }
          ],
          "surface": [
           {
            "colorbar": {
             "outlinewidth": 0,
             "ticks": ""
            },
            "colorscale": [
             [
              0,
              "#0d0887"
             ],
             [
              0.1111111111111111,
              "#46039f"
             ],
             [
              0.2222222222222222,
              "#7201a8"
             ],
             [
              0.3333333333333333,
              "#9c179e"
             ],
             [
              0.4444444444444444,
              "#bd3786"
             ],
             [
              0.5555555555555556,
              "#d8576b"
             ],
             [
              0.6666666666666666,
              "#ed7953"
             ],
             [
              0.7777777777777778,
              "#fb9f3a"
             ],
             [
              0.8888888888888888,
              "#fdca26"
             ],
             [
              1,
              "#f0f921"
             ]
            ],
            "type": "surface"
           }
          ],
          "table": [
           {
            "cells": {
             "fill": {
              "color": "#EBF0F8"
             },
             "line": {
              "color": "white"
             }
            },
            "header": {
             "fill": {
              "color": "#C8D4E3"
             },
             "line": {
              "color": "white"
             }
            },
            "type": "table"
           }
          ]
         },
         "layout": {
          "annotationdefaults": {
           "arrowcolor": "#2a3f5f",
           "arrowhead": 0,
           "arrowwidth": 1
          },
          "autotypenumbers": "strict",
          "coloraxis": {
           "colorbar": {
            "outlinewidth": 0,
            "ticks": ""
           }
          },
          "colorscale": {
           "diverging": [
            [
             0,
             "#8e0152"
            ],
            [
             0.1,
             "#c51b7d"
            ],
            [
             0.2,
             "#de77ae"
            ],
            [
             0.3,
             "#f1b6da"
            ],
            [
             0.4,
             "#fde0ef"
            ],
            [
             0.5,
             "#f7f7f7"
            ],
            [
             0.6,
             "#e6f5d0"
            ],
            [
             0.7,
             "#b8e186"
            ],
            [
             0.8,
             "#7fbc41"
            ],
            [
             0.9,
             "#4d9221"
            ],
            [
             1,
             "#276419"
            ]
           ],
           "sequential": [
            [
             0,
             "#0d0887"
            ],
            [
             0.1111111111111111,
             "#46039f"
            ],
            [
             0.2222222222222222,
             "#7201a8"
            ],
            [
             0.3333333333333333,
             "#9c179e"
            ],
            [
             0.4444444444444444,
             "#bd3786"
            ],
            [
             0.5555555555555556,
             "#d8576b"
            ],
            [
             0.6666666666666666,
             "#ed7953"
            ],
            [
             0.7777777777777778,
             "#fb9f3a"
            ],
            [
             0.8888888888888888,
             "#fdca26"
            ],
            [
             1,
             "#f0f921"
            ]
           ],
           "sequentialminus": [
            [
             0,
             "#0d0887"
            ],
            [
             0.1111111111111111,
             "#46039f"
            ],
            [
             0.2222222222222222,
             "#7201a8"
            ],
            [
             0.3333333333333333,
             "#9c179e"
            ],
            [
             0.4444444444444444,
             "#bd3786"
            ],
            [
             0.5555555555555556,
             "#d8576b"
            ],
            [
             0.6666666666666666,
             "#ed7953"
            ],
            [
             0.7777777777777778,
             "#fb9f3a"
            ],
            [
             0.8888888888888888,
             "#fdca26"
            ],
            [
             1,
             "#f0f921"
            ]
           ]
          },
          "colorway": [
           "#636efa",
           "#EF553B",
           "#00cc96",
           "#ab63fa",
           "#FFA15A",
           "#19d3f3",
           "#FF6692",
           "#B6E880",
           "#FF97FF",
           "#FECB52"
          ],
          "font": {
           "color": "#2a3f5f"
          },
          "geo": {
           "bgcolor": "white",
           "lakecolor": "white",
           "landcolor": "#E5ECF6",
           "showlakes": true,
           "showland": true,
           "subunitcolor": "white"
          },
          "hoverlabel": {
           "align": "left"
          },
          "hovermode": "closest",
          "mapbox": {
           "style": "light"
          },
          "paper_bgcolor": "white",
          "plot_bgcolor": "#E5ECF6",
          "polar": {
           "angularaxis": {
            "gridcolor": "white",
            "linecolor": "white",
            "ticks": ""
           },
           "bgcolor": "#E5ECF6",
           "radialaxis": {
            "gridcolor": "white",
            "linecolor": "white",
            "ticks": ""
           }
          },
          "scene": {
           "xaxis": {
            "backgroundcolor": "#E5ECF6",
            "gridcolor": "white",
            "gridwidth": 2,
            "linecolor": "white",
            "showbackground": true,
            "ticks": "",
            "zerolinecolor": "white"
           },
           "yaxis": {
            "backgroundcolor": "#E5ECF6",
            "gridcolor": "white",
            "gridwidth": 2,
            "linecolor": "white",
            "showbackground": true,
            "ticks": "",
            "zerolinecolor": "white"
           },
           "zaxis": {
            "backgroundcolor": "#E5ECF6",
            "gridcolor": "white",
            "gridwidth": 2,
            "linecolor": "white",
            "showbackground": true,
            "ticks": "",
            "zerolinecolor": "white"
           }
          },
          "shapedefaults": {
           "line": {
            "color": "#2a3f5f"
           }
          },
          "ternary": {
           "aaxis": {
            "gridcolor": "white",
            "linecolor": "white",
            "ticks": ""
           },
           "baxis": {
            "gridcolor": "white",
            "linecolor": "white",
            "ticks": ""
           },
           "bgcolor": "#E5ECF6",
           "caxis": {
            "gridcolor": "white",
            "linecolor": "white",
            "ticks": ""
           }
          },
          "title": {
           "x": 0.05
          },
          "xaxis": {
           "automargin": true,
           "gridcolor": "white",
           "linecolor": "white",
           "ticks": "",
           "title": {
            "standoff": 15
           },
           "zerolinecolor": "white",
           "zerolinewidth": 2
          },
          "yaxis": {
           "automargin": true,
           "gridcolor": "white",
           "linecolor": "white",
           "ticks": "",
           "title": {
            "standoff": 15
           },
           "zerolinecolor": "white",
           "zerolinewidth": 2
          }
         }
        },
        "title": {
         "text": "OHLC Chart for ETH with time interval daily"
        },
        "xaxis": {
         "rangeslider": {
          "visible": false
         }
        }
       }
      }
     },
     "metadata": {},
     "output_type": "display_data"
    },
    {
     "data": {
      "application/vnd.plotly.v1+json": {
       "config": {
        "plotlyServerURL": "https://plot.ly"
       },
       "data": [
        {
         "close": [
          153.5,
          154.82,
          150,
          133.88,
          126.37,
          138.19,
          139.69,
          129.98,
          128.97,
          128.63,
          124.1,
          120.27,
          124.83,
          132.39,
          143.26,
          145.44,
          146.76,
          144.28,
          149.79,
          154.33,
          154.26,
          152.23,
          155.36,
          151.01,
          155.14,
          149.51,
          153.13,
          156.51,
          163.09,
          159.31,
          157.98,
          159.93,
          162.1,
          177.67,
          169.33,
          164.06,
          168.88,
          163.5,
          168.38,
          170.24,
          154.65,
          162.43,
          170.13,
          164.71,
          166.16,
          170.51,
          173.57,
          178.6,
          175.81,
          172.3,
          171.28,
          174.88,
          197.54,
          226.12,
          226.58,
          229.27,
          219.51,
          225.58,
          244.25,
          231.63,
          203.74,
          203.14,
          179.74,
          193.64,
          201.6,
          196.88,
          186.28,
          192.59,
          189.4,
          199.04,
          173.42,
          172.72,
          176.84,
          182.27,
          183.43,
          184.53,
          180.17,
          166.71,
          144.25,
          138.52,
          143.24,
          143.89,
          145.65,
          134.16,
          131.26,
          139.88,
          140.69,
          128.17,
          133.54,
          130.83
         ],
         "decreasing": {
          "fillcolor": "gray",
          "line": {
           "color": "gray"
          }
         },
         "high": [
          161.9,
          158.74,
          155.1,
          150.14,
          138.44,
          138.5,
          140.57,
          141.9,
          133.3,
          131,
          132.12,
          127.57,
          128.94,
          133.41,
          144.98,
          148.74,
          150.58,
          147.05,
          151.33,
          158.36,
          161.53,
          158.5,
          157.9,
          158.85,
          160.15,
          155.07,
          155.02,
          160.71,
          165.9,
          165.64,
          161.1,
          161.37,
          164.58,
          179.4,
          183.93,
          173.18,
          170,
          171.81,
          170.08,
          171.85,
          176.78,
          166.55,
          171.8,
          170.58,
          168.74,
          173.79,
          176.92,
          180.72,
          178.57,
          176.44,
          174.36,
          175.18,
          198.14,
          236.81,
          260.2,
          239.57,
          247.14,
          231.35,
          244.69,
          245.65,
          231.65,
          208.4,
          205.31,
          196.13,
          202.49,
          204.77,
          197.08,
          194.64,
          192.72,
          205,
          200.68,
          178.11,
          177.3,
          186.06,
          193.5,
          191.92,
          185.59,
          184.11,
          167.61,
          146.23,
          146.15,
          147.55,
          150.96,
          147.39,
          141.57,
          141.19,
          144.08,
          141.48,
          134.82,
          135.46
         ],
         "increasing": {
          "fillcolor": "cyan",
          "line": {
           "color": "cyan"
          }
         },
         "low": [
          150.81,
          151.85,
          147.4,
          131.11,
          123.4,
          124.04,
          134.24,
          121,
          127.24,
          121.4,
          123.9,
          119.94,
          119.71,
          124.16,
          130.52,
          141.9,
          142.91,
          138.96,
          143.38,
          141.79,
          149.77,
          150.78,
          150.98,
          150.56,
          149.05,
          144.06,
          145.11,
          152.51,
          152.27,
          158.71,
          152,
          153.82,
          157.32,
          159.47,
          167.54,
          161.52,
          162.47,
          159.41,
          162.87,
          164.06,
          149.25,
          153.44,
          161.17,
          161.57,
          161.85,
          162.71,
          168.33,
          170.66,
          170.26,
          170.28,
          165.82,
          170.86,
          174.86,
          195.69,
          219.02,
          218.53,
          213.36,
          214.49,
          217.5,
          228.32,
          196.68,
          193.04,
          175.68,
          175.94,
          188.81,
          195.25,
          182.92,
          182.52,
          184.16,
          188.15,
          168.69,
          168.81,
          161.13,
          173.27,
          174.78,
          181.42,
          176.69,
          159.55,
          120,
          131.26,
          125.23,
          140.36,
          138.35,
          134.04,
          130.58,
          129,
          135.77,
          126.36,
          126.72,
          130.38
         ],
         "name": "OHLC",
         "open": [
          157.59,
          153.51,
          154.74,
          150.1,
          133.83,
          126.7,
          138.19,
          139.61,
          129.95,
          128.98,
          128.59,
          124.08,
          120.18,
          124.6,
          132.37,
          143.25,
          145.58,
          146.8,
          144.23,
          149.86,
          154.32,
          154.22,
          152.23,
          155.36,
          151.14,
          155.06,
          149.51,
          153.19,
          156.43,
          163.16,
          159.55,
          158.02,
          160.07,
          162.18,
          177.79,
          169.21,
          164.05,
          168.91,
          163.6,
          168.38,
          170.44,
          154.6,
          162.38,
          170.11,
          164.7,
          166.18,
          170.38,
          173.71,
          178.51,
          175.68,
          172.3,
          171.21,
          174.86,
          197.57,
          226.26,
          226.45,
          229.27,
          219.53,
          225.77,
          244.34,
          231.56,
          203.68,
          203.05,
          179.68,
          193.65,
          201.78,
          196.84,
          186.22,
          192.56,
          189.67,
          199.22,
          173.32,
          172.72,
          176.87,
          182.27,
          183.57,
          184.62,
          180.27,
          166.59,
          144.15,
          138.52,
          143.26,
          143.89,
          145.7,
          134.1,
          131.27,
          140,
          140.64,
          128.15,
          133.54
         ],
         "type": "candlestick",
         "x": [
          "2021-09-17T00:00:00",
          "2021-09-18T00:00:00",
          "2021-09-19T00:00:00",
          "2021-09-20T00:00:00",
          "2021-09-21T00:00:00",
          "2021-09-22T00:00:00",
          "2021-09-23T00:00:00",
          "2021-09-24T00:00:00",
          "2021-09-25T00:00:00",
          "2021-09-26T00:00:00",
          "2021-09-27T00:00:00",
          "2021-09-28T00:00:00",
          "2021-09-29T00:00:00",
          "2021-09-30T00:00:00",
          "2021-10-01T00:00:00",
          "2021-10-02T00:00:00",
          "2021-10-03T00:00:00",
          "2021-10-04T00:00:00",
          "2021-10-05T00:00:00",
          "2021-10-06T00:00:00",
          "2021-10-07T00:00:00",
          "2021-10-08T00:00:00",
          "2021-10-09T00:00:00",
          "2021-10-10T00:00:00",
          "2021-10-11T00:00:00",
          "2021-10-12T00:00:00",
          "2021-10-13T00:00:00",
          "2021-10-14T00:00:00",
          "2021-10-15T00:00:00",
          "2021-10-16T00:00:00",
          "2021-10-17T00:00:00",
          "2021-10-18T00:00:00",
          "2021-10-19T00:00:00",
          "2021-10-20T00:00:00",
          "2021-10-21T00:00:00",
          "2021-10-22T00:00:00",
          "2021-10-23T00:00:00",
          "2021-10-24T00:00:00",
          "2021-10-25T00:00:00",
          "2021-10-26T00:00:00",
          "2021-10-27T00:00:00",
          "2021-10-28T00:00:00",
          "2021-10-29T00:00:00",
          "2021-10-30T00:00:00",
          "2021-10-31T00:00:00",
          "2021-11-01T00:00:00",
          "2021-11-02T00:00:00",
          "2021-11-03T00:00:00",
          "2021-11-04T00:00:00",
          "2021-11-05T00:00:00",
          "2021-11-06T00:00:00",
          "2021-11-07T00:00:00",
          "2021-11-08T00:00:00",
          "2021-11-09T00:00:00",
          "2021-11-10T00:00:00",
          "2021-11-11T00:00:00",
          "2021-11-12T00:00:00",
          "2021-11-13T00:00:00",
          "2021-11-14T00:00:00",
          "2021-11-15T00:00:00",
          "2021-11-16T00:00:00",
          "2021-11-17T00:00:00",
          "2021-11-18T00:00:00",
          "2021-11-19T00:00:00",
          "2021-11-20T00:00:00",
          "2021-11-21T00:00:00",
          "2021-11-22T00:00:00",
          "2021-11-23T00:00:00",
          "2021-11-24T00:00:00",
          "2021-11-25T00:00:00",
          "2021-11-26T00:00:00",
          "2021-11-27T00:00:00",
          "2021-11-28T00:00:00",
          "2021-11-29T00:00:00",
          "2021-11-30T00:00:00",
          "2021-12-01T00:00:00",
          "2021-12-02T00:00:00",
          "2021-12-03T00:00:00",
          "2021-12-04T00:00:00",
          "2021-12-05T00:00:00",
          "2021-12-06T00:00:00",
          "2021-12-07T00:00:00",
          "2021-12-08T00:00:00",
          "2021-12-09T00:00:00",
          "2021-12-10T00:00:00",
          "2021-12-11T00:00:00",
          "2021-12-12T00:00:00",
          "2021-12-13T00:00:00",
          "2021-12-14T00:00:00",
          "2021-12-15T00:00:00"
         ]
        }
       ],
       "layout": {
        "template": {
         "data": {
          "bar": [
           {
            "error_x": {
             "color": "#2a3f5f"
            },
            "error_y": {
             "color": "#2a3f5f"
            },
            "marker": {
             "line": {
              "color": "#E5ECF6",
              "width": 0.5
             }
            },
            "type": "bar"
           }
          ],
          "barpolar": [
           {
            "marker": {
             "line": {
              "color": "#E5ECF6",
              "width": 0.5
             }
            },
            "type": "barpolar"
           }
          ],
          "carpet": [
           {
            "aaxis": {
             "endlinecolor": "#2a3f5f",
             "gridcolor": "white",
             "linecolor": "white",
             "minorgridcolor": "white",
             "startlinecolor": "#2a3f5f"
            },
            "baxis": {
             "endlinecolor": "#2a3f5f",
             "gridcolor": "white",
             "linecolor": "white",
             "minorgridcolor": "white",
             "startlinecolor": "#2a3f5f"
            },
            "type": "carpet"
           }
          ],
          "choropleth": [
           {
            "colorbar": {
             "outlinewidth": 0,
             "ticks": ""
            },
            "type": "choropleth"
           }
          ],
          "contour": [
           {
            "colorbar": {
             "outlinewidth": 0,
             "ticks": ""
            },
            "colorscale": [
             [
              0,
              "#0d0887"
             ],
             [
              0.1111111111111111,
              "#46039f"
             ],
             [
              0.2222222222222222,
              "#7201a8"
             ],
             [
              0.3333333333333333,
              "#9c179e"
             ],
             [
              0.4444444444444444,
              "#bd3786"
             ],
             [
              0.5555555555555556,
              "#d8576b"
             ],
             [
              0.6666666666666666,
              "#ed7953"
             ],
             [
              0.7777777777777778,
              "#fb9f3a"
             ],
             [
              0.8888888888888888,
              "#fdca26"
             ],
             [
              1,
              "#f0f921"
             ]
            ],
            "type": "contour"
           }
          ],
          "contourcarpet": [
           {
            "colorbar": {
             "outlinewidth": 0,
             "ticks": ""
            },
            "type": "contourcarpet"
           }
          ],
          "heatmap": [
           {
            "colorbar": {
             "outlinewidth": 0,
             "ticks": ""
            },
            "colorscale": [
             [
              0,
              "#0d0887"
             ],
             [
              0.1111111111111111,
              "#46039f"
             ],
             [
              0.2222222222222222,
              "#7201a8"
             ],
             [
              0.3333333333333333,
              "#9c179e"
             ],
             [
              0.4444444444444444,
              "#bd3786"
             ],
             [
              0.5555555555555556,
              "#d8576b"
             ],
             [
              0.6666666666666666,
              "#ed7953"
             ],
             [
              0.7777777777777778,
              "#fb9f3a"
             ],
             [
              0.8888888888888888,
              "#fdca26"
             ],
             [
              1,
              "#f0f921"
             ]
            ],
            "type": "heatmap"
           }
          ],
          "heatmapgl": [
           {
            "colorbar": {
             "outlinewidth": 0,
             "ticks": ""
            },
            "colorscale": [
             [
              0,
              "#0d0887"
             ],
             [
              0.1111111111111111,
              "#46039f"
             ],
             [
              0.2222222222222222,
              "#7201a8"
             ],
             [
              0.3333333333333333,
              "#9c179e"
             ],
             [
              0.4444444444444444,
              "#bd3786"
             ],
             [
              0.5555555555555556,
              "#d8576b"
             ],
             [
              0.6666666666666666,
              "#ed7953"
             ],
             [
              0.7777777777777778,
              "#fb9f3a"
             ],
             [
              0.8888888888888888,
              "#fdca26"
             ],
             [
              1,
              "#f0f921"
             ]
            ],
            "type": "heatmapgl"
           }
          ],
          "histogram": [
           {
            "marker": {
             "colorbar": {
              "outlinewidth": 0,
              "ticks": ""
             }
            },
            "type": "histogram"
           }
          ],
          "histogram2d": [
           {
            "colorbar": {
             "outlinewidth": 0,
             "ticks": ""
            },
            "colorscale": [
             [
              0,
              "#0d0887"
             ],
             [
              0.1111111111111111,
              "#46039f"
             ],
             [
              0.2222222222222222,
              "#7201a8"
             ],
             [
              0.3333333333333333,
              "#9c179e"
             ],
             [
              0.4444444444444444,
              "#bd3786"
             ],
             [
              0.5555555555555556,
              "#d8576b"
             ],
             [
              0.6666666666666666,
              "#ed7953"
             ],
             [
              0.7777777777777778,
              "#fb9f3a"
             ],
             [
              0.8888888888888888,
              "#fdca26"
             ],
             [
              1,
              "#f0f921"
             ]
            ],
            "type": "histogram2d"
           }
          ],
          "histogram2dcontour": [
           {
            "colorbar": {
             "outlinewidth": 0,
             "ticks": ""
            },
            "colorscale": [
             [
              0,
              "#0d0887"
             ],
             [
              0.1111111111111111,
              "#46039f"
             ],
             [
              0.2222222222222222,
              "#7201a8"
             ],
             [
              0.3333333333333333,
              "#9c179e"
             ],
             [
              0.4444444444444444,
              "#bd3786"
             ],
             [
              0.5555555555555556,
              "#d8576b"
             ],
             [
              0.6666666666666666,
              "#ed7953"
             ],
             [
              0.7777777777777778,
              "#fb9f3a"
             ],
             [
              0.8888888888888888,
              "#fdca26"
             ],
             [
              1,
              "#f0f921"
             ]
            ],
            "type": "histogram2dcontour"
           }
          ],
          "mesh3d": [
           {
            "colorbar": {
             "outlinewidth": 0,
             "ticks": ""
            },
            "type": "mesh3d"
           }
          ],
          "parcoords": [
           {
            "line": {
             "colorbar": {
              "outlinewidth": 0,
              "ticks": ""
             }
            },
            "type": "parcoords"
           }
          ],
          "pie": [
           {
            "automargin": true,
            "type": "pie"
           }
          ],
          "scatter": [
           {
            "marker": {
             "colorbar": {
              "outlinewidth": 0,
              "ticks": ""
             }
            },
            "type": "scatter"
           }
          ],
          "scatter3d": [
           {
            "line": {
             "colorbar": {
              "outlinewidth": 0,
              "ticks": ""
             }
            },
            "marker": {
             "colorbar": {
              "outlinewidth": 0,
              "ticks": ""
             }
            },
            "type": "scatter3d"
           }
          ],
          "scattercarpet": [
           {
            "marker": {
             "colorbar": {
              "outlinewidth": 0,
              "ticks": ""
             }
            },
            "type": "scattercarpet"
           }
          ],
          "scattergeo": [
           {
            "marker": {
             "colorbar": {
              "outlinewidth": 0,
              "ticks": ""
             }
            },
            "type": "scattergeo"
           }
          ],
          "scattergl": [
           {
            "marker": {
             "colorbar": {
              "outlinewidth": 0,
              "ticks": ""
             }
            },
            "type": "scattergl"
           }
          ],
          "scattermapbox": [
           {
            "marker": {
             "colorbar": {
              "outlinewidth": 0,
              "ticks": ""
             }
            },
            "type": "scattermapbox"
           }
          ],
          "scatterpolar": [
           {
            "marker": {
             "colorbar": {
              "outlinewidth": 0,
              "ticks": ""
             }
            },
            "type": "scatterpolar"
           }
          ],
          "scatterpolargl": [
           {
            "marker": {
             "colorbar": {
              "outlinewidth": 0,
              "ticks": ""
             }
            },
            "type": "scatterpolargl"
           }
          ],
          "scatterternary": [
           {
            "marker": {
             "colorbar": {
              "outlinewidth": 0,
              "ticks": ""
             }
            },
            "type": "scatterternary"
           }
          ],
          "surface": [
           {
            "colorbar": {
             "outlinewidth": 0,
             "ticks": ""
            },
            "colorscale": [
             [
              0,
              "#0d0887"
             ],
             [
              0.1111111111111111,
              "#46039f"
             ],
             [
              0.2222222222222222,
              "#7201a8"
             ],
             [
              0.3333333333333333,
              "#9c179e"
             ],
             [
              0.4444444444444444,
              "#bd3786"
             ],
             [
              0.5555555555555556,
              "#d8576b"
             ],
             [
              0.6666666666666666,
              "#ed7953"
             ],
             [
              0.7777777777777778,
              "#fb9f3a"
             ],
             [
              0.8888888888888888,
              "#fdca26"
             ],
             [
              1,
              "#f0f921"
             ]
            ],
            "type": "surface"
           }
          ],
          "table": [
           {
            "cells": {
             "fill": {
              "color": "#EBF0F8"
             },
             "line": {
              "color": "white"
             }
            },
            "header": {
             "fill": {
              "color": "#C8D4E3"
             },
             "line": {
              "color": "white"
             }
            },
            "type": "table"
           }
          ]
         },
         "layout": {
          "annotationdefaults": {
           "arrowcolor": "#2a3f5f",
           "arrowhead": 0,
           "arrowwidth": 1
          },
          "autotypenumbers": "strict",
          "coloraxis": {
           "colorbar": {
            "outlinewidth": 0,
            "ticks": ""
           }
          },
          "colorscale": {
           "diverging": [
            [
             0,
             "#8e0152"
            ],
            [
             0.1,
             "#c51b7d"
            ],
            [
             0.2,
             "#de77ae"
            ],
            [
             0.3,
             "#f1b6da"
            ],
            [
             0.4,
             "#fde0ef"
            ],
            [
             0.5,
             "#f7f7f7"
            ],
            [
             0.6,
             "#e6f5d0"
            ],
            [
             0.7,
             "#b8e186"
            ],
            [
             0.8,
             "#7fbc41"
            ],
            [
             0.9,
             "#4d9221"
            ],
            [
             1,
             "#276419"
            ]
           ],
           "sequential": [
            [
             0,
             "#0d0887"
            ],
            [
             0.1111111111111111,
             "#46039f"
            ],
            [
             0.2222222222222222,
             "#7201a8"
            ],
            [
             0.3333333333333333,
             "#9c179e"
            ],
            [
             0.4444444444444444,
             "#bd3786"
            ],
            [
             0.5555555555555556,
             "#d8576b"
            ],
            [
             0.6666666666666666,
             "#ed7953"
            ],
            [
             0.7777777777777778,
             "#fb9f3a"
            ],
            [
             0.8888888888888888,
             "#fdca26"
            ],
            [
             1,
             "#f0f921"
            ]
           ],
           "sequentialminus": [
            [
             0,
             "#0d0887"
            ],
            [
             0.1111111111111111,
             "#46039f"
            ],
            [
             0.2222222222222222,
             "#7201a8"
            ],
            [
             0.3333333333333333,
             "#9c179e"
            ],
            [
             0.4444444444444444,
             "#bd3786"
            ],
            [
             0.5555555555555556,
             "#d8576b"
            ],
            [
             0.6666666666666666,
             "#ed7953"
            ],
            [
             0.7777777777777778,
             "#fb9f3a"
            ],
            [
             0.8888888888888888,
             "#fdca26"
            ],
            [
             1,
             "#f0f921"
            ]
           ]
          },
          "colorway": [
           "#636efa",
           "#EF553B",
           "#00cc96",
           "#ab63fa",
           "#FFA15A",
           "#19d3f3",
           "#FF6692",
           "#B6E880",
           "#FF97FF",
           "#FECB52"
          ],
          "font": {
           "color": "#2a3f5f"
          },
          "geo": {
           "bgcolor": "white",
           "lakecolor": "white",
           "landcolor": "#E5ECF6",
           "showlakes": true,
           "showland": true,
           "subunitcolor": "white"
          },
          "hoverlabel": {
           "align": "left"
          },
          "hovermode": "closest",
          "mapbox": {
           "style": "light"
          },
          "paper_bgcolor": "white",
          "plot_bgcolor": "#E5ECF6",
          "polar": {
           "angularaxis": {
            "gridcolor": "white",
            "linecolor": "white",
            "ticks": ""
           },
           "bgcolor": "#E5ECF6",
           "radialaxis": {
            "gridcolor": "white",
            "linecolor": "white",
            "ticks": ""
           }
          },
          "scene": {
           "xaxis": {
            "backgroundcolor": "#E5ECF6",
            "gridcolor": "white",
            "gridwidth": 2,
            "linecolor": "white",
            "showbackground": true,
            "ticks": "",
            "zerolinecolor": "white"
           },
           "yaxis": {
            "backgroundcolor": "#E5ECF6",
            "gridcolor": "white",
            "gridwidth": 2,
            "linecolor": "white",
            "showbackground": true,
            "ticks": "",
            "zerolinecolor": "white"
           },
           "zaxis": {
            "backgroundcolor": "#E5ECF6",
            "gridcolor": "white",
            "gridwidth": 2,
            "linecolor": "white",
            "showbackground": true,
            "ticks": "",
            "zerolinecolor": "white"
           }
          },
          "shapedefaults": {
           "line": {
            "color": "#2a3f5f"
           }
          },
          "ternary": {
           "aaxis": {
            "gridcolor": "white",
            "linecolor": "white",
            "ticks": ""
           },
           "baxis": {
            "gridcolor": "white",
            "linecolor": "white",
            "ticks": ""
           },
           "bgcolor": "#E5ECF6",
           "caxis": {
            "gridcolor": "white",
            "linecolor": "white",
            "ticks": ""
           }
          },
          "title": {
           "x": 0.05
          },
          "xaxis": {
           "automargin": true,
           "gridcolor": "white",
           "linecolor": "white",
           "ticks": "",
           "title": {
            "standoff": 15
           },
           "zerolinecolor": "white",
           "zerolinewidth": 2
          },
          "yaxis": {
           "automargin": true,
           "gridcolor": "white",
           "linecolor": "white",
           "ticks": "",
           "title": {
            "standoff": 15
           },
           "zerolinecolor": "white",
           "zerolinewidth": 2
          }
         }
        },
        "title": {
         "text": "OHLC Chart for LTC with time interval daily"
        },
        "xaxis": {
         "rangeslider": {
          "visible": false
         }
        }
       }
      }
     },
     "metadata": {},
     "output_type": "display_data"
    },
    {
     "data": {
      "application/vnd.plotly.v1+json": {
       "config": {
        "plotlyServerURL": "https://plot.ly"
       },
       "data": [
        {
         "close": [
          1.6406,
          1.7636,
          1.6846,
          1.4281,
          1.3425,
          1.5812,
          1.707,
          1.5253,
          1.4785,
          1.5166,
          1.4314,
          1.3391,
          1.3859,
          1.4053,
          1.5276,
          1.525,
          1.7071,
          1.669,
          1.6816,
          1.5663,
          1.6334,
          1.6405,
          1.6321,
          1.5273,
          1.4856,
          1.5151,
          1.5858,
          1.5633,
          1.5101,
          1.5397,
          1.5217,
          1.4964,
          1.4682,
          1.536,
          1.5343,
          1.5984,
          1.6394,
          1.5592,
          1.7662,
          1.7628,
          1.5478,
          1.5793,
          1.6212,
          1.5762,
          1.5832,
          1.5851,
          1.6101,
          1.6651,
          1.6122,
          1.5971,
          1.5901,
          1.6162,
          1.7662,
          1.6765,
          1.6839,
          1.7667,
          1.8754,
          1.8179,
          1.7355,
          1.6651,
          1.524,
          1.4668,
          1.6281,
          1.6722,
          1.6349,
          1.6253,
          1.5476,
          1.6372,
          1.5572,
          1.6257,
          1.4227,
          1.4845,
          1.5217,
          1.5743,
          1.5985,
          1.7368,
          1.6718,
          1.5485,
          1.4648,
          1.563,
          1.5662,
          1.4965,
          1.5006,
          1.3761,
          1.2917,
          1.3556,
          1.3624,
          1.1706,
          1.2264,
          1.2026
         ],
         "decreasing": {
          "fillcolor": "gray",
          "line": {
           "color": "gray"
          }
         },
         "high": [
          1.8372,
          1.816,
          1.8407,
          1.6866,
          1.5557,
          1.6174,
          1.7486,
          1.7099,
          1.552,
          1.5204,
          1.5892,
          1.4727,
          1.4976,
          1.4335,
          1.5644,
          1.6213,
          1.72,
          1.8048,
          1.7783,
          1.7134,
          1.6744,
          1.7287,
          1.6836,
          1.6329,
          1.5844,
          1.5256,
          1.59,
          1.6234,
          1.5609,
          1.5884,
          1.6204,
          1.5353,
          1.517,
          1.5619,
          1.6173,
          1.6685,
          1.6685,
          1.6499,
          1.787,
          1.8094,
          1.8,
          1.6098,
          1.6577,
          1.6247,
          1.6071,
          1.615,
          1.6504,
          1.7094,
          1.691,
          1.6626,
          1.6171,
          1.6198,
          1.8039,
          1.774,
          1.99,
          1.7995,
          2.0519,
          1.8896,
          1.846,
          1.7564,
          1.6649,
          1.5554,
          2.49,
          1.6937,
          1.692,
          1.6798,
          1.6313,
          1.6459,
          1.6655,
          1.6452,
          1.6279,
          1.5257,
          1.5217,
          1.6261,
          1.6617,
          1.7915,
          1.8053,
          1.722,
          1.5473,
          1.563,
          1.6538,
          1.6057,
          1.5031,
          1.5116,
          1.4177,
          1.3966,
          1.385,
          1.378,
          1.2386,
          1.241
         ],
         "increasing": {
          "fillcolor": "cyan",
          "line": {
           "color": "cyan"
          }
         },
         "low": [
          1.6153,
          1.6174,
          1.658,
          1.3218,
          1.3,
          1.3193,
          1.5304,
          1.4364,
          1.4492,
          1.3411,
          1.4274,
          1.3295,
          1.3277,
          1.3583,
          1.3784,
          1.476,
          1.4907,
          1.616,
          1.6542,
          1.5384,
          1.5134,
          1.6224,
          1.6085,
          1.5204,
          1.4532,
          1.392,
          1.462,
          1.5331,
          1.4879,
          1.4919,
          1.4824,
          1.4774,
          1.4485,
          1.4484,
          1.5063,
          1.5237,
          1.5874,
          1.531,
          1.553,
          1.6799,
          1.4701,
          1.51,
          1.5714,
          1.54,
          1.5214,
          1.5403,
          1.58,
          1.572,
          1.5779,
          1.5837,
          1.5434,
          1.5775,
          1.5874,
          1.6675,
          1.6109,
          1.6361,
          1.7512,
          1.779,
          1.681,
          1.6368,
          1.381,
          1.4137,
          1.4584,
          1.546,
          1.5631,
          1.5845,
          1.5297,
          1.5107,
          1.5367,
          1.5401,
          1.4084,
          1.4196,
          1.39,
          1.5015,
          1.531,
          1.5927,
          1.635,
          1.5065,
          1.2202,
          1.4051,
          1.4298,
          1.4786,
          1.4149,
          1.3695,
          1.2888,
          1.266,
          1.336,
          1.1677,
          1.1609,
          1.197
         ],
         "name": "OHLC",
         "open": [
          1.7346,
          1.6426,
          1.7688,
          1.6866,
          1.4282,
          1.3438,
          1.5795,
          1.7063,
          1.5249,
          1.4775,
          1.515,
          1.4312,
          1.3384,
          1.386,
          1.406,
          1.5262,
          1.5226,
          1.7087,
          1.6699,
          1.6845,
          1.5666,
          1.6344,
          1.6424,
          1.6301,
          1.5262,
          1.4808,
          1.5131,
          1.5861,
          1.5609,
          1.5105,
          1.5421,
          1.5224,
          1.4966,
          1.4675,
          1.5348,
          1.5345,
          1.5989,
          1.6413,
          1.5622,
          1.7641,
          1.7634,
          1.5488,
          1.5803,
          1.6217,
          1.577,
          1.5823,
          1.5852,
          1.6114,
          1.666,
          1.6112,
          1.5975,
          1.5914,
          1.6156,
          1.766,
          1.6798,
          1.6824,
          1.766,
          1.8748,
          1.8214,
          1.7357,
          1.6649,
          1.5239,
          1.4655,
          1.628,
          1.6773,
          1.6345,
          1.6253,
          1.5481,
          1.6329,
          1.5557,
          1.6265,
          1.422,
          1.4826,
          1.5187,
          1.5736,
          1.6022,
          1.7357,
          1.6671,
          1.5473,
          1.4633,
          1.5621,
          1.5631,
          1.4961,
          1.5008,
          1.3771,
          1.2894,
          1.3527,
          1.362,
          1.1719,
          1.226
         ],
         "type": "candlestick",
         "x": [
          "2021-09-17T00:00:00",
          "2021-09-18T00:00:00",
          "2021-09-19T00:00:00",
          "2021-09-20T00:00:00",
          "2021-09-21T00:00:00",
          "2021-09-22T00:00:00",
          "2021-09-23T00:00:00",
          "2021-09-24T00:00:00",
          "2021-09-25T00:00:00",
          "2021-09-26T00:00:00",
          "2021-09-27T00:00:00",
          "2021-09-28T00:00:00",
          "2021-09-29T00:00:00",
          "2021-09-30T00:00:00",
          "2021-10-01T00:00:00",
          "2021-10-02T00:00:00",
          "2021-10-03T00:00:00",
          "2021-10-04T00:00:00",
          "2021-10-05T00:00:00",
          "2021-10-06T00:00:00",
          "2021-10-07T00:00:00",
          "2021-10-08T00:00:00",
          "2021-10-09T00:00:00",
          "2021-10-10T00:00:00",
          "2021-10-11T00:00:00",
          "2021-10-12T00:00:00",
          "2021-10-13T00:00:00",
          "2021-10-14T00:00:00",
          "2021-10-15T00:00:00",
          "2021-10-16T00:00:00",
          "2021-10-17T00:00:00",
          "2021-10-18T00:00:00",
          "2021-10-19T00:00:00",
          "2021-10-20T00:00:00",
          "2021-10-21T00:00:00",
          "2021-10-22T00:00:00",
          "2021-10-23T00:00:00",
          "2021-10-24T00:00:00",
          "2021-10-25T00:00:00",
          "2021-10-26T00:00:00",
          "2021-10-27T00:00:00",
          "2021-10-28T00:00:00",
          "2021-10-29T00:00:00",
          "2021-10-30T00:00:00",
          "2021-10-31T00:00:00",
          "2021-11-01T00:00:00",
          "2021-11-02T00:00:00",
          "2021-11-03T00:00:00",
          "2021-11-04T00:00:00",
          "2021-11-05T00:00:00",
          "2021-11-06T00:00:00",
          "2021-11-07T00:00:00",
          "2021-11-08T00:00:00",
          "2021-11-09T00:00:00",
          "2021-11-10T00:00:00",
          "2021-11-11T00:00:00",
          "2021-11-12T00:00:00",
          "2021-11-13T00:00:00",
          "2021-11-14T00:00:00",
          "2021-11-15T00:00:00",
          "2021-11-16T00:00:00",
          "2021-11-17T00:00:00",
          "2021-11-18T00:00:00",
          "2021-11-19T00:00:00",
          "2021-11-20T00:00:00",
          "2021-11-21T00:00:00",
          "2021-11-22T00:00:00",
          "2021-11-23T00:00:00",
          "2021-11-24T00:00:00",
          "2021-11-25T00:00:00",
          "2021-11-26T00:00:00",
          "2021-11-27T00:00:00",
          "2021-11-28T00:00:00",
          "2021-11-29T00:00:00",
          "2021-11-30T00:00:00",
          "2021-12-01T00:00:00",
          "2021-12-02T00:00:00",
          "2021-12-03T00:00:00",
          "2021-12-04T00:00:00",
          "2021-12-05T00:00:00",
          "2021-12-06T00:00:00",
          "2021-12-07T00:00:00",
          "2021-12-08T00:00:00",
          "2021-12-09T00:00:00",
          "2021-12-10T00:00:00",
          "2021-12-11T00:00:00",
          "2021-12-12T00:00:00",
          "2021-12-13T00:00:00",
          "2021-12-14T00:00:00",
          "2021-12-15T00:00:00"
         ]
        }
       ],
       "layout": {
        "template": {
         "data": {
          "bar": [
           {
            "error_x": {
             "color": "#2a3f5f"
            },
            "error_y": {
             "color": "#2a3f5f"
            },
            "marker": {
             "line": {
              "color": "#E5ECF6",
              "width": 0.5
             }
            },
            "type": "bar"
           }
          ],
          "barpolar": [
           {
            "marker": {
             "line": {
              "color": "#E5ECF6",
              "width": 0.5
             }
            },
            "type": "barpolar"
           }
          ],
          "carpet": [
           {
            "aaxis": {
             "endlinecolor": "#2a3f5f",
             "gridcolor": "white",
             "linecolor": "white",
             "minorgridcolor": "white",
             "startlinecolor": "#2a3f5f"
            },
            "baxis": {
             "endlinecolor": "#2a3f5f",
             "gridcolor": "white",
             "linecolor": "white",
             "minorgridcolor": "white",
             "startlinecolor": "#2a3f5f"
            },
            "type": "carpet"
           }
          ],
          "choropleth": [
           {
            "colorbar": {
             "outlinewidth": 0,
             "ticks": ""
            },
            "type": "choropleth"
           }
          ],
          "contour": [
           {
            "colorbar": {
             "outlinewidth": 0,
             "ticks": ""
            },
            "colorscale": [
             [
              0,
              "#0d0887"
             ],
             [
              0.1111111111111111,
              "#46039f"
             ],
             [
              0.2222222222222222,
              "#7201a8"
             ],
             [
              0.3333333333333333,
              "#9c179e"
             ],
             [
              0.4444444444444444,
              "#bd3786"
             ],
             [
              0.5555555555555556,
              "#d8576b"
             ],
             [
              0.6666666666666666,
              "#ed7953"
             ],
             [
              0.7777777777777778,
              "#fb9f3a"
             ],
             [
              0.8888888888888888,
              "#fdca26"
             ],
             [
              1,
              "#f0f921"
             ]
            ],
            "type": "contour"
           }
          ],
          "contourcarpet": [
           {
            "colorbar": {
             "outlinewidth": 0,
             "ticks": ""
            },
            "type": "contourcarpet"
           }
          ],
          "heatmap": [
           {
            "colorbar": {
             "outlinewidth": 0,
             "ticks": ""
            },
            "colorscale": [
             [
              0,
              "#0d0887"
             ],
             [
              0.1111111111111111,
              "#46039f"
             ],
             [
              0.2222222222222222,
              "#7201a8"
             ],
             [
              0.3333333333333333,
              "#9c179e"
             ],
             [
              0.4444444444444444,
              "#bd3786"
             ],
             [
              0.5555555555555556,
              "#d8576b"
             ],
             [
              0.6666666666666666,
              "#ed7953"
             ],
             [
              0.7777777777777778,
              "#fb9f3a"
             ],
             [
              0.8888888888888888,
              "#fdca26"
             ],
             [
              1,
              "#f0f921"
             ]
            ],
            "type": "heatmap"
           }
          ],
          "heatmapgl": [
           {
            "colorbar": {
             "outlinewidth": 0,
             "ticks": ""
            },
            "colorscale": [
             [
              0,
              "#0d0887"
             ],
             [
              0.1111111111111111,
              "#46039f"
             ],
             [
              0.2222222222222222,
              "#7201a8"
             ],
             [
              0.3333333333333333,
              "#9c179e"
             ],
             [
              0.4444444444444444,
              "#bd3786"
             ],
             [
              0.5555555555555556,
              "#d8576b"
             ],
             [
              0.6666666666666666,
              "#ed7953"
             ],
             [
              0.7777777777777778,
              "#fb9f3a"
             ],
             [
              0.8888888888888888,
              "#fdca26"
             ],
             [
              1,
              "#f0f921"
             ]
            ],
            "type": "heatmapgl"
           }
          ],
          "histogram": [
           {
            "marker": {
             "colorbar": {
              "outlinewidth": 0,
              "ticks": ""
             }
            },
            "type": "histogram"
           }
          ],
          "histogram2d": [
           {
            "colorbar": {
             "outlinewidth": 0,
             "ticks": ""
            },
            "colorscale": [
             [
              0,
              "#0d0887"
             ],
             [
              0.1111111111111111,
              "#46039f"
             ],
             [
              0.2222222222222222,
              "#7201a8"
             ],
             [
              0.3333333333333333,
              "#9c179e"
             ],
             [
              0.4444444444444444,
              "#bd3786"
             ],
             [
              0.5555555555555556,
              "#d8576b"
             ],
             [
              0.6666666666666666,
              "#ed7953"
             ],
             [
              0.7777777777777778,
              "#fb9f3a"
             ],
             [
              0.8888888888888888,
              "#fdca26"
             ],
             [
              1,
              "#f0f921"
             ]
            ],
            "type": "histogram2d"
           }
          ],
          "histogram2dcontour": [
           {
            "colorbar": {
             "outlinewidth": 0,
             "ticks": ""
            },
            "colorscale": [
             [
              0,
              "#0d0887"
             ],
             [
              0.1111111111111111,
              "#46039f"
             ],
             [
              0.2222222222222222,
              "#7201a8"
             ],
             [
              0.3333333333333333,
              "#9c179e"
             ],
             [
              0.4444444444444444,
              "#bd3786"
             ],
             [
              0.5555555555555556,
              "#d8576b"
             ],
             [
              0.6666666666666666,
              "#ed7953"
             ],
             [
              0.7777777777777778,
              "#fb9f3a"
             ],
             [
              0.8888888888888888,
              "#fdca26"
             ],
             [
              1,
              "#f0f921"
             ]
            ],
            "type": "histogram2dcontour"
           }
          ],
          "mesh3d": [
           {
            "colorbar": {
             "outlinewidth": 0,
             "ticks": ""
            },
            "type": "mesh3d"
           }
          ],
          "parcoords": [
           {
            "line": {
             "colorbar": {
              "outlinewidth": 0,
              "ticks": ""
             }
            },
            "type": "parcoords"
           }
          ],
          "pie": [
           {
            "automargin": true,
            "type": "pie"
           }
          ],
          "scatter": [
           {
            "marker": {
             "colorbar": {
              "outlinewidth": 0,
              "ticks": ""
             }
            },
            "type": "scatter"
           }
          ],
          "scatter3d": [
           {
            "line": {
             "colorbar": {
              "outlinewidth": 0,
              "ticks": ""
             }
            },
            "marker": {
             "colorbar": {
              "outlinewidth": 0,
              "ticks": ""
             }
            },
            "type": "scatter3d"
           }
          ],
          "scattercarpet": [
           {
            "marker": {
             "colorbar": {
              "outlinewidth": 0,
              "ticks": ""
             }
            },
            "type": "scattercarpet"
           }
          ],
          "scattergeo": [
           {
            "marker": {
             "colorbar": {
              "outlinewidth": 0,
              "ticks": ""
             }
            },
            "type": "scattergeo"
           }
          ],
          "scattergl": [
           {
            "marker": {
             "colorbar": {
              "outlinewidth": 0,
              "ticks": ""
             }
            },
            "type": "scattergl"
           }
          ],
          "scattermapbox": [
           {
            "marker": {
             "colorbar": {
              "outlinewidth": 0,
              "ticks": ""
             }
            },
            "type": "scattermapbox"
           }
          ],
          "scatterpolar": [
           {
            "marker": {
             "colorbar": {
              "outlinewidth": 0,
              "ticks": ""
             }
            },
            "type": "scatterpolar"
           }
          ],
          "scatterpolargl": [
           {
            "marker": {
             "colorbar": {
              "outlinewidth": 0,
              "ticks": ""
             }
            },
            "type": "scatterpolargl"
           }
          ],
          "scatterternary": [
           {
            "marker": {
             "colorbar": {
              "outlinewidth": 0,
              "ticks": ""
             }
            },
            "type": "scatterternary"
           }
          ],
          "surface": [
           {
            "colorbar": {
             "outlinewidth": 0,
             "ticks": ""
            },
            "colorscale": [
             [
              0,
              "#0d0887"
             ],
             [
              0.1111111111111111,
              "#46039f"
             ],
             [
              0.2222222222222222,
              "#7201a8"
             ],
             [
              0.3333333333333333,
              "#9c179e"
             ],
             [
              0.4444444444444444,
              "#bd3786"
             ],
             [
              0.5555555555555556,
              "#d8576b"
             ],
             [
              0.6666666666666666,
              "#ed7953"
             ],
             [
              0.7777777777777778,
              "#fb9f3a"
             ],
             [
              0.8888888888888888,
              "#fdca26"
             ],
             [
              1,
              "#f0f921"
             ]
            ],
            "type": "surface"
           }
          ],
          "table": [
           {
            "cells": {
             "fill": {
              "color": "#EBF0F8"
             },
             "line": {
              "color": "white"
             }
            },
            "header": {
             "fill": {
              "color": "#C8D4E3"
             },
             "line": {
              "color": "white"
             }
            },
            "type": "table"
           }
          ]
         },
         "layout": {
          "annotationdefaults": {
           "arrowcolor": "#2a3f5f",
           "arrowhead": 0,
           "arrowwidth": 1
          },
          "autotypenumbers": "strict",
          "coloraxis": {
           "colorbar": {
            "outlinewidth": 0,
            "ticks": ""
           }
          },
          "colorscale": {
           "diverging": [
            [
             0,
             "#8e0152"
            ],
            [
             0.1,
             "#c51b7d"
            ],
            [
             0.2,
             "#de77ae"
            ],
            [
             0.3,
             "#f1b6da"
            ],
            [
             0.4,
             "#fde0ef"
            ],
            [
             0.5,
             "#f7f7f7"
            ],
            [
             0.6,
             "#e6f5d0"
            ],
            [
             0.7,
             "#b8e186"
            ],
            [
             0.8,
             "#7fbc41"
            ],
            [
             0.9,
             "#4d9221"
            ],
            [
             1,
             "#276419"
            ]
           ],
           "sequential": [
            [
             0,
             "#0d0887"
            ],
            [
             0.1111111111111111,
             "#46039f"
            ],
            [
             0.2222222222222222,
             "#7201a8"
            ],
            [
             0.3333333333333333,
             "#9c179e"
            ],
            [
             0.4444444444444444,
             "#bd3786"
            ],
            [
             0.5555555555555556,
             "#d8576b"
            ],
            [
             0.6666666666666666,
             "#ed7953"
            ],
            [
             0.7777777777777778,
             "#fb9f3a"
            ],
            [
             0.8888888888888888,
             "#fdca26"
            ],
            [
             1,
             "#f0f921"
            ]
           ],
           "sequentialminus": [
            [
             0,
             "#0d0887"
            ],
            [
             0.1111111111111111,
             "#46039f"
            ],
            [
             0.2222222222222222,
             "#7201a8"
            ],
            [
             0.3333333333333333,
             "#9c179e"
            ],
            [
             0.4444444444444444,
             "#bd3786"
            ],
            [
             0.5555555555555556,
             "#d8576b"
            ],
            [
             0.6666666666666666,
             "#ed7953"
            ],
            [
             0.7777777777777778,
             "#fb9f3a"
            ],
            [
             0.8888888888888888,
             "#fdca26"
            ],
            [
             1,
             "#f0f921"
            ]
           ]
          },
          "colorway": [
           "#636efa",
           "#EF553B",
           "#00cc96",
           "#ab63fa",
           "#FFA15A",
           "#19d3f3",
           "#FF6692",
           "#B6E880",
           "#FF97FF",
           "#FECB52"
          ],
          "font": {
           "color": "#2a3f5f"
          },
          "geo": {
           "bgcolor": "white",
           "lakecolor": "white",
           "landcolor": "#E5ECF6",
           "showlakes": true,
           "showland": true,
           "subunitcolor": "white"
          },
          "hoverlabel": {
           "align": "left"
          },
          "hovermode": "closest",
          "mapbox": {
           "style": "light"
          },
          "paper_bgcolor": "white",
          "plot_bgcolor": "#E5ECF6",
          "polar": {
           "angularaxis": {
            "gridcolor": "white",
            "linecolor": "white",
            "ticks": ""
           },
           "bgcolor": "#E5ECF6",
           "radialaxis": {
            "gridcolor": "white",
            "linecolor": "white",
            "ticks": ""
           }
          },
          "scene": {
           "xaxis": {
            "backgroundcolor": "#E5ECF6",
            "gridcolor": "white",
            "gridwidth": 2,
            "linecolor": "white",
            "showbackground": true,
            "ticks": "",
            "zerolinecolor": "white"
           },
           "yaxis": {
            "backgroundcolor": "#E5ECF6",
            "gridcolor": "white",
            "gridwidth": 2,
            "linecolor": "white",
            "showbackground": true,
            "ticks": "",
            "zerolinecolor": "white"
           },
           "zaxis": {
            "backgroundcolor": "#E5ECF6",
            "gridcolor": "white",
            "gridwidth": 2,
            "linecolor": "white",
            "showbackground": true,
            "ticks": "",
            "zerolinecolor": "white"
           }
          },
          "shapedefaults": {
           "line": {
            "color": "#2a3f5f"
           }
          },
          "ternary": {
           "aaxis": {
            "gridcolor": "white",
            "linecolor": "white",
            "ticks": ""
           },
           "baxis": {
            "gridcolor": "white",
            "linecolor": "white",
            "ticks": ""
           },
           "bgcolor": "#E5ECF6",
           "caxis": {
            "gridcolor": "white",
            "linecolor": "white",
            "ticks": ""
           }
          },
          "title": {
           "x": 0.05
          },
          "xaxis": {
           "automargin": true,
           "gridcolor": "white",
           "linecolor": "white",
           "ticks": "",
           "title": {
            "standoff": 15
           },
           "zerolinecolor": "white",
           "zerolinewidth": 2
          },
          "yaxis": {
           "automargin": true,
           "gridcolor": "white",
           "linecolor": "white",
           "ticks": "",
           "title": {
            "standoff": 15
           },
           "zerolinecolor": "white",
           "zerolinewidth": 2
          }
         }
        },
        "title": {
         "text": "OHLC Chart for ALGO with time interval daily"
        },
        "xaxis": {
         "rangeslider": {
          "visible": false
         }
        }
       }
      }
     },
     "metadata": {},
     "output_type": "display_data"
    },
    {
     "data": {
      "application/vnd.plotly.v1+json": {
       "config": {
        "plotlyServerURL": "https://plot.ly"
       },
       "data": [
        {
         "close": [
          0.0000459,
          0.0000426,
          0.0000543,
          0.0000508,
          0.0000493,
          0.0000477,
          0.0000473,
          0.0000439,
          0.0000495,
          0.0000458,
          0.0000452,
          0.0000466,
          0.0000471,
          0.0000428,
          0.0000425,
          0.0000374,
          0.000043,
          0.0000423,
          0.0000391,
          0.0000385,
          0.0000373,
          0.0000338,
          0.0000381,
          0.0000343,
          0.0000346,
          0.0000348,
          0.0000402,
          0.0000419,
          0.000039,
          0.0000374,
          0.0000358,
          0.0000326,
          0.0000321,
          0.0000326,
          0.0000322,
          0.0000326,
          0.0000307,
          0.0000296,
          0.0000305,
          0.0000324,
          0.0000292,
          0.0000302,
          0.0000295
         ],
         "decreasing": {
          "fillcolor": "gray",
          "line": {
           "color": "gray"
          }
         },
         "high": [
          0.0000578,
          0.0000527,
          0.0000568,
          0.0000546,
          0.0000517,
          0.0000511,
          0.0000505,
          0.0000477,
          0.0000507,
          0.0000497,
          0.0000462,
          0.0000494,
          0.0000494,
          0.0000471,
          0.0000442,
          0.0000433,
          0.0000468,
          0.0000445,
          0.0000423,
          0.0000412,
          0.0000397,
          0.0000373,
          0.0000432,
          0.0000383,
          0.0000369,
          0.0000351,
          0.0000406,
          0.0000484,
          0.0000431,
          0.0000391,
          0.0000398,
          0.0000359,
          0.0000338,
          0.0000333,
          0.0000345,
          0.0000333,
          0.0000329,
          0.000032,
          0.000031,
          0.0000335,
          0.0000326,
          0.0000315,
          0.0000304
         ],
         "increasing": {
          "fillcolor": "cyan",
          "line": {
           "color": "cyan"
          }
         },
         "low": [
          0.0000402,
          0.0000363,
          0.000039,
          0.0000477,
          0.0000485,
          0.0000454,
          0.0000461,
          0.0000401,
          0.0000422,
          0.0000449,
          0.0000443,
          0.0000451,
          0.0000457,
          0.0000398,
          0.0000414,
          0.0000357,
          0.0000369,
          0.0000404,
          0.0000386,
          0.0000377,
          0.0000365,
          0.0000319,
          0.0000336,
          0.0000321,
          0.0000339,
          0.0000321,
          0.000034,
          0.0000385,
          0.0000384,
          0.0000362,
          0.0000347,
          0.0000275,
          0.0000303,
          0.000029,
          0.0000317,
          0.0000316,
          0.0000303,
          0.0000295,
          0.0000293,
          0.0000299,
          0.000028,
          0.0000287,
          0.0000293
         ],
         "name": "OHLC",
         "open": [
          0.0000554,
          0.0000469,
          0.0000426,
          0.0000542,
          0.0000509,
          0.0000493,
          0.0000477,
          0.0000472,
          0.0000437,
          0.0000495,
          0.0000459,
          0.0000453,
          0.0000467,
          0.0000471,
          0.000043,
          0.0000425,
          0.0000376,
          0.0000432,
          0.0000423,
          0.0000392,
          0.0000385,
          0.0000373,
          0.000034,
          0.0000381,
          0.0000343,
          0.0000346,
          0.0000347,
          0.0000402,
          0.0000418,
          0.0000391,
          0.0000375,
          0.0000359,
          0.0000326,
          0.0000321,
          0.0000326,
          0.0000322,
          0.0000326,
          0.0000307,
          0.0000296,
          0.0000306,
          0.0000325,
          0.0000291,
          0.0000302
         ],
         "type": "candlestick",
         "x": [
          "2021-11-03T00:00:00",
          "2021-11-04T00:00:00",
          "2021-11-05T00:00:00",
          "2021-11-06T00:00:00",
          "2021-11-07T00:00:00",
          "2021-11-08T00:00:00",
          "2021-11-09T00:00:00",
          "2021-11-10T00:00:00",
          "2021-11-11T00:00:00",
          "2021-11-12T00:00:00",
          "2021-11-13T00:00:00",
          "2021-11-14T00:00:00",
          "2021-11-15T00:00:00",
          "2021-11-16T00:00:00",
          "2021-11-17T00:00:00",
          "2021-11-18T00:00:00",
          "2021-11-19T00:00:00",
          "2021-11-20T00:00:00",
          "2021-11-21T00:00:00",
          "2021-11-22T00:00:00",
          "2021-11-23T00:00:00",
          "2021-11-24T00:00:00",
          "2021-11-25T00:00:00",
          "2021-11-26T00:00:00",
          "2021-11-27T00:00:00",
          "2021-11-28T00:00:00",
          "2021-11-29T00:00:00",
          "2021-11-30T00:00:00",
          "2021-12-01T00:00:00",
          "2021-12-02T00:00:00",
          "2021-12-03T00:00:00",
          "2021-12-04T00:00:00",
          "2021-12-05T00:00:00",
          "2021-12-06T00:00:00",
          "2021-12-07T00:00:00",
          "2021-12-08T00:00:00",
          "2021-12-09T00:00:00",
          "2021-12-10T00:00:00",
          "2021-12-11T00:00:00",
          "2021-12-12T00:00:00",
          "2021-12-13T00:00:00",
          "2021-12-14T00:00:00",
          "2021-12-15T00:00:00"
         ]
        }
       ],
       "layout": {
        "template": {
         "data": {
          "bar": [
           {
            "error_x": {
             "color": "#2a3f5f"
            },
            "error_y": {
             "color": "#2a3f5f"
            },
            "marker": {
             "line": {
              "color": "#E5ECF6",
              "width": 0.5
             }
            },
            "type": "bar"
           }
          ],
          "barpolar": [
           {
            "marker": {
             "line": {
              "color": "#E5ECF6",
              "width": 0.5
             }
            },
            "type": "barpolar"
           }
          ],
          "carpet": [
           {
            "aaxis": {
             "endlinecolor": "#2a3f5f",
             "gridcolor": "white",
             "linecolor": "white",
             "minorgridcolor": "white",
             "startlinecolor": "#2a3f5f"
            },
            "baxis": {
             "endlinecolor": "#2a3f5f",
             "gridcolor": "white",
             "linecolor": "white",
             "minorgridcolor": "white",
             "startlinecolor": "#2a3f5f"
            },
            "type": "carpet"
           }
          ],
          "choropleth": [
           {
            "colorbar": {
             "outlinewidth": 0,
             "ticks": ""
            },
            "type": "choropleth"
           }
          ],
          "contour": [
           {
            "colorbar": {
             "outlinewidth": 0,
             "ticks": ""
            },
            "colorscale": [
             [
              0,
              "#0d0887"
             ],
             [
              0.1111111111111111,
              "#46039f"
             ],
             [
              0.2222222222222222,
              "#7201a8"
             ],
             [
              0.3333333333333333,
              "#9c179e"
             ],
             [
              0.4444444444444444,
              "#bd3786"
             ],
             [
              0.5555555555555556,
              "#d8576b"
             ],
             [
              0.6666666666666666,
              "#ed7953"
             ],
             [
              0.7777777777777778,
              "#fb9f3a"
             ],
             [
              0.8888888888888888,
              "#fdca26"
             ],
             [
              1,
              "#f0f921"
             ]
            ],
            "type": "contour"
           }
          ],
          "contourcarpet": [
           {
            "colorbar": {
             "outlinewidth": 0,
             "ticks": ""
            },
            "type": "contourcarpet"
           }
          ],
          "heatmap": [
           {
            "colorbar": {
             "outlinewidth": 0,
             "ticks": ""
            },
            "colorscale": [
             [
              0,
              "#0d0887"
             ],
             [
              0.1111111111111111,
              "#46039f"
             ],
             [
              0.2222222222222222,
              "#7201a8"
             ],
             [
              0.3333333333333333,
              "#9c179e"
             ],
             [
              0.4444444444444444,
              "#bd3786"
             ],
             [
              0.5555555555555556,
              "#d8576b"
             ],
             [
              0.6666666666666666,
              "#ed7953"
             ],
             [
              0.7777777777777778,
              "#fb9f3a"
             ],
             [
              0.8888888888888888,
              "#fdca26"
             ],
             [
              1,
              "#f0f921"
             ]
            ],
            "type": "heatmap"
           }
          ],
          "heatmapgl": [
           {
            "colorbar": {
             "outlinewidth": 0,
             "ticks": ""
            },
            "colorscale": [
             [
              0,
              "#0d0887"
             ],
             [
              0.1111111111111111,
              "#46039f"
             ],
             [
              0.2222222222222222,
              "#7201a8"
             ],
             [
              0.3333333333333333,
              "#9c179e"
             ],
             [
              0.4444444444444444,
              "#bd3786"
             ],
             [
              0.5555555555555556,
              "#d8576b"
             ],
             [
              0.6666666666666666,
              "#ed7953"
             ],
             [
              0.7777777777777778,
              "#fb9f3a"
             ],
             [
              0.8888888888888888,
              "#fdca26"
             ],
             [
              1,
              "#f0f921"
             ]
            ],
            "type": "heatmapgl"
           }
          ],
          "histogram": [
           {
            "marker": {
             "colorbar": {
              "outlinewidth": 0,
              "ticks": ""
             }
            },
            "type": "histogram"
           }
          ],
          "histogram2d": [
           {
            "colorbar": {
             "outlinewidth": 0,
             "ticks": ""
            },
            "colorscale": [
             [
              0,
              "#0d0887"
             ],
             [
              0.1111111111111111,
              "#46039f"
             ],
             [
              0.2222222222222222,
              "#7201a8"
             ],
             [
              0.3333333333333333,
              "#9c179e"
             ],
             [
              0.4444444444444444,
              "#bd3786"
             ],
             [
              0.5555555555555556,
              "#d8576b"
             ],
             [
              0.6666666666666666,
              "#ed7953"
             ],
             [
              0.7777777777777778,
              "#fb9f3a"
             ],
             [
              0.8888888888888888,
              "#fdca26"
             ],
             [
              1,
              "#f0f921"
             ]
            ],
            "type": "histogram2d"
           }
          ],
          "histogram2dcontour": [
           {
            "colorbar": {
             "outlinewidth": 0,
             "ticks": ""
            },
            "colorscale": [
             [
              0,
              "#0d0887"
             ],
             [
              0.1111111111111111,
              "#46039f"
             ],
             [
              0.2222222222222222,
              "#7201a8"
             ],
             [
              0.3333333333333333,
              "#9c179e"
             ],
             [
              0.4444444444444444,
              "#bd3786"
             ],
             [
              0.5555555555555556,
              "#d8576b"
             ],
             [
              0.6666666666666666,
              "#ed7953"
             ],
             [
              0.7777777777777778,
              "#fb9f3a"
             ],
             [
              0.8888888888888888,
              "#fdca26"
             ],
             [
              1,
              "#f0f921"
             ]
            ],
            "type": "histogram2dcontour"
           }
          ],
          "mesh3d": [
           {
            "colorbar": {
             "outlinewidth": 0,
             "ticks": ""
            },
            "type": "mesh3d"
           }
          ],
          "parcoords": [
           {
            "line": {
             "colorbar": {
              "outlinewidth": 0,
              "ticks": ""
             }
            },
            "type": "parcoords"
           }
          ],
          "pie": [
           {
            "automargin": true,
            "type": "pie"
           }
          ],
          "scatter": [
           {
            "marker": {
             "colorbar": {
              "outlinewidth": 0,
              "ticks": ""
             }
            },
            "type": "scatter"
           }
          ],
          "scatter3d": [
           {
            "line": {
             "colorbar": {
              "outlinewidth": 0,
              "ticks": ""
             }
            },
            "marker": {
             "colorbar": {
              "outlinewidth": 0,
              "ticks": ""
             }
            },
            "type": "scatter3d"
           }
          ],
          "scattercarpet": [
           {
            "marker": {
             "colorbar": {
              "outlinewidth": 0,
              "ticks": ""
             }
            },
            "type": "scattercarpet"
           }
          ],
          "scattergeo": [
           {
            "marker": {
             "colorbar": {
              "outlinewidth": 0,
              "ticks": ""
             }
            },
            "type": "scattergeo"
           }
          ],
          "scattergl": [
           {
            "marker": {
             "colorbar": {
              "outlinewidth": 0,
              "ticks": ""
             }
            },
            "type": "scattergl"
           }
          ],
          "scattermapbox": [
           {
            "marker": {
             "colorbar": {
              "outlinewidth": 0,
              "ticks": ""
             }
            },
            "type": "scattermapbox"
           }
          ],
          "scatterpolar": [
           {
            "marker": {
             "colorbar": {
              "outlinewidth": 0,
              "ticks": ""
             }
            },
            "type": "scatterpolar"
           }
          ],
          "scatterpolargl": [
           {
            "marker": {
             "colorbar": {
              "outlinewidth": 0,
              "ticks": ""
             }
            },
            "type": "scatterpolargl"
           }
          ],
          "scatterternary": [
           {
            "marker": {
             "colorbar": {
              "outlinewidth": 0,
              "ticks": ""
             }
            },
            "type": "scatterternary"
           }
          ],
          "surface": [
           {
            "colorbar": {
             "outlinewidth": 0,
             "ticks": ""
            },
            "colorscale": [
             [
              0,
              "#0d0887"
             ],
             [
              0.1111111111111111,
              "#46039f"
             ],
             [
              0.2222222222222222,
              "#7201a8"
             ],
             [
              0.3333333333333333,
              "#9c179e"
             ],
             [
              0.4444444444444444,
              "#bd3786"
             ],
             [
              0.5555555555555556,
              "#d8576b"
             ],
             [
              0.6666666666666666,
              "#ed7953"
             ],
             [
              0.7777777777777778,
              "#fb9f3a"
             ],
             [
              0.8888888888888888,
              "#fdca26"
             ],
             [
              1,
              "#f0f921"
             ]
            ],
            "type": "surface"
           }
          ],
          "table": [
           {
            "cells": {
             "fill": {
              "color": "#EBF0F8"
             },
             "line": {
              "color": "white"
             }
            },
            "header": {
             "fill": {
              "color": "#C8D4E3"
             },
             "line": {
              "color": "white"
             }
            },
            "type": "table"
           }
          ]
         },
         "layout": {
          "annotationdefaults": {
           "arrowcolor": "#2a3f5f",
           "arrowhead": 0,
           "arrowwidth": 1
          },
          "autotypenumbers": "strict",
          "coloraxis": {
           "colorbar": {
            "outlinewidth": 0,
            "ticks": ""
           }
          },
          "colorscale": {
           "diverging": [
            [
             0,
             "#8e0152"
            ],
            [
             0.1,
             "#c51b7d"
            ],
            [
             0.2,
             "#de77ae"
            ],
            [
             0.3,
             "#f1b6da"
            ],
            [
             0.4,
             "#fde0ef"
            ],
            [
             0.5,
             "#f7f7f7"
            ],
            [
             0.6,
             "#e6f5d0"
            ],
            [
             0.7,
             "#b8e186"
            ],
            [
             0.8,
             "#7fbc41"
            ],
            [
             0.9,
             "#4d9221"
            ],
            [
             1,
             "#276419"
            ]
           ],
           "sequential": [
            [
             0,
             "#0d0887"
            ],
            [
             0.1111111111111111,
             "#46039f"
            ],
            [
             0.2222222222222222,
             "#7201a8"
            ],
            [
             0.3333333333333333,
             "#9c179e"
            ],
            [
             0.4444444444444444,
             "#bd3786"
            ],
            [
             0.5555555555555556,
             "#d8576b"
            ],
            [
             0.6666666666666666,
             "#ed7953"
            ],
            [
             0.7777777777777778,
             "#fb9f3a"
            ],
            [
             0.8888888888888888,
             "#fdca26"
            ],
            [
             1,
             "#f0f921"
            ]
           ],
           "sequentialminus": [
            [
             0,
             "#0d0887"
            ],
            [
             0.1111111111111111,
             "#46039f"
            ],
            [
             0.2222222222222222,
             "#7201a8"
            ],
            [
             0.3333333333333333,
             "#9c179e"
            ],
            [
             0.4444444444444444,
             "#bd3786"
            ],
            [
             0.5555555555555556,
             "#d8576b"
            ],
            [
             0.6666666666666666,
             "#ed7953"
            ],
            [
             0.7777777777777778,
             "#fb9f3a"
            ],
            [
             0.8888888888888888,
             "#fdca26"
            ],
            [
             1,
             "#f0f921"
            ]
           ]
          },
          "colorway": [
           "#636efa",
           "#EF553B",
           "#00cc96",
           "#ab63fa",
           "#FFA15A",
           "#19d3f3",
           "#FF6692",
           "#B6E880",
           "#FF97FF",
           "#FECB52"
          ],
          "font": {
           "color": "#2a3f5f"
          },
          "geo": {
           "bgcolor": "white",
           "lakecolor": "white",
           "landcolor": "#E5ECF6",
           "showlakes": true,
           "showland": true,
           "subunitcolor": "white"
          },
          "hoverlabel": {
           "align": "left"
          },
          "hovermode": "closest",
          "mapbox": {
           "style": "light"
          },
          "paper_bgcolor": "white",
          "plot_bgcolor": "#E5ECF6",
          "polar": {
           "angularaxis": {
            "gridcolor": "white",
            "linecolor": "white",
            "ticks": ""
           },
           "bgcolor": "#E5ECF6",
           "radialaxis": {
            "gridcolor": "white",
            "linecolor": "white",
            "ticks": ""
           }
          },
          "scene": {
           "xaxis": {
            "backgroundcolor": "#E5ECF6",
            "gridcolor": "white",
            "gridwidth": 2,
            "linecolor": "white",
            "showbackground": true,
            "ticks": "",
            "zerolinecolor": "white"
           },
           "yaxis": {
            "backgroundcolor": "#E5ECF6",
            "gridcolor": "white",
            "gridwidth": 2,
            "linecolor": "white",
            "showbackground": true,
            "ticks": "",
            "zerolinecolor": "white"
           },
           "zaxis": {
            "backgroundcolor": "#E5ECF6",
            "gridcolor": "white",
            "gridwidth": 2,
            "linecolor": "white",
            "showbackground": true,
            "ticks": "",
            "zerolinecolor": "white"
           }
          },
          "shapedefaults": {
           "line": {
            "color": "#2a3f5f"
           }
          },
          "ternary": {
           "aaxis": {
            "gridcolor": "white",
            "linecolor": "white",
            "ticks": ""
           },
           "baxis": {
            "gridcolor": "white",
            "linecolor": "white",
            "ticks": ""
           },
           "bgcolor": "#E5ECF6",
           "caxis": {
            "gridcolor": "white",
            "linecolor": "white",
            "ticks": ""
           }
          },
          "title": {
           "x": 0.05
          },
          "xaxis": {
           "automargin": true,
           "gridcolor": "white",
           "linecolor": "white",
           "ticks": "",
           "title": {
            "standoff": 15
           },
           "zerolinecolor": "white",
           "zerolinewidth": 2
          },
          "yaxis": {
           "automargin": true,
           "gridcolor": "white",
           "linecolor": "white",
           "ticks": "",
           "title": {
            "standoff": 15
           },
           "zerolinecolor": "white",
           "zerolinewidth": 2
          }
         }
        },
        "title": {
         "text": "OHLC Chart for SHIB with time interval daily"
        },
        "xaxis": {
         "rangeslider": {
          "visible": false
         }
        }
       }
      }
     },
     "metadata": {},
     "output_type": "display_data"
    },
    {
     "data": {
      "application/vnd.plotly.v1+json": {
       "config": {
        "plotlyServerURL": "https://plot.ly"
       },
       "data": [
        {
         "close": [
          0.696,
          0.701,
          0.682,
          0.579,
          0.524,
          0.628,
          0.652,
          0.599,
          0.59,
          0.603,
          0.568,
          0.53,
          0.556,
          0.596,
          0.642,
          0.65,
          0.661,
          0.659,
          0.673,
          0.67,
          0.668,
          0.703,
          0.723,
          0.664,
          0.658,
          0.654,
          0.664,
          0.667,
          0.652,
          0.695,
          0.658,
          0.645,
          0.664,
          0.699,
          0.679,
          0.678,
          0.683,
          0.668,
          0.697,
          0.703,
          0.651,
          0.792,
          1.208,
          3.109,
          2.503,
          2.619,
          2.673,
          2.446,
          2.167,
          2.248,
          2.434,
          2.462,
          2.317,
          2.197,
          2.173,
          2.336,
          2.894,
          2.844,
          2.812,
          2.901,
          2.868,
          2.97,
          3.306,
          3.811,
          3.569,
          3.242,
          3.64,
          3.58,
          4.61,
          4.636,
          4.135,
          4.164,
          4.567,
          4.329,
          4.104,
          4.018,
          3.902,
          3.459,
          3.656,
          3.272,
          3.345,
          3.381,
          3.322,
          3.059,
          2.857,
          3.081,
          3.207,
          2.812,
          2.814,
          2.713
         ],
         "decreasing": {
          "fillcolor": "gray",
          "line": {
           "color": "gray"
          }
         },
         "high": [
          0.725,
          0.714,
          0.703,
          0.682,
          0.593,
          0.633,
          0.663,
          0.653,
          0.608,
          0.648,
          0.613,
          0.585,
          0.567,
          0.604,
          0.654,
          0.673,
          0.664,
          0.713,
          0.676,
          0.684,
          0.675,
          0.704,
          0.726,
          0.724,
          0.69,
          0.657,
          0.664,
          0.68,
          0.668,
          0.746,
          0.697,
          0.663,
          0.669,
          0.723,
          0.713,
          0.698,
          0.687,
          0.687,
          0.699,
          0.738,
          0.739,
          0.89,
          1.419,
          4.4,
          3.626,
          3.02,
          2.978,
          2.748,
          2.533,
          2.373,
          2.658,
          2.584,
          2.494,
          2.338,
          2.485,
          2.493,
          3.037,
          3.34,
          2.95,
          3.06,
          3.038,
          3.112,
          3.512,
          3.856,
          3.876,
          3.653,
          3.658,
          3.832,
          4.92,
          5.269,
          4.874,
          4.425,
          4.576,
          4.645,
          4.376,
          4.258,
          4.011,
          3.929,
          3.753,
          3.688,
          3.484,
          3.683,
          3.4,
          3.44,
          3.191,
          3.085,
          3.251,
          3.266,
          2.891,
          2.861
         ],
         "increasing": {
          "fillcolor": "cyan",
          "line": {
           "color": "cyan"
          }
         },
         "low": [
          0.683,
          0.689,
          0.671,
          0.568,
          0.51,
          0.513,
          0.6,
          0.545,
          0.569,
          0.563,
          0.566,
          0.528,
          0.529,
          0.556,
          0.587,
          0.637,
          0.635,
          0.624,
          0.643,
          0.624,
          0.646,
          0.666,
          0.689,
          0.664,
          0.645,
          0.618,
          0.635,
          0.655,
          0.632,
          0.65,
          0.635,
          0.635,
          0.633,
          0.659,
          0.67,
          0.666,
          0.671,
          0.649,
          0.664,
          0.689,
          0.616,
          0.645,
          0.79,
          1.111,
          2.215,
          2.259,
          2.524,
          2.33,
          2.081,
          2.031,
          2.199,
          2.36,
          2.298,
          2.161,
          1.925,
          2.11,
          2.296,
          2.756,
          2.711,
          2.777,
          2.418,
          2.758,
          2.855,
          3.306,
          3.41,
          3.21,
          3.129,
          3.488,
          3.572,
          4.163,
          3.88,
          3.856,
          3.79,
          4.273,
          4,
          3.926,
          3.716,
          3.269,
          2.5,
          3.094,
          2.856,
          3.253,
          3.147,
          3.021,
          2.843,
          2.798,
          3.061,
          2.75,
          2.661,
          2.711
         ],
         "name": "OHLC",
         "open": [
          0.714,
          0.692,
          0.699,
          0.678,
          0.577,
          0.526,
          0.63,
          0.651,
          0.6,
          0.587,
          0.601,
          0.567,
          0.531,
          0.556,
          0.596,
          0.641,
          0.65,
          0.66,
          0.659,
          0.671,
          0.671,
          0.667,
          0.702,
          0.724,
          0.663,
          0.657,
          0.65,
          0.664,
          0.666,
          0.652,
          0.693,
          0.658,
          0.641,
          0.667,
          0.697,
          0.679,
          0.678,
          0.682,
          0.667,
          0.694,
          0.702,
          0.655,
          0.792,
          1.206,
          3.101,
          2.508,
          2.616,
          2.672,
          2.45,
          2.17,
          2.245,
          2.432,
          2.462,
          2.318,
          2.2,
          2.167,
          2.334,
          2.893,
          2.84,
          2.801,
          2.898,
          2.866,
          2.97,
          3.306,
          3.812,
          3.571,
          3.238,
          3.644,
          3.581,
          4.614,
          4.633,
          4.129,
          4.155,
          4.568,
          4.333,
          4.104,
          4.002,
          3.905,
          3.459,
          3.656,
          3.273,
          3.345,
          3.385,
          3.326,
          3.058,
          2.857,
          3.085,
          3.212,
          2.807,
          2.814
         ],
         "type": "candlestick",
         "x": [
          "2021-09-17T00:00:00",
          "2021-09-18T00:00:00",
          "2021-09-19T00:00:00",
          "2021-09-20T00:00:00",
          "2021-09-21T00:00:00",
          "2021-09-22T00:00:00",
          "2021-09-23T00:00:00",
          "2021-09-24T00:00:00",
          "2021-09-25T00:00:00",
          "2021-09-26T00:00:00",
          "2021-09-27T00:00:00",
          "2021-09-28T00:00:00",
          "2021-09-29T00:00:00",
          "2021-09-30T00:00:00",
          "2021-10-01T00:00:00",
          "2021-10-02T00:00:00",
          "2021-10-03T00:00:00",
          "2021-10-04T00:00:00",
          "2021-10-05T00:00:00",
          "2021-10-06T00:00:00",
          "2021-10-07T00:00:00",
          "2021-10-08T00:00:00",
          "2021-10-09T00:00:00",
          "2021-10-10T00:00:00",
          "2021-10-11T00:00:00",
          "2021-10-12T00:00:00",
          "2021-10-13T00:00:00",
          "2021-10-14T00:00:00",
          "2021-10-15T00:00:00",
          "2021-10-16T00:00:00",
          "2021-10-17T00:00:00",
          "2021-10-18T00:00:00",
          "2021-10-19T00:00:00",
          "2021-10-20T00:00:00",
          "2021-10-21T00:00:00",
          "2021-10-22T00:00:00",
          "2021-10-23T00:00:00",
          "2021-10-24T00:00:00",
          "2021-10-25T00:00:00",
          "2021-10-26T00:00:00",
          "2021-10-27T00:00:00",
          "2021-10-28T00:00:00",
          "2021-10-29T00:00:00",
          "2021-10-30T00:00:00",
          "2021-10-31T00:00:00",
          "2021-11-01T00:00:00",
          "2021-11-02T00:00:00",
          "2021-11-03T00:00:00",
          "2021-11-04T00:00:00",
          "2021-11-05T00:00:00",
          "2021-11-06T00:00:00",
          "2021-11-07T00:00:00",
          "2021-11-08T00:00:00",
          "2021-11-09T00:00:00",
          "2021-11-10T00:00:00",
          "2021-11-11T00:00:00",
          "2021-11-12T00:00:00",
          "2021-11-13T00:00:00",
          "2021-11-14T00:00:00",
          "2021-11-15T00:00:00",
          "2021-11-16T00:00:00",
          "2021-11-17T00:00:00",
          "2021-11-18T00:00:00",
          "2021-11-19T00:00:00",
          "2021-11-20T00:00:00",
          "2021-11-21T00:00:00",
          "2021-11-22T00:00:00",
          "2021-11-23T00:00:00",
          "2021-11-24T00:00:00",
          "2021-11-25T00:00:00",
          "2021-11-26T00:00:00",
          "2021-11-27T00:00:00",
          "2021-11-28T00:00:00",
          "2021-11-29T00:00:00",
          "2021-11-30T00:00:00",
          "2021-12-01T00:00:00",
          "2021-12-02T00:00:00",
          "2021-12-03T00:00:00",
          "2021-12-04T00:00:00",
          "2021-12-05T00:00:00",
          "2021-12-06T00:00:00",
          "2021-12-07T00:00:00",
          "2021-12-08T00:00:00",
          "2021-12-09T00:00:00",
          "2021-12-10T00:00:00",
          "2021-12-11T00:00:00",
          "2021-12-12T00:00:00",
          "2021-12-13T00:00:00",
          "2021-12-14T00:00:00",
          "2021-12-15T00:00:00"
         ]
        }
       ],
       "layout": {
        "template": {
         "data": {
          "bar": [
           {
            "error_x": {
             "color": "#2a3f5f"
            },
            "error_y": {
             "color": "#2a3f5f"
            },
            "marker": {
             "line": {
              "color": "#E5ECF6",
              "width": 0.5
             }
            },
            "type": "bar"
           }
          ],
          "barpolar": [
           {
            "marker": {
             "line": {
              "color": "#E5ECF6",
              "width": 0.5
             }
            },
            "type": "barpolar"
           }
          ],
          "carpet": [
           {
            "aaxis": {
             "endlinecolor": "#2a3f5f",
             "gridcolor": "white",
             "linecolor": "white",
             "minorgridcolor": "white",
             "startlinecolor": "#2a3f5f"
            },
            "baxis": {
             "endlinecolor": "#2a3f5f",
             "gridcolor": "white",
             "linecolor": "white",
             "minorgridcolor": "white",
             "startlinecolor": "#2a3f5f"
            },
            "type": "carpet"
           }
          ],
          "choropleth": [
           {
            "colorbar": {
             "outlinewidth": 0,
             "ticks": ""
            },
            "type": "choropleth"
           }
          ],
          "contour": [
           {
            "colorbar": {
             "outlinewidth": 0,
             "ticks": ""
            },
            "colorscale": [
             [
              0,
              "#0d0887"
             ],
             [
              0.1111111111111111,
              "#46039f"
             ],
             [
              0.2222222222222222,
              "#7201a8"
             ],
             [
              0.3333333333333333,
              "#9c179e"
             ],
             [
              0.4444444444444444,
              "#bd3786"
             ],
             [
              0.5555555555555556,
              "#d8576b"
             ],
             [
              0.6666666666666666,
              "#ed7953"
             ],
             [
              0.7777777777777778,
              "#fb9f3a"
             ],
             [
              0.8888888888888888,
              "#fdca26"
             ],
             [
              1,
              "#f0f921"
             ]
            ],
            "type": "contour"
           }
          ],
          "contourcarpet": [
           {
            "colorbar": {
             "outlinewidth": 0,
             "ticks": ""
            },
            "type": "contourcarpet"
           }
          ],
          "heatmap": [
           {
            "colorbar": {
             "outlinewidth": 0,
             "ticks": ""
            },
            "colorscale": [
             [
              0,
              "#0d0887"
             ],
             [
              0.1111111111111111,
              "#46039f"
             ],
             [
              0.2222222222222222,
              "#7201a8"
             ],
             [
              0.3333333333333333,
              "#9c179e"
             ],
             [
              0.4444444444444444,
              "#bd3786"
             ],
             [
              0.5555555555555556,
              "#d8576b"
             ],
             [
              0.6666666666666666,
              "#ed7953"
             ],
             [
              0.7777777777777778,
              "#fb9f3a"
             ],
             [
              0.8888888888888888,
              "#fdca26"
             ],
             [
              1,
              "#f0f921"
             ]
            ],
            "type": "heatmap"
           }
          ],
          "heatmapgl": [
           {
            "colorbar": {
             "outlinewidth": 0,
             "ticks": ""
            },
            "colorscale": [
             [
              0,
              "#0d0887"
             ],
             [
              0.1111111111111111,
              "#46039f"
             ],
             [
              0.2222222222222222,
              "#7201a8"
             ],
             [
              0.3333333333333333,
              "#9c179e"
             ],
             [
              0.4444444444444444,
              "#bd3786"
             ],
             [
              0.5555555555555556,
              "#d8576b"
             ],
             [
              0.6666666666666666,
              "#ed7953"
             ],
             [
              0.7777777777777778,
              "#fb9f3a"
             ],
             [
              0.8888888888888888,
              "#fdca26"
             ],
             [
              1,
              "#f0f921"
             ]
            ],
            "type": "heatmapgl"
           }
          ],
          "histogram": [
           {
            "marker": {
             "colorbar": {
              "outlinewidth": 0,
              "ticks": ""
             }
            },
            "type": "histogram"
           }
          ],
          "histogram2d": [
           {
            "colorbar": {
             "outlinewidth": 0,
             "ticks": ""
            },
            "colorscale": [
             [
              0,
              "#0d0887"
             ],
             [
              0.1111111111111111,
              "#46039f"
             ],
             [
              0.2222222222222222,
              "#7201a8"
             ],
             [
              0.3333333333333333,
              "#9c179e"
             ],
             [
              0.4444444444444444,
              "#bd3786"
             ],
             [
              0.5555555555555556,
              "#d8576b"
             ],
             [
              0.6666666666666666,
              "#ed7953"
             ],
             [
              0.7777777777777778,
              "#fb9f3a"
             ],
             [
              0.8888888888888888,
              "#fdca26"
             ],
             [
              1,
              "#f0f921"
             ]
            ],
            "type": "histogram2d"
           }
          ],
          "histogram2dcontour": [
           {
            "colorbar": {
             "outlinewidth": 0,
             "ticks": ""
            },
            "colorscale": [
             [
              0,
              "#0d0887"
             ],
             [
              0.1111111111111111,
              "#46039f"
             ],
             [
              0.2222222222222222,
              "#7201a8"
             ],
             [
              0.3333333333333333,
              "#9c179e"
             ],
             [
              0.4444444444444444,
              "#bd3786"
             ],
             [
              0.5555555555555556,
              "#d8576b"
             ],
             [
              0.6666666666666666,
              "#ed7953"
             ],
             [
              0.7777777777777778,
              "#fb9f3a"
             ],
             [
              0.8888888888888888,
              "#fdca26"
             ],
             [
              1,
              "#f0f921"
             ]
            ],
            "type": "histogram2dcontour"
           }
          ],
          "mesh3d": [
           {
            "colorbar": {
             "outlinewidth": 0,
             "ticks": ""
            },
            "type": "mesh3d"
           }
          ],
          "parcoords": [
           {
            "line": {
             "colorbar": {
              "outlinewidth": 0,
              "ticks": ""
             }
            },
            "type": "parcoords"
           }
          ],
          "pie": [
           {
            "automargin": true,
            "type": "pie"
           }
          ],
          "scatter": [
           {
            "marker": {
             "colorbar": {
              "outlinewidth": 0,
              "ticks": ""
             }
            },
            "type": "scatter"
           }
          ],
          "scatter3d": [
           {
            "line": {
             "colorbar": {
              "outlinewidth": 0,
              "ticks": ""
             }
            },
            "marker": {
             "colorbar": {
              "outlinewidth": 0,
              "ticks": ""
             }
            },
            "type": "scatter3d"
           }
          ],
          "scattercarpet": [
           {
            "marker": {
             "colorbar": {
              "outlinewidth": 0,
              "ticks": ""
             }
            },
            "type": "scattercarpet"
           }
          ],
          "scattergeo": [
           {
            "marker": {
             "colorbar": {
              "outlinewidth": 0,
              "ticks": ""
             }
            },
            "type": "scattergeo"
           }
          ],
          "scattergl": [
           {
            "marker": {
             "colorbar": {
              "outlinewidth": 0,
              "ticks": ""
             }
            },
            "type": "scattergl"
           }
          ],
          "scattermapbox": [
           {
            "marker": {
             "colorbar": {
              "outlinewidth": 0,
              "ticks": ""
             }
            },
            "type": "scattermapbox"
           }
          ],
          "scatterpolar": [
           {
            "marker": {
             "colorbar": {
              "outlinewidth": 0,
              "ticks": ""
             }
            },
            "type": "scatterpolar"
           }
          ],
          "scatterpolargl": [
           {
            "marker": {
             "colorbar": {
              "outlinewidth": 0,
              "ticks": ""
             }
            },
            "type": "scatterpolargl"
           }
          ],
          "scatterternary": [
           {
            "marker": {
             "colorbar": {
              "outlinewidth": 0,
              "ticks": ""
             }
            },
            "type": "scatterternary"
           }
          ],
          "surface": [
           {
            "colorbar": {
             "outlinewidth": 0,
             "ticks": ""
            },
            "colorscale": [
             [
              0,
              "#0d0887"
             ],
             [
              0.1111111111111111,
              "#46039f"
             ],
             [
              0.2222222222222222,
              "#7201a8"
             ],
             [
              0.3333333333333333,
              "#9c179e"
             ],
             [
              0.4444444444444444,
              "#bd3786"
             ],
             [
              0.5555555555555556,
              "#d8576b"
             ],
             [
              0.6666666666666666,
              "#ed7953"
             ],
             [
              0.7777777777777778,
              "#fb9f3a"
             ],
             [
              0.8888888888888888,
              "#fdca26"
             ],
             [
              1,
              "#f0f921"
             ]
            ],
            "type": "surface"
           }
          ],
          "table": [
           {
            "cells": {
             "fill": {
              "color": "#EBF0F8"
             },
             "line": {
              "color": "white"
             }
            },
            "header": {
             "fill": {
              "color": "#C8D4E3"
             },
             "line": {
              "color": "white"
             }
            },
            "type": "table"
           }
          ]
         },
         "layout": {
          "annotationdefaults": {
           "arrowcolor": "#2a3f5f",
           "arrowhead": 0,
           "arrowwidth": 1
          },
          "autotypenumbers": "strict",
          "coloraxis": {
           "colorbar": {
            "outlinewidth": 0,
            "ticks": ""
           }
          },
          "colorscale": {
           "diverging": [
            [
             0,
             "#8e0152"
            ],
            [
             0.1,
             "#c51b7d"
            ],
            [
             0.2,
             "#de77ae"
            ],
            [
             0.3,
             "#f1b6da"
            ],
            [
             0.4,
             "#fde0ef"
            ],
            [
             0.5,
             "#f7f7f7"
            ],
            [
             0.6,
             "#e6f5d0"
            ],
            [
             0.7,
             "#b8e186"
            ],
            [
             0.8,
             "#7fbc41"
            ],
            [
             0.9,
             "#4d9221"
            ],
            [
             1,
             "#276419"
            ]
           ],
           "sequential": [
            [
             0,
             "#0d0887"
            ],
            [
             0.1111111111111111,
             "#46039f"
            ],
            [
             0.2222222222222222,
             "#7201a8"
            ],
            [
             0.3333333333333333,
             "#9c179e"
            ],
            [
             0.4444444444444444,
             "#bd3786"
            ],
            [
             0.5555555555555556,
             "#d8576b"
            ],
            [
             0.6666666666666666,
             "#ed7953"
            ],
            [
             0.7777777777777778,
             "#fb9f3a"
            ],
            [
             0.8888888888888888,
             "#fdca26"
            ],
            [
             1,
             "#f0f921"
            ]
           ],
           "sequentialminus": [
            [
             0,
             "#0d0887"
            ],
            [
             0.1111111111111111,
             "#46039f"
            ],
            [
             0.2222222222222222,
             "#7201a8"
            ],
            [
             0.3333333333333333,
             "#9c179e"
            ],
            [
             0.4444444444444444,
             "#bd3786"
            ],
            [
             0.5555555555555556,
             "#d8576b"
            ],
            [
             0.6666666666666666,
             "#ed7953"
            ],
            [
             0.7777777777777778,
             "#fb9f3a"
            ],
            [
             0.8888888888888888,
             "#fdca26"
            ],
            [
             1,
             "#f0f921"
            ]
           ]
          },
          "colorway": [
           "#636efa",
           "#EF553B",
           "#00cc96",
           "#ab63fa",
           "#FFA15A",
           "#19d3f3",
           "#FF6692",
           "#B6E880",
           "#FF97FF",
           "#FECB52"
          ],
          "font": {
           "color": "#2a3f5f"
          },
          "geo": {
           "bgcolor": "white",
           "lakecolor": "white",
           "landcolor": "#E5ECF6",
           "showlakes": true,
           "showland": true,
           "subunitcolor": "white"
          },
          "hoverlabel": {
           "align": "left"
          },
          "hovermode": "closest",
          "mapbox": {
           "style": "light"
          },
          "paper_bgcolor": "white",
          "plot_bgcolor": "#E5ECF6",
          "polar": {
           "angularaxis": {
            "gridcolor": "white",
            "linecolor": "white",
            "ticks": ""
           },
           "bgcolor": "#E5ECF6",
           "radialaxis": {
            "gridcolor": "white",
            "linecolor": "white",
            "ticks": ""
           }
          },
          "scene": {
           "xaxis": {
            "backgroundcolor": "#E5ECF6",
            "gridcolor": "white",
            "gridwidth": 2,
            "linecolor": "white",
            "showbackground": true,
            "ticks": "",
            "zerolinecolor": "white"
           },
           "yaxis": {
            "backgroundcolor": "#E5ECF6",
            "gridcolor": "white",
            "gridwidth": 2,
            "linecolor": "white",
            "showbackground": true,
            "ticks": "",
            "zerolinecolor": "white"
           },
           "zaxis": {
            "backgroundcolor": "#E5ECF6",
            "gridcolor": "white",
            "gridwidth": 2,
            "linecolor": "white",
            "showbackground": true,
            "ticks": "",
            "zerolinecolor": "white"
           }
          },
          "shapedefaults": {
           "line": {
            "color": "#2a3f5f"
           }
          },
          "ternary": {
           "aaxis": {
            "gridcolor": "white",
            "linecolor": "white",
            "ticks": ""
           },
           "baxis": {
            "gridcolor": "white",
            "linecolor": "white",
            "ticks": ""
           },
           "bgcolor": "#E5ECF6",
           "caxis": {
            "gridcolor": "white",
            "linecolor": "white",
            "ticks": ""
           }
          },
          "title": {
           "x": 0.05
          },
          "xaxis": {
           "automargin": true,
           "gridcolor": "white",
           "linecolor": "white",
           "ticks": "",
           "title": {
            "standoff": 15
           },
           "zerolinecolor": "white",
           "zerolinewidth": 2
          },
          "yaxis": {
           "automargin": true,
           "gridcolor": "white",
           "linecolor": "white",
           "ticks": "",
           "title": {
            "standoff": 15
           },
           "zerolinecolor": "white",
           "zerolinewidth": 2
          }
         }
        },
        "title": {
         "text": "OHLC Chart for MANA with time interval daily"
        },
        "xaxis": {
         "rangeslider": {
          "visible": false
         }
        }
       }
      }
     },
     "metadata": {},
     "output_type": "display_data"
    }
   ],
   "source": [
    "df_history_enhanced = df_history_enhanced.sort_values(['date'], ascending=True) #oldest to newest for visualization\n",
    "granularity = 'daily'\n",
    "for currency in MY_CRYPTO_CURRENCIES:\n",
    "    df_history_for_chart = df_history_enhanced.query(f'granularity == \\'{granularity}\\' and currency == \\'{currency}\\'')\n",
    "    fig = go.Figure()\n",
    "    fig.add_trace(go.Candlestick(\n",
    "        x=df_history_for_chart['date'],\n",
    "        open=df_history_for_chart['open'],\n",
    "        high=df_history_for_chart['high'],\n",
    "        low=df_history_for_chart['low'],\n",
    "        close=df_history_for_chart['close'],\n",
    "        name='OHLC'))\n",
    "    cs = fig.data[0]\n",
    "    cs.increasing.fillcolor = CANDLE_INCREASE_COLOR\n",
    "    cs.increasing.line.color = CANDLE_INCREASE_COLOR\n",
    "    cs.decreasing.fillcolor = CANDLE_DECREASE_COLOR\n",
    "    cs.decreasing.line.color = CANDLE_DECREASE_COLOR\n",
    "    fig.update_layout(\n",
    "        xaxis_rangeslider_visible=False,\n",
    "        title=f'OHLC Chart for {currency} with time interval {granularity}',\n",
    "        template = PLOTLY_TEMPLATE,)\n",
    "    fig.show()"
   ]
  },
  {
   "cell_type": "markdown",
   "metadata": {},
   "source": [
    "### Advanced Visualization\n",
    "\n",
    "Now that we have drawn a basic OHLC chart, let's get a bit more fancy. We will now draw the chart again. But this time we will add the following information:\n",
    "- MACD line\n",
    "- MACD signal line\n",
    "- Colored area to show if we are currently in a bull market (green) or bear market (red) in each given period\n",
    "\n",
    "Before we do that, there is one more important step to take: we must construct the data needed to color different periods for the market trends (bull versus bear). Therefore, let's create another pandas dataframe df_history_market_trend_intervals."
   ]
  },
  {
   "cell_type": "code",
   "execution_count": 31,
   "metadata": {},
   "outputs": [],
   "source": [
    "market_trend_interval_rows = []\n",
    "for currency in MY_CRYPTO_CURRENCIES:\n",
    "    for granularity in GRANULARITIES:\n",
    "        df_history_market_trend_intervals = df_history_enhanced.query('currency == @currency and market_trend_continued == False and granularity == @granularity').copy()\n",
    "        #df_history_market_trend_intervals['previous_period_date'] = df_history_market_trend_intervals.date.shift()\n",
    "        df_history_market_trend_intervals['next_period_date'] = df_history_market_trend_intervals.date.shift(-1)\n",
    "        df_history_market_trend_intervals['next_period_date'] = df_history_market_trend_intervals['next_period_date']\n",
    "        df_history_market_trend_intervals.next_period_date = df_history_market_trend_intervals.next_period_date.fillna(datetime.now())\n",
    "        df_history_market_trend_intervals['color'] = df_history_market_trend_intervals['bull_bear'].apply(lambda x: GREEN_COLOR if x == 'Bull' else RED_COLOR)\n",
    "        df_history_market_trend_intervals = df_history_market_trend_intervals[['currency','granularity','bull_bear','color','date','next_period_date']].rename(columns={\"date\": \"start_date\", \"next_period_date\": \"finish_date\"})\n",
    "        market_trend_interval_rows.append(df_history_market_trend_intervals)\n",
    "df_history_market_trend_intervals = pd.concat(market_trend_interval_rows, ignore_index=True)"
   ]
  },
  {
   "cell_type": "code",
   "execution_count": 32,
   "metadata": {},
   "outputs": [
    {
     "data": {
      "application/vnd.plotly.v1+json": {
       "config": {
        "plotlyServerURL": "https://plot.ly"
       },
       "data": [
        {
         "close": [
          40345.49,
          41233.35,
          40303.53,
          36694.02,
          34740,
          37302.24,
          38238.89,
          36573.2,
          36467.24,
          36862.41,
          36081.41,
          35138.56,
          35812.93,
          37859.21,
          41489.21,
          41004.12,
          41498.14,
          42359.05,
          44375.38,
          47785.77,
          46458.97,
          46665.31,
          47468.29,
          47299.94,
          49750.01,
          48570.79,
          49445.26,
          49451.47,
          53049.3,
          52185.88,
          52914,
          53464.16,
          55230.27,
          56569.94,
          53502.11,
          52136.54,
          52722.17,
          52289.26,
          54341.57,
          52038.92,
          50425,
          51876.18,
          53834.36,
          53549.5,
          53075.12,
          52544.53,
          54630.8,
          54200,
          53221.3,
          52832.65,
          53310.69,
          54790.6,
          58293.11,
          57750,
          56526.31,
          56655.42,
          56052.21,
          56397.22,
          57310.88,
          56019.58,
          53138.71,
          53378.41,
          50090.22,
          51589.31,
          53055.6,
          52070.51,
          50101.46,
          51201.98,
          51032.23,
          52638.43,
          47649.26,
          48443.47,
          50823.22,
          51231.95,
          50309.77,
          50555.1,
          50026.55,
          47535.82,
          43604.66,
          43750.65,
          44776.64,
          44919.28,
          44523.48,
          42115.92,
          41719.28,
          43732.78,
          44304.18,
          41389.36,
          42955.02,
          42210.06
         ],
         "decreasing": {
          "line": {
           "color": "gray"
          }
         },
         "high": [
          40923.94,
          41650.96,
          41285.25,
          40390.51,
          37226.74,
          37500,
          38329.2,
          38489.05,
          36751.38,
          37491.3,
          37847.82,
          36601.77,
          36555.55,
          38100,
          41819.4,
          41658.38,
          42347.47,
          42600,
          44740.15,
          48137.6,
          47789.39,
          48490,
          47939.85,
          48800,
          50024.99,
          49886.96,
          49780.02,
          50439.02,
          54013.12,
          53616.89,
          53059.23,
          53980,
          55400,
          57499.99,
          57250,
          54775.51,
          53049.55,
          52890.49,
          54924.03,
          54534.27,
          53000,
          53476.79,
          54518.83,
          53936.5,
          53990.98,
          53999,
          55486.8,
          54879.97,
          54368.94,
          54253.61,
          53360.21,
          54794.87,
          58498,
          59114,
          59704.84,
          57293.47,
          57263.2,
          56916.99,
          57310.88,
          57995.14,
          56015.84,
          53841.8,
          53869.48,
          51713.04,
          53177.13,
          53285,
          52792.68,
          51478.38,
          51334.8,
          53035.84,
          52826.29,
          49033.88,
          50968.25,
          52281.64,
          52081.72,
          52149.51,
          50715.84,
          50978.31,
          47718.95,
          44071.64,
          45285.25,
          46250,
          45273.2,
          44824.43,
          44332.04,
          43834.94,
          44936.72,
          44403.76,
          43250,
          43301.99
         ],
         "increasing": {
          "line": {
           "color": "cyan"
          }
         },
         "low": [
          39883.75,
          40143.18,
          39984.44,
          36270.68,
          33768.45,
          34615.57,
          36878.82,
          34750,
          35614.83,
          34864.92,
          36023,
          35000,
          34905.05,
          35709,
          37404.41,
          40908.94,
          40556.13,
          40365.33,
          42185.67,
          43644.7,
          46118.86,
          46357.27,
          46390,
          46768.16,
          47063.17,
          46750,
          46972,
          48975.68,
          49020,
          51584.15,
          50711,
          51634.9,
          52580.63,
          54520,
          53350,
          51600,
          51266.52,
          51202.41,
          52094.52,
          51614.51,
          49972.48,
          49510,
          51522.86,
          52614.32,
          51978.71,
          51472.78,
          52313.71,
          52222,
          52600.01,
          52584.42,
          52133.72,
          53183.87,
          54778.96,
          57124.08,
          54974.76,
          55905.65,
          54483.31,
          55445.64,
          55694.1,
          55824.12,
          51500.45,
          51675.47,
          49718.6,
          49022,
          50985.88,
          52001.54,
          49567.78,
          49250,
          49909.76,
          50911.87,
          47419.55,
          47493.87,
          47120,
          50293.56,
          49403.49,
          49909.72,
          49285.23,
          45900,
          39505.01,
          42183.07,
          41806,
          44428.24,
          43172,
          41920,
          41480,
          41390,
          43077.09,
          40515.7,
          41020,
          42138.33
         ],
         "name": "OHLC",
         "open": [
          40583.01,
          40352.85,
          41227.83,
          40310,
          36694.02,
          34727.76,
          37293.91,
          38238.89,
          36576.05,
          36463.6,
          36831.39,
          36070.76,
          35119.71,
          35809.67,
          37870.63,
          41495.88,
          41000.65,
          41494.93,
          42352.27,
          44388.65,
          47785.82,
          46465.6,
          46649.16,
          47449.61,
          47272.24,
          49750.43,
          48562.47,
          49445.27,
          49451.14,
          53074.21,
          52173.89,
          52914.95,
          53451.39,
          55241.6,
          56569.92,
          53486.27,
          52134.1,
          52705.92,
          52278.65,
          54338.42,
          52035.75,
          50412.68,
          51874.32,
          53836.3,
          53551.42,
          53074.49,
          52552.83,
          54654.24,
          54201.3,
          53209.04,
          52816.7,
          53302.89,
          54778.96,
          58278.1,
          57760.9,
          56534.15,
          56630.88,
          56052.21,
          56391.39,
          57307.73,
          56009.97,
          53125.09,
          53371.9,
          50105.85,
          51589.7,
          53059.2,
          52074.51,
          50093.86,
          51212.05,
          51027.79,
          52653.5,
          47607.57,
          48433.73,
          50796.89,
          51222.63,
          50288.45,
          50566.76,
          50016.02,
          47489.96,
          43591.64,
          43760,
          44764.59,
          44907.26,
          44535.19,
          42121.7,
          41718.12,
          43739.03,
          44302.59,
          41408.06,
          42950
         ],
         "type": "ohlc",
         "x": [
          "2021-09-17T00:00:00",
          "2021-09-18T00:00:00",
          "2021-09-19T00:00:00",
          "2021-09-20T00:00:00",
          "2021-09-21T00:00:00",
          "2021-09-22T00:00:00",
          "2021-09-23T00:00:00",
          "2021-09-24T00:00:00",
          "2021-09-25T00:00:00",
          "2021-09-26T00:00:00",
          "2021-09-27T00:00:00",
          "2021-09-28T00:00:00",
          "2021-09-29T00:00:00",
          "2021-09-30T00:00:00",
          "2021-10-01T00:00:00",
          "2021-10-02T00:00:00",
          "2021-10-03T00:00:00",
          "2021-10-04T00:00:00",
          "2021-10-05T00:00:00",
          "2021-10-06T00:00:00",
          "2021-10-07T00:00:00",
          "2021-10-08T00:00:00",
          "2021-10-09T00:00:00",
          "2021-10-10T00:00:00",
          "2021-10-11T00:00:00",
          "2021-10-12T00:00:00",
          "2021-10-13T00:00:00",
          "2021-10-14T00:00:00",
          "2021-10-15T00:00:00",
          "2021-10-16T00:00:00",
          "2021-10-17T00:00:00",
          "2021-10-18T00:00:00",
          "2021-10-19T00:00:00",
          "2021-10-20T00:00:00",
          "2021-10-21T00:00:00",
          "2021-10-22T00:00:00",
          "2021-10-23T00:00:00",
          "2021-10-24T00:00:00",
          "2021-10-25T00:00:00",
          "2021-10-26T00:00:00",
          "2021-10-27T00:00:00",
          "2021-10-28T00:00:00",
          "2021-10-29T00:00:00",
          "2021-10-30T00:00:00",
          "2021-10-31T00:00:00",
          "2021-11-01T00:00:00",
          "2021-11-02T00:00:00",
          "2021-11-03T00:00:00",
          "2021-11-04T00:00:00",
          "2021-11-05T00:00:00",
          "2021-11-06T00:00:00",
          "2021-11-07T00:00:00",
          "2021-11-08T00:00:00",
          "2021-11-09T00:00:00",
          "2021-11-10T00:00:00",
          "2021-11-11T00:00:00",
          "2021-11-12T00:00:00",
          "2021-11-13T00:00:00",
          "2021-11-14T00:00:00",
          "2021-11-15T00:00:00",
          "2021-11-16T00:00:00",
          "2021-11-17T00:00:00",
          "2021-11-18T00:00:00",
          "2021-11-19T00:00:00",
          "2021-11-20T00:00:00",
          "2021-11-21T00:00:00",
          "2021-11-22T00:00:00",
          "2021-11-23T00:00:00",
          "2021-11-24T00:00:00",
          "2021-11-25T00:00:00",
          "2021-11-26T00:00:00",
          "2021-11-27T00:00:00",
          "2021-11-28T00:00:00",
          "2021-11-29T00:00:00",
          "2021-11-30T00:00:00",
          "2021-12-01T00:00:00",
          "2021-12-02T00:00:00",
          "2021-12-03T00:00:00",
          "2021-12-04T00:00:00",
          "2021-12-05T00:00:00",
          "2021-12-06T00:00:00",
          "2021-12-07T00:00:00",
          "2021-12-08T00:00:00",
          "2021-12-09T00:00:00",
          "2021-12-10T00:00:00",
          "2021-12-11T00:00:00",
          "2021-12-12T00:00:00",
          "2021-12-13T00:00:00",
          "2021-12-14T00:00:00",
          "2021-12-15T00:00:00"
         ],
         "xaxis": "x",
         "yaxis": "y2"
        },
        {
         "line": {
          "color": "#A9B1F5"
         },
         "mode": "lines",
         "name": "MACD",
         "type": "scatter",
         "x": [
          "2021-09-17T00:00:00",
          "2021-09-18T00:00:00",
          "2021-09-19T00:00:00",
          "2021-09-20T00:00:00",
          "2021-09-21T00:00:00",
          "2021-09-22T00:00:00",
          "2021-09-23T00:00:00",
          "2021-09-24T00:00:00",
          "2021-09-25T00:00:00",
          "2021-09-26T00:00:00",
          "2021-09-27T00:00:00",
          "2021-09-28T00:00:00",
          "2021-09-29T00:00:00",
          "2021-09-30T00:00:00",
          "2021-10-01T00:00:00",
          "2021-10-02T00:00:00",
          "2021-10-03T00:00:00",
          "2021-10-04T00:00:00",
          "2021-10-05T00:00:00",
          "2021-10-06T00:00:00",
          "2021-10-07T00:00:00",
          "2021-10-08T00:00:00",
          "2021-10-09T00:00:00",
          "2021-10-10T00:00:00",
          "2021-10-11T00:00:00",
          "2021-10-12T00:00:00",
          "2021-10-13T00:00:00",
          "2021-10-14T00:00:00",
          "2021-10-15T00:00:00",
          "2021-10-16T00:00:00",
          "2021-10-17T00:00:00",
          "2021-10-18T00:00:00",
          "2021-10-19T00:00:00",
          "2021-10-20T00:00:00",
          "2021-10-21T00:00:00",
          "2021-10-22T00:00:00",
          "2021-10-23T00:00:00",
          "2021-10-24T00:00:00",
          "2021-10-25T00:00:00",
          "2021-10-26T00:00:00",
          "2021-10-27T00:00:00",
          "2021-10-28T00:00:00",
          "2021-10-29T00:00:00",
          "2021-10-30T00:00:00",
          "2021-10-31T00:00:00",
          "2021-11-01T00:00:00",
          "2021-11-02T00:00:00",
          "2021-11-03T00:00:00",
          "2021-11-04T00:00:00",
          "2021-11-05T00:00:00",
          "2021-11-06T00:00:00",
          "2021-11-07T00:00:00",
          "2021-11-08T00:00:00",
          "2021-11-09T00:00:00",
          "2021-11-10T00:00:00",
          "2021-11-11T00:00:00",
          "2021-11-12T00:00:00",
          "2021-11-13T00:00:00",
          "2021-11-14T00:00:00",
          "2021-11-15T00:00:00",
          "2021-11-16T00:00:00",
          "2021-11-17T00:00:00",
          "2021-11-18T00:00:00",
          "2021-11-19T00:00:00",
          "2021-11-20T00:00:00",
          "2021-11-21T00:00:00",
          "2021-11-22T00:00:00",
          "2021-11-23T00:00:00",
          "2021-11-24T00:00:00",
          "2021-11-25T00:00:00",
          "2021-11-26T00:00:00",
          "2021-11-27T00:00:00",
          "2021-11-28T00:00:00",
          "2021-11-29T00:00:00",
          "2021-11-30T00:00:00",
          "2021-12-01T00:00:00",
          "2021-12-02T00:00:00",
          "2021-12-03T00:00:00",
          "2021-12-04T00:00:00",
          "2021-12-05T00:00:00",
          "2021-12-06T00:00:00",
          "2021-12-07T00:00:00",
          "2021-12-08T00:00:00",
          "2021-12-09T00:00:00",
          "2021-12-10T00:00:00",
          "2021-12-11T00:00:00",
          "2021-12-12T00:00:00",
          "2021-12-13T00:00:00",
          "2021-12-14T00:00:00",
          "2021-12-15T00:00:00"
         ],
         "xaxis": "x",
         "y": [
          0,
          70.8264387464369,
          51.33642421733384,
          -252.45668031933747,
          -643.4704610210756,
          -738.0920788241856,
          -729.0960007061221,
          -846.6145605770798,
          -937.492126737212,
          -966.4852953613881,
          -1040.4886577266443,
          -1161.8241848478356,
          -1189.8515729359715,
          -1035.0147792963544,
          -612.3362112961258,
          -312.896236808243,
          -35.31749626294186,
          251.2377847484895,
          633.73063699677,
          1198.2364256585715,
          1521.0163293034711,
          1773.0332187198,
          2014.332226453742,
          2166.999172952368,
          2457.362060688305,
          2562.7813936929524,
          2685.927692842546,
          2752.296358069798,
          3059.9357811615846,
          3197.2159470464685,
          3326.419769924403,
          3433.627326083202,
          3619.378461807806,
          3830.531762312181,
          3707.5852967550672,
          3460.0736750592623,
          3273.4401973766944,
          3055.3790943789354,
          3013.431402920527,
          2762.5381243941956,
          2405.7416454987106,
          2214.5480321703362,
          2195.7235427287887,
          2133.2286459557436,
          2022.1128305813472,
          1869.6859914067536,
          1895.3823881627613,
          1859.549281482563,
          1732.2105308757746,
          1581.6999937237197,
          1483.887806567851,
          1508.3994228238807,
          1789.8164506846006,
          1946.5780941574194,
          1949.597523155695,
          1940.0449102836283,
          1862.3325792837568,
          1807.7458518133935,
          1817.2619388173698,
          1700.9983381644415,
          1360.7110346538611,
          1097.7188619928274,
          616.8554918225855,
          352.66652098466875,
          258.6308712286482,
          103.42617844283814,
          -176.4267994200418,
          -305.8834994616773,
          -417.36514764857566,
          -371.822106796164,
          -729.899415452579,
          -938.7705898648419,
          -901.8802497050492,
          -830.0944817769487,
          -837.9565213571987,
          -814.9963925798147,
          -829.8835122832243,
          -1030.7805603439265,
          -1490.0285545755978,
          -1821.211928351695,
          -1978.0861735796643,
          -2067.072363731728,
          -2144.808297739968,
          -2373.3263281140607,
          -2556.959014838896,
          -2511.0705612490783,
          -2400.9201140063524,
          -2519.7802466337744,
          -2459.292883346039,
          -2443.3033778260724
         ],
         "yaxis": "y"
        },
        {
         "line": {
          "color": "#FFD1A3"
         },
         "mode": "lines",
         "name": "MACD Signal",
         "type": "scatter",
         "x": [
          "2021-09-17T00:00:00",
          "2021-09-18T00:00:00",
          "2021-09-19T00:00:00",
          "2021-09-20T00:00:00",
          "2021-09-21T00:00:00",
          "2021-09-22T00:00:00",
          "2021-09-23T00:00:00",
          "2021-09-24T00:00:00",
          "2021-09-25T00:00:00",
          "2021-09-26T00:00:00",
          "2021-09-27T00:00:00",
          "2021-09-28T00:00:00",
          "2021-09-29T00:00:00",
          "2021-09-30T00:00:00",
          "2021-10-01T00:00:00",
          "2021-10-02T00:00:00",
          "2021-10-03T00:00:00",
          "2021-10-04T00:00:00",
          "2021-10-05T00:00:00",
          "2021-10-06T00:00:00",
          "2021-10-07T00:00:00",
          "2021-10-08T00:00:00",
          "2021-10-09T00:00:00",
          "2021-10-10T00:00:00",
          "2021-10-11T00:00:00",
          "2021-10-12T00:00:00",
          "2021-10-13T00:00:00",
          "2021-10-14T00:00:00",
          "2021-10-15T00:00:00",
          "2021-10-16T00:00:00",
          "2021-10-17T00:00:00",
          "2021-10-18T00:00:00",
          "2021-10-19T00:00:00",
          "2021-10-20T00:00:00",
          "2021-10-21T00:00:00",
          "2021-10-22T00:00:00",
          "2021-10-23T00:00:00",
          "2021-10-24T00:00:00",
          "2021-10-25T00:00:00",
          "2021-10-26T00:00:00",
          "2021-10-27T00:00:00",
          "2021-10-28T00:00:00",
          "2021-10-29T00:00:00",
          "2021-10-30T00:00:00",
          "2021-10-31T00:00:00",
          "2021-11-01T00:00:00",
          "2021-11-02T00:00:00",
          "2021-11-03T00:00:00",
          "2021-11-04T00:00:00",
          "2021-11-05T00:00:00",
          "2021-11-06T00:00:00",
          "2021-11-07T00:00:00",
          "2021-11-08T00:00:00",
          "2021-11-09T00:00:00",
          "2021-11-10T00:00:00",
          "2021-11-11T00:00:00",
          "2021-11-12T00:00:00",
          "2021-11-13T00:00:00",
          "2021-11-14T00:00:00",
          "2021-11-15T00:00:00",
          "2021-11-16T00:00:00",
          "2021-11-17T00:00:00",
          "2021-11-18T00:00:00",
          "2021-11-19T00:00:00",
          "2021-11-20T00:00:00",
          "2021-11-21T00:00:00",
          "2021-11-22T00:00:00",
          "2021-11-23T00:00:00",
          "2021-11-24T00:00:00",
          "2021-11-25T00:00:00",
          "2021-11-26T00:00:00",
          "2021-11-27T00:00:00",
          "2021-11-28T00:00:00",
          "2021-11-29T00:00:00",
          "2021-11-30T00:00:00",
          "2021-12-01T00:00:00",
          "2021-12-02T00:00:00",
          "2021-12-03T00:00:00",
          "2021-12-04T00:00:00",
          "2021-12-05T00:00:00",
          "2021-12-06T00:00:00",
          "2021-12-07T00:00:00",
          "2021-12-08T00:00:00",
          "2021-12-09T00:00:00",
          "2021-12-10T00:00:00",
          "2021-12-11T00:00:00",
          "2021-12-12T00:00:00",
          "2021-12-13T00:00:00",
          "2021-12-14T00:00:00",
          "2021-12-15T00:00:00"
         ],
         "xaxis": "x",
         "y": [
          0,
          14.165287749287382,
          21.599515042896677,
          -33.211724029550155,
          -155.26347142785528,
          -271.82919290712135,
          -363.2825544669215,
          -459.9489556889532,
          -555.457589898605,
          -637.6631309911617,
          -718.2282363382583,
          -806.9474260401738,
          -883.5282554193334,
          -913.8255601947376,
          -853.5276904150153,
          -745.4013996936609,
          -603.3846190075171,
          -432.4601382563158,
          -219.22198320569868,
          64.26969856715536,
          355.6190247144185,
          639.1018635154949,
          914.1479361031443,
          1164.718183472989,
          1423.2469589160523,
          1651.1538458714326,
          1858.1086152656553,
          2036.9461638264838,
          2241.544087293504,
          2432.678459244097,
          2611.4267213801586,
          2775.8668423207673,
          2944.5691662181753,
          3121.761685436976,
          3238.9264077005946,
          3283.1558611723285,
          3281.212728413202,
          3236.046001606349,
          3191.523081869185,
          3105.726090374187,
          2965.729201399092,
          2815.492967553341,
          2691.5390825884306,
          2579.876995261893,
          2468.324162325784,
          2348.596528141978,
          2257.953700146135,
          2178.2728164134205,
          2089.0603593058913,
          1987.5882861894572,
          1886.848190265136,
          1811.158436776885,
          1806.8900395584283,
          1834.8276504782266,
          1857.7816250137205,
          1874.2342820677022,
          1871.8539415109133,
          1859.0323235714095,
          1850.6782466206016,
          1820.7422649293696,
          1728.7360188742682,
          1602.5325874979803,
          1405.3971683629015,
          1194.851038887255,
          1007.6070053555338,
          826.7708399729947,
          626.1313120943875,
          439.7283497831745,
          268.3096502968245,
          140.2832988782268,
          -33.75324398793438,
          -214.7567131633159,
          -352.1814204716626,
          -447.76403273271984,
          -525.8025304576156,
          -583.6413028820555,
          -632.8897447622893,
          -712.4679078786168,
          -867.980037218013,
          -1058.6264154447495,
          -1242.5183670717324,
          -1407.4291664037316,
          -1554.904992670979,
          -1718.5892597595953,
          -1886.2632107754557,
          -2011.2246808701802,
          -2089.163767497415,
          -2175.287063324687,
          -2232.0882273289576,
          -2274.331257428381
         ],
         "yaxis": "y"
        }
       ],
       "layout": {
        "hovermode": "x unified",
        "legend": {
         "x": 0.94,
         "xanchor": "right",
         "y": 0.99,
         "yanchor": "top"
        },
        "margin": {
         "b": 100,
         "l": 50,
         "pad": 4,
         "r": 50,
         "t": 100
        },
        "shapes": [
         {
          "line": {
           "color": "#3FFA68",
           "width": 1
          },
          "opacity": 1,
          "type": "rect",
          "x0": "2021-09-17T00:00:00",
          "x1": "2021-09-20T00:00:00",
          "xref": "x",
          "y0": 0,
          "y1": 1,
          "yref": "y domain"
         },
         {
          "line": {
           "color": "#D61170",
           "width": 1
          },
          "opacity": 1,
          "type": "rect",
          "x0": "2021-09-20T00:00:00",
          "x1": "2021-10-01T00:00:00",
          "xref": "x",
          "y0": 0,
          "y1": 1,
          "yref": "y domain"
         },
         {
          "line": {
           "color": "#3FFA68",
           "width": 1
          },
          "opacity": 1,
          "type": "rect",
          "x0": "2021-10-01T00:00:00",
          "x1": "2021-10-23T00:00:00",
          "xref": "x",
          "y0": 0,
          "y1": 1,
          "yref": "y domain"
         },
         {
          "line": {
           "color": "#D61170",
           "width": 1
          },
          "opacity": 1,
          "type": "rect",
          "x0": "2021-10-23T00:00:00",
          "x1": "2021-11-09T00:00:00",
          "xref": "x",
          "y0": 0,
          "y1": 1,
          "yref": "y domain"
         },
         {
          "line": {
           "color": "#3FFA68",
           "width": 1
          },
          "opacity": 1,
          "type": "rect",
          "x0": "2021-11-09T00:00:00",
          "x1": "2021-11-12T00:00:00",
          "xref": "x",
          "y0": 0,
          "y1": 1,
          "yref": "y domain"
         },
         {
          "line": {
           "color": "#D61170",
           "width": 1
          },
          "opacity": 1,
          "type": "rect",
          "x0": "2021-11-12T00:00:00",
          "x1": "2021-12-15T15:34:01.453834",
          "xref": "x",
          "y0": 0,
          "y1": 1,
          "yref": "y domain"
         }
        ],
        "template": {
         "data": {
          "bar": [
           {
            "error_x": {
             "color": "#2a3f5f"
            },
            "error_y": {
             "color": "#2a3f5f"
            },
            "marker": {
             "line": {
              "color": "#E5ECF6",
              "width": 0.5
             }
            },
            "type": "bar"
           }
          ],
          "barpolar": [
           {
            "marker": {
             "line": {
              "color": "#E5ECF6",
              "width": 0.5
             }
            },
            "type": "barpolar"
           }
          ],
          "carpet": [
           {
            "aaxis": {
             "endlinecolor": "#2a3f5f",
             "gridcolor": "white",
             "linecolor": "white",
             "minorgridcolor": "white",
             "startlinecolor": "#2a3f5f"
            },
            "baxis": {
             "endlinecolor": "#2a3f5f",
             "gridcolor": "white",
             "linecolor": "white",
             "minorgridcolor": "white",
             "startlinecolor": "#2a3f5f"
            },
            "type": "carpet"
           }
          ],
          "choropleth": [
           {
            "colorbar": {
             "outlinewidth": 0,
             "ticks": ""
            },
            "type": "choropleth"
           }
          ],
          "contour": [
           {
            "colorbar": {
             "outlinewidth": 0,
             "ticks": ""
            },
            "colorscale": [
             [
              0,
              "#0d0887"
             ],
             [
              0.1111111111111111,
              "#46039f"
             ],
             [
              0.2222222222222222,
              "#7201a8"
             ],
             [
              0.3333333333333333,
              "#9c179e"
             ],
             [
              0.4444444444444444,
              "#bd3786"
             ],
             [
              0.5555555555555556,
              "#d8576b"
             ],
             [
              0.6666666666666666,
              "#ed7953"
             ],
             [
              0.7777777777777778,
              "#fb9f3a"
             ],
             [
              0.8888888888888888,
              "#fdca26"
             ],
             [
              1,
              "#f0f921"
             ]
            ],
            "type": "contour"
           }
          ],
          "contourcarpet": [
           {
            "colorbar": {
             "outlinewidth": 0,
             "ticks": ""
            },
            "type": "contourcarpet"
           }
          ],
          "heatmap": [
           {
            "colorbar": {
             "outlinewidth": 0,
             "ticks": ""
            },
            "colorscale": [
             [
              0,
              "#0d0887"
             ],
             [
              0.1111111111111111,
              "#46039f"
             ],
             [
              0.2222222222222222,
              "#7201a8"
             ],
             [
              0.3333333333333333,
              "#9c179e"
             ],
             [
              0.4444444444444444,
              "#bd3786"
             ],
             [
              0.5555555555555556,
              "#d8576b"
             ],
             [
              0.6666666666666666,
              "#ed7953"
             ],
             [
              0.7777777777777778,
              "#fb9f3a"
             ],
             [
              0.8888888888888888,
              "#fdca26"
             ],
             [
              1,
              "#f0f921"
             ]
            ],
            "type": "heatmap"
           }
          ],
          "heatmapgl": [
           {
            "colorbar": {
             "outlinewidth": 0,
             "ticks": ""
            },
            "colorscale": [
             [
              0,
              "#0d0887"
             ],
             [
              0.1111111111111111,
              "#46039f"
             ],
             [
              0.2222222222222222,
              "#7201a8"
             ],
             [
              0.3333333333333333,
              "#9c179e"
             ],
             [
              0.4444444444444444,
              "#bd3786"
             ],
             [
              0.5555555555555556,
              "#d8576b"
             ],
             [
              0.6666666666666666,
              "#ed7953"
             ],
             [
              0.7777777777777778,
              "#fb9f3a"
             ],
             [
              0.8888888888888888,
              "#fdca26"
             ],
             [
              1,
              "#f0f921"
             ]
            ],
            "type": "heatmapgl"
           }
          ],
          "histogram": [
           {
            "marker": {
             "colorbar": {
              "outlinewidth": 0,
              "ticks": ""
             }
            },
            "type": "histogram"
           }
          ],
          "histogram2d": [
           {
            "colorbar": {
             "outlinewidth": 0,
             "ticks": ""
            },
            "colorscale": [
             [
              0,
              "#0d0887"
             ],
             [
              0.1111111111111111,
              "#46039f"
             ],
             [
              0.2222222222222222,
              "#7201a8"
             ],
             [
              0.3333333333333333,
              "#9c179e"
             ],
             [
              0.4444444444444444,
              "#bd3786"
             ],
             [
              0.5555555555555556,
              "#d8576b"
             ],
             [
              0.6666666666666666,
              "#ed7953"
             ],
             [
              0.7777777777777778,
              "#fb9f3a"
             ],
             [
              0.8888888888888888,
              "#fdca26"
             ],
             [
              1,
              "#f0f921"
             ]
            ],
            "type": "histogram2d"
           }
          ],
          "histogram2dcontour": [
           {
            "colorbar": {
             "outlinewidth": 0,
             "ticks": ""
            },
            "colorscale": [
             [
              0,
              "#0d0887"
             ],
             [
              0.1111111111111111,
              "#46039f"
             ],
             [
              0.2222222222222222,
              "#7201a8"
             ],
             [
              0.3333333333333333,
              "#9c179e"
             ],
             [
              0.4444444444444444,
              "#bd3786"
             ],
             [
              0.5555555555555556,
              "#d8576b"
             ],
             [
              0.6666666666666666,
              "#ed7953"
             ],
             [
              0.7777777777777778,
              "#fb9f3a"
             ],
             [
              0.8888888888888888,
              "#fdca26"
             ],
             [
              1,
              "#f0f921"
             ]
            ],
            "type": "histogram2dcontour"
           }
          ],
          "mesh3d": [
           {
            "colorbar": {
             "outlinewidth": 0,
             "ticks": ""
            },
            "type": "mesh3d"
           }
          ],
          "parcoords": [
           {
            "line": {
             "colorbar": {
              "outlinewidth": 0,
              "ticks": ""
             }
            },
            "type": "parcoords"
           }
          ],
          "pie": [
           {
            "automargin": true,
            "type": "pie"
           }
          ],
          "scatter": [
           {
            "marker": {
             "colorbar": {
              "outlinewidth": 0,
              "ticks": ""
             }
            },
            "type": "scatter"
           }
          ],
          "scatter3d": [
           {
            "line": {
             "colorbar": {
              "outlinewidth": 0,
              "ticks": ""
             }
            },
            "marker": {
             "colorbar": {
              "outlinewidth": 0,
              "ticks": ""
             }
            },
            "type": "scatter3d"
           }
          ],
          "scattercarpet": [
           {
            "marker": {
             "colorbar": {
              "outlinewidth": 0,
              "ticks": ""
             }
            },
            "type": "scattercarpet"
           }
          ],
          "scattergeo": [
           {
            "marker": {
             "colorbar": {
              "outlinewidth": 0,
              "ticks": ""
             }
            },
            "type": "scattergeo"
           }
          ],
          "scattergl": [
           {
            "marker": {
             "colorbar": {
              "outlinewidth": 0,
              "ticks": ""
             }
            },
            "type": "scattergl"
           }
          ],
          "scattermapbox": [
           {
            "marker": {
             "colorbar": {
              "outlinewidth": 0,
              "ticks": ""
             }
            },
            "type": "scattermapbox"
           }
          ],
          "scatterpolar": [
           {
            "marker": {
             "colorbar": {
              "outlinewidth": 0,
              "ticks": ""
             }
            },
            "type": "scatterpolar"
           }
          ],
          "scatterpolargl": [
           {
            "marker": {
             "colorbar": {
              "outlinewidth": 0,
              "ticks": ""
             }
            },
            "type": "scatterpolargl"
           }
          ],
          "scatterternary": [
           {
            "marker": {
             "colorbar": {
              "outlinewidth": 0,
              "ticks": ""
             }
            },
            "type": "scatterternary"
           }
          ],
          "surface": [
           {
            "colorbar": {
             "outlinewidth": 0,
             "ticks": ""
            },
            "colorscale": [
             [
              0,
              "#0d0887"
             ],
             [
              0.1111111111111111,
              "#46039f"
             ],
             [
              0.2222222222222222,
              "#7201a8"
             ],
             [
              0.3333333333333333,
              "#9c179e"
             ],
             [
              0.4444444444444444,
              "#bd3786"
             ],
             [
              0.5555555555555556,
              "#d8576b"
             ],
             [
              0.6666666666666666,
              "#ed7953"
             ],
             [
              0.7777777777777778,
              "#fb9f3a"
             ],
             [
              0.8888888888888888,
              "#fdca26"
             ],
             [
              1,
              "#f0f921"
             ]
            ],
            "type": "surface"
           }
          ],
          "table": [
           {
            "cells": {
             "fill": {
              "color": "#EBF0F8"
             },
             "line": {
              "color": "white"
             }
            },
            "header": {
             "fill": {
              "color": "#C8D4E3"
             },
             "line": {
              "color": "white"
             }
            },
            "type": "table"
           }
          ]
         },
         "layout": {
          "annotationdefaults": {
           "arrowcolor": "#2a3f5f",
           "arrowhead": 0,
           "arrowwidth": 1
          },
          "autotypenumbers": "strict",
          "coloraxis": {
           "colorbar": {
            "outlinewidth": 0,
            "ticks": ""
           }
          },
          "colorscale": {
           "diverging": [
            [
             0,
             "#8e0152"
            ],
            [
             0.1,
             "#c51b7d"
            ],
            [
             0.2,
             "#de77ae"
            ],
            [
             0.3,
             "#f1b6da"
            ],
            [
             0.4,
             "#fde0ef"
            ],
            [
             0.5,
             "#f7f7f7"
            ],
            [
             0.6,
             "#e6f5d0"
            ],
            [
             0.7,
             "#b8e186"
            ],
            [
             0.8,
             "#7fbc41"
            ],
            [
             0.9,
             "#4d9221"
            ],
            [
             1,
             "#276419"
            ]
           ],
           "sequential": [
            [
             0,
             "#0d0887"
            ],
            [
             0.1111111111111111,
             "#46039f"
            ],
            [
             0.2222222222222222,
             "#7201a8"
            ],
            [
             0.3333333333333333,
             "#9c179e"
            ],
            [
             0.4444444444444444,
             "#bd3786"
            ],
            [
             0.5555555555555556,
             "#d8576b"
            ],
            [
             0.6666666666666666,
             "#ed7953"
            ],
            [
             0.7777777777777778,
             "#fb9f3a"
            ],
            [
             0.8888888888888888,
             "#fdca26"
            ],
            [
             1,
             "#f0f921"
            ]
           ],
           "sequentialminus": [
            [
             0,
             "#0d0887"
            ],
            [
             0.1111111111111111,
             "#46039f"
            ],
            [
             0.2222222222222222,
             "#7201a8"
            ],
            [
             0.3333333333333333,
             "#9c179e"
            ],
            [
             0.4444444444444444,
             "#bd3786"
            ],
            [
             0.5555555555555556,
             "#d8576b"
            ],
            [
             0.6666666666666666,
             "#ed7953"
            ],
            [
             0.7777777777777778,
             "#fb9f3a"
            ],
            [
             0.8888888888888888,
             "#fdca26"
            ],
            [
             1,
             "#f0f921"
            ]
           ]
          },
          "colorway": [
           "#636efa",
           "#EF553B",
           "#00cc96",
           "#ab63fa",
           "#FFA15A",
           "#19d3f3",
           "#FF6692",
           "#B6E880",
           "#FF97FF",
           "#FECB52"
          ],
          "font": {
           "color": "#2a3f5f"
          },
          "geo": {
           "bgcolor": "white",
           "lakecolor": "white",
           "landcolor": "#E5ECF6",
           "showlakes": true,
           "showland": true,
           "subunitcolor": "white"
          },
          "hoverlabel": {
           "align": "left"
          },
          "hovermode": "closest",
          "mapbox": {
           "style": "light"
          },
          "paper_bgcolor": "white",
          "plot_bgcolor": "#E5ECF6",
          "polar": {
           "angularaxis": {
            "gridcolor": "white",
            "linecolor": "white",
            "ticks": ""
           },
           "bgcolor": "#E5ECF6",
           "radialaxis": {
            "gridcolor": "white",
            "linecolor": "white",
            "ticks": ""
           }
          },
          "scene": {
           "xaxis": {
            "backgroundcolor": "#E5ECF6",
            "gridcolor": "white",
            "gridwidth": 2,
            "linecolor": "white",
            "showbackground": true,
            "ticks": "",
            "zerolinecolor": "white"
           },
           "yaxis": {
            "backgroundcolor": "#E5ECF6",
            "gridcolor": "white",
            "gridwidth": 2,
            "linecolor": "white",
            "showbackground": true,
            "ticks": "",
            "zerolinecolor": "white"
           },
           "zaxis": {
            "backgroundcolor": "#E5ECF6",
            "gridcolor": "white",
            "gridwidth": 2,
            "linecolor": "white",
            "showbackground": true,
            "ticks": "",
            "zerolinecolor": "white"
           }
          },
          "shapedefaults": {
           "line": {
            "color": "#2a3f5f"
           }
          },
          "ternary": {
           "aaxis": {
            "gridcolor": "white",
            "linecolor": "white",
            "ticks": ""
           },
           "baxis": {
            "gridcolor": "white",
            "linecolor": "white",
            "ticks": ""
           },
           "bgcolor": "#E5ECF6",
           "caxis": {
            "gridcolor": "white",
            "linecolor": "white",
            "ticks": ""
           }
          },
          "title": {
           "x": 0.05
          },
          "xaxis": {
           "automargin": true,
           "gridcolor": "white",
           "linecolor": "white",
           "ticks": "",
           "title": {
            "standoff": 15
           },
           "zerolinecolor": "white",
           "zerolinewidth": 2
          },
          "yaxis": {
           "automargin": true,
           "gridcolor": "white",
           "linecolor": "white",
           "ticks": "",
           "title": {
            "standoff": 15
           },
           "zerolinecolor": "white",
           "zerolinewidth": 2
          }
         }
        },
        "title": {
         "text": "OHLC Chart for BTC with time interval daily"
        },
        "xaxis": {
         "anchor": "y",
         "domain": [
          0,
          0.94
         ],
         "rangeselector": {
          "buttons": [
           {
            "count": 1,
            "label": "1m",
            "step": "month",
            "stepmode": "backward"
           },
           {
            "count": 6,
            "label": "6m",
            "step": "month",
            "stepmode": "backward"
           },
           {
            "count": 1,
            "label": "YTD",
            "step": "year",
            "stepmode": "todate"
           },
           {
            "count": 1,
            "label": "1y",
            "step": "year",
            "stepmode": "backward"
           },
           {
            "step": "all"
           }
          ]
         },
         "rangeslider": {
          "visible": true
         },
         "tickformat": "%d %b (%a)",
         "type": "date"
        },
        "yaxis": {
         "anchor": "x",
         "domain": [
          0,
          1
         ],
         "range": [
          -2556.959014838896,
          3830.531762312181
         ],
         "showgrid": false,
         "showticklabels": false,
         "zeroline": false
        },
        "yaxis2": {
         "anchor": "x",
         "overlaying": "y",
         "side": "right"
        }
       }
      }
     },
     "metadata": {},
     "output_type": "display_data"
    },
    {
     "data": {
      "application/vnd.plotly.v1+json": {
       "config": {
        "plotlyServerURL": "https://plot.ly"
       },
       "data": [
        {
         "close": [
          2899.48,
          2931.28,
          2839.84,
          2539.52,
          2359.62,
          2635.37,
          2687.24,
          2502.58,
          2496.98,
          2612.32,
          2504.4,
          2402.26,
          2457.02,
          2592.44,
          2851.63,
          2915.71,
          2941.75,
          2913.24,
          3031.03,
          3087.62,
          3099.32,
          3077.23,
          3086.78,
          2955.23,
          3065.46,
          3027.87,
          3109.74,
          3269,
          3327.9,
          3283.04,
          3308.24,
          3226.9,
          3331.45,
          3567.61,
          3486.74,
          3412.06,
          3585.01,
          3508.04,
          3636.57,
          3562.33,
          3384.07,
          3670.59,
          3821.69,
          3742.51,
          3711.78,
          3725.72,
          3968.08,
          3965.67,
          3930.29,
          3879.12,
          3917.34,
          3994.57,
          4150.81,
          4083.42,
          4034.91,
          4127.21,
          4079.8,
          4067.64,
          4048.29,
          4019.25,
          3720.29,
          3792.21,
          3519.12,
          3817.17,
          3921.04,
          3784.98,
          3638.69,
          3861.35,
          3812.79,
          4040.33,
          3581.02,
          3625.27,
          3810.67,
          3939.99,
          4089.36,
          4053.03,
          3994.38,
          3735.89,
          3652.14,
          3716.76,
          3857.63,
          3823.9,
          3914.6,
          3637.26,
          3452.64,
          3620.92,
          3655.69,
          3353.55,
          3429.14,
          3368.67
         ],
         "decreasing": {
          "line": {
           "color": "gray"
          }
         },
         "high": [
          3055.81,
          3022.4,
          2952,
          2854.99,
          2650.17,
          2636.29,
          2704.58,
          2691.01,
          2538,
          2659.88,
          2700.61,
          2542.16,
          2532.27,
          2632.61,
          2872.48,
          2985.48,
          3002.33,
          2958.1,
          3056.78,
          3145,
          3158.43,
          3175,
          3140,
          3110.29,
          3130,
          3076.01,
          3114.4,
          3298,
          3356.49,
          3407.97,
          3356.86,
          3346.95,
          3340.4,
          3573.14,
          3755.95,
          3582.87,
          3587.3,
          3599.29,
          3650.7,
          3703,
          3711.54,
          3678,
          3866.54,
          3834.15,
          3802.48,
          3789,
          3976.25,
          4025,
          3971.78,
          3962,
          3930.76,
          4013.97,
          4163.39,
          4170,
          4221.1,
          4177.32,
          4205.62,
          4119.13,
          4110.12,
          4168.18,
          4018.75,
          3802.27,
          3837.05,
          3827.34,
          3941.7,
          3933.94,
          3836,
          3900,
          3866.79,
          4064.75,
          4064.44,
          3711.6,
          3813.76,
          3963.6,
          4180.74,
          4224.19,
          4091.82,
          4120.49,
          3756.2,
          3766.94,
          3882,
          3937.71,
          3937.97,
          3959.07,
          3746.91,
          3628.86,
          3692.94,
          3665.47,
          3451.09,
          3463.11
         ],
         "increasing": {
          "line": {
           "color": "cyan"
          }
         },
         "low": [
          2858.44,
          2875.02,
          2800.03,
          2490.48,
          2260.06,
          2335.91,
          2594.16,
          2330,
          2389.57,
          2342.91,
          2501,
          2385.17,
          2389.14,
          2446.96,
          2564.87,
          2807.62,
          2876.93,
          2815.06,
          2895.01,
          2893.97,
          2997,
          3053.71,
          3059.06,
          2946.86,
          2916.48,
          2951,
          2953,
          3093.4,
          3210,
          3260.28,
          3133.44,
          3170,
          3213.03,
          3285,
          3431.74,
          3344.44,
          3386.26,
          3406.99,
          3494.52,
          3529.19,
          3377.18,
          3359.03,
          3653.72,
          3670,
          3610.51,
          3594,
          3697.27,
          3850.68,
          3834.02,
          3847,
          3757.06,
          3905.09,
          3993.81,
          4065.54,
          3900,
          3988.71,
          3943.35,
          4011.25,
          3951,
          3997.63,
          3606.01,
          3598.39,
          3482.72,
          3499.35,
          3734.71,
          3769,
          3586,
          3611.07,
          3723,
          3793.53,
          3472.71,
          3569.15,
          3503,
          3795.51,
          3844.75,
          4000,
          3926.78,
          3570.17,
          3203.9,
          3570.22,
          3473.22,
          3780,
          3752,
          3611.17,
          3439.52,
          3392.02,
          3531,
          3251.1,
          3267.73,
          3360
         ],
         "name": "OHLC",
         "open": [
          3033.55,
          2900.24,
          2932.56,
          2840.34,
          2538.54,
          2358.93,
          2634.38,
          2686.39,
          2501.82,
          2496.81,
          2611.64,
          2502.96,
          2401.59,
          2457.74,
          2592.26,
          2853.74,
          2916.2,
          2942.18,
          2913.97,
          3032.24,
          3088.37,
          3099.5,
          3081.68,
          3086.65,
          2952.2,
          3065.97,
          3026.58,
          3110.57,
          3269.95,
          3328.09,
          3283.13,
          3309.64,
          3226.58,
          3331.97,
          3567.71,
          3485.31,
          3411.04,
          3585.6,
          3508.04,
          3637.88,
          3563.48,
          3384.09,
          3671.21,
          3821.99,
          3743.03,
          3712.11,
          3727.42,
          3968.41,
          3967.79,
          3929.42,
          3877.62,
          3917.48,
          3994.58,
          4150.89,
          4082.96,
          4033.86,
          4125.61,
          4079.62,
          4067.85,
          4049.24,
          4017.76,
          3721.36,
          3792.01,
          3519.58,
          3815.53,
          3920.04,
          3784.37,
          3638.59,
          3862.02,
          3811.88,
          4041.19,
          3580.98,
          3624.91,
          3809.36,
          3940.3,
          4091.42,
          4052.98,
          3993.93,
          3733.35,
          3651.78,
          3718.2,
          3858.16,
          3823.08,
          3914.54,
          3637.21,
          3449,
          3622.4,
          3654.47,
          3353.42,
          3428.9
         ],
         "type": "ohlc",
         "x": [
          "2021-09-17T00:00:00",
          "2021-09-18T00:00:00",
          "2021-09-19T00:00:00",
          "2021-09-20T00:00:00",
          "2021-09-21T00:00:00",
          "2021-09-22T00:00:00",
          "2021-09-23T00:00:00",
          "2021-09-24T00:00:00",
          "2021-09-25T00:00:00",
          "2021-09-26T00:00:00",
          "2021-09-27T00:00:00",
          "2021-09-28T00:00:00",
          "2021-09-29T00:00:00",
          "2021-09-30T00:00:00",
          "2021-10-01T00:00:00",
          "2021-10-02T00:00:00",
          "2021-10-03T00:00:00",
          "2021-10-04T00:00:00",
          "2021-10-05T00:00:00",
          "2021-10-06T00:00:00",
          "2021-10-07T00:00:00",
          "2021-10-08T00:00:00",
          "2021-10-09T00:00:00",
          "2021-10-10T00:00:00",
          "2021-10-11T00:00:00",
          "2021-10-12T00:00:00",
          "2021-10-13T00:00:00",
          "2021-10-14T00:00:00",
          "2021-10-15T00:00:00",
          "2021-10-16T00:00:00",
          "2021-10-17T00:00:00",
          "2021-10-18T00:00:00",
          "2021-10-19T00:00:00",
          "2021-10-20T00:00:00",
          "2021-10-21T00:00:00",
          "2021-10-22T00:00:00",
          "2021-10-23T00:00:00",
          "2021-10-24T00:00:00",
          "2021-10-25T00:00:00",
          "2021-10-26T00:00:00",
          "2021-10-27T00:00:00",
          "2021-10-28T00:00:00",
          "2021-10-29T00:00:00",
          "2021-10-30T00:00:00",
          "2021-10-31T00:00:00",
          "2021-11-01T00:00:00",
          "2021-11-02T00:00:00",
          "2021-11-03T00:00:00",
          "2021-11-04T00:00:00",
          "2021-11-05T00:00:00",
          "2021-11-06T00:00:00",
          "2021-11-07T00:00:00",
          "2021-11-08T00:00:00",
          "2021-11-09T00:00:00",
          "2021-11-10T00:00:00",
          "2021-11-11T00:00:00",
          "2021-11-12T00:00:00",
          "2021-11-13T00:00:00",
          "2021-11-14T00:00:00",
          "2021-11-15T00:00:00",
          "2021-11-16T00:00:00",
          "2021-11-17T00:00:00",
          "2021-11-18T00:00:00",
          "2021-11-19T00:00:00",
          "2021-11-20T00:00:00",
          "2021-11-21T00:00:00",
          "2021-11-22T00:00:00",
          "2021-11-23T00:00:00",
          "2021-11-24T00:00:00",
          "2021-11-25T00:00:00",
          "2021-11-26T00:00:00",
          "2021-11-27T00:00:00",
          "2021-11-28T00:00:00",
          "2021-11-29T00:00:00",
          "2021-11-30T00:00:00",
          "2021-12-01T00:00:00",
          "2021-12-02T00:00:00",
          "2021-12-03T00:00:00",
          "2021-12-04T00:00:00",
          "2021-12-05T00:00:00",
          "2021-12-06T00:00:00",
          "2021-12-07T00:00:00",
          "2021-12-08T00:00:00",
          "2021-12-09T00:00:00",
          "2021-12-10T00:00:00",
          "2021-12-11T00:00:00",
          "2021-12-12T00:00:00",
          "2021-12-13T00:00:00",
          "2021-12-14T00:00:00",
          "2021-12-15T00:00:00"
         ],
         "xaxis": "x",
         "yaxis": "y2"
        },
        {
         "line": {
          "color": "#A9B1F5"
         },
         "mode": "lines",
         "name": "MACD",
         "type": "scatter",
         "x": [
          "2021-09-17T00:00:00",
          "2021-09-18T00:00:00",
          "2021-09-19T00:00:00",
          "2021-09-20T00:00:00",
          "2021-09-21T00:00:00",
          "2021-09-22T00:00:00",
          "2021-09-23T00:00:00",
          "2021-09-24T00:00:00",
          "2021-09-25T00:00:00",
          "2021-09-26T00:00:00",
          "2021-09-27T00:00:00",
          "2021-09-28T00:00:00",
          "2021-09-29T00:00:00",
          "2021-09-30T00:00:00",
          "2021-10-01T00:00:00",
          "2021-10-02T00:00:00",
          "2021-10-03T00:00:00",
          "2021-10-04T00:00:00",
          "2021-10-05T00:00:00",
          "2021-10-06T00:00:00",
          "2021-10-07T00:00:00",
          "2021-10-08T00:00:00",
          "2021-10-09T00:00:00",
          "2021-10-10T00:00:00",
          "2021-10-11T00:00:00",
          "2021-10-12T00:00:00",
          "2021-10-13T00:00:00",
          "2021-10-14T00:00:00",
          "2021-10-15T00:00:00",
          "2021-10-16T00:00:00",
          "2021-10-17T00:00:00",
          "2021-10-18T00:00:00",
          "2021-10-19T00:00:00",
          "2021-10-20T00:00:00",
          "2021-10-21T00:00:00",
          "2021-10-22T00:00:00",
          "2021-10-23T00:00:00",
          "2021-10-24T00:00:00",
          "2021-10-25T00:00:00",
          "2021-10-26T00:00:00",
          "2021-10-27T00:00:00",
          "2021-10-28T00:00:00",
          "2021-10-29T00:00:00",
          "2021-10-30T00:00:00",
          "2021-10-31T00:00:00",
          "2021-11-01T00:00:00",
          "2021-11-02T00:00:00",
          "2021-11-03T00:00:00",
          "2021-11-04T00:00:00",
          "2021-11-05T00:00:00",
          "2021-11-06T00:00:00",
          "2021-11-07T00:00:00",
          "2021-11-08T00:00:00",
          "2021-11-09T00:00:00",
          "2021-11-10T00:00:00",
          "2021-11-11T00:00:00",
          "2021-11-12T00:00:00",
          "2021-11-13T00:00:00",
          "2021-11-14T00:00:00",
          "2021-11-15T00:00:00",
          "2021-11-16T00:00:00",
          "2021-11-17T00:00:00",
          "2021-11-18T00:00:00",
          "2021-11-19T00:00:00",
          "2021-11-20T00:00:00",
          "2021-11-21T00:00:00",
          "2021-11-22T00:00:00",
          "2021-11-23T00:00:00",
          "2021-11-24T00:00:00",
          "2021-11-25T00:00:00",
          "2021-11-26T00:00:00",
          "2021-11-27T00:00:00",
          "2021-11-28T00:00:00",
          "2021-11-29T00:00:00",
          "2021-11-30T00:00:00",
          "2021-12-01T00:00:00",
          "2021-12-02T00:00:00",
          "2021-12-03T00:00:00",
          "2021-12-04T00:00:00",
          "2021-12-05T00:00:00",
          "2021-12-06T00:00:00",
          "2021-12-07T00:00:00",
          "2021-12-08T00:00:00",
          "2021-12-09T00:00:00",
          "2021-12-10T00:00:00",
          "2021-12-11T00:00:00",
          "2021-12-12T00:00:00",
          "2021-12-13T00:00:00",
          "2021-12-14T00:00:00",
          "2021-12-15T00:00:00"
         ],
         "xaxis": "x",
         "y": [
          0,
          2.5367521367520567,
          -2.799031826040391,
          -30.904742545310455,
          -66.92369262399461,
          -72.38385359590893,
          -71.69909249303919,
          -85.07622732705295,
          -95.03408251236806,
          -92.55189973718916,
          -98.1614499875509,
          -109.58566799011305,
          -112.91910753069442,
          -103.4412142074384,
          -74.1605716982499,
          -45.262967775686775,
          -20.029312648028736,
          -2.3054026460404202,
          21.00347730020212,
          43.540366405659825,
          61.63462007625321,
          73.346475572288,
          82.4483968233435,
          78.14593174284937,
          82.67777896761527,
          82.28754213268758,
          87.57499142574761,
          103.42407572742422,
          119.3614030210183,
          126.90909360122942,
          133.38652532531205,
          130.4527008889063,
          135.00765096421355,
          155.87676967319476,
          163.99967726942623,
          162.53745755400178,
          173.33614629486283,
          173.68125973804626,
          182.22547956118933,
          180.92074603731317,
          163.61657309368047,
          171.05089260401155,
          186.97976523912575,
          191.01247439496638,
          189.54382801398697,
          187.34515830793134,
          202.8211275318722,
          212.44257205169015,
          214.73740668058826,
          210.0062667837924,
          206.9551883258041,
          208.36707627665828,
          219.5622924629215,
          220.4554983927519,
          214.7732466466905,
          215.23674460465736,
          209.36504933406513,
          201.40876330344145,
          191.33635956658827,
          178.9478226266997,
          143.35375154699568,
          119.57020581164898,
          77.78879298980564,
          67.94365424916168,
          67.7418657287235,
          55.95799306195613,
          34.41805871549241,
          34.91186447008067,
          31.02716112145208,
          45.78134327142698,
          20.179049021163337,
          3.4202253319695046,
          5.040859474829176,
          16.569266743738353,
          37.32822666389529,
          50.268856496908484,
          55.15602965386233,
          37.73616782920999,
          16.97717445856506,
          5.674405584600663,
          7.991787172410568,
          7.0256127791290055,
          13.423902211411132,
          -3.8401605092954014,
          -32.04989442997112,
          -40.362251268904856,
          -43.64113766671426,
          -69.81506703631794,
          -83.49612204627738,
          -98.08719224443621
         ],
         "yaxis": "y"
        },
        {
         "line": {
          "color": "#FFD1A3"
         },
         "mode": "lines",
         "name": "MACD Signal",
         "type": "scatter",
         "x": [
          "2021-09-17T00:00:00",
          "2021-09-18T00:00:00",
          "2021-09-19T00:00:00",
          "2021-09-20T00:00:00",
          "2021-09-21T00:00:00",
          "2021-09-22T00:00:00",
          "2021-09-23T00:00:00",
          "2021-09-24T00:00:00",
          "2021-09-25T00:00:00",
          "2021-09-26T00:00:00",
          "2021-09-27T00:00:00",
          "2021-09-28T00:00:00",
          "2021-09-29T00:00:00",
          "2021-09-30T00:00:00",
          "2021-10-01T00:00:00",
          "2021-10-02T00:00:00",
          "2021-10-03T00:00:00",
          "2021-10-04T00:00:00",
          "2021-10-05T00:00:00",
          "2021-10-06T00:00:00",
          "2021-10-07T00:00:00",
          "2021-10-08T00:00:00",
          "2021-10-09T00:00:00",
          "2021-10-10T00:00:00",
          "2021-10-11T00:00:00",
          "2021-10-12T00:00:00",
          "2021-10-13T00:00:00",
          "2021-10-14T00:00:00",
          "2021-10-15T00:00:00",
          "2021-10-16T00:00:00",
          "2021-10-17T00:00:00",
          "2021-10-18T00:00:00",
          "2021-10-19T00:00:00",
          "2021-10-20T00:00:00",
          "2021-10-21T00:00:00",
          "2021-10-22T00:00:00",
          "2021-10-23T00:00:00",
          "2021-10-24T00:00:00",
          "2021-10-25T00:00:00",
          "2021-10-26T00:00:00",
          "2021-10-27T00:00:00",
          "2021-10-28T00:00:00",
          "2021-10-29T00:00:00",
          "2021-10-30T00:00:00",
          "2021-10-31T00:00:00",
          "2021-11-01T00:00:00",
          "2021-11-02T00:00:00",
          "2021-11-03T00:00:00",
          "2021-11-04T00:00:00",
          "2021-11-05T00:00:00",
          "2021-11-06T00:00:00",
          "2021-11-07T00:00:00",
          "2021-11-08T00:00:00",
          "2021-11-09T00:00:00",
          "2021-11-10T00:00:00",
          "2021-11-11T00:00:00",
          "2021-11-12T00:00:00",
          "2021-11-13T00:00:00",
          "2021-11-14T00:00:00",
          "2021-11-15T00:00:00",
          "2021-11-16T00:00:00",
          "2021-11-17T00:00:00",
          "2021-11-18T00:00:00",
          "2021-11-19T00:00:00",
          "2021-11-20T00:00:00",
          "2021-11-21T00:00:00",
          "2021-11-22T00:00:00",
          "2021-11-23T00:00:00",
          "2021-11-24T00:00:00",
          "2021-11-25T00:00:00",
          "2021-11-26T00:00:00",
          "2021-11-27T00:00:00",
          "2021-11-28T00:00:00",
          "2021-11-29T00:00:00",
          "2021-11-30T00:00:00",
          "2021-12-01T00:00:00",
          "2021-12-02T00:00:00",
          "2021-12-03T00:00:00",
          "2021-12-04T00:00:00",
          "2021-12-05T00:00:00",
          "2021-12-06T00:00:00",
          "2021-12-07T00:00:00",
          "2021-12-08T00:00:00",
          "2021-12-09T00:00:00",
          "2021-12-10T00:00:00",
          "2021-12-11T00:00:00",
          "2021-12-12T00:00:00",
          "2021-12-13T00:00:00",
          "2021-12-14T00:00:00",
          "2021-12-15T00:00:00"
         ],
         "xaxis": "x",
         "y": [
          0,
          0.5073504273504114,
          -0.15392602332774913,
          -6.304089327724291,
          -18.428009986978356,
          -29.219178708764474,
          -37.71516146561942,
          -47.187374637906125,
          -56.756716212798516,
          -63.91575291767665,
          -70.76489233165151,
          -78.52904746334383,
          -85.40705947681396,
          -89.01389042293884,
          -86.04322667800105,
          -77.88717489753819,
          -66.3156024476363,
          -53.513562487317124,
          -38.61015452981328,
          -22.18005034271866,
          -5.417116258924285,
          10.335602107318174,
          24.75816105052324,
          35.43571518898847,
          44.88412794471383,
          52.36481078230858,
          59.40684691099639,
          68.21029267428196,
          78.44051474362924,
          88.13423051514928,
          97.18468947718185,
          103.83829175952675,
          110.07216360046412,
          119.23308481501026,
          128.18640330589346,
          135.05661415551512,
          142.71252058338467,
          148.906268414317,
          155.57011064369146,
          160.6402377224158,
          161.23550479666875,
          163.19858235813732,
          167.954818934335,
          172.5663500264613,
          175.96184562396644,
          178.2385081607594,
          183.15503203498199,
          189.01254003832364,
          194.15751336677656,
          197.32726405017974,
          199.25284890530463,
          201.07569437957537,
          204.7730139962446,
          207.9095108755461,
          209.282258029775,
          210.4731553447515,
          210.25153414261422,
          208.48297997477968,
          205.0536558931414,
          199.8324892398531,
          188.53674170128164,
          174.74343452335512,
          155.35250621664525,
          137.87073582314855,
          123.84496180426355,
          110.26756805580207,
          95.09766618774015,
          83.06050584420825,
          72.65383689965702,
          67.27933817401102,
          57.85928034344148,
          46.97146934114709,
          38.58534736788351,
          34.18213124305448,
          34.81135032722264,
          37.90285156115981,
          41.353487179700316,
          40.63002330960225,
          35.89945353939481,
          29.854443948435986,
          25.481912593230906,
          21.790652630410527,
          20.117302546610652,
          15.32580993542944,
          5.850669062349329,
          -3.3919150039015076,
          -11.441759536464058,
          -23.116421036434836,
          -35.19236123840334,
          -47.77132743960992
         ],
         "yaxis": "y"
        }
       ],
       "layout": {
        "hovermode": "x unified",
        "legend": {
         "x": 0.94,
         "xanchor": "right",
         "y": 0.99,
         "yanchor": "top"
        },
        "margin": {
         "b": 100,
         "l": 50,
         "pad": 4,
         "r": 50,
         "t": 100
        },
        "shapes": [
         {
          "line": {
           "color": "#3FFA68",
           "width": 1
          },
          "opacity": 1,
          "type": "rect",
          "x0": "2021-09-17T00:00:00",
          "x1": "2021-09-19T00:00:00",
          "xref": "x",
          "y0": 0,
          "y1": 1,
          "yref": "y domain"
         },
         {
          "line": {
           "color": "#D61170",
           "width": 1
          },
          "opacity": 1,
          "type": "rect",
          "x0": "2021-09-19T00:00:00",
          "x1": "2021-10-01T00:00:00",
          "xref": "x",
          "y0": 0,
          "y1": 1,
          "yref": "y domain"
         },
         {
          "line": {
           "color": "#3FFA68",
           "width": 1
          },
          "opacity": 1,
          "type": "rect",
          "x0": "2021-10-01T00:00:00",
          "x1": "2021-11-12T00:00:00",
          "xref": "x",
          "y0": 0,
          "y1": 1,
          "yref": "y domain"
         },
         {
          "line": {
           "color": "#D61170",
           "width": 1
          },
          "opacity": 1,
          "type": "rect",
          "x0": "2021-11-12T00:00:00",
          "x1": "2021-11-30T00:00:00",
          "xref": "x",
          "y0": 0,
          "y1": 1,
          "yref": "y domain"
         },
         {
          "line": {
           "color": "#3FFA68",
           "width": 1
          },
          "opacity": 1,
          "type": "rect",
          "x0": "2021-11-30T00:00:00",
          "x1": "2021-12-03T00:00:00",
          "xref": "x",
          "y0": 0,
          "y1": 1,
          "yref": "y domain"
         },
         {
          "line": {
           "color": "#D61170",
           "width": 1
          },
          "opacity": 1,
          "type": "rect",
          "x0": "2021-12-03T00:00:00",
          "x1": "2021-12-15T15:34:01.518757",
          "xref": "x",
          "y0": 0,
          "y1": 1,
          "yref": "y domain"
         }
        ],
        "template": {
         "data": {
          "bar": [
           {
            "error_x": {
             "color": "#2a3f5f"
            },
            "error_y": {
             "color": "#2a3f5f"
            },
            "marker": {
             "line": {
              "color": "#E5ECF6",
              "width": 0.5
             }
            },
            "type": "bar"
           }
          ],
          "barpolar": [
           {
            "marker": {
             "line": {
              "color": "#E5ECF6",
              "width": 0.5
             }
            },
            "type": "barpolar"
           }
          ],
          "carpet": [
           {
            "aaxis": {
             "endlinecolor": "#2a3f5f",
             "gridcolor": "white",
             "linecolor": "white",
             "minorgridcolor": "white",
             "startlinecolor": "#2a3f5f"
            },
            "baxis": {
             "endlinecolor": "#2a3f5f",
             "gridcolor": "white",
             "linecolor": "white",
             "minorgridcolor": "white",
             "startlinecolor": "#2a3f5f"
            },
            "type": "carpet"
           }
          ],
          "choropleth": [
           {
            "colorbar": {
             "outlinewidth": 0,
             "ticks": ""
            },
            "type": "choropleth"
           }
          ],
          "contour": [
           {
            "colorbar": {
             "outlinewidth": 0,
             "ticks": ""
            },
            "colorscale": [
             [
              0,
              "#0d0887"
             ],
             [
              0.1111111111111111,
              "#46039f"
             ],
             [
              0.2222222222222222,
              "#7201a8"
             ],
             [
              0.3333333333333333,
              "#9c179e"
             ],
             [
              0.4444444444444444,
              "#bd3786"
             ],
             [
              0.5555555555555556,
              "#d8576b"
             ],
             [
              0.6666666666666666,
              "#ed7953"
             ],
             [
              0.7777777777777778,
              "#fb9f3a"
             ],
             [
              0.8888888888888888,
              "#fdca26"
             ],
             [
              1,
              "#f0f921"
             ]
            ],
            "type": "contour"
           }
          ],
          "contourcarpet": [
           {
            "colorbar": {
             "outlinewidth": 0,
             "ticks": ""
            },
            "type": "contourcarpet"
           }
          ],
          "heatmap": [
           {
            "colorbar": {
             "outlinewidth": 0,
             "ticks": ""
            },
            "colorscale": [
             [
              0,
              "#0d0887"
             ],
             [
              0.1111111111111111,
              "#46039f"
             ],
             [
              0.2222222222222222,
              "#7201a8"
             ],
             [
              0.3333333333333333,
              "#9c179e"
             ],
             [
              0.4444444444444444,
              "#bd3786"
             ],
             [
              0.5555555555555556,
              "#d8576b"
             ],
             [
              0.6666666666666666,
              "#ed7953"
             ],
             [
              0.7777777777777778,
              "#fb9f3a"
             ],
             [
              0.8888888888888888,
              "#fdca26"
             ],
             [
              1,
              "#f0f921"
             ]
            ],
            "type": "heatmap"
           }
          ],
          "heatmapgl": [
           {
            "colorbar": {
             "outlinewidth": 0,
             "ticks": ""
            },
            "colorscale": [
             [
              0,
              "#0d0887"
             ],
             [
              0.1111111111111111,
              "#46039f"
             ],
             [
              0.2222222222222222,
              "#7201a8"
             ],
             [
              0.3333333333333333,
              "#9c179e"
             ],
             [
              0.4444444444444444,
              "#bd3786"
             ],
             [
              0.5555555555555556,
              "#d8576b"
             ],
             [
              0.6666666666666666,
              "#ed7953"
             ],
             [
              0.7777777777777778,
              "#fb9f3a"
             ],
             [
              0.8888888888888888,
              "#fdca26"
             ],
             [
              1,
              "#f0f921"
             ]
            ],
            "type": "heatmapgl"
           }
          ],
          "histogram": [
           {
            "marker": {
             "colorbar": {
              "outlinewidth": 0,
              "ticks": ""
             }
            },
            "type": "histogram"
           }
          ],
          "histogram2d": [
           {
            "colorbar": {
             "outlinewidth": 0,
             "ticks": ""
            },
            "colorscale": [
             [
              0,
              "#0d0887"
             ],
             [
              0.1111111111111111,
              "#46039f"
             ],
             [
              0.2222222222222222,
              "#7201a8"
             ],
             [
              0.3333333333333333,
              "#9c179e"
             ],
             [
              0.4444444444444444,
              "#bd3786"
             ],
             [
              0.5555555555555556,
              "#d8576b"
             ],
             [
              0.6666666666666666,
              "#ed7953"
             ],
             [
              0.7777777777777778,
              "#fb9f3a"
             ],
             [
              0.8888888888888888,
              "#fdca26"
             ],
             [
              1,
              "#f0f921"
             ]
            ],
            "type": "histogram2d"
           }
          ],
          "histogram2dcontour": [
           {
            "colorbar": {
             "outlinewidth": 0,
             "ticks": ""
            },
            "colorscale": [
             [
              0,
              "#0d0887"
             ],
             [
              0.1111111111111111,
              "#46039f"
             ],
             [
              0.2222222222222222,
              "#7201a8"
             ],
             [
              0.3333333333333333,
              "#9c179e"
             ],
             [
              0.4444444444444444,
              "#bd3786"
             ],
             [
              0.5555555555555556,
              "#d8576b"
             ],
             [
              0.6666666666666666,
              "#ed7953"
             ],
             [
              0.7777777777777778,
              "#fb9f3a"
             ],
             [
              0.8888888888888888,
              "#fdca26"
             ],
             [
              1,
              "#f0f921"
             ]
            ],
            "type": "histogram2dcontour"
           }
          ],
          "mesh3d": [
           {
            "colorbar": {
             "outlinewidth": 0,
             "ticks": ""
            },
            "type": "mesh3d"
           }
          ],
          "parcoords": [
           {
            "line": {
             "colorbar": {
              "outlinewidth": 0,
              "ticks": ""
             }
            },
            "type": "parcoords"
           }
          ],
          "pie": [
           {
            "automargin": true,
            "type": "pie"
           }
          ],
          "scatter": [
           {
            "marker": {
             "colorbar": {
              "outlinewidth": 0,
              "ticks": ""
             }
            },
            "type": "scatter"
           }
          ],
          "scatter3d": [
           {
            "line": {
             "colorbar": {
              "outlinewidth": 0,
              "ticks": ""
             }
            },
            "marker": {
             "colorbar": {
              "outlinewidth": 0,
              "ticks": ""
             }
            },
            "type": "scatter3d"
           }
          ],
          "scattercarpet": [
           {
            "marker": {
             "colorbar": {
              "outlinewidth": 0,
              "ticks": ""
             }
            },
            "type": "scattercarpet"
           }
          ],
          "scattergeo": [
           {
            "marker": {
             "colorbar": {
              "outlinewidth": 0,
              "ticks": ""
             }
            },
            "type": "scattergeo"
           }
          ],
          "scattergl": [
           {
            "marker": {
             "colorbar": {
              "outlinewidth": 0,
              "ticks": ""
             }
            },
            "type": "scattergl"
           }
          ],
          "scattermapbox": [
           {
            "marker": {
             "colorbar": {
              "outlinewidth": 0,
              "ticks": ""
             }
            },
            "type": "scattermapbox"
           }
          ],
          "scatterpolar": [
           {
            "marker": {
             "colorbar": {
              "outlinewidth": 0,
              "ticks": ""
             }
            },
            "type": "scatterpolar"
           }
          ],
          "scatterpolargl": [
           {
            "marker": {
             "colorbar": {
              "outlinewidth": 0,
              "ticks": ""
             }
            },
            "type": "scatterpolargl"
           }
          ],
          "scatterternary": [
           {
            "marker": {
             "colorbar": {
              "outlinewidth": 0,
              "ticks": ""
             }
            },
            "type": "scatterternary"
           }
          ],
          "surface": [
           {
            "colorbar": {
             "outlinewidth": 0,
             "ticks": ""
            },
            "colorscale": [
             [
              0,
              "#0d0887"
             ],
             [
              0.1111111111111111,
              "#46039f"
             ],
             [
              0.2222222222222222,
              "#7201a8"
             ],
             [
              0.3333333333333333,
              "#9c179e"
             ],
             [
              0.4444444444444444,
              "#bd3786"
             ],
             [
              0.5555555555555556,
              "#d8576b"
             ],
             [
              0.6666666666666666,
              "#ed7953"
             ],
             [
              0.7777777777777778,
              "#fb9f3a"
             ],
             [
              0.8888888888888888,
              "#fdca26"
             ],
             [
              1,
              "#f0f921"
             ]
            ],
            "type": "surface"
           }
          ],
          "table": [
           {
            "cells": {
             "fill": {
              "color": "#EBF0F8"
             },
             "line": {
              "color": "white"
             }
            },
            "header": {
             "fill": {
              "color": "#C8D4E3"
             },
             "line": {
              "color": "white"
             }
            },
            "type": "table"
           }
          ]
         },
         "layout": {
          "annotationdefaults": {
           "arrowcolor": "#2a3f5f",
           "arrowhead": 0,
           "arrowwidth": 1
          },
          "autotypenumbers": "strict",
          "coloraxis": {
           "colorbar": {
            "outlinewidth": 0,
            "ticks": ""
           }
          },
          "colorscale": {
           "diverging": [
            [
             0,
             "#8e0152"
            ],
            [
             0.1,
             "#c51b7d"
            ],
            [
             0.2,
             "#de77ae"
            ],
            [
             0.3,
             "#f1b6da"
            ],
            [
             0.4,
             "#fde0ef"
            ],
            [
             0.5,
             "#f7f7f7"
            ],
            [
             0.6,
             "#e6f5d0"
            ],
            [
             0.7,
             "#b8e186"
            ],
            [
             0.8,
             "#7fbc41"
            ],
            [
             0.9,
             "#4d9221"
            ],
            [
             1,
             "#276419"
            ]
           ],
           "sequential": [
            [
             0,
             "#0d0887"
            ],
            [
             0.1111111111111111,
             "#46039f"
            ],
            [
             0.2222222222222222,
             "#7201a8"
            ],
            [
             0.3333333333333333,
             "#9c179e"
            ],
            [
             0.4444444444444444,
             "#bd3786"
            ],
            [
             0.5555555555555556,
             "#d8576b"
            ],
            [
             0.6666666666666666,
             "#ed7953"
            ],
            [
             0.7777777777777778,
             "#fb9f3a"
            ],
            [
             0.8888888888888888,
             "#fdca26"
            ],
            [
             1,
             "#f0f921"
            ]
           ],
           "sequentialminus": [
            [
             0,
             "#0d0887"
            ],
            [
             0.1111111111111111,
             "#46039f"
            ],
            [
             0.2222222222222222,
             "#7201a8"
            ],
            [
             0.3333333333333333,
             "#9c179e"
            ],
            [
             0.4444444444444444,
             "#bd3786"
            ],
            [
             0.5555555555555556,
             "#d8576b"
            ],
            [
             0.6666666666666666,
             "#ed7953"
            ],
            [
             0.7777777777777778,
             "#fb9f3a"
            ],
            [
             0.8888888888888888,
             "#fdca26"
            ],
            [
             1,
             "#f0f921"
            ]
           ]
          },
          "colorway": [
           "#636efa",
           "#EF553B",
           "#00cc96",
           "#ab63fa",
           "#FFA15A",
           "#19d3f3",
           "#FF6692",
           "#B6E880",
           "#FF97FF",
           "#FECB52"
          ],
          "font": {
           "color": "#2a3f5f"
          },
          "geo": {
           "bgcolor": "white",
           "lakecolor": "white",
           "landcolor": "#E5ECF6",
           "showlakes": true,
           "showland": true,
           "subunitcolor": "white"
          },
          "hoverlabel": {
           "align": "left"
          },
          "hovermode": "closest",
          "mapbox": {
           "style": "light"
          },
          "paper_bgcolor": "white",
          "plot_bgcolor": "#E5ECF6",
          "polar": {
           "angularaxis": {
            "gridcolor": "white",
            "linecolor": "white",
            "ticks": ""
           },
           "bgcolor": "#E5ECF6",
           "radialaxis": {
            "gridcolor": "white",
            "linecolor": "white",
            "ticks": ""
           }
          },
          "scene": {
           "xaxis": {
            "backgroundcolor": "#E5ECF6",
            "gridcolor": "white",
            "gridwidth": 2,
            "linecolor": "white",
            "showbackground": true,
            "ticks": "",
            "zerolinecolor": "white"
           },
           "yaxis": {
            "backgroundcolor": "#E5ECF6",
            "gridcolor": "white",
            "gridwidth": 2,
            "linecolor": "white",
            "showbackground": true,
            "ticks": "",
            "zerolinecolor": "white"
           },
           "zaxis": {
            "backgroundcolor": "#E5ECF6",
            "gridcolor": "white",
            "gridwidth": 2,
            "linecolor": "white",
            "showbackground": true,
            "ticks": "",
            "zerolinecolor": "white"
           }
          },
          "shapedefaults": {
           "line": {
            "color": "#2a3f5f"
           }
          },
          "ternary": {
           "aaxis": {
            "gridcolor": "white",
            "linecolor": "white",
            "ticks": ""
           },
           "baxis": {
            "gridcolor": "white",
            "linecolor": "white",
            "ticks": ""
           },
           "bgcolor": "#E5ECF6",
           "caxis": {
            "gridcolor": "white",
            "linecolor": "white",
            "ticks": ""
           }
          },
          "title": {
           "x": 0.05
          },
          "xaxis": {
           "automargin": true,
           "gridcolor": "white",
           "linecolor": "white",
           "ticks": "",
           "title": {
            "standoff": 15
           },
           "zerolinecolor": "white",
           "zerolinewidth": 2
          },
          "yaxis": {
           "automargin": true,
           "gridcolor": "white",
           "linecolor": "white",
           "ticks": "",
           "title": {
            "standoff": 15
           },
           "zerolinecolor": "white",
           "zerolinewidth": 2
          }
         }
        },
        "title": {
         "text": "OHLC Chart for ETH with time interval daily"
        },
        "xaxis": {
         "anchor": "y",
         "domain": [
          0,
          0.94
         ],
         "rangeselector": {
          "buttons": [
           {
            "count": 1,
            "label": "1m",
            "step": "month",
            "stepmode": "backward"
           },
           {
            "count": 6,
            "label": "6m",
            "step": "month",
            "stepmode": "backward"
           },
           {
            "count": 1,
            "label": "YTD",
            "step": "year",
            "stepmode": "todate"
           },
           {
            "count": 1,
            "label": "1y",
            "step": "year",
            "stepmode": "backward"
           },
           {
            "step": "all"
           }
          ]
         },
         "rangeslider": {
          "visible": true
         },
         "tickformat": "%d %b (%a)",
         "type": "date"
        },
        "yaxis": {
         "anchor": "x",
         "domain": [
          0,
          1
         ],
         "range": [
          -112.91910753069442,
          220.4554983927519
         ],
         "showgrid": false,
         "showticklabels": false,
         "zeroline": false
        },
        "yaxis2": {
         "anchor": "x",
         "overlaying": "y",
         "side": "right"
        }
       }
      }
     },
     "metadata": {},
     "output_type": "display_data"
    },
    {
     "data": {
      "application/vnd.plotly.v1+json": {
       "config": {
        "plotlyServerURL": "https://plot.ly"
       },
       "data": [
        {
         "close": [
          153.5,
          154.82,
          150,
          133.88,
          126.37,
          138.19,
          139.69,
          129.98,
          128.97,
          128.63,
          124.1,
          120.27,
          124.83,
          132.39,
          143.26,
          145.44,
          146.76,
          144.28,
          149.79,
          154.33,
          154.26,
          152.23,
          155.36,
          151.01,
          155.14,
          149.51,
          153.13,
          156.51,
          163.09,
          159.31,
          157.98,
          159.93,
          162.1,
          177.67,
          169.33,
          164.06,
          168.88,
          163.5,
          168.38,
          170.24,
          154.65,
          162.43,
          170.13,
          164.71,
          166.16,
          170.51,
          173.57,
          178.6,
          175.81,
          172.3,
          171.28,
          174.88,
          197.54,
          226.12,
          226.58,
          229.27,
          219.51,
          225.58,
          244.25,
          231.63,
          203.74,
          203.14,
          179.74,
          193.64,
          201.6,
          196.88,
          186.28,
          192.59,
          189.4,
          199.04,
          173.42,
          172.72,
          176.84,
          182.27,
          183.43,
          184.53,
          180.17,
          166.71,
          144.25,
          138.52,
          143.24,
          143.89,
          145.65,
          134.16,
          131.26,
          139.88,
          140.69,
          128.17,
          133.54,
          130.83
         ],
         "decreasing": {
          "line": {
           "color": "gray"
          }
         },
         "high": [
          161.9,
          158.74,
          155.1,
          150.14,
          138.44,
          138.5,
          140.57,
          141.9,
          133.3,
          131,
          132.12,
          127.57,
          128.94,
          133.41,
          144.98,
          148.74,
          150.58,
          147.05,
          151.33,
          158.36,
          161.53,
          158.5,
          157.9,
          158.85,
          160.15,
          155.07,
          155.02,
          160.71,
          165.9,
          165.64,
          161.1,
          161.37,
          164.58,
          179.4,
          183.93,
          173.18,
          170,
          171.81,
          170.08,
          171.85,
          176.78,
          166.55,
          171.8,
          170.58,
          168.74,
          173.79,
          176.92,
          180.72,
          178.57,
          176.44,
          174.36,
          175.18,
          198.14,
          236.81,
          260.2,
          239.57,
          247.14,
          231.35,
          244.69,
          245.65,
          231.65,
          208.4,
          205.31,
          196.13,
          202.49,
          204.77,
          197.08,
          194.64,
          192.72,
          205,
          200.68,
          178.11,
          177.3,
          186.06,
          193.5,
          191.92,
          185.59,
          184.11,
          167.61,
          146.23,
          146.15,
          147.55,
          150.96,
          147.39,
          141.57,
          141.19,
          144.08,
          141.48,
          134.82,
          135.46
         ],
         "increasing": {
          "line": {
           "color": "cyan"
          }
         },
         "low": [
          150.81,
          151.85,
          147.4,
          131.11,
          123.4,
          124.04,
          134.24,
          121,
          127.24,
          121.4,
          123.9,
          119.94,
          119.71,
          124.16,
          130.52,
          141.9,
          142.91,
          138.96,
          143.38,
          141.79,
          149.77,
          150.78,
          150.98,
          150.56,
          149.05,
          144.06,
          145.11,
          152.51,
          152.27,
          158.71,
          152,
          153.82,
          157.32,
          159.47,
          167.54,
          161.52,
          162.47,
          159.41,
          162.87,
          164.06,
          149.25,
          153.44,
          161.17,
          161.57,
          161.85,
          162.71,
          168.33,
          170.66,
          170.26,
          170.28,
          165.82,
          170.86,
          174.86,
          195.69,
          219.02,
          218.53,
          213.36,
          214.49,
          217.5,
          228.32,
          196.68,
          193.04,
          175.68,
          175.94,
          188.81,
          195.25,
          182.92,
          182.52,
          184.16,
          188.15,
          168.69,
          168.81,
          161.13,
          173.27,
          174.78,
          181.42,
          176.69,
          159.55,
          120,
          131.26,
          125.23,
          140.36,
          138.35,
          134.04,
          130.58,
          129,
          135.77,
          126.36,
          126.72,
          130.38
         ],
         "name": "OHLC",
         "open": [
          157.59,
          153.51,
          154.74,
          150.1,
          133.83,
          126.7,
          138.19,
          139.61,
          129.95,
          128.98,
          128.59,
          124.08,
          120.18,
          124.6,
          132.37,
          143.25,
          145.58,
          146.8,
          144.23,
          149.86,
          154.32,
          154.22,
          152.23,
          155.36,
          151.14,
          155.06,
          149.51,
          153.19,
          156.43,
          163.16,
          159.55,
          158.02,
          160.07,
          162.18,
          177.79,
          169.21,
          164.05,
          168.91,
          163.6,
          168.38,
          170.44,
          154.6,
          162.38,
          170.11,
          164.7,
          166.18,
          170.38,
          173.71,
          178.51,
          175.68,
          172.3,
          171.21,
          174.86,
          197.57,
          226.26,
          226.45,
          229.27,
          219.53,
          225.77,
          244.34,
          231.56,
          203.68,
          203.05,
          179.68,
          193.65,
          201.78,
          196.84,
          186.22,
          192.56,
          189.67,
          199.22,
          173.32,
          172.72,
          176.87,
          182.27,
          183.57,
          184.62,
          180.27,
          166.59,
          144.15,
          138.52,
          143.26,
          143.89,
          145.7,
          134.1,
          131.27,
          140,
          140.64,
          128.15,
          133.54
         ],
         "type": "ohlc",
         "x": [
          "2021-09-17T00:00:00",
          "2021-09-18T00:00:00",
          "2021-09-19T00:00:00",
          "2021-09-20T00:00:00",
          "2021-09-21T00:00:00",
          "2021-09-22T00:00:00",
          "2021-09-23T00:00:00",
          "2021-09-24T00:00:00",
          "2021-09-25T00:00:00",
          "2021-09-26T00:00:00",
          "2021-09-27T00:00:00",
          "2021-09-28T00:00:00",
          "2021-09-29T00:00:00",
          "2021-09-30T00:00:00",
          "2021-10-01T00:00:00",
          "2021-10-02T00:00:00",
          "2021-10-03T00:00:00",
          "2021-10-04T00:00:00",
          "2021-10-05T00:00:00",
          "2021-10-06T00:00:00",
          "2021-10-07T00:00:00",
          "2021-10-08T00:00:00",
          "2021-10-09T00:00:00",
          "2021-10-10T00:00:00",
          "2021-10-11T00:00:00",
          "2021-10-12T00:00:00",
          "2021-10-13T00:00:00",
          "2021-10-14T00:00:00",
          "2021-10-15T00:00:00",
          "2021-10-16T00:00:00",
          "2021-10-17T00:00:00",
          "2021-10-18T00:00:00",
          "2021-10-19T00:00:00",
          "2021-10-20T00:00:00",
          "2021-10-21T00:00:00",
          "2021-10-22T00:00:00",
          "2021-10-23T00:00:00",
          "2021-10-24T00:00:00",
          "2021-10-25T00:00:00",
          "2021-10-26T00:00:00",
          "2021-10-27T00:00:00",
          "2021-10-28T00:00:00",
          "2021-10-29T00:00:00",
          "2021-10-30T00:00:00",
          "2021-10-31T00:00:00",
          "2021-11-01T00:00:00",
          "2021-11-02T00:00:00",
          "2021-11-03T00:00:00",
          "2021-11-04T00:00:00",
          "2021-11-05T00:00:00",
          "2021-11-06T00:00:00",
          "2021-11-07T00:00:00",
          "2021-11-08T00:00:00",
          "2021-11-09T00:00:00",
          "2021-11-10T00:00:00",
          "2021-11-11T00:00:00",
          "2021-11-12T00:00:00",
          "2021-11-13T00:00:00",
          "2021-11-14T00:00:00",
          "2021-11-15T00:00:00",
          "2021-11-16T00:00:00",
          "2021-11-17T00:00:00",
          "2021-11-18T00:00:00",
          "2021-11-19T00:00:00",
          "2021-11-20T00:00:00",
          "2021-11-21T00:00:00",
          "2021-11-22T00:00:00",
          "2021-11-23T00:00:00",
          "2021-11-24T00:00:00",
          "2021-11-25T00:00:00",
          "2021-11-26T00:00:00",
          "2021-11-27T00:00:00",
          "2021-11-28T00:00:00",
          "2021-11-29T00:00:00",
          "2021-11-30T00:00:00",
          "2021-12-01T00:00:00",
          "2021-12-02T00:00:00",
          "2021-12-03T00:00:00",
          "2021-12-04T00:00:00",
          "2021-12-05T00:00:00",
          "2021-12-06T00:00:00",
          "2021-12-07T00:00:00",
          "2021-12-08T00:00:00",
          "2021-12-09T00:00:00",
          "2021-12-10T00:00:00",
          "2021-12-11T00:00:00",
          "2021-12-12T00:00:00",
          "2021-12-13T00:00:00",
          "2021-12-14T00:00:00",
          "2021-12-15T00:00:00"
         ],
         "xaxis": "x",
         "yaxis": "y2"
        },
        {
         "line": {
          "color": "#A9B1F5"
         },
         "mode": "lines",
         "name": "MACD",
         "type": "scatter",
         "x": [
          "2021-09-17T00:00:00",
          "2021-09-18T00:00:00",
          "2021-09-19T00:00:00",
          "2021-09-20T00:00:00",
          "2021-09-21T00:00:00",
          "2021-09-22T00:00:00",
          "2021-09-23T00:00:00",
          "2021-09-24T00:00:00",
          "2021-09-25T00:00:00",
          "2021-09-26T00:00:00",
          "2021-09-27T00:00:00",
          "2021-09-28T00:00:00",
          "2021-09-29T00:00:00",
          "2021-09-30T00:00:00",
          "2021-10-01T00:00:00",
          "2021-10-02T00:00:00",
          "2021-10-03T00:00:00",
          "2021-10-04T00:00:00",
          "2021-10-05T00:00:00",
          "2021-10-06T00:00:00",
          "2021-10-07T00:00:00",
          "2021-10-08T00:00:00",
          "2021-10-09T00:00:00",
          "2021-10-10T00:00:00",
          "2021-10-11T00:00:00",
          "2021-10-12T00:00:00",
          "2021-10-13T00:00:00",
          "2021-10-14T00:00:00",
          "2021-10-15T00:00:00",
          "2021-10-16T00:00:00",
          "2021-10-17T00:00:00",
          "2021-10-18T00:00:00",
          "2021-10-19T00:00:00",
          "2021-10-20T00:00:00",
          "2021-10-21T00:00:00",
          "2021-10-22T00:00:00",
          "2021-10-23T00:00:00",
          "2021-10-24T00:00:00",
          "2021-10-25T00:00:00",
          "2021-10-26T00:00:00",
          "2021-10-27T00:00:00",
          "2021-10-28T00:00:00",
          "2021-10-29T00:00:00",
          "2021-10-30T00:00:00",
          "2021-10-31T00:00:00",
          "2021-11-01T00:00:00",
          "2021-11-02T00:00:00",
          "2021-11-03T00:00:00",
          "2021-11-04T00:00:00",
          "2021-11-05T00:00:00",
          "2021-11-06T00:00:00",
          "2021-11-07T00:00:00",
          "2021-11-08T00:00:00",
          "2021-11-09T00:00:00",
          "2021-11-10T00:00:00",
          "2021-11-11T00:00:00",
          "2021-11-12T00:00:00",
          "2021-11-13T00:00:00",
          "2021-11-14T00:00:00",
          "2021-11-15T00:00:00",
          "2021-11-16T00:00:00",
          "2021-11-17T00:00:00",
          "2021-11-18T00:00:00",
          "2021-11-19T00:00:00",
          "2021-11-20T00:00:00",
          "2021-11-21T00:00:00",
          "2021-11-22T00:00:00",
          "2021-11-23T00:00:00",
          "2021-11-24T00:00:00",
          "2021-11-25T00:00:00",
          "2021-11-26T00:00:00",
          "2021-11-27T00:00:00",
          "2021-11-28T00:00:00",
          "2021-11-29T00:00:00",
          "2021-11-30T00:00:00",
          "2021-12-01T00:00:00",
          "2021-12-02T00:00:00",
          "2021-12-03T00:00:00",
          "2021-12-04T00:00:00",
          "2021-12-05T00:00:00",
          "2021-12-06T00:00:00",
          "2021-12-07T00:00:00",
          "2021-12-08T00:00:00",
          "2021-12-09T00:00:00",
          "2021-12-10T00:00:00",
          "2021-12-11T00:00:00",
          "2021-12-12T00:00:00",
          "2021-12-13T00:00:00",
          "2021-12-14T00:00:00",
          "2021-12-15T00:00:00"
         ],
         "xaxis": "x",
         "y": [
          0,
          0.1052991452991705,
          -0.19790293909952084,
          -1.7191250515018908,
          -3.4904628882672455,
          -3.895579849969266,
          -4.04892698691566,
          -4.897516031680851,
          -5.587122650437891,
          -6.090864330085822,
          -6.777489699267704,
          -7.543734764019689,
          -7.694340045360747,
          -7.121573926236408,
          -5.724545497563611,
          -4.390867435240921,
          -3.190625449828673,
          -2.4117392737953764,
          -1.3344724489967064,
          -0.11308707402341156,
          0.8395434855598864,
          1.414401690526205,
          2.098357244952524,
          2.2632984087343857,
          2.696191931255896,
          2.5555108798838546,
          2.704942980605068,
          3.060823481391168,
          3.829666341193473,
          4.086854720341222,
          4.135684878131144,
          4.282367367816931,
          4.5215930521255245,
          5.899543738667859,
          6.246604319421323,
          6.026932645431373,
          6.170643639935719,
          5.783743209533895,
          5.803992237458033,
          5.902090567171143,
          4.6680412178903055,
          4.268623166825364,
          4.521288532323439,
          4.235356399510579,
          4.078738843608619,
          4.256559973957735,
          4.591473281508087,
          5.202798826950556,
          5.399902330337653,
          5.212790803585818,
          4.925420908796411,
          4.93132288970159,
          6.687384864602194,
          10.266893421979006,
          12.991045215684721,
          15.19189297182811,
          15.964501407874025,
          16.87210629186586,
          18.880262753205727,
          19.231721373877093,
          17.06307247128197,
          15.121674357040405,
          11.561642508480304,
          9.749519065779594,
          8.853644356361315,
          7.674327767998136,
          5.817321007679453,
          4.799468748083001,
          3.6928384165121884,
          3.5527395707913456,
          1.3587277734796714,
          -0.4315518714053326,
          -1.500613680116885,
          -1.8879343145191854,
          -2.0773401185150817,
          -2.114312299782341,
          -2.4669906492107145,
          -3.7889239355239965,
          -6.573128944054076,
          -9.136672709209506,
          -10.664501326249109,
          -11.688133418502417,
          -12.216527411937278,
          -13.40787282090264,
          -14.419805858457806,
          -14.36066728835479,
          -14.086063938121896,
          -14.709140356735759,
          -14.601304042467575,
          -14.566602610576922
         ],
         "yaxis": "y"
        },
        {
         "line": {
          "color": "#FFD1A3"
         },
         "mode": "lines",
         "name": "MACD Signal",
         "type": "scatter",
         "x": [
          "2021-09-17T00:00:00",
          "2021-09-18T00:00:00",
          "2021-09-19T00:00:00",
          "2021-09-20T00:00:00",
          "2021-09-21T00:00:00",
          "2021-09-22T00:00:00",
          "2021-09-23T00:00:00",
          "2021-09-24T00:00:00",
          "2021-09-25T00:00:00",
          "2021-09-26T00:00:00",
          "2021-09-27T00:00:00",
          "2021-09-28T00:00:00",
          "2021-09-29T00:00:00",
          "2021-09-30T00:00:00",
          "2021-10-01T00:00:00",
          "2021-10-02T00:00:00",
          "2021-10-03T00:00:00",
          "2021-10-04T00:00:00",
          "2021-10-05T00:00:00",
          "2021-10-06T00:00:00",
          "2021-10-07T00:00:00",
          "2021-10-08T00:00:00",
          "2021-10-09T00:00:00",
          "2021-10-10T00:00:00",
          "2021-10-11T00:00:00",
          "2021-10-12T00:00:00",
          "2021-10-13T00:00:00",
          "2021-10-14T00:00:00",
          "2021-10-15T00:00:00",
          "2021-10-16T00:00:00",
          "2021-10-17T00:00:00",
          "2021-10-18T00:00:00",
          "2021-10-19T00:00:00",
          "2021-10-20T00:00:00",
          "2021-10-21T00:00:00",
          "2021-10-22T00:00:00",
          "2021-10-23T00:00:00",
          "2021-10-24T00:00:00",
          "2021-10-25T00:00:00",
          "2021-10-26T00:00:00",
          "2021-10-27T00:00:00",
          "2021-10-28T00:00:00",
          "2021-10-29T00:00:00",
          "2021-10-30T00:00:00",
          "2021-10-31T00:00:00",
          "2021-11-01T00:00:00",
          "2021-11-02T00:00:00",
          "2021-11-03T00:00:00",
          "2021-11-04T00:00:00",
          "2021-11-05T00:00:00",
          "2021-11-06T00:00:00",
          "2021-11-07T00:00:00",
          "2021-11-08T00:00:00",
          "2021-11-09T00:00:00",
          "2021-11-10T00:00:00",
          "2021-11-11T00:00:00",
          "2021-11-12T00:00:00",
          "2021-11-13T00:00:00",
          "2021-11-14T00:00:00",
          "2021-11-15T00:00:00",
          "2021-11-16T00:00:00",
          "2021-11-17T00:00:00",
          "2021-11-18T00:00:00",
          "2021-11-19T00:00:00",
          "2021-11-20T00:00:00",
          "2021-11-21T00:00:00",
          "2021-11-22T00:00:00",
          "2021-11-23T00:00:00",
          "2021-11-24T00:00:00",
          "2021-11-25T00:00:00",
          "2021-11-26T00:00:00",
          "2021-11-27T00:00:00",
          "2021-11-28T00:00:00",
          "2021-11-29T00:00:00",
          "2021-11-30T00:00:00",
          "2021-12-01T00:00:00",
          "2021-12-02T00:00:00",
          "2021-12-03T00:00:00",
          "2021-12-04T00:00:00",
          "2021-12-05T00:00:00",
          "2021-12-06T00:00:00",
          "2021-12-07T00:00:00",
          "2021-12-08T00:00:00",
          "2021-12-09T00:00:00",
          "2021-12-10T00:00:00",
          "2021-12-11T00:00:00",
          "2021-12-12T00:00:00",
          "2021-12-13T00:00:00",
          "2021-12-14T00:00:00",
          "2021-12-15T00:00:00"
         ],
         "xaxis": "x",
         "y": [
          0,
          0.0210598290598341,
          -0.02273272457203689,
          -0.3620111899580077,
          -0.9877015296198552,
          -1.5692771936897376,
          -2.065207152334922,
          -2.631668928204108,
          -3.2227596726508647,
          -3.7963806041378563,
          -4.392602423163826,
          -5.022828891334999,
          -5.557131122140149,
          -5.8700196829594,
          -5.840924845880243,
          -5.550913363752379,
          -5.078855780967638,
          -4.5454324795331855,
          -3.90324047342589,
          -3.1452097935453946,
          -2.3482591377243387,
          -1.5957269720742302,
          -0.8569101286688794,
          -0.23286842118822643,
          0.3529436493005981,
          0.7934570954172495,
          1.1757542724548133,
          1.5527681142420844,
          2.0081477596323625,
          2.4238891517741346,
          2.7662482970455367,
          3.069472111199816,
          3.3598962993849577,
          3.8678257872415385,
          4.343581493677496,
          4.680251724028271,
          4.978330107209761,
          5.139412727674587,
          5.272328629631277,
          5.39828101713925,
          5.2522330572894615,
          5.055511079196642,
          4.948666569822002,
          4.806004535759717,
          4.660551397329498,
          4.579753112655146,
          4.582097146425735,
          4.706237482530699,
          4.84497045209209,
          4.918534522390836,
          4.919911799671951,
          4.922194017677879,
          5.275232187062742,
          6.273564434045996,
          7.617060590373741,
          9.132027066664616,
          10.498521934906499,
          11.773238806298373,
          13.194643595679844,
          14.402059151319294,
          14.93426181531183,
          14.971744323657546,
          14.2897239606221,
          13.381682981653599,
          12.476075256595143,
          11.515725758875742,
          10.376044808636486,
          9.26072959652579,
          8.14715136052307,
          7.2282690025767256,
          6.054360756757315,
          4.757178231124786,
          3.5056198488764516,
          2.426909016197324,
          1.526059189254843,
          0.7979848914474061,
          0.14498978331578205,
          -0.6417929604521737,
          -1.8280601571725543,
          -3.289782667579945,
          -4.764726399313778,
          -6.149407803151506,
          -7.362831724908661,
          -8.571839944107458,
          -9.741433126977528,
          -10.665279959252981,
          -11.349436755026765,
          -12.021377475368563,
          -12.537362788788366,
          -12.943210753146078
         ],
         "yaxis": "y"
        }
       ],
       "layout": {
        "hovermode": "x unified",
        "legend": {
         "x": 0.94,
         "xanchor": "right",
         "y": 0.99,
         "yanchor": "top"
        },
        "margin": {
         "b": 100,
         "l": 50,
         "pad": 4,
         "r": 50,
         "t": 100
        },
        "shapes": [
         {
          "line": {
           "color": "#3FFA68",
           "width": 1
          },
          "opacity": 1,
          "type": "rect",
          "x0": "2021-09-17T00:00:00",
          "x1": "2021-09-19T00:00:00",
          "xref": "x",
          "y0": 0,
          "y1": 1,
          "yref": "y domain"
         },
         {
          "line": {
           "color": "#D61170",
           "width": 1
          },
          "opacity": 1,
          "type": "rect",
          "x0": "2021-09-19T00:00:00",
          "x1": "2021-10-01T00:00:00",
          "xref": "x",
          "y0": 0,
          "y1": 1,
          "yref": "y domain"
         },
         {
          "line": {
           "color": "#3FFA68",
           "width": 1
          },
          "opacity": 1,
          "type": "rect",
          "x0": "2021-10-01T00:00:00",
          "x1": "2021-10-27T00:00:00",
          "xref": "x",
          "y0": 0,
          "y1": 1,
          "yref": "y domain"
         },
         {
          "line": {
           "color": "#D61170",
           "width": 1
          },
          "opacity": 1,
          "type": "rect",
          "x0": "2021-10-27T00:00:00",
          "x1": "2021-11-02T00:00:00",
          "xref": "x",
          "y0": 0,
          "y1": 1,
          "yref": "y domain"
         },
         {
          "line": {
           "color": "#3FFA68",
           "width": 1
          },
          "opacity": 1,
          "type": "rect",
          "x0": "2021-11-02T00:00:00",
          "x1": "2021-11-18T00:00:00",
          "xref": "x",
          "y0": 0,
          "y1": 1,
          "yref": "y domain"
         },
         {
          "line": {
           "color": "#D61170",
           "width": 1
          },
          "opacity": 1,
          "type": "rect",
          "x0": "2021-11-18T00:00:00",
          "x1": "2021-12-15T15:34:01.568251",
          "xref": "x",
          "y0": 0,
          "y1": 1,
          "yref": "y domain"
         }
        ],
        "template": {
         "data": {
          "bar": [
           {
            "error_x": {
             "color": "#2a3f5f"
            },
            "error_y": {
             "color": "#2a3f5f"
            },
            "marker": {
             "line": {
              "color": "#E5ECF6",
              "width": 0.5
             }
            },
            "type": "bar"
           }
          ],
          "barpolar": [
           {
            "marker": {
             "line": {
              "color": "#E5ECF6",
              "width": 0.5
             }
            },
            "type": "barpolar"
           }
          ],
          "carpet": [
           {
            "aaxis": {
             "endlinecolor": "#2a3f5f",
             "gridcolor": "white",
             "linecolor": "white",
             "minorgridcolor": "white",
             "startlinecolor": "#2a3f5f"
            },
            "baxis": {
             "endlinecolor": "#2a3f5f",
             "gridcolor": "white",
             "linecolor": "white",
             "minorgridcolor": "white",
             "startlinecolor": "#2a3f5f"
            },
            "type": "carpet"
           }
          ],
          "choropleth": [
           {
            "colorbar": {
             "outlinewidth": 0,
             "ticks": ""
            },
            "type": "choropleth"
           }
          ],
          "contour": [
           {
            "colorbar": {
             "outlinewidth": 0,
             "ticks": ""
            },
            "colorscale": [
             [
              0,
              "#0d0887"
             ],
             [
              0.1111111111111111,
              "#46039f"
             ],
             [
              0.2222222222222222,
              "#7201a8"
             ],
             [
              0.3333333333333333,
              "#9c179e"
             ],
             [
              0.4444444444444444,
              "#bd3786"
             ],
             [
              0.5555555555555556,
              "#d8576b"
             ],
             [
              0.6666666666666666,
              "#ed7953"
             ],
             [
              0.7777777777777778,
              "#fb9f3a"
             ],
             [
              0.8888888888888888,
              "#fdca26"
             ],
             [
              1,
              "#f0f921"
             ]
            ],
            "type": "contour"
           }
          ],
          "contourcarpet": [
           {
            "colorbar": {
             "outlinewidth": 0,
             "ticks": ""
            },
            "type": "contourcarpet"
           }
          ],
          "heatmap": [
           {
            "colorbar": {
             "outlinewidth": 0,
             "ticks": ""
            },
            "colorscale": [
             [
              0,
              "#0d0887"
             ],
             [
              0.1111111111111111,
              "#46039f"
             ],
             [
              0.2222222222222222,
              "#7201a8"
             ],
             [
              0.3333333333333333,
              "#9c179e"
             ],
             [
              0.4444444444444444,
              "#bd3786"
             ],
             [
              0.5555555555555556,
              "#d8576b"
             ],
             [
              0.6666666666666666,
              "#ed7953"
             ],
             [
              0.7777777777777778,
              "#fb9f3a"
             ],
             [
              0.8888888888888888,
              "#fdca26"
             ],
             [
              1,
              "#f0f921"
             ]
            ],
            "type": "heatmap"
           }
          ],
          "heatmapgl": [
           {
            "colorbar": {
             "outlinewidth": 0,
             "ticks": ""
            },
            "colorscale": [
             [
              0,
              "#0d0887"
             ],
             [
              0.1111111111111111,
              "#46039f"
             ],
             [
              0.2222222222222222,
              "#7201a8"
             ],
             [
              0.3333333333333333,
              "#9c179e"
             ],
             [
              0.4444444444444444,
              "#bd3786"
             ],
             [
              0.5555555555555556,
              "#d8576b"
             ],
             [
              0.6666666666666666,
              "#ed7953"
             ],
             [
              0.7777777777777778,
              "#fb9f3a"
             ],
             [
              0.8888888888888888,
              "#fdca26"
             ],
             [
              1,
              "#f0f921"
             ]
            ],
            "type": "heatmapgl"
           }
          ],
          "histogram": [
           {
            "marker": {
             "colorbar": {
              "outlinewidth": 0,
              "ticks": ""
             }
            },
            "type": "histogram"
           }
          ],
          "histogram2d": [
           {
            "colorbar": {
             "outlinewidth": 0,
             "ticks": ""
            },
            "colorscale": [
             [
              0,
              "#0d0887"
             ],
             [
              0.1111111111111111,
              "#46039f"
             ],
             [
              0.2222222222222222,
              "#7201a8"
             ],
             [
              0.3333333333333333,
              "#9c179e"
             ],
             [
              0.4444444444444444,
              "#bd3786"
             ],
             [
              0.5555555555555556,
              "#d8576b"
             ],
             [
              0.6666666666666666,
              "#ed7953"
             ],
             [
              0.7777777777777778,
              "#fb9f3a"
             ],
             [
              0.8888888888888888,
              "#fdca26"
             ],
             [
              1,
              "#f0f921"
             ]
            ],
            "type": "histogram2d"
           }
          ],
          "histogram2dcontour": [
           {
            "colorbar": {
             "outlinewidth": 0,
             "ticks": ""
            },
            "colorscale": [
             [
              0,
              "#0d0887"
             ],
             [
              0.1111111111111111,
              "#46039f"
             ],
             [
              0.2222222222222222,
              "#7201a8"
             ],
             [
              0.3333333333333333,
              "#9c179e"
             ],
             [
              0.4444444444444444,
              "#bd3786"
             ],
             [
              0.5555555555555556,
              "#d8576b"
             ],
             [
              0.6666666666666666,
              "#ed7953"
             ],
             [
              0.7777777777777778,
              "#fb9f3a"
             ],
             [
              0.8888888888888888,
              "#fdca26"
             ],
             [
              1,
              "#f0f921"
             ]
            ],
            "type": "histogram2dcontour"
           }
          ],
          "mesh3d": [
           {
            "colorbar": {
             "outlinewidth": 0,
             "ticks": ""
            },
            "type": "mesh3d"
           }
          ],
          "parcoords": [
           {
            "line": {
             "colorbar": {
              "outlinewidth": 0,
              "ticks": ""
             }
            },
            "type": "parcoords"
           }
          ],
          "pie": [
           {
            "automargin": true,
            "type": "pie"
           }
          ],
          "scatter": [
           {
            "marker": {
             "colorbar": {
              "outlinewidth": 0,
              "ticks": ""
             }
            },
            "type": "scatter"
           }
          ],
          "scatter3d": [
           {
            "line": {
             "colorbar": {
              "outlinewidth": 0,
              "ticks": ""
             }
            },
            "marker": {
             "colorbar": {
              "outlinewidth": 0,
              "ticks": ""
             }
            },
            "type": "scatter3d"
           }
          ],
          "scattercarpet": [
           {
            "marker": {
             "colorbar": {
              "outlinewidth": 0,
              "ticks": ""
             }
            },
            "type": "scattercarpet"
           }
          ],
          "scattergeo": [
           {
            "marker": {
             "colorbar": {
              "outlinewidth": 0,
              "ticks": ""
             }
            },
            "type": "scattergeo"
           }
          ],
          "scattergl": [
           {
            "marker": {
             "colorbar": {
              "outlinewidth": 0,
              "ticks": ""
             }
            },
            "type": "scattergl"
           }
          ],
          "scattermapbox": [
           {
            "marker": {
             "colorbar": {
              "outlinewidth": 0,
              "ticks": ""
             }
            },
            "type": "scattermapbox"
           }
          ],
          "scatterpolar": [
           {
            "marker": {
             "colorbar": {
              "outlinewidth": 0,
              "ticks": ""
             }
            },
            "type": "scatterpolar"
           }
          ],
          "scatterpolargl": [
           {
            "marker": {
             "colorbar": {
              "outlinewidth": 0,
              "ticks": ""
             }
            },
            "type": "scatterpolargl"
           }
          ],
          "scatterternary": [
           {
            "marker": {
             "colorbar": {
              "outlinewidth": 0,
              "ticks": ""
             }
            },
            "type": "scatterternary"
           }
          ],
          "surface": [
           {
            "colorbar": {
             "outlinewidth": 0,
             "ticks": ""
            },
            "colorscale": [
             [
              0,
              "#0d0887"
             ],
             [
              0.1111111111111111,
              "#46039f"
             ],
             [
              0.2222222222222222,
              "#7201a8"
             ],
             [
              0.3333333333333333,
              "#9c179e"
             ],
             [
              0.4444444444444444,
              "#bd3786"
             ],
             [
              0.5555555555555556,
              "#d8576b"
             ],
             [
              0.6666666666666666,
              "#ed7953"
             ],
             [
              0.7777777777777778,
              "#fb9f3a"
             ],
             [
              0.8888888888888888,
              "#fdca26"
             ],
             [
              1,
              "#f0f921"
             ]
            ],
            "type": "surface"
           }
          ],
          "table": [
           {
            "cells": {
             "fill": {
              "color": "#EBF0F8"
             },
             "line": {
              "color": "white"
             }
            },
            "header": {
             "fill": {
              "color": "#C8D4E3"
             },
             "line": {
              "color": "white"
             }
            },
            "type": "table"
           }
          ]
         },
         "layout": {
          "annotationdefaults": {
           "arrowcolor": "#2a3f5f",
           "arrowhead": 0,
           "arrowwidth": 1
          },
          "autotypenumbers": "strict",
          "coloraxis": {
           "colorbar": {
            "outlinewidth": 0,
            "ticks": ""
           }
          },
          "colorscale": {
           "diverging": [
            [
             0,
             "#8e0152"
            ],
            [
             0.1,
             "#c51b7d"
            ],
            [
             0.2,
             "#de77ae"
            ],
            [
             0.3,
             "#f1b6da"
            ],
            [
             0.4,
             "#fde0ef"
            ],
            [
             0.5,
             "#f7f7f7"
            ],
            [
             0.6,
             "#e6f5d0"
            ],
            [
             0.7,
             "#b8e186"
            ],
            [
             0.8,
             "#7fbc41"
            ],
            [
             0.9,
             "#4d9221"
            ],
            [
             1,
             "#276419"
            ]
           ],
           "sequential": [
            [
             0,
             "#0d0887"
            ],
            [
             0.1111111111111111,
             "#46039f"
            ],
            [
             0.2222222222222222,
             "#7201a8"
            ],
            [
             0.3333333333333333,
             "#9c179e"
            ],
            [
             0.4444444444444444,
             "#bd3786"
            ],
            [
             0.5555555555555556,
             "#d8576b"
            ],
            [
             0.6666666666666666,
             "#ed7953"
            ],
            [
             0.7777777777777778,
             "#fb9f3a"
            ],
            [
             0.8888888888888888,
             "#fdca26"
            ],
            [
             1,
             "#f0f921"
            ]
           ],
           "sequentialminus": [
            [
             0,
             "#0d0887"
            ],
            [
             0.1111111111111111,
             "#46039f"
            ],
            [
             0.2222222222222222,
             "#7201a8"
            ],
            [
             0.3333333333333333,
             "#9c179e"
            ],
            [
             0.4444444444444444,
             "#bd3786"
            ],
            [
             0.5555555555555556,
             "#d8576b"
            ],
            [
             0.6666666666666666,
             "#ed7953"
            ],
            [
             0.7777777777777778,
             "#fb9f3a"
            ],
            [
             0.8888888888888888,
             "#fdca26"
            ],
            [
             1,
             "#f0f921"
            ]
           ]
          },
          "colorway": [
           "#636efa",
           "#EF553B",
           "#00cc96",
           "#ab63fa",
           "#FFA15A",
           "#19d3f3",
           "#FF6692",
           "#B6E880",
           "#FF97FF",
           "#FECB52"
          ],
          "font": {
           "color": "#2a3f5f"
          },
          "geo": {
           "bgcolor": "white",
           "lakecolor": "white",
           "landcolor": "#E5ECF6",
           "showlakes": true,
           "showland": true,
           "subunitcolor": "white"
          },
          "hoverlabel": {
           "align": "left"
          },
          "hovermode": "closest",
          "mapbox": {
           "style": "light"
          },
          "paper_bgcolor": "white",
          "plot_bgcolor": "#E5ECF6",
          "polar": {
           "angularaxis": {
            "gridcolor": "white",
            "linecolor": "white",
            "ticks": ""
           },
           "bgcolor": "#E5ECF6",
           "radialaxis": {
            "gridcolor": "white",
            "linecolor": "white",
            "ticks": ""
           }
          },
          "scene": {
           "xaxis": {
            "backgroundcolor": "#E5ECF6",
            "gridcolor": "white",
            "gridwidth": 2,
            "linecolor": "white",
            "showbackground": true,
            "ticks": "",
            "zerolinecolor": "white"
           },
           "yaxis": {
            "backgroundcolor": "#E5ECF6",
            "gridcolor": "white",
            "gridwidth": 2,
            "linecolor": "white",
            "showbackground": true,
            "ticks": "",
            "zerolinecolor": "white"
           },
           "zaxis": {
            "backgroundcolor": "#E5ECF6",
            "gridcolor": "white",
            "gridwidth": 2,
            "linecolor": "white",
            "showbackground": true,
            "ticks": "",
            "zerolinecolor": "white"
           }
          },
          "shapedefaults": {
           "line": {
            "color": "#2a3f5f"
           }
          },
          "ternary": {
           "aaxis": {
            "gridcolor": "white",
            "linecolor": "white",
            "ticks": ""
           },
           "baxis": {
            "gridcolor": "white",
            "linecolor": "white",
            "ticks": ""
           },
           "bgcolor": "#E5ECF6",
           "caxis": {
            "gridcolor": "white",
            "linecolor": "white",
            "ticks": ""
           }
          },
          "title": {
           "x": 0.05
          },
          "xaxis": {
           "automargin": true,
           "gridcolor": "white",
           "linecolor": "white",
           "ticks": "",
           "title": {
            "standoff": 15
           },
           "zerolinecolor": "white",
           "zerolinewidth": 2
          },
          "yaxis": {
           "automargin": true,
           "gridcolor": "white",
           "linecolor": "white",
           "ticks": "",
           "title": {
            "standoff": 15
           },
           "zerolinecolor": "white",
           "zerolinewidth": 2
          }
         }
        },
        "title": {
         "text": "OHLC Chart for LTC with time interval daily"
        },
        "xaxis": {
         "anchor": "y",
         "domain": [
          0,
          0.94
         ],
         "rangeselector": {
          "buttons": [
           {
            "count": 1,
            "label": "1m",
            "step": "month",
            "stepmode": "backward"
           },
           {
            "count": 6,
            "label": "6m",
            "step": "month",
            "stepmode": "backward"
           },
           {
            "count": 1,
            "label": "YTD",
            "step": "year",
            "stepmode": "todate"
           },
           {
            "count": 1,
            "label": "1y",
            "step": "year",
            "stepmode": "backward"
           },
           {
            "step": "all"
           }
          ]
         },
         "rangeslider": {
          "visible": true
         },
         "tickformat": "%d %b (%a)",
         "type": "date"
        },
        "yaxis": {
         "anchor": "x",
         "domain": [
          0,
          1
         ],
         "range": [
          -14.709140356735759,
          19.231721373877093
         ],
         "showgrid": false,
         "showticklabels": false,
         "zeroline": false
        },
        "yaxis2": {
         "anchor": "x",
         "overlaying": "y",
         "side": "right"
        }
       }
      }
     },
     "metadata": {},
     "output_type": "display_data"
    },
    {
     "data": {
      "application/vnd.plotly.v1+json": {
       "config": {
        "plotlyServerURL": "https://plot.ly"
       },
       "data": [
        {
         "close": [
          1.6406,
          1.7636,
          1.6846,
          1.4281,
          1.3425,
          1.5812,
          1.707,
          1.5253,
          1.4785,
          1.5166,
          1.4314,
          1.3391,
          1.3859,
          1.4053,
          1.5276,
          1.525,
          1.7071,
          1.669,
          1.6816,
          1.5663,
          1.6334,
          1.6405,
          1.6321,
          1.5273,
          1.4856,
          1.5151,
          1.5858,
          1.5633,
          1.5101,
          1.5397,
          1.5217,
          1.4964,
          1.4682,
          1.536,
          1.5343,
          1.5984,
          1.6394,
          1.5592,
          1.7662,
          1.7628,
          1.5478,
          1.5793,
          1.6212,
          1.5762,
          1.5832,
          1.5851,
          1.6101,
          1.6651,
          1.6122,
          1.5971,
          1.5901,
          1.6162,
          1.7662,
          1.6765,
          1.6839,
          1.7667,
          1.8754,
          1.8179,
          1.7355,
          1.6651,
          1.524,
          1.4668,
          1.6281,
          1.6722,
          1.6349,
          1.6253,
          1.5476,
          1.6372,
          1.5572,
          1.6257,
          1.4227,
          1.4845,
          1.5217,
          1.5743,
          1.5985,
          1.7368,
          1.6718,
          1.5485,
          1.4648,
          1.563,
          1.5662,
          1.4965,
          1.5006,
          1.3761,
          1.2917,
          1.3556,
          1.3624,
          1.1706,
          1.2264,
          1.2026
         ],
         "decreasing": {
          "line": {
           "color": "gray"
          }
         },
         "high": [
          1.8372,
          1.816,
          1.8407,
          1.6866,
          1.5557,
          1.6174,
          1.7486,
          1.7099,
          1.552,
          1.5204,
          1.5892,
          1.4727,
          1.4976,
          1.4335,
          1.5644,
          1.6213,
          1.72,
          1.8048,
          1.7783,
          1.7134,
          1.6744,
          1.7287,
          1.6836,
          1.6329,
          1.5844,
          1.5256,
          1.59,
          1.6234,
          1.5609,
          1.5884,
          1.6204,
          1.5353,
          1.517,
          1.5619,
          1.6173,
          1.6685,
          1.6685,
          1.6499,
          1.787,
          1.8094,
          1.8,
          1.6098,
          1.6577,
          1.6247,
          1.6071,
          1.615,
          1.6504,
          1.7094,
          1.691,
          1.6626,
          1.6171,
          1.6198,
          1.8039,
          1.774,
          1.99,
          1.7995,
          2.0519,
          1.8896,
          1.846,
          1.7564,
          1.6649,
          1.5554,
          2.49,
          1.6937,
          1.692,
          1.6798,
          1.6313,
          1.6459,
          1.6655,
          1.6452,
          1.6279,
          1.5257,
          1.5217,
          1.6261,
          1.6617,
          1.7915,
          1.8053,
          1.722,
          1.5473,
          1.563,
          1.6538,
          1.6057,
          1.5031,
          1.5116,
          1.4177,
          1.3966,
          1.385,
          1.378,
          1.2386,
          1.241
         ],
         "increasing": {
          "line": {
           "color": "cyan"
          }
         },
         "low": [
          1.6153,
          1.6174,
          1.658,
          1.3218,
          1.3,
          1.3193,
          1.5304,
          1.4364,
          1.4492,
          1.3411,
          1.4274,
          1.3295,
          1.3277,
          1.3583,
          1.3784,
          1.476,
          1.4907,
          1.616,
          1.6542,
          1.5384,
          1.5134,
          1.6224,
          1.6085,
          1.5204,
          1.4532,
          1.392,
          1.462,
          1.5331,
          1.4879,
          1.4919,
          1.4824,
          1.4774,
          1.4485,
          1.4484,
          1.5063,
          1.5237,
          1.5874,
          1.531,
          1.553,
          1.6799,
          1.4701,
          1.51,
          1.5714,
          1.54,
          1.5214,
          1.5403,
          1.58,
          1.572,
          1.5779,
          1.5837,
          1.5434,
          1.5775,
          1.5874,
          1.6675,
          1.6109,
          1.6361,
          1.7512,
          1.779,
          1.681,
          1.6368,
          1.381,
          1.4137,
          1.4584,
          1.546,
          1.5631,
          1.5845,
          1.5297,
          1.5107,
          1.5367,
          1.5401,
          1.4084,
          1.4196,
          1.39,
          1.5015,
          1.531,
          1.5927,
          1.635,
          1.5065,
          1.2202,
          1.4051,
          1.4298,
          1.4786,
          1.4149,
          1.3695,
          1.2888,
          1.266,
          1.336,
          1.1677,
          1.1609,
          1.197
         ],
         "name": "OHLC",
         "open": [
          1.7346,
          1.6426,
          1.7688,
          1.6866,
          1.4282,
          1.3438,
          1.5795,
          1.7063,
          1.5249,
          1.4775,
          1.515,
          1.4312,
          1.3384,
          1.386,
          1.406,
          1.5262,
          1.5226,
          1.7087,
          1.6699,
          1.6845,
          1.5666,
          1.6344,
          1.6424,
          1.6301,
          1.5262,
          1.4808,
          1.5131,
          1.5861,
          1.5609,
          1.5105,
          1.5421,
          1.5224,
          1.4966,
          1.4675,
          1.5348,
          1.5345,
          1.5989,
          1.6413,
          1.5622,
          1.7641,
          1.7634,
          1.5488,
          1.5803,
          1.6217,
          1.577,
          1.5823,
          1.5852,
          1.6114,
          1.666,
          1.6112,
          1.5975,
          1.5914,
          1.6156,
          1.766,
          1.6798,
          1.6824,
          1.766,
          1.8748,
          1.8214,
          1.7357,
          1.6649,
          1.5239,
          1.4655,
          1.628,
          1.6773,
          1.6345,
          1.6253,
          1.5481,
          1.6329,
          1.5557,
          1.6265,
          1.422,
          1.4826,
          1.5187,
          1.5736,
          1.6022,
          1.7357,
          1.6671,
          1.5473,
          1.4633,
          1.5621,
          1.5631,
          1.4961,
          1.5008,
          1.3771,
          1.2894,
          1.3527,
          1.362,
          1.1719,
          1.226
         ],
         "type": "ohlc",
         "x": [
          "2021-09-17T00:00:00",
          "2021-09-18T00:00:00",
          "2021-09-19T00:00:00",
          "2021-09-20T00:00:00",
          "2021-09-21T00:00:00",
          "2021-09-22T00:00:00",
          "2021-09-23T00:00:00",
          "2021-09-24T00:00:00",
          "2021-09-25T00:00:00",
          "2021-09-26T00:00:00",
          "2021-09-27T00:00:00",
          "2021-09-28T00:00:00",
          "2021-09-29T00:00:00",
          "2021-09-30T00:00:00",
          "2021-10-01T00:00:00",
          "2021-10-02T00:00:00",
          "2021-10-03T00:00:00",
          "2021-10-04T00:00:00",
          "2021-10-05T00:00:00",
          "2021-10-06T00:00:00",
          "2021-10-07T00:00:00",
          "2021-10-08T00:00:00",
          "2021-10-09T00:00:00",
          "2021-10-10T00:00:00",
          "2021-10-11T00:00:00",
          "2021-10-12T00:00:00",
          "2021-10-13T00:00:00",
          "2021-10-14T00:00:00",
          "2021-10-15T00:00:00",
          "2021-10-16T00:00:00",
          "2021-10-17T00:00:00",
          "2021-10-18T00:00:00",
          "2021-10-19T00:00:00",
          "2021-10-20T00:00:00",
          "2021-10-21T00:00:00",
          "2021-10-22T00:00:00",
          "2021-10-23T00:00:00",
          "2021-10-24T00:00:00",
          "2021-10-25T00:00:00",
          "2021-10-26T00:00:00",
          "2021-10-27T00:00:00",
          "2021-10-28T00:00:00",
          "2021-10-29T00:00:00",
          "2021-10-30T00:00:00",
          "2021-10-31T00:00:00",
          "2021-11-01T00:00:00",
          "2021-11-02T00:00:00",
          "2021-11-03T00:00:00",
          "2021-11-04T00:00:00",
          "2021-11-05T00:00:00",
          "2021-11-06T00:00:00",
          "2021-11-07T00:00:00",
          "2021-11-08T00:00:00",
          "2021-11-09T00:00:00",
          "2021-11-10T00:00:00",
          "2021-11-11T00:00:00",
          "2021-11-12T00:00:00",
          "2021-11-13T00:00:00",
          "2021-11-14T00:00:00",
          "2021-11-15T00:00:00",
          "2021-11-16T00:00:00",
          "2021-11-17T00:00:00",
          "2021-11-18T00:00:00",
          "2021-11-19T00:00:00",
          "2021-11-20T00:00:00",
          "2021-11-21T00:00:00",
          "2021-11-22T00:00:00",
          "2021-11-23T00:00:00",
          "2021-11-24T00:00:00",
          "2021-11-25T00:00:00",
          "2021-11-26T00:00:00",
          "2021-11-27T00:00:00",
          "2021-11-28T00:00:00",
          "2021-11-29T00:00:00",
          "2021-11-30T00:00:00",
          "2021-12-01T00:00:00",
          "2021-12-02T00:00:00",
          "2021-12-03T00:00:00",
          "2021-12-04T00:00:00",
          "2021-12-05T00:00:00",
          "2021-12-06T00:00:00",
          "2021-12-07T00:00:00",
          "2021-12-08T00:00:00",
          "2021-12-09T00:00:00",
          "2021-12-10T00:00:00",
          "2021-12-11T00:00:00",
          "2021-12-12T00:00:00",
          "2021-12-13T00:00:00",
          "2021-12-14T00:00:00",
          "2021-12-15T00:00:00"
         ],
         "xaxis": "x",
         "yaxis": "y2"
        },
        {
         "line": {
          "color": "#A9B1F5"
         },
         "mode": "lines",
         "name": "MACD",
         "type": "scatter",
         "x": [
          "2021-09-17T00:00:00",
          "2021-09-18T00:00:00",
          "2021-09-19T00:00:00",
          "2021-09-20T00:00:00",
          "2021-09-21T00:00:00",
          "2021-09-22T00:00:00",
          "2021-09-23T00:00:00",
          "2021-09-24T00:00:00",
          "2021-09-25T00:00:00",
          "2021-09-26T00:00:00",
          "2021-09-27T00:00:00",
          "2021-09-28T00:00:00",
          "2021-09-29T00:00:00",
          "2021-09-30T00:00:00",
          "2021-10-01T00:00:00",
          "2021-10-02T00:00:00",
          "2021-10-03T00:00:00",
          "2021-10-04T00:00:00",
          "2021-10-05T00:00:00",
          "2021-10-06T00:00:00",
          "2021-10-07T00:00:00",
          "2021-10-08T00:00:00",
          "2021-10-09T00:00:00",
          "2021-10-10T00:00:00",
          "2021-10-11T00:00:00",
          "2021-10-12T00:00:00",
          "2021-10-13T00:00:00",
          "2021-10-14T00:00:00",
          "2021-10-15T00:00:00",
          "2021-10-16T00:00:00",
          "2021-10-17T00:00:00",
          "2021-10-18T00:00:00",
          "2021-10-19T00:00:00",
          "2021-10-20T00:00:00",
          "2021-10-21T00:00:00",
          "2021-10-22T00:00:00",
          "2021-10-23T00:00:00",
          "2021-10-24T00:00:00",
          "2021-10-25T00:00:00",
          "2021-10-26T00:00:00",
          "2021-10-27T00:00:00",
          "2021-10-28T00:00:00",
          "2021-10-29T00:00:00",
          "2021-10-30T00:00:00",
          "2021-10-31T00:00:00",
          "2021-11-01T00:00:00",
          "2021-11-02T00:00:00",
          "2021-11-03T00:00:00",
          "2021-11-04T00:00:00",
          "2021-11-05T00:00:00",
          "2021-11-06T00:00:00",
          "2021-11-07T00:00:00",
          "2021-11-08T00:00:00",
          "2021-11-09T00:00:00",
          "2021-11-10T00:00:00",
          "2021-11-11T00:00:00",
          "2021-11-12T00:00:00",
          "2021-11-13T00:00:00",
          "2021-11-14T00:00:00",
          "2021-11-15T00:00:00",
          "2021-11-16T00:00:00",
          "2021-11-17T00:00:00",
          "2021-11-18T00:00:00",
          "2021-11-19T00:00:00",
          "2021-11-20T00:00:00",
          "2021-11-21T00:00:00",
          "2021-11-22T00:00:00",
          "2021-11-23T00:00:00",
          "2021-11-24T00:00:00",
          "2021-11-25T00:00:00",
          "2021-11-26T00:00:00",
          "2021-11-27T00:00:00",
          "2021-11-28T00:00:00",
          "2021-11-29T00:00:00",
          "2021-11-30T00:00:00",
          "2021-12-01T00:00:00",
          "2021-12-02T00:00:00",
          "2021-12-03T00:00:00",
          "2021-12-04T00:00:00",
          "2021-12-05T00:00:00",
          "2021-12-06T00:00:00",
          "2021-12-07T00:00:00",
          "2021-12-08T00:00:00",
          "2021-12-09T00:00:00",
          "2021-12-10T00:00:00",
          "2021-12-11T00:00:00",
          "2021-12-12T00:00:00",
          "2021-12-13T00:00:00",
          "2021-12-14T00:00:00",
          "2021-12-15T00:00:00"
         ],
         "xaxis": "x",
         "y": [
          0,
          0.00981196581196575,
          0.011085591837728614,
          -0.008504423006334472,
          -0.03058429876158253,
          -0.028493212259151912,
          -0.016494860016402324,
          -0.02140105287446037,
          -0.028734382858700114,
          -0.031113095719757178,
          -0.039418775645431614,
          -0.052839820878988863,
          -0.05901938827418096,
          -0.06164076571173416,
          -0.05323596722877144,
          -0.04625174087056694,
          -0.02572618756005829,
          -0.012391053911539274,
          -0.0007969628317991972,
          -0.0009019118396176307,
          0.004378847904566108,
          0.009032675648247501,
          0.011905815041180379,
          0.005661057414091397,
          -0.0026225681617086938,
          -0.006729425029794456,
          -0.004230473287927028,
          -0.004019266387170983,
          -0.008051861933448645,
          -0.00875829021690322,
          -0.010647847530528276,
          -0.014025160553675642,
          -0.018760945280601016,
          -0.016848970975136934,
          -0.015294586878547012,
          -0.008789076980893151,
          -0.0003213518248292857,
          -0.0000811528925876992,
          0.016620782486149732,
          0.029245708694719985,
          0.02165275106673681,
          0.017969918155163578,
          0.018222172504726686,
          0.014622404003618472,
          0.012193840032623138,
          0.010303724784320512,
          0.010699745888535839,
          0.015275548794817961,
          0.01446655621375914,
          0.012463310673456407,
          0.010193379715402129,
          0.010380831190255346,
          0.022375206776647394,
          0.024361965919528217,
          0.026231227744639707,
          0.03400194595240946,
          0.0483738539960763,
          0.054495732332327185,
          0.052097822398252225,
          0.044009456240236,
          0.025915044506858775,
          0.006880219992026593,
          0.004755725343744466,
          0.006554987652426902,
          0.004914466809913698,
          0.0028073411719342634,
          -0.0050738238284420145,
          -0.004043126050065071,
          -0.009571290171848768,
          -0.008329010892085709,
          -0.023454529850766015,
          -0.030107805048014136,
          -0.03200985478890028,
          -0.028939268633880744,
          -0.024273262174718813,
          -0.009308462103583492,
          -0.0026630094882655886,
          -0.007262008043349866,
          -0.017459377190001568,
          -0.017416183476523628,
          -0.01692859656737089,
          -0.021913779512423792,
          -0.02524275441795032,
          -0.03749488285483937,
          -0.05339960020163459,
          -0.06015458273599972,
          -0.0642189755166449,
          -0.08197177355827123,
          -0.09049522759591855,
          -0.09804043827959186
         ],
         "yaxis": "y"
        },
        {
         "line": {
          "color": "#FFD1A3"
         },
         "mode": "lines",
         "name": "MACD Signal",
         "type": "scatter",
         "x": [
          "2021-09-17T00:00:00",
          "2021-09-18T00:00:00",
          "2021-09-19T00:00:00",
          "2021-09-20T00:00:00",
          "2021-09-21T00:00:00",
          "2021-09-22T00:00:00",
          "2021-09-23T00:00:00",
          "2021-09-24T00:00:00",
          "2021-09-25T00:00:00",
          "2021-09-26T00:00:00",
          "2021-09-27T00:00:00",
          "2021-09-28T00:00:00",
          "2021-09-29T00:00:00",
          "2021-09-30T00:00:00",
          "2021-10-01T00:00:00",
          "2021-10-02T00:00:00",
          "2021-10-03T00:00:00",
          "2021-10-04T00:00:00",
          "2021-10-05T00:00:00",
          "2021-10-06T00:00:00",
          "2021-10-07T00:00:00",
          "2021-10-08T00:00:00",
          "2021-10-09T00:00:00",
          "2021-10-10T00:00:00",
          "2021-10-11T00:00:00",
          "2021-10-12T00:00:00",
          "2021-10-13T00:00:00",
          "2021-10-14T00:00:00",
          "2021-10-15T00:00:00",
          "2021-10-16T00:00:00",
          "2021-10-17T00:00:00",
          "2021-10-18T00:00:00",
          "2021-10-19T00:00:00",
          "2021-10-20T00:00:00",
          "2021-10-21T00:00:00",
          "2021-10-22T00:00:00",
          "2021-10-23T00:00:00",
          "2021-10-24T00:00:00",
          "2021-10-25T00:00:00",
          "2021-10-26T00:00:00",
          "2021-10-27T00:00:00",
          "2021-10-28T00:00:00",
          "2021-10-29T00:00:00",
          "2021-10-30T00:00:00",
          "2021-10-31T00:00:00",
          "2021-11-01T00:00:00",
          "2021-11-02T00:00:00",
          "2021-11-03T00:00:00",
          "2021-11-04T00:00:00",
          "2021-11-05T00:00:00",
          "2021-11-06T00:00:00",
          "2021-11-07T00:00:00",
          "2021-11-08T00:00:00",
          "2021-11-09T00:00:00",
          "2021-11-10T00:00:00",
          "2021-11-11T00:00:00",
          "2021-11-12T00:00:00",
          "2021-11-13T00:00:00",
          "2021-11-14T00:00:00",
          "2021-11-15T00:00:00",
          "2021-11-16T00:00:00",
          "2021-11-17T00:00:00",
          "2021-11-18T00:00:00",
          "2021-11-19T00:00:00",
          "2021-11-20T00:00:00",
          "2021-11-21T00:00:00",
          "2021-11-22T00:00:00",
          "2021-11-23T00:00:00",
          "2021-11-24T00:00:00",
          "2021-11-25T00:00:00",
          "2021-11-26T00:00:00",
          "2021-11-27T00:00:00",
          "2021-11-28T00:00:00",
          "2021-11-29T00:00:00",
          "2021-11-30T00:00:00",
          "2021-12-01T00:00:00",
          "2021-12-02T00:00:00",
          "2021-12-03T00:00:00",
          "2021-12-04T00:00:00",
          "2021-12-05T00:00:00",
          "2021-12-06T00:00:00",
          "2021-12-07T00:00:00",
          "2021-12-08T00:00:00",
          "2021-12-09T00:00:00",
          "2021-12-10T00:00:00",
          "2021-12-11T00:00:00",
          "2021-12-12T00:00:00",
          "2021-12-13T00:00:00",
          "2021-12-14T00:00:00",
          "2021-12-15T00:00:00"
         ],
         "xaxis": "x",
         "y": [
          0,
          0.0019623931623931504,
          0.0037870328974602433,
          0.0013287417167013003,
          -0.005053866378955467,
          -0.009741735554994756,
          -0.01109236044727627,
          -0.01315409893271309,
          -0.016270155717910496,
          -0.019238743718279834,
          -0.02327475010371019,
          -0.029187764258765923,
          -0.03515408906184893,
          -0.040451424391825974,
          -0.043008332959215065,
          -0.04365701454148544,
          -0.04007084914520001,
          -0.034534890098467864,
          -0.027787304645134132,
          -0.022410226084030833,
          -0.017052411286311443,
          -0.011835393899399655,
          -0.00708715211128365,
          -0.004537510206208641,
          -0.004154521797308652,
          -0.004669502443805812,
          -0.004581696612630056,
          -0.004469210567538242,
          -0.005185740840720323,
          -0.005900250715956902,
          -0.006849770078871178,
          -0.008284848173832071,
          -0.01038006759518586,
          -0.011673848271176075,
          -0.012397995992650263,
          -0.011676212190298841,
          -0.00940524011720493,
          -0.007540422672281485,
          -0.0027081816405952414,
          0.0036825964264678044,
          0.007276627354521606,
          0.00941528551465,
          0.011176662912665338,
          0.011865811130855965,
          0.0119314169112094,
          0.011605878485831621,
          0.011424651966372466,
          0.012194831332061565,
          0.01264917630840108,
          0.012612003181412148,
          0.012128278488210145,
          0.011778789028619186,
          0.01389807257822483,
          0.015990851246485506,
          0.018038926546116347,
          0.02123153042737497,
          0.026659995141115236,
          0.03222714257935763,
          0.03620127854313655,
          0.03776291408255644,
          0.03539334016741691,
          0.029690716132338847,
          0.02470371797461997,
          0.021073971910181358,
          0.017842070890127827,
          0.014835124946489114,
          0.010853335191502889,
          0.007874042943189297,
          0.004384976320181684,
          0.0018421788777282055,
          -0.0032171628679706385,
          -0.008595291303979338,
          -0.013278204000963526,
          -0.01641041692754697,
          -0.01798298597698134,
          -0.01624808120230177,
          -0.013531066859494534,
          -0.0122772550962656,
          -0.013313679515012795,
          -0.014134180307314963,
          -0.014693063559326149,
          -0.01613720674994568,
          -0.01795831628354661,
          -0.021865629597805164,
          -0.02817242371857105,
          -0.03456885552205678,
          -0.04049887952097441,
          -0.04879345832843378,
          -0.05713381218193073,
          -0.06531513740146297
         ],
         "yaxis": "y"
        }
       ],
       "layout": {
        "hovermode": "x unified",
        "legend": {
         "x": 0.94,
         "xanchor": "right",
         "y": 0.99,
         "yanchor": "top"
        },
        "margin": {
         "b": 100,
         "l": 50,
         "pad": 4,
         "r": 50,
         "t": 100
        },
        "shapes": [
         {
          "line": {
           "color": "#3FFA68",
           "width": 1
          },
          "opacity": 1,
          "type": "rect",
          "x0": "2021-09-17T00:00:00",
          "x1": "2021-09-20T00:00:00",
          "xref": "x",
          "y0": 0,
          "y1": 1,
          "yref": "y domain"
         },
         {
          "line": {
           "color": "#D61170",
           "width": 1
          },
          "opacity": 1,
          "type": "rect",
          "x0": "2021-09-20T00:00:00",
          "x1": "2021-10-03T00:00:00",
          "xref": "x",
          "y0": 0,
          "y1": 1,
          "yref": "y domain"
         },
         {
          "line": {
           "color": "#3FFA68",
           "width": 1
          },
          "opacity": 1,
          "type": "rect",
          "x0": "2021-10-03T00:00:00",
          "x1": "2021-10-12T00:00:00",
          "xref": "x",
          "y0": 0,
          "y1": 1,
          "yref": "y domain"
         },
         {
          "line": {
           "color": "#D61170",
           "width": 1
          },
          "opacity": 1,
          "type": "rect",
          "x0": "2021-10-12T00:00:00",
          "x1": "2021-10-13T00:00:00",
          "xref": "x",
          "y0": 0,
          "y1": 1,
          "yref": "y domain"
         },
         {
          "line": {
           "color": "#3FFA68",
           "width": 1
          },
          "opacity": 1,
          "type": "rect",
          "x0": "2021-10-13T00:00:00",
          "x1": "2021-10-15T00:00:00",
          "xref": "x",
          "y0": 0,
          "y1": 1,
          "yref": "y domain"
         },
         {
          "line": {
           "color": "#D61170",
           "width": 1
          },
          "opacity": 1,
          "type": "rect",
          "x0": "2021-10-15T00:00:00",
          "x1": "2021-10-22T00:00:00",
          "xref": "x",
          "y0": 0,
          "y1": 1,
          "yref": "y domain"
         },
         {
          "line": {
           "color": "#3FFA68",
           "width": 1
          },
          "opacity": 1,
          "type": "rect",
          "x0": "2021-10-22T00:00:00",
          "x1": "2021-11-01T00:00:00",
          "xref": "x",
          "y0": 0,
          "y1": 1,
          "yref": "y domain"
         },
         {
          "line": {
           "color": "#D61170",
           "width": 1
          },
          "opacity": 1,
          "type": "rect",
          "x0": "2021-11-01T00:00:00",
          "x1": "2021-11-03T00:00:00",
          "xref": "x",
          "y0": 0,
          "y1": 1,
          "yref": "y domain"
         },
         {
          "line": {
           "color": "#3FFA68",
           "width": 1
          },
          "opacity": 1,
          "type": "rect",
          "x0": "2021-11-03T00:00:00",
          "x1": "2021-11-05T00:00:00",
          "xref": "x",
          "y0": 0,
          "y1": 1,
          "yref": "y domain"
         },
         {
          "line": {
           "color": "#D61170",
           "width": 1
          },
          "opacity": 1,
          "type": "rect",
          "x0": "2021-11-05T00:00:00",
          "x1": "2021-11-08T00:00:00",
          "xref": "x",
          "y0": 0,
          "y1": 1,
          "yref": "y domain"
         },
         {
          "line": {
           "color": "#3FFA68",
           "width": 1
          },
          "opacity": 1,
          "type": "rect",
          "x0": "2021-11-08T00:00:00",
          "x1": "2021-11-16T00:00:00",
          "xref": "x",
          "y0": 0,
          "y1": 1,
          "yref": "y domain"
         },
         {
          "line": {
           "color": "#D61170",
           "width": 1
          },
          "opacity": 1,
          "type": "rect",
          "x0": "2021-11-16T00:00:00",
          "x1": "2021-12-01T00:00:00",
          "xref": "x",
          "y0": 0,
          "y1": 1,
          "yref": "y domain"
         },
         {
          "line": {
           "color": "#3FFA68",
           "width": 1
          },
          "opacity": 1,
          "type": "rect",
          "x0": "2021-12-01T00:00:00",
          "x1": "2021-12-04T00:00:00",
          "xref": "x",
          "y0": 0,
          "y1": 1,
          "yref": "y domain"
         },
         {
          "line": {
           "color": "#D61170",
           "width": 1
          },
          "opacity": 1,
          "type": "rect",
          "x0": "2021-12-04T00:00:00",
          "x1": "2021-12-15T15:34:01.618570",
          "xref": "x",
          "y0": 0,
          "y1": 1,
          "yref": "y domain"
         }
        ],
        "template": {
         "data": {
          "bar": [
           {
            "error_x": {
             "color": "#2a3f5f"
            },
            "error_y": {
             "color": "#2a3f5f"
            },
            "marker": {
             "line": {
              "color": "#E5ECF6",
              "width": 0.5
             }
            },
            "type": "bar"
           }
          ],
          "barpolar": [
           {
            "marker": {
             "line": {
              "color": "#E5ECF6",
              "width": 0.5
             }
            },
            "type": "barpolar"
           }
          ],
          "carpet": [
           {
            "aaxis": {
             "endlinecolor": "#2a3f5f",
             "gridcolor": "white",
             "linecolor": "white",
             "minorgridcolor": "white",
             "startlinecolor": "#2a3f5f"
            },
            "baxis": {
             "endlinecolor": "#2a3f5f",
             "gridcolor": "white",
             "linecolor": "white",
             "minorgridcolor": "white",
             "startlinecolor": "#2a3f5f"
            },
            "type": "carpet"
           }
          ],
          "choropleth": [
           {
            "colorbar": {
             "outlinewidth": 0,
             "ticks": ""
            },
            "type": "choropleth"
           }
          ],
          "contour": [
           {
            "colorbar": {
             "outlinewidth": 0,
             "ticks": ""
            },
            "colorscale": [
             [
              0,
              "#0d0887"
             ],
             [
              0.1111111111111111,
              "#46039f"
             ],
             [
              0.2222222222222222,
              "#7201a8"
             ],
             [
              0.3333333333333333,
              "#9c179e"
             ],
             [
              0.4444444444444444,
              "#bd3786"
             ],
             [
              0.5555555555555556,
              "#d8576b"
             ],
             [
              0.6666666666666666,
              "#ed7953"
             ],
             [
              0.7777777777777778,
              "#fb9f3a"
             ],
             [
              0.8888888888888888,
              "#fdca26"
             ],
             [
              1,
              "#f0f921"
             ]
            ],
            "type": "contour"
           }
          ],
          "contourcarpet": [
           {
            "colorbar": {
             "outlinewidth": 0,
             "ticks": ""
            },
            "type": "contourcarpet"
           }
          ],
          "heatmap": [
           {
            "colorbar": {
             "outlinewidth": 0,
             "ticks": ""
            },
            "colorscale": [
             [
              0,
              "#0d0887"
             ],
             [
              0.1111111111111111,
              "#46039f"
             ],
             [
              0.2222222222222222,
              "#7201a8"
             ],
             [
              0.3333333333333333,
              "#9c179e"
             ],
             [
              0.4444444444444444,
              "#bd3786"
             ],
             [
              0.5555555555555556,
              "#d8576b"
             ],
             [
              0.6666666666666666,
              "#ed7953"
             ],
             [
              0.7777777777777778,
              "#fb9f3a"
             ],
             [
              0.8888888888888888,
              "#fdca26"
             ],
             [
              1,
              "#f0f921"
             ]
            ],
            "type": "heatmap"
           }
          ],
          "heatmapgl": [
           {
            "colorbar": {
             "outlinewidth": 0,
             "ticks": ""
            },
            "colorscale": [
             [
              0,
              "#0d0887"
             ],
             [
              0.1111111111111111,
              "#46039f"
             ],
             [
              0.2222222222222222,
              "#7201a8"
             ],
             [
              0.3333333333333333,
              "#9c179e"
             ],
             [
              0.4444444444444444,
              "#bd3786"
             ],
             [
              0.5555555555555556,
              "#d8576b"
             ],
             [
              0.6666666666666666,
              "#ed7953"
             ],
             [
              0.7777777777777778,
              "#fb9f3a"
             ],
             [
              0.8888888888888888,
              "#fdca26"
             ],
             [
              1,
              "#f0f921"
             ]
            ],
            "type": "heatmapgl"
           }
          ],
          "histogram": [
           {
            "marker": {
             "colorbar": {
              "outlinewidth": 0,
              "ticks": ""
             }
            },
            "type": "histogram"
           }
          ],
          "histogram2d": [
           {
            "colorbar": {
             "outlinewidth": 0,
             "ticks": ""
            },
            "colorscale": [
             [
              0,
              "#0d0887"
             ],
             [
              0.1111111111111111,
              "#46039f"
             ],
             [
              0.2222222222222222,
              "#7201a8"
             ],
             [
              0.3333333333333333,
              "#9c179e"
             ],
             [
              0.4444444444444444,
              "#bd3786"
             ],
             [
              0.5555555555555556,
              "#d8576b"
             ],
             [
              0.6666666666666666,
              "#ed7953"
             ],
             [
              0.7777777777777778,
              "#fb9f3a"
             ],
             [
              0.8888888888888888,
              "#fdca26"
             ],
             [
              1,
              "#f0f921"
             ]
            ],
            "type": "histogram2d"
           }
          ],
          "histogram2dcontour": [
           {
            "colorbar": {
             "outlinewidth": 0,
             "ticks": ""
            },
            "colorscale": [
             [
              0,
              "#0d0887"
             ],
             [
              0.1111111111111111,
              "#46039f"
             ],
             [
              0.2222222222222222,
              "#7201a8"
             ],
             [
              0.3333333333333333,
              "#9c179e"
             ],
             [
              0.4444444444444444,
              "#bd3786"
             ],
             [
              0.5555555555555556,
              "#d8576b"
             ],
             [
              0.6666666666666666,
              "#ed7953"
             ],
             [
              0.7777777777777778,
              "#fb9f3a"
             ],
             [
              0.8888888888888888,
              "#fdca26"
             ],
             [
              1,
              "#f0f921"
             ]
            ],
            "type": "histogram2dcontour"
           }
          ],
          "mesh3d": [
           {
            "colorbar": {
             "outlinewidth": 0,
             "ticks": ""
            },
            "type": "mesh3d"
           }
          ],
          "parcoords": [
           {
            "line": {
             "colorbar": {
              "outlinewidth": 0,
              "ticks": ""
             }
            },
            "type": "parcoords"
           }
          ],
          "pie": [
           {
            "automargin": true,
            "type": "pie"
           }
          ],
          "scatter": [
           {
            "marker": {
             "colorbar": {
              "outlinewidth": 0,
              "ticks": ""
             }
            },
            "type": "scatter"
           }
          ],
          "scatter3d": [
           {
            "line": {
             "colorbar": {
              "outlinewidth": 0,
              "ticks": ""
             }
            },
            "marker": {
             "colorbar": {
              "outlinewidth": 0,
              "ticks": ""
             }
            },
            "type": "scatter3d"
           }
          ],
          "scattercarpet": [
           {
            "marker": {
             "colorbar": {
              "outlinewidth": 0,
              "ticks": ""
             }
            },
            "type": "scattercarpet"
           }
          ],
          "scattergeo": [
           {
            "marker": {
             "colorbar": {
              "outlinewidth": 0,
              "ticks": ""
             }
            },
            "type": "scattergeo"
           }
          ],
          "scattergl": [
           {
            "marker": {
             "colorbar": {
              "outlinewidth": 0,
              "ticks": ""
             }
            },
            "type": "scattergl"
           }
          ],
          "scattermapbox": [
           {
            "marker": {
             "colorbar": {
              "outlinewidth": 0,
              "ticks": ""
             }
            },
            "type": "scattermapbox"
           }
          ],
          "scatterpolar": [
           {
            "marker": {
             "colorbar": {
              "outlinewidth": 0,
              "ticks": ""
             }
            },
            "type": "scatterpolar"
           }
          ],
          "scatterpolargl": [
           {
            "marker": {
             "colorbar": {
              "outlinewidth": 0,
              "ticks": ""
             }
            },
            "type": "scatterpolargl"
           }
          ],
          "scatterternary": [
           {
            "marker": {
             "colorbar": {
              "outlinewidth": 0,
              "ticks": ""
             }
            },
            "type": "scatterternary"
           }
          ],
          "surface": [
           {
            "colorbar": {
             "outlinewidth": 0,
             "ticks": ""
            },
            "colorscale": [
             [
              0,
              "#0d0887"
             ],
             [
              0.1111111111111111,
              "#46039f"
             ],
             [
              0.2222222222222222,
              "#7201a8"
             ],
             [
              0.3333333333333333,
              "#9c179e"
             ],
             [
              0.4444444444444444,
              "#bd3786"
             ],
             [
              0.5555555555555556,
              "#d8576b"
             ],
             [
              0.6666666666666666,
              "#ed7953"
             ],
             [
              0.7777777777777778,
              "#fb9f3a"
             ],
             [
              0.8888888888888888,
              "#fdca26"
             ],
             [
              1,
              "#f0f921"
             ]
            ],
            "type": "surface"
           }
          ],
          "table": [
           {
            "cells": {
             "fill": {
              "color": "#EBF0F8"
             },
             "line": {
              "color": "white"
             }
            },
            "header": {
             "fill": {
              "color": "#C8D4E3"
             },
             "line": {
              "color": "white"
             }
            },
            "type": "table"
           }
          ]
         },
         "layout": {
          "annotationdefaults": {
           "arrowcolor": "#2a3f5f",
           "arrowhead": 0,
           "arrowwidth": 1
          },
          "autotypenumbers": "strict",
          "coloraxis": {
           "colorbar": {
            "outlinewidth": 0,
            "ticks": ""
           }
          },
          "colorscale": {
           "diverging": [
            [
             0,
             "#8e0152"
            ],
            [
             0.1,
             "#c51b7d"
            ],
            [
             0.2,
             "#de77ae"
            ],
            [
             0.3,
             "#f1b6da"
            ],
            [
             0.4,
             "#fde0ef"
            ],
            [
             0.5,
             "#f7f7f7"
            ],
            [
             0.6,
             "#e6f5d0"
            ],
            [
             0.7,
             "#b8e186"
            ],
            [
             0.8,
             "#7fbc41"
            ],
            [
             0.9,
             "#4d9221"
            ],
            [
             1,
             "#276419"
            ]
           ],
           "sequential": [
            [
             0,
             "#0d0887"
            ],
            [
             0.1111111111111111,
             "#46039f"
            ],
            [
             0.2222222222222222,
             "#7201a8"
            ],
            [
             0.3333333333333333,
             "#9c179e"
            ],
            [
             0.4444444444444444,
             "#bd3786"
            ],
            [
             0.5555555555555556,
             "#d8576b"
            ],
            [
             0.6666666666666666,
             "#ed7953"
            ],
            [
             0.7777777777777778,
             "#fb9f3a"
            ],
            [
             0.8888888888888888,
             "#fdca26"
            ],
            [
             1,
             "#f0f921"
            ]
           ],
           "sequentialminus": [
            [
             0,
             "#0d0887"
            ],
            [
             0.1111111111111111,
             "#46039f"
            ],
            [
             0.2222222222222222,
             "#7201a8"
            ],
            [
             0.3333333333333333,
             "#9c179e"
            ],
            [
             0.4444444444444444,
             "#bd3786"
            ],
            [
             0.5555555555555556,
             "#d8576b"
            ],
            [
             0.6666666666666666,
             "#ed7953"
            ],
            [
             0.7777777777777778,
             "#fb9f3a"
            ],
            [
             0.8888888888888888,
             "#fdca26"
            ],
            [
             1,
             "#f0f921"
            ]
           ]
          },
          "colorway": [
           "#636efa",
           "#EF553B",
           "#00cc96",
           "#ab63fa",
           "#FFA15A",
           "#19d3f3",
           "#FF6692",
           "#B6E880",
           "#FF97FF",
           "#FECB52"
          ],
          "font": {
           "color": "#2a3f5f"
          },
          "geo": {
           "bgcolor": "white",
           "lakecolor": "white",
           "landcolor": "#E5ECF6",
           "showlakes": true,
           "showland": true,
           "subunitcolor": "white"
          },
          "hoverlabel": {
           "align": "left"
          },
          "hovermode": "closest",
          "mapbox": {
           "style": "light"
          },
          "paper_bgcolor": "white",
          "plot_bgcolor": "#E5ECF6",
          "polar": {
           "angularaxis": {
            "gridcolor": "white",
            "linecolor": "white",
            "ticks": ""
           },
           "bgcolor": "#E5ECF6",
           "radialaxis": {
            "gridcolor": "white",
            "linecolor": "white",
            "ticks": ""
           }
          },
          "scene": {
           "xaxis": {
            "backgroundcolor": "#E5ECF6",
            "gridcolor": "white",
            "gridwidth": 2,
            "linecolor": "white",
            "showbackground": true,
            "ticks": "",
            "zerolinecolor": "white"
           },
           "yaxis": {
            "backgroundcolor": "#E5ECF6",
            "gridcolor": "white",
            "gridwidth": 2,
            "linecolor": "white",
            "showbackground": true,
            "ticks": "",
            "zerolinecolor": "white"
           },
           "zaxis": {
            "backgroundcolor": "#E5ECF6",
            "gridcolor": "white",
            "gridwidth": 2,
            "linecolor": "white",
            "showbackground": true,
            "ticks": "",
            "zerolinecolor": "white"
           }
          },
          "shapedefaults": {
           "line": {
            "color": "#2a3f5f"
           }
          },
          "ternary": {
           "aaxis": {
            "gridcolor": "white",
            "linecolor": "white",
            "ticks": ""
           },
           "baxis": {
            "gridcolor": "white",
            "linecolor": "white",
            "ticks": ""
           },
           "bgcolor": "#E5ECF6",
           "caxis": {
            "gridcolor": "white",
            "linecolor": "white",
            "ticks": ""
           }
          },
          "title": {
           "x": 0.05
          },
          "xaxis": {
           "automargin": true,
           "gridcolor": "white",
           "linecolor": "white",
           "ticks": "",
           "title": {
            "standoff": 15
           },
           "zerolinecolor": "white",
           "zerolinewidth": 2
          },
          "yaxis": {
           "automargin": true,
           "gridcolor": "white",
           "linecolor": "white",
           "ticks": "",
           "title": {
            "standoff": 15
           },
           "zerolinecolor": "white",
           "zerolinewidth": 2
          }
         }
        },
        "title": {
         "text": "OHLC Chart for ALGO with time interval daily"
        },
        "xaxis": {
         "anchor": "y",
         "domain": [
          0,
          0.94
         ],
         "rangeselector": {
          "buttons": [
           {
            "count": 1,
            "label": "1m",
            "step": "month",
            "stepmode": "backward"
           },
           {
            "count": 6,
            "label": "6m",
            "step": "month",
            "stepmode": "backward"
           },
           {
            "count": 1,
            "label": "YTD",
            "step": "year",
            "stepmode": "todate"
           },
           {
            "count": 1,
            "label": "1y",
            "step": "year",
            "stepmode": "backward"
           },
           {
            "step": "all"
           }
          ]
         },
         "rangeslider": {
          "visible": true
         },
         "tickformat": "%d %b (%a)",
         "type": "date"
        },
        "yaxis": {
         "anchor": "x",
         "domain": [
          0,
          1
         ],
         "range": [
          -0.09804043827959186,
          0.054495732332327185
         ],
         "showgrid": false,
         "showticklabels": false,
         "zeroline": false
        },
        "yaxis2": {
         "anchor": "x",
         "overlaying": "y",
         "side": "right"
        }
       }
      }
     },
     "metadata": {},
     "output_type": "display_data"
    },
    {
     "data": {
      "application/vnd.plotly.v1+json": {
       "config": {
        "plotlyServerURL": "https://plot.ly"
       },
       "data": [
        {
         "close": [
          0.0000459,
          0.0000426,
          0.0000543,
          0.0000508,
          0.0000493,
          0.0000477,
          0.0000473,
          0.0000439,
          0.0000495,
          0.0000458,
          0.0000452,
          0.0000466,
          0.0000471,
          0.0000428,
          0.0000425,
          0.0000374,
          0.000043,
          0.0000423,
          0.0000391,
          0.0000385,
          0.0000373,
          0.0000338,
          0.0000381,
          0.0000343,
          0.0000346,
          0.0000348,
          0.0000402,
          0.0000419,
          0.000039,
          0.0000374,
          0.0000358,
          0.0000326,
          0.0000321,
          0.0000326,
          0.0000322,
          0.0000326,
          0.0000307,
          0.0000296,
          0.0000305,
          0.0000324,
          0.0000292,
          0.0000302,
          0.0000295
         ],
         "decreasing": {
          "line": {
           "color": "gray"
          }
         },
         "high": [
          0.0000578,
          0.0000527,
          0.0000568,
          0.0000546,
          0.0000517,
          0.0000511,
          0.0000505,
          0.0000477,
          0.0000507,
          0.0000497,
          0.0000462,
          0.0000494,
          0.0000494,
          0.0000471,
          0.0000442,
          0.0000433,
          0.0000468,
          0.0000445,
          0.0000423,
          0.0000412,
          0.0000397,
          0.0000373,
          0.0000432,
          0.0000383,
          0.0000369,
          0.0000351,
          0.0000406,
          0.0000484,
          0.0000431,
          0.0000391,
          0.0000398,
          0.0000359,
          0.0000338,
          0.0000333,
          0.0000345,
          0.0000333,
          0.0000329,
          0.000032,
          0.000031,
          0.0000335,
          0.0000326,
          0.0000315,
          0.0000304
         ],
         "increasing": {
          "line": {
           "color": "cyan"
          }
         },
         "low": [
          0.0000402,
          0.0000363,
          0.000039,
          0.0000477,
          0.0000485,
          0.0000454,
          0.0000461,
          0.0000401,
          0.0000422,
          0.0000449,
          0.0000443,
          0.0000451,
          0.0000457,
          0.0000398,
          0.0000414,
          0.0000357,
          0.0000369,
          0.0000404,
          0.0000386,
          0.0000377,
          0.0000365,
          0.0000319,
          0.0000336,
          0.0000321,
          0.0000339,
          0.0000321,
          0.000034,
          0.0000385,
          0.0000384,
          0.0000362,
          0.0000347,
          0.0000275,
          0.0000303,
          0.000029,
          0.0000317,
          0.0000316,
          0.0000303,
          0.0000295,
          0.0000293,
          0.0000299,
          0.000028,
          0.0000287,
          0.0000293
         ],
         "name": "OHLC",
         "open": [
          0.0000554,
          0.0000469,
          0.0000426,
          0.0000542,
          0.0000509,
          0.0000493,
          0.0000477,
          0.0000472,
          0.0000437,
          0.0000495,
          0.0000459,
          0.0000453,
          0.0000467,
          0.0000471,
          0.000043,
          0.0000425,
          0.0000376,
          0.0000432,
          0.0000423,
          0.0000392,
          0.0000385,
          0.0000373,
          0.000034,
          0.0000381,
          0.0000343,
          0.0000346,
          0.0000347,
          0.0000402,
          0.0000418,
          0.0000391,
          0.0000375,
          0.0000359,
          0.0000326,
          0.0000321,
          0.0000326,
          0.0000322,
          0.0000326,
          0.0000307,
          0.0000296,
          0.0000306,
          0.0000325,
          0.0000291,
          0.0000302
         ],
         "type": "ohlc",
         "x": [
          "2021-11-03T00:00:00",
          "2021-11-04T00:00:00",
          "2021-11-05T00:00:00",
          "2021-11-06T00:00:00",
          "2021-11-07T00:00:00",
          "2021-11-08T00:00:00",
          "2021-11-09T00:00:00",
          "2021-11-10T00:00:00",
          "2021-11-11T00:00:00",
          "2021-11-12T00:00:00",
          "2021-11-13T00:00:00",
          "2021-11-14T00:00:00",
          "2021-11-15T00:00:00",
          "2021-11-16T00:00:00",
          "2021-11-17T00:00:00",
          "2021-11-18T00:00:00",
          "2021-11-19T00:00:00",
          "2021-11-20T00:00:00",
          "2021-11-21T00:00:00",
          "2021-11-22T00:00:00",
          "2021-11-23T00:00:00",
          "2021-11-24T00:00:00",
          "2021-11-25T00:00:00",
          "2021-11-26T00:00:00",
          "2021-11-27T00:00:00",
          "2021-11-28T00:00:00",
          "2021-11-29T00:00:00",
          "2021-11-30T00:00:00",
          "2021-12-01T00:00:00",
          "2021-12-02T00:00:00",
          "2021-12-03T00:00:00",
          "2021-12-04T00:00:00",
          "2021-12-05T00:00:00",
          "2021-12-06T00:00:00",
          "2021-12-07T00:00:00",
          "2021-12-08T00:00:00",
          "2021-12-09T00:00:00",
          "2021-12-10T00:00:00",
          "2021-12-11T00:00:00",
          "2021-12-12T00:00:00",
          "2021-12-13T00:00:00",
          "2021-12-14T00:00:00",
          "2021-12-15T00:00:00"
         ],
         "xaxis": "x",
         "yaxis": "y2"
        },
        {
         "line": {
          "color": "#A9B1F5"
         },
         "mode": "lines",
         "name": "MACD",
         "type": "scatter",
         "x": [
          "2021-11-03T00:00:00",
          "2021-11-04T00:00:00",
          "2021-11-05T00:00:00",
          "2021-11-06T00:00:00",
          "2021-11-07T00:00:00",
          "2021-11-08T00:00:00",
          "2021-11-09T00:00:00",
          "2021-11-10T00:00:00",
          "2021-11-11T00:00:00",
          "2021-11-12T00:00:00",
          "2021-11-13T00:00:00",
          "2021-11-14T00:00:00",
          "2021-11-15T00:00:00",
          "2021-11-16T00:00:00",
          "2021-11-17T00:00:00",
          "2021-11-18T00:00:00",
          "2021-11-19T00:00:00",
          "2021-11-20T00:00:00",
          "2021-11-21T00:00:00",
          "2021-11-22T00:00:00",
          "2021-11-23T00:00:00",
          "2021-11-24T00:00:00",
          "2021-11-25T00:00:00",
          "2021-11-26T00:00:00",
          "2021-11-27T00:00:00",
          "2021-11-28T00:00:00",
          "2021-11-29T00:00:00",
          "2021-11-30T00:00:00",
          "2021-12-01T00:00:00",
          "2021-12-02T00:00:00",
          "2021-12-03T00:00:00",
          "2021-12-04T00:00:00",
          "2021-12-05T00:00:00",
          "2021-12-06T00:00:00",
          "2021-12-07T00:00:00",
          "2021-12-08T00:00:00",
          "2021-12-09T00:00:00",
          "2021-12-10T00:00:00",
          "2021-12-11T00:00:00",
          "2021-12-12T00:00:00",
          "2021-12-13T00:00:00",
          "2021-12-14T00:00:00",
          "2021-12-15T00:00:00"
         ],
         "xaxis": "x",
         "y": [
          0,
          -2.632478632478511e-7,
          4.668371198285871e-7,
          7.543186636083723e-7,
          8.512991476112463e-7,
          7.89944265874336e-7,
          7.009631560704938e-7,
          3.520353560125506e-7,
          5.213707222803993e-7,
          3.529426391879107e-7,
          1.6909792862612326e-7,
          1.348139197400935e-7,
          1.463029279377611e-7,
          -1.8938292521719792e-7,
          -4.741580759771492e-7,
          -0.0000010987066063335055,
          -0.0000011287807357427998,
          -0.0000011953199455564287,
          -0.000001489100580646241,
          -0.000001750164034569641,
          -0.000002030482535112818,
          -0.0000025061681690413817,
          -0.0000025072760797370693,
          -0.0000027827050572936643,
          -0.0000029428536288004785,
          -0.0000030188349468892806,
          -0.000002613192561381774,
          -0.000002129989067763271,
          -0.0000019584764836717093,
          -0.0000019294170347832,
          -0.0000020122973294171774,
          -0.000002309570525162691,
          -0.0000025560430229671475,
          -0.000002680133520985265,
          -0.0000027787214209027588,
          -0.00000279238748014407,
          -0.00000292283937863633,
          -0.000003079485858895097,
          -0.000003095325855007863,
          -0.00000292089478808757,
          -0.0000030062163762487374,
          -0.0000029590328185260238,
          -0.000002944184927791407
         ],
         "yaxis": "y"
        },
        {
         "line": {
          "color": "#FFD1A3"
         },
         "mode": "lines",
         "name": "MACD Signal",
         "type": "scatter",
         "x": [
          "2021-11-03T00:00:00",
          "2021-11-04T00:00:00",
          "2021-11-05T00:00:00",
          "2021-11-06T00:00:00",
          "2021-11-07T00:00:00",
          "2021-11-08T00:00:00",
          "2021-11-09T00:00:00",
          "2021-11-10T00:00:00",
          "2021-11-11T00:00:00",
          "2021-11-12T00:00:00",
          "2021-11-13T00:00:00",
          "2021-11-14T00:00:00",
          "2021-11-15T00:00:00",
          "2021-11-16T00:00:00",
          "2021-11-17T00:00:00",
          "2021-11-18T00:00:00",
          "2021-11-19T00:00:00",
          "2021-11-20T00:00:00",
          "2021-11-21T00:00:00",
          "2021-11-22T00:00:00",
          "2021-11-23T00:00:00",
          "2021-11-24T00:00:00",
          "2021-11-25T00:00:00",
          "2021-11-26T00:00:00",
          "2021-11-27T00:00:00",
          "2021-11-28T00:00:00",
          "2021-11-29T00:00:00",
          "2021-11-30T00:00:00",
          "2021-12-01T00:00:00",
          "2021-12-02T00:00:00",
          "2021-12-03T00:00:00",
          "2021-12-04T00:00:00",
          "2021-12-05T00:00:00",
          "2021-12-06T00:00:00",
          "2021-12-07T00:00:00",
          "2021-12-08T00:00:00",
          "2021-12-09T00:00:00",
          "2021-12-10T00:00:00",
          "2021-12-11T00:00:00",
          "2021-12-12T00:00:00",
          "2021-12-13T00:00:00",
          "2021-12-14T00:00:00",
          "2021-12-15T00:00:00"
         ],
         "xaxis": "x",
         "y": [
          0,
          -5.2649572649570225e-8,
          5.124776584606124e-8,
          1.9186194539852346e-7,
          3.23749385841068e-7,
          4.1698836184772165e-7,
          4.737833206922761e-7,
          4.49433727756331e-7,
          4.638211266611447e-7,
          4.416454291664979e-7,
          3.87135929058423e-7,
          3.366715271947571e-7,
          2.985978073433579e-7,
          2.0100166083124674e-7,
          6.596971346956756e-8,
          -1.6696555049104705e-7,
          -3.593285875413976e-7,
          -5.26526859144404e-7,
          -7.190416034447713e-7,
          -9.252660896697453e-7,
          -0.0000011463093787583599,
          -0.0000014182811368149643,
          -0.0000016360801253993855,
          -0.0000018654051117782416,
          -0.000002080894815182689,
          -0.0000022684828415240075,
          -0.0000023374247854955607,
          -0.000002295937641949103,
          -0.0000022284454102936243,
          -0.0000021686397351915393,
          -0.000002137371254036667,
          -0.000002171811108261872,
          -0.0000022486574912029273,
          -0.000002334952697159395,
          -0.0000024237064419080678,
          -0.0000024974426495552682,
          -0.0000025825219953714804,
          -0.000002681914768076204,
          -0.000002764596985462536,
          -0.000002795856545987543,
          -0.000002837928512039782,
          -0.00000286214937333703,
          -0.0000028785564842279056
         ],
         "yaxis": "y"
        }
       ],
       "layout": {
        "hovermode": "x unified",
        "legend": {
         "x": 0.94,
         "xanchor": "right",
         "y": 0.99,
         "yanchor": "top"
        },
        "margin": {
         "b": 100,
         "l": 50,
         "pad": 4,
         "r": 50,
         "t": 100
        },
        "shapes": [
         {
          "line": {
           "color": "#3FFA68",
           "width": 1
          },
          "opacity": 1,
          "type": "rect",
          "x0": "2021-11-03T00:00:00",
          "x1": "2021-11-04T00:00:00",
          "xref": "x",
          "y0": 0,
          "y1": 1,
          "yref": "y domain"
         },
         {
          "line": {
           "color": "#D61170",
           "width": 1
          },
          "opacity": 1,
          "type": "rect",
          "x0": "2021-11-04T00:00:00",
          "x1": "2021-11-05T00:00:00",
          "xref": "x",
          "y0": 0,
          "y1": 1,
          "yref": "y domain"
         },
         {
          "line": {
           "color": "#3FFA68",
           "width": 1
          },
          "opacity": 1,
          "type": "rect",
          "x0": "2021-11-05T00:00:00",
          "x1": "2021-11-10T00:00:00",
          "xref": "x",
          "y0": 0,
          "y1": 1,
          "yref": "y domain"
         },
         {
          "line": {
           "color": "#D61170",
           "width": 1
          },
          "opacity": 1,
          "type": "rect",
          "x0": "2021-11-10T00:00:00",
          "x1": "2021-11-11T00:00:00",
          "xref": "x",
          "y0": 0,
          "y1": 1,
          "yref": "y domain"
         },
         {
          "line": {
           "color": "#3FFA68",
           "width": 1
          },
          "opacity": 1,
          "type": "rect",
          "x0": "2021-11-11T00:00:00",
          "x1": "2021-11-12T00:00:00",
          "xref": "x",
          "y0": 0,
          "y1": 1,
          "yref": "y domain"
         },
         {
          "line": {
           "color": "#D61170",
           "width": 1
          },
          "opacity": 1,
          "type": "rect",
          "x0": "2021-11-12T00:00:00",
          "x1": "2021-11-30T00:00:00",
          "xref": "x",
          "y0": 0,
          "y1": 1,
          "yref": "y domain"
         },
         {
          "line": {
           "color": "#3FFA68",
           "width": 1
          },
          "opacity": 1,
          "type": "rect",
          "x0": "2021-11-30T00:00:00",
          "x1": "2021-12-04T00:00:00",
          "xref": "x",
          "y0": 0,
          "y1": 1,
          "yref": "y domain"
         },
         {
          "line": {
           "color": "#D61170",
           "width": 1
          },
          "opacity": 1,
          "type": "rect",
          "x0": "2021-12-04T00:00:00",
          "x1": "2021-12-15T15:34:01.658203",
          "xref": "x",
          "y0": 0,
          "y1": 1,
          "yref": "y domain"
         }
        ],
        "template": {
         "data": {
          "bar": [
           {
            "error_x": {
             "color": "#2a3f5f"
            },
            "error_y": {
             "color": "#2a3f5f"
            },
            "marker": {
             "line": {
              "color": "#E5ECF6",
              "width": 0.5
             }
            },
            "type": "bar"
           }
          ],
          "barpolar": [
           {
            "marker": {
             "line": {
              "color": "#E5ECF6",
              "width": 0.5
             }
            },
            "type": "barpolar"
           }
          ],
          "carpet": [
           {
            "aaxis": {
             "endlinecolor": "#2a3f5f",
             "gridcolor": "white",
             "linecolor": "white",
             "minorgridcolor": "white",
             "startlinecolor": "#2a3f5f"
            },
            "baxis": {
             "endlinecolor": "#2a3f5f",
             "gridcolor": "white",
             "linecolor": "white",
             "minorgridcolor": "white",
             "startlinecolor": "#2a3f5f"
            },
            "type": "carpet"
           }
          ],
          "choropleth": [
           {
            "colorbar": {
             "outlinewidth": 0,
             "ticks": ""
            },
            "type": "choropleth"
           }
          ],
          "contour": [
           {
            "colorbar": {
             "outlinewidth": 0,
             "ticks": ""
            },
            "colorscale": [
             [
              0,
              "#0d0887"
             ],
             [
              0.1111111111111111,
              "#46039f"
             ],
             [
              0.2222222222222222,
              "#7201a8"
             ],
             [
              0.3333333333333333,
              "#9c179e"
             ],
             [
              0.4444444444444444,
              "#bd3786"
             ],
             [
              0.5555555555555556,
              "#d8576b"
             ],
             [
              0.6666666666666666,
              "#ed7953"
             ],
             [
              0.7777777777777778,
              "#fb9f3a"
             ],
             [
              0.8888888888888888,
              "#fdca26"
             ],
             [
              1,
              "#f0f921"
             ]
            ],
            "type": "contour"
           }
          ],
          "contourcarpet": [
           {
            "colorbar": {
             "outlinewidth": 0,
             "ticks": ""
            },
            "type": "contourcarpet"
           }
          ],
          "heatmap": [
           {
            "colorbar": {
             "outlinewidth": 0,
             "ticks": ""
            },
            "colorscale": [
             [
              0,
              "#0d0887"
             ],
             [
              0.1111111111111111,
              "#46039f"
             ],
             [
              0.2222222222222222,
              "#7201a8"
             ],
             [
              0.3333333333333333,
              "#9c179e"
             ],
             [
              0.4444444444444444,
              "#bd3786"
             ],
             [
              0.5555555555555556,
              "#d8576b"
             ],
             [
              0.6666666666666666,
              "#ed7953"
             ],
             [
              0.7777777777777778,
              "#fb9f3a"
             ],
             [
              0.8888888888888888,
              "#fdca26"
             ],
             [
              1,
              "#f0f921"
             ]
            ],
            "type": "heatmap"
           }
          ],
          "heatmapgl": [
           {
            "colorbar": {
             "outlinewidth": 0,
             "ticks": ""
            },
            "colorscale": [
             [
              0,
              "#0d0887"
             ],
             [
              0.1111111111111111,
              "#46039f"
             ],
             [
              0.2222222222222222,
              "#7201a8"
             ],
             [
              0.3333333333333333,
              "#9c179e"
             ],
             [
              0.4444444444444444,
              "#bd3786"
             ],
             [
              0.5555555555555556,
              "#d8576b"
             ],
             [
              0.6666666666666666,
              "#ed7953"
             ],
             [
              0.7777777777777778,
              "#fb9f3a"
             ],
             [
              0.8888888888888888,
              "#fdca26"
             ],
             [
              1,
              "#f0f921"
             ]
            ],
            "type": "heatmapgl"
           }
          ],
          "histogram": [
           {
            "marker": {
             "colorbar": {
              "outlinewidth": 0,
              "ticks": ""
             }
            },
            "type": "histogram"
           }
          ],
          "histogram2d": [
           {
            "colorbar": {
             "outlinewidth": 0,
             "ticks": ""
            },
            "colorscale": [
             [
              0,
              "#0d0887"
             ],
             [
              0.1111111111111111,
              "#46039f"
             ],
             [
              0.2222222222222222,
              "#7201a8"
             ],
             [
              0.3333333333333333,
              "#9c179e"
             ],
             [
              0.4444444444444444,
              "#bd3786"
             ],
             [
              0.5555555555555556,
              "#d8576b"
             ],
             [
              0.6666666666666666,
              "#ed7953"
             ],
             [
              0.7777777777777778,
              "#fb9f3a"
             ],
             [
              0.8888888888888888,
              "#fdca26"
             ],
             [
              1,
              "#f0f921"
             ]
            ],
            "type": "histogram2d"
           }
          ],
          "histogram2dcontour": [
           {
            "colorbar": {
             "outlinewidth": 0,
             "ticks": ""
            },
            "colorscale": [
             [
              0,
              "#0d0887"
             ],
             [
              0.1111111111111111,
              "#46039f"
             ],
             [
              0.2222222222222222,
              "#7201a8"
             ],
             [
              0.3333333333333333,
              "#9c179e"
             ],
             [
              0.4444444444444444,
              "#bd3786"
             ],
             [
              0.5555555555555556,
              "#d8576b"
             ],
             [
              0.6666666666666666,
              "#ed7953"
             ],
             [
              0.7777777777777778,
              "#fb9f3a"
             ],
             [
              0.8888888888888888,
              "#fdca26"
             ],
             [
              1,
              "#f0f921"
             ]
            ],
            "type": "histogram2dcontour"
           }
          ],
          "mesh3d": [
           {
            "colorbar": {
             "outlinewidth": 0,
             "ticks": ""
            },
            "type": "mesh3d"
           }
          ],
          "parcoords": [
           {
            "line": {
             "colorbar": {
              "outlinewidth": 0,
              "ticks": ""
             }
            },
            "type": "parcoords"
           }
          ],
          "pie": [
           {
            "automargin": true,
            "type": "pie"
           }
          ],
          "scatter": [
           {
            "marker": {
             "colorbar": {
              "outlinewidth": 0,
              "ticks": ""
             }
            },
            "type": "scatter"
           }
          ],
          "scatter3d": [
           {
            "line": {
             "colorbar": {
              "outlinewidth": 0,
              "ticks": ""
             }
            },
            "marker": {
             "colorbar": {
              "outlinewidth": 0,
              "ticks": ""
             }
            },
            "type": "scatter3d"
           }
          ],
          "scattercarpet": [
           {
            "marker": {
             "colorbar": {
              "outlinewidth": 0,
              "ticks": ""
             }
            },
            "type": "scattercarpet"
           }
          ],
          "scattergeo": [
           {
            "marker": {
             "colorbar": {
              "outlinewidth": 0,
              "ticks": ""
             }
            },
            "type": "scattergeo"
           }
          ],
          "scattergl": [
           {
            "marker": {
             "colorbar": {
              "outlinewidth": 0,
              "ticks": ""
             }
            },
            "type": "scattergl"
           }
          ],
          "scattermapbox": [
           {
            "marker": {
             "colorbar": {
              "outlinewidth": 0,
              "ticks": ""
             }
            },
            "type": "scattermapbox"
           }
          ],
          "scatterpolar": [
           {
            "marker": {
             "colorbar": {
              "outlinewidth": 0,
              "ticks": ""
             }
            },
            "type": "scatterpolar"
           }
          ],
          "scatterpolargl": [
           {
            "marker": {
             "colorbar": {
              "outlinewidth": 0,
              "ticks": ""
             }
            },
            "type": "scatterpolargl"
           }
          ],
          "scatterternary": [
           {
            "marker": {
             "colorbar": {
              "outlinewidth": 0,
              "ticks": ""
             }
            },
            "type": "scatterternary"
           }
          ],
          "surface": [
           {
            "colorbar": {
             "outlinewidth": 0,
             "ticks": ""
            },
            "colorscale": [
             [
              0,
              "#0d0887"
             ],
             [
              0.1111111111111111,
              "#46039f"
             ],
             [
              0.2222222222222222,
              "#7201a8"
             ],
             [
              0.3333333333333333,
              "#9c179e"
             ],
             [
              0.4444444444444444,
              "#bd3786"
             ],
             [
              0.5555555555555556,
              "#d8576b"
             ],
             [
              0.6666666666666666,
              "#ed7953"
             ],
             [
              0.7777777777777778,
              "#fb9f3a"
             ],
             [
              0.8888888888888888,
              "#fdca26"
             ],
             [
              1,
              "#f0f921"
             ]
            ],
            "type": "surface"
           }
          ],
          "table": [
           {
            "cells": {
             "fill": {
              "color": "#EBF0F8"
             },
             "line": {
              "color": "white"
             }
            },
            "header": {
             "fill": {
              "color": "#C8D4E3"
             },
             "line": {
              "color": "white"
             }
            },
            "type": "table"
           }
          ]
         },
         "layout": {
          "annotationdefaults": {
           "arrowcolor": "#2a3f5f",
           "arrowhead": 0,
           "arrowwidth": 1
          },
          "autotypenumbers": "strict",
          "coloraxis": {
           "colorbar": {
            "outlinewidth": 0,
            "ticks": ""
           }
          },
          "colorscale": {
           "diverging": [
            [
             0,
             "#8e0152"
            ],
            [
             0.1,
             "#c51b7d"
            ],
            [
             0.2,
             "#de77ae"
            ],
            [
             0.3,
             "#f1b6da"
            ],
            [
             0.4,
             "#fde0ef"
            ],
            [
             0.5,
             "#f7f7f7"
            ],
            [
             0.6,
             "#e6f5d0"
            ],
            [
             0.7,
             "#b8e186"
            ],
            [
             0.8,
             "#7fbc41"
            ],
            [
             0.9,
             "#4d9221"
            ],
            [
             1,
             "#276419"
            ]
           ],
           "sequential": [
            [
             0,
             "#0d0887"
            ],
            [
             0.1111111111111111,
             "#46039f"
            ],
            [
             0.2222222222222222,
             "#7201a8"
            ],
            [
             0.3333333333333333,
             "#9c179e"
            ],
            [
             0.4444444444444444,
             "#bd3786"
            ],
            [
             0.5555555555555556,
             "#d8576b"
            ],
            [
             0.6666666666666666,
             "#ed7953"
            ],
            [
             0.7777777777777778,
             "#fb9f3a"
            ],
            [
             0.8888888888888888,
             "#fdca26"
            ],
            [
             1,
             "#f0f921"
            ]
           ],
           "sequentialminus": [
            [
             0,
             "#0d0887"
            ],
            [
             0.1111111111111111,
             "#46039f"
            ],
            [
             0.2222222222222222,
             "#7201a8"
            ],
            [
             0.3333333333333333,
             "#9c179e"
            ],
            [
             0.4444444444444444,
             "#bd3786"
            ],
            [
             0.5555555555555556,
             "#d8576b"
            ],
            [
             0.6666666666666666,
             "#ed7953"
            ],
            [
             0.7777777777777778,
             "#fb9f3a"
            ],
            [
             0.8888888888888888,
             "#fdca26"
            ],
            [
             1,
             "#f0f921"
            ]
           ]
          },
          "colorway": [
           "#636efa",
           "#EF553B",
           "#00cc96",
           "#ab63fa",
           "#FFA15A",
           "#19d3f3",
           "#FF6692",
           "#B6E880",
           "#FF97FF",
           "#FECB52"
          ],
          "font": {
           "color": "#2a3f5f"
          },
          "geo": {
           "bgcolor": "white",
           "lakecolor": "white",
           "landcolor": "#E5ECF6",
           "showlakes": true,
           "showland": true,
           "subunitcolor": "white"
          },
          "hoverlabel": {
           "align": "left"
          },
          "hovermode": "closest",
          "mapbox": {
           "style": "light"
          },
          "paper_bgcolor": "white",
          "plot_bgcolor": "#E5ECF6",
          "polar": {
           "angularaxis": {
            "gridcolor": "white",
            "linecolor": "white",
            "ticks": ""
           },
           "bgcolor": "#E5ECF6",
           "radialaxis": {
            "gridcolor": "white",
            "linecolor": "white",
            "ticks": ""
           }
          },
          "scene": {
           "xaxis": {
            "backgroundcolor": "#E5ECF6",
            "gridcolor": "white",
            "gridwidth": 2,
            "linecolor": "white",
            "showbackground": true,
            "ticks": "",
            "zerolinecolor": "white"
           },
           "yaxis": {
            "backgroundcolor": "#E5ECF6",
            "gridcolor": "white",
            "gridwidth": 2,
            "linecolor": "white",
            "showbackground": true,
            "ticks": "",
            "zerolinecolor": "white"
           },
           "zaxis": {
            "backgroundcolor": "#E5ECF6",
            "gridcolor": "white",
            "gridwidth": 2,
            "linecolor": "white",
            "showbackground": true,
            "ticks": "",
            "zerolinecolor": "white"
           }
          },
          "shapedefaults": {
           "line": {
            "color": "#2a3f5f"
           }
          },
          "ternary": {
           "aaxis": {
            "gridcolor": "white",
            "linecolor": "white",
            "ticks": ""
           },
           "baxis": {
            "gridcolor": "white",
            "linecolor": "white",
            "ticks": ""
           },
           "bgcolor": "#E5ECF6",
           "caxis": {
            "gridcolor": "white",
            "linecolor": "white",
            "ticks": ""
           }
          },
          "title": {
           "x": 0.05
          },
          "xaxis": {
           "automargin": true,
           "gridcolor": "white",
           "linecolor": "white",
           "ticks": "",
           "title": {
            "standoff": 15
           },
           "zerolinecolor": "white",
           "zerolinewidth": 2
          },
          "yaxis": {
           "automargin": true,
           "gridcolor": "white",
           "linecolor": "white",
           "ticks": "",
           "title": {
            "standoff": 15
           },
           "zerolinecolor": "white",
           "zerolinewidth": 2
          }
         }
        },
        "title": {
         "text": "OHLC Chart for SHIB with time interval daily"
        },
        "xaxis": {
         "anchor": "y",
         "domain": [
          0,
          0.94
         ],
         "rangeselector": {
          "buttons": [
           {
            "count": 1,
            "label": "1m",
            "step": "month",
            "stepmode": "backward"
           },
           {
            "count": 6,
            "label": "6m",
            "step": "month",
            "stepmode": "backward"
           },
           {
            "count": 1,
            "label": "YTD",
            "step": "year",
            "stepmode": "todate"
           },
           {
            "count": 1,
            "label": "1y",
            "step": "year",
            "stepmode": "backward"
           },
           {
            "step": "all"
           }
          ]
         },
         "rangeslider": {
          "visible": true
         },
         "tickformat": "%d %b (%a)",
         "type": "date"
        },
        "yaxis": {
         "anchor": "x",
         "domain": [
          0,
          1
         ],
         "range": [
          -0.000003095325855007863,
          8.512991476112463e-7
         ],
         "showgrid": false,
         "showticklabels": false,
         "zeroline": false
        },
        "yaxis2": {
         "anchor": "x",
         "overlaying": "y",
         "side": "right"
        }
       }
      }
     },
     "metadata": {},
     "output_type": "display_data"
    },
    {
     "data": {
      "application/vnd.plotly.v1+json": {
       "config": {
        "plotlyServerURL": "https://plot.ly"
       },
       "data": [
        {
         "close": [
          0.696,
          0.701,
          0.682,
          0.579,
          0.524,
          0.628,
          0.652,
          0.599,
          0.59,
          0.603,
          0.568,
          0.53,
          0.556,
          0.596,
          0.642,
          0.65,
          0.661,
          0.659,
          0.673,
          0.67,
          0.668,
          0.703,
          0.723,
          0.664,
          0.658,
          0.654,
          0.664,
          0.667,
          0.652,
          0.695,
          0.658,
          0.645,
          0.664,
          0.699,
          0.679,
          0.678,
          0.683,
          0.668,
          0.697,
          0.703,
          0.651,
          0.792,
          1.208,
          3.109,
          2.503,
          2.619,
          2.673,
          2.446,
          2.167,
          2.248,
          2.434,
          2.462,
          2.317,
          2.197,
          2.173,
          2.336,
          2.894,
          2.844,
          2.812,
          2.901,
          2.868,
          2.97,
          3.306,
          3.811,
          3.569,
          3.242,
          3.64,
          3.58,
          4.61,
          4.636,
          4.135,
          4.164,
          4.567,
          4.329,
          4.104,
          4.018,
          3.902,
          3.459,
          3.656,
          3.272,
          3.345,
          3.381,
          3.322,
          3.059,
          2.857,
          3.081,
          3.207,
          2.812,
          2.814,
          2.713
         ],
         "decreasing": {
          "line": {
           "color": "gray"
          }
         },
         "high": [
          0.725,
          0.714,
          0.703,
          0.682,
          0.593,
          0.633,
          0.663,
          0.653,
          0.608,
          0.648,
          0.613,
          0.585,
          0.567,
          0.604,
          0.654,
          0.673,
          0.664,
          0.713,
          0.676,
          0.684,
          0.675,
          0.704,
          0.726,
          0.724,
          0.69,
          0.657,
          0.664,
          0.68,
          0.668,
          0.746,
          0.697,
          0.663,
          0.669,
          0.723,
          0.713,
          0.698,
          0.687,
          0.687,
          0.699,
          0.738,
          0.739,
          0.89,
          1.419,
          4.4,
          3.626,
          3.02,
          2.978,
          2.748,
          2.533,
          2.373,
          2.658,
          2.584,
          2.494,
          2.338,
          2.485,
          2.493,
          3.037,
          3.34,
          2.95,
          3.06,
          3.038,
          3.112,
          3.512,
          3.856,
          3.876,
          3.653,
          3.658,
          3.832,
          4.92,
          5.269,
          4.874,
          4.425,
          4.576,
          4.645,
          4.376,
          4.258,
          4.011,
          3.929,
          3.753,
          3.688,
          3.484,
          3.683,
          3.4,
          3.44,
          3.191,
          3.085,
          3.251,
          3.266,
          2.891,
          2.861
         ],
         "increasing": {
          "line": {
           "color": "cyan"
          }
         },
         "low": [
          0.683,
          0.689,
          0.671,
          0.568,
          0.51,
          0.513,
          0.6,
          0.545,
          0.569,
          0.563,
          0.566,
          0.528,
          0.529,
          0.556,
          0.587,
          0.637,
          0.635,
          0.624,
          0.643,
          0.624,
          0.646,
          0.666,
          0.689,
          0.664,
          0.645,
          0.618,
          0.635,
          0.655,
          0.632,
          0.65,
          0.635,
          0.635,
          0.633,
          0.659,
          0.67,
          0.666,
          0.671,
          0.649,
          0.664,
          0.689,
          0.616,
          0.645,
          0.79,
          1.111,
          2.215,
          2.259,
          2.524,
          2.33,
          2.081,
          2.031,
          2.199,
          2.36,
          2.298,
          2.161,
          1.925,
          2.11,
          2.296,
          2.756,
          2.711,
          2.777,
          2.418,
          2.758,
          2.855,
          3.306,
          3.41,
          3.21,
          3.129,
          3.488,
          3.572,
          4.163,
          3.88,
          3.856,
          3.79,
          4.273,
          4,
          3.926,
          3.716,
          3.269,
          2.5,
          3.094,
          2.856,
          3.253,
          3.147,
          3.021,
          2.843,
          2.798,
          3.061,
          2.75,
          2.661,
          2.711
         ],
         "name": "OHLC",
         "open": [
          0.714,
          0.692,
          0.699,
          0.678,
          0.577,
          0.526,
          0.63,
          0.651,
          0.6,
          0.587,
          0.601,
          0.567,
          0.531,
          0.556,
          0.596,
          0.641,
          0.65,
          0.66,
          0.659,
          0.671,
          0.671,
          0.667,
          0.702,
          0.724,
          0.663,
          0.657,
          0.65,
          0.664,
          0.666,
          0.652,
          0.693,
          0.658,
          0.641,
          0.667,
          0.697,
          0.679,
          0.678,
          0.682,
          0.667,
          0.694,
          0.702,
          0.655,
          0.792,
          1.206,
          3.101,
          2.508,
          2.616,
          2.672,
          2.45,
          2.17,
          2.245,
          2.432,
          2.462,
          2.318,
          2.2,
          2.167,
          2.334,
          2.893,
          2.84,
          2.801,
          2.898,
          2.866,
          2.97,
          3.306,
          3.812,
          3.571,
          3.238,
          3.644,
          3.581,
          4.614,
          4.633,
          4.129,
          4.155,
          4.568,
          4.333,
          4.104,
          4.002,
          3.905,
          3.459,
          3.656,
          3.273,
          3.345,
          3.385,
          3.326,
          3.058,
          2.857,
          3.085,
          3.212,
          2.807,
          2.814
         ],
         "type": "ohlc",
         "x": [
          "2021-09-17T00:00:00",
          "2021-09-18T00:00:00",
          "2021-09-19T00:00:00",
          "2021-09-20T00:00:00",
          "2021-09-21T00:00:00",
          "2021-09-22T00:00:00",
          "2021-09-23T00:00:00",
          "2021-09-24T00:00:00",
          "2021-09-25T00:00:00",
          "2021-09-26T00:00:00",
          "2021-09-27T00:00:00",
          "2021-09-28T00:00:00",
          "2021-09-29T00:00:00",
          "2021-09-30T00:00:00",
          "2021-10-01T00:00:00",
          "2021-10-02T00:00:00",
          "2021-10-03T00:00:00",
          "2021-10-04T00:00:00",
          "2021-10-05T00:00:00",
          "2021-10-06T00:00:00",
          "2021-10-07T00:00:00",
          "2021-10-08T00:00:00",
          "2021-10-09T00:00:00",
          "2021-10-10T00:00:00",
          "2021-10-11T00:00:00",
          "2021-10-12T00:00:00",
          "2021-10-13T00:00:00",
          "2021-10-14T00:00:00",
          "2021-10-15T00:00:00",
          "2021-10-16T00:00:00",
          "2021-10-17T00:00:00",
          "2021-10-18T00:00:00",
          "2021-10-19T00:00:00",
          "2021-10-20T00:00:00",
          "2021-10-21T00:00:00",
          "2021-10-22T00:00:00",
          "2021-10-23T00:00:00",
          "2021-10-24T00:00:00",
          "2021-10-25T00:00:00",
          "2021-10-26T00:00:00",
          "2021-10-27T00:00:00",
          "2021-10-28T00:00:00",
          "2021-10-29T00:00:00",
          "2021-10-30T00:00:00",
          "2021-10-31T00:00:00",
          "2021-11-01T00:00:00",
          "2021-11-02T00:00:00",
          "2021-11-03T00:00:00",
          "2021-11-04T00:00:00",
          "2021-11-05T00:00:00",
          "2021-11-06T00:00:00",
          "2021-11-07T00:00:00",
          "2021-11-08T00:00:00",
          "2021-11-09T00:00:00",
          "2021-11-10T00:00:00",
          "2021-11-11T00:00:00",
          "2021-11-12T00:00:00",
          "2021-11-13T00:00:00",
          "2021-11-14T00:00:00",
          "2021-11-15T00:00:00",
          "2021-11-16T00:00:00",
          "2021-11-17T00:00:00",
          "2021-11-18T00:00:00",
          "2021-11-19T00:00:00",
          "2021-11-20T00:00:00",
          "2021-11-21T00:00:00",
          "2021-11-22T00:00:00",
          "2021-11-23T00:00:00",
          "2021-11-24T00:00:00",
          "2021-11-25T00:00:00",
          "2021-11-26T00:00:00",
          "2021-11-27T00:00:00",
          "2021-11-28T00:00:00",
          "2021-11-29T00:00:00",
          "2021-11-30T00:00:00",
          "2021-12-01T00:00:00",
          "2021-12-02T00:00:00",
          "2021-12-03T00:00:00",
          "2021-12-04T00:00:00",
          "2021-12-05T00:00:00",
          "2021-12-06T00:00:00",
          "2021-12-07T00:00:00",
          "2021-12-08T00:00:00",
          "2021-12-09T00:00:00",
          "2021-12-10T00:00:00",
          "2021-12-11T00:00:00",
          "2021-12-12T00:00:00",
          "2021-12-13T00:00:00",
          "2021-12-14T00:00:00",
          "2021-12-15T00:00:00"
         ],
         "xaxis": "x",
         "yaxis": "y2"
        },
        {
         "line": {
          "color": "#A9B1F5"
         },
         "mode": "lines",
         "name": "MACD",
         "type": "scatter",
         "x": [
          "2021-09-17T00:00:00",
          "2021-09-18T00:00:00",
          "2021-09-19T00:00:00",
          "2021-09-20T00:00:00",
          "2021-09-21T00:00:00",
          "2021-09-22T00:00:00",
          "2021-09-23T00:00:00",
          "2021-09-24T00:00:00",
          "2021-09-25T00:00:00",
          "2021-09-26T00:00:00",
          "2021-09-27T00:00:00",
          "2021-09-28T00:00:00",
          "2021-09-29T00:00:00",
          "2021-09-30T00:00:00",
          "2021-10-01T00:00:00",
          "2021-10-02T00:00:00",
          "2021-10-03T00:00:00",
          "2021-10-04T00:00:00",
          "2021-10-05T00:00:00",
          "2021-10-06T00:00:00",
          "2021-10-07T00:00:00",
          "2021-10-08T00:00:00",
          "2021-10-09T00:00:00",
          "2021-10-10T00:00:00",
          "2021-10-11T00:00:00",
          "2021-10-12T00:00:00",
          "2021-10-13T00:00:00",
          "2021-10-14T00:00:00",
          "2021-10-15T00:00:00",
          "2021-10-16T00:00:00",
          "2021-10-17T00:00:00",
          "2021-10-18T00:00:00",
          "2021-10-19T00:00:00",
          "2021-10-20T00:00:00",
          "2021-10-21T00:00:00",
          "2021-10-22T00:00:00",
          "2021-10-23T00:00:00",
          "2021-10-24T00:00:00",
          "2021-10-25T00:00:00",
          "2021-10-26T00:00:00",
          "2021-10-27T00:00:00",
          "2021-10-28T00:00:00",
          "2021-10-29T00:00:00",
          "2021-10-30T00:00:00",
          "2021-10-31T00:00:00",
          "2021-11-01T00:00:00",
          "2021-11-02T00:00:00",
          "2021-11-03T00:00:00",
          "2021-11-04T00:00:00",
          "2021-11-05T00:00:00",
          "2021-11-06T00:00:00",
          "2021-11-07T00:00:00",
          "2021-11-08T00:00:00",
          "2021-11-09T00:00:00",
          "2021-11-10T00:00:00",
          "2021-11-11T00:00:00",
          "2021-11-12T00:00:00",
          "2021-11-13T00:00:00",
          "2021-11-14T00:00:00",
          "2021-11-15T00:00:00",
          "2021-11-16T00:00:00",
          "2021-11-17T00:00:00",
          "2021-11-18T00:00:00",
          "2021-11-19T00:00:00",
          "2021-11-20T00:00:00",
          "2021-11-21T00:00:00",
          "2021-11-22T00:00:00",
          "2021-11-23T00:00:00",
          "2021-11-24T00:00:00",
          "2021-11-25T00:00:00",
          "2021-11-26T00:00:00",
          "2021-11-27T00:00:00",
          "2021-11-28T00:00:00",
          "2021-11-29T00:00:00",
          "2021-11-30T00:00:00",
          "2021-12-01T00:00:00",
          "2021-12-02T00:00:00",
          "2021-12-03T00:00:00",
          "2021-12-04T00:00:00",
          "2021-12-05T00:00:00",
          "2021-12-06T00:00:00",
          "2021-12-07T00:00:00",
          "2021-12-08T00:00:00",
          "2021-12-09T00:00:00",
          "2021-12-10T00:00:00",
          "2021-12-11T00:00:00",
          "2021-12-12T00:00:00",
          "2021-12-13T00:00:00",
          "2021-12-14T00:00:00",
          "2021-12-15T00:00:00"
         ],
         "xaxis": "x",
         "y": [
          0,
          0.00039886039886039004,
          -0.0008088570709653409,
          -0.009962380933980275,
          -0.02140787819492951,
          -0.02183488740855144,
          -0.02000607824647682,
          -0.022573181287626642,
          -0.02504514884080522,
          -0.02565942371761687,
          -0.028640300914918093,
          -0.033680699848246176,
          -0.035171830638195734,
          -0.03274839372846161,
          -0.02680697285925726,
          -0.021208344282424685,
          -0.015702770961175005,
          -0.011369882792547026,
          -0.006728789409234048,
          -0.0032552400130859693,
          -0.0006562455857552774,
          0.0041795049836435005,
          0.009516010358714966,
          0.008882035819426592,
          0.007805479860503506,
          0.006553984680600866,
          0.006296500027621721,
          0.006262328290642438,
          0.0049676088010929265,
          0.007326815938327957,
          0.006140134169058231,
          0.004103387664142533,
          0.0039765533635487404,
          0.006623887705094478,
          0.007027082557244713,
          0.007183123167251337,
          0.007622378651817585,
          0.0066830787761722465,
          0.008184389941679027,
          0.009745993960903032,
          0.006710259286951459,
          0.015503227741411552,
          0.0554008158155167,
          0.2376749852090121,
          0.3294319557001093,
          0.40682067097717867,
          0.46712441461616816,
          0.490939320149665,
          0.48174656157733753,
          0.47551580700839335,
          0.48005278497280024,
          0.48037032856345774,
          0.46357785897136905,
          0.4355657775647881,
          0.4067407476586091,
          0.3925246615764617,
          0.42142630739157183,
          0.43527886400008753,
          0.43861885719479266,
          0.4433368705844356,
          0.4393485691594048,
          0.43935376241148116,
          0.46115436951881783,
          0.5132641970870293,
          0.5289369771238102,
          0.5091029788378254,
          0.5195110658919653,
          0.5169588712376076,
          0.5912332615085516,
          0.6447618207064871,
          0.6393866255401228,
          0.6302022233380984,
          0.647972823056306,
          0.6355255969317533,
          0.6005823217979098,
          0.5595004700913613,
          0.5116841991521408,
          0.43305111851141653,
          0.38222404828279943,
          0.3074139613711151,
          0.25112213873237543,
          0.2070288630042194,
          0.16541699326843595,
          0.10994995010486353,
          0.04912591400685207,
          0.018780861063887766,
          0.004843502079356021,
          -0.037641249285497835,
          -0.0703385188814889,
          -0.10321143928995458
         ],
         "yaxis": "y"
        },
        {
         "line": {
          "color": "#FFD1A3"
         },
         "mode": "lines",
         "name": "MACD Signal",
         "type": "scatter",
         "x": [
          "2021-09-17T00:00:00",
          "2021-09-18T00:00:00",
          "2021-09-19T00:00:00",
          "2021-09-20T00:00:00",
          "2021-09-21T00:00:00",
          "2021-09-22T00:00:00",
          "2021-09-23T00:00:00",
          "2021-09-24T00:00:00",
          "2021-09-25T00:00:00",
          "2021-09-26T00:00:00",
          "2021-09-27T00:00:00",
          "2021-09-28T00:00:00",
          "2021-09-29T00:00:00",
          "2021-09-30T00:00:00",
          "2021-10-01T00:00:00",
          "2021-10-02T00:00:00",
          "2021-10-03T00:00:00",
          "2021-10-04T00:00:00",
          "2021-10-05T00:00:00",
          "2021-10-06T00:00:00",
          "2021-10-07T00:00:00",
          "2021-10-08T00:00:00",
          "2021-10-09T00:00:00",
          "2021-10-10T00:00:00",
          "2021-10-11T00:00:00",
          "2021-10-12T00:00:00",
          "2021-10-13T00:00:00",
          "2021-10-14T00:00:00",
          "2021-10-15T00:00:00",
          "2021-10-16T00:00:00",
          "2021-10-17T00:00:00",
          "2021-10-18T00:00:00",
          "2021-10-19T00:00:00",
          "2021-10-20T00:00:00",
          "2021-10-21T00:00:00",
          "2021-10-22T00:00:00",
          "2021-10-23T00:00:00",
          "2021-10-24T00:00:00",
          "2021-10-25T00:00:00",
          "2021-10-26T00:00:00",
          "2021-10-27T00:00:00",
          "2021-10-28T00:00:00",
          "2021-10-29T00:00:00",
          "2021-10-30T00:00:00",
          "2021-10-31T00:00:00",
          "2021-11-01T00:00:00",
          "2021-11-02T00:00:00",
          "2021-11-03T00:00:00",
          "2021-11-04T00:00:00",
          "2021-11-05T00:00:00",
          "2021-11-06T00:00:00",
          "2021-11-07T00:00:00",
          "2021-11-08T00:00:00",
          "2021-11-09T00:00:00",
          "2021-11-10T00:00:00",
          "2021-11-11T00:00:00",
          "2021-11-12T00:00:00",
          "2021-11-13T00:00:00",
          "2021-11-14T00:00:00",
          "2021-11-15T00:00:00",
          "2021-11-16T00:00:00",
          "2021-11-17T00:00:00",
          "2021-11-18T00:00:00",
          "2021-11-19T00:00:00",
          "2021-11-20T00:00:00",
          "2021-11-21T00:00:00",
          "2021-11-22T00:00:00",
          "2021-11-23T00:00:00",
          "2021-11-24T00:00:00",
          "2021-11-25T00:00:00",
          "2021-11-26T00:00:00",
          "2021-11-27T00:00:00",
          "2021-11-28T00:00:00",
          "2021-11-29T00:00:00",
          "2021-11-30T00:00:00",
          "2021-12-01T00:00:00",
          "2021-12-02T00:00:00",
          "2021-12-03T00:00:00",
          "2021-12-04T00:00:00",
          "2021-12-05T00:00:00",
          "2021-12-06T00:00:00",
          "2021-12-07T00:00:00",
          "2021-12-08T00:00:00",
          "2021-12-09T00:00:00",
          "2021-12-10T00:00:00",
          "2021-12-11T00:00:00",
          "2021-12-12T00:00:00",
          "2021-12-13T00:00:00",
          "2021-12-14T00:00:00",
          "2021-12-15T00:00:00"
         ],
         "xaxis": "x",
         "y": [
          0,
          0.00007977207977207802,
          -0.00009795375037540578,
          -0.0020708391870963797,
          -0.005938246988663005,
          -0.009117575072640691,
          -0.011295275707407917,
          -0.013550856823451665,
          -0.015849715226922377,
          -0.017811656925061276,
          -0.01997738572303264,
          -0.022718048548075347,
          -0.025208804966099424,
          -0.026716722718571864,
          -0.026734772746708945,
          -0.025629487053852096,
          -0.02364414383531668,
          -0.021189291626762752,
          -0.01829719118325701,
          -0.015288800949222804,
          -0.0123622898765293,
          -0.009053930904494741,
          -0.0053399426518528,
          -0.0024955469575969223,
          -0.0004353415939768366,
          0.000962523660938704,
          0.0020293189342753077,
          0.002875920805548734,
          0.0032942584046575726,
          0.004100769911391649,
          0.0045086427629249665,
          0.00442759174316848,
          0.0043373840672445325,
          0.004794684794814522,
          0.00524116434730056,
          0.005629556111290715,
          0.00602812061939609,
          0.006159112250751322,
          0.006564167788936864,
          0.0072005330233300986,
          0.007102478276054371,
          0.008782628169125808,
          0.018106265698403987,
          0.06202000960052561,
          0.11550239882044235,
          0.17376605325178962,
          0.23243772552466535,
          0.2841380444496653,
          0.32365974787519974,
          0.3540309597018385,
          0.3792353247560309,
          0.3994623255175163,
          0.4122854322082869,
          0.4169415012795872,
          0.41490135055539157,
          0.41042601275960566,
          0.41262607168599896,
          0.4171566301488167,
          0.4214490755580119,
          0.42582663456329667,
          0.4285310214825183,
          0.4306955696683109,
          0.4367873296384123,
          0.45208270312813575,
          0.4674535579272706,
          0.4757834421093816,
          0.48452896686589836,
          0.49101494774024024,
          0.5110586104939026,
          0.5377992525364195,
          0.5581167271371601,
          0.5725338263773477,
          0.5876216257131394,
          0.5972024199568622,
          0.5978784003250718,
          0.5902028142783297,
          0.574499091253092,
          0.5462094967047569,
          0.5134124070203655,
          0.47221271789051544,
          0.4279946020588875,
          0.3838014542479539,
          0.3401245620520504,
          0.294089639662613,
          0.2450968945314608,
          0.1998336878379462,
          0.16083565068622818,
          0.12114027069188299,
          0.08284451277720863,
          0.04563332236377599
         ],
         "yaxis": "y"
        }
       ],
       "layout": {
        "hovermode": "x unified",
        "legend": {
         "x": 0.94,
         "xanchor": "right",
         "y": 0.99,
         "yanchor": "top"
        },
        "margin": {
         "b": 100,
         "l": 50,
         "pad": 4,
         "r": 50,
         "t": 100
        },
        "shapes": [
         {
          "line": {
           "color": "#3FFA68",
           "width": 1
          },
          "opacity": 1,
          "type": "rect",
          "x0": "2021-09-17T00:00:00",
          "x1": "2021-09-19T00:00:00",
          "xref": "x",
          "y0": 0,
          "y1": 1,
          "yref": "y domain"
         },
         {
          "line": {
           "color": "#D61170",
           "width": 1
          },
          "opacity": 1,
          "type": "rect",
          "x0": "2021-09-19T00:00:00",
          "x1": "2021-10-02T00:00:00",
          "xref": "x",
          "y0": 0,
          "y1": 1,
          "yref": "y domain"
         },
         {
          "line": {
           "color": "#3FFA68",
           "width": 1
          },
          "opacity": 1,
          "type": "rect",
          "x0": "2021-10-02T00:00:00",
          "x1": "2021-10-18T00:00:00",
          "xref": "x",
          "y0": 0,
          "y1": 1,
          "yref": "y domain"
         },
         {
          "line": {
           "color": "#D61170",
           "width": 1
          },
          "opacity": 1,
          "type": "rect",
          "x0": "2021-10-18T00:00:00",
          "x1": "2021-10-20T00:00:00",
          "xref": "x",
          "y0": 0,
          "y1": 1,
          "yref": "y domain"
         },
         {
          "line": {
           "color": "#3FFA68",
           "width": 1
          },
          "opacity": 1,
          "type": "rect",
          "x0": "2021-10-20T00:00:00",
          "x1": "2021-10-27T00:00:00",
          "xref": "x",
          "y0": 0,
          "y1": 1,
          "yref": "y domain"
         },
         {
          "line": {
           "color": "#D61170",
           "width": 1
          },
          "opacity": 1,
          "type": "rect",
          "x0": "2021-10-27T00:00:00",
          "x1": "2021-10-28T00:00:00",
          "xref": "x",
          "y0": 0,
          "y1": 1,
          "yref": "y domain"
         },
         {
          "line": {
           "color": "#3FFA68",
           "width": 1
          },
          "opacity": 1,
          "type": "rect",
          "x0": "2021-10-28T00:00:00",
          "x1": "2021-11-10T00:00:00",
          "xref": "x",
          "y0": 0,
          "y1": 1,
          "yref": "y domain"
         },
         {
          "line": {
           "color": "#D61170",
           "width": 1
          },
          "opacity": 1,
          "type": "rect",
          "x0": "2021-11-10T00:00:00",
          "x1": "2021-11-12T00:00:00",
          "xref": "x",
          "y0": 0,
          "y1": 1,
          "yref": "y domain"
         },
         {
          "line": {
           "color": "#3FFA68",
           "width": 1
          },
          "opacity": 1,
          "type": "rect",
          "x0": "2021-11-12T00:00:00",
          "x1": "2021-12-01T00:00:00",
          "xref": "x",
          "y0": 0,
          "y1": 1,
          "yref": "y domain"
         },
         {
          "line": {
           "color": "#D61170",
           "width": 1
          },
          "opacity": 1,
          "type": "rect",
          "x0": "2021-12-01T00:00:00",
          "x1": "2021-12-15T15:34:01.692351",
          "xref": "x",
          "y0": 0,
          "y1": 1,
          "yref": "y domain"
         }
        ],
        "template": {
         "data": {
          "bar": [
           {
            "error_x": {
             "color": "#2a3f5f"
            },
            "error_y": {
             "color": "#2a3f5f"
            },
            "marker": {
             "line": {
              "color": "#E5ECF6",
              "width": 0.5
             }
            },
            "type": "bar"
           }
          ],
          "barpolar": [
           {
            "marker": {
             "line": {
              "color": "#E5ECF6",
              "width": 0.5
             }
            },
            "type": "barpolar"
           }
          ],
          "carpet": [
           {
            "aaxis": {
             "endlinecolor": "#2a3f5f",
             "gridcolor": "white",
             "linecolor": "white",
             "minorgridcolor": "white",
             "startlinecolor": "#2a3f5f"
            },
            "baxis": {
             "endlinecolor": "#2a3f5f",
             "gridcolor": "white",
             "linecolor": "white",
             "minorgridcolor": "white",
             "startlinecolor": "#2a3f5f"
            },
            "type": "carpet"
           }
          ],
          "choropleth": [
           {
            "colorbar": {
             "outlinewidth": 0,
             "ticks": ""
            },
            "type": "choropleth"
           }
          ],
          "contour": [
           {
            "colorbar": {
             "outlinewidth": 0,
             "ticks": ""
            },
            "colorscale": [
             [
              0,
              "#0d0887"
             ],
             [
              0.1111111111111111,
              "#46039f"
             ],
             [
              0.2222222222222222,
              "#7201a8"
             ],
             [
              0.3333333333333333,
              "#9c179e"
             ],
             [
              0.4444444444444444,
              "#bd3786"
             ],
             [
              0.5555555555555556,
              "#d8576b"
             ],
             [
              0.6666666666666666,
              "#ed7953"
             ],
             [
              0.7777777777777778,
              "#fb9f3a"
             ],
             [
              0.8888888888888888,
              "#fdca26"
             ],
             [
              1,
              "#f0f921"
             ]
            ],
            "type": "contour"
           }
          ],
          "contourcarpet": [
           {
            "colorbar": {
             "outlinewidth": 0,
             "ticks": ""
            },
            "type": "contourcarpet"
           }
          ],
          "heatmap": [
           {
            "colorbar": {
             "outlinewidth": 0,
             "ticks": ""
            },
            "colorscale": [
             [
              0,
              "#0d0887"
             ],
             [
              0.1111111111111111,
              "#46039f"
             ],
             [
              0.2222222222222222,
              "#7201a8"
             ],
             [
              0.3333333333333333,
              "#9c179e"
             ],
             [
              0.4444444444444444,
              "#bd3786"
             ],
             [
              0.5555555555555556,
              "#d8576b"
             ],
             [
              0.6666666666666666,
              "#ed7953"
             ],
             [
              0.7777777777777778,
              "#fb9f3a"
             ],
             [
              0.8888888888888888,
              "#fdca26"
             ],
             [
              1,
              "#f0f921"
             ]
            ],
            "type": "heatmap"
           }
          ],
          "heatmapgl": [
           {
            "colorbar": {
             "outlinewidth": 0,
             "ticks": ""
            },
            "colorscale": [
             [
              0,
              "#0d0887"
             ],
             [
              0.1111111111111111,
              "#46039f"
             ],
             [
              0.2222222222222222,
              "#7201a8"
             ],
             [
              0.3333333333333333,
              "#9c179e"
             ],
             [
              0.4444444444444444,
              "#bd3786"
             ],
             [
              0.5555555555555556,
              "#d8576b"
             ],
             [
              0.6666666666666666,
              "#ed7953"
             ],
             [
              0.7777777777777778,
              "#fb9f3a"
             ],
             [
              0.8888888888888888,
              "#fdca26"
             ],
             [
              1,
              "#f0f921"
             ]
            ],
            "type": "heatmapgl"
           }
          ],
          "histogram": [
           {
            "marker": {
             "colorbar": {
              "outlinewidth": 0,
              "ticks": ""
             }
            },
            "type": "histogram"
           }
          ],
          "histogram2d": [
           {
            "colorbar": {
             "outlinewidth": 0,
             "ticks": ""
            },
            "colorscale": [
             [
              0,
              "#0d0887"
             ],
             [
              0.1111111111111111,
              "#46039f"
             ],
             [
              0.2222222222222222,
              "#7201a8"
             ],
             [
              0.3333333333333333,
              "#9c179e"
             ],
             [
              0.4444444444444444,
              "#bd3786"
             ],
             [
              0.5555555555555556,
              "#d8576b"
             ],
             [
              0.6666666666666666,
              "#ed7953"
             ],
             [
              0.7777777777777778,
              "#fb9f3a"
             ],
             [
              0.8888888888888888,
              "#fdca26"
             ],
             [
              1,
              "#f0f921"
             ]
            ],
            "type": "histogram2d"
           }
          ],
          "histogram2dcontour": [
           {
            "colorbar": {
             "outlinewidth": 0,
             "ticks": ""
            },
            "colorscale": [
             [
              0,
              "#0d0887"
             ],
             [
              0.1111111111111111,
              "#46039f"
             ],
             [
              0.2222222222222222,
              "#7201a8"
             ],
             [
              0.3333333333333333,
              "#9c179e"
             ],
             [
              0.4444444444444444,
              "#bd3786"
             ],
             [
              0.5555555555555556,
              "#d8576b"
             ],
             [
              0.6666666666666666,
              "#ed7953"
             ],
             [
              0.7777777777777778,
              "#fb9f3a"
             ],
             [
              0.8888888888888888,
              "#fdca26"
             ],
             [
              1,
              "#f0f921"
             ]
            ],
            "type": "histogram2dcontour"
           }
          ],
          "mesh3d": [
           {
            "colorbar": {
             "outlinewidth": 0,
             "ticks": ""
            },
            "type": "mesh3d"
           }
          ],
          "parcoords": [
           {
            "line": {
             "colorbar": {
              "outlinewidth": 0,
              "ticks": ""
             }
            },
            "type": "parcoords"
           }
          ],
          "pie": [
           {
            "automargin": true,
            "type": "pie"
           }
          ],
          "scatter": [
           {
            "marker": {
             "colorbar": {
              "outlinewidth": 0,
              "ticks": ""
             }
            },
            "type": "scatter"
           }
          ],
          "scatter3d": [
           {
            "line": {
             "colorbar": {
              "outlinewidth": 0,
              "ticks": ""
             }
            },
            "marker": {
             "colorbar": {
              "outlinewidth": 0,
              "ticks": ""
             }
            },
            "type": "scatter3d"
           }
          ],
          "scattercarpet": [
           {
            "marker": {
             "colorbar": {
              "outlinewidth": 0,
              "ticks": ""
             }
            },
            "type": "scattercarpet"
           }
          ],
          "scattergeo": [
           {
            "marker": {
             "colorbar": {
              "outlinewidth": 0,
              "ticks": ""
             }
            },
            "type": "scattergeo"
           }
          ],
          "scattergl": [
           {
            "marker": {
             "colorbar": {
              "outlinewidth": 0,
              "ticks": ""
             }
            },
            "type": "scattergl"
           }
          ],
          "scattermapbox": [
           {
            "marker": {
             "colorbar": {
              "outlinewidth": 0,
              "ticks": ""
             }
            },
            "type": "scattermapbox"
           }
          ],
          "scatterpolar": [
           {
            "marker": {
             "colorbar": {
              "outlinewidth": 0,
              "ticks": ""
             }
            },
            "type": "scatterpolar"
           }
          ],
          "scatterpolargl": [
           {
            "marker": {
             "colorbar": {
              "outlinewidth": 0,
              "ticks": ""
             }
            },
            "type": "scatterpolargl"
           }
          ],
          "scatterternary": [
           {
            "marker": {
             "colorbar": {
              "outlinewidth": 0,
              "ticks": ""
             }
            },
            "type": "scatterternary"
           }
          ],
          "surface": [
           {
            "colorbar": {
             "outlinewidth": 0,
             "ticks": ""
            },
            "colorscale": [
             [
              0,
              "#0d0887"
             ],
             [
              0.1111111111111111,
              "#46039f"
             ],
             [
              0.2222222222222222,
              "#7201a8"
             ],
             [
              0.3333333333333333,
              "#9c179e"
             ],
             [
              0.4444444444444444,
              "#bd3786"
             ],
             [
              0.5555555555555556,
              "#d8576b"
             ],
             [
              0.6666666666666666,
              "#ed7953"
             ],
             [
              0.7777777777777778,
              "#fb9f3a"
             ],
             [
              0.8888888888888888,
              "#fdca26"
             ],
             [
              1,
              "#f0f921"
             ]
            ],
            "type": "surface"
           }
          ],
          "table": [
           {
            "cells": {
             "fill": {
              "color": "#EBF0F8"
             },
             "line": {
              "color": "white"
             }
            },
            "header": {
             "fill": {
              "color": "#C8D4E3"
             },
             "line": {
              "color": "white"
             }
            },
            "type": "table"
           }
          ]
         },
         "layout": {
          "annotationdefaults": {
           "arrowcolor": "#2a3f5f",
           "arrowhead": 0,
           "arrowwidth": 1
          },
          "autotypenumbers": "strict",
          "coloraxis": {
           "colorbar": {
            "outlinewidth": 0,
            "ticks": ""
           }
          },
          "colorscale": {
           "diverging": [
            [
             0,
             "#8e0152"
            ],
            [
             0.1,
             "#c51b7d"
            ],
            [
             0.2,
             "#de77ae"
            ],
            [
             0.3,
             "#f1b6da"
            ],
            [
             0.4,
             "#fde0ef"
            ],
            [
             0.5,
             "#f7f7f7"
            ],
            [
             0.6,
             "#e6f5d0"
            ],
            [
             0.7,
             "#b8e186"
            ],
            [
             0.8,
             "#7fbc41"
            ],
            [
             0.9,
             "#4d9221"
            ],
            [
             1,
             "#276419"
            ]
           ],
           "sequential": [
            [
             0,
             "#0d0887"
            ],
            [
             0.1111111111111111,
             "#46039f"
            ],
            [
             0.2222222222222222,
             "#7201a8"
            ],
            [
             0.3333333333333333,
             "#9c179e"
            ],
            [
             0.4444444444444444,
             "#bd3786"
            ],
            [
             0.5555555555555556,
             "#d8576b"
            ],
            [
             0.6666666666666666,
             "#ed7953"
            ],
            [
             0.7777777777777778,
             "#fb9f3a"
            ],
            [
             0.8888888888888888,
             "#fdca26"
            ],
            [
             1,
             "#f0f921"
            ]
           ],
           "sequentialminus": [
            [
             0,
             "#0d0887"
            ],
            [
             0.1111111111111111,
             "#46039f"
            ],
            [
             0.2222222222222222,
             "#7201a8"
            ],
            [
             0.3333333333333333,
             "#9c179e"
            ],
            [
             0.4444444444444444,
             "#bd3786"
            ],
            [
             0.5555555555555556,
             "#d8576b"
            ],
            [
             0.6666666666666666,
             "#ed7953"
            ],
            [
             0.7777777777777778,
             "#fb9f3a"
            ],
            [
             0.8888888888888888,
             "#fdca26"
            ],
            [
             1,
             "#f0f921"
            ]
           ]
          },
          "colorway": [
           "#636efa",
           "#EF553B",
           "#00cc96",
           "#ab63fa",
           "#FFA15A",
           "#19d3f3",
           "#FF6692",
           "#B6E880",
           "#FF97FF",
           "#FECB52"
          ],
          "font": {
           "color": "#2a3f5f"
          },
          "geo": {
           "bgcolor": "white",
           "lakecolor": "white",
           "landcolor": "#E5ECF6",
           "showlakes": true,
           "showland": true,
           "subunitcolor": "white"
          },
          "hoverlabel": {
           "align": "left"
          },
          "hovermode": "closest",
          "mapbox": {
           "style": "light"
          },
          "paper_bgcolor": "white",
          "plot_bgcolor": "#E5ECF6",
          "polar": {
           "angularaxis": {
            "gridcolor": "white",
            "linecolor": "white",
            "ticks": ""
           },
           "bgcolor": "#E5ECF6",
           "radialaxis": {
            "gridcolor": "white",
            "linecolor": "white",
            "ticks": ""
           }
          },
          "scene": {
           "xaxis": {
            "backgroundcolor": "#E5ECF6",
            "gridcolor": "white",
            "gridwidth": 2,
            "linecolor": "white",
            "showbackground": true,
            "ticks": "",
            "zerolinecolor": "white"
           },
           "yaxis": {
            "backgroundcolor": "#E5ECF6",
            "gridcolor": "white",
            "gridwidth": 2,
            "linecolor": "white",
            "showbackground": true,
            "ticks": "",
            "zerolinecolor": "white"
           },
           "zaxis": {
            "backgroundcolor": "#E5ECF6",
            "gridcolor": "white",
            "gridwidth": 2,
            "linecolor": "white",
            "showbackground": true,
            "ticks": "",
            "zerolinecolor": "white"
           }
          },
          "shapedefaults": {
           "line": {
            "color": "#2a3f5f"
           }
          },
          "ternary": {
           "aaxis": {
            "gridcolor": "white",
            "linecolor": "white",
            "ticks": ""
           },
           "baxis": {
            "gridcolor": "white",
            "linecolor": "white",
            "ticks": ""
           },
           "bgcolor": "#E5ECF6",
           "caxis": {
            "gridcolor": "white",
            "linecolor": "white",
            "ticks": ""
           }
          },
          "title": {
           "x": 0.05
          },
          "xaxis": {
           "automargin": true,
           "gridcolor": "white",
           "linecolor": "white",
           "ticks": "",
           "title": {
            "standoff": 15
           },
           "zerolinecolor": "white",
           "zerolinewidth": 2
          },
          "yaxis": {
           "automargin": true,
           "gridcolor": "white",
           "linecolor": "white",
           "ticks": "",
           "title": {
            "standoff": 15
           },
           "zerolinecolor": "white",
           "zerolinewidth": 2
          }
         }
        },
        "title": {
         "text": "OHLC Chart for MANA with time interval daily"
        },
        "xaxis": {
         "anchor": "y",
         "domain": [
          0,
          0.94
         ],
         "rangeselector": {
          "buttons": [
           {
            "count": 1,
            "label": "1m",
            "step": "month",
            "stepmode": "backward"
           },
           {
            "count": 6,
            "label": "6m",
            "step": "month",
            "stepmode": "backward"
           },
           {
            "count": 1,
            "label": "YTD",
            "step": "year",
            "stepmode": "todate"
           },
           {
            "count": 1,
            "label": "1y",
            "step": "year",
            "stepmode": "backward"
           },
           {
            "step": "all"
           }
          ]
         },
         "rangeslider": {
          "visible": true
         },
         "tickformat": "%d %b (%a)",
         "type": "date"
        },
        "yaxis": {
         "anchor": "x",
         "domain": [
          0,
          1
         ],
         "range": [
          -0.10321143928995458,
          0.647972823056306
         ],
         "showgrid": false,
         "showticklabels": false,
         "zeroline": false
        },
        "yaxis2": {
         "anchor": "x",
         "overlaying": "y",
         "side": "right"
        }
       }
      }
     },
     "metadata": {},
     "output_type": "display_data"
    }
   ],
   "source": [
    "granularity = 'daily'\n",
    "for currency in MY_CRYPTO_CURRENCIES:\n",
    "    df_history_for_chart = df_history_enhanced.query(f'granularity == \\'{granularity}\\' and currency == \\'{currency}\\'').copy()\n",
    "    df_history_market_trend_for_chart = df_history_market_trend_intervals.query(f'granularity == \\'{granularity}\\' and currency == \\'{currency}\\'').copy()\n",
    "    macd_min = df_history_for_chart['MACD'].min()\n",
    "    macd_max = df_history_for_chart['MACD'].max()\n",
    "    fig = make_subplots(specs=[[{\"secondary_y\": True}]])\n",
    "    fig.add_trace(go.Ohlc(\n",
    "        x=df_history_for_chart['date'],\n",
    "        open=df_history_for_chart['open'],\n",
    "        high=df_history_for_chart['high'],\n",
    "        low=df_history_for_chart['low'],\n",
    "        close=df_history_for_chart['close'],\n",
    "        increasing_line_color= CANDLE_INCREASE_COLOR,\n",
    "        decreasing_line_color= CANDLE_DECREASE_COLOR,\n",
    "        name='OHLC'),\n",
    "        secondary_y=True),\n",
    "    fig.add_trace(go.Scatter(\n",
    "        x=df_history_for_chart['date'],\n",
    "        y=df_history_for_chart['MACD'],\n",
    "        name='MACD',\n",
    "        line=dict(color=MACD_COLOR),\n",
    "        mode='lines'),\n",
    "        secondary_y=False)\n",
    "    fig.add_trace(go.Scatter(\n",
    "        x=df_history_for_chart['date'],\n",
    "        y=df_history_for_chart['MACD_signal'],\n",
    "        name='MACD Signal',\n",
    "        line=dict(color=MACD_SIGNAL_COLOR),\n",
    "        mode='lines'),\n",
    "        secondary_y=False)\n",
    "    for i in range(df_history_market_trend_for_chart['currency'].count()):\n",
    "        fig.add_vrect(x0=df_history_market_trend_for_chart.iloc[i]['start_date'],\n",
    "            x1=df_history_market_trend_for_chart.iloc[i]['finish_date'],\n",
    "            col=1,\n",
    "            #fillcolor=df_history_market_trend_for_chart.iloc[i]['color'],\n",
    "            line=dict(color=df_history_market_trend_for_chart.iloc[i]['color']),\n",
    "            opacity=1.0,\n",
    "            line_width=1)\n",
    "    fig.update_layout(\n",
    "        title=f'OHLC Chart for {currency} with time interval {granularity}',\n",
    "        hovermode='x unified',\n",
    "        legend=dict(yanchor=\"top\",y=0.99,xanchor=\"right\",x=0.94),\n",
    "        #autosize=False,\n",
    "        #width=900,\n",
    "        #height=600,\n",
    "        template = PLOTLY_TEMPLATE,\n",
    "        yaxis_range=[macd_min,macd_max],\n",
    "        yaxis1_showgrid = False,\n",
    "        yaxis1_showticklabels = False,\n",
    "        yaxis1_zeroline = False,\n",
    "        margin=dict(\n",
    "            l=50,\n",
    "            r=50,\n",
    "            b=100,\n",
    "            t=100,\n",
    "            pad=4\n",
    "        ),\n",
    "        xaxis=dict(\n",
    "            rangeselector=dict(\n",
    "                buttons=list([\n",
    "                    dict(count=1,\n",
    "                        label=\"1m\",\n",
    "                        step=\"month\",\n",
    "                        stepmode=\"backward\"),\n",
    "                    dict(count=6,\n",
    "                        label=\"6m\",\n",
    "                        step=\"month\",\n",
    "                        stepmode=\"backward\"),\n",
    "                    dict(count=1,\n",
    "                        label=\"YTD\",\n",
    "                        step=\"year\",\n",
    "                        stepmode=\"todate\"),\n",
    "                    dict(count=1,\n",
    "                        label=\"1y\",\n",
    "                        step=\"year\",\n",
    "                        stepmode=\"backward\"),\n",
    "                    dict(step=\"all\")\n",
    "                ])\n",
    "            ),\n",
    "            rangeslider=dict(visible=True),\n",
    "            type=\"date\"\n",
    "        )\n",
    "    )\n",
    "    if granularity == 'daily':\n",
    "        fig.update_layout(xaxis_tickformat = '%d %b (%a)')\n",
    "    else:\n",
    "        fig.update_layout(xaxis_tickformat = '%d %b %H:%M')\n",
    "    fig.show()"
   ]
  }
 ],
 "metadata": {
  "interpreter": {
   "hash": "40d3a090f54c6569ab1632332b64b2c03c39dcf918b08424e98f38b5ae0af88f"
  },
  "kernelspec": {
   "display_name": "Python 3.8.3 64-bit ('base': conda)",
   "language": "python",
   "name": "python3"
  },
  "language_info": {
   "codemirror_mode": {
    "name": "ipython",
    "version": 3
   },
   "file_extension": ".py",
   "mimetype": "text/x-python",
   "name": "python",
   "nbconvert_exporter": "python",
   "pygments_lexer": "ipython3",
   "version": "3.8.3"
  },
  "orig_nbformat": 4
 },
 "nbformat": 4,
 "nbformat_minor": 2
}
